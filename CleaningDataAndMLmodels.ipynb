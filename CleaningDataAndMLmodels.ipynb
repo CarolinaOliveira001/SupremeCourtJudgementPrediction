{
 "cells": [
  {
   "cell_type": "code",
   "execution_count": 2,
   "metadata": {},
   "outputs": [
    {
     "name": "stdout",
     "output_type": "stream",
     "text": [
      "Collecting nltk\n",
      "  Using cached nltk-3.8-py3-none-any.whl (1.5 MB)\n",
      "Collecting regex>=2021.8.3\n",
      "  Using cached regex-2022.10.31-cp38-cp38-macosx_10_9_x86_64.whl (294 kB)\n",
      "Requirement already satisfied: click in /opt/anaconda3/lib/python3.8/site-packages (from nltk) (8.0.4)\n",
      "Requirement already satisfied: tqdm in /opt/anaconda3/lib/python3.8/site-packages (from nltk) (4.64.1)\n",
      "Collecting joblib\n",
      "  Using cached joblib-1.2.0-py3-none-any.whl (297 kB)\n",
      "Installing collected packages: regex, joblib, nltk\n",
      "Successfully installed joblib-1.2.0 nltk-3.8 regex-2022.10.31\n",
      "Note: you may need to restart the kernel to use updated packages.\n"
     ]
    }
   ],
   "source": [
    "pip install nltk"
   ]
  },
  {
   "cell_type": "code",
   "execution_count": null,
   "metadata": {},
   "outputs": [],
   "source": [
    "pip install matplotlib"
   ]
  },
  {
   "cell_type": "code",
   "execution_count": 83,
   "metadata": {},
   "outputs": [],
   "source": [
    "import nltk.stem\n",
    "import re\n",
    "import pandas as pd\n",
    "from nltk.corpus import stopwords\n",
    "from nltk import word_tokenize, pos_tag\n",
    "import matplotlib.pyplot as plt\n",
    "from nltk.stem import WordNetLemmatizer"
   ]
  },
  {
   "cell_type": "code",
   "execution_count": 87,
   "metadata": {},
   "outputs": [
    {
     "name": "stdout",
     "output_type": "stream",
     "text": [
      "showing info https://raw.githubusercontent.com/nltk/nltk_data/gh-pages/index.xml\n"
     ]
    },
    {
     "data": {
      "text/plain": [
       "True"
      ]
     },
     "execution_count": 87,
     "metadata": {},
     "output_type": "execute_result"
    }
   ],
   "source": [
    "nltk.download()"
   ]
  },
  {
   "cell_type": "code",
   "execution_count": 73,
   "metadata": {},
   "outputs": [
    {
     "name": "stderr",
     "output_type": "stream",
     "text": [
      "[nltk_data] Downloading package wordnet to\n",
      "[nltk_data]     /Users/carolina/nltk_data...\n",
      "[nltk_data]   Package wordnet is already up-to-date!\n"
     ]
    },
    {
     "data": {
      "text/plain": [
       "True"
      ]
     },
     "execution_count": 73,
     "metadata": {},
     "output_type": "execute_result"
    }
   ],
   "source": [
    "nltk.download('wordnet')"
   ]
  },
  {
   "cell_type": "code",
   "execution_count": 45,
   "metadata": {},
   "outputs": [
    {
     "data": {
      "text/html": [
       "<div>\n",
       "<style scoped>\n",
       "    .dataframe tbody tr th:only-of-type {\n",
       "        vertical-align: middle;\n",
       "    }\n",
       "\n",
       "    .dataframe tbody tr th {\n",
       "        vertical-align: top;\n",
       "    }\n",
       "\n",
       "    .dataframe thead th {\n",
       "        text-align: right;\n",
       "    }\n",
       "</style>\n",
       "<table border=\"1\" class=\"dataframe\">\n",
       "  <thead>\n",
       "    <tr style=\"text-align: right;\">\n",
       "      <th></th>\n",
       "      <th>ID</th>\n",
       "      <th>facts</th>\n",
       "      <th>issue_area</th>\n",
       "      <th>first_party_winner</th>\n",
       "    </tr>\n",
       "  </thead>\n",
       "  <tbody>\n",
       "    <tr>\n",
       "      <th>0</th>\n",
       "      <td>50606</td>\n",
       "      <td>&lt;p&gt;In 1970, Jane Roe (a fictional name used in...</td>\n",
       "      <td>3</td>\n",
       "      <td>1</td>\n",
       "    </tr>\n",
       "    <tr>\n",
       "      <th>1</th>\n",
       "      <td>50613</td>\n",
       "      <td>&lt;p&gt;Joan Stanley had three children with Peter ...</td>\n",
       "      <td>0</td>\n",
       "      <td>1</td>\n",
       "    </tr>\n",
       "    <tr>\n",
       "      <th>2</th>\n",
       "      <td>50623</td>\n",
       "      <td>&lt;p&gt;John Giglio was convicted of passing forged...</td>\n",
       "      <td>1</td>\n",
       "      <td>1</td>\n",
       "    </tr>\n",
       "    <tr>\n",
       "      <th>3</th>\n",
       "      <td>50632</td>\n",
       "      <td>&lt;p&gt;The Idaho Probate Code specified that \"\"\"\"m...</td>\n",
       "      <td>0</td>\n",
       "      <td>1</td>\n",
       "    </tr>\n",
       "    <tr>\n",
       "      <th>4</th>\n",
       "      <td>50643</td>\n",
       "      <td>&lt;p&gt;Miller, after conducting a mass mailing cam...</td>\n",
       "      <td>2</td>\n",
       "      <td>1</td>\n",
       "    </tr>\n",
       "    <tr>\n",
       "      <th>...</th>\n",
       "      <td>...</td>\n",
       "      <td>...</td>\n",
       "      <td>...</td>\n",
       "      <td>...</td>\n",
       "    </tr>\n",
       "    <tr>\n",
       "      <th>3283</th>\n",
       "      <td>63323</td>\n",
       "      <td>&lt;p&gt;Tarahrick Terry pleaded guilty to one count...</td>\n",
       "      <td>3</td>\n",
       "      <td>0</td>\n",
       "    </tr>\n",
       "    <tr>\n",
       "      <th>3284</th>\n",
       "      <td>63324</td>\n",
       "      <td>&lt;p&gt;Refugio Palomar-Santiago, a Mexican nationa...</td>\n",
       "      <td>3</td>\n",
       "      <td>1</td>\n",
       "    </tr>\n",
       "    <tr>\n",
       "      <th>3285</th>\n",
       "      <td>63331</td>\n",
       "      <td>&lt;p&gt;Joshua James Cooley was parked in his picku...</td>\n",
       "      <td>0</td>\n",
       "      <td>1</td>\n",
       "    </tr>\n",
       "    <tr>\n",
       "      <th>3286</th>\n",
       "      <td>63332</td>\n",
       "      <td>&lt;p&gt;This is an ongoing case of original jurisdi...</td>\n",
       "      <td>3</td>\n",
       "      <td>0</td>\n",
       "    </tr>\n",
       "    <tr>\n",
       "      <th>3287</th>\n",
       "      <td>63335</td>\n",
       "      <td>&lt;p&gt;The Natural Gas Act (NGA), 15 U.S.C. §§ 717...</td>\n",
       "      <td>1</td>\n",
       "      <td>1</td>\n",
       "    </tr>\n",
       "  </tbody>\n",
       "</table>\n",
       "<p>3288 rows × 4 columns</p>\n",
       "</div>"
      ],
      "text/plain": [
       "         ID                                              facts  issue_area  \\\n",
       "0     50606  <p>In 1970, Jane Roe (a fictional name used in...           3   \n",
       "1     50613  <p>Joan Stanley had three children with Peter ...           0   \n",
       "2     50623  <p>John Giglio was convicted of passing forged...           1   \n",
       "3     50632  <p>The Idaho Probate Code specified that \"\"\"\"m...           0   \n",
       "4     50643  <p>Miller, after conducting a mass mailing cam...           2   \n",
       "...     ...                                                ...         ...   \n",
       "3283  63323  <p>Tarahrick Terry pleaded guilty to one count...           3   \n",
       "3284  63324  <p>Refugio Palomar-Santiago, a Mexican nationa...           3   \n",
       "3285  63331  <p>Joshua James Cooley was parked in his picku...           0   \n",
       "3286  63332  <p>This is an ongoing case of original jurisdi...           3   \n",
       "3287  63335  <p>The Natural Gas Act (NGA), 15 U.S.C. §§ 717...           1   \n",
       "\n",
       "      first_party_winner  \n",
       "0                      1  \n",
       "1                      1  \n",
       "2                      1  \n",
       "3                      1  \n",
       "4                      1  \n",
       "...                  ...  \n",
       "3283                   0  \n",
       "3284                   1  \n",
       "3285                   1  \n",
       "3286                   0  \n",
       "3287                   1  \n",
       "\n",
       "[3288 rows x 4 columns]"
      ]
     },
     "execution_count": 45,
     "metadata": {},
     "output_type": "execute_result"
    }
   ],
   "source": [
    "mainDf = pd.read_csv(\"mainJustice.csv\")\n",
    "mainDf = mainDf.drop(['Unnamed: 0'], axis=1)\n",
    "mainDf"
   ]
  },
  {
   "cell_type": "code",
   "execution_count": 46,
   "metadata": {},
   "outputs": [],
   "source": [
    "documents = []\n",
    "X = mainDf[\"facts\"]\n",
    "\n",
    "for i in range(0, len(X)):\n",
    "  document = re.sub(r\"\\W\", \" \", str(X[i]))\n",
    "  document = re.sub(r\"\\d+\", \" \", document)\n",
    "  document = re.sub(r'\\b\\w{1,1}\\b', \" \", document)\n",
    "  document = re.sub(\" \\d+\", \" \", document)\n",
    "  document = re.sub(r\"\\s+\", \" \", document, flags=re.I)\n",
    "  document = document.lower()\n",
    "  documents.append(document)"
   ]
  },
  {
   "cell_type": "code",
   "execution_count": 47,
   "metadata": {},
   "outputs": [],
   "source": [
    "tokenDocuments = []\n",
    "for i in range(0, len(X)):\n",
    "    tokenDocuments.append(word_tokenize(documents[i]))"
   ]
  },
  {
   "cell_type": "code",
   "execution_count": 48,
   "metadata": {},
   "outputs": [],
   "source": [
    "stop_words = stopwords.words(\"english\")"
   ]
  },
  {
   "cell_type": "code",
   "execution_count": 49,
   "metadata": {},
   "outputs": [],
   "source": [
    "cleanTokenDocuments = []\n",
    "\n",
    "for i in range(0, len(X)):\n",
    "    cleanTokenDocument = []\n",
    "    for word in tokenDocuments[i]:\n",
    "        if word not in stop_words:\n",
    "            cleanTokenDocument.append(word)\n",
    "    cleanTokenDocuments.append(cleanTokenDocument)"
   ]
  },
  {
   "cell_type": "code",
   "execution_count": 50,
   "metadata": {},
   "outputs": [
    {
     "name": "stderr",
     "output_type": "stream",
     "text": [
      "/var/folders/ws/5cwbl8gj2ql8jp5jlbsm15g00000gn/T/ipykernel_46910/2850290269.py:2: SettingWithCopyWarning: \n",
      "A value is trying to be set on a copy of a slice from a DataFrame\n",
      "\n",
      "See the caveats in the documentation: https://pandas.pydata.org/pandas-docs/stable/user_guide/indexing.html#returning-a-view-versus-a-copy\n",
      "  mainDf[\"facts\"][i] = cleanTokenDocuments[i]\n"
     ]
    }
   ],
   "source": [
    "for i in range(0, len(X)):\n",
    "    mainDf[\"facts\"][i] = cleanTokenDocuments[i]"
   ]
  },
  {
   "cell_type": "code",
   "execution_count": 51,
   "metadata": {},
   "outputs": [
    {
     "data": {
      "image/png": "[encoded data removed]",
      "text/plain": [
       "<Figure size 640x480 with 1 Axes>"
      ]
     },
     "metadata": {},
     "output_type": "display_data"
    }
   ],
   "source": [
    "max_size = mainDf[\"first_party_winner\"].value_counts().max() \n",
    "lst = [mainDf]\n",
    "for class_index, group in mainDf.groupby('first_party_winner'):\n",
    "    lst.append(group.sample(max_size-len(group), replace=True))\n",
    "balancedMainDf = pd.concat(lst)\n",
    "balancedMainDf.index = range(len(balancedMainDf))\n",
    "plt.hist(balancedMainDf[\"first_party_winner\"])\n",
    "plt.show()"
   ]
  },
  {
   "cell_type": "code",
   "execution_count": 52,
   "metadata": {},
   "outputs": [
    {
     "data": {
      "text/plain": [
       "4280"
      ]
     },
     "execution_count": 52,
     "metadata": {},
     "output_type": "execute_result"
    }
   ],
   "source": [
    "len(balancedMainDf)"
   ]
  },
  {
   "cell_type": "code",
   "execution_count": 74,
   "metadata": {},
   "outputs": [],
   "source": [
    "lemma = WordNetLemmatizer()\n",
    "\n",
    "mainDf[\"lemma\"] = mainDf[\"facts\"].apply(lambda x: [lemma.lemmatize(y) for y in x])"
   ]
  },
  {
   "cell_type": "code",
   "execution_count": 89,
   "metadata": {},
   "outputs": [
    {
     "name": "stderr",
     "output_type": "stream",
     "text": [
      "/var/folders/ws/5cwbl8gj2ql8jp5jlbsm15g00000gn/T/ipykernel_46910/4046372003.py:2: SettingWithCopyWarning: \n",
      "A value is trying to be set on a copy of a slice from a DataFrame\n",
      "\n",
      "See the caveats in the documentation: https://pandas.pydata.org/pandas-docs/stable/user_guide/indexing.html#returning-a-view-versus-a-copy\n",
      "  mainDf[\"lemma\"][i] = nltk.pos_tag(mainDf[\"lemma\"][i])\n"
     ]
    }
   ],
   "source": [
    "for i in range(0, len(mainDf[\"lemma\"])):\n",
    "    mainDf[\"lemma\"][i] = nltk.pos_tag(mainDf[\"lemma\"][i])"
   ]
  },
  {
   "cell_type": "code",
   "execution_count": 53,
   "metadata": {},
   "outputs": [],
   "source": [
    "minuBetweenWords = 200000\n",
    "maxBetweenWords = 0\n",
    "for i in mainDf[\"facts\"]:\n",
    "    if len(i) <= minuBetweenWords:\n",
    "        minuBetweenWords = len(i)\n",
    "    if len(i) >= maxBetweenWords:\n",
    "        maxBetweenWords = len(i)"
   ]
  },
  {
   "cell_type": "code",
   "execution_count": 58,
   "metadata": {},
   "outputs": [
    {
     "data": {
      "text/plain": [
       "2"
      ]
     },
     "execution_count": 58,
     "metadata": {},
     "output_type": "execute_result"
    }
   ],
   "source": [
    "minuBetweenWords"
   ]
  },
  {
   "cell_type": "code",
   "execution_count": 57,
   "metadata": {},
   "outputs": [
    {
     "name": "stdout",
     "output_type": "stream",
     "text": [
      "['august', 'joel', 'perez', 'carlos', 'cruz', 'drove', 'shell', 'station', 'arlington', 'heights', 'illinois', 'cruz', 'wheel', 'met', 'alejandro', 'diaz', 'working', 'drug', 'enforcement', 'agency', 'dea', 'officials', 'diaz', 'instructed', 'meet', 'different', 'location', 'complete', 'deal', 'instead', 'perez', 'walked', 'nearby', 'denny', 'alexander', 'vasquez', 'waited', 'driver', 'seat', 'black', 'pontiac', 'bonneville', 'perez', 'got', 'passenger', 'seat', 'bonneville', 'called', 'cruz', 'telling', 'willing', 'follow', 'diaz', 'cruz', 'walked', 'denny', 'introduced', 'vasquez', 'diaz', 'called', 'cruz', 'ask', 'following', 'cruz', 'informed', 'wanted', 'complete', 'deal', 'denny', 'parking', 'lot', 'telling', 'got', 'money', 'vasquez', 'echoed', 'statement', 'diaz', 'contacted', 'dea', 'handler', 'agent', 'james', 'chupik', 'law', 'enforcement', 'agents', 'surrounded', 'parking', 'lot', 'vehicles', 'several', 'officers', 'approached', 'bonneville', 'arrest', 'vasquez', 'cruz', 'perez', 'cruz', 'outside', 'car', 'raised', 'hands', 'surrender', 'vasquez', 'however', 'immediately', 'put', 'bonneville', 'reverse', 'striking', 'two', 'squad', 'cars', 'shifted', 'gears', 'headed', 'agent', 'agent', 'chupik', 'stepped', 'front', 'bonneville', 'commanded', 'vasquez', 'stop', 'forced', 'dive', 'way', 'bonneville', 'headed', 'west', 'eastbound', 'lanes', 'algonquin', 'road', 'several', 'minutes', 'later', 'police', 'found', 'bonneville', 'abandoned', 'walmart', 'parking', 'lot', 'bystander', 'told', 'police', 'saw', 'two', 'men', 'run', 'vehicle', 'mcdonald', 'vasquez', 'perez', 'ran', 'mcdonald', 'kitchen', 'split', 'arlington', 'heights', 'police', 'officers', 'quickly', 'apprehended', 'however', 'found', 'cell', 'phone', 'vasquez', 'several', 'cell', 'phones', 'ground', 'near', 'perez', 'records', 'indicated', 'several', 'calls', 'vasquez', 'cell', 'phone', 'phones', 'apparently', 'belonging', 'perez', 'police', 'impounded', 'bonneville', 'later', 'found', 'cash', 'hidden', 'secret', 'compartment', 'federal', 'grand', 'jury', 'indicted', 'vasquez', 'conspiracy', 'possess', 'intent', 'distribute', 'grams', 'cocaine', 'attempting', 'possess', 'intent', 'distribute', 'grams', 'cocaine', 'trial', 'agent', 'chupik', 'testified', 'instructed', 'diaz', 'cruz', 'customers', 'meet', 'diaz', 'gas', 'station', 'arlington', 'heights', 'transcript', 'call', 'cruz', 'diaz', 'however', 'cruz', 'referred', 'single', 'customer', 'vasquez', 'counsel', 'attempted', 'impeach', 'agent', 'chupik', 'point', 'judge', 'found', 'difference', 'trivial', 'limiting', 'vasquez', 'right', 'cross', 'examination', 'refresh', 'agent', 'chupik', 'memory', 'transcript', 'government', 'introduced', 'vasquez', 'previous', 'drug', 'conviction', 'evidence', 'demonstrate', 'vasquez', 'intent', 'convicted', 'dealing', 'drugs', 'perez', 'vasquez', 'called', 'perez', 'wife', 'marina', 'witness', 'testify', 'marina', 'perez', 'testified', 'called', 'vasquez', 'events', 'question', 'ask', 'pick', 'joel', 'perez', 'site', 'failed', 'drug', 'deal', 'implying', 'vasquez', 'coincidence', 'response', 'government', 'introduced', 'transcripts', 'audio', 'recordings', 'conversations', 'marina', 'perez', 'husband', 'evidence', 'bias', 'indicated', 'marina', 'perez', 'spoke', 'husband', 'possible', 'plea', 'deal', 'marina', 'perez', 'also', 'mentioned', 'vasquez', 'attorney', 'told', 'everybody', 'going', 'lose', 'trial', 'judge', 'allowed', 'transcripts', 'recordings', 'admitted', 'show', 'marina', 'perez', 'bias', 'truth', 'contents', 'jury', 'found', 'vasquez', 'guilty', 'charge', 'conspiracy', 'guilty', 'charge', 'attempting', 'possess', 'cocaine', 'court', 'appeals', 'seventh', 'circuit', 'held', 'vasquez', 'previous', 'drug', 'conviction', 'properly', 'introduced', 'evidence', 'court', 'rejected', 'vasquez', 'claim', 'police', 'search', 'bonneville', 'violated', 'fourth', 'amendment', 'rights', 'noting', 'vasquez', 'abandoned', 'car', 'police', 'probable', 'cause', 'believe', 'money', 'drug', 'transaction', 'bonneville', 'court', 'also', 'rejected', 'vasquez', 'claim', 'trial', 'court', 'violated', 'sixth', 'amendment', 'right', 'elicit', 'testimony', 'cross', 'examination', 'agent', 'chupik', 'trial', 'court', 'found', 'distinction', 'customers', 'customer', 'trivial', 'court', 'held', 'finding', 'within', 'trial', 'court', 'discretion', 'split', 'decision', 'court', 'turned', 'testimony', 'marina', 'perez', 'holding', 'evidence', 'conversations', 'marina', 'perez', 'vasquez', 'counsel', 'properly', 'admitted', 'show', 'bias', 'inconsistency', 'prior', 'statements', 'noting', 'judge', 'improperly', 'instructed', 'jury', 'recordings', 'could', 'considered', 'evidence', 'truthfulness', 'contents', 'held', 'instruction', 'harmless', 'error', 'pointed', 'overwhelming', 'evidence', 'vasquez', 'guilt', 'including', 'attempt', 'escape', 'capture', 'previous', 'conviction', 'drug', 'dealing', 'held', 'jury', 'would', 'convicted', 'vasquez', 'absent', 'introduction', 'transcripts', 'recordings', 'question', 'judge', 'david', 'hamilton', 'dissented', 'point', 'alone', 'describing', 'recordings', 'prejudicial', 'inadmissible', 'reminded', 'majority', 'error', 'harmless', 'court', 'convinced', 'vasquez', 'would', 'convicted', 'absent', 'error', 'used', 'different', 'test', 'majority', 'looking', 'whether', 'error', 'contributed', 'conviction', 'noted', 'vasquez', 'never', 'directly', 'recorded', 'mentioned', 'name', 'recordings', 'government', 'agents', 'aware', 'involvement', 'arrest', 'judge', 'hamilton', 'argued', 'marina', 'perez', 'testimony', 'vasquez', 'thus', 'plausible', 'evidence', 'innocence', 'without', 'recordings', 'record']\n"
     ]
    }
   ],
   "source": [
    "for i in mainDf[\"facts\"]:\n",
    "    if len(i) >= 534:\n",
    "        print(i)\n"
   ]
  },
  {
   "cell_type": "code",
   "execution_count": 56,
   "metadata": {},
   "outputs": [
    {
     "data": {
      "text/plain": [
       "' am in  bank.'"
      ]
     },
     "execution_count": 56,
     "metadata": {},
     "output_type": "execute_result"
    }
   ],
   "source": [
    "re.sub(r'\\b\\w{1,1}\\b', '', 'I am in a bank.')"
   ]
  }
 ],
 "metadata": {
  "kernelspec": {
   "display_name": "Python 3.8.12 ('base')",
   "language": "python",
   "name": "python3"
  },
  "language_info": {
   "codemirror_mode": {
    "name": "ipython",
    "version": 3
   },
   "file_extension": ".py",
   "mimetype": "text/x-python",
   "name": "python",
   "nbconvert_exporter": "python",
   "pygments_lexer": "ipython3",
   "version": "3.8.12"
  },
  "orig_nbformat": 4,
  "vscode": {
   "interpreter": {
    "hash": "40d3a090f54c6569ab1632332b64b2c03c39dcf918b08424e98f38b5ae0af88f"
   }
  }
 },
 "nbformat": 4,
 "nbformat_minor": 2
}
