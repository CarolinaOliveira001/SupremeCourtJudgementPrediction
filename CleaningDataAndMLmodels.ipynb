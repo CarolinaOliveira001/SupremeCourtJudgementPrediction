{
 "cells": [
  {
   "cell_type": "code",
   "execution_count": 33,
   "metadata": {},
   "outputs": [],
   "source": [
    "import nltk.stem\n",
    "import re\n",
    "import pandas as pd\n",
    "from nltk.corpus import stopwords\n",
    "from nltk import word_tokenize, pos_tag\n",
    "import matplotlib.pyplot as plt\n",
    "from nltk.stem import WordNetLemmatizer, PorterStemmer\n",
    "import numpy as np"
   ]
  },
  {
   "cell_type": "code",
   "execution_count": 34,
   "metadata": {},
   "outputs": [
    {
     "data": {
      "text/html": [
       "<div>\n",
       "<style scoped>\n",
       "    .dataframe tbody tr th:only-of-type {\n",
       "        vertical-align: middle;\n",
       "    }\n",
       "\n",
       "    .dataframe tbody tr th {\n",
       "        vertical-align: top;\n",
       "    }\n",
       "\n",
       "    .dataframe thead th {\n",
       "        text-align: right;\n",
       "    }\n",
       "</style>\n",
       "<table border=\"1\" class=\"dataframe\">\n",
       "  <thead>\n",
       "    <tr style=\"text-align: right;\">\n",
       "      <th></th>\n",
       "      <th>ID</th>\n",
       "      <th>facts</th>\n",
       "      <th>issue_area</th>\n",
       "      <th>first_party_winner</th>\n",
       "    </tr>\n",
       "  </thead>\n",
       "  <tbody>\n",
       "    <tr>\n",
       "      <th>0</th>\n",
       "      <td>50606</td>\n",
       "      <td>&lt;p&gt;In 1970, Jane Roe (a fictional name used in...</td>\n",
       "      <td>3</td>\n",
       "      <td>1</td>\n",
       "    </tr>\n",
       "    <tr>\n",
       "      <th>1</th>\n",
       "      <td>50613</td>\n",
       "      <td>&lt;p&gt;Joan Stanley had three children with Peter ...</td>\n",
       "      <td>0</td>\n",
       "      <td>1</td>\n",
       "    </tr>\n",
       "    <tr>\n",
       "      <th>2</th>\n",
       "      <td>50623</td>\n",
       "      <td>&lt;p&gt;John Giglio was convicted of passing forged...</td>\n",
       "      <td>1</td>\n",
       "      <td>1</td>\n",
       "    </tr>\n",
       "    <tr>\n",
       "      <th>3</th>\n",
       "      <td>50632</td>\n",
       "      <td>&lt;p&gt;The Idaho Probate Code specified that \"\"\"\"m...</td>\n",
       "      <td>0</td>\n",
       "      <td>1</td>\n",
       "    </tr>\n",
       "    <tr>\n",
       "      <th>4</th>\n",
       "      <td>50643</td>\n",
       "      <td>&lt;p&gt;Miller, after conducting a mass mailing cam...</td>\n",
       "      <td>2</td>\n",
       "      <td>1</td>\n",
       "    </tr>\n",
       "    <tr>\n",
       "      <th>...</th>\n",
       "      <td>...</td>\n",
       "      <td>...</td>\n",
       "      <td>...</td>\n",
       "      <td>...</td>\n",
       "    </tr>\n",
       "    <tr>\n",
       "      <th>3283</th>\n",
       "      <td>63323</td>\n",
       "      <td>&lt;p&gt;Tarahrick Terry pleaded guilty to one count...</td>\n",
       "      <td>3</td>\n",
       "      <td>0</td>\n",
       "    </tr>\n",
       "    <tr>\n",
       "      <th>3284</th>\n",
       "      <td>63324</td>\n",
       "      <td>&lt;p&gt;Refugio Palomar-Santiago, a Mexican nationa...</td>\n",
       "      <td>3</td>\n",
       "      <td>1</td>\n",
       "    </tr>\n",
       "    <tr>\n",
       "      <th>3285</th>\n",
       "      <td>63331</td>\n",
       "      <td>&lt;p&gt;Joshua James Cooley was parked in his picku...</td>\n",
       "      <td>0</td>\n",
       "      <td>1</td>\n",
       "    </tr>\n",
       "    <tr>\n",
       "      <th>3286</th>\n",
       "      <td>63332</td>\n",
       "      <td>&lt;p&gt;This is an ongoing case of original jurisdi...</td>\n",
       "      <td>3</td>\n",
       "      <td>0</td>\n",
       "    </tr>\n",
       "    <tr>\n",
       "      <th>3287</th>\n",
       "      <td>63335</td>\n",
       "      <td>&lt;p&gt;The Natural Gas Act (NGA), 15 U.S.C. §§ 717...</td>\n",
       "      <td>1</td>\n",
       "      <td>1</td>\n",
       "    </tr>\n",
       "  </tbody>\n",
       "</table>\n",
       "<p>3288 rows × 4 columns</p>\n",
       "</div>"
      ],
      "text/plain": [
       "         ID                                              facts  issue_area  \\\n",
       "0     50606  <p>In 1970, Jane Roe (a fictional name used in...           3   \n",
       "1     50613  <p>Joan Stanley had three children with Peter ...           0   \n",
       "2     50623  <p>John Giglio was convicted of passing forged...           1   \n",
       "3     50632  <p>The Idaho Probate Code specified that \"\"\"\"m...           0   \n",
       "4     50643  <p>Miller, after conducting a mass mailing cam...           2   \n",
       "...     ...                                                ...         ...   \n",
       "3283  63323  <p>Tarahrick Terry pleaded guilty to one count...           3   \n",
       "3284  63324  <p>Refugio Palomar-Santiago, a Mexican nationa...           3   \n",
       "3285  63331  <p>Joshua James Cooley was parked in his picku...           0   \n",
       "3286  63332  <p>This is an ongoing case of original jurisdi...           3   \n",
       "3287  63335  <p>The Natural Gas Act (NGA), 15 U.S.C. §§ 717...           1   \n",
       "\n",
       "      first_party_winner  \n",
       "0                      1  \n",
       "1                      1  \n",
       "2                      1  \n",
       "3                      1  \n",
       "4                      1  \n",
       "...                  ...  \n",
       "3283                   0  \n",
       "3284                   1  \n",
       "3285                   1  \n",
       "3286                   0  \n",
       "3287                   1  \n",
       "\n",
       "[3288 rows x 4 columns]"
      ]
     },
     "execution_count": 34,
     "metadata": {},
     "output_type": "execute_result"
    }
   ],
   "source": [
    "mainDf = pd.read_csv(\"mainJustice.csv\")\n",
    "mainDf = mainDf.drop(['Unnamed: 0'], axis=1)\n",
    "mainDf"
   ]
  },
  {
   "cell_type": "code",
   "execution_count": 35,
   "metadata": {},
   "outputs": [],
   "source": [
    "documents = []\n",
    "X = mainDf[\"facts\"]\n",
    "\n",
    "for i in range(0, len(X)):\n",
    "  document = re.sub(r\"\\W\", \" \", str(X[i]))\n",
    "  document = re.sub(r\"\\d+\", \" \", document)\n",
    "  document = re.sub(r'\\b\\w{1,1}\\b', \" \", document)\n",
    "  document = re.sub(\" \\d+\", \" \", document)\n",
    "  document = re.sub(r\"\\s+\", \" \", document, flags=re.I)\n",
    "  document = document.lower()\n",
    "  documents.append(document)"
   ]
  },
  {
   "cell_type": "code",
   "execution_count": 36,
   "metadata": {},
   "outputs": [],
   "source": [
    "tokenDocuments = []\n",
    "for i in range(0, len(X)):\n",
    "    tokenDocuments.append(word_tokenize(documents[i]))"
   ]
  },
  {
   "cell_type": "code",
   "execution_count": 37,
   "metadata": {},
   "outputs": [],
   "source": [
    "stop_words = stopwords.words(\"english\")"
   ]
  },
  {
   "cell_type": "code",
   "execution_count": 38,
   "metadata": {},
   "outputs": [],
   "source": [
    "cleanTokenDocuments = []\n",
    "\n",
    "for i in range(0, len(X)):\n",
    "    cleanTokenDocument = []\n",
    "    for word in tokenDocuments[i]:\n",
    "        if word not in stop_words:\n",
    "            cleanTokenDocument.append(word)\n",
    "    cleanTokenDocuments.append(cleanTokenDocument)"
   ]
  },
  {
   "cell_type": "code",
   "execution_count": 39,
   "metadata": {},
   "outputs": [],
   "source": [
    "mainDf[\"facts\"] = cleanTokenDocuments"
   ]
  },
  {
   "cell_type": "code",
   "execution_count": 60,
   "metadata": {},
   "outputs": [
    {
     "data": {
      "image/png": "[encoded data removed]",
      "text/plain": [
       "<Figure size 640x480 with 1 Axes>"
      ]
     },
     "metadata": {},
     "output_type": "display_data"
    }
   ],
   "source": [
    "max_size = mainDf[\"first_party_winner\"].value_counts().max() \n",
    "lst = [mainDf]\n",
    "for class_index, group in mainDf.groupby('first_party_winner'):\n",
    "    lst.append(group.sample(max_size-len(group), replace=True))\n",
    "balancedMainDf = pd.concat(lst)\n",
    "balancedMainDf.index = range(len(balancedMainDf))\n",
    "plt.hist(balancedMainDf[\"first_party_winner\"])\n",
    "plt.show()"
   ]
  },
  {
   "cell_type": "code",
   "execution_count": 61,
   "metadata": {},
   "outputs": [
    {
     "data": {
      "text/plain": [
       "4280"
      ]
     },
     "execution_count": 61,
     "metadata": {},
     "output_type": "execute_result"
    }
   ],
   "source": [
    "len(balancedMainDf)"
   ]
  },
  {
   "cell_type": "code",
   "execution_count": 62,
   "metadata": {},
   "outputs": [],
   "source": [
    "lemma = WordNetLemmatizer()\n",
    "\n",
    "balancedMainDf[\"lemma\"] = balancedMainDf[\"facts\"].apply(lambda x: [lemma.lemmatize(y) for y in x])"
   ]
  },
  {
   "cell_type": "code",
   "execution_count": 63,
   "metadata": {},
   "outputs": [],
   "source": [
    "postagDocuments = []\n",
    "for sen in balancedMainDf[\"lemma\"]:\n",
    "    postagDocuments.append(pos_tag(sen))\n",
    "\n",
    "balancedMainDf[\"lemmaPos\"] = postagDocuments"
   ]
  },
  {
   "cell_type": "code",
   "execution_count": 48,
   "metadata": {},
   "outputs": [
    {
     "data": {
      "text/html": [
       "<div>\n",
       "<style scoped>\n",
       "    .dataframe tbody tr th:only-of-type {\n",
       "        vertical-align: middle;\n",
       "    }\n",
       "\n",
       "    .dataframe tbody tr th {\n",
       "        vertical-align: top;\n",
       "    }\n",
       "\n",
       "    .dataframe thead th {\n",
       "        text-align: right;\n",
       "    }\n",
       "</style>\n",
       "<table border=\"1\" class=\"dataframe\">\n",
       "  <thead>\n",
       "    <tr style=\"text-align: right;\">\n",
       "      <th></th>\n",
       "      <th>ID</th>\n",
       "      <th>facts</th>\n",
       "      <th>issue_area</th>\n",
       "      <th>first_party_winner</th>\n",
       "      <th>lemma</th>\n",
       "      <th>lemmaPos</th>\n",
       "    </tr>\n",
       "  </thead>\n",
       "  <tbody>\n",
       "    <tr>\n",
       "      <th>0</th>\n",
       "      <td>50606</td>\n",
       "      <td>[jane, roe, fictional, name, used, court, docu...</td>\n",
       "      <td>3</td>\n",
       "      <td>1</td>\n",
       "      <td>[jane, roe, fictional, name, used, court, docu...</td>\n",
       "      <td>[(jane, NN), (roe, VBZ), (fictional, JJ), (nam...</td>\n",
       "    </tr>\n",
       "    <tr>\n",
       "      <th>1</th>\n",
       "      <td>50613</td>\n",
       "      <td>[joan, stanley, three, children, peter, stanle...</td>\n",
       "      <td>0</td>\n",
       "      <td>1</td>\n",
       "      <td>[joan, stanley, three, child, peter, stanley, ...</td>\n",
       "      <td>[(joan, NN), (stanley, VBD), (three, CD), (chi...</td>\n",
       "    </tr>\n",
       "    <tr>\n",
       "      <th>2</th>\n",
       "      <td>50623</td>\n",
       "      <td>[john, giglio, convicted, passing, forged, mon...</td>\n",
       "      <td>1</td>\n",
       "      <td>1</td>\n",
       "      <td>[john, giglio, convicted, passing, forged, mon...</td>\n",
       "      <td>[(john, NN), (giglio, NN), (convicted, VBD), (...</td>\n",
       "    </tr>\n",
       "    <tr>\n",
       "      <th>3</th>\n",
       "      <td>50632</td>\n",
       "      <td>[idaho, probate, code, specified, males, must,...</td>\n",
       "      <td>0</td>\n",
       "      <td>1</td>\n",
       "      <td>[idaho, probate, code, specified, male, must, ...</td>\n",
       "      <td>[(idaho, JJ), (probate, NN), (code, NN), (spec...</td>\n",
       "    </tr>\n",
       "    <tr>\n",
       "      <th>4</th>\n",
       "      <td>50643</td>\n",
       "      <td>[miller, conducting, mass, mailing, campaign, ...</td>\n",
       "      <td>2</td>\n",
       "      <td>1</td>\n",
       "      <td>[miller, conducting, mass, mailing, campaign, ...</td>\n",
       "      <td>[(miller, NN), (conducting, VBG), (mass, NN), ...</td>\n",
       "    </tr>\n",
       "    <tr>\n",
       "      <th>...</th>\n",
       "      <td>...</td>\n",
       "      <td>...</td>\n",
       "      <td>...</td>\n",
       "      <td>...</td>\n",
       "      <td>...</td>\n",
       "      <td>...</td>\n",
       "    </tr>\n",
       "    <tr>\n",
       "      <th>4275</th>\n",
       "      <td>52125</td>\n",
       "      <td>[village, schaumburg, illinois, adopted, ordin...</td>\n",
       "      <td>2</td>\n",
       "      <td>0</td>\n",
       "      <td>[village, schaumburg, illinois, adopted, ordin...</td>\n",
       "      <td>[(village, NN), (schaumburg, NN), (illinois, N...</td>\n",
       "    </tr>\n",
       "    <tr>\n",
       "      <th>4276</th>\n",
       "      <td>62702</td>\n",
       "      <td>[varsity, brands, inc, varsity, designs, manuf...</td>\n",
       "      <td>6</td>\n",
       "      <td>0</td>\n",
       "      <td>[varsity, brand, inc, varsity, design, manufac...</td>\n",
       "      <td>[(varsity, NN), (brand, NN), (inc, NN), (varsi...</td>\n",
       "    </tr>\n",
       "    <tr>\n",
       "      <th>4277</th>\n",
       "      <td>53030</td>\n",
       "      <td>[national, gay, task, force, filed, facial, co...</td>\n",
       "      <td>2</td>\n",
       "      <td>0</td>\n",
       "      <td>[national, gay, task, force, filed, facial, co...</td>\n",
       "      <td>[(national, JJ), (gay, NN), (task, NN), (force...</td>\n",
       "    </tr>\n",
       "    <tr>\n",
       "      <th>4278</th>\n",
       "      <td>54462</td>\n",
       "      <td>[sections, cable, television, consumer, protec...</td>\n",
       "      <td>2</td>\n",
       "      <td>0</td>\n",
       "      <td>[section, cable, television, consumer, protect...</td>\n",
       "      <td>[(section, NN), (cable, NN), (television, NN),...</td>\n",
       "    </tr>\n",
       "    <tr>\n",
       "      <th>4279</th>\n",
       "      <td>55383</td>\n",
       "      <td>[alphonso, james, convicted, firearm, possessi...</td>\n",
       "      <td>3</td>\n",
       "      <td>0</td>\n",
       "      <td>[alphonso, james, convicted, firearm, possessi...</td>\n",
       "      <td>[(alphonso, NN), (james, NNS), (convicted, VBN...</td>\n",
       "    </tr>\n",
       "  </tbody>\n",
       "</table>\n",
       "<p>4280 rows × 6 columns</p>\n",
       "</div>"
      ],
      "text/plain": [
       "         ID                                              facts  issue_area  \\\n",
       "0     50606  [jane, roe, fictional, name, used, court, docu...           3   \n",
       "1     50613  [joan, stanley, three, children, peter, stanle...           0   \n",
       "2     50623  [john, giglio, convicted, passing, forged, mon...           1   \n",
       "3     50632  [idaho, probate, code, specified, males, must,...           0   \n",
       "4     50643  [miller, conducting, mass, mailing, campaign, ...           2   \n",
       "...     ...                                                ...         ...   \n",
       "4275  52125  [village, schaumburg, illinois, adopted, ordin...           2   \n",
       "4276  62702  [varsity, brands, inc, varsity, designs, manuf...           6   \n",
       "4277  53030  [national, gay, task, force, filed, facial, co...           2   \n",
       "4278  54462  [sections, cable, television, consumer, protec...           2   \n",
       "4279  55383  [alphonso, james, convicted, firearm, possessi...           3   \n",
       "\n",
       "      first_party_winner                                              lemma  \\\n",
       "0                      1  [jane, roe, fictional, name, used, court, docu...   \n",
       "1                      1  [joan, stanley, three, child, peter, stanley, ...   \n",
       "2                      1  [john, giglio, convicted, passing, forged, mon...   \n",
       "3                      1  [idaho, probate, code, specified, male, must, ...   \n",
       "4                      1  [miller, conducting, mass, mailing, campaign, ...   \n",
       "...                  ...                                                ...   \n",
       "4275                   0  [village, schaumburg, illinois, adopted, ordin...   \n",
       "4276                   0  [varsity, brand, inc, varsity, design, manufac...   \n",
       "4277                   0  [national, gay, task, force, filed, facial, co...   \n",
       "4278                   0  [section, cable, television, consumer, protect...   \n",
       "4279                   0  [alphonso, james, convicted, firearm, possessi...   \n",
       "\n",
       "                                               lemmaPos  \n",
       "0     [(jane, NN), (roe, VBZ), (fictional, JJ), (nam...  \n",
       "1     [(joan, NN), (stanley, VBD), (three, CD), (chi...  \n",
       "2     [(john, NN), (giglio, NN), (convicted, VBD), (...  \n",
       "3     [(idaho, JJ), (probate, NN), (code, NN), (spec...  \n",
       "4     [(miller, NN), (conducting, VBG), (mass, NN), ...  \n",
       "...                                                 ...  \n",
       "4275  [(village, NN), (schaumburg, NN), (illinois, N...  \n",
       "4276  [(varsity, NN), (brand, NN), (inc, NN), (varsi...  \n",
       "4277  [(national, JJ), (gay, NN), (task, NN), (force...  \n",
       "4278  [(section, NN), (cable, NN), (television, NN),...  \n",
       "4279  [(alphonso, NN), (james, NNS), (convicted, VBN...  \n",
       "\n",
       "[4280 rows x 6 columns]"
      ]
     },
     "execution_count": 48,
     "metadata": {},
     "output_type": "execute_result"
    }
   ],
   "source": [
    "balancedMainDf"
   ]
  },
  {
   "cell_type": "code",
   "execution_count": 64,
   "metadata": {},
   "outputs": [
    {
     "name": "stdout",
     "output_type": "stream",
     "text": [
      "Number of words in the corpus: 18897\n"
     ]
    }
   ],
   "source": [
    "words_set = set()\n",
    " \n",
    "for doc in balancedMainDf[\"facts\"]:\n",
    "    for word in doc:\n",
    "        if word not in words_set:\n",
    "            words_set.add(word)\n",
    "     \n",
    "print('Number of words in the corpus:',len(words_set))"
   ]
  },
  {
   "cell_type": "code",
   "execution_count": 66,
   "metadata": {},
   "outputs": [],
   "source": [
    "lemmaWithSomePostagDocuments = []\n",
    "for sen in balancedMainDf[\"lemmaPos\"]:\n",
    "    lemmaWithSomePostagDocument = []\n",
    "    for w in sen:\n",
    "        if w[1] != \"UH\" and w[1] != \"WP\" and w[1] != \"WP$\" and w[1] != \"WRB\" and w[1] != \"PRP\" and w[1] != \"PRP$\" and w[1] != \"MD\" and w[1] != \"WDT\":\n",
    "            lemmaWithSomePostagDocument.append(w[0])\n",
    "    lemmaWithSomePostagDocuments.append(lemmaWithSomePostagDocument)\n",
    "            \n",
    "balancedMainDf[\"lemma\"] = lemmaWithSomePostagDocuments"
   ]
  },
  {
   "cell_type": "code",
   "execution_count": 67,
   "metadata": {},
   "outputs": [
    {
     "name": "stdout",
     "output_type": "stream",
     "text": [
      "Number of words in the corpus: 16938\n"
     ]
    }
   ],
   "source": [
    "words_set = set()\n",
    " \n",
    "for doc in balancedMainDf[\"lemma\"]:\n",
    "    for word in doc:\n",
    "        if word not in words_set:\n",
    "            words_set.add(word)\n",
    "     \n",
    "print('Number of words in the corpus:',len(words_set))"
   ]
  },
  {
   "cell_type": "code",
   "execution_count": 70,
   "metadata": {},
   "outputs": [],
   "source": [
    "words = []\n",
    "freqOfWords = []\n",
    "\n",
    "for doc in balancedMainDf[\"lemma\"]:\n",
    "    for word in doc:\n",
    "        if word not in words:\n",
    "            words.append(word)\n",
    "            freqOfWords.append(1)\n",
    "        else:\n",
    "            idx = words.index(word)\n",
    "            freqOfWords[idx] = freqOfWords[idx] + 1"
   ]
  },
  {
   "cell_type": "code",
   "execution_count": 1,
   "metadata": {},
   "outputs": [
    {
     "ename": "NameError",
     "evalue": "name 'balancedMainDf' is not defined",
     "output_type": "error",
     "traceback": [
      "\u001b[0;31m---------------------------------------------------------------------------\u001b[0m",
      "\u001b[0;31mNameError\u001b[0m                                 Traceback (most recent call last)",
      "\u001b[1;32m/Users/carolina/Documents/Semester_9/Natural_Language_Processing/SupremeCourtJudgementPrediction/CleaningDataAndMLmodels.ipynb Cell 17\u001b[0m in \u001b[0;36m<cell line: 3>\u001b[0;34m()\u001b[0m\n\u001b[1;32m      <a href='vscode-notebook-cell:/Users/carolina/Documents/Semester_9/Natural_Language_Processing/SupremeCourtJudgementPrediction/CleaningDataAndMLmodels.ipynb#X42sZmlsZQ%3D%3D?line=0'>1</a>\u001b[0m words \u001b[39m=\u001b[39m []\n\u001b[1;32m      <a href='vscode-notebook-cell:/Users/carolina/Documents/Semester_9/Natural_Language_Processing/SupremeCourtJudgementPrediction/CleaningDataAndMLmodels.ipynb#X42sZmlsZQ%3D%3D?line=1'>2</a>\u001b[0m targetVar \u001b[39m=\u001b[39m []\n\u001b[0;32m----> <a href='vscode-notebook-cell:/Users/carolina/Documents/Semester_9/Natural_Language_Processing/SupremeCourtJudgementPrediction/CleaningDataAndMLmodels.ipynb#X42sZmlsZQ%3D%3D?line=2'>3</a>\u001b[0m \u001b[39mfor\u001b[39;00m row \u001b[39min\u001b[39;00m \u001b[39mrange\u001b[39m(\u001b[39m0\u001b[39m, \u001b[39mlen\u001b[39m(balancedMainDf[\u001b[39m\"\u001b[39m\u001b[39mlemma\u001b[39m\u001b[39m\"\u001b[39m])):\n\u001b[1;32m      <a href='vscode-notebook-cell:/Users/carolina/Documents/Semester_9/Natural_Language_Processing/SupremeCourtJudgementPrediction/CleaningDataAndMLmodels.ipynb#X42sZmlsZQ%3D%3D?line=3'>4</a>\u001b[0m     \u001b[39mfor\u001b[39;00m word \u001b[39min\u001b[39;00m balancedMainDf[\u001b[39m\"\u001b[39m\u001b[39mlemma\u001b[39m\u001b[39m\"\u001b[39m][row]:\n\u001b[1;32m      <a href='vscode-notebook-cell:/Users/carolina/Documents/Semester_9/Natural_Language_Processing/SupremeCourtJudgementPrediction/CleaningDataAndMLmodels.ipynb#X42sZmlsZQ%3D%3D?line=4'>5</a>\u001b[0m         words\u001b[39m.\u001b[39mappend(word)\n",
      "\u001b[0;31mNameError\u001b[0m: name 'balancedMainDf' is not defined"
     ]
    }
   ],
   "source": [
    "words = []\n",
    "targetVar = []\n",
    "for row in range(0, len(balancedMainDf[\"lemma\"])):\n",
    "    for word in balancedMainDf[\"lemma\"][row]:\n",
    "        words.append(word)\n",
    "        targetVar.append(balancedMainDf[\"first_party_winner\"][row]) "
   ]
  },
  {
   "cell_type": "code",
   "execution_count": 77,
   "metadata": {},
   "outputs": [],
   "source": [
    "d = {'words': words, 'first_party_winner': targetVar}\n",
    "df = pd.DataFrame(data=d)"
   ]
  }
 ],
 "metadata": {
  "kernelspec": {
   "display_name": "Python 3.8.12 ('base')",
   "language": "python",
   "name": "python3"
  },
  "language_info": {
   "codemirror_mode": {
    "name": "ipython",
    "version": 3
   },
   "file_extension": ".py",
   "mimetype": "text/x-python",
   "name": "python",
   "nbconvert_exporter": "python",
   "pygments_lexer": "ipython3",
   "version": "3.8.12"
  },
  "orig_nbformat": 4,
  "vscode": {
   "interpreter": {
    "hash": "40d3a090f54c6569ab1632332b64b2c03c39dcf918b08424e98f38b5ae0af88f"
   }
  }
 },
 "nbformat": 4,
 "nbformat_minor": 2
}
