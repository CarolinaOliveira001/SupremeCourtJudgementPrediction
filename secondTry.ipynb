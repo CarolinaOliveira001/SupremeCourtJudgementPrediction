{
  "cells": [
    {
      "cell_type": "markdown",
      "metadata": {
        "id": "view-in-github",
        "colab_type": "text"
      },
      "source": [
        "<a href=\"https://colab.research.google.com/github/CarolinaOliveira001/SupremeCourtJudgementPrediction/blob/main/secondTry.ipynb\" target=\"_parent\"><img src=\"https://colab.research.google.com/assets/colab-badge.svg\" alt=\"Open In Colab\"/></a>"
      ]
    },
    {
      "cell_type": "code",
      "execution_count": 175,
      "metadata": {
        "id": "UhFxVu0fB5_m"
      },
      "outputs": [],
      "source": [
        "import logging\n",
        "import pandas as pd\n",
        "import numpy as np\n",
        "from numpy import random\n",
        "import gensim\n",
        "import nltk\n",
        "from sklearn.model_selection import train_test_split\n",
        "from sklearn.feature_extraction.text import CountVectorizer, TfidfVectorizer\n",
        "from sklearn.metrics import accuracy_score, confusion_matrix\n",
        "import matplotlib.pyplot as plt\n",
        "from nltk.corpus import stopwords\n",
        "import re\n",
        "import string\n",
        "from nltk.stem import WordNetLemmatizer, PorterStemmer"
      ]
    },
    {
      "cell_type": "code",
      "execution_count": 176,
      "metadata": {
        "colab": {
          "base_uri": "https://localhost:8080/",
          "height": 206
        },
        "id": "wEmkUO0uB5_p",
        "outputId": "d7b3b159-681d-4bcf-c955-2e2482d207bb"
      },
      "outputs": [
        {
          "output_type": "execute_result",
          "data": {
            "text/plain": [
              "                                               facts       issue_area  \\\n",
              "0  <p>In 1970, Jane Roe (a fictional name used in...              NaN   \n",
              "1  <p>Joan Stanley had three children with Peter ...     Civil Rights   \n",
              "2  <p>John Giglio was convicted of passing forged...      Due Process   \n",
              "3  <p>The Idaho Probate Code specified that \"male...     Civil Rights   \n",
              "4  <p>Miller, after conducting a mass mailing cam...  First Amendment   \n",
              "\n",
              "  first_party_winner  \n",
              "0               True  \n",
              "1               True  \n",
              "2               True  \n",
              "3               True  \n",
              "4               True  "
            ],
            "text/html": [
              "\n",
              "  <div id=\"df-01469cc3-8784-451e-8b1e-0ecac886872e\">\n",
              "    <div class=\"colab-df-container\">\n",
              "      <div>\n",
              "<style scoped>\n",
              "    .dataframe tbody tr th:only-of-type {\n",
              "        vertical-align: middle;\n",
              "    }\n",
              "\n",
              "    .dataframe tbody tr th {\n",
              "        vertical-align: top;\n",
              "    }\n",
              "\n",
              "    .dataframe thead th {\n",
              "        text-align: right;\n",
              "    }\n",
              "</style>\n",
              "<table border=\"1\" class=\"dataframe\">\n",
              "  <thead>\n",
              "    <tr style=\"text-align: right;\">\n",
              "      <th></th>\n",
              "      <th>facts</th>\n",
              "      <th>issue_area</th>\n",
              "      <th>first_party_winner</th>\n",
              "    </tr>\n",
              "  </thead>\n",
              "  <tbody>\n",
              "    <tr>\n",
              "      <th>0</th>\n",
              "      <td>&lt;p&gt;In 1970, Jane Roe (a fictional name used in...</td>\n",
              "      <td>NaN</td>\n",
              "      <td>True</td>\n",
              "    </tr>\n",
              "    <tr>\n",
              "      <th>1</th>\n",
              "      <td>&lt;p&gt;Joan Stanley had three children with Peter ...</td>\n",
              "      <td>Civil Rights</td>\n",
              "      <td>True</td>\n",
              "    </tr>\n",
              "    <tr>\n",
              "      <th>2</th>\n",
              "      <td>&lt;p&gt;John Giglio was convicted of passing forged...</td>\n",
              "      <td>Due Process</td>\n",
              "      <td>True</td>\n",
              "    </tr>\n",
              "    <tr>\n",
              "      <th>3</th>\n",
              "      <td>&lt;p&gt;The Idaho Probate Code specified that \"male...</td>\n",
              "      <td>Civil Rights</td>\n",
              "      <td>True</td>\n",
              "    </tr>\n",
              "    <tr>\n",
              "      <th>4</th>\n",
              "      <td>&lt;p&gt;Miller, after conducting a mass mailing cam...</td>\n",
              "      <td>First Amendment</td>\n",
              "      <td>True</td>\n",
              "    </tr>\n",
              "  </tbody>\n",
              "</table>\n",
              "</div>\n",
              "      <button class=\"colab-df-convert\" onclick=\"convertToInteractive('df-01469cc3-8784-451e-8b1e-0ecac886872e')\"\n",
              "              title=\"Convert this dataframe to an interactive table.\"\n",
              "              style=\"display:none;\">\n",
              "        \n",
              "  <svg xmlns=\"http://www.w3.org/2000/svg\" height=\"24px\"viewBox=\"0 0 24 24\"\n",
              "       width=\"24px\">\n",
              "    <path d=\"M0 0h24v24H0V0z\" fill=\"none\"/>\n",
              "    <path d=\"M18.56 5.44l.94 2.06.94-2.06 2.06-.94-2.06-.94-.94-2.06-.94 2.06-2.06.94zm-11 1L8.5 8.5l.94-2.06 2.06-.94-2.06-.94L8.5 2.5l-.94 2.06-2.06.94zm10 10l.94 2.06.94-2.06 2.06-.94-2.06-.94-.94-2.06-.94 2.06-2.06.94z\"/><path d=\"M17.41 7.96l-1.37-1.37c-.4-.4-.92-.59-1.43-.59-.52 0-1.04.2-1.43.59L10.3 9.45l-7.72 7.72c-.78.78-.78 2.05 0 2.83L4 21.41c.39.39.9.59 1.41.59.51 0 1.02-.2 1.41-.59l7.78-7.78 2.81-2.81c.8-.78.8-2.07 0-2.86zM5.41 20L4 18.59l7.72-7.72 1.47 1.35L5.41 20z\"/>\n",
              "  </svg>\n",
              "      </button>\n",
              "      \n",
              "  <style>\n",
              "    .colab-df-container {\n",
              "      display:flex;\n",
              "      flex-wrap:wrap;\n",
              "      gap: 12px;\n",
              "    }\n",
              "\n",
              "    .colab-df-convert {\n",
              "      background-color: #E8F0FE;\n",
              "      border: none;\n",
              "      border-radius: 50%;\n",
              "      cursor: pointer;\n",
              "      display: none;\n",
              "      fill: #1967D2;\n",
              "      height: 32px;\n",
              "      padding: 0 0 0 0;\n",
              "      width: 32px;\n",
              "    }\n",
              "\n",
              "    .colab-df-convert:hover {\n",
              "      background-color: #E2EBFA;\n",
              "      box-shadow: 0px 1px 2px rgba(60, 64, 67, 0.3), 0px 1px 3px 1px rgba(60, 64, 67, 0.15);\n",
              "      fill: #174EA6;\n",
              "    }\n",
              "\n",
              "    [theme=dark] .colab-df-convert {\n",
              "      background-color: #3B4455;\n",
              "      fill: #D2E3FC;\n",
              "    }\n",
              "\n",
              "    [theme=dark] .colab-df-convert:hover {\n",
              "      background-color: #434B5C;\n",
              "      box-shadow: 0px 1px 3px 1px rgba(0, 0, 0, 0.15);\n",
              "      filter: drop-shadow(0px 1px 2px rgba(0, 0, 0, 0.3));\n",
              "      fill: #FFFFFF;\n",
              "    }\n",
              "  </style>\n",
              "\n",
              "      <script>\n",
              "        const buttonEl =\n",
              "          document.querySelector('#df-01469cc3-8784-451e-8b1e-0ecac886872e button.colab-df-convert');\n",
              "        buttonEl.style.display =\n",
              "          google.colab.kernel.accessAllowed ? 'block' : 'none';\n",
              "\n",
              "        async function convertToInteractive(key) {\n",
              "          const element = document.querySelector('#df-01469cc3-8784-451e-8b1e-0ecac886872e');\n",
              "          const dataTable =\n",
              "            await google.colab.kernel.invokeFunction('convertToInteractive',\n",
              "                                                     [key], {});\n",
              "          if (!dataTable) return;\n",
              "\n",
              "          const docLinkHtml = 'Like what you see? Visit the ' +\n",
              "            '<a target=\"_blank\" href=https://colab.research.google.com/notebooks/data_table.ipynb>data table notebook</a>'\n",
              "            + ' to learn more about interactive tables.';\n",
              "          element.innerHTML = '';\n",
              "          dataTable['output_type'] = 'display_data';\n",
              "          await google.colab.output.renderOutput(dataTable, element);\n",
              "          const docLink = document.createElement('div');\n",
              "          docLink.innerHTML = docLinkHtml;\n",
              "          element.appendChild(docLink);\n",
              "        }\n",
              "      </script>\n",
              "    </div>\n",
              "  </div>\n",
              "  "
            ]
          },
          "metadata": {},
          "execution_count": 176
        }
      ],
      "source": [
        "df = pd.read_csv(\"justice.csv\")\n",
        "df = df[[\"facts\", \"issue_area\", \"first_party_winner\"]]\n",
        "df.head(5)"
      ]
    },
    {
      "cell_type": "code",
      "execution_count": 177,
      "metadata": {
        "id": "ph5AewFqB5_q"
      },
      "outputs": [],
      "source": [
        "df['issue_area'] = df['issue_area'].replace({\"Due Process\": \"Others\", \"Privacy\": \"Others\", \"Federal Taxation\": \"Others\", \n",
        "                                                     \"Unions\": \"Others\", \"Federalism\": \"Others\", \"Attorneys\": \"Others\",\n",
        "                                                     \"Miscellaneous\": \"Others\", \"Interstate Relations\": \"Others\", \"Private Action\": \"Others\"})"
      ]
    },
    {
      "cell_type": "code",
      "execution_count": 178,
      "metadata": {
        "colab": {
          "base_uri": "https://localhost:8080/"
        },
        "id": "3Fagi6QhB5_q",
        "outputId": "be2bdd9a-7488-4cf4-8124-ed5ad76ee2df"
      },
      "outputs": [
        {
          "output_type": "execute_result",
          "data": {
            "text/plain": [
              "facts                   0\n",
              "issue_area            142\n",
              "first_party_winner     15\n",
              "dtype: int64"
            ]
          },
          "metadata": {},
          "execution_count": 178
        }
      ],
      "source": [
        "df.isna().sum()"
      ]
    },
    {
      "cell_type": "code",
      "execution_count": 179,
      "metadata": {
        "id": "-TYIkWLpB5_r"
      },
      "outputs": [],
      "source": [
        "df.dropna(subset=['first_party_winner'], inplace=True)"
      ]
    },
    {
      "cell_type": "code",
      "execution_count": 180,
      "metadata": {
        "colab": {
          "base_uri": "https://localhost:8080/"
        },
        "id": "pjJw3cF2B5_r",
        "outputId": "afb0f223-3bfa-479d-9629-21b3c0276b5c"
      },
      "outputs": [
        {
          "output_type": "execute_result",
          "data": {
            "text/plain": [
              "facts                   0\n",
              "issue_area            129\n",
              "first_party_winner      0\n",
              "dtype: int64"
            ]
          },
          "metadata": {},
          "execution_count": 180
        }
      ],
      "source": [
        "df.isna().sum()"
      ]
    },
    {
      "cell_type": "code",
      "execution_count": 181,
      "metadata": {
        "id": "Drj1-VfOj2Ut"
      },
      "outputs": [],
      "source": [
        "from sklearn import preprocessing\n",
        "le = preprocessing.LabelEncoder()"
      ]
    },
    {
      "cell_type": "code",
      "execution_count": 182,
      "metadata": {
        "colab": {
          "base_uri": "https://localhost:8080/"
        },
        "id": "TfqPJk2ij3xX",
        "outputId": "d888fa47-69c8-4e8a-d511-924955559dd5"
      },
      "outputs": [
        {
          "output_type": "execute_result",
          "data": {
            "text/plain": [
              "LabelEncoder()"
            ]
          },
          "metadata": {},
          "execution_count": 182
        }
      ],
      "source": [
        "le.fit(df[\"first_party_winner\"])"
      ]
    },
    {
      "cell_type": "code",
      "execution_count": 183,
      "metadata": {
        "id": "0t8M0nYRj_va"
      },
      "outputs": [],
      "source": [
        "df[\"first_party_winner\"] = le.transform(df[\"first_party_winner\"])"
      ]
    },
    {
      "cell_type": "code",
      "execution_count": 184,
      "metadata": {
        "id": "u-7ZcQTAB5_r"
      },
      "outputs": [],
      "source": [
        "df_withNA = df[df['issue_area'].isna()]\n",
        "df_withNA = df_withNA.reset_index(drop=True)"
      ]
    },
    {
      "cell_type": "code",
      "execution_count": 185,
      "metadata": {
        "id": "Mpu9H_1iB5_s"
      },
      "outputs": [],
      "source": [
        "df_withoutNA = df.dropna(subset=['issue_area'])\n",
        "df_withoutNA = df_withoutNA.reset_index(drop=True)"
      ]
    },
    {
      "cell_type": "code",
      "execution_count": 186,
      "metadata": {
        "colab": {
          "base_uri": "https://localhost:8080/"
        },
        "id": "tzd6NxjGB5_s",
        "outputId": "a1f63c1f-845a-4e1f-9c32-b487e46202a4"
      },
      "outputs": [
        {
          "output_type": "stream",
          "name": "stdout",
          "text": [
            "There are 549349 words in the dataframe.\n"
          ]
        }
      ],
      "source": [
        "print(\"There are\", df_withoutNA['facts'].apply(lambda x: len(x.split(' '))).sum(), \"words in the dataframe.\")"
      ]
    },
    {
      "cell_type": "code",
      "execution_count": 187,
      "metadata": {
        "colab": {
          "base_uri": "https://localhost:8080/"
        },
        "id": "slkjr7DCEj81",
        "outputId": "572a50c0-6611-4f82-e9fd-00b444c40030"
      },
      "outputs": [
        {
          "output_type": "stream",
          "name": "stderr",
          "text": [
            "[nltk_data] Downloading package stopwords to /root/nltk_data...\n",
            "[nltk_data]   Package stopwords is already up-to-date!\n"
          ]
        },
        {
          "output_type": "execute_result",
          "data": {
            "text/plain": [
              "True"
            ]
          },
          "metadata": {},
          "execution_count": 187
        }
      ],
      "source": [
        "nltk.download('stopwords')"
      ]
    },
    {
      "cell_type": "code",
      "execution_count": 188,
      "metadata": {
        "id": "hNykPVtXB5_t"
      },
      "outputs": [],
      "source": [
        "stop_words = stopwords.words(\"english\")\n",
        "wordnet_lemmatizer = WordNetLemmatizer()"
      ]
    },
    {
      "cell_type": "code",
      "execution_count": 189,
      "metadata": {
        "id": "YcZZ9vhoB5_t"
      },
      "outputs": [],
      "source": [
        "pattern = r'[' + string.punctuation + ']'\n",
        "\n",
        "def clean_text(text, stemming = False, lemmatization = False):\n",
        "    \"\"\"\n",
        "        text: a string\n",
        "        \n",
        "        return: modified initial string\n",
        "    \"\"\"\n",
        "    text = re.sub(pattern, \" \", str(text))\n",
        "    text = text.lower()\n",
        "    text = re.sub(r\"\\d+\", \"\", text)\n",
        "    text = re.sub(r\"\\b[a-zA-Z]\\b\", \"\", text)\n",
        "    text = re.sub(r\"\\W\", \" \", text)\n",
        "    text = re.sub(' +', ' ', text)\n",
        "    text = ' '.join(word for word in text.split() if word not in stop_words) # delete stopwors from text\n",
        "    if stemming:\n",
        "        st = PorterStemmer()\n",
        "        text = \" \".join([st.stem(w) for w in text.split()])\n",
        "    \n",
        "    if lemmatization:\n",
        "        wordnet_lemmatizer = WordNetLemmatizer()\n",
        "        text = ' '.join([wordnet_lemmatizer.lemmatize(w, pos='v') for w in text.split()])\n",
        "    return text\n",
        "    "
      ]
    },
    {
      "cell_type": "code",
      "execution_count": 190,
      "metadata": {
        "colab": {
          "base_uri": "https://localhost:8080/"
        },
        "id": "uMmdLjrOEoo_",
        "outputId": "4a136e90-f43b-41fb-d9dd-f2366def5b9b"
      },
      "outputs": [
        {
          "output_type": "stream",
          "name": "stderr",
          "text": [
            "[nltk_data] Downloading package wordnet to /root/nltk_data...\n",
            "[nltk_data]   Package wordnet is already up-to-date!\n",
            "[nltk_data] Downloading package omw-1.4 to /root/nltk_data...\n",
            "[nltk_data]   Package omw-1.4 is already up-to-date!\n"
          ]
        },
        {
          "output_type": "execute_result",
          "data": {
            "text/plain": [
              "True"
            ]
          },
          "metadata": {},
          "execution_count": 190
        }
      ],
      "source": [
        "nltk.download('wordnet')\n",
        "nltk.download('omw-1.4')"
      ]
    },
    {
      "cell_type": "code",
      "execution_count": 191,
      "metadata": {
        "id": "l08KMvA8B5_u"
      },
      "outputs": [],
      "source": [
        "df_withoutNA['facts'] = df_withoutNA['facts'].map(lambda x: clean_text(x, stemming=False, lemmatization = True))"
      ]
    },
    {
      "cell_type": "code",
      "execution_count": 192,
      "metadata": {
        "colab": {
          "base_uri": "https://localhost:8080/",
          "height": 143
        },
        "id": "s0nmE_uwB5_u",
        "outputId": "ca2dcb3f-68df-41f5-a4af-8891f774a20e"
      },
      "outputs": [
        {
          "output_type": "execute_result",
          "data": {
            "text/plain": [
              "                                               facts    issue_area  \\\n",
              "0  joan stanley three children peter stanley stan...  Civil Rights   \n",
              "1  john giglio convict pass forge money order app...        Others   \n",
              "2  idaho probate code specify males must prefer f...  Civil Rights   \n",
              "\n",
              "   first_party_winner  \n",
              "0                   1  \n",
              "1                   1  \n",
              "2                   1  "
            ],
            "text/html": [
              "\n",
              "  <div id=\"df-9e5e441b-5da6-4b78-90e7-cb73e19e80dd\">\n",
              "    <div class=\"colab-df-container\">\n",
              "      <div>\n",
              "<style scoped>\n",
              "    .dataframe tbody tr th:only-of-type {\n",
              "        vertical-align: middle;\n",
              "    }\n",
              "\n",
              "    .dataframe tbody tr th {\n",
              "        vertical-align: top;\n",
              "    }\n",
              "\n",
              "    .dataframe thead th {\n",
              "        text-align: right;\n",
              "    }\n",
              "</style>\n",
              "<table border=\"1\" class=\"dataframe\">\n",
              "  <thead>\n",
              "    <tr style=\"text-align: right;\">\n",
              "      <th></th>\n",
              "      <th>facts</th>\n",
              "      <th>issue_area</th>\n",
              "      <th>first_party_winner</th>\n",
              "    </tr>\n",
              "  </thead>\n",
              "  <tbody>\n",
              "    <tr>\n",
              "      <th>0</th>\n",
              "      <td>joan stanley three children peter stanley stan...</td>\n",
              "      <td>Civil Rights</td>\n",
              "      <td>1</td>\n",
              "    </tr>\n",
              "    <tr>\n",
              "      <th>1</th>\n",
              "      <td>john giglio convict pass forge money order app...</td>\n",
              "      <td>Others</td>\n",
              "      <td>1</td>\n",
              "    </tr>\n",
              "    <tr>\n",
              "      <th>2</th>\n",
              "      <td>idaho probate code specify males must prefer f...</td>\n",
              "      <td>Civil Rights</td>\n",
              "      <td>1</td>\n",
              "    </tr>\n",
              "  </tbody>\n",
              "</table>\n",
              "</div>\n",
              "      <button class=\"colab-df-convert\" onclick=\"convertToInteractive('df-9e5e441b-5da6-4b78-90e7-cb73e19e80dd')\"\n",
              "              title=\"Convert this dataframe to an interactive table.\"\n",
              "              style=\"display:none;\">\n",
              "        \n",
              "  <svg xmlns=\"http://www.w3.org/2000/svg\" height=\"24px\"viewBox=\"0 0 24 24\"\n",
              "       width=\"24px\">\n",
              "    <path d=\"M0 0h24v24H0V0z\" fill=\"none\"/>\n",
              "    <path d=\"M18.56 5.44l.94 2.06.94-2.06 2.06-.94-2.06-.94-.94-2.06-.94 2.06-2.06.94zm-11 1L8.5 8.5l.94-2.06 2.06-.94-2.06-.94L8.5 2.5l-.94 2.06-2.06.94zm10 10l.94 2.06.94-2.06 2.06-.94-2.06-.94-.94-2.06-.94 2.06-2.06.94z\"/><path d=\"M17.41 7.96l-1.37-1.37c-.4-.4-.92-.59-1.43-.59-.52 0-1.04.2-1.43.59L10.3 9.45l-7.72 7.72c-.78.78-.78 2.05 0 2.83L4 21.41c.39.39.9.59 1.41.59.51 0 1.02-.2 1.41-.59l7.78-7.78 2.81-2.81c.8-.78.8-2.07 0-2.86zM5.41 20L4 18.59l7.72-7.72 1.47 1.35L5.41 20z\"/>\n",
              "  </svg>\n",
              "      </button>\n",
              "      \n",
              "  <style>\n",
              "    .colab-df-container {\n",
              "      display:flex;\n",
              "      flex-wrap:wrap;\n",
              "      gap: 12px;\n",
              "    }\n",
              "\n",
              "    .colab-df-convert {\n",
              "      background-color: #E8F0FE;\n",
              "      border: none;\n",
              "      border-radius: 50%;\n",
              "      cursor: pointer;\n",
              "      display: none;\n",
              "      fill: #1967D2;\n",
              "      height: 32px;\n",
              "      padding: 0 0 0 0;\n",
              "      width: 32px;\n",
              "    }\n",
              "\n",
              "    .colab-df-convert:hover {\n",
              "      background-color: #E2EBFA;\n",
              "      box-shadow: 0px 1px 2px rgba(60, 64, 67, 0.3), 0px 1px 3px 1px rgba(60, 64, 67, 0.15);\n",
              "      fill: #174EA6;\n",
              "    }\n",
              "\n",
              "    [theme=dark] .colab-df-convert {\n",
              "      background-color: #3B4455;\n",
              "      fill: #D2E3FC;\n",
              "    }\n",
              "\n",
              "    [theme=dark] .colab-df-convert:hover {\n",
              "      background-color: #434B5C;\n",
              "      box-shadow: 0px 1px 3px 1px rgba(0, 0, 0, 0.15);\n",
              "      filter: drop-shadow(0px 1px 2px rgba(0, 0, 0, 0.3));\n",
              "      fill: #FFFFFF;\n",
              "    }\n",
              "  </style>\n",
              "\n",
              "      <script>\n",
              "        const buttonEl =\n",
              "          document.querySelector('#df-9e5e441b-5da6-4b78-90e7-cb73e19e80dd button.colab-df-convert');\n",
              "        buttonEl.style.display =\n",
              "          google.colab.kernel.accessAllowed ? 'block' : 'none';\n",
              "\n",
              "        async function convertToInteractive(key) {\n",
              "          const element = document.querySelector('#df-9e5e441b-5da6-4b78-90e7-cb73e19e80dd');\n",
              "          const dataTable =\n",
              "            await google.colab.kernel.invokeFunction('convertToInteractive',\n",
              "                                                     [key], {});\n",
              "          if (!dataTable) return;\n",
              "\n",
              "          const docLinkHtml = 'Like what you see? Visit the ' +\n",
              "            '<a target=\"_blank\" href=https://colab.research.google.com/notebooks/data_table.ipynb>data table notebook</a>'\n",
              "            + ' to learn more about interactive tables.';\n",
              "          element.innerHTML = '';\n",
              "          dataTable['output_type'] = 'display_data';\n",
              "          await google.colab.output.renderOutput(dataTable, element);\n",
              "          const docLink = document.createElement('div');\n",
              "          docLink.innerHTML = docLinkHtml;\n",
              "          element.appendChild(docLink);\n",
              "        }\n",
              "      </script>\n",
              "    </div>\n",
              "  </div>\n",
              "  "
            ]
          },
          "metadata": {},
          "execution_count": 192
        }
      ],
      "source": [
        "df_withoutNA.head(3)"
      ]
    },
    {
      "cell_type": "code",
      "execution_count": 193,
      "metadata": {
        "colab": {
          "base_uri": "https://localhost:8080/"
        },
        "id": "WHr0quLtB5_u",
        "outputId": "77ebb80c-c86c-44c3-8325-f55c835a8124"
      },
      "outputs": [
        {
          "output_type": "stream",
          "name": "stdout",
          "text": [
            "There are 322095 words in the dataframe.\n"
          ]
        }
      ],
      "source": [
        "print(\"There are\",df_withoutNA['facts'].apply(lambda x: len(x.split(' '))).sum(), \"words in the dataframe.\")"
      ]
    },
    {
      "cell_type": "code",
      "execution_count": 194,
      "metadata": {
        "id": "QgAtajrqheNY"
      },
      "outputs": [],
      "source": [
        "my_issue_area = list(set(df_withoutNA[\"issue_area\"]))"
      ]
    },
    {
      "cell_type": "markdown",
      "metadata": {
        "id": "AjURLvVnB5_v"
      },
      "source": [
        "# Without deleting most frequent words"
      ]
    },
    {
      "cell_type": "code",
      "execution_count": null,
      "metadata": {
        "id": "8aUW629YB5_w"
      },
      "outputs": [],
      "source": [
        "X = df_withoutNA.facts\n",
        "y = df_withoutNA.issue_area\n",
        "X_train, X_test, y_train, y_test = train_test_split(X, y, test_size=0.3, random_state = 42)"
      ]
    },
    {
      "cell_type": "code",
      "execution_count": null,
      "metadata": {
        "colab": {
          "base_uri": "https://localhost:8080/"
        },
        "id": "o0giPH5yB5_w",
        "outputId": "da810a0c-5339-4036-ecec-369c0a30c5fa"
      },
      "outputs": [
        {
          "data": {
            "text/plain": [
              "Pipeline(steps=[('vect', CountVectorizer()), ('tfidf', TfidfTransformer()),\n",
              "                ('clf', MultinomialNB())])"
            ]
          },
          "execution_count": 70,
          "metadata": {},
          "output_type": "execute_result"
        }
      ],
      "source": [
        "from sklearn.naive_bayes import MultinomialNB\n",
        "from sklearn.pipeline import Pipeline\n",
        "from sklearn.feature_extraction.text import TfidfTransformer\n",
        "\n",
        "nb = Pipeline([('vect', CountVectorizer()),\n",
        "               ('tfidf', TfidfTransformer()),\n",
        "               ('clf', MultinomialNB()),\n",
        "              ])\n",
        "nb.fit(X_train, y_train)"
      ]
    },
    {
      "cell_type": "code",
      "execution_count": null,
      "metadata": {
        "colab": {
          "base_uri": "https://localhost:8080/"
        },
        "id": "AC4GnJD-B5_x",
        "outputId": "a19323aa-03c5-4d1a-9609-42741f7bd3d9"
      },
      "outputs": [
        {
          "name": "stdout",
          "output_type": "stream",
          "text": [
            "CPU times: user 105 ms, sys: 0 ns, total: 105 ms\n",
            "Wall time: 117 ms\n"
          ]
        }
      ],
      "source": [
        "%%time\n",
        "from sklearn.metrics import classification_report\n",
        "y_pred = nb.predict(X_test)"
      ]
    },
    {
      "cell_type": "code",
      "execution_count": null,
      "metadata": {
        "colab": {
          "base_uri": "https://localhost:8080/"
        },
        "id": "OaYpI43fB5_x",
        "outputId": "a950a04b-3de8-4363-fc62-d28ac7ba7289"
      },
      "outputs": [
        {
          "data": {
            "text/plain": [
              "['Economic Activity',\n",
              " 'Others',\n",
              " 'First Amendment',\n",
              " 'Criminal Procedure',\n",
              " 'Civil Rights']"
            ]
          },
          "execution_count": 72,
          "metadata": {},
          "output_type": "execute_result"
        }
      ],
      "source": [
        "list(set(y_pred))"
      ]
    },
    {
      "cell_type": "code",
      "execution_count": null,
      "metadata": {
        "colab": {
          "base_uri": "https://localhost:8080/"
        },
        "id": "pvgKCQ2jB5_x",
        "outputId": "471638b7-c3b8-481a-8b81-c142a7fdf768"
      },
      "outputs": [
        {
          "data": {
            "text/plain": [
              "['Economic Activity',\n",
              " 'Others',\n",
              " 'First Amendment',\n",
              " 'Criminal Procedure',\n",
              " 'Judicial Power',\n",
              " 'Civil Rights']"
            ]
          },
          "execution_count": 73,
          "metadata": {},
          "output_type": "execute_result"
        }
      ],
      "source": [
        "list(set(y_test))"
      ]
    },
    {
      "cell_type": "code",
      "execution_count": null,
      "metadata": {
        "id": "5ujVjV0ZB5_y"
      },
      "outputs": [],
      "source": [
        "import warnings\n",
        "warnings.filterwarnings('always') #We can set it later to 'ignore'."
      ]
    },
    {
      "cell_type": "code",
      "execution_count": null,
      "metadata": {
        "colab": {
          "base_uri": "https://localhost:8080/"
        },
        "id": "CzMblcVBB5_y",
        "outputId": "5899a2db-26d6-4bc3-835b-315aeeab1bfe"
      },
      "outputs": [
        {
          "name": "stdout",
          "output_type": "stream",
          "text": [
            "accuracy 0.5580168776371308\n",
            "                    precision    recall  f1-score   support\n",
            "\n",
            "            Others       0.60      0.51      0.55       184\n",
            " Economic Activity       0.51      0.99      0.67       258\n",
            "   First Amendment       0.64      0.63      0.64       161\n",
            "Criminal Procedure       0.84      0.17      0.28        96\n",
            "      Civil Rights       0.00      0.00      0.00       111\n",
            "    Judicial Power       0.56      0.45      0.50       138\n",
            "\n",
            "          accuracy                           0.56       948\n",
            "         macro avg       0.53      0.46      0.44       948\n",
            "      weighted avg       0.53      0.56      0.50       948\n",
            "\n"
          ]
        },
        {
          "name": "stderr",
          "output_type": "stream",
          "text": [
            "/usr/local/lib/python3.8/dist-packages/sklearn/metrics/_classification.py:1318: UndefinedMetricWarning: Precision and F-score are ill-defined and being set to 0.0 in labels with no predicted samples. Use `zero_division` parameter to control this behavior.\n",
            "  _warn_prf(average, modifier, msg_start, len(result))\n",
            "/usr/local/lib/python3.8/dist-packages/sklearn/metrics/_classification.py:1318: UndefinedMetricWarning: Precision and F-score are ill-defined and being set to 0.0 in labels with no predicted samples. Use `zero_division` parameter to control this behavior.\n",
            "  _warn_prf(average, modifier, msg_start, len(result))\n",
            "/usr/local/lib/python3.8/dist-packages/sklearn/metrics/_classification.py:1318: UndefinedMetricWarning: Precision and F-score are ill-defined and being set to 0.0 in labels with no predicted samples. Use `zero_division` parameter to control this behavior.\n",
            "  _warn_prf(average, modifier, msg_start, len(result))\n"
          ]
        }
      ],
      "source": [
        "print('accuracy %s' % accuracy_score(y_pred, y_test))\n",
        "print(classification_report(y_test, y_pred, target_names=my_issue_area))"
      ]
    },
    {
      "cell_type": "code",
      "execution_count": null,
      "metadata": {
        "colab": {
          "base_uri": "https://localhost:8080/"
        },
        "id": "-mRUhhp-B5_y",
        "outputId": "a4b88334-029a-4e70-96b6-4f987918969a"
      },
      "outputs": [
        {
          "data": {
            "text/plain": [
              "Pipeline(steps=[('vect', CountVectorizer(ngram_range=(1, 2))),\n",
              "                ('tfidf', TfidfTransformer()),\n",
              "                ('clf',\n",
              "                 SGDClassifier(alpha=0.001, max_iter=5, random_state=42,\n",
              "                               tol=None))])"
            ]
          },
          "execution_count": 77,
          "metadata": {},
          "output_type": "execute_result"
        }
      ],
      "source": [
        "from sklearn.linear_model import SGDClassifier\n",
        "\n",
        "sgd = Pipeline([('vect', CountVectorizer(ngram_range=(1, 2))),\n",
        "                ('tfidf', TfidfTransformer()),\n",
        "                ('clf', SGDClassifier(loss='hinge', penalty='l2',alpha=1e-3, random_state=42, max_iter=5, tol=None)),\n",
        "               ])\n",
        "sgd.fit(X_train, y_train)"
      ]
    },
    {
      "cell_type": "code",
      "execution_count": null,
      "metadata": {
        "colab": {
          "base_uri": "https://localhost:8080/"
        },
        "id": "WGrgHSyZB5_y",
        "outputId": "8849ce15-122e-41fb-ef1a-541a85f7c906"
      },
      "outputs": [
        {
          "name": "stdout",
          "output_type": "stream",
          "text": [
            "CPU times: user 220 ms, sys: 64 ms, total: 284 ms\n",
            "Wall time: 224 ms\n"
          ]
        }
      ],
      "source": [
        "%%time\n",
        "y_pred = sgd.predict(X_test)"
      ]
    },
    {
      "cell_type": "code",
      "execution_count": null,
      "metadata": {
        "colab": {
          "base_uri": "https://localhost:8080/"
        },
        "id": "Asdtex8SB5_z",
        "outputId": "2b5061b6-35f5-407c-c29c-71fabbc86f91"
      },
      "outputs": [
        {
          "name": "stdout",
          "output_type": "stream",
          "text": [
            "accuracy 0.6867088607594937\n",
            "                    precision    recall  f1-score   support\n",
            "\n",
            "            Others       0.74      0.65      0.69       184\n",
            " Economic Activity       0.68      0.98      0.81       258\n",
            "   First Amendment       0.69      0.71      0.70       161\n",
            "Criminal Procedure       0.68      0.72      0.70        96\n",
            "      Civil Rights       0.62      0.21      0.31       111\n",
            "    Judicial Power       0.64      0.52      0.57       138\n",
            "\n",
            "          accuracy                           0.69       948\n",
            "         macro avg       0.68      0.63      0.63       948\n",
            "      weighted avg       0.68      0.69      0.66       948\n",
            "\n"
          ]
        }
      ],
      "source": [
        "print('accuracy %s' % accuracy_score(y_pred, y_test))\n",
        "print(classification_report(y_test, y_pred,target_names=my_issue_area))"
      ]
    },
    {
      "cell_type": "code",
      "execution_count": null,
      "metadata": {
        "colab": {
          "base_uri": "https://localhost:8080/"
        },
        "id": "7WMlPF7CB5_z",
        "outputId": "6a1a6d80-c894-4356-e68b-15437845f28e"
      },
      "outputs": [
        {
          "data": {
            "text/plain": [
              "Pipeline(steps=[('vect', CountVectorizer(ngram_range=(1, 2))),\n",
              "                ('tfidf', TfidfTransformer()),\n",
              "                ('clf',\n",
              "                 LogisticRegression(C=100000.0, max_iter=100000, n_jobs=1))])"
            ]
          },
          "execution_count": 80,
          "metadata": {},
          "output_type": "execute_result"
        }
      ],
      "source": [
        "from sklearn.linear_model import LogisticRegression\n",
        "\n",
        "logreg = Pipeline([('vect', CountVectorizer(ngram_range=(1, 2))),\n",
        "                ('tfidf', TfidfTransformer()),\n",
        "                ('clf', LogisticRegression(n_jobs=1, C=1e5, solver='lbfgs', max_iter=100000)),\n",
        "               ])\n",
        "logreg.fit(X_train, y_train)"
      ]
    },
    {
      "cell_type": "code",
      "execution_count": null,
      "metadata": {
        "colab": {
          "base_uri": "https://localhost:8080/"
        },
        "id": "8FPZWRN6B5_z",
        "outputId": "a9bcf1e6-ea01-4279-8c7d-f5a2b138ef50"
      },
      "outputs": [
        {
          "name": "stdout",
          "output_type": "stream",
          "text": [
            "CPU times: user 203 ms, sys: 614 µs, total: 204 ms\n",
            "Wall time: 205 ms\n"
          ]
        }
      ],
      "source": [
        "%%time\n",
        "y_pred = logreg.predict(X_test)"
      ]
    },
    {
      "cell_type": "code",
      "execution_count": null,
      "metadata": {
        "colab": {
          "base_uri": "https://localhost:8080/"
        },
        "id": "zRPIEPUhB5_z",
        "outputId": "e60e6ba9-fa9e-46e8-cfe9-567cd9f54693"
      },
      "outputs": [
        {
          "name": "stdout",
          "output_type": "stream",
          "text": [
            "accuracy 0.7056962025316456\n",
            "                    precision    recall  f1-score   support\n",
            "\n",
            "            Others       0.72      0.69      0.71       184\n",
            " Economic Activity       0.78      0.94      0.85       258\n",
            "   First Amendment       0.70      0.70      0.70       161\n",
            "Criminal Procedure       0.70      0.77      0.74        96\n",
            "      Civil Rights       0.53      0.31      0.39       111\n",
            "    Judicial Power       0.62      0.58      0.60       138\n",
            "\n",
            "          accuracy                           0.71       948\n",
            "         macro avg       0.67      0.66      0.66       948\n",
            "      weighted avg       0.69      0.71      0.69       948\n",
            "\n"
          ]
        }
      ],
      "source": [
        "print('accuracy %s' % accuracy_score(y_pred, y_test))\n",
        "print(classification_report(y_test, y_pred,target_names=my_issue_area))"
      ]
    },
    {
      "cell_type": "code",
      "execution_count": null,
      "metadata": {
        "colab": {
          "base_uri": "https://localhost:8080/"
        },
        "id": "NMdSNWmiB5_z",
        "outputId": "56970770-a9b3-4068-eaed-a651540e4f41"
      },
      "outputs": [
        {
          "data": {
            "text/plain": [
              "Pipeline(steps=[('vect', CountVectorizer(ngram_range=(1, 2))),\n",
              "                ('tfidf', TfidfTransformer()),\n",
              "                ('clf',\n",
              "                 RandomForestClassifier(max_depth=10, n_estimators=10,\n",
              "                                        random_state=10))])"
            ]
          },
          "execution_count": 83,
          "metadata": {},
          "output_type": "execute_result"
        }
      ],
      "source": [
        "from sklearn.ensemble import RandomForestClassifier\n",
        "\n",
        "randfor = Pipeline([('vect', CountVectorizer(ngram_range=(1, 2))),\n",
        "                ('tfidf', TfidfTransformer()),\n",
        "                ('clf', RandomForestClassifier(n_estimators= 10, max_depth=10, random_state=10)),\n",
        "               ])\n",
        "randfor.fit(X_train, y_train)"
      ]
    },
    {
      "cell_type": "code",
      "execution_count": null,
      "metadata": {
        "colab": {
          "base_uri": "https://localhost:8080/"
        },
        "id": "uD9gRHLuB5_z",
        "outputId": "2e2f9a1c-f80d-430d-efa7-cf282d873219"
      },
      "outputs": [
        {
          "name": "stdout",
          "output_type": "stream",
          "text": [
            "CPU times: user 188 ms, sys: 973 µs, total: 189 ms\n",
            "Wall time: 194 ms\n"
          ]
        }
      ],
      "source": [
        "%%time\n",
        "y_pred = randfor.predict(X_test)"
      ]
    },
    {
      "cell_type": "code",
      "execution_count": null,
      "metadata": {
        "colab": {
          "base_uri": "https://localhost:8080/"
        },
        "id": "B1T0pa8PB5_0",
        "outputId": "bf920638-4010-4d87-fe1f-599cbda3538c"
      },
      "outputs": [
        {
          "name": "stdout",
          "output_type": "stream",
          "text": [
            "accuracy 0.4272151898734177\n",
            "                    precision    recall  f1-score   support\n",
            "\n",
            "            Others       0.60      0.32      0.42       184\n",
            " Economic Activity       0.38      0.97      0.54       258\n",
            "   First Amendment       0.46      0.35      0.39       161\n",
            "Criminal Procedure       0.88      0.23      0.36        96\n",
            "      Civil Rights       0.57      0.04      0.07       111\n",
            "    Judicial Power       0.48      0.11      0.18       138\n",
            "\n",
            "          accuracy                           0.43       948\n",
            "         macro avg       0.56      0.33      0.33       948\n",
            "      weighted avg       0.52      0.43      0.37       948\n",
            "\n"
          ]
        }
      ],
      "source": [
        "print('accuracy %s' % accuracy_score(y_pred, y_test))\n",
        "print(classification_report(y_test, y_pred,target_names=my_issue_area))"
      ]
    },
    {
      "cell_type": "code",
      "execution_count": null,
      "metadata": {
        "colab": {
          "base_uri": "https://localhost:8080/"
        },
        "id": "9h_NXxQaB5_0",
        "outputId": "f3a4a1b6-165d-4d3a-aad3-056bf73225cb"
      },
      "outputs": [
        {
          "data": {
            "text/plain": [
              "Pipeline(steps=[('vect', CountVectorizer(ngram_range=(1, 2))),\n",
              "                ('tfidf', TfidfTransformer()),\n",
              "                ('clf',\n",
              "                 GradientBoostingClassifier(max_depth=10, n_estimators=10,\n",
              "                                            random_state=10))])"
            ]
          },
          "execution_count": 86,
          "metadata": {},
          "output_type": "execute_result"
        }
      ],
      "source": [
        "from sklearn.ensemble import GradientBoostingClassifier\n",
        "graboos = Pipeline([('vect', CountVectorizer(ngram_range=(1, 2))),\n",
        "                ('tfidf', TfidfTransformer()),\n",
        "                ('clf', GradientBoostingClassifier(n_estimators=10, max_depth=10, random_state=10)),\n",
        "               ])\n",
        "graboos.fit(X_train, y_train)"
      ]
    },
    {
      "cell_type": "code",
      "execution_count": null,
      "metadata": {
        "colab": {
          "base_uri": "https://localhost:8080/"
        },
        "id": "APsr1EzBB5_0",
        "outputId": "613adff5-5509-4186-fd7d-96267cd2e0b1"
      },
      "outputs": [
        {
          "name": "stdout",
          "output_type": "stream",
          "text": [
            "CPU times: user 195 ms, sys: 1.8 ms, total: 197 ms\n",
            "Wall time: 197 ms\n"
          ]
        }
      ],
      "source": [
        "%%time\n",
        "y_pred = graboos.predict(X_test)"
      ]
    },
    {
      "cell_type": "code",
      "execution_count": null,
      "metadata": {
        "colab": {
          "base_uri": "https://localhost:8080/"
        },
        "id": "ng9QNYK_B5_0",
        "outputId": "78f3bdb4-5b37-480b-a69c-e407165f5882"
      },
      "outputs": [
        {
          "name": "stdout",
          "output_type": "stream",
          "text": [
            "accuracy 0.6086497890295358\n",
            "                    precision    recall  f1-score   support\n",
            "\n",
            "            Others       0.63      0.54      0.58       184\n",
            " Economic Activity       0.70      0.88      0.78       258\n",
            "   First Amendment       0.63      0.60      0.62       161\n",
            "Criminal Procedure       0.68      0.64      0.66        96\n",
            "      Civil Rights       0.47      0.28      0.35       111\n",
            "    Judicial Power       0.40      0.44      0.42       138\n",
            "\n",
            "          accuracy                           0.61       948\n",
            "         macro avg       0.58      0.56      0.57       948\n",
            "      weighted avg       0.60      0.61      0.60       948\n",
            "\n"
          ]
        }
      ],
      "source": [
        "print('accuracy %s' % accuracy_score(y_pred, y_test))\n",
        "print(classification_report(y_test, y_pred,target_names=my_issue_area))"
      ]
    },
    {
      "cell_type": "code",
      "execution_count": null,
      "metadata": {
        "colab": {
          "base_uri": "https://localhost:8080/"
        },
        "id": "G47Wju0vB5_0",
        "outputId": "7f316d88-e17b-4dd8-844b-1b20f6c75166"
      },
      "outputs": [
        {
          "data": {
            "text/plain": [
              "LabelEncoder()"
            ]
          },
          "execution_count": 89,
          "metadata": {},
          "output_type": "execute_result"
        }
      ],
      "source": [
        "from sklearn import preprocessing\n",
        "le = preprocessing.LabelEncoder()\n",
        "le.fit(y_train)"
      ]
    },
    {
      "cell_type": "code",
      "execution_count": null,
      "metadata": {
        "id": "Of41VFzCB5_0"
      },
      "outputs": [],
      "source": [
        "y_train = le.transform(y_train)\n",
        "y_test = le.transform(y_test)"
      ]
    },
    {
      "cell_type": "code",
      "execution_count": null,
      "metadata": {
        "colab": {
          "base_uri": "https://localhost:8080/"
        },
        "id": "KuKlxJ1LB5_1",
        "outputId": "3daba867-5f59-4a87-fa89-33c653c73b5f"
      },
      "outputs": [
        {
          "data": {
            "text/plain": [
              "Pipeline(steps=[('vect', CountVectorizer(ngram_range=(1, 2))),\n",
              "                ('tfidf', TfidfTransformer()),\n",
              "                ('clf', XGBClassifier(objective='multi:softprob'))])"
            ]
          },
          "execution_count": 91,
          "metadata": {},
          "output_type": "execute_result"
        }
      ],
      "source": [
        "import xgboost as xgb\n",
        "\n",
        "xgboo = Pipeline([('vect', CountVectorizer(ngram_range=(1, 2))),\n",
        "                ('tfidf', TfidfTransformer()),\n",
        "                ('clf', xgb.XGBClassifier()),\n",
        "               ])\n",
        "xgboo.fit(X_train, y_train)"
      ]
    },
    {
      "cell_type": "code",
      "execution_count": null,
      "metadata": {
        "colab": {
          "base_uri": "https://localhost:8080/"
        },
        "id": "Bwzt9r9cB5_1",
        "outputId": "0518083b-86bd-4b7b-ebbd-bd6670cbc9b6"
      },
      "outputs": [
        {
          "name": "stdout",
          "output_type": "stream",
          "text": [
            "CPU times: user 279 ms, sys: 6.79 ms, total: 286 ms\n",
            "Wall time: 285 ms\n"
          ]
        }
      ],
      "source": [
        "%%time\n",
        "y_pred = xgboo.predict(X_test)"
      ]
    },
    {
      "cell_type": "code",
      "execution_count": null,
      "metadata": {
        "colab": {
          "base_uri": "https://localhost:8080/"
        },
        "id": "MgFccWIiB5_1",
        "outputId": "79b25727-0240-45fa-822a-999bda97065e"
      },
      "outputs": [
        {
          "name": "stdout",
          "output_type": "stream",
          "text": [
            "accuracy 0.6350210970464135\n",
            "                    precision    recall  f1-score   support\n",
            "\n",
            "            Others       0.67      0.60      0.63       184\n",
            " Economic Activity       0.74      0.89      0.81       258\n",
            "   First Amendment       0.63      0.61      0.62       161\n",
            "Criminal Procedure       0.63      0.70      0.66        96\n",
            "      Civil Rights       0.47      0.27      0.34       111\n",
            "    Judicial Power       0.45      0.47      0.46       138\n",
            "\n",
            "          accuracy                           0.64       948\n",
            "         macro avg       0.60      0.59      0.59       948\n",
            "      weighted avg       0.62      0.64      0.62       948\n",
            "\n"
          ]
        }
      ],
      "source": [
        "print('accuracy %s' % accuracy_score(y_pred, y_test))\n",
        "print(classification_report(y_test, y_pred,target_names=my_issue_area))"
      ]
    },
    {
      "cell_type": "code",
      "execution_count": null,
      "metadata": {
        "colab": {
          "base_uri": "https://localhost:8080/"
        },
        "id": "p3lpHUW1rjNe",
        "outputId": "4fcff492-ea8a-4899-feea-e3d8d65fda1b"
      },
      "outputs": [
        {
          "data": {
            "text/plain": [
              "Pipeline(steps=[('vect', CountVectorizer(ngram_range=(1, 2))),\n",
              "                ('tfidf', TfidfTransformer()),\n",
              "                ('kn', KNeighborsClassifier(n_neighbors=3))])"
            ]
          },
          "execution_count": 94,
          "metadata": {},
          "output_type": "execute_result"
        }
      ],
      "source": [
        "from sklearn.neighbors import KNeighborsClassifier\n",
        "\n",
        "kn = Pipeline([('vect', CountVectorizer(ngram_range=(1, 2))),\n",
        "                ('tfidf', TfidfTransformer()),\n",
        "                ('kn',KNeighborsClassifier(n_neighbors=3)),\n",
        "               ])\n",
        "kn.fit(X_train, y_train)"
      ]
    },
    {
      "cell_type": "code",
      "execution_count": null,
      "metadata": {
        "colab": {
          "base_uri": "https://localhost:8080/"
        },
        "id": "O1c1w2udsEH2",
        "outputId": "f1dccf77-1975-46cc-874f-497979517749"
      },
      "outputs": [
        {
          "name": "stdout",
          "output_type": "stream",
          "text": [
            "CPU times: user 384 ms, sys: 1.24 ms, total: 386 ms\n",
            "Wall time: 388 ms\n"
          ]
        }
      ],
      "source": [
        "%%time\n",
        "y_pred = kn.predict(X_test)"
      ]
    },
    {
      "cell_type": "code",
      "execution_count": null,
      "metadata": {
        "colab": {
          "base_uri": "https://localhost:8080/"
        },
        "id": "KvvigFY_sKAA",
        "outputId": "cee8cb97-a49e-470c-9f6b-00aa950d7c5c"
      },
      "outputs": [
        {
          "name": "stdout",
          "output_type": "stream",
          "text": [
            "accuracy 0.5928270042194093\n",
            "                    precision    recall  f1-score   support\n",
            "\n",
            "            Others       0.50      0.70      0.58       184\n",
            " Economic Activity       0.66      0.81      0.73       258\n",
            "   First Amendment       0.63      0.60      0.61       161\n",
            "Criminal Procedure       0.65      0.48      0.55        96\n",
            "      Civil Rights       0.50      0.23      0.32       111\n",
            "    Judicial Power       0.59      0.40      0.47       138\n",
            "\n",
            "          accuracy                           0.59       948\n",
            "         macro avg       0.59      0.54      0.54       948\n",
            "      weighted avg       0.59      0.59      0.58       948\n",
            "\n"
          ]
        }
      ],
      "source": [
        "from sklearn.metrics import classification_report\n",
        "print('accuracy %s' % accuracy_score(y_pred, y_test))\n",
        "print(classification_report(y_test, y_pred,target_names=my_issue_area))"
      ]
    },
    {
      "cell_type": "markdown",
      "metadata": {
        "id": "LNbeldMyB5_1"
      },
      "source": [
        "# With deleting some words"
      ]
    },
    {
      "cell_type": "code",
      "execution_count": null,
      "metadata": {
        "id": "gVZ55pu9B5_1"
      },
      "outputs": [],
      "source": [
        "bunchOfWords = \"\".join(df_withoutNA[\"facts\"].tolist())"
      ]
    },
    {
      "cell_type": "markdown",
      "metadata": {
        "id": "57qDAwDxB5_1"
      },
      "source": [
        "We will perform a bag of words and try to find the words that appear 1000"
      ]
    },
    {
      "cell_type": "code",
      "execution_count": null,
      "metadata": {
        "id": "yx-T6yGIB5_1"
      },
      "outputs": [],
      "source": [
        "data_corpus = set()\n",
        "for word in bunchOfWords.split(\" \"):\n",
        "    if word not in data_corpus: \n",
        "        data_corpus.add(word)\n",
        "data_corpus=sorted(data_corpus)"
      ]
    },
    {
      "cell_type": "code",
      "execution_count": null,
      "metadata": {
        "id": "Gi_LyiIXB5_1"
      },
      "outputs": [],
      "source": [
        "def convert(set):\n",
        "    return [*set, ]\n",
        "\n",
        "data_corpus = convert(data_corpus)"
      ]
    },
    {
      "cell_type": "code",
      "execution_count": null,
      "metadata": {
        "id": "0DZ9BirPB5_1"
      },
      "outputs": [],
      "source": [
        "one_hot_encoding = []\n",
        "split = bunchOfWords.split(\" \")\n",
        "for word in data_corpus:\n",
        "    count = split.count(word) \n",
        "    if word in split:\n",
        "        one_hot_encoding.append(count)\n",
        "    else:\n",
        "        one_hot_encoding.append(count)"
      ]
    },
    {
      "cell_type": "code",
      "execution_count": null,
      "metadata": {
        "id": "Iqnu-86nB5_2"
      },
      "outputs": [],
      "source": [
        "dfWords = pd.DataFrame({\"words\": data_corpus, \"numberOfFrequency\": one_hot_encoding})\n",
        "dfWords[\"numberOfFrequency\"] = pd.to_numeric(dfWords[\"numberOfFrequency\"])"
      ]
    },
    {
      "cell_type": "code",
      "execution_count": null,
      "metadata": {
        "id": "snsK4_FgB5_2"
      },
      "outputs": [],
      "source": [
        "irrelevantWords = dfWords[dfWords[\"numberOfFrequency\"] > 1000]\n",
        "irrelevantWords = set(irrelevantWords[\"words\"])"
      ]
    },
    {
      "cell_type": "code",
      "execution_count": null,
      "metadata": {
        "id": "T6P_UpW_B5_2"
      },
      "outputs": [],
      "source": [
        "def more_clean_text(text):\n",
        "    text = ' '.join(word for word in text.split() if word not in irrelevantWords) # delete stopwors from text\n",
        "    return text"
      ]
    },
    {
      "cell_type": "code",
      "execution_count": null,
      "metadata": {
        "id": "i3rDO7nGB5_2"
      },
      "outputs": [],
      "source": [
        "df_withoutNA['facts'] = df_withoutNA['facts'].apply(more_clean_text)"
      ]
    },
    {
      "cell_type": "code",
      "execution_count": null,
      "metadata": {
        "colab": {
          "base_uri": "https://localhost:8080/"
        },
        "id": "YJ6cEljHB5_2",
        "outputId": "62a8c885-be93-45e7-80db-2d0264fbb002"
      },
      "outputs": [
        {
          "name": "stdout",
          "output_type": "stream",
          "text": [
            "There are 267703 words in the dataframe.\n"
          ]
        }
      ],
      "source": [
        "print(\"There are\",df_withoutNA['facts'].apply(lambda x: len(x.split(' '))).sum(), \"words in the dataframe.\")"
      ]
    },
    {
      "cell_type": "code",
      "execution_count": null,
      "metadata": {
        "id": "l-y5Z4KCB5_2"
      },
      "outputs": [],
      "source": [
        "X = df_withoutNA.facts\n",
        "y = df_withoutNA.issue_area\n",
        "X_train, X_test, y_train, y_test = train_test_split(X, y, test_size=0.3, random_state = 42)"
      ]
    },
    {
      "cell_type": "code",
      "execution_count": null,
      "metadata": {
        "colab": {
          "base_uri": "https://localhost:8080/"
        },
        "id": "-Z5Lp578B5_3",
        "outputId": "857b659d-1f66-41df-fa12-b9e286f1b666"
      },
      "outputs": [
        {
          "data": {
            "text/plain": [
              "Pipeline(steps=[('vect', CountVectorizer(ngram_range=(1, 2))),\n",
              "                ('tfidf', TfidfTransformer()), ('clf', MultinomialNB())])"
            ]
          },
          "execution_count": 107,
          "metadata": {},
          "output_type": "execute_result"
        }
      ],
      "source": [
        "from sklearn.naive_bayes import MultinomialNB\n",
        "from sklearn.pipeline import Pipeline\n",
        "from sklearn.feature_extraction.text import TfidfTransformer\n",
        "\n",
        "nb = Pipeline([('vect', CountVectorizer(ngram_range=(1, 2))),\n",
        "               ('tfidf', TfidfTransformer()),\n",
        "               ('clf', MultinomialNB()),\n",
        "              ])\n",
        "nb.fit(X_train, y_train)"
      ]
    },
    {
      "cell_type": "code",
      "execution_count": null,
      "metadata": {
        "colab": {
          "base_uri": "https://localhost:8080/"
        },
        "id": "1UtRMxoVB5_3",
        "outputId": "b01fdc62-78fb-40c6-ba23-3da898cdf2e3"
      },
      "outputs": [
        {
          "name": "stdout",
          "output_type": "stream",
          "text": [
            "CPU times: user 166 ms, sys: 1.7 ms, total: 167 ms\n",
            "Wall time: 170 ms\n"
          ]
        }
      ],
      "source": [
        "%%time\n",
        "from sklearn.metrics import classification_report\n",
        "y_pred = nb.predict(X_test)"
      ]
    },
    {
      "cell_type": "code",
      "execution_count": null,
      "metadata": {
        "colab": {
          "base_uri": "https://localhost:8080/"
        },
        "id": "ed4fzkMFB5_3",
        "outputId": "398af3be-e955-4b79-c654-44e4dbf7ec2f"
      },
      "outputs": [
        {
          "name": "stdout",
          "output_type": "stream",
          "text": [
            "accuracy 0.520042194092827\n",
            "                    precision    recall  f1-score   support\n",
            "\n",
            "            Others       0.69      0.48      0.57       184\n",
            " Economic Activity       0.43      1.00      0.60       258\n",
            "   First Amendment       0.63      0.61      0.62       161\n",
            "Criminal Procedure       1.00      0.07      0.14        96\n",
            "      Civil Rights       0.00      0.00      0.00       111\n",
            "    Judicial Power       0.64      0.30      0.41       138\n",
            "\n",
            "          accuracy                           0.52       948\n",
            "         macro avg       0.57      0.41      0.39       948\n",
            "      weighted avg       0.55      0.52      0.45       948\n",
            "\n"
          ]
        },
        {
          "name": "stderr",
          "output_type": "stream",
          "text": [
            "/usr/local/lib/python3.8/dist-packages/sklearn/metrics/_classification.py:1318: UndefinedMetricWarning: Precision and F-score are ill-defined and being set to 0.0 in labels with no predicted samples. Use `zero_division` parameter to control this behavior.\n",
            "  _warn_prf(average, modifier, msg_start, len(result))\n",
            "/usr/local/lib/python3.8/dist-packages/sklearn/metrics/_classification.py:1318: UndefinedMetricWarning: Precision and F-score are ill-defined and being set to 0.0 in labels with no predicted samples. Use `zero_division` parameter to control this behavior.\n",
            "  _warn_prf(average, modifier, msg_start, len(result))\n",
            "/usr/local/lib/python3.8/dist-packages/sklearn/metrics/_classification.py:1318: UndefinedMetricWarning: Precision and F-score are ill-defined and being set to 0.0 in labels with no predicted samples. Use `zero_division` parameter to control this behavior.\n",
            "  _warn_prf(average, modifier, msg_start, len(result))\n"
          ]
        }
      ],
      "source": [
        "print('accuracy %s' % accuracy_score(y_pred, y_test))\n",
        "print(classification_report(y_test, y_pred, target_names=my_issue_area))"
      ]
    },
    {
      "cell_type": "code",
      "execution_count": null,
      "metadata": {
        "colab": {
          "base_uri": "https://localhost:8080/"
        },
        "id": "Ft6wOP10B5_3",
        "outputId": "9a01b33b-2b8f-45e0-99a5-c06f4e29aabf"
      },
      "outputs": [
        {
          "data": {
            "text/plain": [
              "Pipeline(steps=[('vect', CountVectorizer(ngram_range=(1, 2))),\n",
              "                ('tfidf', TfidfTransformer()),\n",
              "                ('clf',\n",
              "                 SGDClassifier(alpha=0.001, max_iter=5, random_state=42,\n",
              "                               tol=None))])"
            ]
          },
          "execution_count": 110,
          "metadata": {},
          "output_type": "execute_result"
        }
      ],
      "source": [
        "from sklearn.linear_model import SGDClassifier\n",
        "\n",
        "sgd = Pipeline([('vect', CountVectorizer(ngram_range=(1, 2))),\n",
        "                ('tfidf', TfidfTransformer()),\n",
        "                ('clf', SGDClassifier(loss='hinge', penalty='l2',alpha=1e-3, random_state=42, max_iter=5, tol=None)),\n",
        "               ])\n",
        "sgd.fit(X_train, y_train)"
      ]
    },
    {
      "cell_type": "code",
      "execution_count": null,
      "metadata": {
        "colab": {
          "base_uri": "https://localhost:8080/"
        },
        "id": "DZnkd2XSB5_3",
        "outputId": "b7838c3d-fe93-4c99-ae36-a795fa51b7d8"
      },
      "outputs": [
        {
          "name": "stdout",
          "output_type": "stream",
          "text": [
            "CPU times: user 215 ms, sys: 68.6 ms, total: 283 ms\n",
            "Wall time: 217 ms\n"
          ]
        }
      ],
      "source": [
        "%%time\n",
        "y_pred = sgd.predict(X_test)"
      ]
    },
    {
      "cell_type": "code",
      "execution_count": null,
      "metadata": {
        "colab": {
          "base_uri": "https://localhost:8080/"
        },
        "id": "MepbVnbqB5_3",
        "outputId": "780ae907-2ce5-498a-af13-793f11932cba"
      },
      "outputs": [
        {
          "name": "stdout",
          "output_type": "stream",
          "text": [
            "accuracy 0.6835443037974683\n",
            "                    precision    recall  f1-score   support\n",
            "\n",
            "            Others       0.76      0.65      0.70       184\n",
            " Economic Activity       0.66      0.98      0.79       258\n",
            "   First Amendment       0.67      0.71      0.69       161\n",
            "Criminal Procedure       0.73      0.72      0.72        96\n",
            "      Civil Rights       0.60      0.19      0.29       111\n",
            "    Judicial Power       0.65      0.51      0.57       138\n",
            "\n",
            "          accuracy                           0.68       948\n",
            "         macro avg       0.68      0.63      0.63       948\n",
            "      weighted avg       0.68      0.68      0.66       948\n",
            "\n"
          ]
        }
      ],
      "source": [
        "print('accuracy %s' % accuracy_score(y_pred, y_test))\n",
        "print(classification_report(y_test, y_pred,target_names=my_issue_area))"
      ]
    },
    {
      "cell_type": "code",
      "execution_count": null,
      "metadata": {
        "colab": {
          "base_uri": "https://localhost:8080/"
        },
        "id": "aqz7ZSmgB5_3",
        "outputId": "b253f3ff-1e45-4adf-b56a-9ed18e3baf88"
      },
      "outputs": [
        {
          "data": {
            "text/plain": [
              "Pipeline(steps=[('vect', CountVectorizer(ngram_range=(1, 2))),\n",
              "                ('tfidf', TfidfTransformer()),\n",
              "                ('clf',\n",
              "                 LogisticRegression(C=100000.0, max_iter=100000, n_jobs=1))])"
            ]
          },
          "execution_count": 113,
          "metadata": {},
          "output_type": "execute_result"
        }
      ],
      "source": [
        "from sklearn.linear_model import LogisticRegression\n",
        "\n",
        "logreg = Pipeline([('vect', CountVectorizer(ngram_range=(1, 2))),\n",
        "                ('tfidf', TfidfTransformer()),\n",
        "                ('clf', LogisticRegression(n_jobs=1, C=1e5, solver='lbfgs', max_iter=100000)),\n",
        "               ])\n",
        "logreg.fit(X_train, y_train)"
      ]
    },
    {
      "cell_type": "code",
      "execution_count": null,
      "metadata": {
        "colab": {
          "base_uri": "https://localhost:8080/"
        },
        "id": "qHg15EwKB5_4",
        "outputId": "16c35692-689c-413a-c7e0-1996b0a67898"
      },
      "outputs": [
        {
          "name": "stdout",
          "output_type": "stream",
          "text": [
            "CPU times: user 165 ms, sys: 15.7 ms, total: 180 ms\n",
            "Wall time: 167 ms\n"
          ]
        }
      ],
      "source": [
        "%%time\n",
        "y_pred = logreg.predict(X_test)"
      ]
    },
    {
      "cell_type": "code",
      "execution_count": null,
      "metadata": {
        "colab": {
          "base_uri": "https://localhost:8080/"
        },
        "id": "3vt5pGr_B5_4",
        "outputId": "3e78c62f-337f-4953-bbc4-0822de1d25ab"
      },
      "outputs": [
        {
          "name": "stdout",
          "output_type": "stream",
          "text": [
            "accuracy 0.7046413502109705\n",
            "                    precision    recall  f1-score   support\n",
            "\n",
            "            Others       0.74      0.68      0.71       184\n",
            " Economic Activity       0.75      0.94      0.83       258\n",
            "   First Amendment       0.68      0.71      0.70       161\n",
            "Criminal Procedure       0.70      0.76      0.73        96\n",
            "      Civil Rights       0.55      0.29      0.38       111\n",
            "    Judicial Power       0.65      0.59      0.62       138\n",
            "\n",
            "          accuracy                           0.70       948\n",
            "         macro avg       0.68      0.66      0.66       948\n",
            "      weighted avg       0.69      0.70      0.69       948\n",
            "\n"
          ]
        }
      ],
      "source": [
        "print('accuracy %s' % accuracy_score(y_pred, y_test))\n",
        "print(classification_report(y_test, y_pred,target_names=my_issue_area))"
      ]
    },
    {
      "cell_type": "code",
      "execution_count": null,
      "metadata": {
        "colab": {
          "base_uri": "https://localhost:8080/"
        },
        "id": "2B8BdAoaB5_4",
        "outputId": "a14cf070-a77e-4fc8-a850-17985bd1d84f"
      },
      "outputs": [
        {
          "data": {
            "text/plain": [
              "Pipeline(steps=[('vect', CountVectorizer(ngram_range=(1, 2))),\n",
              "                ('tfidf', TfidfTransformer()),\n",
              "                ('clf',\n",
              "                 RandomForestClassifier(max_depth=10, n_estimators=10,\n",
              "                                        random_state=10))])"
            ]
          },
          "execution_count": 116,
          "metadata": {},
          "output_type": "execute_result"
        }
      ],
      "source": [
        "from sklearn.ensemble import RandomForestClassifier\n",
        "\n",
        "randfor = Pipeline([('vect', CountVectorizer(ngram_range=(1, 2))),\n",
        "                ('tfidf', TfidfTransformer()),\n",
        "                ('clf', RandomForestClassifier(n_estimators= 10, max_depth=10, random_state=10)),\n",
        "               ])\n",
        "randfor.fit(X_train, y_train)"
      ]
    },
    {
      "cell_type": "code",
      "execution_count": null,
      "metadata": {
        "colab": {
          "base_uri": "https://localhost:8080/"
        },
        "id": "bmz74Sc_B5_4",
        "outputId": "dd475f19-207c-4f2f-9b20-3ecc1a46a38b"
      },
      "outputs": [
        {
          "name": "stdout",
          "output_type": "stream",
          "text": [
            "CPU times: user 176 ms, sys: 3.97 ms, total: 180 ms\n",
            "Wall time: 182 ms\n"
          ]
        }
      ],
      "source": [
        "%%time\n",
        "y_pred = randfor.predict(X_test)"
      ]
    },
    {
      "cell_type": "code",
      "execution_count": null,
      "metadata": {
        "colab": {
          "base_uri": "https://localhost:8080/"
        },
        "id": "Q9qZ7_ZQB5_4",
        "outputId": "65d3c35e-3108-4049-93a5-6962cb8a7efc"
      },
      "outputs": [
        {
          "name": "stdout",
          "output_type": "stream",
          "text": [
            "accuracy 0.4208860759493671\n",
            "                    precision    recall  f1-score   support\n",
            "\n",
            "            Others       0.55      0.32      0.40       184\n",
            " Economic Activity       0.39      0.98      0.56       258\n",
            "   First Amendment       0.43      0.35      0.39       161\n",
            "Criminal Procedure       0.75      0.16      0.26        96\n",
            "      Civil Rights       0.57      0.04      0.07       111\n",
            "    Judicial Power       0.34      0.08      0.13       138\n",
            "\n",
            "          accuracy                           0.42       948\n",
            "         macro avg       0.51      0.32      0.30       948\n",
            "      weighted avg       0.48      0.42      0.35       948\n",
            "\n"
          ]
        }
      ],
      "source": [
        "print('accuracy %s' % accuracy_score(y_pred, y_test))\n",
        "print(classification_report(y_test, y_pred,target_names=my_issue_area))"
      ]
    },
    {
      "cell_type": "code",
      "execution_count": null,
      "metadata": {
        "colab": {
          "base_uri": "https://localhost:8080/"
        },
        "id": "G9moBGv-B5_4",
        "outputId": "cc4b21a0-b73e-4516-c3a8-307a6cb3d02c"
      },
      "outputs": [
        {
          "data": {
            "text/plain": [
              "Pipeline(steps=[('vect', CountVectorizer(ngram_range=(1, 2))),\n",
              "                ('tfidf', TfidfTransformer()),\n",
              "                ('clf',\n",
              "                 GradientBoostingClassifier(max_depth=10, n_estimators=10,\n",
              "                                            random_state=10))])"
            ]
          },
          "execution_count": 119,
          "metadata": {},
          "output_type": "execute_result"
        }
      ],
      "source": [
        "from sklearn.ensemble import GradientBoostingClassifier\n",
        "graboos = Pipeline([('vect', CountVectorizer(ngram_range=(1, 2))),\n",
        "                ('tfidf', TfidfTransformer()),\n",
        "                ('clf', GradientBoostingClassifier(n_estimators=10, max_depth=10, random_state=10)),\n",
        "               ])\n",
        "graboos.fit(X_train, y_train)"
      ]
    },
    {
      "cell_type": "code",
      "execution_count": null,
      "metadata": {
        "colab": {
          "base_uri": "https://localhost:8080/"
        },
        "id": "B4_A3RXdB5_4",
        "outputId": "39b4905c-d100-41e9-8355-304736c36e62"
      },
      "outputs": [
        {
          "name": "stdout",
          "output_type": "stream",
          "text": [
            "CPU times: user 174 ms, sys: 147 µs, total: 174 ms\n",
            "Wall time: 175 ms\n"
          ]
        }
      ],
      "source": [
        "%%time\n",
        "y_pred = graboos.predict(X_test)"
      ]
    },
    {
      "cell_type": "code",
      "execution_count": null,
      "metadata": {
        "colab": {
          "base_uri": "https://localhost:8080/"
        },
        "id": "A2uIQ6LIB5_4",
        "outputId": "919b4e9f-19b1-4931-e63c-04cedc2f7e2b"
      },
      "outputs": [
        {
          "name": "stdout",
          "output_type": "stream",
          "text": [
            "accuracy 0.6054852320675106\n",
            "                    precision    recall  f1-score   support\n",
            "\n",
            "            Others       0.64      0.55      0.59       184\n",
            " Economic Activity       0.70      0.87      0.77       258\n",
            "   First Amendment       0.60      0.57      0.59       161\n",
            "Criminal Procedure       0.65      0.57      0.61        96\n",
            "      Civil Rights       0.53      0.27      0.36       111\n",
            "    Judicial Power       0.41      0.52      0.46       138\n",
            "\n",
            "          accuracy                           0.61       948\n",
            "         macro avg       0.59      0.56      0.56       948\n",
            "      weighted avg       0.60      0.61      0.60       948\n",
            "\n"
          ]
        }
      ],
      "source": [
        "print('accuracy %s' % accuracy_score(y_pred, y_test))\n",
        "print(classification_report(y_test, y_pred,target_names=my_issue_area))"
      ]
    },
    {
      "cell_type": "code",
      "execution_count": null,
      "metadata": {
        "colab": {
          "base_uri": "https://localhost:8080/"
        },
        "id": "UvM_a89gB5_5",
        "outputId": "871bcdc1-43d5-46cd-948b-d9efbbbfba05"
      },
      "outputs": [
        {
          "data": {
            "text/plain": [
              "LabelEncoder()"
            ]
          },
          "execution_count": 122,
          "metadata": {},
          "output_type": "execute_result"
        }
      ],
      "source": [
        "from sklearn import preprocessing\n",
        "le = preprocessing.LabelEncoder()\n",
        "le.fit(y_train)"
      ]
    },
    {
      "cell_type": "code",
      "execution_count": null,
      "metadata": {
        "id": "BYWD08u9B5_5"
      },
      "outputs": [],
      "source": [
        "y_train = le.transform(y_train)\n",
        "y_test = le.transform(y_test)"
      ]
    },
    {
      "cell_type": "code",
      "execution_count": null,
      "metadata": {
        "colab": {
          "base_uri": "https://localhost:8080/"
        },
        "id": "o2nkCEsJB5_5",
        "outputId": "5da63aa8-14df-4bba-9586-1f8360d19046"
      },
      "outputs": [
        {
          "data": {
            "text/plain": [
              "Pipeline(steps=[('vect', CountVectorizer(ngram_range=(1, 2))),\n",
              "                ('tfidf', TfidfTransformer()),\n",
              "                ('clf', XGBClassifier(objective='multi:softprob'))])"
            ]
          },
          "execution_count": 124,
          "metadata": {},
          "output_type": "execute_result"
        }
      ],
      "source": [
        "import xgboost as xgb\n",
        "\n",
        "xgboo = Pipeline([('vect', CountVectorizer(ngram_range=(1, 2))),\n",
        "                ('tfidf', TfidfTransformer()),\n",
        "                ('clf', xgb.XGBClassifier()),\n",
        "               ])\n",
        "xgboo.fit(X_train, y_train)"
      ]
    },
    {
      "cell_type": "code",
      "execution_count": null,
      "metadata": {
        "colab": {
          "base_uri": "https://localhost:8080/"
        },
        "id": "y_AHa5GpB5_5",
        "outputId": "641e2218-82d6-426b-b2ea-d36b9c03e447"
      },
      "outputs": [
        {
          "name": "stdout",
          "output_type": "stream",
          "text": [
            "CPU times: user 272 ms, sys: 4.83 ms, total: 277 ms\n",
            "Wall time: 276 ms\n"
          ]
        }
      ],
      "source": [
        "%%time\n",
        "y_pred = xgboo.predict(X_test)"
      ]
    },
    {
      "cell_type": "code",
      "execution_count": null,
      "metadata": {
        "colab": {
          "base_uri": "https://localhost:8080/"
        },
        "id": "P0u4uJC1B5_5",
        "outputId": "9ce3029a-c35e-47e4-feab-b0504e9089b4"
      },
      "outputs": [
        {
          "name": "stdout",
          "output_type": "stream",
          "text": [
            "accuracy 0.6244725738396625\n",
            "                    precision    recall  f1-score   support\n",
            "\n",
            "            Others       0.64      0.55      0.59       184\n",
            " Economic Activity       0.73      0.91      0.81       258\n",
            "   First Amendment       0.62      0.58      0.60       161\n",
            "Criminal Procedure       0.67      0.65      0.66        96\n",
            "      Civil Rights       0.47      0.29      0.36       111\n",
            "    Judicial Power       0.44      0.50      0.47       138\n",
            "\n",
            "          accuracy                           0.62       948\n",
            "         macro avg       0.59      0.58      0.58       948\n",
            "      weighted avg       0.62      0.62      0.61       948\n",
            "\n"
          ]
        }
      ],
      "source": [
        "print('accuracy %s' % accuracy_score(y_pred, y_test))\n",
        "print(classification_report(y_test, y_pred,target_names=my_issue_area))"
      ]
    },
    {
      "cell_type": "code",
      "execution_count": null,
      "metadata": {
        "colab": {
          "base_uri": "https://localhost:8080/"
        },
        "id": "GUUvUiqmsbRG",
        "outputId": "b1e49c3d-19a6-47dc-f99c-7148d95861c0"
      },
      "outputs": [
        {
          "data": {
            "text/plain": [
              "Pipeline(steps=[('vect', CountVectorizer(ngram_range=(1, 2))),\n",
              "                ('tfidf', TfidfTransformer()),\n",
              "                ('clf', KNeighborsClassifier(n_neighbors=3))])"
            ]
          },
          "execution_count": 127,
          "metadata": {},
          "output_type": "execute_result"
        }
      ],
      "source": [
        "kn = Pipeline([('vect', CountVectorizer(ngram_range=(1, 2))),\n",
        "                ('tfidf', TfidfTransformer()),\n",
        "                ('clf', KNeighborsClassifier(n_neighbors=3)),\n",
        "               ])\n",
        "kn.fit(X_train, y_train)"
      ]
    },
    {
      "cell_type": "code",
      "execution_count": null,
      "metadata": {
        "colab": {
          "base_uri": "https://localhost:8080/"
        },
        "id": "6nt-ZVlksbNm",
        "outputId": "16ac4ab2-f6aa-463b-c880-a3f2a6f162b2"
      },
      "outputs": [
        {
          "name": "stdout",
          "output_type": "stream",
          "text": [
            "CPU times: user 315 ms, sys: 2.35 ms, total: 318 ms\n",
            "Wall time: 322 ms\n"
          ]
        }
      ],
      "source": [
        "%%time\n",
        "y_pred = kn.predict(X_test)"
      ]
    },
    {
      "cell_type": "code",
      "execution_count": null,
      "metadata": {
        "colab": {
          "base_uri": "https://localhost:8080/"
        },
        "id": "1BtIsIVYsz7U",
        "outputId": "19808e0d-3e0c-4ded-8dd0-557b38bdb08c"
      },
      "outputs": [
        {
          "name": "stdout",
          "output_type": "stream",
          "text": [
            "accuracy 0.5780590717299579\n",
            "                    precision    recall  f1-score   support\n",
            "\n",
            "            Others       0.47      0.66      0.55       184\n",
            " Economic Activity       0.67      0.80      0.73       258\n",
            "   First Amendment       0.59      0.60      0.60       161\n",
            "Criminal Procedure       0.66      0.50      0.57        96\n",
            "      Civil Rights       0.45      0.18      0.26       111\n",
            "    Judicial Power       0.54      0.41      0.46       138\n",
            "\n",
            "          accuracy                           0.58       948\n",
            "         macro avg       0.56      0.52      0.53       948\n",
            "      weighted avg       0.57      0.58      0.56       948\n",
            "\n"
          ]
        }
      ],
      "source": [
        "from sklearn.metrics import classification_report\n",
        "print('accuracy %s' % accuracy_score(y_pred, y_test))\n",
        "print(classification_report(y_test, y_pred,target_names=my_issue_area))"
      ]
    },
    {
      "cell_type": "markdown",
      "metadata": {
        "id": "_3171OypB5_5"
      },
      "source": [
        "# Word2Vec"
      ]
    },
    {
      "cell_type": "code",
      "execution_count": null,
      "metadata": {
        "id": "JXxMVktmB5_5"
      },
      "outputs": [],
      "source": [
        "pip install --upgrade tensorflow-hub"
      ]
    },
    {
      "cell_type": "code",
      "execution_count": null,
      "metadata": {
        "id": "zeMUToTAGVyV"
      },
      "outputs": [],
      "source": [
        "pip install tensorflow_text"
      ]
    },
    {
      "cell_type": "code",
      "execution_count": null,
      "metadata": {
        "id": "arbPVEJWB5_5"
      },
      "outputs": [],
      "source": [
        "import tensorflow as tf\n",
        "import tensorflow_hub as hub\n",
        "import tensorflow_text as text"
      ]
    },
    {
      "cell_type": "code",
      "execution_count": null,
      "metadata": {
        "id": "yfRCmuhHB5_6"
      },
      "outputs": [],
      "source": [
        "bert_preprocess = hub.KerasLayer(\"https://tfhub.dev/tensorflow/bert_en_uncased_preprocess/3\")\n",
        "bert_encoder = hub.KerasLayer(\"https://tfhub.dev/tensorflow/bert_en_uncased_L-12_H-768_A-12/4\")"
      ]
    },
    {
      "cell_type": "code",
      "execution_count": null,
      "metadata": {
        "id": "8sTK5oOIB5_6"
      },
      "outputs": [],
      "source": [
        "X_train, X_test, y_train, y_test = train_test_split(df_withoutNA[\"facts\"],df_withoutNA[\"issue_area\"],test_size=0.2,shuffle=True)"
      ]
    },
    {
      "cell_type": "code",
      "execution_count": null,
      "metadata": {
        "colab": {
          "base_uri": "https://localhost:8080/"
        },
        "id": "nIAc9ayzKE1N",
        "outputId": "dc2f554a-85d1-4cc2-95b3-379a0e98cc56"
      },
      "outputs": [
        {
          "data": {
            "text/plain": [
              "LabelEncoder()"
            ]
          },
          "execution_count": 176,
          "metadata": {},
          "output_type": "execute_result"
        }
      ],
      "source": [
        "from sklearn import preprocessing\n",
        "le = preprocessing.LabelEncoder()\n",
        "le.fit(y_train)"
      ]
    },
    {
      "cell_type": "code",
      "execution_count": null,
      "metadata": {
        "id": "pugZVm-TKF_8"
      },
      "outputs": [],
      "source": [
        "y_train = le.transform(y_train)\n",
        "y_test = le.transform(y_test)"
      ]
    },
    {
      "cell_type": "code",
      "execution_count": null,
      "metadata": {
        "id": "XP_j2PgHB5_6"
      },
      "outputs": [],
      "source": [
        "# Bert layers\n",
        "text_input = tf.keras.layers.Input(shape=(), dtype=tf.string, name='text')\n",
        "preprocessed_text = bert_preprocess(text_input)\n",
        "outputs = bert_encoder(preprocessed_text)\n",
        "# Neural network layers\n",
        "l = tf.keras.layers.Dropout(0.1, name=\"dropout\")(outputs['pooled_output'])\n",
        "l = tf.keras.layers.Dense(1, activation='sigmoid', name=\"output\")(l)\n",
        "# Use inputs and outputs to construct a final model\n",
        "model = tf.keras.Model(inputs=[text_input], outputs = [l])"
      ]
    },
    {
      "cell_type": "code",
      "execution_count": null,
      "metadata": {
        "colab": {
          "base_uri": "https://localhost:8080/"
        },
        "id": "De2JHmL-JTCO",
        "outputId": "4a02a4e4-f9ec-4bd9-9372-9d06cb617f9a"
      },
      "outputs": [
        {
          "name": "stdout",
          "output_type": "stream",
          "text": [
            "Epoch 1/2\n",
            "79/79 [==============================] - 1090s 13s/step - loss: -13.0583 - accuracy: 0.2731\n",
            "Epoch 2/2\n",
            "79/79 [==============================] - 1056s 13s/step - loss: -40.5781 - accuracy: 0.2762\n"
          ]
        },
        {
          "data": {
            "text/plain": [
              "<keras.callbacks.History at 0x7f86edbadb80>"
            ]
          },
          "execution_count": 179,
          "metadata": {},
          "output_type": "execute_result"
        }
      ],
      "source": [
        "model.compile(optimizer='adam', loss='binary_crossentropy', metrics=['accuracy'])\n",
        "model.fit(X_train, y_train, epochs=2, batch_size = 32)"
      ]
    },
    {
      "cell_type": "code",
      "execution_count": null,
      "metadata": {
        "colab": {
          "base_uri": "https://localhost:8080/"
        },
        "id": "9B_yqCgtUDn6",
        "outputId": "1c1d200a-79e6-41c9-8118-7d4ca049b209"
      },
      "outputs": [
        {
          "data": {
            "text/plain": [
              "array([1, 3, 2, ..., 0, 1, 3])"
            ]
          },
          "execution_count": 180,
          "metadata": {},
          "output_type": "execute_result"
        }
      ],
      "source": [
        "y_train"
      ]
    },
    {
      "cell_type": "code",
      "execution_count": null,
      "metadata": {
        "colab": {
          "base_uri": "https://localhost:8080/"
        },
        "id": "xc6pD6_0JZeE",
        "outputId": "55d0b4a1-574f-4863-ae02-659bdcc02bd8"
      },
      "outputs": [
        {
          "name": "stdout",
          "output_type": "stream",
          "text": [
            "20/20 [==============================] - 259s 13s/step\n",
            "[1. 1. 1. 1. 1. 1. 1. 1. 1. 1. 1. 1. 1. 1. 1. 1. 1. 1. 1. 1. 1. 1. 1. 1.\n",
            " 1. 1. 1. 1. 1. 1. 1. 1. 1. 1. 1. 1. 1. 1. 1. 1. 1. 1. 1. 1. 1. 1. 1. 1.\n",
            " 1. 1. 1. 1. 1. 1. 1. 1. 1. 1. 1. 1. 1. 1. 1. 1. 1. 1. 1. 1. 1. 1. 1. 1.\n",
            " 1. 1. 1. 1. 1. 1. 1. 1. 1. 1. 1. 1. 1. 1. 1. 1. 1. 1. 1. 1. 1. 1. 1. 1.\n",
            " 1. 1. 1. 1. 1. 1. 1. 1. 1. 1. 1. 1. 1. 1. 1. 1. 1. 1. 1. 1. 1. 1. 1. 1.\n",
            " 1. 1. 1. 1. 1. 1. 1. 1. 1. 1. 1. 1. 1. 1. 1. 1. 1. 1. 1. 1. 1. 1. 1. 1.\n",
            " 1. 1. 1. 1. 1. 1. 1. 1. 1. 1. 1. 1. 1. 1. 1. 1. 1. 1. 1. 1. 1. 1. 1. 1.\n",
            " 1. 1. 1. 1. 1. 1. 1. 1. 1. 1. 1. 1. 1. 1. 1. 1. 1. 1. 1. 1. 1. 1. 1. 1.\n",
            " 1. 1. 1. 1. 1. 1. 1. 1. 1. 1. 1. 1. 1. 1. 1. 1. 1. 1. 1. 1. 1. 1. 1. 1.\n",
            " 1. 1. 1. 1. 1. 1. 1. 1. 1. 1. 1. 1. 1. 1. 1. 1. 1. 1. 1. 1. 1. 1. 1. 1.\n",
            " 1. 1. 1. 1. 1. 1. 1. 1. 1. 1. 1. 1. 1. 1. 1. 1. 1. 1. 1. 1. 1. 1. 1. 1.\n",
            " 1. 1. 1. 1. 1. 1. 1. 1. 1. 1. 1. 1. 1. 1. 1. 1. 1. 1. 1. 1. 1. 1. 1. 1.\n",
            " 1. 1. 1. 1. 1. 1. 1. 1. 1. 1. 1. 1. 1. 1. 1. 1. 1. 1. 1. 1. 1. 1. 1. 1.\n",
            " 1. 1. 1. 1. 1. 1. 1. 1. 1. 1. 1. 1. 1. 1. 1. 1. 1. 1. 1. 1. 1. 1. 1. 1.\n",
            " 1. 1. 1. 1. 1. 1. 1. 1. 1. 1. 1. 1. 1. 1. 1. 1. 1. 1. 1. 1. 1. 1. 1. 1.\n",
            " 1. 1. 1. 1. 1. 1. 1. 1. 1. 1. 1. 1. 1. 1. 1. 1. 1. 1. 1. 1. 1. 1. 1. 1.\n",
            " 1. 1. 1. 1. 1. 1. 1. 1. 1. 1. 1. 1. 1. 1. 1. 1. 1. 1. 1. 1. 1. 1. 1. 1.\n",
            " 1. 1. 1. 1. 1. 1. 1. 1. 1. 1. 1. 1. 1. 1. 1. 1. 1. 1. 1. 1. 1. 1. 1. 1.\n",
            " 1. 1. 1. 1. 1. 1. 1. 1. 1. 1. 1. 1. 1. 1. 1. 1. 1. 1. 1. 1. 1. 1. 1. 1.\n",
            " 1. 1. 1. 1. 1. 1. 1. 1. 1. 1. 1. 1. 1. 1. 1. 1. 1. 1. 1. 1. 1. 1. 1. 1.\n",
            " 1. 1. 1. 1. 1. 1. 1. 1. 1. 1. 1. 1. 1. 1. 1. 1. 1. 1. 1. 1. 1. 1. 1. 1.\n",
            " 1. 1. 1. 1. 1. 1. 1. 1. 1. 1. 1. 1. 1. 1. 1. 1. 1. 1. 1. 1. 1. 1. 1. 1.\n",
            " 1. 1. 1. 1. 1. 1. 1. 1. 1. 1. 1. 1. 1. 1. 1. 1. 1. 1. 1. 1. 1. 1. 1. 1.\n",
            " 1. 1. 1. 1. 1. 1. 1. 1. 1. 1. 1. 1. 1. 1. 1. 1. 1. 1. 1. 1. 1. 1. 1. 1.\n",
            " 1. 1. 1. 1. 1. 1. 1. 1. 1. 1. 1. 1. 1. 1. 1. 1. 1. 1. 1. 1. 1. 1. 1. 1.\n",
            " 1. 1. 1. 1. 1. 1. 1. 1. 1. 1. 1. 1. 1. 1. 1. 1. 1. 1. 1. 1. 1. 1. 1. 1.\n",
            " 1. 1. 1. 1. 1. 1. 1. 1.]\n"
          ]
        }
      ],
      "source": [
        "y_predicted = model.predict(X_test)\n",
        "y_predicted = y_predicted.flatten()\n",
        "print(y_predicted)"
      ]
    },
    {
      "cell_type": "code",
      "execution_count": null,
      "metadata": {
        "colab": {
          "base_uri": "https://localhost:8080/"
        },
        "id": "N4LYXrXhX429",
        "outputId": "a425d560-b151-41ce-d399-0b25c53aa80b"
      },
      "outputs": [
        {
          "name": "stdout",
          "output_type": "stream",
          "text": [
            "accuracy 0.254746835443038\n",
            "                    precision    recall  f1-score   support\n",
            "\n",
            "            Others       0.00      0.00      0.00       113\n",
            "    Judicial Power       0.25      1.00      0.41       161\n",
            "Criminal Procedure       0.00      0.00      0.00       104\n",
            " Economic Activity       0.00      0.00      0.00        70\n",
            "      Civil Rights       0.00      0.00      0.00        69\n",
            "   First Amendment       0.00      0.00      0.00       115\n",
            "\n",
            "          accuracy                           0.25       632\n",
            "         macro avg       0.04      0.17      0.07       632\n",
            "      weighted avg       0.06      0.25      0.10       632\n",
            "\n"
          ]
        },
        {
          "name": "stderr",
          "output_type": "stream",
          "text": [
            "/usr/local/lib/python3.8/dist-packages/sklearn/metrics/_classification.py:1318: UndefinedMetricWarning: Precision and F-score are ill-defined and being set to 0.0 in labels with no predicted samples. Use `zero_division` parameter to control this behavior.\n",
            "  _warn_prf(average, modifier, msg_start, len(result))\n",
            "/usr/local/lib/python3.8/dist-packages/sklearn/metrics/_classification.py:1318: UndefinedMetricWarning: Precision and F-score are ill-defined and being set to 0.0 in labels with no predicted samples. Use `zero_division` parameter to control this behavior.\n",
            "  _warn_prf(average, modifier, msg_start, len(result))\n",
            "/usr/local/lib/python3.8/dist-packages/sklearn/metrics/_classification.py:1318: UndefinedMetricWarning: Precision and F-score are ill-defined and being set to 0.0 in labels with no predicted samples. Use `zero_division` parameter to control this behavior.\n",
            "  _warn_prf(average, modifier, msg_start, len(result))\n"
          ]
        }
      ],
      "source": [
        "print('accuracy %s' % accuracy_score(y_predicted, y_test))\n",
        "print(classification_report(y_test, y_predicted,target_names=my_issue_area))"
      ]
    },
    {
      "cell_type": "markdown",
      "metadata": {
        "id": "9skypSU9fjxV"
      },
      "source": [
        "# Issue Area prediction"
      ]
    },
    {
      "cell_type": "code",
      "execution_count": 195,
      "metadata": {
        "id": "99PffgHGORbf"
      },
      "outputs": [],
      "source": [
        "second_df = pd.read_csv(\"us_classactions_verdicts.csv\")\n",
        "second_df = second_df[[\"target_text\", \"verdict\"]]"
      ]
    },
    {
      "cell_type": "code",
      "execution_count": 196,
      "metadata": {
        "id": "moVtTQoEPcMs"
      },
      "outputs": [],
      "source": [
        "second_df.rename(columns = {'target_text':'facts', 'verdict': 'first_party_winner'}, inplace = True)"
      ]
    },
    {
      "cell_type": "code",
      "execution_count": 197,
      "metadata": {
        "colab": {
          "base_uri": "https://localhost:8080/",
          "height": 143
        },
        "id": "p2y_a8iPP1hp",
        "outputId": "74e8b683-27d7-42f3-f245-6001a4b3dec1"
      },
      "outputs": [
        {
          "output_type": "execute_result",
          "data": {
            "text/plain": [
              "                                               facts first_party_winner\n",
              "0   Knowing and/or Willful Violation of the Telep...               lose\n",
              "1  17.  Defendants operate an electrical construc...                win\n",
              "2  (Fair Labor Standards Act Violations)   (Viola...                win"
            ],
            "text/html": [
              "\n",
              "  <div id=\"df-11262d09-32a4-47c7-8ba5-2487ed72e353\">\n",
              "    <div class=\"colab-df-container\">\n",
              "      <div>\n",
              "<style scoped>\n",
              "    .dataframe tbody tr th:only-of-type {\n",
              "        vertical-align: middle;\n",
              "    }\n",
              "\n",
              "    .dataframe tbody tr th {\n",
              "        vertical-align: top;\n",
              "    }\n",
              "\n",
              "    .dataframe thead th {\n",
              "        text-align: right;\n",
              "    }\n",
              "</style>\n",
              "<table border=\"1\" class=\"dataframe\">\n",
              "  <thead>\n",
              "    <tr style=\"text-align: right;\">\n",
              "      <th></th>\n",
              "      <th>facts</th>\n",
              "      <th>first_party_winner</th>\n",
              "    </tr>\n",
              "  </thead>\n",
              "  <tbody>\n",
              "    <tr>\n",
              "      <th>0</th>\n",
              "      <td>Knowing and/or Willful Violation of the Telep...</td>\n",
              "      <td>lose</td>\n",
              "    </tr>\n",
              "    <tr>\n",
              "      <th>1</th>\n",
              "      <td>17.  Defendants operate an electrical construc...</td>\n",
              "      <td>win</td>\n",
              "    </tr>\n",
              "    <tr>\n",
              "      <th>2</th>\n",
              "      <td>(Fair Labor Standards Act Violations)   (Viola...</td>\n",
              "      <td>win</td>\n",
              "    </tr>\n",
              "  </tbody>\n",
              "</table>\n",
              "</div>\n",
              "      <button class=\"colab-df-convert\" onclick=\"convertToInteractive('df-11262d09-32a4-47c7-8ba5-2487ed72e353')\"\n",
              "              title=\"Convert this dataframe to an interactive table.\"\n",
              "              style=\"display:none;\">\n",
              "        \n",
              "  <svg xmlns=\"http://www.w3.org/2000/svg\" height=\"24px\"viewBox=\"0 0 24 24\"\n",
              "       width=\"24px\">\n",
              "    <path d=\"M0 0h24v24H0V0z\" fill=\"none\"/>\n",
              "    <path d=\"M18.56 5.44l.94 2.06.94-2.06 2.06-.94-2.06-.94-.94-2.06-.94 2.06-2.06.94zm-11 1L8.5 8.5l.94-2.06 2.06-.94-2.06-.94L8.5 2.5l-.94 2.06-2.06.94zm10 10l.94 2.06.94-2.06 2.06-.94-2.06-.94-.94-2.06-.94 2.06-2.06.94z\"/><path d=\"M17.41 7.96l-1.37-1.37c-.4-.4-.92-.59-1.43-.59-.52 0-1.04.2-1.43.59L10.3 9.45l-7.72 7.72c-.78.78-.78 2.05 0 2.83L4 21.41c.39.39.9.59 1.41.59.51 0 1.02-.2 1.41-.59l7.78-7.78 2.81-2.81c.8-.78.8-2.07 0-2.86zM5.41 20L4 18.59l7.72-7.72 1.47 1.35L5.41 20z\"/>\n",
              "  </svg>\n",
              "      </button>\n",
              "      \n",
              "  <style>\n",
              "    .colab-df-container {\n",
              "      display:flex;\n",
              "      flex-wrap:wrap;\n",
              "      gap: 12px;\n",
              "    }\n",
              "\n",
              "    .colab-df-convert {\n",
              "      background-color: #E8F0FE;\n",
              "      border: none;\n",
              "      border-radius: 50%;\n",
              "      cursor: pointer;\n",
              "      display: none;\n",
              "      fill: #1967D2;\n",
              "      height: 32px;\n",
              "      padding: 0 0 0 0;\n",
              "      width: 32px;\n",
              "    }\n",
              "\n",
              "    .colab-df-convert:hover {\n",
              "      background-color: #E2EBFA;\n",
              "      box-shadow: 0px 1px 2px rgba(60, 64, 67, 0.3), 0px 1px 3px 1px rgba(60, 64, 67, 0.15);\n",
              "      fill: #174EA6;\n",
              "    }\n",
              "\n",
              "    [theme=dark] .colab-df-convert {\n",
              "      background-color: #3B4455;\n",
              "      fill: #D2E3FC;\n",
              "    }\n",
              "\n",
              "    [theme=dark] .colab-df-convert:hover {\n",
              "      background-color: #434B5C;\n",
              "      box-shadow: 0px 1px 3px 1px rgba(0, 0, 0, 0.15);\n",
              "      filter: drop-shadow(0px 1px 2px rgba(0, 0, 0, 0.3));\n",
              "      fill: #FFFFFF;\n",
              "    }\n",
              "  </style>\n",
              "\n",
              "      <script>\n",
              "        const buttonEl =\n",
              "          document.querySelector('#df-11262d09-32a4-47c7-8ba5-2487ed72e353 button.colab-df-convert');\n",
              "        buttonEl.style.display =\n",
              "          google.colab.kernel.accessAllowed ? 'block' : 'none';\n",
              "\n",
              "        async function convertToInteractive(key) {\n",
              "          const element = document.querySelector('#df-11262d09-32a4-47c7-8ba5-2487ed72e353');\n",
              "          const dataTable =\n",
              "            await google.colab.kernel.invokeFunction('convertToInteractive',\n",
              "                                                     [key], {});\n",
              "          if (!dataTable) return;\n",
              "\n",
              "          const docLinkHtml = 'Like what you see? Visit the ' +\n",
              "            '<a target=\"_blank\" href=https://colab.research.google.com/notebooks/data_table.ipynb>data table notebook</a>'\n",
              "            + ' to learn more about interactive tables.';\n",
              "          element.innerHTML = '';\n",
              "          dataTable['output_type'] = 'display_data';\n",
              "          await google.colab.output.renderOutput(dataTable, element);\n",
              "          const docLink = document.createElement('div');\n",
              "          docLink.innerHTML = docLinkHtml;\n",
              "          element.appendChild(docLink);\n",
              "        }\n",
              "      </script>\n",
              "    </div>\n",
              "  </div>\n",
              "  "
            ]
          },
          "metadata": {},
          "execution_count": 197
        }
      ],
      "source": [
        "second_df.head(3)"
      ]
    },
    {
      "cell_type": "code",
      "execution_count": 198,
      "metadata": {
        "id": "gZXgMXMtQdAZ"
      },
      "outputs": [],
      "source": [
        "from sklearn import preprocessing\n",
        "le = preprocessing.LabelEncoder()"
      ]
    },
    {
      "cell_type": "code",
      "execution_count": 199,
      "metadata": {
        "colab": {
          "base_uri": "https://localhost:8080/"
        },
        "id": "xWUSeHldROex",
        "outputId": "a2524a5e-e865-48be-fdee-d01786178275"
      },
      "outputs": [
        {
          "output_type": "execute_result",
          "data": {
            "text/plain": [
              "LabelEncoder()"
            ]
          },
          "metadata": {},
          "execution_count": 199
        }
      ],
      "source": [
        "le.fit(second_df[\"first_party_winner\"])"
      ]
    },
    {
      "cell_type": "code",
      "execution_count": 200,
      "metadata": {
        "id": "kyIiHdaUQqCX"
      },
      "outputs": [],
      "source": [
        "second_df[\"first_party_winner\"] = le.transform(second_df[\"first_party_winner\"])"
      ]
    },
    {
      "cell_type": "code",
      "execution_count": 202,
      "metadata": {
        "id": "IDHrquo1Tj0V"
      },
      "outputs": [],
      "source": [
        "second_df['facts'] = second_df['facts'].map(lambda x: clean_text(x, stemming=False, lemmatization = True))\n",
        "df_withNA['facts'] = df_withNA['facts'].map(lambda x: clean_text(x, stemming=False, lemmatization = True))"
      ]
    },
    {
      "cell_type": "code",
      "execution_count": 203,
      "metadata": {
        "id": "VT-asE9aRmdo"
      },
      "outputs": [],
      "source": [
        "df_withNA = df_withNA[[\"facts\", \"first_party_winner\"]]"
      ]
    },
    {
      "cell_type": "code",
      "execution_count": 204,
      "metadata": {
        "id": "EknOrBxeTAGl"
      },
      "outputs": [],
      "source": [
        "df_toPredict = pd.concat([df_withNA, second_df])\n",
        "df_toPredict = df_toPredict.reset_index(drop=True)"
      ]
    },
    {
      "cell_type": "code",
      "execution_count": 205,
      "metadata": {
        "colab": {
          "base_uri": "https://localhost:8080/",
          "height": 424
        },
        "id": "gbff7QEqT712",
        "outputId": "296284c6-b37c-4910-c772-a66a336af7e8"
      },
      "outputs": [
        {
          "output_type": "execute_result",
          "data": {
            "text/plain": [
              "                                                  facts  first_party_winner\n",
              "0     jane roe fictional name use court document pro...                   1\n",
              "1     wiley bolden residents mobile alabama bring cl...                   1\n",
              "2     county los angeles impose ad valorem tax manuf...                   0\n",
              "3     rincon island artificial island coast ventura ...                   1\n",
              "4     president jimmy carter act without congression...                   0\n",
              "...                                                 ...                 ...\n",
              "3124  fair labor standards act violations violations...                   1\n",
              "3125  guidelines regularly test user accessibility b...                   0\n",
              "3126  action bring class action plaintiff bring acti...                   1\n",
              "3127  discovery may reveal transmission additional f...                   0\n",
              "3128  teligent research develop produce supply sell ...                   1\n",
              "\n",
              "[3129 rows x 2 columns]"
            ],
            "text/html": [
              "\n",
              "  <div id=\"df-f6aa1203-40c7-4181-a7fe-93df9bd8f68c\">\n",
              "    <div class=\"colab-df-container\">\n",
              "      <div>\n",
              "<style scoped>\n",
              "    .dataframe tbody tr th:only-of-type {\n",
              "        vertical-align: middle;\n",
              "    }\n",
              "\n",
              "    .dataframe tbody tr th {\n",
              "        vertical-align: top;\n",
              "    }\n",
              "\n",
              "    .dataframe thead th {\n",
              "        text-align: right;\n",
              "    }\n",
              "</style>\n",
              "<table border=\"1\" class=\"dataframe\">\n",
              "  <thead>\n",
              "    <tr style=\"text-align: right;\">\n",
              "      <th></th>\n",
              "      <th>facts</th>\n",
              "      <th>first_party_winner</th>\n",
              "    </tr>\n",
              "  </thead>\n",
              "  <tbody>\n",
              "    <tr>\n",
              "      <th>0</th>\n",
              "      <td>jane roe fictional name use court document pro...</td>\n",
              "      <td>1</td>\n",
              "    </tr>\n",
              "    <tr>\n",
              "      <th>1</th>\n",
              "      <td>wiley bolden residents mobile alabama bring cl...</td>\n",
              "      <td>1</td>\n",
              "    </tr>\n",
              "    <tr>\n",
              "      <th>2</th>\n",
              "      <td>county los angeles impose ad valorem tax manuf...</td>\n",
              "      <td>0</td>\n",
              "    </tr>\n",
              "    <tr>\n",
              "      <th>3</th>\n",
              "      <td>rincon island artificial island coast ventura ...</td>\n",
              "      <td>1</td>\n",
              "    </tr>\n",
              "    <tr>\n",
              "      <th>4</th>\n",
              "      <td>president jimmy carter act without congression...</td>\n",
              "      <td>0</td>\n",
              "    </tr>\n",
              "    <tr>\n",
              "      <th>...</th>\n",
              "      <td>...</td>\n",
              "      <td>...</td>\n",
              "    </tr>\n",
              "    <tr>\n",
              "      <th>3124</th>\n",
              "      <td>fair labor standards act violations violations...</td>\n",
              "      <td>1</td>\n",
              "    </tr>\n",
              "    <tr>\n",
              "      <th>3125</th>\n",
              "      <td>guidelines regularly test user accessibility b...</td>\n",
              "      <td>0</td>\n",
              "    </tr>\n",
              "    <tr>\n",
              "      <th>3126</th>\n",
              "      <td>action bring class action plaintiff bring acti...</td>\n",
              "      <td>1</td>\n",
              "    </tr>\n",
              "    <tr>\n",
              "      <th>3127</th>\n",
              "      <td>discovery may reveal transmission additional f...</td>\n",
              "      <td>0</td>\n",
              "    </tr>\n",
              "    <tr>\n",
              "      <th>3128</th>\n",
              "      <td>teligent research develop produce supply sell ...</td>\n",
              "      <td>1</td>\n",
              "    </tr>\n",
              "  </tbody>\n",
              "</table>\n",
              "<p>3129 rows × 2 columns</p>\n",
              "</div>\n",
              "      <button class=\"colab-df-convert\" onclick=\"convertToInteractive('df-f6aa1203-40c7-4181-a7fe-93df9bd8f68c')\"\n",
              "              title=\"Convert this dataframe to an interactive table.\"\n",
              "              style=\"display:none;\">\n",
              "        \n",
              "  <svg xmlns=\"http://www.w3.org/2000/svg\" height=\"24px\"viewBox=\"0 0 24 24\"\n",
              "       width=\"24px\">\n",
              "    <path d=\"M0 0h24v24H0V0z\" fill=\"none\"/>\n",
              "    <path d=\"M18.56 5.44l.94 2.06.94-2.06 2.06-.94-2.06-.94-.94-2.06-.94 2.06-2.06.94zm-11 1L8.5 8.5l.94-2.06 2.06-.94-2.06-.94L8.5 2.5l-.94 2.06-2.06.94zm10 10l.94 2.06.94-2.06 2.06-.94-2.06-.94-.94-2.06-.94 2.06-2.06.94z\"/><path d=\"M17.41 7.96l-1.37-1.37c-.4-.4-.92-.59-1.43-.59-.52 0-1.04.2-1.43.59L10.3 9.45l-7.72 7.72c-.78.78-.78 2.05 0 2.83L4 21.41c.39.39.9.59 1.41.59.51 0 1.02-.2 1.41-.59l7.78-7.78 2.81-2.81c.8-.78.8-2.07 0-2.86zM5.41 20L4 18.59l7.72-7.72 1.47 1.35L5.41 20z\"/>\n",
              "  </svg>\n",
              "      </button>\n",
              "      \n",
              "  <style>\n",
              "    .colab-df-container {\n",
              "      display:flex;\n",
              "      flex-wrap:wrap;\n",
              "      gap: 12px;\n",
              "    }\n",
              "\n",
              "    .colab-df-convert {\n",
              "      background-color: #E8F0FE;\n",
              "      border: none;\n",
              "      border-radius: 50%;\n",
              "      cursor: pointer;\n",
              "      display: none;\n",
              "      fill: #1967D2;\n",
              "      height: 32px;\n",
              "      padding: 0 0 0 0;\n",
              "      width: 32px;\n",
              "    }\n",
              "\n",
              "    .colab-df-convert:hover {\n",
              "      background-color: #E2EBFA;\n",
              "      box-shadow: 0px 1px 2px rgba(60, 64, 67, 0.3), 0px 1px 3px 1px rgba(60, 64, 67, 0.15);\n",
              "      fill: #174EA6;\n",
              "    }\n",
              "\n",
              "    [theme=dark] .colab-df-convert {\n",
              "      background-color: #3B4455;\n",
              "      fill: #D2E3FC;\n",
              "    }\n",
              "\n",
              "    [theme=dark] .colab-df-convert:hover {\n",
              "      background-color: #434B5C;\n",
              "      box-shadow: 0px 1px 3px 1px rgba(0, 0, 0, 0.15);\n",
              "      filter: drop-shadow(0px 1px 2px rgba(0, 0, 0, 0.3));\n",
              "      fill: #FFFFFF;\n",
              "    }\n",
              "  </style>\n",
              "\n",
              "      <script>\n",
              "        const buttonEl =\n",
              "          document.querySelector('#df-f6aa1203-40c7-4181-a7fe-93df9bd8f68c button.colab-df-convert');\n",
              "        buttonEl.style.display =\n",
              "          google.colab.kernel.accessAllowed ? 'block' : 'none';\n",
              "\n",
              "        async function convertToInteractive(key) {\n",
              "          const element = document.querySelector('#df-f6aa1203-40c7-4181-a7fe-93df9bd8f68c');\n",
              "          const dataTable =\n",
              "            await google.colab.kernel.invokeFunction('convertToInteractive',\n",
              "                                                     [key], {});\n",
              "          if (!dataTable) return;\n",
              "\n",
              "          const docLinkHtml = 'Like what you see? Visit the ' +\n",
              "            '<a target=\"_blank\" href=https://colab.research.google.com/notebooks/data_table.ipynb>data table notebook</a>'\n",
              "            + ' to learn more about interactive tables.';\n",
              "          element.innerHTML = '';\n",
              "          dataTable['output_type'] = 'display_data';\n",
              "          await google.colab.output.renderOutput(dataTable, element);\n",
              "          const docLink = document.createElement('div');\n",
              "          docLink.innerHTML = docLinkHtml;\n",
              "          element.appendChild(docLink);\n",
              "        }\n",
              "      </script>\n",
              "    </div>\n",
              "  </div>\n",
              "  "
            ]
          },
          "metadata": {},
          "execution_count": 205
        }
      ],
      "source": [
        "df_toPredict"
      ]
    },
    {
      "cell_type": "code",
      "execution_count": 206,
      "metadata": {
        "id": "ySJONMLEUmj8"
      },
      "outputs": [],
      "source": [
        "X = df_withoutNA.facts\n",
        "y = df_withoutNA.issue_area\n",
        "X_train, X_test, y_train, y_test = train_test_split(X, y, test_size=0.2, random_state = 42)"
      ]
    },
    {
      "cell_type": "code",
      "execution_count": 208,
      "metadata": {
        "id": "kbB7FSbmUZbo"
      },
      "outputs": [],
      "source": [
        "from sklearn.linear_model import LogisticRegression\n",
        "from sklearn.pipeline import Pipeline\n",
        "from sklearn.feature_extraction.text import TfidfTransformer\n",
        "\n",
        "logreg = Pipeline([('vect', CountVectorizer(ngram_range=(1, 2))),\n",
        "                ('tfidf', TfidfTransformer()),\n",
        "                ('logistic', LogisticRegression(n_jobs=1, solver='lbfgs', max_iter=100000)),\n",
        "               ])"
      ]
    },
    {
      "cell_type": "code",
      "execution_count": null,
      "metadata": {
        "colab": {
          "base_uri": "https://localhost:8080/"
        },
        "id": "z1eTk9pKSkro",
        "outputId": "568243a8-ef3a-47ec-c7c7-218d69364e12"
      },
      "outputs": [
        {
          "data": {
            "text/plain": [
              "dict_keys(['memory', 'steps', 'verbose', 'vect', 'tfidf', 'logistic', 'vect__analyzer', 'vect__binary', 'vect__decode_error', 'vect__dtype', 'vect__encoding', 'vect__input', 'vect__lowercase', 'vect__max_df', 'vect__max_features', 'vect__min_df', 'vect__ngram_range', 'vect__preprocessor', 'vect__stop_words', 'vect__strip_accents', 'vect__token_pattern', 'vect__tokenizer', 'vect__vocabulary', 'tfidf__norm', 'tfidf__smooth_idf', 'tfidf__sublinear_tf', 'tfidf__use_idf', 'logistic__C', 'logistic__class_weight', 'logistic__dual', 'logistic__fit_intercept', 'logistic__intercept_scaling', 'logistic__l1_ratio', 'logistic__max_iter', 'logistic__multi_class', 'logistic__n_jobs', 'logistic__penalty', 'logistic__random_state', 'logistic__solver', 'logistic__tol', 'logistic__verbose', 'logistic__warm_start'])"
            ]
          },
          "execution_count": 107,
          "metadata": {},
          "output_type": "execute_result"
        }
      ],
      "source": [
        "logreg.get_params().keys()"
      ]
    },
    {
      "cell_type": "code",
      "execution_count": 209,
      "metadata": {
        "id": "oCmlPGOJAmnb"
      },
      "outputs": [],
      "source": [
        "params={'logistic__C':[1e4, 1e5, 1e6],\n",
        "        'logistic__penalty' : ['none', 'l2']}"
      ]
    },
    {
      "cell_type": "code",
      "execution_count": 210,
      "metadata": {
        "id": "qrnC5IngJ3yp"
      },
      "outputs": [],
      "source": [
        "from sklearn.experimental import enable_halving_search_cv \n",
        "from sklearn.model_selection import HalvingGridSearchCV\n",
        "grid = HalvingGridSearchCV(logreg, cv=5, n_jobs=-1, param_grid=params)"
      ]
    },
    {
      "cell_type": "code",
      "execution_count": 211,
      "metadata": {
        "colab": {
          "base_uri": "https://localhost:8080/"
        },
        "id": "oJ4ZF03fSC7j",
        "outputId": "42af79fe-a948-4754-eec9-9dca5a29496f"
      },
      "outputs": [
        {
          "output_type": "execute_result",
          "data": {
            "text/plain": [
              "HalvingGridSearchCV(estimator=Pipeline(steps=[('vect',\n",
              "                                               CountVectorizer(ngram_range=(1,\n",
              "                                                                            2))),\n",
              "                                              ('tfidf', TfidfTransformer()),\n",
              "                                              ('logistic',\n",
              "                                               LogisticRegression(max_iter=100000,\n",
              "                                                                  n_jobs=1))]),\n",
              "                    n_jobs=-1,\n",
              "                    param_grid={'logistic__C': [10000.0, 100000.0, 1000000.0],\n",
              "                                'logistic__penalty': ['none', 'l2']})"
            ]
          },
          "metadata": {},
          "execution_count": 211
        }
      ],
      "source": [
        "grid.fit(X_train, y_train)"
      ]
    },
    {
      "cell_type": "code",
      "execution_count": 212,
      "metadata": {
        "colab": {
          "base_uri": "https://localhost:8080/"
        },
        "id": "FuJTa8UfSYzc",
        "outputId": "b09478d6-4656-4644-8c09-7a9094ca867e"
      },
      "outputs": [
        {
          "output_type": "stream",
          "name": "stdout",
          "text": [
            "Best parameter (CV score=0.714):\n"
          ]
        }
      ],
      "source": [
        "print(\"Best parameter (CV score=%0.3f):\" % grid.best_score_)"
      ]
    },
    {
      "cell_type": "code",
      "source": [
        "%%time\n",
        "from sklearn.metrics import classification_report\n",
        "y_pred = grid.predict(X_test)"
      ],
      "metadata": {
        "colab": {
          "base_uri": "https://localhost:8080/"
        },
        "id": "I18QoOdmGdDB",
        "outputId": "d3ac7bb1-4e4e-4f7b-9278-c10412f855c4"
      },
      "execution_count": 215,
      "outputs": [
        {
          "output_type": "stream",
          "name": "stdout",
          "text": [
            "CPU times: user 170 ms, sys: 284 µs, total: 170 ms\n",
            "Wall time: 178 ms\n"
          ]
        }
      ]
    },
    {
      "cell_type": "code",
      "execution_count": 216,
      "metadata": {
        "colab": {
          "base_uri": "https://localhost:8080/"
        },
        "id": "2UFcBUECU1p9",
        "outputId": "a0b1719b-4ca0-4808-9d4f-847486c9d5a4"
      },
      "outputs": [
        {
          "output_type": "stream",
          "name": "stdout",
          "text": [
            "accuracy 0.7072784810126582\n",
            "                    precision    recall  f1-score   support\n",
            "\n",
            "    Judicial Power       0.73      0.76      0.75       108\n",
            "      Civil Rights       0.76      0.94      0.84       173\n",
            "Criminal Procedure       0.64      0.68      0.66        98\n",
            " Economic Activity       0.75      0.79      0.77        71\n",
            "            Others       0.54      0.31      0.39        81\n",
            "   First Amendment       0.68      0.54      0.60       101\n",
            "\n",
            "          accuracy                           0.71       632\n",
            "         macro avg       0.68      0.67      0.67       632\n",
            "      weighted avg       0.69      0.71      0.69       632\n",
            "\n"
          ]
        }
      ],
      "source": [
        "print('accuracy %s' % accuracy_score(y_pred, y_test))\n",
        "print(classification_report(y_test, y_pred,target_names=my_issue_area))"
      ]
    },
    {
      "cell_type": "code",
      "source": [
        "%%time\n",
        "from sklearn.metrics import classification_report\n",
        "y_pred = grid.predict(df_toPredict[\"facts\"])"
      ],
      "metadata": {
        "colab": {
          "base_uri": "https://localhost:8080/"
        },
        "id": "5tFODi9yKbE9",
        "outputId": "183dc04f-09f8-4a5f-a5b2-949f016a6080"
      },
      "execution_count": 221,
      "outputs": [
        {
          "output_type": "stream",
          "name": "stdout",
          "text": [
            "CPU times: user 6.32 s, sys: 20 ms, total: 6.34 s\n",
            "Wall time: 6.88 s\n"
          ]
        }
      ]
    },
    {
      "cell_type": "code",
      "execution_count": 222,
      "metadata": {
        "id": "sSGG2GqyW2CH"
      },
      "outputs": [],
      "source": [
        "y_pred_df = pd.DataFrame({\"issue_area\": y_pred})"
      ]
    },
    {
      "cell_type": "code",
      "execution_count": 231,
      "metadata": {
        "id": "cXrLxRVcVloH"
      },
      "outputs": [],
      "source": [
        "df_toPredict = pd.concat([df_toPredict, y_pred_df], axis = 1)\n",
        "df_toPredict = df_toPredict[[\"facts\", \"issue_area\", \"first_party_winner\"]]"
      ]
    },
    {
      "cell_type": "code",
      "execution_count": 232,
      "metadata": {
        "id": "LfsYiSWOXrwe"
      },
      "outputs": [],
      "source": [
        "big_df = pd.concat([df_withoutNA, df_toPredict])\n",
        "big_df = big_df.reset_index(drop=True)"
      ]
    },
    {
      "cell_type": "code",
      "execution_count": 233,
      "metadata": {
        "colab": {
          "base_uri": "https://localhost:8080/",
          "height": 424
        },
        "id": "fDNnMUk7X3HI",
        "outputId": "e3fe360a-93db-4b70-d572-2bc49b154f7d"
      },
      "outputs": [
        {
          "output_type": "execute_result",
          "data": {
            "text/plain": [
              "                                                  facts         issue_area  \\\n",
              "0     joan stanley three children peter stanley stan...       Civil Rights   \n",
              "1     john giglio convict pass forge money order app...             Others   \n",
              "2     idaho probate code specify males must prefer f...       Civil Rights   \n",
              "3     miller conduct mass mail campaign advertise sa...    First Amendment   \n",
              "4     ernest mandel belgian professional journalist ...    First Amendment   \n",
              "...                                                 ...                ...   \n",
              "6283  fair labor standards act violations violations...             Others   \n",
              "6284  guidelines regularly test user accessibility b...       Civil Rights   \n",
              "6285  action bring class action plaintiff bring acti...     Judicial Power   \n",
              "6286  discovery may reveal transmission additional f...     Judicial Power   \n",
              "6287  teligent research develop produce supply sell ...  Economic Activity   \n",
              "\n",
              "      first_party_winner  \n",
              "0                      1  \n",
              "1                      1  \n",
              "2                      1  \n",
              "3                      1  \n",
              "4                      1  \n",
              "...                  ...  \n",
              "6283                   1  \n",
              "6284                   0  \n",
              "6285                   1  \n",
              "6286                   0  \n",
              "6287                   1  \n",
              "\n",
              "[6288 rows x 3 columns]"
            ],
            "text/html": [
              "\n",
              "  <div id=\"df-973c16fd-8400-4589-96aa-4a3d71df3ca1\">\n",
              "    <div class=\"colab-df-container\">\n",
              "      <div>\n",
              "<style scoped>\n",
              "    .dataframe tbody tr th:only-of-type {\n",
              "        vertical-align: middle;\n",
              "    }\n",
              "\n",
              "    .dataframe tbody tr th {\n",
              "        vertical-align: top;\n",
              "    }\n",
              "\n",
              "    .dataframe thead th {\n",
              "        text-align: right;\n",
              "    }\n",
              "</style>\n",
              "<table border=\"1\" class=\"dataframe\">\n",
              "  <thead>\n",
              "    <tr style=\"text-align: right;\">\n",
              "      <th></th>\n",
              "      <th>facts</th>\n",
              "      <th>issue_area</th>\n",
              "      <th>first_party_winner</th>\n",
              "    </tr>\n",
              "  </thead>\n",
              "  <tbody>\n",
              "    <tr>\n",
              "      <th>0</th>\n",
              "      <td>joan stanley three children peter stanley stan...</td>\n",
              "      <td>Civil Rights</td>\n",
              "      <td>1</td>\n",
              "    </tr>\n",
              "    <tr>\n",
              "      <th>1</th>\n",
              "      <td>john giglio convict pass forge money order app...</td>\n",
              "      <td>Others</td>\n",
              "      <td>1</td>\n",
              "    </tr>\n",
              "    <tr>\n",
              "      <th>2</th>\n",
              "      <td>idaho probate code specify males must prefer f...</td>\n",
              "      <td>Civil Rights</td>\n",
              "      <td>1</td>\n",
              "    </tr>\n",
              "    <tr>\n",
              "      <th>3</th>\n",
              "      <td>miller conduct mass mail campaign advertise sa...</td>\n",
              "      <td>First Amendment</td>\n",
              "      <td>1</td>\n",
              "    </tr>\n",
              "    <tr>\n",
              "      <th>4</th>\n",
              "      <td>ernest mandel belgian professional journalist ...</td>\n",
              "      <td>First Amendment</td>\n",
              "      <td>1</td>\n",
              "    </tr>\n",
              "    <tr>\n",
              "      <th>...</th>\n",
              "      <td>...</td>\n",
              "      <td>...</td>\n",
              "      <td>...</td>\n",
              "    </tr>\n",
              "    <tr>\n",
              "      <th>6283</th>\n",
              "      <td>fair labor standards act violations violations...</td>\n",
              "      <td>Others</td>\n",
              "      <td>1</td>\n",
              "    </tr>\n",
              "    <tr>\n",
              "      <th>6284</th>\n",
              "      <td>guidelines regularly test user accessibility b...</td>\n",
              "      <td>Civil Rights</td>\n",
              "      <td>0</td>\n",
              "    </tr>\n",
              "    <tr>\n",
              "      <th>6285</th>\n",
              "      <td>action bring class action plaintiff bring acti...</td>\n",
              "      <td>Judicial Power</td>\n",
              "      <td>1</td>\n",
              "    </tr>\n",
              "    <tr>\n",
              "      <th>6286</th>\n",
              "      <td>discovery may reveal transmission additional f...</td>\n",
              "      <td>Judicial Power</td>\n",
              "      <td>0</td>\n",
              "    </tr>\n",
              "    <tr>\n",
              "      <th>6287</th>\n",
              "      <td>teligent research develop produce supply sell ...</td>\n",
              "      <td>Economic Activity</td>\n",
              "      <td>1</td>\n",
              "    </tr>\n",
              "  </tbody>\n",
              "</table>\n",
              "<p>6288 rows × 3 columns</p>\n",
              "</div>\n",
              "      <button class=\"colab-df-convert\" onclick=\"convertToInteractive('df-973c16fd-8400-4589-96aa-4a3d71df3ca1')\"\n",
              "              title=\"Convert this dataframe to an interactive table.\"\n",
              "              style=\"display:none;\">\n",
              "        \n",
              "  <svg xmlns=\"http://www.w3.org/2000/svg\" height=\"24px\"viewBox=\"0 0 24 24\"\n",
              "       width=\"24px\">\n",
              "    <path d=\"M0 0h24v24H0V0z\" fill=\"none\"/>\n",
              "    <path d=\"M18.56 5.44l.94 2.06.94-2.06 2.06-.94-2.06-.94-.94-2.06-.94 2.06-2.06.94zm-11 1L8.5 8.5l.94-2.06 2.06-.94-2.06-.94L8.5 2.5l-.94 2.06-2.06.94zm10 10l.94 2.06.94-2.06 2.06-.94-2.06-.94-.94-2.06-.94 2.06-2.06.94z\"/><path d=\"M17.41 7.96l-1.37-1.37c-.4-.4-.92-.59-1.43-.59-.52 0-1.04.2-1.43.59L10.3 9.45l-7.72 7.72c-.78.78-.78 2.05 0 2.83L4 21.41c.39.39.9.59 1.41.59.51 0 1.02-.2 1.41-.59l7.78-7.78 2.81-2.81c.8-.78.8-2.07 0-2.86zM5.41 20L4 18.59l7.72-7.72 1.47 1.35L5.41 20z\"/>\n",
              "  </svg>\n",
              "      </button>\n",
              "      \n",
              "  <style>\n",
              "    .colab-df-container {\n",
              "      display:flex;\n",
              "      flex-wrap:wrap;\n",
              "      gap: 12px;\n",
              "    }\n",
              "\n",
              "    .colab-df-convert {\n",
              "      background-color: #E8F0FE;\n",
              "      border: none;\n",
              "      border-radius: 50%;\n",
              "      cursor: pointer;\n",
              "      display: none;\n",
              "      fill: #1967D2;\n",
              "      height: 32px;\n",
              "      padding: 0 0 0 0;\n",
              "      width: 32px;\n",
              "    }\n",
              "\n",
              "    .colab-df-convert:hover {\n",
              "      background-color: #E2EBFA;\n",
              "      box-shadow: 0px 1px 2px rgba(60, 64, 67, 0.3), 0px 1px 3px 1px rgba(60, 64, 67, 0.15);\n",
              "      fill: #174EA6;\n",
              "    }\n",
              "\n",
              "    [theme=dark] .colab-df-convert {\n",
              "      background-color: #3B4455;\n",
              "      fill: #D2E3FC;\n",
              "    }\n",
              "\n",
              "    [theme=dark] .colab-df-convert:hover {\n",
              "      background-color: #434B5C;\n",
              "      box-shadow: 0px 1px 3px 1px rgba(0, 0, 0, 0.15);\n",
              "      filter: drop-shadow(0px 1px 2px rgba(0, 0, 0, 0.3));\n",
              "      fill: #FFFFFF;\n",
              "    }\n",
              "  </style>\n",
              "\n",
              "      <script>\n",
              "        const buttonEl =\n",
              "          document.querySelector('#df-973c16fd-8400-4589-96aa-4a3d71df3ca1 button.colab-df-convert');\n",
              "        buttonEl.style.display =\n",
              "          google.colab.kernel.accessAllowed ? 'block' : 'none';\n",
              "\n",
              "        async function convertToInteractive(key) {\n",
              "          const element = document.querySelector('#df-973c16fd-8400-4589-96aa-4a3d71df3ca1');\n",
              "          const dataTable =\n",
              "            await google.colab.kernel.invokeFunction('convertToInteractive',\n",
              "                                                     [key], {});\n",
              "          if (!dataTable) return;\n",
              "\n",
              "          const docLinkHtml = 'Like what you see? Visit the ' +\n",
              "            '<a target=\"_blank\" href=https://colab.research.google.com/notebooks/data_table.ipynb>data table notebook</a>'\n",
              "            + ' to learn more about interactive tables.';\n",
              "          element.innerHTML = '';\n",
              "          dataTable['output_type'] = 'display_data';\n",
              "          await google.colab.output.renderOutput(dataTable, element);\n",
              "          const docLink = document.createElement('div');\n",
              "          docLink.innerHTML = docLinkHtml;\n",
              "          element.appendChild(docLink);\n",
              "        }\n",
              "      </script>\n",
              "    </div>\n",
              "  </div>\n",
              "  "
            ]
          },
          "metadata": {},
          "execution_count": 233
        }
      ],
      "source": [
        "big_df"
      ]
    },
    {
      "cell_type": "markdown",
      "metadata": {
        "id": "GqWh0DVlYFPF"
      },
      "source": [
        "# One Hot Encoding\n"
      ]
    },
    {
      "cell_type": "code",
      "execution_count": 234,
      "metadata": {
        "id": "9DGOdJW6YcPH"
      },
      "outputs": [],
      "source": [
        "from sklearn.preprocessing import OneHotEncoder"
      ]
    },
    {
      "cell_type": "code",
      "execution_count": 235,
      "metadata": {
        "id": "_S5hn4B4gYEM"
      },
      "outputs": [],
      "source": [
        "encoder = OneHotEncoder(handle_unknown='ignore')"
      ]
    },
    {
      "cell_type": "code",
      "execution_count": 236,
      "metadata": {
        "id": "9o9VBwSBlZcY"
      },
      "outputs": [],
      "source": [
        "encoder_df = pd.DataFrame(encoder.fit_transform(big_df[['issue_area']]).toarray())"
      ]
    },
    {
      "cell_type": "code",
      "execution_count": 237,
      "metadata": {
        "id": "f4JMEYHLm4DS"
      },
      "outputs": [],
      "source": [
        "encoder_df.columns = ['Civil Rights', 'Criminal Procedure', 'Economic Activity',\n",
        "                      'First Amendment', 'Judicial Power', 'Others']"
      ]
    },
    {
      "cell_type": "code",
      "execution_count": 238,
      "metadata": {
        "id": "cR3HjWccokE4"
      },
      "outputs": [],
      "source": [
        "big_df = big_df.join(encoder_df)\n",
        "big_df.drop('issue_area', axis=1, inplace=True)"
      ]
    },
    {
      "cell_type": "code",
      "execution_count": 239,
      "metadata": {
        "id": "6luVZx9spQem"
      },
      "outputs": [],
      "source": [
        "big_df[['Civil Rights', 'Criminal Procedure', 'Economic Activity',\n",
        "                      'First Amendment', 'Judicial Power', 'Others']] = big_df[['Civil Rights', 'Criminal Procedure', 'Economic Activity',\n",
        "                      'First Amendment', 'Judicial Power', 'Others']].astype(int)"
      ]
    },
    {
      "cell_type": "code",
      "execution_count": 240,
      "metadata": {
        "id": "jV4ny660p4uX"
      },
      "outputs": [],
      "source": [
        "big_df = big_df[[\"facts\", 'Civil Rights', 'Criminal Procedure', 'Economic Activity',\n",
        "                      'First Amendment', 'Judicial Power', 'Others', \"first_party_winner\"]]"
      ]
    },
    {
      "cell_type": "code",
      "execution_count": 241,
      "metadata": {
        "colab": {
          "base_uri": "https://localhost:8080/",
          "height": 659
        },
        "id": "JWn2efUwqWJp",
        "outputId": "70c4dec8-370e-47fb-8a64-3f8b742df2cd"
      },
      "outputs": [
        {
          "output_type": "execute_result",
          "data": {
            "text/plain": [
              "                                                  facts  Civil Rights  \\\n",
              "0     joan stanley three children peter stanley stan...             1   \n",
              "1     john giglio convict pass forge money order app...             0   \n",
              "2     idaho probate code specify males must prefer f...             1   \n",
              "3     miller conduct mass mail campaign advertise sa...             0   \n",
              "4     ernest mandel belgian professional journalist ...             0   \n",
              "...                                                 ...           ...   \n",
              "6283  fair labor standards act violations violations...             0   \n",
              "6284  guidelines regularly test user accessibility b...             1   \n",
              "6285  action bring class action plaintiff bring acti...             0   \n",
              "6286  discovery may reveal transmission additional f...             0   \n",
              "6287  teligent research develop produce supply sell ...             0   \n",
              "\n",
              "      Criminal Procedure  Economic Activity  First Amendment  Judicial Power  \\\n",
              "0                      0                  0                0               0   \n",
              "1                      0                  0                0               0   \n",
              "2                      0                  0                0               0   \n",
              "3                      0                  0                1               0   \n",
              "4                      0                  0                1               0   \n",
              "...                  ...                ...              ...             ...   \n",
              "6283                   0                  0                0               0   \n",
              "6284                   0                  0                0               0   \n",
              "6285                   0                  0                0               1   \n",
              "6286                   0                  0                0               1   \n",
              "6287                   0                  1                0               0   \n",
              "\n",
              "      Others  first_party_winner  \n",
              "0          0                   1  \n",
              "1          1                   1  \n",
              "2          0                   1  \n",
              "3          0                   1  \n",
              "4          0                   1  \n",
              "...      ...                 ...  \n",
              "6283       1                   1  \n",
              "6284       0                   0  \n",
              "6285       0                   1  \n",
              "6286       0                   0  \n",
              "6287       0                   1  \n",
              "\n",
              "[6288 rows x 8 columns]"
            ],
            "text/html": [
              "\n",
              "  <div id=\"df-b53e7b8e-6fc6-4d43-8278-e88e7be23fc7\">\n",
              "    <div class=\"colab-df-container\">\n",
              "      <div>\n",
              "<style scoped>\n",
              "    .dataframe tbody tr th:only-of-type {\n",
              "        vertical-align: middle;\n",
              "    }\n",
              "\n",
              "    .dataframe tbody tr th {\n",
              "        vertical-align: top;\n",
              "    }\n",
              "\n",
              "    .dataframe thead th {\n",
              "        text-align: right;\n",
              "    }\n",
              "</style>\n",
              "<table border=\"1\" class=\"dataframe\">\n",
              "  <thead>\n",
              "    <tr style=\"text-align: right;\">\n",
              "      <th></th>\n",
              "      <th>facts</th>\n",
              "      <th>Civil Rights</th>\n",
              "      <th>Criminal Procedure</th>\n",
              "      <th>Economic Activity</th>\n",
              "      <th>First Amendment</th>\n",
              "      <th>Judicial Power</th>\n",
              "      <th>Others</th>\n",
              "      <th>first_party_winner</th>\n",
              "    </tr>\n",
              "  </thead>\n",
              "  <tbody>\n",
              "    <tr>\n",
              "      <th>0</th>\n",
              "      <td>joan stanley three children peter stanley stan...</td>\n",
              "      <td>1</td>\n",
              "      <td>0</td>\n",
              "      <td>0</td>\n",
              "      <td>0</td>\n",
              "      <td>0</td>\n",
              "      <td>0</td>\n",
              "      <td>1</td>\n",
              "    </tr>\n",
              "    <tr>\n",
              "      <th>1</th>\n",
              "      <td>john giglio convict pass forge money order app...</td>\n",
              "      <td>0</td>\n",
              "      <td>0</td>\n",
              "      <td>0</td>\n",
              "      <td>0</td>\n",
              "      <td>0</td>\n",
              "      <td>1</td>\n",
              "      <td>1</td>\n",
              "    </tr>\n",
              "    <tr>\n",
              "      <th>2</th>\n",
              "      <td>idaho probate code specify males must prefer f...</td>\n",
              "      <td>1</td>\n",
              "      <td>0</td>\n",
              "      <td>0</td>\n",
              "      <td>0</td>\n",
              "      <td>0</td>\n",
              "      <td>0</td>\n",
              "      <td>1</td>\n",
              "    </tr>\n",
              "    <tr>\n",
              "      <th>3</th>\n",
              "      <td>miller conduct mass mail campaign advertise sa...</td>\n",
              "      <td>0</td>\n",
              "      <td>0</td>\n",
              "      <td>0</td>\n",
              "      <td>1</td>\n",
              "      <td>0</td>\n",
              "      <td>0</td>\n",
              "      <td>1</td>\n",
              "    </tr>\n",
              "    <tr>\n",
              "      <th>4</th>\n",
              "      <td>ernest mandel belgian professional journalist ...</td>\n",
              "      <td>0</td>\n",
              "      <td>0</td>\n",
              "      <td>0</td>\n",
              "      <td>1</td>\n",
              "      <td>0</td>\n",
              "      <td>0</td>\n",
              "      <td>1</td>\n",
              "    </tr>\n",
              "    <tr>\n",
              "      <th>...</th>\n",
              "      <td>...</td>\n",
              "      <td>...</td>\n",
              "      <td>...</td>\n",
              "      <td>...</td>\n",
              "      <td>...</td>\n",
              "      <td>...</td>\n",
              "      <td>...</td>\n",
              "      <td>...</td>\n",
              "    </tr>\n",
              "    <tr>\n",
              "      <th>6283</th>\n",
              "      <td>fair labor standards act violations violations...</td>\n",
              "      <td>0</td>\n",
              "      <td>0</td>\n",
              "      <td>0</td>\n",
              "      <td>0</td>\n",
              "      <td>0</td>\n",
              "      <td>1</td>\n",
              "      <td>1</td>\n",
              "    </tr>\n",
              "    <tr>\n",
              "      <th>6284</th>\n",
              "      <td>guidelines regularly test user accessibility b...</td>\n",
              "      <td>1</td>\n",
              "      <td>0</td>\n",
              "      <td>0</td>\n",
              "      <td>0</td>\n",
              "      <td>0</td>\n",
              "      <td>0</td>\n",
              "      <td>0</td>\n",
              "    </tr>\n",
              "    <tr>\n",
              "      <th>6285</th>\n",
              "      <td>action bring class action plaintiff bring acti...</td>\n",
              "      <td>0</td>\n",
              "      <td>0</td>\n",
              "      <td>0</td>\n",
              "      <td>0</td>\n",
              "      <td>1</td>\n",
              "      <td>0</td>\n",
              "      <td>1</td>\n",
              "    </tr>\n",
              "    <tr>\n",
              "      <th>6286</th>\n",
              "      <td>discovery may reveal transmission additional f...</td>\n",
              "      <td>0</td>\n",
              "      <td>0</td>\n",
              "      <td>0</td>\n",
              "      <td>0</td>\n",
              "      <td>1</td>\n",
              "      <td>0</td>\n",
              "      <td>0</td>\n",
              "    </tr>\n",
              "    <tr>\n",
              "      <th>6287</th>\n",
              "      <td>teligent research develop produce supply sell ...</td>\n",
              "      <td>0</td>\n",
              "      <td>0</td>\n",
              "      <td>1</td>\n",
              "      <td>0</td>\n",
              "      <td>0</td>\n",
              "      <td>0</td>\n",
              "      <td>1</td>\n",
              "    </tr>\n",
              "  </tbody>\n",
              "</table>\n",
              "<p>6288 rows × 8 columns</p>\n",
              "</div>\n",
              "      <button class=\"colab-df-convert\" onclick=\"convertToInteractive('df-b53e7b8e-6fc6-4d43-8278-e88e7be23fc7')\"\n",
              "              title=\"Convert this dataframe to an interactive table.\"\n",
              "              style=\"display:none;\">\n",
              "        \n",
              "  <svg xmlns=\"http://www.w3.org/2000/svg\" height=\"24px\"viewBox=\"0 0 24 24\"\n",
              "       width=\"24px\">\n",
              "    <path d=\"M0 0h24v24H0V0z\" fill=\"none\"/>\n",
              "    <path d=\"M18.56 5.44l.94 2.06.94-2.06 2.06-.94-2.06-.94-.94-2.06-.94 2.06-2.06.94zm-11 1L8.5 8.5l.94-2.06 2.06-.94-2.06-.94L8.5 2.5l-.94 2.06-2.06.94zm10 10l.94 2.06.94-2.06 2.06-.94-2.06-.94-.94-2.06-.94 2.06-2.06.94z\"/><path d=\"M17.41 7.96l-1.37-1.37c-.4-.4-.92-.59-1.43-.59-.52 0-1.04.2-1.43.59L10.3 9.45l-7.72 7.72c-.78.78-.78 2.05 0 2.83L4 21.41c.39.39.9.59 1.41.59.51 0 1.02-.2 1.41-.59l7.78-7.78 2.81-2.81c.8-.78.8-2.07 0-2.86zM5.41 20L4 18.59l7.72-7.72 1.47 1.35L5.41 20z\"/>\n",
              "  </svg>\n",
              "      </button>\n",
              "      \n",
              "  <style>\n",
              "    .colab-df-container {\n",
              "      display:flex;\n",
              "      flex-wrap:wrap;\n",
              "      gap: 12px;\n",
              "    }\n",
              "\n",
              "    .colab-df-convert {\n",
              "      background-color: #E8F0FE;\n",
              "      border: none;\n",
              "      border-radius: 50%;\n",
              "      cursor: pointer;\n",
              "      display: none;\n",
              "      fill: #1967D2;\n",
              "      height: 32px;\n",
              "      padding: 0 0 0 0;\n",
              "      width: 32px;\n",
              "    }\n",
              "\n",
              "    .colab-df-convert:hover {\n",
              "      background-color: #E2EBFA;\n",
              "      box-shadow: 0px 1px 2px rgba(60, 64, 67, 0.3), 0px 1px 3px 1px rgba(60, 64, 67, 0.15);\n",
              "      fill: #174EA6;\n",
              "    }\n",
              "\n",
              "    [theme=dark] .colab-df-convert {\n",
              "      background-color: #3B4455;\n",
              "      fill: #D2E3FC;\n",
              "    }\n",
              "\n",
              "    [theme=dark] .colab-df-convert:hover {\n",
              "      background-color: #434B5C;\n",
              "      box-shadow: 0px 1px 3px 1px rgba(0, 0, 0, 0.15);\n",
              "      filter: drop-shadow(0px 1px 2px rgba(0, 0, 0, 0.3));\n",
              "      fill: #FFFFFF;\n",
              "    }\n",
              "  </style>\n",
              "\n",
              "      <script>\n",
              "        const buttonEl =\n",
              "          document.querySelector('#df-b53e7b8e-6fc6-4d43-8278-e88e7be23fc7 button.colab-df-convert');\n",
              "        buttonEl.style.display =\n",
              "          google.colab.kernel.accessAllowed ? 'block' : 'none';\n",
              "\n",
              "        async function convertToInteractive(key) {\n",
              "          const element = document.querySelector('#df-b53e7b8e-6fc6-4d43-8278-e88e7be23fc7');\n",
              "          const dataTable =\n",
              "            await google.colab.kernel.invokeFunction('convertToInteractive',\n",
              "                                                     [key], {});\n",
              "          if (!dataTable) return;\n",
              "\n",
              "          const docLinkHtml = 'Like what you see? Visit the ' +\n",
              "            '<a target=\"_blank\" href=https://colab.research.google.com/notebooks/data_table.ipynb>data table notebook</a>'\n",
              "            + ' to learn more about interactive tables.';\n",
              "          element.innerHTML = '';\n",
              "          dataTable['output_type'] = 'display_data';\n",
              "          await google.colab.output.renderOutput(dataTable, element);\n",
              "          const docLink = document.createElement('div');\n",
              "          docLink.innerHTML = docLinkHtml;\n",
              "          element.appendChild(docLink);\n",
              "        }\n",
              "      </script>\n",
              "    </div>\n",
              "  </div>\n",
              "  "
            ]
          },
          "metadata": {},
          "execution_count": 241
        }
      ],
      "source": [
        "big_df"
      ]
    },
    {
      "cell_type": "code",
      "execution_count": 242,
      "metadata": {
        "id": "HGgOs0dGihP1"
      },
      "outputs": [],
      "source": [
        "big_df.rename(columns = {'first_party_winner':'target'}, inplace = True)"
      ]
    },
    {
      "cell_type": "markdown",
      "metadata": {
        "id": "xEchoCrSpG_R"
      },
      "source": [
        "# Second Prediction with TFIDF"
      ]
    },
    {
      "cell_type": "code",
      "execution_count": 639,
      "metadata": {
        "id": "tHZ6itWaiPj-"
      },
      "outputs": [],
      "source": [
        "from sklearn.model_selection import train_test_split\n",
        "X_train, X_test = train_test_split(big_df, test_size=0.2, random_state=42)"
      ]
    },
    {
      "cell_type": "code",
      "execution_count": 640,
      "metadata": {
        "colab": {
          "base_uri": "https://localhost:8080/",
          "height": 281
        },
        "id": "nunQzmfaujOu",
        "outputId": "f6ef83cb-c919-4a26-d0a5-274e388546b0"
      },
      "outputs": [
        {
          "output_type": "display_data",
          "data": {
            "text/plain": [
              "<Figure size 432x288 with 1 Axes>"
            ],
            "image/png": "[encoded data removed]"
          },
          "metadata": {
            "needs_background": "light"
          }
        }
      ],
      "source": [
        "import matplotlib.pyplot as plt\n",
        "_ = plt.hist(X_train[\"target\"], bins='auto')  # arguments are passed to np.histogram\n",
        "plt.title(\"Histogram with 'auto' bins\")\n",
        "#Text(0.5, 1.0, \"Histogram with 'auto' bins\")\n",
        "plt.show()"
      ]
    },
    {
      "cell_type": "code",
      "execution_count": 247,
      "metadata": {
        "id": "o-97n3cywXfg",
        "colab": {
          "base_uri": "https://localhost:8080/"
        },
        "outputId": "fa8a82b2-4931-4ef1-8232-38e479788838"
      },
      "outputs": [
        {
          "output_type": "stream",
          "name": "stdout",
          "text": [
            "Looking in indexes: https://pypi.org/simple, https://us-python.pkg.dev/colab-wheels/public/simple/\n",
            "Requirement already satisfied: imbalanced-learn in /usr/local/lib/python3.8/dist-packages (0.8.1)\n",
            "Collecting imbalanced-learn\n",
            "  Downloading imbalanced_learn-0.10.1-py3-none-any.whl (226 kB)\n",
            "\u001b[2K     \u001b[90m━━━━━━━━━━━━━━━━━━━━━━━━━━━━━━━━━━━━━━━\u001b[0m \u001b[32m226.0/226.0 KB\u001b[0m \u001b[31m5.8 MB/s\u001b[0m eta \u001b[36m0:00:00\u001b[0m\n",
            "\u001b[?25hRequirement already satisfied: scipy>=1.3.2 in /usr/local/lib/python3.8/dist-packages (from imbalanced-learn) (1.7.3)\n",
            "Requirement already satisfied: scikit-learn>=1.0.2 in /usr/local/lib/python3.8/dist-packages (from imbalanced-learn) (1.0.2)\n",
            "Requirement already satisfied: numpy>=1.17.3 in /usr/local/lib/python3.8/dist-packages (from imbalanced-learn) (1.21.6)\n",
            "Requirement already satisfied: threadpoolctl>=2.0.0 in /usr/local/lib/python3.8/dist-packages (from imbalanced-learn) (3.1.0)\n",
            "Requirement already satisfied: joblib>=1.1.1 in /usr/local/lib/python3.8/dist-packages (from imbalanced-learn) (1.2.0)\n",
            "Installing collected packages: imbalanced-learn\n",
            "  Attempting uninstall: imbalanced-learn\n",
            "    Found existing installation: imbalanced-learn 0.8.1\n",
            "    Uninstalling imbalanced-learn-0.8.1:\n",
            "      Successfully uninstalled imbalanced-learn-0.8.1\n",
            "Successfully installed imbalanced-learn-0.10.1\n"
          ]
        }
      ],
      "source": [
        "pip install -U imbalanced-learn"
      ]
    },
    {
      "cell_type": "code",
      "source": [
        "from imblearn.over_sampling import RandomOverSampler\n",
        "from collections import Counter"
      ],
      "metadata": {
        "id": "Z5cr6UWtNWyZ"
      },
      "execution_count": 641,
      "outputs": []
    },
    {
      "cell_type": "code",
      "source": [
        "y_train = X_train[\"target\"]"
      ],
      "metadata": {
        "id": "ouursbfSNsvC"
      },
      "execution_count": 642,
      "outputs": []
    },
    {
      "cell_type": "code",
      "source": [
        "X_train = X_train.loc[:, X_train.columns != 'target']"
      ],
      "metadata": {
        "id": "HXTm5sptOAMw"
      },
      "execution_count": 643,
      "outputs": []
    },
    {
      "cell_type": "code",
      "source": [
        "ros = RandomOverSampler(random_state=42)\n",
        "X_train_ros, y_train_ros= ros.fit_resample(X_train, y_train)"
      ],
      "metadata": {
        "id": "nKRUk3AVNb4o"
      },
      "execution_count": 644,
      "outputs": []
    },
    {
      "cell_type": "code",
      "source": [
        "X_train = X_train_ros\n",
        "y_train = y_train_ros"
      ],
      "metadata": {
        "id": "NLApaQJpOT8Q"
      },
      "execution_count": 645,
      "outputs": []
    },
    {
      "cell_type": "code",
      "source": [
        "y_test = X_test[\"target\"]\n",
        "X_test = X_test.loc[:, X_test.columns != 'target']"
      ],
      "metadata": {
        "id": "CAAWJHDgPx25"
      },
      "execution_count": 646,
      "outputs": []
    },
    {
      "cell_type": "code",
      "source": [
        "import matplotlib.pyplot as plt\n",
        "_ = plt.hist(y_train, bins='auto')  # arguments are passed to np.histogram\n",
        "plt.title(\"Histogram with 'auto' bins\")\n",
        "#Text(0.5, 1.0, \"Histogram with 'auto' bins\")\n",
        "plt.show()"
      ],
      "metadata": {
        "colab": {
          "base_uri": "https://localhost:8080/",
          "height": 281
        },
        "id": "YOk7UV_0xd4K",
        "outputId": "5c02bbc6-0451-4725-c514-d5c0fbe300b7"
      },
      "execution_count": 648,
      "outputs": [
        {
          "output_type": "display_data",
          "data": {
            "text/plain": [
              "<Figure size 432x288 with 1 Axes>"
            ],
            "image/png": "[encoded data removed]"
          },
          "metadata": {
            "needs_background": "light"
          }
        }
      ]
    },
    {
      "cell_type": "code",
      "execution_count": 649,
      "metadata": {
        "id": "jwFe9RPVh0TB"
      },
      "outputs": [],
      "source": [
        "from sklearn.feature_extraction.text import TfidfVectorizer"
      ]
    },
    {
      "cell_type": "code",
      "execution_count": 650,
      "metadata": {
        "id": "CACD7LyZh1pg"
      },
      "outputs": [],
      "source": [
        "vectorizer_tf = TfidfVectorizer(max_df=0.75, max_features=1000, ngram_range=(1,2))"
      ]
    },
    {
      "cell_type": "code",
      "execution_count": 651,
      "metadata": {
        "id": "P1zdSDjQiH2V"
      },
      "outputs": [],
      "source": [
        "train_vectors = vectorizer_tf.fit_transform(X_train.facts) \n",
        "test_vectors = vectorizer_tf.transform(X_test.facts)"
      ]
    },
    {
      "cell_type": "code",
      "execution_count": 652,
      "metadata": {
        "colab": {
          "base_uri": "https://localhost:8080/"
        },
        "id": "5gk70nVjjMYT",
        "outputId": "8d93a92c-ea2e-4f42-e679-9e3ba1636a57"
      },
      "outputs": [
        {
          "output_type": "stream",
          "name": "stderr",
          "text": [
            "/usr/local/lib/python3.8/dist-packages/sklearn/utils/deprecation.py:87: FutureWarning: Function get_feature_names is deprecated; get_feature_names is deprecated in 1.0 and will be removed in 1.2. Please use get_feature_names_out instead.\n",
            "  warnings.warn(msg, category=FutureWarning)\n"
          ]
        }
      ],
      "source": [
        "train_df=pd.DataFrame(train_vectors.toarray(), columns=vectorizer_tf.get_feature_names())\n",
        "test_df=pd.DataFrame(test_vectors.toarray(), columns=vectorizer_tf.get_feature_names())"
      ]
    },
    {
      "cell_type": "code",
      "execution_count": 653,
      "metadata": {
        "id": "j65MKJwIjbH4"
      },
      "outputs": [],
      "source": [
        "train_df=pd.concat([train_df,X_train.loc[:, X_train.columns != \"facts\"].reset_index(drop=True)], axis=1)\n",
        "test_df=pd.concat([test_df,X_test.loc[:, X_test.columns != \"facts\"].reset_index(drop=True)], axis=1)"
      ]
    },
    {
      "cell_type": "code",
      "execution_count": 654,
      "metadata": {
        "colab": {
          "base_uri": "https://localhost:8080/",
          "height": 254
        },
        "id": "ckJiBbTFlUwV",
        "outputId": "54bbcb54-5e75-49c0-92dc-3968d91d6e6e"
      },
      "outputs": [
        {
          "output_type": "execute_result",
          "data": {
            "text/plain": [
              "    ability  access  access barriers  access defendant  access facilities  \\\n",
              "0  0.038792     0.0              0.0               0.0                0.0   \n",
              "1  0.000000     0.0              0.0               0.0                0.0   \n",
              "2  0.000000     0.0              0.0               0.0                0.0   \n",
              "\n",
              "   accessibility  accessible  accommodation  accommodations  \\\n",
              "0            0.0         0.0            0.0             0.0   \n",
              "1            0.0         0.0            0.0             0.0   \n",
              "2            0.0         0.0            0.0             0.0   \n",
              "\n",
              "   accommodations advantage  ...  years  york  york city  york state  \\\n",
              "0                       0.0  ...    0.0   0.0        0.0         0.0   \n",
              "1                       0.0  ...    0.0   0.0        0.0         0.0   \n",
              "2                       0.0  ...    0.0   0.0        0.0         0.0   \n",
              "\n",
              "   Civil Rights  Criminal Procedure  Economic Activity  First Amendment  \\\n",
              "0             0                   0                  0                0   \n",
              "1             0                   0                  0                0   \n",
              "2             0                   0                  0                1   \n",
              "\n",
              "   Judicial Power  Others  \n",
              "0               0       1  \n",
              "1               0       1  \n",
              "2               0       0  \n",
              "\n",
              "[3 rows x 1006 columns]"
            ],
            "text/html": [
              "\n",
              "  <div id=\"df-6ee55e53-7db6-4e5f-86aa-7d85f0c8f344\">\n",
              "    <div class=\"colab-df-container\">\n",
              "      <div>\n",
              "<style scoped>\n",
              "    .dataframe tbody tr th:only-of-type {\n",
              "        vertical-align: middle;\n",
              "    }\n",
              "\n",
              "    .dataframe tbody tr th {\n",
              "        vertical-align: top;\n",
              "    }\n",
              "\n",
              "    .dataframe thead th {\n",
              "        text-align: right;\n",
              "    }\n",
              "</style>\n",
              "<table border=\"1\" class=\"dataframe\">\n",
              "  <thead>\n",
              "    <tr style=\"text-align: right;\">\n",
              "      <th></th>\n",
              "      <th>ability</th>\n",
              "      <th>access</th>\n",
              "      <th>access barriers</th>\n",
              "      <th>access defendant</th>\n",
              "      <th>access facilities</th>\n",
              "      <th>accessibility</th>\n",
              "      <th>accessible</th>\n",
              "      <th>accommodation</th>\n",
              "      <th>accommodations</th>\n",
              "      <th>accommodations advantage</th>\n",
              "      <th>...</th>\n",
              "      <th>years</th>\n",
              "      <th>york</th>\n",
              "      <th>york city</th>\n",
              "      <th>york state</th>\n",
              "      <th>Civil Rights</th>\n",
              "      <th>Criminal Procedure</th>\n",
              "      <th>Economic Activity</th>\n",
              "      <th>First Amendment</th>\n",
              "      <th>Judicial Power</th>\n",
              "      <th>Others</th>\n",
              "    </tr>\n",
              "  </thead>\n",
              "  <tbody>\n",
              "    <tr>\n",
              "      <th>0</th>\n",
              "      <td>0.038792</td>\n",
              "      <td>0.0</td>\n",
              "      <td>0.0</td>\n",
              "      <td>0.0</td>\n",
              "      <td>0.0</td>\n",
              "      <td>0.0</td>\n",
              "      <td>0.0</td>\n",
              "      <td>0.0</td>\n",
              "      <td>0.0</td>\n",
              "      <td>0.0</td>\n",
              "      <td>...</td>\n",
              "      <td>0.0</td>\n",
              "      <td>0.0</td>\n",
              "      <td>0.0</td>\n",
              "      <td>0.0</td>\n",
              "      <td>0</td>\n",
              "      <td>0</td>\n",
              "      <td>0</td>\n",
              "      <td>0</td>\n",
              "      <td>0</td>\n",
              "      <td>1</td>\n",
              "    </tr>\n",
              "    <tr>\n",
              "      <th>1</th>\n",
              "      <td>0.000000</td>\n",
              "      <td>0.0</td>\n",
              "      <td>0.0</td>\n",
              "      <td>0.0</td>\n",
              "      <td>0.0</td>\n",
              "      <td>0.0</td>\n",
              "      <td>0.0</td>\n",
              "      <td>0.0</td>\n",
              "      <td>0.0</td>\n",
              "      <td>0.0</td>\n",
              "      <td>...</td>\n",
              "      <td>0.0</td>\n",
              "      <td>0.0</td>\n",
              "      <td>0.0</td>\n",
              "      <td>0.0</td>\n",
              "      <td>0</td>\n",
              "      <td>0</td>\n",
              "      <td>0</td>\n",
              "      <td>0</td>\n",
              "      <td>0</td>\n",
              "      <td>1</td>\n",
              "    </tr>\n",
              "    <tr>\n",
              "      <th>2</th>\n",
              "      <td>0.000000</td>\n",
              "      <td>0.0</td>\n",
              "      <td>0.0</td>\n",
              "      <td>0.0</td>\n",
              "      <td>0.0</td>\n",
              "      <td>0.0</td>\n",
              "      <td>0.0</td>\n",
              "      <td>0.0</td>\n",
              "      <td>0.0</td>\n",
              "      <td>0.0</td>\n",
              "      <td>...</td>\n",
              "      <td>0.0</td>\n",
              "      <td>0.0</td>\n",
              "      <td>0.0</td>\n",
              "      <td>0.0</td>\n",
              "      <td>0</td>\n",
              "      <td>0</td>\n",
              "      <td>0</td>\n",
              "      <td>1</td>\n",
              "      <td>0</td>\n",
              "      <td>0</td>\n",
              "    </tr>\n",
              "  </tbody>\n",
              "</table>\n",
              "<p>3 rows × 1006 columns</p>\n",
              "</div>\n",
              "      <button class=\"colab-df-convert\" onclick=\"convertToInteractive('df-6ee55e53-7db6-4e5f-86aa-7d85f0c8f344')\"\n",
              "              title=\"Convert this dataframe to an interactive table.\"\n",
              "              style=\"display:none;\">\n",
              "        \n",
              "  <svg xmlns=\"http://www.w3.org/2000/svg\" height=\"24px\"viewBox=\"0 0 24 24\"\n",
              "       width=\"24px\">\n",
              "    <path d=\"M0 0h24v24H0V0z\" fill=\"none\"/>\n",
              "    <path d=\"M18.56 5.44l.94 2.06.94-2.06 2.06-.94-2.06-.94-.94-2.06-.94 2.06-2.06.94zm-11 1L8.5 8.5l.94-2.06 2.06-.94-2.06-.94L8.5 2.5l-.94 2.06-2.06.94zm10 10l.94 2.06.94-2.06 2.06-.94-2.06-.94-.94-2.06-.94 2.06-2.06.94z\"/><path d=\"M17.41 7.96l-1.37-1.37c-.4-.4-.92-.59-1.43-.59-.52 0-1.04.2-1.43.59L10.3 9.45l-7.72 7.72c-.78.78-.78 2.05 0 2.83L4 21.41c.39.39.9.59 1.41.59.51 0 1.02-.2 1.41-.59l7.78-7.78 2.81-2.81c.8-.78.8-2.07 0-2.86zM5.41 20L4 18.59l7.72-7.72 1.47 1.35L5.41 20z\"/>\n",
              "  </svg>\n",
              "      </button>\n",
              "      \n",
              "  <style>\n",
              "    .colab-df-container {\n",
              "      display:flex;\n",
              "      flex-wrap:wrap;\n",
              "      gap: 12px;\n",
              "    }\n",
              "\n",
              "    .colab-df-convert {\n",
              "      background-color: #E8F0FE;\n",
              "      border: none;\n",
              "      border-radius: 50%;\n",
              "      cursor: pointer;\n",
              "      display: none;\n",
              "      fill: #1967D2;\n",
              "      height: 32px;\n",
              "      padding: 0 0 0 0;\n",
              "      width: 32px;\n",
              "    }\n",
              "\n",
              "    .colab-df-convert:hover {\n",
              "      background-color: #E2EBFA;\n",
              "      box-shadow: 0px 1px 2px rgba(60, 64, 67, 0.3), 0px 1px 3px 1px rgba(60, 64, 67, 0.15);\n",
              "      fill: #174EA6;\n",
              "    }\n",
              "\n",
              "    [theme=dark] .colab-df-convert {\n",
              "      background-color: #3B4455;\n",
              "      fill: #D2E3FC;\n",
              "    }\n",
              "\n",
              "    [theme=dark] .colab-df-convert:hover {\n",
              "      background-color: #434B5C;\n",
              "      box-shadow: 0px 1px 3px 1px rgba(0, 0, 0, 0.15);\n",
              "      filter: drop-shadow(0px 1px 2px rgba(0, 0, 0, 0.3));\n",
              "      fill: #FFFFFF;\n",
              "    }\n",
              "  </style>\n",
              "\n",
              "      <script>\n",
              "        const buttonEl =\n",
              "          document.querySelector('#df-6ee55e53-7db6-4e5f-86aa-7d85f0c8f344 button.colab-df-convert');\n",
              "        buttonEl.style.display =\n",
              "          google.colab.kernel.accessAllowed ? 'block' : 'none';\n",
              "\n",
              "        async function convertToInteractive(key) {\n",
              "          const element = document.querySelector('#df-6ee55e53-7db6-4e5f-86aa-7d85f0c8f344');\n",
              "          const dataTable =\n",
              "            await google.colab.kernel.invokeFunction('convertToInteractive',\n",
              "                                                     [key], {});\n",
              "          if (!dataTable) return;\n",
              "\n",
              "          const docLinkHtml = 'Like what you see? Visit the ' +\n",
              "            '<a target=\"_blank\" href=https://colab.research.google.com/notebooks/data_table.ipynb>data table notebook</a>'\n",
              "            + ' to learn more about interactive tables.';\n",
              "          element.innerHTML = '';\n",
              "          dataTable['output_type'] = 'display_data';\n",
              "          await google.colab.output.renderOutput(dataTable, element);\n",
              "          const docLink = document.createElement('div');\n",
              "          docLink.innerHTML = docLinkHtml;\n",
              "          element.appendChild(docLink);\n",
              "        }\n",
              "      </script>\n",
              "    </div>\n",
              "  </div>\n",
              "  "
            ]
          },
          "metadata": {},
          "execution_count": 654
        }
      ],
      "source": [
        "train_df.head(3)"
      ]
    },
    {
      "cell_type": "code",
      "source": [
        "X_train_tf = train_df\n",
        "X_test_tf = test_df"
      ],
      "metadata": {
        "id": "rgYb2tY7Q1we"
      },
      "execution_count": 655,
      "outputs": []
    },
    {
      "cell_type": "code",
      "execution_count": 656,
      "metadata": {
        "id": "uHPeesIGpcdd"
      },
      "outputs": [],
      "source": [
        "my_target = [\"0\", \"1\"]"
      ]
    },
    {
      "cell_type": "code",
      "source": [
        "from sklearn import linear_model, decomposition"
      ],
      "metadata": {
        "id": "-X8TytzwRPC3"
      },
      "execution_count": 310,
      "outputs": []
    },
    {
      "cell_type": "code",
      "source": [
        "pca = decomposition.PCA()"
      ],
      "metadata": {
        "id": "y0W4NB9gRKcB"
      },
      "execution_count": 657,
      "outputs": []
    },
    {
      "cell_type": "code",
      "execution_count": 658,
      "metadata": {
        "id": "0e2QYO-MmCz3"
      },
      "outputs": [],
      "source": [
        "logreg = Pipeline([\n",
        "                ('pca', pca),\n",
        "                ('clf', LogisticRegression()),\n",
        "               ])"
      ]
    },
    {
      "cell_type": "code",
      "source": [
        "logreg.fit(X_train_tf, y_train)"
      ],
      "metadata": {
        "colab": {
          "base_uri": "https://localhost:8080/"
        },
        "id": "HSd7BnKqO21v",
        "outputId": "8800754b-5faf-4f01-9c99-f93bb702ecf5"
      },
      "execution_count": 659,
      "outputs": [
        {
          "output_type": "execute_result",
          "data": {
            "text/plain": [
              "Pipeline(steps=[('pca', PCA()), ('clf', LogisticRegression())])"
            ]
          },
          "metadata": {},
          "execution_count": 659
        }
      ]
    },
    {
      "cell_type": "code",
      "execution_count": 660,
      "metadata": {
        "colab": {
          "base_uri": "https://localhost:8080/"
        },
        "id": "ommazsUNnUO1",
        "outputId": "30e2b6a3-794e-4557-d89a-e1391fd7be2f"
      },
      "outputs": [
        {
          "output_type": "stream",
          "name": "stdout",
          "text": [
            "CPU times: user 209 ms, sys: 31 ms, total: 240 ms\n",
            "Wall time: 126 ms\n"
          ]
        }
      ],
      "source": [
        "%%time\n",
        "y_pred = logreg.predict(X_test_tf)"
      ]
    },
    {
      "cell_type": "code",
      "execution_count": 661,
      "metadata": {
        "colab": {
          "base_uri": "https://localhost:8080/"
        },
        "id": "IfTR4zPGncRG",
        "outputId": "f9425ace-c281-400a-94dc-c8a68db341a8"
      },
      "outputs": [
        {
          "output_type": "stream",
          "name": "stdout",
          "text": [
            "accuracy 0.6081081081081081\n",
            "              precision    recall  f1-score   support\n",
            "\n",
            "           0       0.53      0.56      0.55       532\n",
            "           1       0.67      0.64      0.65       726\n",
            "\n",
            "    accuracy                           0.61      1258\n",
            "   macro avg       0.60      0.60      0.60      1258\n",
            "weighted avg       0.61      0.61      0.61      1258\n",
            "\n"
          ]
        }
      ],
      "source": [
        "from sklearn.metrics import classification_report\n",
        "print('accuracy %s' % accuracy_score(y_pred, y_test))\n",
        "print(classification_report(y_test, y_pred,target_names=my_target))"
      ]
    },
    {
      "cell_type": "code",
      "execution_count": 662,
      "metadata": {
        "colab": {
          "base_uri": "https://localhost:8080/"
        },
        "id": "0M8QMNCEoZeJ",
        "outputId": "5404f690-4376-44e9-f0ec-c2c539114f50"
      },
      "outputs": [
        {
          "output_type": "execute_result",
          "data": {
            "text/plain": [
              "Pipeline(steps=[('clf', MultinomialNB())])"
            ]
          },
          "metadata": {},
          "execution_count": 662
        }
      ],
      "source": [
        "from sklearn.naive_bayes import MultinomialNB\n",
        "from sklearn.pipeline import Pipeline\n",
        "from sklearn.feature_extraction.text import TfidfTransformer\n",
        "\n",
        "nb = Pipeline([\n",
        "    ('clf', MultinomialNB()),\n",
        "              ])\n",
        "nb.fit(X_train_tf, y_train)"
      ]
    },
    {
      "cell_type": "code",
      "execution_count": 663,
      "metadata": {
        "colab": {
          "base_uri": "https://localhost:8080/"
        },
        "id": "3_aSlRDDpkzl",
        "outputId": "6cbd57cd-29f4-40c7-85fe-bc26f0f27723"
      },
      "outputs": [
        {
          "output_type": "stream",
          "name": "stdout",
          "text": [
            "CPU times: user 197 ms, sys: 17.3 ms, total: 215 ms\n",
            "Wall time: 150 ms\n"
          ]
        }
      ],
      "source": [
        "%%time\n",
        "y_pred = logreg.predict(X_test_tf)"
      ]
    },
    {
      "cell_type": "code",
      "execution_count": 664,
      "metadata": {
        "colab": {
          "base_uri": "https://localhost:8080/"
        },
        "id": "2wOM81cgpnpY",
        "outputId": "44fbb006-fa83-45c3-b2d4-5f395c3032d1"
      },
      "outputs": [
        {
          "output_type": "stream",
          "name": "stdout",
          "text": [
            "accuracy 0.6081081081081081\n",
            "              precision    recall  f1-score   support\n",
            "\n",
            "           0       0.53      0.56      0.55       532\n",
            "           1       0.67      0.64      0.65       726\n",
            "\n",
            "    accuracy                           0.61      1258\n",
            "   macro avg       0.60      0.60      0.60      1258\n",
            "weighted avg       0.61      0.61      0.61      1258\n",
            "\n"
          ]
        }
      ],
      "source": [
        "from sklearn.metrics import classification_report\n",
        "print('accuracy %s' % accuracy_score(y_pred, y_test))\n",
        "print(classification_report(y_test, y_pred,target_names=my_target))"
      ]
    },
    {
      "cell_type": "code",
      "execution_count": 675,
      "metadata": {
        "colab": {
          "base_uri": "https://localhost:8080/"
        },
        "id": "zixsJaM7pqPj",
        "outputId": "4c80da4b-46ca-4b21-ab38-8a12b9cd9eb3"
      },
      "outputs": [
        {
          "output_type": "execute_result",
          "data": {
            "text/plain": [
              "Pipeline(steps=[('clf', SGDClassifier())])"
            ]
          },
          "metadata": {},
          "execution_count": 675
        }
      ],
      "source": [
        "from sklearn.linear_model import SGDClassifier\n",
        "\n",
        "sgd = Pipeline([\n",
        "                ('clf', SGDClassifier()),\n",
        "               ])\n",
        "sgd.fit(X_train_tf, y_train)"
      ]
    },
    {
      "cell_type": "code",
      "execution_count": 676,
      "metadata": {
        "colab": {
          "base_uri": "https://localhost:8080/"
        },
        "id": "sh5sgAZFp0pw",
        "outputId": "dde54a4f-5cd2-4d2d-e9f3-3f77dae69b28"
      },
      "outputs": [
        {
          "output_type": "stream",
          "name": "stdout",
          "text": [
            "CPU times: user 18.5 ms, sys: 4.76 ms, total: 23.2 ms\n",
            "Wall time: 30.1 ms\n"
          ]
        }
      ],
      "source": [
        "%%time\n",
        "y_pred = sgd.predict(X_test_tf)"
      ]
    },
    {
      "cell_type": "code",
      "execution_count": 677,
      "metadata": {
        "colab": {
          "base_uri": "https://localhost:8080/"
        },
        "id": "nYNpF5ddp5WM",
        "outputId": "53effe2b-53b1-434e-ad8a-eac84244b3f4"
      },
      "outputs": [
        {
          "output_type": "stream",
          "name": "stdout",
          "text": [
            "accuracy 0.6057233704292527\n",
            "              precision    recall  f1-score   support\n",
            "\n",
            "           0       0.53      0.58      0.55       532\n",
            "           1       0.67      0.63      0.65       726\n",
            "\n",
            "    accuracy                           0.61      1258\n",
            "   macro avg       0.60      0.60      0.60      1258\n",
            "weighted avg       0.61      0.61      0.61      1258\n",
            "\n"
          ]
        }
      ],
      "source": [
        "from sklearn.metrics import classification_report\n",
        "print('accuracy %s' % accuracy_score(y_pred, y_test))\n",
        "print(classification_report(y_test, y_pred,target_names=my_target))"
      ]
    },
    {
      "cell_type": "code",
      "execution_count": 678,
      "metadata": {
        "colab": {
          "base_uri": "https://localhost:8080/"
        },
        "id": "XMaOAJZup93f",
        "outputId": "d2060bc7-a7ac-457e-e1c6-b7161e0b639f"
      },
      "outputs": [
        {
          "output_type": "execute_result",
          "data": {
            "text/plain": [
              "Pipeline(steps=[('clf', RandomForestClassifier())])"
            ]
          },
          "metadata": {},
          "execution_count": 678
        }
      ],
      "source": [
        "from sklearn.ensemble import RandomForestClassifier\n",
        "\n",
        "randfor = Pipeline([\n",
        "                ('clf', RandomForestClassifier()),\n",
        "               ])\n",
        "randfor.fit(X_train_tf, y_train)"
      ]
    },
    {
      "cell_type": "code",
      "execution_count": 679,
      "metadata": {
        "colab": {
          "base_uri": "https://localhost:8080/"
        },
        "id": "nVX-F5K9qJ53",
        "outputId": "b3ddd275-fdc3-4a6d-def0-8a75850d71c4"
      },
      "outputs": [
        {
          "output_type": "stream",
          "name": "stdout",
          "text": [
            "CPU times: user 78.4 ms, sys: 1.12 ms, total: 79.5 ms\n",
            "Wall time: 80 ms\n"
          ]
        }
      ],
      "source": [
        "%%time\n",
        "y_pred = randfor.predict(X_test_tf)"
      ]
    },
    {
      "cell_type": "code",
      "execution_count": 680,
      "metadata": {
        "colab": {
          "base_uri": "https://localhost:8080/"
        },
        "id": "--jikVONqMLS",
        "outputId": "9f667b3c-52a0-4c52-d8e0-05fd8b9c0d15"
      },
      "outputs": [
        {
          "output_type": "stream",
          "name": "stdout",
          "text": [
            "accuracy 0.6216216216216216\n",
            "              precision    recall  f1-score   support\n",
            "\n",
            "           0       0.57      0.43      0.49       532\n",
            "           1       0.65      0.76      0.70       726\n",
            "\n",
            "    accuracy                           0.62      1258\n",
            "   macro avg       0.61      0.60      0.59      1258\n",
            "weighted avg       0.61      0.62      0.61      1258\n",
            "\n"
          ]
        }
      ],
      "source": [
        "from sklearn.metrics import classification_report\n",
        "print('accuracy %s' % accuracy_score(y_pred, y_test))\n",
        "print(classification_report(y_test, y_pred,target_names=my_target))"
      ]
    },
    {
      "cell_type": "code",
      "execution_count": 681,
      "metadata": {
        "colab": {
          "base_uri": "https://localhost:8080/"
        },
        "id": "ZSWqU2kkqUjn",
        "outputId": "10adaad7-eb37-4da4-df2a-66d0b512555b"
      },
      "outputs": [
        {
          "output_type": "execute_result",
          "data": {
            "text/plain": [
              "Pipeline(steps=[('clf', GradientBoostingClassifier())])"
            ]
          },
          "metadata": {},
          "execution_count": 681
        }
      ],
      "source": [
        "from sklearn.ensemble import GradientBoostingClassifier\n",
        "graboos = Pipeline([\n",
        "                ('clf', GradientBoostingClassifier()),\n",
        "               ])\n",
        "graboos.fit(X_train_tf, y_train)"
      ]
    },
    {
      "cell_type": "code",
      "execution_count": 682,
      "metadata": {
        "colab": {
          "base_uri": "https://localhost:8080/"
        },
        "id": "TC2dQKE_qb2o",
        "outputId": "fd8188e7-8484-4a66-fff0-9bcdfb31cb7c"
      },
      "outputs": [
        {
          "output_type": "stream",
          "name": "stdout",
          "text": [
            "CPU times: user 24 ms, sys: 0 ns, total: 24 ms\n",
            "Wall time: 24.9 ms\n"
          ]
        }
      ],
      "source": [
        "%%time\n",
        "y_pred = graboos.predict(X_test_tf)"
      ]
    },
    {
      "cell_type": "code",
      "execution_count": 683,
      "metadata": {
        "colab": {
          "base_uri": "https://localhost:8080/"
        },
        "id": "tQESw9zkqgNF",
        "outputId": "a0c78a5a-51fa-4990-cdf6-1df6135da381"
      },
      "outputs": [
        {
          "output_type": "stream",
          "name": "stdout",
          "text": [
            "accuracy 0.6073131955484896\n",
            "              precision    recall  f1-score   support\n",
            "\n",
            "           0       0.54      0.48      0.51       532\n",
            "           1       0.65      0.70      0.67       726\n",
            "\n",
            "    accuracy                           0.61      1258\n",
            "   macro avg       0.59      0.59      0.59      1258\n",
            "weighted avg       0.60      0.61      0.60      1258\n",
            "\n"
          ]
        }
      ],
      "source": [
        "from sklearn.metrics import classification_report\n",
        "print('accuracy %s' % accuracy_score(y_pred, y_test))\n",
        "print(classification_report(y_test, y_pred,target_names=my_target))"
      ]
    },
    {
      "cell_type": "code",
      "execution_count": 684,
      "metadata": {
        "colab": {
          "base_uri": "https://localhost:8080/"
        },
        "id": "nh_OLfMsqhhp",
        "outputId": "da93fcf3-1ed9-4cbb-a629-cee367fca670"
      },
      "outputs": [
        {
          "output_type": "execute_result",
          "data": {
            "text/plain": [
              "Pipeline(steps=[('clf', XGBClassifier())])"
            ]
          },
          "metadata": {},
          "execution_count": 684
        }
      ],
      "source": [
        "import xgboost as xgb\n",
        "\n",
        "xgboo = Pipeline([\n",
        "                ('clf', xgb.XGBClassifier()),\n",
        "               ])\n",
        "xgboo.fit(X_train_tf, y_train)"
      ]
    },
    {
      "cell_type": "code",
      "execution_count": 685,
      "metadata": {
        "colab": {
          "base_uri": "https://localhost:8080/"
        },
        "id": "zmSayhgMqt9K",
        "outputId": "88ee65a1-d57a-4680-c0a2-a5097b03f7bb"
      },
      "outputs": [
        {
          "output_type": "stream",
          "name": "stdout",
          "text": [
            "CPU times: user 38 ms, sys: 2.01 ms, total: 40.1 ms\n",
            "Wall time: 40.4 ms\n"
          ]
        }
      ],
      "source": [
        "%%time\n",
        "y_pred = xgboo.predict(X_test_tf)"
      ]
    },
    {
      "cell_type": "code",
      "execution_count": 686,
      "metadata": {
        "colab": {
          "base_uri": "https://localhost:8080/"
        },
        "id": "Usb_U-0aqx3Z",
        "outputId": "22655fc9-1bb1-44dc-9d02-a975984a418e"
      },
      "outputs": [
        {
          "output_type": "stream",
          "name": "stdout",
          "text": [
            "accuracy 0.6120826709062003\n",
            "              precision    recall  f1-score   support\n",
            "\n",
            "           0       0.55      0.48      0.51       532\n",
            "           1       0.65      0.71      0.68       726\n",
            "\n",
            "    accuracy                           0.61      1258\n",
            "   macro avg       0.60      0.59      0.60      1258\n",
            "weighted avg       0.61      0.61      0.61      1258\n",
            "\n"
          ]
        }
      ],
      "source": [
        "from sklearn.metrics import classification_report\n",
        "print('accuracy %s' % accuracy_score(y_pred, y_test))\n",
        "print(classification_report(y_test, y_pred,target_names=my_target))"
      ]
    },
    {
      "cell_type": "code",
      "execution_count": 687,
      "metadata": {
        "colab": {
          "base_uri": "https://localhost:8080/"
        },
        "id": "MSjAjE_Tq0Z-",
        "outputId": "d69881d9-8348-432d-fabf-37d131362bb6"
      },
      "outputs": [
        {
          "output_type": "execute_result",
          "data": {
            "text/plain": [
              "Pipeline(steps=[('kn', KNeighborsClassifier(n_neighbors=3))])"
            ]
          },
          "metadata": {},
          "execution_count": 687
        }
      ],
      "source": [
        "from sklearn.neighbors import KNeighborsClassifier\n",
        "\n",
        "kn = Pipeline([\n",
        "              ('kn',KNeighborsClassifier(n_neighbors=3)),\n",
        "               ])\n",
        "kn.fit(X_train_tf, y_train)"
      ]
    },
    {
      "cell_type": "code",
      "execution_count": 688,
      "metadata": {
        "colab": {
          "base_uri": "https://localhost:8080/"
        },
        "id": "3qmpjKRGq-Db",
        "outputId": "3e91b277-4011-4a9f-b8c4-1e88fbacd72f"
      },
      "outputs": [
        {
          "output_type": "stream",
          "name": "stdout",
          "text": [
            "CPU times: user 1.13 s, sys: 207 ms, total: 1.33 s\n",
            "Wall time: 840 ms\n"
          ]
        }
      ],
      "source": [
        "%%time\n",
        "y_pred = kn.predict(X_test_tf)"
      ]
    },
    {
      "cell_type": "code",
      "execution_count": 689,
      "metadata": {
        "colab": {
          "base_uri": "https://localhost:8080/"
        },
        "id": "AQfP19XJrA0E",
        "outputId": "a0625633-1fde-4609-d5bb-c654b6d050fb"
      },
      "outputs": [
        {
          "output_type": "stream",
          "name": "stdout",
          "text": [
            "accuracy 0.5739268680445151\n",
            "              precision    recall  f1-score   support\n",
            "\n",
            "           0       0.50      0.55      0.52       532\n",
            "           1       0.64      0.59      0.61       726\n",
            "\n",
            "    accuracy                           0.57      1258\n",
            "   macro avg       0.57      0.57      0.57      1258\n",
            "weighted avg       0.58      0.57      0.58      1258\n",
            "\n"
          ]
        }
      ],
      "source": [
        "from sklearn.metrics import classification_report\n",
        "print('accuracy %s' % accuracy_score(y_pred, y_test))\n",
        "print(classification_report(y_test, y_pred,target_names=my_target))"
      ]
    },
    {
      "cell_type": "markdown",
      "metadata": {
        "id": "ZbmAvsljrEsi"
      },
      "source": [
        "# Second Prediction with Count"
      ]
    },
    {
      "cell_type": "code",
      "execution_count": 690,
      "metadata": {
        "id": "3htj_rSRreU5"
      },
      "outputs": [],
      "source": [
        "from sklearn.feature_extraction.text import CountVectorizer\n",
        "vectorizer = CountVectorizer()"
      ]
    },
    {
      "cell_type": "code",
      "execution_count": 691,
      "metadata": {
        "id": "Ne7Ez6mtro-x"
      },
      "outputs": [],
      "source": [
        "train_vectors = vectorizer_tf.fit_transform(X_train.facts) \n",
        "test_vectors = vectorizer_tf.transform(X_test.facts)"
      ]
    },
    {
      "cell_type": "code",
      "execution_count": 692,
      "metadata": {
        "colab": {
          "base_uri": "https://localhost:8080/"
        },
        "id": "7M09VCXPruLL",
        "outputId": "40423232-624f-41e5-94a7-49d143bcbad7"
      },
      "outputs": [
        {
          "output_type": "stream",
          "name": "stderr",
          "text": [
            "/usr/local/lib/python3.8/dist-packages/sklearn/utils/deprecation.py:87: FutureWarning: Function get_feature_names is deprecated; get_feature_names is deprecated in 1.0 and will be removed in 1.2. Please use get_feature_names_out instead.\n",
            "  warnings.warn(msg, category=FutureWarning)\n"
          ]
        }
      ],
      "source": [
        "train_df=pd.DataFrame(train_vectors.toarray(), columns=vectorizer_tf.get_feature_names())\n",
        "test_df=pd.DataFrame(test_vectors.toarray(), columns=vectorizer_tf.get_feature_names())"
      ]
    },
    {
      "cell_type": "code",
      "execution_count": 693,
      "metadata": {
        "id": "iOIMX0Tirwx_"
      },
      "outputs": [],
      "source": [
        "train_df=pd.concat([train_df,X_train.loc[:, X_train.columns != \"facts\"].reset_index(drop=True)], axis=1)\n",
        "test_df=pd.concat([test_df,X_test.loc[:, X_test.columns != \"facts\"].reset_index(drop=True)], axis=1)"
      ]
    },
    {
      "cell_type": "code",
      "execution_count": 694,
      "metadata": {
        "id": "6qTwJl1Mr1TT"
      },
      "outputs": [],
      "source": [
        "X_train_count = train_df\n",
        "X_test_count = test_df"
      ]
    },
    {
      "cell_type": "code",
      "execution_count": 695,
      "metadata": {
        "colab": {
          "base_uri": "https://localhost:8080/"
        },
        "id": "-JJ6FrHEsKcL",
        "outputId": "e7a78384-cf92-4fcc-db18-3b1845344632"
      },
      "outputs": [
        {
          "output_type": "execute_result",
          "data": {
            "text/plain": [
              "Pipeline(steps=[('clf', LogisticRegression())])"
            ]
          },
          "metadata": {},
          "execution_count": 695
        }
      ],
      "source": [
        "logreg = Pipeline([\n",
        "                ('clf', LogisticRegression()),\n",
        "               ])\n",
        "logreg.fit(X_train_count, y_train)"
      ]
    },
    {
      "cell_type": "code",
      "execution_count": 696,
      "metadata": {
        "colab": {
          "base_uri": "https://localhost:8080/"
        },
        "id": "nxtkMCBZsVt0",
        "outputId": "eedebc61-1e79-4a19-cbe9-476c0b8cd7e9"
      },
      "outputs": [
        {
          "output_type": "stream",
          "name": "stdout",
          "text": [
            "CPU times: user 19.4 ms, sys: 13.7 ms, total: 33.1 ms\n",
            "Wall time: 16.7 ms\n"
          ]
        }
      ],
      "source": [
        "%%time\n",
        "y_pred = logreg.predict(X_test_count)"
      ]
    },
    {
      "cell_type": "code",
      "execution_count": 697,
      "metadata": {
        "colab": {
          "base_uri": "https://localhost:8080/"
        },
        "id": "nXCtaiw-sftL",
        "outputId": "bc589630-81a9-484d-8c04-fe2061fd31fc"
      },
      "outputs": [
        {
          "output_type": "stream",
          "name": "stdout",
          "text": [
            "accuracy 0.6081081081081081\n",
            "              precision    recall  f1-score   support\n",
            "\n",
            "           0       0.53      0.56      0.55       532\n",
            "           1       0.67      0.64      0.65       726\n",
            "\n",
            "    accuracy                           0.61      1258\n",
            "   macro avg       0.60      0.60      0.60      1258\n",
            "weighted avg       0.61      0.61      0.61      1258\n",
            "\n"
          ]
        }
      ],
      "source": [
        "from sklearn.metrics import classification_report\n",
        "print('accuracy %s' % accuracy_score(y_pred, y_test))\n",
        "print(classification_report(y_test, y_pred,target_names=my_target))"
      ]
    },
    {
      "cell_type": "code",
      "execution_count": 708,
      "metadata": {
        "colab": {
          "base_uri": "https://localhost:8080/"
        },
        "id": "QkTlg-WXswb8",
        "outputId": "994b83d0-b643-438a-98b3-794db53b9559"
      },
      "outputs": [
        {
          "output_type": "execute_result",
          "data": {
            "text/plain": [
              "Pipeline(steps=[('clf', SGDClassifier())])"
            ]
          },
          "metadata": {},
          "execution_count": 708
        }
      ],
      "source": [
        "from sklearn.linear_model import SGDClassifier\n",
        "\n",
        "sgd = Pipeline([\n",
        "                ('clf', SGDClassifier()),\n",
        "               ])\n",
        "sgd.fit(X_train_count, y_train)"
      ]
    },
    {
      "cell_type": "code",
      "execution_count": 709,
      "metadata": {
        "colab": {
          "base_uri": "https://localhost:8080/"
        },
        "id": "jBX1rR0OtBtj",
        "outputId": "ff065a5b-853b-4916-a96d-a2286c87d66b"
      },
      "outputs": [
        {
          "output_type": "stream",
          "name": "stdout",
          "text": [
            "CPU times: user 15.2 ms, sys: 1.1 ms, total: 16.3 ms\n",
            "Wall time: 15.4 ms\n"
          ]
        }
      ],
      "source": [
        "%%time\n",
        "y_pred = sgd.predict(X_test_count)"
      ]
    },
    {
      "cell_type": "code",
      "execution_count": 710,
      "metadata": {
        "colab": {
          "base_uri": "https://localhost:8080/"
        },
        "id": "aqNkCEf6s1yq",
        "outputId": "9f62c43e-c634-4a38-f62f-fc8d2c7f189f"
      },
      "outputs": [
        {
          "output_type": "stream",
          "name": "stdout",
          "text": [
            "accuracy 0.604133545310016\n",
            "              precision    recall  f1-score   support\n",
            "\n",
            "           0       0.53      0.53      0.53       532\n",
            "           1       0.66      0.66      0.66       726\n",
            "\n",
            "    accuracy                           0.60      1258\n",
            "   macro avg       0.59      0.59      0.59      1258\n",
            "weighted avg       0.60      0.60      0.60      1258\n",
            "\n"
          ]
        }
      ],
      "source": [
        "from sklearn.metrics import classification_report\n",
        "print('accuracy %s' % accuracy_score(y_pred, y_test))\n",
        "print(classification_report(y_test, y_pred,target_names=my_target))"
      ]
    },
    {
      "cell_type": "code",
      "execution_count": 711,
      "metadata": {
        "colab": {
          "base_uri": "https://localhost:8080/"
        },
        "id": "ereszU4HtH-0",
        "outputId": "2275696e-2157-49e0-f7f9-104a99e29862"
      },
      "outputs": [
        {
          "output_type": "execute_result",
          "data": {
            "text/plain": [
              "Pipeline(steps=[('clf', MultinomialNB())])"
            ]
          },
          "metadata": {},
          "execution_count": 711
        }
      ],
      "source": [
        "from sklearn.naive_bayes import MultinomialNB\n",
        "from sklearn.pipeline import Pipeline\n",
        "from sklearn.feature_extraction.text import TfidfTransformer\n",
        "\n",
        "nb = Pipeline([\n",
        "    ('clf', MultinomialNB()),\n",
        "              ])\n",
        "nb.fit(X_train_count, y_train)"
      ]
    },
    {
      "cell_type": "code",
      "execution_count": 712,
      "metadata": {
        "colab": {
          "base_uri": "https://localhost:8080/"
        },
        "id": "QS6AMXeutNWh",
        "outputId": "a6bf418c-8da6-47d1-e9ea-60262bb3fe4f"
      },
      "outputs": [
        {
          "output_type": "stream",
          "name": "stdout",
          "text": [
            "CPU times: user 25.1 ms, sys: 39 µs, total: 25.2 ms\n",
            "Wall time: 21.1 ms\n"
          ]
        }
      ],
      "source": [
        "%%time\n",
        "y_pred = nb.predict(X_test_count)"
      ]
    },
    {
      "cell_type": "code",
      "execution_count": 713,
      "metadata": {
        "colab": {
          "base_uri": "https://localhost:8080/"
        },
        "id": "-7OWBkzftPeh",
        "outputId": "7d52ab32-b265-4353-e7ce-b315cbb0e11f"
      },
      "outputs": [
        {
          "output_type": "stream",
          "name": "stdout",
          "text": [
            "accuracy 0.6208267090620032\n",
            "              precision    recall  f1-score   support\n",
            "\n",
            "           0       0.57      0.44      0.49       532\n",
            "           1       0.65      0.76      0.70       726\n",
            "\n",
            "    accuracy                           0.62      1258\n",
            "   macro avg       0.61      0.60      0.60      1258\n",
            "weighted avg       0.61      0.62      0.61      1258\n",
            "\n"
          ]
        }
      ],
      "source": [
        "from sklearn.metrics import classification_report\n",
        "print('accuracy %s' % accuracy_score(y_pred, y_test))\n",
        "print(classification_report(y_test, y_pred,target_names=my_target))"
      ]
    },
    {
      "cell_type": "code",
      "execution_count": 714,
      "metadata": {
        "colab": {
          "base_uri": "https://localhost:8080/"
        },
        "id": "tTK_BSYrtTXq",
        "outputId": "c5b7b4dc-b061-4b36-a8cf-906692bdf749"
      },
      "outputs": [
        {
          "output_type": "execute_result",
          "data": {
            "text/plain": [
              "Pipeline(steps=[('clf', RandomForestClassifier())])"
            ]
          },
          "metadata": {},
          "execution_count": 714
        }
      ],
      "source": [
        "from sklearn.ensemble import RandomForestClassifier\n",
        "\n",
        "randfor = Pipeline([\n",
        "    \n",
        "                ('clf', RandomForestClassifier()),\n",
        "               ])\n",
        "randfor.fit(X_train_count, y_train)"
      ]
    },
    {
      "cell_type": "code",
      "execution_count": 715,
      "metadata": {
        "colab": {
          "base_uri": "https://localhost:8080/"
        },
        "id": "08wgrwPDteEi",
        "outputId": "c0640bdd-a2c0-4f82-ee4c-6156a69f5b8e"
      },
      "outputs": [
        {
          "output_type": "stream",
          "name": "stdout",
          "text": [
            "CPU times: user 80.8 ms, sys: 1.43 ms, total: 82.2 ms\n",
            "Wall time: 84.2 ms\n"
          ]
        }
      ],
      "source": [
        "%%time\n",
        "y_pred = randfor.predict(X_test_count)"
      ]
    },
    {
      "cell_type": "code",
      "execution_count": 716,
      "metadata": {
        "colab": {
          "base_uri": "https://localhost:8080/"
        },
        "id": "0y1ziEEMthiL",
        "outputId": "c652479b-2159-4378-dc72-2c60cd2624f6"
      },
      "outputs": [
        {
          "output_type": "stream",
          "name": "stdout",
          "text": [
            "accuracy 0.6271860095389508\n",
            "              precision    recall  f1-score   support\n",
            "\n",
            "           0       0.58      0.44      0.50       532\n",
            "           1       0.65      0.76      0.70       726\n",
            "\n",
            "    accuracy                           0.63      1258\n",
            "   macro avg       0.61      0.60      0.60      1258\n",
            "weighted avg       0.62      0.63      0.62      1258\n",
            "\n"
          ]
        }
      ],
      "source": [
        "from sklearn.metrics import classification_report\n",
        "print('accuracy %s' % accuracy_score(y_pred, y_test))\n",
        "print(classification_report(y_test, y_pred,target_names=my_target))"
      ]
    },
    {
      "cell_type": "code",
      "execution_count": 717,
      "metadata": {
        "colab": {
          "base_uri": "https://localhost:8080/"
        },
        "id": "KdGJjzxitkQo",
        "outputId": "cf3bb874-b00d-42ec-edcb-498023ce5928"
      },
      "outputs": [
        {
          "output_type": "execute_result",
          "data": {
            "text/plain": [
              "Pipeline(steps=[('clf', GradientBoostingClassifier())])"
            ]
          },
          "metadata": {},
          "execution_count": 717
        }
      ],
      "source": [
        "from sklearn.ensemble import GradientBoostingClassifier\n",
        "graboos = Pipeline([\n",
        "                ('clf', GradientBoostingClassifier()),\n",
        "               ])\n",
        "graboos.fit(X_train_count, y_train)"
      ]
    },
    {
      "cell_type": "code",
      "execution_count": 718,
      "metadata": {
        "colab": {
          "base_uri": "https://localhost:8080/"
        },
        "id": "aEBGgaefto2R",
        "outputId": "d0c16cc5-bd58-47fd-e8d8-226bee0879e9"
      },
      "outputs": [
        {
          "output_type": "stream",
          "name": "stdout",
          "text": [
            "CPU times: user 28.5 ms, sys: 1.81 ms, total: 30.4 ms\n",
            "Wall time: 27.4 ms\n"
          ]
        }
      ],
      "source": [
        "%%time\n",
        "y_pred = graboos.predict(X_test_count)"
      ]
    },
    {
      "cell_type": "code",
      "execution_count": 719,
      "metadata": {
        "colab": {
          "base_uri": "https://localhost:8080/"
        },
        "id": "dXQLoITgtrJz",
        "outputId": "23e4f4b5-d653-411f-d89e-bbe9f6c92af9"
      },
      "outputs": [
        {
          "output_type": "stream",
          "name": "stdout",
          "text": [
            "accuracy 0.6073131955484896\n",
            "              precision    recall  f1-score   support\n",
            "\n",
            "           0       0.54      0.48      0.51       532\n",
            "           1       0.65      0.70      0.67       726\n",
            "\n",
            "    accuracy                           0.61      1258\n",
            "   macro avg       0.59      0.59      0.59      1258\n",
            "weighted avg       0.60      0.61      0.60      1258\n",
            "\n"
          ]
        }
      ],
      "source": [
        "from sklearn.metrics import classification_report\n",
        "print('accuracy %s' % accuracy_score(y_pred, y_test))\n",
        "print(classification_report(y_test, y_pred,target_names=my_target))"
      ]
    },
    {
      "cell_type": "code",
      "execution_count": 720,
      "metadata": {
        "colab": {
          "base_uri": "https://localhost:8080/"
        },
        "id": "tlXDagxjttnU",
        "outputId": "c3fe41c2-c98d-4441-8c02-0d2c9d9f82ff"
      },
      "outputs": [
        {
          "output_type": "execute_result",
          "data": {
            "text/plain": [
              "Pipeline(steps=[('pca', PCA()), ('clf', XGBClassifier())])"
            ]
          },
          "metadata": {},
          "execution_count": 720
        }
      ],
      "source": [
        "import xgboost as xgb\n",
        "\n",
        "xgboo = Pipeline([\n",
        "    \n",
        "                ('pca', pca),\n",
        "                ('clf', xgb.XGBClassifier()),\n",
        "               ])\n",
        "xgboo.fit(X_train_count, y_train)"
      ]
    },
    {
      "cell_type": "code",
      "execution_count": 721,
      "metadata": {
        "colab": {
          "base_uri": "https://localhost:8080/"
        },
        "id": "-JUsrVPjtx3u",
        "outputId": "56ee56fe-bcce-4567-c5cf-f7a539730e6e"
      },
      "outputs": [
        {
          "output_type": "stream",
          "name": "stdout",
          "text": [
            "CPU times: user 223 ms, sys: 22.7 ms, total: 245 ms\n",
            "Wall time: 141 ms\n"
          ]
        }
      ],
      "source": [
        "%%time\n",
        "y_pred = xgboo.predict(X_test_count)"
      ]
    },
    {
      "cell_type": "code",
      "execution_count": 722,
      "metadata": {
        "colab": {
          "base_uri": "https://localhost:8080/"
        },
        "id": "kouQJT0dt4RX",
        "outputId": "e9c6f260-7d03-4b5d-e724-71455e7ee9a9"
      },
      "outputs": [
        {
          "output_type": "stream",
          "name": "stdout",
          "text": [
            "accuracy 0.6120826709062003\n",
            "              precision    recall  f1-score   support\n",
            "\n",
            "           0       0.56      0.39      0.46       532\n",
            "           1       0.63      0.78      0.70       726\n",
            "\n",
            "    accuracy                           0.61      1258\n",
            "   macro avg       0.60      0.58      0.58      1258\n",
            "weighted avg       0.60      0.61      0.60      1258\n",
            "\n"
          ]
        }
      ],
      "source": [
        "from sklearn.metrics import classification_report\n",
        "print('accuracy %s' % accuracy_score(y_pred, y_test))\n",
        "print(classification_report(y_test, y_pred,target_names=my_target))"
      ]
    },
    {
      "cell_type": "code",
      "execution_count": 726,
      "metadata": {
        "colab": {
          "base_uri": "https://localhost:8080/"
        },
        "id": "suxwqbzGt6U-",
        "outputId": "9a1b3987-b67d-4577-86f4-7a38585415c8"
      },
      "outputs": [
        {
          "output_type": "execute_result",
          "data": {
            "text/plain": [
              "Pipeline(steps=[('kn', KNeighborsClassifier(n_neighbors=15))])"
            ]
          },
          "metadata": {},
          "execution_count": 726
        }
      ],
      "source": [
        "from sklearn.neighbors import KNeighborsClassifier\n",
        "\n",
        "kn = Pipeline([\n",
        "    \n",
        "                #('pca', pca),\n",
        "              ('kn',KNeighborsClassifier(n_neighbors=15)),\n",
        "               ])\n",
        "kn.fit(X_train_count, y_train)"
      ]
    },
    {
      "cell_type": "code",
      "execution_count": 727,
      "metadata": {
        "colab": {
          "base_uri": "https://localhost:8080/"
        },
        "id": "3z8DOh3guA0o",
        "outputId": "e7503dd6-5524-473c-f672-0c3e93415cf9"
      },
      "outputs": [
        {
          "output_type": "stream",
          "name": "stdout",
          "text": [
            "CPU times: user 1.18 s, sys: 147 ms, total: 1.33 s\n",
            "Wall time: 795 ms\n"
          ]
        }
      ],
      "source": [
        "%%time\n",
        "y_pred = kn.predict(X_test_count)"
      ]
    },
    {
      "cell_type": "code",
      "execution_count": 728,
      "metadata": {
        "colab": {
          "base_uri": "https://localhost:8080/"
        },
        "id": "Yi0EL_g3uFJd",
        "outputId": "026af804-db15-41a8-e0d4-eef9e55c9280"
      },
      "outputs": [
        {
          "output_type": "stream",
          "name": "stdout",
          "text": [
            "accuracy 0.581081081081081\n",
            "              precision    recall  f1-score   support\n",
            "\n",
            "           0       0.50      0.55      0.52       532\n",
            "           1       0.65      0.61      0.63       726\n",
            "\n",
            "    accuracy                           0.58      1258\n",
            "   macro avg       0.58      0.58      0.57      1258\n",
            "weighted avg       0.59      0.58      0.58      1258\n",
            "\n"
          ]
        }
      ],
      "source": [
        "from sklearn.metrics import classification_report\n",
        "print('accuracy %s' % accuracy_score(y_pred, y_test))\n",
        "print(classification_report(y_test, y_pred,target_names=my_target))"
      ]
    },
    {
      "cell_type": "markdown",
      "source": [
        "# Multiple test to improve the accuracy"
      ],
      "metadata": {
        "id": "xfAdO18kXYCI"
      }
    },
    {
      "cell_type": "code",
      "source": [
        "from sklearn.model_selection import train_test_split\n",
        "X_train, X_test = train_test_split(big_df, test_size=0.2, random_state=42)"
      ],
      "metadata": {
        "id": "g7AV1VY9XbVr"
      },
      "execution_count": 420,
      "outputs": []
    },
    {
      "cell_type": "code",
      "source": [
        "y_train = X_train[\"target\"]\n",
        "X_train = X_train.loc[:, X_train.columns != 'target']"
      ],
      "metadata": {
        "id": "rmQfhZDiXbxj"
      },
      "execution_count": 421,
      "outputs": []
    },
    {
      "cell_type": "code",
      "source": [
        "ros = RandomOverSampler(random_state=42)\n",
        "X_train_ros, y_train_ros= ros.fit_resample(X_train, y_train)"
      ],
      "metadata": {
        "id": "S_Jx-rksYjwS"
      },
      "execution_count": 422,
      "outputs": []
    },
    {
      "cell_type": "code",
      "source": [
        "X_train = X_train_ros\n",
        "y_train = y_train_ros"
      ],
      "metadata": {
        "id": "msvH-x7zYl2S"
      },
      "execution_count": 423,
      "outputs": []
    },
    {
      "cell_type": "code",
      "source": [
        "y_test = X_test[\"target\"]\n",
        "X_test = X_test.loc[:, X_test.columns != 'target']"
      ],
      "metadata": {
        "id": "VDX51va6Ynoe"
      },
      "execution_count": 424,
      "outputs": []
    },
    {
      "cell_type": "code",
      "source": [
        "from sklearn.naive_bayes import MultinomialNB\n",
        "from sklearn.pipeline import Pipeline\n",
        "from sklearn.feature_extraction.text import TfidfTransformer"
      ],
      "metadata": {
        "id": "xfchVeniYrLs"
      },
      "execution_count": 425,
      "outputs": []
    },
    {
      "cell_type": "code",
      "source": [
        "from sklearn.linear_model import LogisticRegression\n",
        "\n",
        "logreg = Pipeline([('vect', CountVectorizer(ngram_range=(1, 2))),\n",
        "                ('tfidf', TfidfTransformer()),\n",
        "                ('clf', LogisticRegression(n_jobs=1, C=1e5, solver='lbfgs', max_iter=100000)),\n",
        "               ])\n",
        "logreg.fit(X_train[\"facts\"], y_train)"
      ],
      "metadata": {
        "colab": {
          "base_uri": "https://localhost:8080/"
        },
        "id": "JAZB0GCNazzb",
        "outputId": "a7d6fb7f-dfc7-4dc5-ca2d-96797e604567"
      },
      "execution_count": 443,
      "outputs": [
        {
          "output_type": "execute_result",
          "data": {
            "text/plain": [
              "Pipeline(steps=[('vect', CountVectorizer(ngram_range=(1, 2))),\n",
              "                ('tfidf', TfidfTransformer()),\n",
              "                ('clf',\n",
              "                 LogisticRegression(C=100000.0, max_iter=100000, n_jobs=1))])"
            ]
          },
          "metadata": {},
          "execution_count": 443
        }
      ]
    },
    {
      "cell_type": "code",
      "source": [
        "%%time\n",
        "y_pred = logreg.predict(X_test[\"facts\"])"
      ],
      "metadata": {
        "colab": {
          "base_uri": "https://localhost:8080/"
        },
        "id": "gpOV5cAia3-C",
        "outputId": "b4996ab0-1081-4d57-e3f1-c84adb111295"
      },
      "execution_count": 444,
      "outputs": [
        {
          "output_type": "stream",
          "name": "stdout",
          "text": [
            "CPU times: user 1.38 s, sys: 10.3 ms, total: 1.39 s\n",
            "Wall time: 1.4 s\n"
          ]
        }
      ]
    },
    {
      "cell_type": "code",
      "source": [
        "from sklearn.metrics import classification_report\n",
        "print('accuracy %s' % accuracy_score(y_pred, y_test))\n",
        "print(classification_report(y_test, y_pred,target_names=my_target))"
      ],
      "metadata": {
        "colab": {
          "base_uri": "https://localhost:8080/"
        },
        "id": "MCf5yWVNa9ig",
        "outputId": "cc14e1a6-9671-4d98-ccd7-9e8a84192d01"
      },
      "execution_count": 445,
      "outputs": [
        {
          "output_type": "stream",
          "name": "stdout",
          "text": [
            "accuracy 0.5866454689984102\n",
            "              precision    recall  f1-score   support\n",
            "\n",
            "           0       0.51      0.44      0.47       532\n",
            "           1       0.63      0.70      0.66       726\n",
            "\n",
            "    accuracy                           0.59      1258\n",
            "   macro avg       0.57      0.57      0.57      1258\n",
            "weighted avg       0.58      0.59      0.58      1258\n",
            "\n"
          ]
        }
      ]
    },
    {
      "cell_type": "code",
      "source": [
        "randfor = Pipeline([('vect', CountVectorizer()),\n",
        "               ('tfidf', TfidfTransformer()),\n",
        "                ('clf', RandomForestClassifier()),\n",
        "               ])\n",
        "randfor.fit(X_train[\"facts\"], y_train)"
      ],
      "metadata": {
        "colab": {
          "base_uri": "https://localhost:8080/"
        },
        "id": "-XocjwZXaARX",
        "outputId": "8c8d968b-ba5b-4a32-b5e0-3add649cbdc6"
      },
      "execution_count": 440,
      "outputs": [
        {
          "output_type": "execute_result",
          "data": {
            "text/plain": [
              "Pipeline(steps=[('vect', CountVectorizer()), ('tfidf', TfidfTransformer()),\n",
              "                ('clf', RandomForestClassifier())])"
            ]
          },
          "metadata": {},
          "execution_count": 440
        }
      ]
    },
    {
      "cell_type": "code",
      "source": [
        "%%time\n",
        "y_pred = randfor.predict(X_test[\"facts\"])"
      ],
      "metadata": {
        "colab": {
          "base_uri": "https://localhost:8080/"
        },
        "id": "OE21Cm-qaFiZ",
        "outputId": "9d863479-b525-4fd9-ce64-638cfa49365e"
      },
      "execution_count": 441,
      "outputs": [
        {
          "output_type": "stream",
          "name": "stdout",
          "text": [
            "CPU times: user 682 ms, sys: 9.47 ms, total: 691 ms\n",
            "Wall time: 699 ms\n"
          ]
        }
      ]
    },
    {
      "cell_type": "code",
      "source": [
        "from sklearn.metrics import classification_report\n",
        "print('accuracy %s' % accuracy_score(y_pred, y_test))\n",
        "print(classification_report(y_test, y_pred,target_names=my_target))"
      ],
      "metadata": {
        "colab": {
          "base_uri": "https://localhost:8080/"
        },
        "id": "ELQ6t9cpaQKD",
        "outputId": "307f49ed-a023-4666-9b9e-83a302649650"
      },
      "execution_count": 442,
      "outputs": [
        {
          "output_type": "stream",
          "name": "stdout",
          "text": [
            "accuracy 0.6025437201907791\n",
            "              precision    recall  f1-score   support\n",
            "\n",
            "           0       0.54      0.39      0.46       532\n",
            "           1       0.63      0.75      0.69       726\n",
            "\n",
            "    accuracy                           0.60      1258\n",
            "   macro avg       0.59      0.57      0.57      1258\n",
            "weighted avg       0.59      0.60      0.59      1258\n",
            "\n"
          ]
        }
      ]
    },
    {
      "cell_type": "code",
      "source": [
        "encoder = OneHotEncoder(handle_unknown='ignore')"
      ],
      "metadata": {
        "id": "XmsS57i0fUoj"
      },
      "execution_count": null,
      "outputs": []
    },
    {
      "cell_type": "code",
      "source": [
        "df_toPredict"
      ],
      "metadata": {
        "id": "ujo_x-7qgB1f"
      },
      "execution_count": null,
      "outputs": []
    },
    {
      "cell_type": "code",
      "source": [
        "encoder_second_df = pd.DataFrame(encoder.fit_transform(df_toPredict[['issue_area']]).toarray())"
      ],
      "metadata": {
        "id": "487kwwjvgGjl"
      },
      "execution_count": 454,
      "outputs": []
    },
    {
      "cell_type": "code",
      "source": [
        "encoder_second_df.columns = ['Civil Rights', 'Criminal Procedure', 'Economic Activity',\n",
        "                      'First Amendment', 'Judicial Power', 'Others']"
      ],
      "metadata": {
        "id": "dABZZuSfgJ39"
      },
      "execution_count": 455,
      "outputs": []
    },
    {
      "cell_type": "code",
      "source": [
        "df_toPredict = df_toPredict.join(encoder_second_df)\n",
        "df_toPredict.drop('issue_area', axis=1, inplace=True)"
      ],
      "metadata": {
        "id": "fzIPw_HwgGc4"
      },
      "execution_count": 456,
      "outputs": []
    },
    {
      "cell_type": "code",
      "source": [
        "df_toPredict[['Civil Rights', 'Criminal Procedure', 'Economic Activity',\n",
        "                      'First Amendment', 'Judicial Power', 'Others']] = df_toPredict[['Civil Rights', 'Criminal Procedure', 'Economic Activity',\n",
        "                      'First Amendment', 'Judicial Power', 'Others']].astype(int)"
      ],
      "metadata": {
        "id": "CFwJDupwgGZ3"
      },
      "execution_count": 457,
      "outputs": []
    },
    {
      "cell_type": "code",
      "source": [
        "df_toPredict = df_toPredict[[\"facts\", 'Civil Rights', 'Criminal Procedure', 'Economic Activity',\n",
        "                      'First Amendment', 'Judicial Power', 'Others', \"first_party_winner\"]]"
      ],
      "metadata": {
        "id": "ku-jKmG8gdQ2"
      },
      "execution_count": 458,
      "outputs": []
    },
    {
      "cell_type": "code",
      "source": [
        "df_withoutNA"
      ],
      "metadata": {
        "id": "-9LLN2cVgGWy"
      },
      "execution_count": null,
      "outputs": []
    },
    {
      "cell_type": "code",
      "source": [
        "encoder_first_df = pd.DataFrame(encoder.fit_transform(df_withoutNA[['issue_area']]).toarray())"
      ],
      "metadata": {
        "id": "r7iF0EqugoHE"
      },
      "execution_count": 460,
      "outputs": []
    },
    {
      "cell_type": "code",
      "source": [
        "encoder_first_df.columns = ['Civil Rights', 'Criminal Procedure', 'Economic Activity',\n",
        "                      'First Amendment', 'Judicial Power', 'Others']"
      ],
      "metadata": {
        "id": "Ay_KeRHFgoDt"
      },
      "execution_count": 461,
      "outputs": []
    },
    {
      "cell_type": "code",
      "source": [
        "df_withoutNA = df_withoutNA.join(encoder_first_df)\n",
        "df_withoutNA.drop('issue_area', axis=1, inplace=True)"
      ],
      "metadata": {
        "id": "XoFRi3ltgu2v"
      },
      "execution_count": 464,
      "outputs": []
    },
    {
      "cell_type": "code",
      "source": [
        "df_withoutNA[['Civil Rights', 'Criminal Procedure', 'Economic Activity',\n",
        "                      'First Amendment', 'Judicial Power', 'Others']] = df_withoutNA[['Civil Rights', 'Criminal Procedure', 'Economic Activity',\n",
        "                      'First Amendment', 'Judicial Power', 'Others']].astype(int)"
      ],
      "metadata": {
        "id": "mun34zEtguzt"
      },
      "execution_count": 465,
      "outputs": []
    },
    {
      "cell_type": "code",
      "source": [
        "df_withoutNA = df_withoutNA[[\"facts\", 'Civil Rights', 'Criminal Procedure', 'Economic Activity',\n",
        "                      'First Amendment', 'Judicial Power', 'Others', \"first_party_winner\"]]"
      ],
      "metadata": {
        "id": "EtfT4At3guwL"
      },
      "execution_count": 466,
      "outputs": []
    },
    {
      "cell_type": "code",
      "source": [
        "df_withoutNA"
      ],
      "metadata": {
        "colab": {
          "base_uri": "https://localhost:8080/",
          "height": 659
        },
        "id": "RF5hWjE7hgfJ",
        "outputId": "45bfd701-8b8c-48bb-9182-5f7d4ce18308"
      },
      "execution_count": 468,
      "outputs": [
        {
          "output_type": "execute_result",
          "data": {
            "text/plain": [
              "                                                  facts  Civil Rights  \\\n",
              "0     joan stanley three children peter stanley stan...             1   \n",
              "1     john giglio convict pass forge money order app...             0   \n",
              "2     idaho probate code specify males must prefer f...             1   \n",
              "3     miller conduct mass mail campaign advertise sa...             0   \n",
              "4     ernest mandel belgian professional journalist ...             0   \n",
              "...                                                 ...           ...   \n",
              "3154  century alaska purchase federal government set...             1   \n",
              "3155  refugio palomar santiago mexican national gran...             0   \n",
              "3156  tarahrick terry plead guilty one count possess...             0   \n",
              "3157  joshua jam cooley park pickup truck side road ...             1   \n",
              "3158  natural gas act nga permit private company exe...             0   \n",
              "\n",
              "      Criminal Procedure  Economic Activity  First Amendment  Judicial Power  \\\n",
              "0                      0                  0                0               0   \n",
              "1                      0                  0                0               0   \n",
              "2                      0                  0                0               0   \n",
              "3                      0                  0                1               0   \n",
              "4                      0                  0                1               0   \n",
              "...                  ...                ...              ...             ...   \n",
              "3154                   0                  0                0               0   \n",
              "3155                   1                  0                0               0   \n",
              "3156                   1                  0                0               0   \n",
              "3157                   0                  0                0               0   \n",
              "3158                   0                  0                0               0   \n",
              "\n",
              "      Others  first_party_winner  \n",
              "0          0                   1  \n",
              "1          1                   1  \n",
              "2          0                   1  \n",
              "3          0                   1  \n",
              "4          0                   1  \n",
              "...      ...                 ...  \n",
              "3154       0                   1  \n",
              "3155       0                   1  \n",
              "3156       0                   0  \n",
              "3157       0                   1  \n",
              "3158       1                   1  \n",
              "\n",
              "[3159 rows x 8 columns]"
            ],
            "text/html": [
              "\n",
              "  <div id=\"df-19835738-12cd-4ecb-9260-36fbc4577734\">\n",
              "    <div class=\"colab-df-container\">\n",
              "      <div>\n",
              "<style scoped>\n",
              "    .dataframe tbody tr th:only-of-type {\n",
              "        vertical-align: middle;\n",
              "    }\n",
              "\n",
              "    .dataframe tbody tr th {\n",
              "        vertical-align: top;\n",
              "    }\n",
              "\n",
              "    .dataframe thead th {\n",
              "        text-align: right;\n",
              "    }\n",
              "</style>\n",
              "<table border=\"1\" class=\"dataframe\">\n",
              "  <thead>\n",
              "    <tr style=\"text-align: right;\">\n",
              "      <th></th>\n",
              "      <th>facts</th>\n",
              "      <th>Civil Rights</th>\n",
              "      <th>Criminal Procedure</th>\n",
              "      <th>Economic Activity</th>\n",
              "      <th>First Amendment</th>\n",
              "      <th>Judicial Power</th>\n",
              "      <th>Others</th>\n",
              "      <th>first_party_winner</th>\n",
              "    </tr>\n",
              "  </thead>\n",
              "  <tbody>\n",
              "    <tr>\n",
              "      <th>0</th>\n",
              "      <td>joan stanley three children peter stanley stan...</td>\n",
              "      <td>1</td>\n",
              "      <td>0</td>\n",
              "      <td>0</td>\n",
              "      <td>0</td>\n",
              "      <td>0</td>\n",
              "      <td>0</td>\n",
              "      <td>1</td>\n",
              "    </tr>\n",
              "    <tr>\n",
              "      <th>1</th>\n",
              "      <td>john giglio convict pass forge money order app...</td>\n",
              "      <td>0</td>\n",
              "      <td>0</td>\n",
              "      <td>0</td>\n",
              "      <td>0</td>\n",
              "      <td>0</td>\n",
              "      <td>1</td>\n",
              "      <td>1</td>\n",
              "    </tr>\n",
              "    <tr>\n",
              "      <th>2</th>\n",
              "      <td>idaho probate code specify males must prefer f...</td>\n",
              "      <td>1</td>\n",
              "      <td>0</td>\n",
              "      <td>0</td>\n",
              "      <td>0</td>\n",
              "      <td>0</td>\n",
              "      <td>0</td>\n",
              "      <td>1</td>\n",
              "    </tr>\n",
              "    <tr>\n",
              "      <th>3</th>\n",
              "      <td>miller conduct mass mail campaign advertise sa...</td>\n",
              "      <td>0</td>\n",
              "      <td>0</td>\n",
              "      <td>0</td>\n",
              "      <td>1</td>\n",
              "      <td>0</td>\n",
              "      <td>0</td>\n",
              "      <td>1</td>\n",
              "    </tr>\n",
              "    <tr>\n",
              "      <th>4</th>\n",
              "      <td>ernest mandel belgian professional journalist ...</td>\n",
              "      <td>0</td>\n",
              "      <td>0</td>\n",
              "      <td>0</td>\n",
              "      <td>1</td>\n",
              "      <td>0</td>\n",
              "      <td>0</td>\n",
              "      <td>1</td>\n",
              "    </tr>\n",
              "    <tr>\n",
              "      <th>...</th>\n",
              "      <td>...</td>\n",
              "      <td>...</td>\n",
              "      <td>...</td>\n",
              "      <td>...</td>\n",
              "      <td>...</td>\n",
              "      <td>...</td>\n",
              "      <td>...</td>\n",
              "      <td>...</td>\n",
              "    </tr>\n",
              "    <tr>\n",
              "      <th>3154</th>\n",
              "      <td>century alaska purchase federal government set...</td>\n",
              "      <td>1</td>\n",
              "      <td>0</td>\n",
              "      <td>0</td>\n",
              "      <td>0</td>\n",
              "      <td>0</td>\n",
              "      <td>0</td>\n",
              "      <td>1</td>\n",
              "    </tr>\n",
              "    <tr>\n",
              "      <th>3155</th>\n",
              "      <td>refugio palomar santiago mexican national gran...</td>\n",
              "      <td>0</td>\n",
              "      <td>1</td>\n",
              "      <td>0</td>\n",
              "      <td>0</td>\n",
              "      <td>0</td>\n",
              "      <td>0</td>\n",
              "      <td>1</td>\n",
              "    </tr>\n",
              "    <tr>\n",
              "      <th>3156</th>\n",
              "      <td>tarahrick terry plead guilty one count possess...</td>\n",
              "      <td>0</td>\n",
              "      <td>1</td>\n",
              "      <td>0</td>\n",
              "      <td>0</td>\n",
              "      <td>0</td>\n",
              "      <td>0</td>\n",
              "      <td>0</td>\n",
              "    </tr>\n",
              "    <tr>\n",
              "      <th>3157</th>\n",
              "      <td>joshua jam cooley park pickup truck side road ...</td>\n",
              "      <td>1</td>\n",
              "      <td>0</td>\n",
              "      <td>0</td>\n",
              "      <td>0</td>\n",
              "      <td>0</td>\n",
              "      <td>0</td>\n",
              "      <td>1</td>\n",
              "    </tr>\n",
              "    <tr>\n",
              "      <th>3158</th>\n",
              "      <td>natural gas act nga permit private company exe...</td>\n",
              "      <td>0</td>\n",
              "      <td>0</td>\n",
              "      <td>0</td>\n",
              "      <td>0</td>\n",
              "      <td>0</td>\n",
              "      <td>1</td>\n",
              "      <td>1</td>\n",
              "    </tr>\n",
              "  </tbody>\n",
              "</table>\n",
              "<p>3159 rows × 8 columns</p>\n",
              "</div>\n",
              "      <button class=\"colab-df-convert\" onclick=\"convertToInteractive('df-19835738-12cd-4ecb-9260-36fbc4577734')\"\n",
              "              title=\"Convert this dataframe to an interactive table.\"\n",
              "              style=\"display:none;\">\n",
              "        \n",
              "  <svg xmlns=\"http://www.w3.org/2000/svg\" height=\"24px\"viewBox=\"0 0 24 24\"\n",
              "       width=\"24px\">\n",
              "    <path d=\"M0 0h24v24H0V0z\" fill=\"none\"/>\n",
              "    <path d=\"M18.56 5.44l.94 2.06.94-2.06 2.06-.94-2.06-.94-.94-2.06-.94 2.06-2.06.94zm-11 1L8.5 8.5l.94-2.06 2.06-.94-2.06-.94L8.5 2.5l-.94 2.06-2.06.94zm10 10l.94 2.06.94-2.06 2.06-.94-2.06-.94-.94-2.06-.94 2.06-2.06.94z\"/><path d=\"M17.41 7.96l-1.37-1.37c-.4-.4-.92-.59-1.43-.59-.52 0-1.04.2-1.43.59L10.3 9.45l-7.72 7.72c-.78.78-.78 2.05 0 2.83L4 21.41c.39.39.9.59 1.41.59.51 0 1.02-.2 1.41-.59l7.78-7.78 2.81-2.81c.8-.78.8-2.07 0-2.86zM5.41 20L4 18.59l7.72-7.72 1.47 1.35L5.41 20z\"/>\n",
              "  </svg>\n",
              "      </button>\n",
              "      \n",
              "  <style>\n",
              "    .colab-df-container {\n",
              "      display:flex;\n",
              "      flex-wrap:wrap;\n",
              "      gap: 12px;\n",
              "    }\n",
              "\n",
              "    .colab-df-convert {\n",
              "      background-color: #E8F0FE;\n",
              "      border: none;\n",
              "      border-radius: 50%;\n",
              "      cursor: pointer;\n",
              "      display: none;\n",
              "      fill: #1967D2;\n",
              "      height: 32px;\n",
              "      padding: 0 0 0 0;\n",
              "      width: 32px;\n",
              "    }\n",
              "\n",
              "    .colab-df-convert:hover {\n",
              "      background-color: #E2EBFA;\n",
              "      box-shadow: 0px 1px 2px rgba(60, 64, 67, 0.3), 0px 1px 3px 1px rgba(60, 64, 67, 0.15);\n",
              "      fill: #174EA6;\n",
              "    }\n",
              "\n",
              "    [theme=dark] .colab-df-convert {\n",
              "      background-color: #3B4455;\n",
              "      fill: #D2E3FC;\n",
              "    }\n",
              "\n",
              "    [theme=dark] .colab-df-convert:hover {\n",
              "      background-color: #434B5C;\n",
              "      box-shadow: 0px 1px 3px 1px rgba(0, 0, 0, 0.15);\n",
              "      filter: drop-shadow(0px 1px 2px rgba(0, 0, 0, 0.3));\n",
              "      fill: #FFFFFF;\n",
              "    }\n",
              "  </style>\n",
              "\n",
              "      <script>\n",
              "        const buttonEl =\n",
              "          document.querySelector('#df-19835738-12cd-4ecb-9260-36fbc4577734 button.colab-df-convert');\n",
              "        buttonEl.style.display =\n",
              "          google.colab.kernel.accessAllowed ? 'block' : 'none';\n",
              "\n",
              "        async function convertToInteractive(key) {\n",
              "          const element = document.querySelector('#df-19835738-12cd-4ecb-9260-36fbc4577734');\n",
              "          const dataTable =\n",
              "            await google.colab.kernel.invokeFunction('convertToInteractive',\n",
              "                                                     [key], {});\n",
              "          if (!dataTable) return;\n",
              "\n",
              "          const docLinkHtml = 'Like what you see? Visit the ' +\n",
              "            '<a target=\"_blank\" href=https://colab.research.google.com/notebooks/data_table.ipynb>data table notebook</a>'\n",
              "            + ' to learn more about interactive tables.';\n",
              "          element.innerHTML = '';\n",
              "          dataTable['output_type'] = 'display_data';\n",
              "          await google.colab.output.renderOutput(dataTable, element);\n",
              "          const docLink = document.createElement('div');\n",
              "          docLink.innerHTML = docLinkHtml;\n",
              "          element.appendChild(docLink);\n",
              "        }\n",
              "      </script>\n",
              "    </div>\n",
              "  </div>\n",
              "  "
            ]
          },
          "metadata": {},
          "execution_count": 468
        }
      ]
    },
    {
      "cell_type": "code",
      "source": [
        "X_train = df_withoutNA.loc[:, df_withoutNA.columns != 'first_party_winner']\n",
        "y_train = df_withoutNA['first_party_winner']"
      ],
      "metadata": {
        "id": "V31S4K0KhYUs"
      },
      "execution_count": 470,
      "outputs": []
    },
    {
      "cell_type": "code",
      "source": [
        "ros = RandomOverSampler(random_state=42)\n",
        "X_train_ros, y_train_ros= ros.fit_resample(X_train, y_train)"
      ],
      "metadata": {
        "id": "I0MQXQAUhOvA"
      },
      "execution_count": 471,
      "outputs": []
    },
    {
      "cell_type": "code",
      "source": [
        "X_train = X_train_ros\n",
        "y_train = y_train_ros"
      ],
      "metadata": {
        "id": "WBH4wTRLhCQ2"
      },
      "execution_count": 473,
      "outputs": []
    },
    {
      "cell_type": "code",
      "source": [
        "X_test = df_toPredict.loc[:, df_toPredict.columns != 'first_party_winner']\n",
        "y_test = df_toPredict['first_party_winner']"
      ],
      "metadata": {
        "id": "zgLda6-EiiV_"
      },
      "execution_count": 478,
      "outputs": []
    },
    {
      "cell_type": "code",
      "source": [
        "from sklearn.feature_extraction.text import CountVectorizer\n",
        "vectorizer = CountVectorizer()"
      ],
      "metadata": {
        "id": "dUth1O5eixTI"
      },
      "execution_count": 479,
      "outputs": []
    },
    {
      "cell_type": "code",
      "source": [
        "train_vectors = vectorizer_tf.fit_transform(X_train.facts) \n",
        "test_vectors = vectorizer_tf.transform(X_test.facts)"
      ],
      "metadata": {
        "id": "lwrLqOHFizYw"
      },
      "execution_count": 480,
      "outputs": []
    },
    {
      "cell_type": "code",
      "source": [
        "train_df=pd.DataFrame(train_vectors.toarray(), columns=vectorizer_tf.get_feature_names())\n",
        "test_df=pd.DataFrame(test_vectors.toarray(), columns=vectorizer_tf.get_feature_names())\n",
        "\n",
        "\n",
        "train_df=pd.concat([train_df,X_train.loc[:, X_train.columns != \"facts\"].reset_index(drop=True)], axis=1)\n",
        "test_df=pd.concat([test_df,X_test.loc[:, X_test.columns != \"facts\"].reset_index(drop=True)], axis=1)\n",
        "\n",
        "\n",
        "X_train = train_df\n",
        "X_test = test_df\n"
      ],
      "metadata": {
        "colab": {
          "base_uri": "https://localhost:8080/"
        },
        "id": "dO2kutxoi2Br",
        "outputId": "99ff4485-041b-41be-8d83-6811dbd963ab"
      },
      "execution_count": 481,
      "outputs": [
        {
          "output_type": "stream",
          "name": "stderr",
          "text": [
            "/usr/local/lib/python3.8/dist-packages/sklearn/utils/deprecation.py:87: FutureWarning: Function get_feature_names is deprecated; get_feature_names is deprecated in 1.0 and will be removed in 1.2. Please use get_feature_names_out instead.\n",
            "  warnings.warn(msg, category=FutureWarning)\n"
          ]
        }
      ]
    },
    {
      "cell_type": "code",
      "source": [
        "randfor = Pipeline([\n",
        "                ('clf', RandomForestClassifier()),\n",
        "               ])\n",
        "randfor.fit(X_train, y_train)"
      ],
      "metadata": {
        "colab": {
          "base_uri": "https://localhost:8080/"
        },
        "id": "a_WbQxlkdNGq",
        "outputId": "aca3376d-61f8-4ce7-ad0c-f86b46bf5809"
      },
      "execution_count": 482,
      "outputs": [
        {
          "output_type": "execute_result",
          "data": {
            "text/plain": [
              "Pipeline(steps=[('clf', RandomForestClassifier())])"
            ]
          },
          "metadata": {},
          "execution_count": 482
        }
      ]
    },
    {
      "cell_type": "code",
      "source": [
        "%%time\n",
        "y_pred = randfor.predict(X_test)"
      ],
      "metadata": {
        "colab": {
          "base_uri": "https://localhost:8080/"
        },
        "id": "ynj5Pe1adc0w",
        "outputId": "4a8aefad-d095-4a5c-cf7e-ef662578f49a"
      },
      "execution_count": 485,
      "outputs": [
        {
          "output_type": "stream",
          "name": "stdout",
          "text": [
            "CPU times: user 248 ms, sys: 663 µs, total: 249 ms\n",
            "Wall time: 288 ms\n"
          ]
        }
      ]
    },
    {
      "cell_type": "code",
      "source": [
        "from sklearn.metrics import classification_report\n",
        "print('accuracy %s' % accuracy_score(y_pred, y_test))\n",
        "print(classification_report(y_test, y_pred,target_names=my_target))"
      ],
      "metadata": {
        "colab": {
          "base_uri": "https://localhost:8080/"
        },
        "id": "gtLJTl8zdgsx",
        "outputId": "abfb4fa1-69a1-4ced-fcf0-f6a478d2bed4"
      },
      "execution_count": 487,
      "outputs": [
        {
          "output_type": "stream",
          "name": "stdout",
          "text": [
            "accuracy 0.48609779482262705\n",
            "              precision    recall  f1-score   support\n",
            "\n",
            "           0       0.46      0.26      0.33      1542\n",
            "           1       0.50      0.70      0.58      1587\n",
            "\n",
            "    accuracy                           0.49      3129\n",
            "   macro avg       0.48      0.48      0.46      3129\n",
            "weighted avg       0.48      0.49      0.46      3129\n",
            "\n"
          ]
        }
      ]
    },
    {
      "cell_type": "code",
      "source": [
        "logreg = Pipeline([\n",
        "                ('clf', LogisticRegression()),\n",
        "               ])\n",
        "logreg.fit(X_train, y_train)\n"
      ],
      "metadata": {
        "colab": {
          "base_uri": "https://localhost:8080/"
        },
        "id": "xXsQygfXjFPy",
        "outputId": "d3d4f09e-9025-468d-e3dc-9ed95cb691b9"
      },
      "execution_count": 492,
      "outputs": [
        {
          "output_type": "execute_result",
          "data": {
            "text/plain": [
              "Pipeline(steps=[('clf', LogisticRegression())])"
            ]
          },
          "metadata": {},
          "execution_count": 492
        }
      ]
    },
    {
      "cell_type": "code",
      "source": [
        "%%time\n",
        "y_pred = logreg.predict(X_test)\n"
      ],
      "metadata": {
        "colab": {
          "base_uri": "https://localhost:8080/"
        },
        "id": "cUdqRB5vjR0q",
        "outputId": "e915e708-dfd7-4d75-aab6-b0722c7a970f"
      },
      "execution_count": 493,
      "outputs": [
        {
          "output_type": "stream",
          "name": "stdout",
          "text": [
            "CPU times: user 34.2 ms, sys: 17.3 ms, total: 51.5 ms\n",
            "Wall time: 52.4 ms\n"
          ]
        }
      ]
    },
    {
      "cell_type": "code",
      "source": [
        "from sklearn.metrics import classification_report\n",
        "print('accuracy %s' % accuracy_score(y_pred, y_test))\n",
        "print(classification_report(y_test, y_pred,target_names=my_target))"
      ],
      "metadata": {
        "colab": {
          "base_uri": "https://localhost:8080/"
        },
        "id": "xnoFFiZhjTn7",
        "outputId": "74741969-d15a-46dd-f8ee-b8a0bbf26586"
      },
      "execution_count": 494,
      "outputs": [
        {
          "output_type": "stream",
          "name": "stdout",
          "text": [
            "accuracy 0.5001597954618089\n",
            "              precision    recall  f1-score   support\n",
            "\n",
            "           0       0.50      0.83      0.62      1542\n",
            "           1       0.52      0.18      0.26      1587\n",
            "\n",
            "    accuracy                           0.50      3129\n",
            "   macro avg       0.51      0.50      0.44      3129\n",
            "weighted avg       0.51      0.50      0.44      3129\n",
            "\n"
          ]
        }
      ]
    },
    {
      "cell_type": "markdown",
      "source": [],
      "metadata": {
        "id": "2jTlKaOsfOR5"
      }
    },
    {
      "cell_type": "code",
      "source": [
        "from sklearn.model_selection import train_test_split\n",
        "X_train_2, X_test_2, y_train_2, y_test_2 = train_test_split(X_train, y_train, test_size=0.2, random_state=42)"
      ],
      "metadata": {
        "id": "XS82OPGMd0SA"
      },
      "execution_count": 501,
      "outputs": []
    },
    {
      "cell_type": "code",
      "source": [
        "logreg = Pipeline([\n",
        "                ('clf', LogisticRegression()),\n",
        "               ])\n",
        "logreg.fit(X_train_2, y_train_2)\n"
      ],
      "metadata": {
        "colab": {
          "base_uri": "https://localhost:8080/"
        },
        "id": "mag05NMjkjrB",
        "outputId": "c73f8c8a-7140-406b-aaec-adf8f67ac0b9"
      },
      "execution_count": 503,
      "outputs": [
        {
          "output_type": "execute_result",
          "data": {
            "text/plain": [
              "Pipeline(steps=[('clf', LogisticRegression())])"
            ]
          },
          "metadata": {},
          "execution_count": 503
        }
      ]
    },
    {
      "cell_type": "code",
      "source": [
        "%%time\n",
        "y_pred = logreg.predict(X_test_2)\n"
      ],
      "metadata": {
        "colab": {
          "base_uri": "https://localhost:8080/"
        },
        "id": "cVQDTA8-kw89",
        "outputId": "6abdd602-d755-443b-f274-b254bc302940"
      },
      "execution_count": 506,
      "outputs": [
        {
          "output_type": "stream",
          "name": "stdout",
          "text": [
            "CPU times: user 17.4 ms, sys: 3.13 ms, total: 20.5 ms\n",
            "Wall time: 18.8 ms\n"
          ]
        }
      ]
    },
    {
      "cell_type": "code",
      "source": [
        "from sklearn.metrics import classification_report\n",
        "print('accuracy %s' % accuracy_score(y_pred, y_test_2))\n",
        "print(classification_report(y_test_2, y_pred,target_names=my_target))"
      ],
      "metadata": {
        "colab": {
          "base_uri": "https://localhost:8080/"
        },
        "id": "FehT4pEEky1f",
        "outputId": "12a8de33-d75e-4ded-835a-06af33fb6188"
      },
      "execution_count": 507,
      "outputs": [
        {
          "output_type": "stream",
          "name": "stdout",
          "text": [
            "accuracy 0.6101083032490975\n",
            "              precision    recall  f1-score   support\n",
            "\n",
            "           0       0.60      0.64      0.62       416\n",
            "           1       0.62      0.58      0.60       415\n",
            "\n",
            "    accuracy                           0.61       831\n",
            "   macro avg       0.61      0.61      0.61       831\n",
            "weighted avg       0.61      0.61      0.61       831\n",
            "\n"
          ]
        }
      ]
    },
    {
      "cell_type": "markdown",
      "source": [
        "# CV and other tests"
      ],
      "metadata": {
        "id": "fXk6fFwMzQV8"
      }
    },
    {
      "cell_type": "code",
      "source": [
        "from sklearn.ensemble import RandomForestClassifier\n",
        "\n",
        "randfor = RandomForestClassifier()\n",
        "randfor.fit(X_train_count, y_train)"
      ],
      "metadata": {
        "colab": {
          "base_uri": "https://localhost:8080/"
        },
        "id": "x6ssZkgv2fz1",
        "outputId": "8e288b2a-4397-4f43-e2b4-7285cf929ecf"
      },
      "execution_count": 741,
      "outputs": [
        {
          "output_type": "execute_result",
          "data": {
            "text/plain": [
              "RandomForestClassifier()"
            ]
          },
          "metadata": {},
          "execution_count": 741
        }
      ]
    },
    {
      "cell_type": "code",
      "source": [
        "%%time\n",
        "y_pred = randfor.predict(X_test_count)"
      ],
      "metadata": {
        "colab": {
          "base_uri": "https://localhost:8080/"
        },
        "id": "bG4rXUsY2_82",
        "outputId": "a718e946-8fee-43ad-9441-3580cef97420"
      },
      "execution_count": 744,
      "outputs": [
        {
          "output_type": "stream",
          "name": "stdout",
          "text": [
            "CPU times: user 136 ms, sys: 3.32 ms, total: 140 ms\n",
            "Wall time: 163 ms\n"
          ]
        }
      ]
    },
    {
      "cell_type": "code",
      "source": [
        "from sklearn.metrics import classification_report\n",
        "print('accuracy %s' % accuracy_score(y_pred, y_test))\n",
        "print(classification_report(y_test, y_pred,target_names=my_target))"
      ],
      "metadata": {
        "colab": {
          "base_uri": "https://localhost:8080/"
        },
        "id": "yXAaOT_23Ckb",
        "outputId": "52ddace8-d4f3-4284-8737-41115b2832c2"
      },
      "execution_count": 745,
      "outputs": [
        {
          "output_type": "stream",
          "name": "stdout",
          "text": [
            "accuracy 0.6287758346581876\n",
            "              precision    recall  f1-score   support\n",
            "\n",
            "           0       0.58      0.45      0.50       532\n",
            "           1       0.65      0.76      0.70       726\n",
            "\n",
            "    accuracy                           0.63      1258\n",
            "   macro avg       0.62      0.60      0.60      1258\n",
            "weighted avg       0.62      0.63      0.62      1258\n",
            "\n"
          ]
        }
      ]
    },
    {
      "cell_type": "code",
      "source": [
        "feature_importances=pd.DataFrame({'features':X_train_count.columns,'feature_importance':randfor.feature_importances_})\n",
        "feature_importances.sort_values('feature_importance',ascending=False)\n"
      ],
      "metadata": {
        "colab": {
          "base_uri": "https://localhost:8080/",
          "height": 424
        },
        "id": "ooMsCx8C2xVf",
        "outputId": "0532acab-a80c-4293-e98b-e6803d84c8c5"
      },
      "execution_count": 746,
      "outputs": [
        {
          "output_type": "execute_result",
          "data": {
            "text/plain": [
              "               features  feature_importance\n",
              "229               court            0.007928\n",
              "861               state            0.006400\n",
              "74               appeal            0.006338\n",
              "807             reverse            0.005905\n",
              "230        court appeal            0.005780\n",
              "..                  ...                 ...\n",
              "349            exec law            0.000031\n",
              "669  physical locations            0.000026\n",
              "968   website plaintiff            0.000024\n",
              "780  relevant statutory            0.000023\n",
              "870         step remedy            0.000000\n",
              "\n",
              "[1006 rows x 2 columns]"
            ],
            "text/html": [
              "\n",
              "  <div id=\"df-3224b7ad-4e70-4943-bc78-b2b8a00769cd\">\n",
              "    <div class=\"colab-df-container\">\n",
              "      <div>\n",
              "<style scoped>\n",
              "    .dataframe tbody tr th:only-of-type {\n",
              "        vertical-align: middle;\n",
              "    }\n",
              "\n",
              "    .dataframe tbody tr th {\n",
              "        vertical-align: top;\n",
              "    }\n",
              "\n",
              "    .dataframe thead th {\n",
              "        text-align: right;\n",
              "    }\n",
              "</style>\n",
              "<table border=\"1\" class=\"dataframe\">\n",
              "  <thead>\n",
              "    <tr style=\"text-align: right;\">\n",
              "      <th></th>\n",
              "      <th>features</th>\n",
              "      <th>feature_importance</th>\n",
              "    </tr>\n",
              "  </thead>\n",
              "  <tbody>\n",
              "    <tr>\n",
              "      <th>229</th>\n",
              "      <td>court</td>\n",
              "      <td>0.007928</td>\n",
              "    </tr>\n",
              "    <tr>\n",
              "      <th>861</th>\n",
              "      <td>state</td>\n",
              "      <td>0.006400</td>\n",
              "    </tr>\n",
              "    <tr>\n",
              "      <th>74</th>\n",
              "      <td>appeal</td>\n",
              "      <td>0.006338</td>\n",
              "    </tr>\n",
              "    <tr>\n",
              "      <th>807</th>\n",
              "      <td>reverse</td>\n",
              "      <td>0.005905</td>\n",
              "    </tr>\n",
              "    <tr>\n",
              "      <th>230</th>\n",
              "      <td>court appeal</td>\n",
              "      <td>0.005780</td>\n",
              "    </tr>\n",
              "    <tr>\n",
              "      <th>...</th>\n",
              "      <td>...</td>\n",
              "      <td>...</td>\n",
              "    </tr>\n",
              "    <tr>\n",
              "      <th>349</th>\n",
              "      <td>exec law</td>\n",
              "      <td>0.000031</td>\n",
              "    </tr>\n",
              "    <tr>\n",
              "      <th>669</th>\n",
              "      <td>physical locations</td>\n",
              "      <td>0.000026</td>\n",
              "    </tr>\n",
              "    <tr>\n",
              "      <th>968</th>\n",
              "      <td>website plaintiff</td>\n",
              "      <td>0.000024</td>\n",
              "    </tr>\n",
              "    <tr>\n",
              "      <th>780</th>\n",
              "      <td>relevant statutory</td>\n",
              "      <td>0.000023</td>\n",
              "    </tr>\n",
              "    <tr>\n",
              "      <th>870</th>\n",
              "      <td>step remedy</td>\n",
              "      <td>0.000000</td>\n",
              "    </tr>\n",
              "  </tbody>\n",
              "</table>\n",
              "<p>1006 rows × 2 columns</p>\n",
              "</div>\n",
              "      <button class=\"colab-df-convert\" onclick=\"convertToInteractive('df-3224b7ad-4e70-4943-bc78-b2b8a00769cd')\"\n",
              "              title=\"Convert this dataframe to an interactive table.\"\n",
              "              style=\"display:none;\">\n",
              "        \n",
              "  <svg xmlns=\"http://www.w3.org/2000/svg\" height=\"24px\"viewBox=\"0 0 24 24\"\n",
              "       width=\"24px\">\n",
              "    <path d=\"M0 0h24v24H0V0z\" fill=\"none\"/>\n",
              "    <path d=\"M18.56 5.44l.94 2.06.94-2.06 2.06-.94-2.06-.94-.94-2.06-.94 2.06-2.06.94zm-11 1L8.5 8.5l.94-2.06 2.06-.94-2.06-.94L8.5 2.5l-.94 2.06-2.06.94zm10 10l.94 2.06.94-2.06 2.06-.94-2.06-.94-.94-2.06-.94 2.06-2.06.94z\"/><path d=\"M17.41 7.96l-1.37-1.37c-.4-.4-.92-.59-1.43-.59-.52 0-1.04.2-1.43.59L10.3 9.45l-7.72 7.72c-.78.78-.78 2.05 0 2.83L4 21.41c.39.39.9.59 1.41.59.51 0 1.02-.2 1.41-.59l7.78-7.78 2.81-2.81c.8-.78.8-2.07 0-2.86zM5.41 20L4 18.59l7.72-7.72 1.47 1.35L5.41 20z\"/>\n",
              "  </svg>\n",
              "      </button>\n",
              "      \n",
              "  <style>\n",
              "    .colab-df-container {\n",
              "      display:flex;\n",
              "      flex-wrap:wrap;\n",
              "      gap: 12px;\n",
              "    }\n",
              "\n",
              "    .colab-df-convert {\n",
              "      background-color: #E8F0FE;\n",
              "      border: none;\n",
              "      border-radius: 50%;\n",
              "      cursor: pointer;\n",
              "      display: none;\n",
              "      fill: #1967D2;\n",
              "      height: 32px;\n",
              "      padding: 0 0 0 0;\n",
              "      width: 32px;\n",
              "    }\n",
              "\n",
              "    .colab-df-convert:hover {\n",
              "      background-color: #E2EBFA;\n",
              "      box-shadow: 0px 1px 2px rgba(60, 64, 67, 0.3), 0px 1px 3px 1px rgba(60, 64, 67, 0.15);\n",
              "      fill: #174EA6;\n",
              "    }\n",
              "\n",
              "    [theme=dark] .colab-df-convert {\n",
              "      background-color: #3B4455;\n",
              "      fill: #D2E3FC;\n",
              "    }\n",
              "\n",
              "    [theme=dark] .colab-df-convert:hover {\n",
              "      background-color: #434B5C;\n",
              "      box-shadow: 0px 1px 3px 1px rgba(0, 0, 0, 0.15);\n",
              "      filter: drop-shadow(0px 1px 2px rgba(0, 0, 0, 0.3));\n",
              "      fill: #FFFFFF;\n",
              "    }\n",
              "  </style>\n",
              "\n",
              "      <script>\n",
              "        const buttonEl =\n",
              "          document.querySelector('#df-3224b7ad-4e70-4943-bc78-b2b8a00769cd button.colab-df-convert');\n",
              "        buttonEl.style.display =\n",
              "          google.colab.kernel.accessAllowed ? 'block' : 'none';\n",
              "\n",
              "        async function convertToInteractive(key) {\n",
              "          const element = document.querySelector('#df-3224b7ad-4e70-4943-bc78-b2b8a00769cd');\n",
              "          const dataTable =\n",
              "            await google.colab.kernel.invokeFunction('convertToInteractive',\n",
              "                                                     [key], {});\n",
              "          if (!dataTable) return;\n",
              "\n",
              "          const docLinkHtml = 'Like what you see? Visit the ' +\n",
              "            '<a target=\"_blank\" href=https://colab.research.google.com/notebooks/data_table.ipynb>data table notebook</a>'\n",
              "            + ' to learn more about interactive tables.';\n",
              "          element.innerHTML = '';\n",
              "          dataTable['output_type'] = 'display_data';\n",
              "          await google.colab.output.renderOutput(dataTable, element);\n",
              "          const docLink = document.createElement('div');\n",
              "          docLink.innerHTML = docLinkHtml;\n",
              "          element.appendChild(docLink);\n",
              "        }\n",
              "      </script>\n",
              "    </div>\n",
              "  </div>\n",
              "  "
            ]
          },
          "metadata": {},
          "execution_count": 746
        }
      ]
    },
    {
      "cell_type": "code",
      "source": [
        "study = feature_importances[(feature_importances.feature_importance > 0.0001)] \n",
        "study = study['features'].values"
      ],
      "metadata": {
        "id": "h-zTzKkc3uDp"
      },
      "execution_count": 777,
      "outputs": []
    },
    {
      "cell_type": "code",
      "source": [
        "X_train_count_study = X_train_count[study]"
      ],
      "metadata": {
        "id": "5Wms2c7o3QQG"
      },
      "execution_count": 779,
      "outputs": []
    },
    {
      "cell_type": "code",
      "source": [
        "from sklearn.ensemble import RandomForestClassifier\n",
        "\n",
        "randfor = RandomForestClassifier()\n",
        "randfor.fit(X_train_count_study, y_train)"
      ],
      "metadata": {
        "colab": {
          "base_uri": "https://localhost:8080/"
        },
        "id": "Kz9RQUHv5c62",
        "outputId": "089a9825-99fb-4713-fe29-fa36a60987a5"
      },
      "execution_count": 831,
      "outputs": [
        {
          "output_type": "execute_result",
          "data": {
            "text/plain": [
              "RandomForestClassifier()"
            ]
          },
          "metadata": {},
          "execution_count": 831
        }
      ]
    },
    {
      "cell_type": "code",
      "source": [
        "%%time\n",
        "y_pred = randfor.predict(X_test_count[study])"
      ],
      "metadata": {
        "colab": {
          "base_uri": "https://localhost:8080/"
        },
        "id": "YdO5IHjp5muV",
        "outputId": "e4f527c5-bc27-46cd-e42a-bebe51310758"
      },
      "execution_count": 832,
      "outputs": [
        {
          "output_type": "stream",
          "name": "stdout",
          "text": [
            "CPU times: user 100 ms, sys: 0 ns, total: 100 ms\n",
            "Wall time: 100 ms\n"
          ]
        }
      ]
    },
    {
      "cell_type": "code",
      "source": [
        "from sklearn.metrics import classification_report\n",
        "print('accuracy %s' % accuracy_score(y_pred, y_test))\n",
        "print(classification_report(y_test, y_pred,target_names=my_target))"
      ],
      "metadata": {
        "colab": {
          "base_uri": "https://localhost:8080/"
        },
        "id": "NX96fQjG5wvP",
        "outputId": "6e13db3a-e73e-41ef-f6ea-6e9ca7b7af28"
      },
      "execution_count": 833,
      "outputs": [
        {
          "output_type": "stream",
          "name": "stdout",
          "text": [
            "accuracy 0.6184419713831478\n",
            "              precision    recall  f1-score   support\n",
            "\n",
            "           0       0.56      0.44      0.49       532\n",
            "           1       0.65      0.75      0.69       726\n",
            "\n",
            "    accuracy                           0.62      1258\n",
            "   macro avg       0.60      0.59      0.59      1258\n",
            "weighted avg       0.61      0.62      0.61      1258\n",
            "\n"
          ]
        }
      ]
    },
    {
      "cell_type": "code",
      "source": [
        "X_t = pd.concat([X_train_count, X_test_count])\n",
        "y_t = pd.concat([y_train, y_test])"
      ],
      "metadata": {
        "id": "82aTxCXg8TYS"
      },
      "execution_count": 835,
      "outputs": []
    },
    {
      "cell_type": "code",
      "source": [
        "from sklearn.model_selection import RepeatedKFold\n",
        "from sklearn.model_selection import cross_val_score"
      ],
      "metadata": {
        "id": "FuekISUR8Gu1"
      },
      "execution_count": 837,
      "outputs": []
    },
    {
      "cell_type": "code",
      "source": [
        "cv = RepeatedKFold(n_splits=10, n_repeats=3, random_state=42)\n",
        "scores = cross_val_score(randfor, X_t, y_t, scoring='accuracy', cv=cv, n_jobs=-1)"
      ],
      "metadata": {
        "id": "g3xuADRt6acK"
      },
      "execution_count": 841,
      "outputs": []
    },
    {
      "cell_type": "code",
      "source": [
        "from numpy import mean\n",
        "from numpy import std\n",
        "print('Accuracy: %.3f (%.3f)' % (mean(scores), std(scores)))"
      ],
      "metadata": {
        "colab": {
          "base_uri": "https://localhost:8080/"
        },
        "id": "ToC6OpXE76aC",
        "outputId": "c5f4a6e4-d601-4442-ee10-572fc244c61d"
      },
      "execution_count": 842,
      "outputs": [
        {
          "output_type": "stream",
          "name": "stdout",
          "text": [
            "Accuracy: 0.721 (0.013)\n"
          ]
        }
      ]
    }
  ],
  "metadata": {
    "colab": {
      "collapsed_sections": [
        "AjURLvVnB5_v",
        "LNbeldMyB5_1",
        "_3171OypB5_5",
        "GqWh0DVlYFPF"
      ],
      "provenance": [],
      "include_colab_link": true
    },
    "kernelspec": {
      "display_name": "base",
      "language": "python",
      "name": "python3"
    },
    "language_info": {
      "codemirror_mode": {
        "name": "ipython",
        "version": 3
      },
      "file_extension": ".py",
      "mimetype": "text/x-python",
      "name": "python",
      "nbconvert_exporter": "python",
      "pygments_lexer": "ipython3",
      "version": "3.8.12"
    },
    "vscode": {
      "interpreter": {
        "hash": "40d3a090f54c6569ab1632332b64b2c03c39dcf918b08424e98f38b5ae0af88f"
      }
    }
  },
  "nbformat": 4,
  "nbformat_minor": 0
}