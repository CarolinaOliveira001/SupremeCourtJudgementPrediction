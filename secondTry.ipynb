{
  "cells": [
    {
      "cell_type": "markdown",
      "metadata": {
        "id": "view-in-github",
        "colab_type": "text"
      },
      "source": [
        "<a href=\"https://colab.research.google.com/github/CarolinaOliveira001/SupremeCourtJudgementPrediction/blob/main/secondTry.ipynb\" target=\"_parent\"><img src=\"https://colab.research.google.com/assets/colab-badge.svg\" alt=\"Open In Colab\"/></a>"
      ]
    },
    {
      "cell_type": "code",
      "execution_count": 1,
      "metadata": {
        "id": "UhFxVu0fB5_m"
      },
      "outputs": [],
      "source": [
        "import logging\n",
        "import pandas as pd\n",
        "import numpy as np\n",
        "from numpy import random\n",
        "import gensim\n",
        "import nltk\n",
        "from sklearn.model_selection import train_test_split\n",
        "from sklearn.feature_extraction.text import CountVectorizer, TfidfVectorizer\n",
        "from sklearn.metrics import accuracy_score, confusion_matrix\n",
        "import matplotlib.pyplot as plt\n",
        "from nltk.corpus import stopwords\n",
        "import re\n",
        "import string\n",
        "from nltk.stem import WordNetLemmatizer, PorterStemmer"
      ]
    },
    {
      "cell_type": "code",
      "execution_count": 13,
      "metadata": {
        "colab": {
          "base_uri": "https://localhost:8080/",
          "height": 206
        },
        "id": "wEmkUO0uB5_p",
        "outputId": "b3307a97-6628-4917-8838-3735b2cfdd0a"
      },
      "outputs": [
        {
          "output_type": "execute_result",
          "data": {
            "text/plain": [
              "                                               facts       issue_area  \\\n",
              "0  <p>In 1970, Jane Roe (a fictional name used in...              NaN   \n",
              "1  <p>Joan Stanley had three children with Peter ...     Civil Rights   \n",
              "2  <p>John Giglio was convicted of passing forged...      Due Process   \n",
              "3  <p>The Idaho Probate Code specified that \"male...     Civil Rights   \n",
              "4  <p>Miller, after conducting a mass mailing cam...  First Amendment   \n",
              "\n",
              "  first_party_winner  \n",
              "0               True  \n",
              "1               True  \n",
              "2               True  \n",
              "3               True  \n",
              "4               True  "
            ],
            "text/html": [
              "\n",
              "  <div id=\"df-1d4fa332-cede-442e-a5df-a5c20e5d3ffc\">\n",
              "    <div class=\"colab-df-container\">\n",
              "      <div>\n",
              "<style scoped>\n",
              "    .dataframe tbody tr th:only-of-type {\n",
              "        vertical-align: middle;\n",
              "    }\n",
              "\n",
              "    .dataframe tbody tr th {\n",
              "        vertical-align: top;\n",
              "    }\n",
              "\n",
              "    .dataframe thead th {\n",
              "        text-align: right;\n",
              "    }\n",
              "</style>\n",
              "<table border=\"1\" class=\"dataframe\">\n",
              "  <thead>\n",
              "    <tr style=\"text-align: right;\">\n",
              "      <th></th>\n",
              "      <th>facts</th>\n",
              "      <th>issue_area</th>\n",
              "      <th>first_party_winner</th>\n",
              "    </tr>\n",
              "  </thead>\n",
              "  <tbody>\n",
              "    <tr>\n",
              "      <th>0</th>\n",
              "      <td>&lt;p&gt;In 1970, Jane Roe (a fictional name used in...</td>\n",
              "      <td>NaN</td>\n",
              "      <td>True</td>\n",
              "    </tr>\n",
              "    <tr>\n",
              "      <th>1</th>\n",
              "      <td>&lt;p&gt;Joan Stanley had three children with Peter ...</td>\n",
              "      <td>Civil Rights</td>\n",
              "      <td>True</td>\n",
              "    </tr>\n",
              "    <tr>\n",
              "      <th>2</th>\n",
              "      <td>&lt;p&gt;John Giglio was convicted of passing forged...</td>\n",
              "      <td>Due Process</td>\n",
              "      <td>True</td>\n",
              "    </tr>\n",
              "    <tr>\n",
              "      <th>3</th>\n",
              "      <td>&lt;p&gt;The Idaho Probate Code specified that \"male...</td>\n",
              "      <td>Civil Rights</td>\n",
              "      <td>True</td>\n",
              "    </tr>\n",
              "    <tr>\n",
              "      <th>4</th>\n",
              "      <td>&lt;p&gt;Miller, after conducting a mass mailing cam...</td>\n",
              "      <td>First Amendment</td>\n",
              "      <td>True</td>\n",
              "    </tr>\n",
              "  </tbody>\n",
              "</table>\n",
              "</div>\n",
              "      <button class=\"colab-df-convert\" onclick=\"convertToInteractive('df-1d4fa332-cede-442e-a5df-a5c20e5d3ffc')\"\n",
              "              title=\"Convert this dataframe to an interactive table.\"\n",
              "              style=\"display:none;\">\n",
              "        \n",
              "  <svg xmlns=\"http://www.w3.org/2000/svg\" height=\"24px\"viewBox=\"0 0 24 24\"\n",
              "       width=\"24px\">\n",
              "    <path d=\"M0 0h24v24H0V0z\" fill=\"none\"/>\n",
              "    <path d=\"M18.56 5.44l.94 2.06.94-2.06 2.06-.94-2.06-.94-.94-2.06-.94 2.06-2.06.94zm-11 1L8.5 8.5l.94-2.06 2.06-.94-2.06-.94L8.5 2.5l-.94 2.06-2.06.94zm10 10l.94 2.06.94-2.06 2.06-.94-2.06-.94-.94-2.06-.94 2.06-2.06.94z\"/><path d=\"M17.41 7.96l-1.37-1.37c-.4-.4-.92-.59-1.43-.59-.52 0-1.04.2-1.43.59L10.3 9.45l-7.72 7.72c-.78.78-.78 2.05 0 2.83L4 21.41c.39.39.9.59 1.41.59.51 0 1.02-.2 1.41-.59l7.78-7.78 2.81-2.81c.8-.78.8-2.07 0-2.86zM5.41 20L4 18.59l7.72-7.72 1.47 1.35L5.41 20z\"/>\n",
              "  </svg>\n",
              "      </button>\n",
              "      \n",
              "  <style>\n",
              "    .colab-df-container {\n",
              "      display:flex;\n",
              "      flex-wrap:wrap;\n",
              "      gap: 12px;\n",
              "    }\n",
              "\n",
              "    .colab-df-convert {\n",
              "      background-color: #E8F0FE;\n",
              "      border: none;\n",
              "      border-radius: 50%;\n",
              "      cursor: pointer;\n",
              "      display: none;\n",
              "      fill: #1967D2;\n",
              "      height: 32px;\n",
              "      padding: 0 0 0 0;\n",
              "      width: 32px;\n",
              "    }\n",
              "\n",
              "    .colab-df-convert:hover {\n",
              "      background-color: #E2EBFA;\n",
              "      box-shadow: 0px 1px 2px rgba(60, 64, 67, 0.3), 0px 1px 3px 1px rgba(60, 64, 67, 0.15);\n",
              "      fill: #174EA6;\n",
              "    }\n",
              "\n",
              "    [theme=dark] .colab-df-convert {\n",
              "      background-color: #3B4455;\n",
              "      fill: #D2E3FC;\n",
              "    }\n",
              "\n",
              "    [theme=dark] .colab-df-convert:hover {\n",
              "      background-color: #434B5C;\n",
              "      box-shadow: 0px 1px 3px 1px rgba(0, 0, 0, 0.15);\n",
              "      filter: drop-shadow(0px 1px 2px rgba(0, 0, 0, 0.3));\n",
              "      fill: #FFFFFF;\n",
              "    }\n",
              "  </style>\n",
              "\n",
              "      <script>\n",
              "        const buttonEl =\n",
              "          document.querySelector('#df-1d4fa332-cede-442e-a5df-a5c20e5d3ffc button.colab-df-convert');\n",
              "        buttonEl.style.display =\n",
              "          google.colab.kernel.accessAllowed ? 'block' : 'none';\n",
              "\n",
              "        async function convertToInteractive(key) {\n",
              "          const element = document.querySelector('#df-1d4fa332-cede-442e-a5df-a5c20e5d3ffc');\n",
              "          const dataTable =\n",
              "            await google.colab.kernel.invokeFunction('convertToInteractive',\n",
              "                                                     [key], {});\n",
              "          if (!dataTable) return;\n",
              "\n",
              "          const docLinkHtml = 'Like what you see? Visit the ' +\n",
              "            '<a target=\"_blank\" href=https://colab.research.google.com/notebooks/data_table.ipynb>data table notebook</a>'\n",
              "            + ' to learn more about interactive tables.';\n",
              "          element.innerHTML = '';\n",
              "          dataTable['output_type'] = 'display_data';\n",
              "          await google.colab.output.renderOutput(dataTable, element);\n",
              "          const docLink = document.createElement('div');\n",
              "          docLink.innerHTML = docLinkHtml;\n",
              "          element.appendChild(docLink);\n",
              "        }\n",
              "      </script>\n",
              "    </div>\n",
              "  </div>\n",
              "  "
            ]
          },
          "metadata": {},
          "execution_count": 13
        }
      ],
      "source": [
        "df = pd.read_csv(\"justice.csv\")\n",
        "df = df[[\"facts\", \"issue_area\", \"first_party_winner\"]]\n",
        "df.head(5)"
      ]
    },
    {
      "cell_type": "code",
      "source": [
        "freqTarget = df.groupby([\"issue_area\"], as_index=False, sort=True)[\"facts\"].count()\n",
        "vectorIA = [\"Civil Rights\", \"Due Process\", \"First Amendment\", \"Criminal Procedure\", \"Privacy\", \"Federal Taxation\", \n",
        "            \"Economic Activity\", \"Judicial Power\", \"Unions\", \"Federalism\", \"Attorneys\", \"Miscellaneous\", \n",
        "            \"Interstate Relations\", \"Private Action\"]\n",
        "\n",
        "plt.rcParams[\"figure.figsize\"] = [8, 3.50]\n",
        "plt.rcParams[\"figure.autolayout\"] = True\n",
        "plt.bar(freqTarget[\"issue_area\"], freqTarget[\"facts\"])\n",
        "plt.xticks(freqTarget[\"issue_area\"])\n",
        "plt.title(\"Categories of the issue area\")\n",
        "plt.xticks(rotation=90)\n",
        "plt.ylabel('Amount')\n",
        "plt.savefig(\"IssueAreaOfFirstPlot.png\", dpi=1200)\n",
        "plt.show()"
      ],
      "metadata": {
        "colab": {
          "base_uri": "https://localhost:8080/",
          "height": 261
        },
        "id": "po9DC4yAEtZo",
        "outputId": "82f5bb68-3963-4645-ecf3-70dcc37fa477"
      },
      "execution_count": 14,
      "outputs": [
        {
          "output_type": "display_data",
          "data": {
            "text/plain": [
              "<Figure size 576x252 with 1 Axes>"
            ],
            "image/png": "[encoded data removed]"
          },
          "metadata": {
            "needs_background": "light"
          }
        }
      ]
    },
    {
      "cell_type": "code",
      "source": [
        "len(df)"
      ],
      "metadata": {
        "colab": {
          "base_uri": "https://localhost:8080/"
        },
        "id": "zrztcave8Nc2",
        "outputId": "9e95540d-fd71-403d-eaec-2dc5181426e1"
      },
      "execution_count": 3,
      "outputs": [
        {
          "output_type": "execute_result",
          "data": {
            "text/plain": [
              "3303"
            ]
          },
          "metadata": {},
          "execution_count": 3
        }
      ]
    },
    {
      "cell_type": "code",
      "execution_count": 15,
      "metadata": {
        "id": "ph5AewFqB5_q"
      },
      "outputs": [],
      "source": [
        "df['issue_area'] = df['issue_area'].replace({\"Due Process\": \"Others\", \"Privacy\": \"Others\", \"Federal Taxation\": \"Others\", \n",
        "                                                     \"Unions\": \"Others\", \"Federalism\": \"Others\", \"Attorneys\": \"Others\",\n",
        "                                                     \"Miscellaneous\": \"Others\", \"Interstate Relations\": \"Others\", \"Private Action\": \"Others\"})"
      ]
    },
    {
      "cell_type": "code",
      "execution_count": 16,
      "metadata": {
        "colab": {
          "base_uri": "https://localhost:8080/"
        },
        "id": "3Fagi6QhB5_q",
        "outputId": "53714dcf-d565-4edf-cc40-098d8355e246"
      },
      "outputs": [
        {
          "output_type": "execute_result",
          "data": {
            "text/plain": [
              "facts                   0\n",
              "issue_area            142\n",
              "first_party_winner     15\n",
              "dtype: int64"
            ]
          },
          "metadata": {},
          "execution_count": 16
        }
      ],
      "source": [
        "df.isna().sum()"
      ]
    },
    {
      "cell_type": "code",
      "source": [
        "freqTarget = df.groupby([\"issue_area\"], as_index=False, sort=True)[\"facts\"].count()\n",
        "\n",
        "plt.rcParams[\"figure.figsize\"] = [8, 3.50]\n",
        "plt.rcParams[\"figure.autolayout\"] = True\n",
        "plt.bar(freqTarget[\"issue_area\"], freqTarget[\"facts\"])\n",
        "plt.xticks(freqTarget[\"issue_area\"])\n",
        "plt.title(\"Categories of the issue area\")\n",
        "plt.xticks(rotation=90)\n",
        "plt.ylabel('Amount')\n",
        "plt.savefig(\"IssueAreaAfterCombiningCategoriesOfFirstPlot.png\", dpi=1200)\n",
        "plt.show()"
      ],
      "metadata": {
        "colab": {
          "base_uri": "https://localhost:8080/",
          "height": 261
        },
        "id": "bW23DA8uP5vR",
        "outputId": "508e52c9-2293-4637-8abe-b5a2fe7d420c"
      },
      "execution_count": 17,
      "outputs": [
        {
          "output_type": "display_data",
          "data": {
            "text/plain": [
              "<Figure size 576x252 with 1 Axes>"
            ],
            "image/png": "[encoded data removed]"
          },
          "metadata": {
            "needs_background": "light"
          }
        }
      ]
    },
    {
      "cell_type": "code",
      "execution_count": 18,
      "metadata": {
        "id": "-TYIkWLpB5_r"
      },
      "outputs": [],
      "source": [
        "df.dropna(subset=['first_party_winner'], inplace=True)"
      ]
    },
    {
      "cell_type": "code",
      "execution_count": 19,
      "metadata": {
        "colab": {
          "base_uri": "https://localhost:8080/"
        },
        "id": "pjJw3cF2B5_r",
        "outputId": "c1cfb0ab-798d-420e-de85-487f03ca9134"
      },
      "outputs": [
        {
          "output_type": "execute_result",
          "data": {
            "text/plain": [
              "facts                   0\n",
              "issue_area            129\n",
              "first_party_winner      0\n",
              "dtype: int64"
            ]
          },
          "metadata": {},
          "execution_count": 19
        }
      ],
      "source": [
        "df.isna().sum()"
      ]
    },
    {
      "cell_type": "code",
      "execution_count": 20,
      "metadata": {
        "id": "Drj1-VfOj2Ut"
      },
      "outputs": [],
      "source": [
        "from sklearn import preprocessing\n",
        "le = preprocessing.LabelEncoder()"
      ]
    },
    {
      "cell_type": "code",
      "execution_count": 21,
      "metadata": {
        "colab": {
          "base_uri": "https://localhost:8080/"
        },
        "id": "TfqPJk2ij3xX",
        "outputId": "2aaacf99-3054-4ec8-d283-e34287b0c94f"
      },
      "outputs": [
        {
          "output_type": "execute_result",
          "data": {
            "text/plain": [
              "LabelEncoder()"
            ]
          },
          "metadata": {},
          "execution_count": 21
        }
      ],
      "source": [
        "le.fit(df[\"first_party_winner\"])"
      ]
    },
    {
      "cell_type": "code",
      "execution_count": 22,
      "metadata": {
        "id": "0t8M0nYRj_va"
      },
      "outputs": [],
      "source": [
        "df[\"first_party_winner\"] = le.transform(df[\"first_party_winner\"])"
      ]
    },
    {
      "cell_type": "code",
      "execution_count": 23,
      "metadata": {
        "id": "u-7ZcQTAB5_r"
      },
      "outputs": [],
      "source": [
        "df_withNA = df[df['issue_area'].isna()]\n",
        "df_withNA = df_withNA.reset_index(drop=True)"
      ]
    },
    {
      "cell_type": "code",
      "execution_count": 24,
      "metadata": {
        "id": "Mpu9H_1iB5_s"
      },
      "outputs": [],
      "source": [
        "df_withoutNA = df.dropna(subset=['issue_area'])\n",
        "df_withoutNA = df_withoutNA.reset_index(drop=True)"
      ]
    },
    {
      "cell_type": "code",
      "execution_count": 25,
      "metadata": {
        "colab": {
          "base_uri": "https://localhost:8080/"
        },
        "id": "tzd6NxjGB5_s",
        "outputId": "3775dd9a-35a4-4a18-9af9-fdccc26a9784"
      },
      "outputs": [
        {
          "output_type": "stream",
          "name": "stdout",
          "text": [
            "There are 549349 words in the dataframe.\n"
          ]
        }
      ],
      "source": [
        "print(\"There are\", df_withoutNA['facts'].apply(lambda x: len(x.split(' '))).sum(), \"words in the dataframe.\")"
      ]
    },
    {
      "cell_type": "code",
      "execution_count": 26,
      "metadata": {
        "colab": {
          "base_uri": "https://localhost:8080/"
        },
        "id": "slkjr7DCEj81",
        "outputId": "b4fc20ec-a72e-4291-c3aa-8f7fbcf488a8"
      },
      "outputs": [
        {
          "output_type": "stream",
          "name": "stderr",
          "text": [
            "[nltk_data] Downloading package stopwords to /root/nltk_data...\n",
            "[nltk_data]   Unzipping corpora/stopwords.zip.\n"
          ]
        },
        {
          "output_type": "execute_result",
          "data": {
            "text/plain": [
              "True"
            ]
          },
          "metadata": {},
          "execution_count": 26
        }
      ],
      "source": [
        "nltk.download('stopwords')"
      ]
    },
    {
      "cell_type": "code",
      "execution_count": 27,
      "metadata": {
        "id": "hNykPVtXB5_t"
      },
      "outputs": [],
      "source": [
        "stop_words = stopwords.words(\"english\")\n",
        "wordnet_lemmatizer = WordNetLemmatizer()"
      ]
    },
    {
      "cell_type": "code",
      "execution_count": 28,
      "metadata": {
        "id": "YcZZ9vhoB5_t"
      },
      "outputs": [],
      "source": [
        "pattern = r'[' + string.punctuation + ']'\n",
        "\n",
        "def clean_text(text, stemming = False, lemmatization = False):\n",
        "    \"\"\"\n",
        "        text: a string\n",
        "        \n",
        "        return: modified initial string\n",
        "    \"\"\"\n",
        "    text = re.sub(pattern, \" \", str(text))\n",
        "    text = text.lower()\n",
        "    text = re.sub(r\"\\d+\", \"\", text)\n",
        "    text = re.sub(r\"\\b[a-zA-Z]\\b\", \"\", text)\n",
        "    text = re.sub(r\"\\W\", \" \", text)\n",
        "    text = re.sub(' +', ' ', text)\n",
        "    text = ' '.join(word for word in text.split() if word not in stop_words) # delete stopwors from text\n",
        "    if stemming:\n",
        "        st = PorterStemmer()\n",
        "        text = \" \".join([st.stem(w) for w in text.split()])\n",
        "    \n",
        "    if lemmatization:\n",
        "        wordnet_lemmatizer = WordNetLemmatizer()\n",
        "        text = ' '.join([wordnet_lemmatizer.lemmatize(w, pos='v') for w in text.split()])\n",
        "    return text\n",
        "    "
      ]
    },
    {
      "cell_type": "code",
      "source": [
        "words_set = set()\n",
        " \n",
        "for doc in df[\"facts\"]:\n",
        "  worddoc = doc.split()\n",
        "  for word in worddoc:\n",
        "    if word not in words_set:\n",
        "      words_set.add(word)\n",
        "     \n",
        "print('Number of words in the corpus:',len(words_set))"
      ],
      "metadata": {
        "colab": {
          "base_uri": "https://localhost:8080/"
        },
        "id": "-gMca_LqRcOK",
        "outputId": "4e81de79-b82c-4fa7-845f-3ceab9f88977"
      },
      "execution_count": 39,
      "outputs": [
        {
          "output_type": "stream",
          "name": "stdout",
          "text": [
            "Number of words in the corpus: 15615\n"
          ]
        }
      ]
    },
    {
      "cell_type": "code",
      "execution_count": 29,
      "metadata": {
        "colab": {
          "base_uri": "https://localhost:8080/"
        },
        "id": "uMmdLjrOEoo_",
        "outputId": "3d997471-6b4b-4238-941c-77826ea32565"
      },
      "outputs": [
        {
          "output_type": "stream",
          "name": "stderr",
          "text": [
            "[nltk_data] Downloading package wordnet to /root/nltk_data...\n",
            "[nltk_data] Downloading package omw-1.4 to /root/nltk_data...\n"
          ]
        },
        {
          "output_type": "execute_result",
          "data": {
            "text/plain": [
              "True"
            ]
          },
          "metadata": {},
          "execution_count": 29
        }
      ],
      "source": [
        "nltk.download('wordnet')\n",
        "nltk.download('omw-1.4')"
      ]
    },
    {
      "cell_type": "code",
      "execution_count": 30,
      "metadata": {
        "id": "l08KMvA8B5_u"
      },
      "outputs": [],
      "source": [
        "df_withoutNA['facts'] = df_withoutNA['facts'].map(lambda x: clean_text(x, stemming=False, lemmatization = True))"
      ]
    },
    {
      "cell_type": "code",
      "execution_count": 31,
      "metadata": {
        "colab": {
          "base_uri": "https://localhost:8080/",
          "height": 143
        },
        "id": "s0nmE_uwB5_u",
        "outputId": "a223928f-b56e-4a05-ba03-9c84f3be972a"
      },
      "outputs": [
        {
          "output_type": "execute_result",
          "data": {
            "text/plain": [
              "                                               facts    issue_area  \\\n",
              "0  joan stanley three children peter stanley stan...  Civil Rights   \n",
              "1  john giglio convict pass forge money order app...        Others   \n",
              "2  idaho probate code specify males must prefer f...  Civil Rights   \n",
              "\n",
              "   first_party_winner  \n",
              "0                   1  \n",
              "1                   1  \n",
              "2                   1  "
            ],
            "text/html": [
              "\n",
              "  <div id=\"df-beb3e6aa-c821-4458-b53f-18e9bb5c635e\">\n",
              "    <div class=\"colab-df-container\">\n",
              "      <div>\n",
              "<style scoped>\n",
              "    .dataframe tbody tr th:only-of-type {\n",
              "        vertical-align: middle;\n",
              "    }\n",
              "\n",
              "    .dataframe tbody tr th {\n",
              "        vertical-align: top;\n",
              "    }\n",
              "\n",
              "    .dataframe thead th {\n",
              "        text-align: right;\n",
              "    }\n",
              "</style>\n",
              "<table border=\"1\" class=\"dataframe\">\n",
              "  <thead>\n",
              "    <tr style=\"text-align: right;\">\n",
              "      <th></th>\n",
              "      <th>facts</th>\n",
              "      <th>issue_area</th>\n",
              "      <th>first_party_winner</th>\n",
              "    </tr>\n",
              "  </thead>\n",
              "  <tbody>\n",
              "    <tr>\n",
              "      <th>0</th>\n",
              "      <td>joan stanley three children peter stanley stan...</td>\n",
              "      <td>Civil Rights</td>\n",
              "      <td>1</td>\n",
              "    </tr>\n",
              "    <tr>\n",
              "      <th>1</th>\n",
              "      <td>john giglio convict pass forge money order app...</td>\n",
              "      <td>Others</td>\n",
              "      <td>1</td>\n",
              "    </tr>\n",
              "    <tr>\n",
              "      <th>2</th>\n",
              "      <td>idaho probate code specify males must prefer f...</td>\n",
              "      <td>Civil Rights</td>\n",
              "      <td>1</td>\n",
              "    </tr>\n",
              "  </tbody>\n",
              "</table>\n",
              "</div>\n",
              "      <button class=\"colab-df-convert\" onclick=\"convertToInteractive('df-beb3e6aa-c821-4458-b53f-18e9bb5c635e')\"\n",
              "              title=\"Convert this dataframe to an interactive table.\"\n",
              "              style=\"display:none;\">\n",
              "        \n",
              "  <svg xmlns=\"http://www.w3.org/2000/svg\" height=\"24px\"viewBox=\"0 0 24 24\"\n",
              "       width=\"24px\">\n",
              "    <path d=\"M0 0h24v24H0V0z\" fill=\"none\"/>\n",
              "    <path d=\"M18.56 5.44l.94 2.06.94-2.06 2.06-.94-2.06-.94-.94-2.06-.94 2.06-2.06.94zm-11 1L8.5 8.5l.94-2.06 2.06-.94-2.06-.94L8.5 2.5l-.94 2.06-2.06.94zm10 10l.94 2.06.94-2.06 2.06-.94-2.06-.94-.94-2.06-.94 2.06-2.06.94z\"/><path d=\"M17.41 7.96l-1.37-1.37c-.4-.4-.92-.59-1.43-.59-.52 0-1.04.2-1.43.59L10.3 9.45l-7.72 7.72c-.78.78-.78 2.05 0 2.83L4 21.41c.39.39.9.59 1.41.59.51 0 1.02-.2 1.41-.59l7.78-7.78 2.81-2.81c.8-.78.8-2.07 0-2.86zM5.41 20L4 18.59l7.72-7.72 1.47 1.35L5.41 20z\"/>\n",
              "  </svg>\n",
              "      </button>\n",
              "      \n",
              "  <style>\n",
              "    .colab-df-container {\n",
              "      display:flex;\n",
              "      flex-wrap:wrap;\n",
              "      gap: 12px;\n",
              "    }\n",
              "\n",
              "    .colab-df-convert {\n",
              "      background-color: #E8F0FE;\n",
              "      border: none;\n",
              "      border-radius: 50%;\n",
              "      cursor: pointer;\n",
              "      display: none;\n",
              "      fill: #1967D2;\n",
              "      height: 32px;\n",
              "      padding: 0 0 0 0;\n",
              "      width: 32px;\n",
              "    }\n",
              "\n",
              "    .colab-df-convert:hover {\n",
              "      background-color: #E2EBFA;\n",
              "      box-shadow: 0px 1px 2px rgba(60, 64, 67, 0.3), 0px 1px 3px 1px rgba(60, 64, 67, 0.15);\n",
              "      fill: #174EA6;\n",
              "    }\n",
              "\n",
              "    [theme=dark] .colab-df-convert {\n",
              "      background-color: #3B4455;\n",
              "      fill: #D2E3FC;\n",
              "    }\n",
              "\n",
              "    [theme=dark] .colab-df-convert:hover {\n",
              "      background-color: #434B5C;\n",
              "      box-shadow: 0px 1px 3px 1px rgba(0, 0, 0, 0.15);\n",
              "      filter: drop-shadow(0px 1px 2px rgba(0, 0, 0, 0.3));\n",
              "      fill: #FFFFFF;\n",
              "    }\n",
              "  </style>\n",
              "\n",
              "      <script>\n",
              "        const buttonEl =\n",
              "          document.querySelector('#df-beb3e6aa-c821-4458-b53f-18e9bb5c635e button.colab-df-convert');\n",
              "        buttonEl.style.display =\n",
              "          google.colab.kernel.accessAllowed ? 'block' : 'none';\n",
              "\n",
              "        async function convertToInteractive(key) {\n",
              "          const element = document.querySelector('#df-beb3e6aa-c821-4458-b53f-18e9bb5c635e');\n",
              "          const dataTable =\n",
              "            await google.colab.kernel.invokeFunction('convertToInteractive',\n",
              "                                                     [key], {});\n",
              "          if (!dataTable) return;\n",
              "\n",
              "          const docLinkHtml = 'Like what you see? Visit the ' +\n",
              "            '<a target=\"_blank\" href=https://colab.research.google.com/notebooks/data_table.ipynb>data table notebook</a>'\n",
              "            + ' to learn more about interactive tables.';\n",
              "          element.innerHTML = '';\n",
              "          dataTable['output_type'] = 'display_data';\n",
              "          await google.colab.output.renderOutput(dataTable, element);\n",
              "          const docLink = document.createElement('div');\n",
              "          docLink.innerHTML = docLinkHtml;\n",
              "          element.appendChild(docLink);\n",
              "        }\n",
              "      </script>\n",
              "    </div>\n",
              "  </div>\n",
              "  "
            ]
          },
          "metadata": {},
          "execution_count": 31
        }
      ],
      "source": [
        "df_withoutNA.head(3)"
      ]
    },
    {
      "cell_type": "code",
      "execution_count": 32,
      "metadata": {
        "colab": {
          "base_uri": "https://localhost:8080/"
        },
        "id": "WHr0quLtB5_u",
        "outputId": "4c2a7445-3889-436a-927f-14c192bcb621"
      },
      "outputs": [
        {
          "output_type": "stream",
          "name": "stdout",
          "text": [
            "There are 322095 words in the dataframe.\n"
          ]
        }
      ],
      "source": [
        "print(\"There are\",df_withoutNA['facts'].apply(lambda x: len(x.split(' '))).sum(), \"words in the dataframe.\")"
      ]
    },
    {
      "cell_type": "code",
      "execution_count": 33,
      "metadata": {
        "id": "QgAtajrqheNY"
      },
      "outputs": [],
      "source": [
        "my_issue_area = list(set(df_withoutNA[\"issue_area\"]))"
      ]
    },
    {
      "cell_type": "markdown",
      "source": [
        "## Plots"
      ],
      "metadata": {
        "id": "h18u8QdgQgWG"
      }
    },
    {
      "cell_type": "code",
      "source": [
        "df['facts'] = df['facts'].map(lambda x: clean_text(x, stemming=False, lemmatization = True))"
      ],
      "metadata": {
        "id": "vB-PgqP5QnNA"
      },
      "execution_count": 110,
      "outputs": []
    },
    {
      "cell_type": "code",
      "source": [
        "words = []\n",
        "freqOfWords = []\n",
        "\n",
        "for doc in df[\"facts\"]:\n",
        "  worddoc = doc.split()\n",
        "  for word in worddoc:\n",
        "    if word not in words:\n",
        "      words.append(word)\n",
        "      freqOfWords.append(1)\n",
        "    else:\n",
        "      idx = words.index(word)\n",
        "      freqOfWords[idx] = freqOfWords[idx] + 1"
      ],
      "metadata": {
        "id": "Kxr3P4h8Qr4v"
      },
      "execution_count": 111,
      "outputs": []
    },
    {
      "cell_type": "code",
      "source": [
        "d = {'words': words, 'frequency': freqOfWords}\n",
        "freqWordDf = pd.DataFrame(data=d)\n",
        "freqWordDf = freqWordDf.sort_values(by=['frequency'])"
      ],
      "metadata": {
        "id": "jOHEmdqUSYvF"
      },
      "execution_count": 112,
      "outputs": []
    },
    {
      "cell_type": "code",
      "source": [
        "plt.bar(freqWordDf.tail(15)[\"words\"], freqWordDf.tail(15)[\"frequency\"])\n",
        "plt.xticks(freqWordDf.tail(15)[\"words\"])\n",
        "plt.title(\"Most 15 frequent words\")\n",
        "plt.ylabel('Frequency of the word')\n",
        "plt.xticks(rotation = 90) \n",
        "plt.savefig(\"MostFrequentWordsInTheFirstDataset.png\", dpi=1200)\n",
        "plt.show()"
      ],
      "metadata": {
        "colab": {
          "base_uri": "https://localhost:8080/",
          "height": 261
        },
        "id": "Z-m5VayLScl1",
        "outputId": "3eb675f7-ee71-4845-eec5-ce1fa3589b84"
      },
      "execution_count": 113,
      "outputs": [
        {
          "output_type": "display_data",
          "data": {
            "text/plain": [
              "<Figure size 576x252 with 1 Axes>"
            ],
            "image/png": "[encoded data removed]"
          },
          "metadata": {
            "needs_background": "light"
          }
        }
      ]
    },
    {
      "cell_type": "code",
      "source": [
        "words = []\n",
        "targetVar = []\n",
        "onesList = []\n",
        "for row in range(0, len(df_withoutNA[\"facts\"])):\n",
        "  worddoc = df_withoutNA[\"facts\"][row].split()\n",
        "  for word in worddoc:\n",
        "    words.append(word)\n",
        "    targetVar.append(df_withoutNA[\"first_party_winner\"][row]) \n",
        "    onesList.append(1)"
      ],
      "metadata": {
        "id": "RWJ49TM3UA4D"
      },
      "execution_count": 114,
      "outputs": []
    },
    {
      "cell_type": "code",
      "source": [
        "d = {'words': words, 'first_party_winner': targetVar, \"listOfOnes\": onesList}\n",
        "freqDf = pd.DataFrame(data=d)"
      ],
      "metadata": {
        "id": "XK15qD-jUBeb"
      },
      "execution_count": 115,
      "outputs": []
    },
    {
      "cell_type": "code",
      "source": [
        "countFreqDf = freqDf.groupby([\"first_party_winner\", \"words\"], as_index=False, sort=True)[\"listOfOnes\"].count()"
      ],
      "metadata": {
        "id": "CzUH_C5qUDlg"
      },
      "execution_count": 116,
      "outputs": []
    },
    {
      "cell_type": "code",
      "source": [
        "countFreqDfZeros = countFreqDf[countFreqDf['first_party_winner'].isin([0])].sort_values(by=['listOfOnes'])\n",
        "countFreqDfZeros[countFreqDfZeros[\"listOfOnes\"].isin([1])].count()"
      ],
      "metadata": {
        "colab": {
          "base_uri": "https://localhost:8080/"
        },
        "id": "Xb7NDOHWUDfj",
        "outputId": "d2b32dce-3b65-4ce5-95b6-132629344dc9"
      },
      "execution_count": 117,
      "outputs": [
        {
          "output_type": "execute_result",
          "data": {
            "text/plain": [
              "first_party_winner    2974\n",
              "words                 2974\n",
              "listOfOnes            2974\n",
              "dtype: int64"
            ]
          },
          "metadata": {},
          "execution_count": 117
        }
      ]
    },
    {
      "cell_type": "code",
      "source": [
        "countFreqDfOnes = countFreqDf[countFreqDf['first_party_winner'].isin([1])].sort_values(by=['listOfOnes'])\n",
        "countFreqDfOnes[countFreqDfOnes[\"listOfOnes\"].isin([1])].count()"
      ],
      "metadata": {
        "colab": {
          "base_uri": "https://localhost:8080/"
        },
        "id": "j8oCvJkdUQCN",
        "outputId": "94e11047-82df-437a-ebf4-6d3b8b389182"
      },
      "execution_count": 118,
      "outputs": [
        {
          "output_type": "execute_result",
          "data": {
            "text/plain": [
              "first_party_winner    3897\n",
              "words                 3897\n",
              "listOfOnes            3897\n",
              "dtype: int64"
            ]
          },
          "metadata": {},
          "execution_count": 118
        }
      ]
    },
    {
      "cell_type": "code",
      "source": [
        "fig, axes = plt.subplots(nrows=1, ncols=2, figsize=(10, 4))\n",
        "\n",
        "axes[0].bar(countFreqDfOnes.tail(15)[\"words\"], countFreqDfOnes.tail(15)[\"listOfOnes\"])\n",
        "axes[0].title.set_text(\"Most 15 frequent words in the cases won\")\n",
        "axes[0].set_xticklabels(countFreqDfOnes.tail(15)[\"words\"], rotation=90)\n",
        "axes[0].set_ylabel('Frequency of the word')\n",
        "\n",
        "axes[1].bar(countFreqDfZeros.tail(15)[\"words\"], countFreqDfZeros.tail(15)[\"listOfOnes\"], color='orange')\n",
        "axes[1].title.set_text(\"Most 15 frequent words in the lost cases\")\n",
        "axes[1].set_xticklabels(countFreqDfZeros.tail(15)[\"words\"], rotation=90)\n",
        "\n",
        "fig.savefig('MostFrequentWordsForEachCategoryFromTheFirstDataset.png', dpi=300)\n",
        "fig.show()"
      ],
      "metadata": {
        "colab": {
          "base_uri": "https://localhost:8080/",
          "height": 297
        },
        "id": "Qt-sNChMUxwH",
        "outputId": "c669b305-6845-4b8b-fc4c-acbeb5022795"
      },
      "execution_count": 119,
      "outputs": [
        {
          "output_type": "display_data",
          "data": {
            "text/plain": [
              "<Figure size 720x288 with 2 Axes>"
            ],
            "image/png": "[encoded data removed]"
          },
          "metadata": {
            "needs_background": "light"
          }
        }
      ]
    },
    {
      "cell_type": "markdown",
      "metadata": {
        "id": "AjURLvVnB5_v"
      },
      "source": [
        "# Without deleting most frequent words"
      ]
    },
    {
      "cell_type": "code",
      "execution_count": null,
      "metadata": {
        "id": "8aUW629YB5_w"
      },
      "outputs": [],
      "source": [
        "X = df_withoutNA.facts\n",
        "y = df_withoutNA.issue_area\n",
        "X_train, X_test, y_train, y_test = train_test_split(X, y, test_size=0.3, random_state = 42)"
      ]
    },
    {
      "cell_type": "code",
      "execution_count": null,
      "metadata": {
        "colab": {
          "base_uri": "https://localhost:8080/"
        },
        "id": "o0giPH5yB5_w",
        "outputId": "dc5d48b9-af43-4273-85d1-4eb7253b7e88"
      },
      "outputs": [
        {
          "output_type": "execute_result",
          "data": {
            "text/plain": [
              "Pipeline(steps=[('vect', CountVectorizer()), ('tfidf', TfidfTransformer()),\n",
              "                ('clf', MultinomialNB())])"
            ]
          },
          "metadata": {},
          "execution_count": 35
        }
      ],
      "source": [
        "from sklearn.naive_bayes import MultinomialNB\n",
        "from sklearn.pipeline import Pipeline\n",
        "from sklearn.feature_extraction.text import TfidfTransformer\n",
        "from sklearn.preprocessing import StandardScaler\n",
        "\n",
        "nb = Pipeline([('vect', CountVectorizer()),\n",
        "               ('tfidf', TfidfTransformer()),\n",
        "               ('clf', MultinomialNB()),\n",
        "              ])\n",
        "nb.fit(X_train, y_train)"
      ]
    },
    {
      "cell_type": "code",
      "execution_count": null,
      "metadata": {
        "colab": {
          "base_uri": "https://localhost:8080/"
        },
        "id": "AC4GnJD-B5_x",
        "outputId": "78707963-d4c8-49f0-f13d-fa00040add38"
      },
      "outputs": [
        {
          "output_type": "stream",
          "name": "stdout",
          "text": [
            "CPU times: user 77.4 ms, sys: 729 µs, total: 78.1 ms\n",
            "Wall time: 80 ms\n"
          ]
        }
      ],
      "source": [
        "%%time\n",
        "from sklearn.metrics import classification_report\n",
        "y_pred = nb.predict(X_test)"
      ]
    },
    {
      "cell_type": "code",
      "execution_count": null,
      "metadata": {
        "colab": {
          "base_uri": "https://localhost:8080/"
        },
        "id": "OaYpI43fB5_x",
        "outputId": "022f0522-f211-4013-de60-e18719fcd49e"
      },
      "outputs": [
        {
          "output_type": "execute_result",
          "data": {
            "text/plain": [
              "['First Amendment',\n",
              " 'Civil Rights',\n",
              " 'Others',\n",
              " 'Economic Activity',\n",
              " 'Criminal Procedure']"
            ]
          },
          "metadata": {},
          "execution_count": 37
        }
      ],
      "source": [
        "list(set(y_pred))"
      ]
    },
    {
      "cell_type": "code",
      "execution_count": null,
      "metadata": {
        "colab": {
          "base_uri": "https://localhost:8080/"
        },
        "id": "pvgKCQ2jB5_x",
        "outputId": "46fd988d-6346-4878-be21-6d5e7cb8624f"
      },
      "outputs": [
        {
          "output_type": "execute_result",
          "data": {
            "text/plain": [
              "['Judicial Power',\n",
              " 'First Amendment',\n",
              " 'Civil Rights',\n",
              " 'Others',\n",
              " 'Economic Activity',\n",
              " 'Criminal Procedure']"
            ]
          },
          "metadata": {},
          "execution_count": 38
        }
      ],
      "source": [
        "list(set(y_test))"
      ]
    },
    {
      "cell_type": "code",
      "execution_count": null,
      "metadata": {
        "id": "5ujVjV0ZB5_y"
      },
      "outputs": [],
      "source": [
        "import warnings\n",
        "warnings.filterwarnings('always') #We can set it later to 'ignore'."
      ]
    },
    {
      "cell_type": "code",
      "execution_count": null,
      "metadata": {
        "colab": {
          "base_uri": "https://localhost:8080/"
        },
        "id": "CzMblcVBB5_y",
        "outputId": "569dc2ff-f124-44a2-cb3f-2449b7f247f0"
      },
      "outputs": [
        {
          "output_type": "stream",
          "name": "stdout",
          "text": [
            "accuracy 0.5580168776371308\n",
            "                    precision    recall  f1-score   support\n",
            "\n",
            "    Judicial Power       0.60      0.51      0.55       184\n",
            "   First Amendment       0.51      0.99      0.67       258\n",
            "      Civil Rights       0.64      0.63      0.64       161\n",
            "            Others       0.84      0.17      0.28        96\n",
            " Economic Activity       0.00      0.00      0.00       111\n",
            "Criminal Procedure       0.56      0.45      0.50       138\n",
            "\n",
            "          accuracy                           0.56       948\n",
            "         macro avg       0.53      0.46      0.44       948\n",
            "      weighted avg       0.53      0.56      0.50       948\n",
            "\n"
          ]
        },
        {
          "output_type": "stream",
          "name": "stderr",
          "text": [
            "/usr/local/lib/python3.8/dist-packages/sklearn/metrics/_classification.py:1318: UndefinedMetricWarning: Precision and F-score are ill-defined and being set to 0.0 in labels with no predicted samples. Use `zero_division` parameter to control this behavior.\n",
            "  _warn_prf(average, modifier, msg_start, len(result))\n",
            "/usr/local/lib/python3.8/dist-packages/sklearn/metrics/_classification.py:1318: UndefinedMetricWarning: Precision and F-score are ill-defined and being set to 0.0 in labels with no predicted samples. Use `zero_division` parameter to control this behavior.\n",
            "  _warn_prf(average, modifier, msg_start, len(result))\n",
            "/usr/local/lib/python3.8/dist-packages/sklearn/metrics/_classification.py:1318: UndefinedMetricWarning: Precision and F-score are ill-defined and being set to 0.0 in labels with no predicted samples. Use `zero_division` parameter to control this behavior.\n",
            "  _warn_prf(average, modifier, msg_start, len(result))\n"
          ]
        }
      ],
      "source": [
        "print('accuracy %s' % accuracy_score(y_pred, y_test))\n",
        "print(classification_report(y_test, y_pred, target_names=my_issue_area))"
      ]
    },
    {
      "cell_type": "code",
      "execution_count": null,
      "metadata": {
        "colab": {
          "base_uri": "https://localhost:8080/"
        },
        "id": "-mRUhhp-B5_y",
        "outputId": "f692e374-c662-4b4a-bec3-618b597bdc90"
      },
      "outputs": [
        {
          "output_type": "execute_result",
          "data": {
            "text/plain": [
              "Pipeline(steps=[('vect', CountVectorizer(ngram_range=(1, 2))),\n",
              "                ('tfidf', TfidfTransformer()),\n",
              "                ('clf',\n",
              "                 SGDClassifier(alpha=0.001, max_iter=5, random_state=42,\n",
              "                               tol=None))])"
            ]
          },
          "metadata": {},
          "execution_count": 41
        }
      ],
      "source": [
        "from sklearn.linear_model import SGDClassifier\n",
        "\n",
        "sgd = Pipeline([('vect', CountVectorizer(ngram_range=(1, 2))),\n",
        "                ('tfidf', TfidfTransformer()),\n",
        "                ('clf', SGDClassifier(loss='hinge', penalty='l2',alpha=1e-3, random_state=42, max_iter=5, tol=None)),\n",
        "               ])\n",
        "sgd.fit(X_train, y_train)"
      ]
    },
    {
      "cell_type": "code",
      "execution_count": null,
      "metadata": {
        "colab": {
          "base_uri": "https://localhost:8080/"
        },
        "id": "WGrgHSyZB5_y",
        "outputId": "ef72b692-a75f-4018-b499-ea05d275d0d7"
      },
      "outputs": [
        {
          "output_type": "stream",
          "name": "stdout",
          "text": [
            "CPU times: user 207 ms, sys: 11.6 ms, total: 218 ms\n",
            "Wall time: 222 ms\n"
          ]
        }
      ],
      "source": [
        "%%time\n",
        "y_pred = sgd.predict(X_test)"
      ]
    },
    {
      "cell_type": "code",
      "execution_count": null,
      "metadata": {
        "colab": {
          "base_uri": "https://localhost:8080/"
        },
        "id": "Asdtex8SB5_z",
        "outputId": "35713a33-79c0-44e8-dc59-3721d6fdfea3"
      },
      "outputs": [
        {
          "output_type": "stream",
          "name": "stdout",
          "text": [
            "accuracy 0.6867088607594937\n",
            "                    precision    recall  f1-score   support\n",
            "\n",
            "    Judicial Power       0.74      0.65      0.69       184\n",
            "   First Amendment       0.68      0.98      0.81       258\n",
            "      Civil Rights       0.69      0.71      0.70       161\n",
            "            Others       0.68      0.72      0.70        96\n",
            " Economic Activity       0.62      0.21      0.31       111\n",
            "Criminal Procedure       0.64      0.52      0.57       138\n",
            "\n",
            "          accuracy                           0.69       948\n",
            "         macro avg       0.68      0.63      0.63       948\n",
            "      weighted avg       0.68      0.69      0.66       948\n",
            "\n"
          ]
        }
      ],
      "source": [
        "print('accuracy %s' % accuracy_score(y_pred, y_test))\n",
        "print(classification_report(y_test, y_pred,target_names=my_issue_area))"
      ]
    },
    {
      "cell_type": "code",
      "execution_count": null,
      "metadata": {
        "colab": {
          "base_uri": "https://localhost:8080/"
        },
        "id": "7WMlPF7CB5_z",
        "outputId": "6a1a6d80-c894-4356-e68b-15437845f28e"
      },
      "outputs": [
        {
          "data": {
            "text/plain": [
              "Pipeline(steps=[('vect', CountVectorizer(ngram_range=(1, 2))),\n",
              "                ('tfidf', TfidfTransformer()),\n",
              "                ('clf',\n",
              "                 LogisticRegression(C=100000.0, max_iter=100000, n_jobs=1))])"
            ]
          },
          "execution_count": 80,
          "metadata": {},
          "output_type": "execute_result"
        }
      ],
      "source": [
        "from sklearn.linear_model import LogisticRegression\n",
        "\n",
        "logreg = Pipeline([('vect', CountVectorizer(ngram_range=(1, 2))),\n",
        "                ('tfidf', TfidfTransformer()),\n",
        "                ('clf', LogisticRegression(n_jobs=1, C=1e5, solver='lbfgs', max_iter=100000)),\n",
        "               ])\n",
        "logreg.fit(X_train, y_train)"
      ]
    },
    {
      "cell_type": "code",
      "execution_count": null,
      "metadata": {
        "colab": {
          "base_uri": "https://localhost:8080/"
        },
        "id": "8FPZWRN6B5_z",
        "outputId": "a9bcf1e6-ea01-4279-8c7d-f5a2b138ef50"
      },
      "outputs": [
        {
          "name": "stdout",
          "output_type": "stream",
          "text": [
            "CPU times: user 203 ms, sys: 614 µs, total: 204 ms\n",
            "Wall time: 205 ms\n"
          ]
        }
      ],
      "source": [
        "%%time\n",
        "y_pred = logreg.predict(X_test)"
      ]
    },
    {
      "cell_type": "code",
      "execution_count": null,
      "metadata": {
        "colab": {
          "base_uri": "https://localhost:8080/"
        },
        "id": "zRPIEPUhB5_z",
        "outputId": "e60e6ba9-fa9e-46e8-cfe9-567cd9f54693"
      },
      "outputs": [
        {
          "name": "stdout",
          "output_type": "stream",
          "text": [
            "accuracy 0.7056962025316456\n",
            "                    precision    recall  f1-score   support\n",
            "\n",
            "            Others       0.72      0.69      0.71       184\n",
            " Economic Activity       0.78      0.94      0.85       258\n",
            "   First Amendment       0.70      0.70      0.70       161\n",
            "Criminal Procedure       0.70      0.77      0.74        96\n",
            "      Civil Rights       0.53      0.31      0.39       111\n",
            "    Judicial Power       0.62      0.58      0.60       138\n",
            "\n",
            "          accuracy                           0.71       948\n",
            "         macro avg       0.67      0.66      0.66       948\n",
            "      weighted avg       0.69      0.71      0.69       948\n",
            "\n"
          ]
        }
      ],
      "source": [
        "print('accuracy %s' % accuracy_score(y_pred, y_test))\n",
        "print(classification_report(y_test, y_pred,target_names=my_issue_area))"
      ]
    },
    {
      "cell_type": "code",
      "execution_count": null,
      "metadata": {
        "colab": {
          "base_uri": "https://localhost:8080/"
        },
        "id": "NMdSNWmiB5_z",
        "outputId": "56970770-a9b3-4068-eaed-a651540e4f41"
      },
      "outputs": [
        {
          "data": {
            "text/plain": [
              "Pipeline(steps=[('vect', CountVectorizer(ngram_range=(1, 2))),\n",
              "                ('tfidf', TfidfTransformer()),\n",
              "                ('clf',\n",
              "                 RandomForestClassifier(max_depth=10, n_estimators=10,\n",
              "                                        random_state=10))])"
            ]
          },
          "execution_count": 83,
          "metadata": {},
          "output_type": "execute_result"
        }
      ],
      "source": [
        "from sklearn.ensemble import RandomForestClassifier\n",
        "\n",
        "randfor = Pipeline([('vect', CountVectorizer(ngram_range=(1, 2))),\n",
        "                ('tfidf', TfidfTransformer()),\n",
        "                ('clf', RandomForestClassifier(n_estimators= 10, max_depth=10, random_state=10)),\n",
        "               ])\n",
        "randfor.fit(X_train, y_train)"
      ]
    },
    {
      "cell_type": "code",
      "execution_count": null,
      "metadata": {
        "colab": {
          "base_uri": "https://localhost:8080/"
        },
        "id": "uD9gRHLuB5_z",
        "outputId": "2e2f9a1c-f80d-430d-efa7-cf282d873219"
      },
      "outputs": [
        {
          "name": "stdout",
          "output_type": "stream",
          "text": [
            "CPU times: user 188 ms, sys: 973 µs, total: 189 ms\n",
            "Wall time: 194 ms\n"
          ]
        }
      ],
      "source": [
        "%%time\n",
        "y_pred = randfor.predict(X_test)"
      ]
    },
    {
      "cell_type": "code",
      "execution_count": null,
      "metadata": {
        "colab": {
          "base_uri": "https://localhost:8080/"
        },
        "id": "B1T0pa8PB5_0",
        "outputId": "bf920638-4010-4d87-fe1f-599cbda3538c"
      },
      "outputs": [
        {
          "name": "stdout",
          "output_type": "stream",
          "text": [
            "accuracy 0.4272151898734177\n",
            "                    precision    recall  f1-score   support\n",
            "\n",
            "            Others       0.60      0.32      0.42       184\n",
            " Economic Activity       0.38      0.97      0.54       258\n",
            "   First Amendment       0.46      0.35      0.39       161\n",
            "Criminal Procedure       0.88      0.23      0.36        96\n",
            "      Civil Rights       0.57      0.04      0.07       111\n",
            "    Judicial Power       0.48      0.11      0.18       138\n",
            "\n",
            "          accuracy                           0.43       948\n",
            "         macro avg       0.56      0.33      0.33       948\n",
            "      weighted avg       0.52      0.43      0.37       948\n",
            "\n"
          ]
        }
      ],
      "source": [
        "print('accuracy %s' % accuracy_score(y_pred, y_test))\n",
        "print(classification_report(y_test, y_pred,target_names=my_issue_area))"
      ]
    },
    {
      "cell_type": "code",
      "execution_count": null,
      "metadata": {
        "colab": {
          "base_uri": "https://localhost:8080/"
        },
        "id": "9h_NXxQaB5_0",
        "outputId": "f3a4a1b6-165d-4d3a-aad3-056bf73225cb"
      },
      "outputs": [
        {
          "data": {
            "text/plain": [
              "Pipeline(steps=[('vect', CountVectorizer(ngram_range=(1, 2))),\n",
              "                ('tfidf', TfidfTransformer()),\n",
              "                ('clf',\n",
              "                 GradientBoostingClassifier(max_depth=10, n_estimators=10,\n",
              "                                            random_state=10))])"
            ]
          },
          "execution_count": 86,
          "metadata": {},
          "output_type": "execute_result"
        }
      ],
      "source": [
        "from sklearn.ensemble import GradientBoostingClassifier\n",
        "graboos = Pipeline([('vect', CountVectorizer(ngram_range=(1, 2))),\n",
        "                ('tfidf', TfidfTransformer()),\n",
        "                ('clf', GradientBoostingClassifier(n_estimators=10, max_depth=10, random_state=10)),\n",
        "               ])\n",
        "graboos.fit(X_train, y_train)"
      ]
    },
    {
      "cell_type": "code",
      "execution_count": null,
      "metadata": {
        "colab": {
          "base_uri": "https://localhost:8080/"
        },
        "id": "APsr1EzBB5_0",
        "outputId": "613adff5-5509-4186-fd7d-96267cd2e0b1"
      },
      "outputs": [
        {
          "name": "stdout",
          "output_type": "stream",
          "text": [
            "CPU times: user 195 ms, sys: 1.8 ms, total: 197 ms\n",
            "Wall time: 197 ms\n"
          ]
        }
      ],
      "source": [
        "%%time\n",
        "y_pred = graboos.predict(X_test)"
      ]
    },
    {
      "cell_type": "code",
      "execution_count": null,
      "metadata": {
        "colab": {
          "base_uri": "https://localhost:8080/"
        },
        "id": "ng9QNYK_B5_0",
        "outputId": "78f3bdb4-5b37-480b-a69c-e407165f5882"
      },
      "outputs": [
        {
          "name": "stdout",
          "output_type": "stream",
          "text": [
            "accuracy 0.6086497890295358\n",
            "                    precision    recall  f1-score   support\n",
            "\n",
            "            Others       0.63      0.54      0.58       184\n",
            " Economic Activity       0.70      0.88      0.78       258\n",
            "   First Amendment       0.63      0.60      0.62       161\n",
            "Criminal Procedure       0.68      0.64      0.66        96\n",
            "      Civil Rights       0.47      0.28      0.35       111\n",
            "    Judicial Power       0.40      0.44      0.42       138\n",
            "\n",
            "          accuracy                           0.61       948\n",
            "         macro avg       0.58      0.56      0.57       948\n",
            "      weighted avg       0.60      0.61      0.60       948\n",
            "\n"
          ]
        }
      ],
      "source": [
        "print('accuracy %s' % accuracy_score(y_pred, y_test))\n",
        "print(classification_report(y_test, y_pred,target_names=my_issue_area))"
      ]
    },
    {
      "cell_type": "code",
      "execution_count": null,
      "metadata": {
        "colab": {
          "base_uri": "https://localhost:8080/"
        },
        "id": "G47Wju0vB5_0",
        "outputId": "7f316d88-e17b-4dd8-844b-1b20f6c75166"
      },
      "outputs": [
        {
          "data": {
            "text/plain": [
              "LabelEncoder()"
            ]
          },
          "execution_count": 89,
          "metadata": {},
          "output_type": "execute_result"
        }
      ],
      "source": [
        "from sklearn import preprocessing\n",
        "le = preprocessing.LabelEncoder()\n",
        "le.fit(y_train)"
      ]
    },
    {
      "cell_type": "code",
      "execution_count": null,
      "metadata": {
        "id": "Of41VFzCB5_0"
      },
      "outputs": [],
      "source": [
        "y_train = le.transform(y_train)\n",
        "y_test = le.transform(y_test)"
      ]
    },
    {
      "cell_type": "code",
      "execution_count": null,
      "metadata": {
        "colab": {
          "base_uri": "https://localhost:8080/"
        },
        "id": "KuKlxJ1LB5_1",
        "outputId": "3daba867-5f59-4a87-fa89-33c653c73b5f"
      },
      "outputs": [
        {
          "data": {
            "text/plain": [
              "Pipeline(steps=[('vect', CountVectorizer(ngram_range=(1, 2))),\n",
              "                ('tfidf', TfidfTransformer()),\n",
              "                ('clf', XGBClassifier(objective='multi:softprob'))])"
            ]
          },
          "execution_count": 91,
          "metadata": {},
          "output_type": "execute_result"
        }
      ],
      "source": [
        "import xgboost as xgb\n",
        "\n",
        "xgboo = Pipeline([('vect', CountVectorizer(ngram_range=(1, 2))),\n",
        "                ('tfidf', TfidfTransformer()),\n",
        "                ('clf', xgb.XGBClassifier()),\n",
        "               ])\n",
        "xgboo.fit(X_train, y_train)"
      ]
    },
    {
      "cell_type": "code",
      "execution_count": null,
      "metadata": {
        "colab": {
          "base_uri": "https://localhost:8080/"
        },
        "id": "Bwzt9r9cB5_1",
        "outputId": "0518083b-86bd-4b7b-ebbd-bd6670cbc9b6"
      },
      "outputs": [
        {
          "name": "stdout",
          "output_type": "stream",
          "text": [
            "CPU times: user 279 ms, sys: 6.79 ms, total: 286 ms\n",
            "Wall time: 285 ms\n"
          ]
        }
      ],
      "source": [
        "%%time\n",
        "y_pred = xgboo.predict(X_test)"
      ]
    },
    {
      "cell_type": "code",
      "execution_count": null,
      "metadata": {
        "colab": {
          "base_uri": "https://localhost:8080/"
        },
        "id": "MgFccWIiB5_1",
        "outputId": "79b25727-0240-45fa-822a-999bda97065e"
      },
      "outputs": [
        {
          "name": "stdout",
          "output_type": "stream",
          "text": [
            "accuracy 0.6350210970464135\n",
            "                    precision    recall  f1-score   support\n",
            "\n",
            "            Others       0.67      0.60      0.63       184\n",
            " Economic Activity       0.74      0.89      0.81       258\n",
            "   First Amendment       0.63      0.61      0.62       161\n",
            "Criminal Procedure       0.63      0.70      0.66        96\n",
            "      Civil Rights       0.47      0.27      0.34       111\n",
            "    Judicial Power       0.45      0.47      0.46       138\n",
            "\n",
            "          accuracy                           0.64       948\n",
            "         macro avg       0.60      0.59      0.59       948\n",
            "      weighted avg       0.62      0.64      0.62       948\n",
            "\n"
          ]
        }
      ],
      "source": [
        "print('accuracy %s' % accuracy_score(y_pred, y_test))\n",
        "print(classification_report(y_test, y_pred,target_names=my_issue_area))"
      ]
    },
    {
      "cell_type": "code",
      "execution_count": null,
      "metadata": {
        "colab": {
          "base_uri": "https://localhost:8080/"
        },
        "id": "p3lpHUW1rjNe",
        "outputId": "4fcff492-ea8a-4899-feea-e3d8d65fda1b"
      },
      "outputs": [
        {
          "data": {
            "text/plain": [
              "Pipeline(steps=[('vect', CountVectorizer(ngram_range=(1, 2))),\n",
              "                ('tfidf', TfidfTransformer()),\n",
              "                ('kn', KNeighborsClassifier(n_neighbors=3))])"
            ]
          },
          "execution_count": 94,
          "metadata": {},
          "output_type": "execute_result"
        }
      ],
      "source": [
        "from sklearn.neighbors import KNeighborsClassifier\n",
        "\n",
        "kn = Pipeline([('vect', CountVectorizer(ngram_range=(1, 2))),\n",
        "                ('tfidf', TfidfTransformer()),\n",
        "                ('kn',KNeighborsClassifier(n_neighbors=3)),\n",
        "               ])\n",
        "kn.fit(X_train, y_train)"
      ]
    },
    {
      "cell_type": "code",
      "execution_count": null,
      "metadata": {
        "colab": {
          "base_uri": "https://localhost:8080/"
        },
        "id": "O1c1w2udsEH2",
        "outputId": "f1dccf77-1975-46cc-874f-497979517749"
      },
      "outputs": [
        {
          "name": "stdout",
          "output_type": "stream",
          "text": [
            "CPU times: user 384 ms, sys: 1.24 ms, total: 386 ms\n",
            "Wall time: 388 ms\n"
          ]
        }
      ],
      "source": [
        "%%time\n",
        "y_pred = kn.predict(X_test)"
      ]
    },
    {
      "cell_type": "code",
      "execution_count": null,
      "metadata": {
        "colab": {
          "base_uri": "https://localhost:8080/"
        },
        "id": "KvvigFY_sKAA",
        "outputId": "cee8cb97-a49e-470c-9f6b-00aa950d7c5c"
      },
      "outputs": [
        {
          "name": "stdout",
          "output_type": "stream",
          "text": [
            "accuracy 0.5928270042194093\n",
            "                    precision    recall  f1-score   support\n",
            "\n",
            "            Others       0.50      0.70      0.58       184\n",
            " Economic Activity       0.66      0.81      0.73       258\n",
            "   First Amendment       0.63      0.60      0.61       161\n",
            "Criminal Procedure       0.65      0.48      0.55        96\n",
            "      Civil Rights       0.50      0.23      0.32       111\n",
            "    Judicial Power       0.59      0.40      0.47       138\n",
            "\n",
            "          accuracy                           0.59       948\n",
            "         macro avg       0.59      0.54      0.54       948\n",
            "      weighted avg       0.59      0.59      0.58       948\n",
            "\n"
          ]
        }
      ],
      "source": [
        "from sklearn.metrics import classification_report\n",
        "print('accuracy %s' % accuracy_score(y_pred, y_test))\n",
        "print(classification_report(y_test, y_pred,target_names=my_issue_area))"
      ]
    },
    {
      "cell_type": "markdown",
      "metadata": {
        "id": "LNbeldMyB5_1"
      },
      "source": [
        "# With deleting some words"
      ]
    },
    {
      "cell_type": "code",
      "execution_count": null,
      "metadata": {
        "id": "gVZ55pu9B5_1"
      },
      "outputs": [],
      "source": [
        "bunchOfWords = \"\".join(df_withoutNA[\"facts\"].tolist())"
      ]
    },
    {
      "cell_type": "markdown",
      "metadata": {
        "id": "57qDAwDxB5_1"
      },
      "source": [
        "We will perform a bag of words and try to find the words that appear 1000"
      ]
    },
    {
      "cell_type": "code",
      "execution_count": null,
      "metadata": {
        "id": "yx-T6yGIB5_1"
      },
      "outputs": [],
      "source": [
        "data_corpus = set()\n",
        "for word in bunchOfWords.split(\" \"):\n",
        "    if word not in data_corpus: \n",
        "        data_corpus.add(word)\n",
        "data_corpus=sorted(data_corpus)"
      ]
    },
    {
      "cell_type": "code",
      "execution_count": null,
      "metadata": {
        "id": "Gi_LyiIXB5_1"
      },
      "outputs": [],
      "source": [
        "def convert(set):\n",
        "    return [*set, ]\n",
        "\n",
        "data_corpus = convert(data_corpus)"
      ]
    },
    {
      "cell_type": "code",
      "execution_count": null,
      "metadata": {
        "id": "0DZ9BirPB5_1"
      },
      "outputs": [],
      "source": [
        "one_hot_encoding = []\n",
        "split = bunchOfWords.split(\" \")\n",
        "for word in data_corpus:\n",
        "    count = split.count(word) \n",
        "    if word in split:\n",
        "        one_hot_encoding.append(count)\n",
        "    else:\n",
        "        one_hot_encoding.append(count)"
      ]
    },
    {
      "cell_type": "code",
      "execution_count": null,
      "metadata": {
        "id": "Iqnu-86nB5_2"
      },
      "outputs": [],
      "source": [
        "dfWords = pd.DataFrame({\"words\": data_corpus, \"numberOfFrequency\": one_hot_encoding})\n",
        "dfWords[\"numberOfFrequency\"] = pd.to_numeric(dfWords[\"numberOfFrequency\"])"
      ]
    },
    {
      "cell_type": "code",
      "execution_count": null,
      "metadata": {
        "id": "snsK4_FgB5_2"
      },
      "outputs": [],
      "source": [
        "irrelevantWords = dfWords[dfWords[\"numberOfFrequency\"] > 1000]\n",
        "irrelevantWords = set(irrelevantWords[\"words\"])"
      ]
    },
    {
      "cell_type": "code",
      "execution_count": null,
      "metadata": {
        "id": "T6P_UpW_B5_2"
      },
      "outputs": [],
      "source": [
        "def more_clean_text(text):\n",
        "    text = ' '.join(word for word in text.split() if word not in irrelevantWords) # delete stopwors from text\n",
        "    return text"
      ]
    },
    {
      "cell_type": "code",
      "execution_count": null,
      "metadata": {
        "id": "i3rDO7nGB5_2"
      },
      "outputs": [],
      "source": [
        "df_withoutNA['facts'] = df_withoutNA['facts'].apply(more_clean_text)"
      ]
    },
    {
      "cell_type": "code",
      "execution_count": null,
      "metadata": {
        "colab": {
          "base_uri": "https://localhost:8080/"
        },
        "id": "YJ6cEljHB5_2",
        "outputId": "62a8c885-be93-45e7-80db-2d0264fbb002"
      },
      "outputs": [
        {
          "name": "stdout",
          "output_type": "stream",
          "text": [
            "There are 267703 words in the dataframe.\n"
          ]
        }
      ],
      "source": [
        "print(\"There are\",df_withoutNA['facts'].apply(lambda x: len(x.split(' '))).sum(), \"words in the dataframe.\")"
      ]
    },
    {
      "cell_type": "code",
      "execution_count": null,
      "metadata": {
        "id": "l-y5Z4KCB5_2"
      },
      "outputs": [],
      "source": [
        "X = df_withoutNA.facts\n",
        "y = df_withoutNA.issue_area\n",
        "X_train, X_test, y_train, y_test = train_test_split(X, y, test_size=0.3, random_state = 42)"
      ]
    },
    {
      "cell_type": "code",
      "execution_count": null,
      "metadata": {
        "colab": {
          "base_uri": "https://localhost:8080/"
        },
        "id": "-Z5Lp578B5_3",
        "outputId": "857b659d-1f66-41df-fa12-b9e286f1b666"
      },
      "outputs": [
        {
          "data": {
            "text/plain": [
              "Pipeline(steps=[('vect', CountVectorizer(ngram_range=(1, 2))),\n",
              "                ('tfidf', TfidfTransformer()), ('clf', MultinomialNB())])"
            ]
          },
          "execution_count": 107,
          "metadata": {},
          "output_type": "execute_result"
        }
      ],
      "source": [
        "from sklearn.naive_bayes import MultinomialNB\n",
        "from sklearn.pipeline import Pipeline\n",
        "from sklearn.feature_extraction.text import TfidfTransformer\n",
        "\n",
        "nb = Pipeline([('vect', CountVectorizer(ngram_range=(1, 2))),\n",
        "               ('tfidf', TfidfTransformer()),\n",
        "               ('clf', MultinomialNB()),\n",
        "              ])\n",
        "nb.fit(X_train, y_train)"
      ]
    },
    {
      "cell_type": "code",
      "execution_count": null,
      "metadata": {
        "colab": {
          "base_uri": "https://localhost:8080/"
        },
        "id": "1UtRMxoVB5_3",
        "outputId": "b01fdc62-78fb-40c6-ba23-3da898cdf2e3"
      },
      "outputs": [
        {
          "name": "stdout",
          "output_type": "stream",
          "text": [
            "CPU times: user 166 ms, sys: 1.7 ms, total: 167 ms\n",
            "Wall time: 170 ms\n"
          ]
        }
      ],
      "source": [
        "%%time\n",
        "from sklearn.metrics import classification_report\n",
        "y_pred = nb.predict(X_test)"
      ]
    },
    {
      "cell_type": "code",
      "execution_count": null,
      "metadata": {
        "colab": {
          "base_uri": "https://localhost:8080/"
        },
        "id": "ed4fzkMFB5_3",
        "outputId": "398af3be-e955-4b79-c654-44e4dbf7ec2f"
      },
      "outputs": [
        {
          "name": "stdout",
          "output_type": "stream",
          "text": [
            "accuracy 0.520042194092827\n",
            "                    precision    recall  f1-score   support\n",
            "\n",
            "            Others       0.69      0.48      0.57       184\n",
            " Economic Activity       0.43      1.00      0.60       258\n",
            "   First Amendment       0.63      0.61      0.62       161\n",
            "Criminal Procedure       1.00      0.07      0.14        96\n",
            "      Civil Rights       0.00      0.00      0.00       111\n",
            "    Judicial Power       0.64      0.30      0.41       138\n",
            "\n",
            "          accuracy                           0.52       948\n",
            "         macro avg       0.57      0.41      0.39       948\n",
            "      weighted avg       0.55      0.52      0.45       948\n",
            "\n"
          ]
        },
        {
          "name": "stderr",
          "output_type": "stream",
          "text": [
            "/usr/local/lib/python3.8/dist-packages/sklearn/metrics/_classification.py:1318: UndefinedMetricWarning: Precision and F-score are ill-defined and being set to 0.0 in labels with no predicted samples. Use `zero_division` parameter to control this behavior.\n",
            "  _warn_prf(average, modifier, msg_start, len(result))\n",
            "/usr/local/lib/python3.8/dist-packages/sklearn/metrics/_classification.py:1318: UndefinedMetricWarning: Precision and F-score are ill-defined and being set to 0.0 in labels with no predicted samples. Use `zero_division` parameter to control this behavior.\n",
            "  _warn_prf(average, modifier, msg_start, len(result))\n",
            "/usr/local/lib/python3.8/dist-packages/sklearn/metrics/_classification.py:1318: UndefinedMetricWarning: Precision and F-score are ill-defined and being set to 0.0 in labels with no predicted samples. Use `zero_division` parameter to control this behavior.\n",
            "  _warn_prf(average, modifier, msg_start, len(result))\n"
          ]
        }
      ],
      "source": [
        "print('accuracy %s' % accuracy_score(y_pred, y_test))\n",
        "print(classification_report(y_test, y_pred, target_names=my_issue_area))"
      ]
    },
    {
      "cell_type": "code",
      "execution_count": null,
      "metadata": {
        "colab": {
          "base_uri": "https://localhost:8080/"
        },
        "id": "Ft6wOP10B5_3",
        "outputId": "9a01b33b-2b8f-45e0-99a5-c06f4e29aabf"
      },
      "outputs": [
        {
          "data": {
            "text/plain": [
              "Pipeline(steps=[('vect', CountVectorizer(ngram_range=(1, 2))),\n",
              "                ('tfidf', TfidfTransformer()),\n",
              "                ('clf',\n",
              "                 SGDClassifier(alpha=0.001, max_iter=5, random_state=42,\n",
              "                               tol=None))])"
            ]
          },
          "execution_count": 110,
          "metadata": {},
          "output_type": "execute_result"
        }
      ],
      "source": [
        "from sklearn.linear_model import SGDClassifier\n",
        "\n",
        "sgd = Pipeline([('vect', CountVectorizer(ngram_range=(1, 2))),\n",
        "                ('tfidf', TfidfTransformer()),\n",
        "                ('clf', SGDClassifier(loss='hinge', penalty='l2',alpha=1e-3, random_state=42, max_iter=5, tol=None)),\n",
        "               ])\n",
        "sgd.fit(X_train, y_train)"
      ]
    },
    {
      "cell_type": "code",
      "execution_count": null,
      "metadata": {
        "colab": {
          "base_uri": "https://localhost:8080/"
        },
        "id": "DZnkd2XSB5_3",
        "outputId": "b7838c3d-fe93-4c99-ae36-a795fa51b7d8"
      },
      "outputs": [
        {
          "name": "stdout",
          "output_type": "stream",
          "text": [
            "CPU times: user 215 ms, sys: 68.6 ms, total: 283 ms\n",
            "Wall time: 217 ms\n"
          ]
        }
      ],
      "source": [
        "%%time\n",
        "y_pred = sgd.predict(X_test)"
      ]
    },
    {
      "cell_type": "code",
      "execution_count": null,
      "metadata": {
        "colab": {
          "base_uri": "https://localhost:8080/"
        },
        "id": "MepbVnbqB5_3",
        "outputId": "780ae907-2ce5-498a-af13-793f11932cba"
      },
      "outputs": [
        {
          "name": "stdout",
          "output_type": "stream",
          "text": [
            "accuracy 0.6835443037974683\n",
            "                    precision    recall  f1-score   support\n",
            "\n",
            "            Others       0.76      0.65      0.70       184\n",
            " Economic Activity       0.66      0.98      0.79       258\n",
            "   First Amendment       0.67      0.71      0.69       161\n",
            "Criminal Procedure       0.73      0.72      0.72        96\n",
            "      Civil Rights       0.60      0.19      0.29       111\n",
            "    Judicial Power       0.65      0.51      0.57       138\n",
            "\n",
            "          accuracy                           0.68       948\n",
            "         macro avg       0.68      0.63      0.63       948\n",
            "      weighted avg       0.68      0.68      0.66       948\n",
            "\n"
          ]
        }
      ],
      "source": [
        "print('accuracy %s' % accuracy_score(y_pred, y_test))\n",
        "print(classification_report(y_test, y_pred,target_names=my_issue_area))"
      ]
    },
    {
      "cell_type": "code",
      "execution_count": null,
      "metadata": {
        "colab": {
          "base_uri": "https://localhost:8080/"
        },
        "id": "aqz7ZSmgB5_3",
        "outputId": "b253f3ff-1e45-4adf-b56a-9ed18e3baf88"
      },
      "outputs": [
        {
          "data": {
            "text/plain": [
              "Pipeline(steps=[('vect', CountVectorizer(ngram_range=(1, 2))),\n",
              "                ('tfidf', TfidfTransformer()),\n",
              "                ('clf',\n",
              "                 LogisticRegression(C=100000.0, max_iter=100000, n_jobs=1))])"
            ]
          },
          "execution_count": 113,
          "metadata": {},
          "output_type": "execute_result"
        }
      ],
      "source": [
        "from sklearn.linear_model import LogisticRegression\n",
        "\n",
        "logreg = Pipeline([('vect', CountVectorizer(ngram_range=(1, 2))),\n",
        "                ('tfidf', TfidfTransformer()),\n",
        "                ('clf', LogisticRegression(n_jobs=1, C=1e5, solver='lbfgs', max_iter=100000)),\n",
        "               ])\n",
        "logreg.fit(X_train, y_train)"
      ]
    },
    {
      "cell_type": "code",
      "execution_count": null,
      "metadata": {
        "colab": {
          "base_uri": "https://localhost:8080/"
        },
        "id": "qHg15EwKB5_4",
        "outputId": "16c35692-689c-413a-c7e0-1996b0a67898"
      },
      "outputs": [
        {
          "name": "stdout",
          "output_type": "stream",
          "text": [
            "CPU times: user 165 ms, sys: 15.7 ms, total: 180 ms\n",
            "Wall time: 167 ms\n"
          ]
        }
      ],
      "source": [
        "%%time\n",
        "y_pred = logreg.predict(X_test)"
      ]
    },
    {
      "cell_type": "code",
      "execution_count": null,
      "metadata": {
        "colab": {
          "base_uri": "https://localhost:8080/"
        },
        "id": "3vt5pGr_B5_4",
        "outputId": "3e78c62f-337f-4953-bbc4-0822de1d25ab"
      },
      "outputs": [
        {
          "name": "stdout",
          "output_type": "stream",
          "text": [
            "accuracy 0.7046413502109705\n",
            "                    precision    recall  f1-score   support\n",
            "\n",
            "            Others       0.74      0.68      0.71       184\n",
            " Economic Activity       0.75      0.94      0.83       258\n",
            "   First Amendment       0.68      0.71      0.70       161\n",
            "Criminal Procedure       0.70      0.76      0.73        96\n",
            "      Civil Rights       0.55      0.29      0.38       111\n",
            "    Judicial Power       0.65      0.59      0.62       138\n",
            "\n",
            "          accuracy                           0.70       948\n",
            "         macro avg       0.68      0.66      0.66       948\n",
            "      weighted avg       0.69      0.70      0.69       948\n",
            "\n"
          ]
        }
      ],
      "source": [
        "print('accuracy %s' % accuracy_score(y_pred, y_test))\n",
        "print(classification_report(y_test, y_pred,target_names=my_issue_area))"
      ]
    },
    {
      "cell_type": "code",
      "execution_count": null,
      "metadata": {
        "colab": {
          "base_uri": "https://localhost:8080/"
        },
        "id": "2B8BdAoaB5_4",
        "outputId": "a14cf070-a77e-4fc8-a850-17985bd1d84f"
      },
      "outputs": [
        {
          "data": {
            "text/plain": [
              "Pipeline(steps=[('vect', CountVectorizer(ngram_range=(1, 2))),\n",
              "                ('tfidf', TfidfTransformer()),\n",
              "                ('clf',\n",
              "                 RandomForestClassifier(max_depth=10, n_estimators=10,\n",
              "                                        random_state=10))])"
            ]
          },
          "execution_count": 116,
          "metadata": {},
          "output_type": "execute_result"
        }
      ],
      "source": [
        "from sklearn.ensemble import RandomForestClassifier\n",
        "\n",
        "randfor = Pipeline([('vect', CountVectorizer(ngram_range=(1, 2))),\n",
        "                ('tfidf', TfidfTransformer()),\n",
        "                ('clf', RandomForestClassifier(n_estimators= 10, max_depth=10, random_state=10)),\n",
        "               ])\n",
        "randfor.fit(X_train, y_train)"
      ]
    },
    {
      "cell_type": "code",
      "execution_count": null,
      "metadata": {
        "colab": {
          "base_uri": "https://localhost:8080/"
        },
        "id": "bmz74Sc_B5_4",
        "outputId": "dd475f19-207c-4f2f-9b20-3ecc1a46a38b"
      },
      "outputs": [
        {
          "name": "stdout",
          "output_type": "stream",
          "text": [
            "CPU times: user 176 ms, sys: 3.97 ms, total: 180 ms\n",
            "Wall time: 182 ms\n"
          ]
        }
      ],
      "source": [
        "%%time\n",
        "y_pred = randfor.predict(X_test)"
      ]
    },
    {
      "cell_type": "code",
      "execution_count": null,
      "metadata": {
        "colab": {
          "base_uri": "https://localhost:8080/"
        },
        "id": "Q9qZ7_ZQB5_4",
        "outputId": "65d3c35e-3108-4049-93a5-6962cb8a7efc"
      },
      "outputs": [
        {
          "name": "stdout",
          "output_type": "stream",
          "text": [
            "accuracy 0.4208860759493671\n",
            "                    precision    recall  f1-score   support\n",
            "\n",
            "            Others       0.55      0.32      0.40       184\n",
            " Economic Activity       0.39      0.98      0.56       258\n",
            "   First Amendment       0.43      0.35      0.39       161\n",
            "Criminal Procedure       0.75      0.16      0.26        96\n",
            "      Civil Rights       0.57      0.04      0.07       111\n",
            "    Judicial Power       0.34      0.08      0.13       138\n",
            "\n",
            "          accuracy                           0.42       948\n",
            "         macro avg       0.51      0.32      0.30       948\n",
            "      weighted avg       0.48      0.42      0.35       948\n",
            "\n"
          ]
        }
      ],
      "source": [
        "print('accuracy %s' % accuracy_score(y_pred, y_test))\n",
        "print(classification_report(y_test, y_pred,target_names=my_issue_area))"
      ]
    },
    {
      "cell_type": "code",
      "execution_count": null,
      "metadata": {
        "colab": {
          "base_uri": "https://localhost:8080/"
        },
        "id": "G9moBGv-B5_4",
        "outputId": "cc4b21a0-b73e-4516-c3a8-307a6cb3d02c"
      },
      "outputs": [
        {
          "data": {
            "text/plain": [
              "Pipeline(steps=[('vect', CountVectorizer(ngram_range=(1, 2))),\n",
              "                ('tfidf', TfidfTransformer()),\n",
              "                ('clf',\n",
              "                 GradientBoostingClassifier(max_depth=10, n_estimators=10,\n",
              "                                            random_state=10))])"
            ]
          },
          "execution_count": 119,
          "metadata": {},
          "output_type": "execute_result"
        }
      ],
      "source": [
        "from sklearn.ensemble import GradientBoostingClassifier\n",
        "graboos = Pipeline([('vect', CountVectorizer(ngram_range=(1, 2))),\n",
        "                ('tfidf', TfidfTransformer()),\n",
        "                ('clf', GradientBoostingClassifier(n_estimators=10, max_depth=10, random_state=10)),\n",
        "               ])\n",
        "graboos.fit(X_train, y_train)"
      ]
    },
    {
      "cell_type": "code",
      "execution_count": null,
      "metadata": {
        "colab": {
          "base_uri": "https://localhost:8080/"
        },
        "id": "B4_A3RXdB5_4",
        "outputId": "39b4905c-d100-41e9-8355-304736c36e62"
      },
      "outputs": [
        {
          "name": "stdout",
          "output_type": "stream",
          "text": [
            "CPU times: user 174 ms, sys: 147 µs, total: 174 ms\n",
            "Wall time: 175 ms\n"
          ]
        }
      ],
      "source": [
        "%%time\n",
        "y_pred = graboos.predict(X_test)"
      ]
    },
    {
      "cell_type": "code",
      "execution_count": null,
      "metadata": {
        "colab": {
          "base_uri": "https://localhost:8080/"
        },
        "id": "A2uIQ6LIB5_4",
        "outputId": "919b4e9f-19b1-4931-e63c-04cedc2f7e2b"
      },
      "outputs": [
        {
          "name": "stdout",
          "output_type": "stream",
          "text": [
            "accuracy 0.6054852320675106\n",
            "                    precision    recall  f1-score   support\n",
            "\n",
            "            Others       0.64      0.55      0.59       184\n",
            " Economic Activity       0.70      0.87      0.77       258\n",
            "   First Amendment       0.60      0.57      0.59       161\n",
            "Criminal Procedure       0.65      0.57      0.61        96\n",
            "      Civil Rights       0.53      0.27      0.36       111\n",
            "    Judicial Power       0.41      0.52      0.46       138\n",
            "\n",
            "          accuracy                           0.61       948\n",
            "         macro avg       0.59      0.56      0.56       948\n",
            "      weighted avg       0.60      0.61      0.60       948\n",
            "\n"
          ]
        }
      ],
      "source": [
        "print('accuracy %s' % accuracy_score(y_pred, y_test))\n",
        "print(classification_report(y_test, y_pred,target_names=my_issue_area))"
      ]
    },
    {
      "cell_type": "code",
      "execution_count": null,
      "metadata": {
        "colab": {
          "base_uri": "https://localhost:8080/"
        },
        "id": "UvM_a89gB5_5",
        "outputId": "871bcdc1-43d5-46cd-948b-d9efbbbfba05"
      },
      "outputs": [
        {
          "data": {
            "text/plain": [
              "LabelEncoder()"
            ]
          },
          "execution_count": 122,
          "metadata": {},
          "output_type": "execute_result"
        }
      ],
      "source": [
        "from sklearn import preprocessing\n",
        "le = preprocessing.LabelEncoder()\n",
        "le.fit(y_train)"
      ]
    },
    {
      "cell_type": "code",
      "execution_count": null,
      "metadata": {
        "id": "BYWD08u9B5_5"
      },
      "outputs": [],
      "source": [
        "y_train = le.transform(y_train)\n",
        "y_test = le.transform(y_test)"
      ]
    },
    {
      "cell_type": "code",
      "execution_count": null,
      "metadata": {
        "colab": {
          "base_uri": "https://localhost:8080/"
        },
        "id": "o2nkCEsJB5_5",
        "outputId": "5da63aa8-14df-4bba-9586-1f8360d19046"
      },
      "outputs": [
        {
          "data": {
            "text/plain": [
              "Pipeline(steps=[('vect', CountVectorizer(ngram_range=(1, 2))),\n",
              "                ('tfidf', TfidfTransformer()),\n",
              "                ('clf', XGBClassifier(objective='multi:softprob'))])"
            ]
          },
          "execution_count": 124,
          "metadata": {},
          "output_type": "execute_result"
        }
      ],
      "source": [
        "import xgboost as xgb\n",
        "\n",
        "xgboo = Pipeline([('vect', CountVectorizer(ngram_range=(1, 2))),\n",
        "                ('tfidf', TfidfTransformer()),\n",
        "                ('clf', xgb.XGBClassifier()),\n",
        "               ])\n",
        "xgboo.fit(X_train, y_train)"
      ]
    },
    {
      "cell_type": "code",
      "execution_count": null,
      "metadata": {
        "colab": {
          "base_uri": "https://localhost:8080/"
        },
        "id": "y_AHa5GpB5_5",
        "outputId": "641e2218-82d6-426b-b2ea-d36b9c03e447"
      },
      "outputs": [
        {
          "name": "stdout",
          "output_type": "stream",
          "text": [
            "CPU times: user 272 ms, sys: 4.83 ms, total: 277 ms\n",
            "Wall time: 276 ms\n"
          ]
        }
      ],
      "source": [
        "%%time\n",
        "y_pred = xgboo.predict(X_test)"
      ]
    },
    {
      "cell_type": "code",
      "execution_count": null,
      "metadata": {
        "colab": {
          "base_uri": "https://localhost:8080/"
        },
        "id": "P0u4uJC1B5_5",
        "outputId": "9ce3029a-c35e-47e4-feab-b0504e9089b4"
      },
      "outputs": [
        {
          "name": "stdout",
          "output_type": "stream",
          "text": [
            "accuracy 0.6244725738396625\n",
            "                    precision    recall  f1-score   support\n",
            "\n",
            "            Others       0.64      0.55      0.59       184\n",
            " Economic Activity       0.73      0.91      0.81       258\n",
            "   First Amendment       0.62      0.58      0.60       161\n",
            "Criminal Procedure       0.67      0.65      0.66        96\n",
            "      Civil Rights       0.47      0.29      0.36       111\n",
            "    Judicial Power       0.44      0.50      0.47       138\n",
            "\n",
            "          accuracy                           0.62       948\n",
            "         macro avg       0.59      0.58      0.58       948\n",
            "      weighted avg       0.62      0.62      0.61       948\n",
            "\n"
          ]
        }
      ],
      "source": [
        "print('accuracy %s' % accuracy_score(y_pred, y_test))\n",
        "print(classification_report(y_test, y_pred,target_names=my_issue_area))"
      ]
    },
    {
      "cell_type": "code",
      "execution_count": null,
      "metadata": {
        "colab": {
          "base_uri": "https://localhost:8080/"
        },
        "id": "GUUvUiqmsbRG",
        "outputId": "b1e49c3d-19a6-47dc-f99c-7148d95861c0"
      },
      "outputs": [
        {
          "data": {
            "text/plain": [
              "Pipeline(steps=[('vect', CountVectorizer(ngram_range=(1, 2))),\n",
              "                ('tfidf', TfidfTransformer()),\n",
              "                ('clf', KNeighborsClassifier(n_neighbors=3))])"
            ]
          },
          "execution_count": 127,
          "metadata": {},
          "output_type": "execute_result"
        }
      ],
      "source": [
        "kn = Pipeline([('vect', CountVectorizer(ngram_range=(1, 2))),\n",
        "                ('tfidf', TfidfTransformer()),\n",
        "                ('clf', KNeighborsClassifier(n_neighbors=3)),\n",
        "               ])\n",
        "kn.fit(X_train, y_train)"
      ]
    },
    {
      "cell_type": "code",
      "execution_count": null,
      "metadata": {
        "colab": {
          "base_uri": "https://localhost:8080/"
        },
        "id": "6nt-ZVlksbNm",
        "outputId": "16ac4ab2-f6aa-463b-c880-a3f2a6f162b2"
      },
      "outputs": [
        {
          "name": "stdout",
          "output_type": "stream",
          "text": [
            "CPU times: user 315 ms, sys: 2.35 ms, total: 318 ms\n",
            "Wall time: 322 ms\n"
          ]
        }
      ],
      "source": [
        "%%time\n",
        "y_pred = kn.predict(X_test)"
      ]
    },
    {
      "cell_type": "code",
      "execution_count": null,
      "metadata": {
        "colab": {
          "base_uri": "https://localhost:8080/"
        },
        "id": "1BtIsIVYsz7U",
        "outputId": "19808e0d-3e0c-4ded-8dd0-557b38bdb08c"
      },
      "outputs": [
        {
          "name": "stdout",
          "output_type": "stream",
          "text": [
            "accuracy 0.5780590717299579\n",
            "                    precision    recall  f1-score   support\n",
            "\n",
            "            Others       0.47      0.66      0.55       184\n",
            " Economic Activity       0.67      0.80      0.73       258\n",
            "   First Amendment       0.59      0.60      0.60       161\n",
            "Criminal Procedure       0.66      0.50      0.57        96\n",
            "      Civil Rights       0.45      0.18      0.26       111\n",
            "    Judicial Power       0.54      0.41      0.46       138\n",
            "\n",
            "          accuracy                           0.58       948\n",
            "         macro avg       0.56      0.52      0.53       948\n",
            "      weighted avg       0.57      0.58      0.56       948\n",
            "\n"
          ]
        }
      ],
      "source": [
        "from sklearn.metrics import classification_report\n",
        "print('accuracy %s' % accuracy_score(y_pred, y_test))\n",
        "print(classification_report(y_test, y_pred,target_names=my_issue_area))"
      ]
    },
    {
      "cell_type": "markdown",
      "metadata": {
        "id": "_3171OypB5_5"
      },
      "source": [
        "# Word2Vec"
      ]
    },
    {
      "cell_type": "code",
      "execution_count": null,
      "metadata": {
        "id": "JXxMVktmB5_5"
      },
      "outputs": [],
      "source": [
        "pip install --upgrade tensorflow-hub"
      ]
    },
    {
      "cell_type": "code",
      "execution_count": null,
      "metadata": {
        "id": "zeMUToTAGVyV"
      },
      "outputs": [],
      "source": [
        "pip install tensorflow_text"
      ]
    },
    {
      "cell_type": "code",
      "execution_count": null,
      "metadata": {
        "id": "arbPVEJWB5_5"
      },
      "outputs": [],
      "source": [
        "import tensorflow as tf\n",
        "import tensorflow_hub as hub\n",
        "import tensorflow_text as text"
      ]
    },
    {
      "cell_type": "code",
      "execution_count": null,
      "metadata": {
        "id": "yfRCmuhHB5_6"
      },
      "outputs": [],
      "source": [
        "bert_preprocess = hub.KerasLayer(\"https://tfhub.dev/tensorflow/bert_en_uncased_preprocess/3\")\n",
        "bert_encoder = hub.KerasLayer(\"https://tfhub.dev/tensorflow/bert_en_uncased_L-12_H-768_A-12/4\")"
      ]
    },
    {
      "cell_type": "code",
      "execution_count": null,
      "metadata": {
        "id": "8sTK5oOIB5_6"
      },
      "outputs": [],
      "source": [
        "X_train, X_test, y_train, y_test = train_test_split(df_withoutNA[\"facts\"],df_withoutNA[\"issue_area\"],test_size=0.2,shuffle=True)"
      ]
    },
    {
      "cell_type": "code",
      "execution_count": null,
      "metadata": {
        "colab": {
          "base_uri": "https://localhost:8080/"
        },
        "id": "nIAc9ayzKE1N",
        "outputId": "dc2f554a-85d1-4cc2-95b3-379a0e98cc56"
      },
      "outputs": [
        {
          "data": {
            "text/plain": [
              "LabelEncoder()"
            ]
          },
          "execution_count": 176,
          "metadata": {},
          "output_type": "execute_result"
        }
      ],
      "source": [
        "from sklearn import preprocessing\n",
        "le = preprocessing.LabelEncoder()\n",
        "le.fit(y_train)"
      ]
    },
    {
      "cell_type": "code",
      "execution_count": null,
      "metadata": {
        "id": "pugZVm-TKF_8"
      },
      "outputs": [],
      "source": [
        "y_train = le.transform(y_train)\n",
        "y_test = le.transform(y_test)"
      ]
    },
    {
      "cell_type": "code",
      "execution_count": null,
      "metadata": {
        "id": "XP_j2PgHB5_6"
      },
      "outputs": [],
      "source": [
        "# Bert layers\n",
        "text_input = tf.keras.layers.Input(shape=(), dtype=tf.string, name='text')\n",
        "preprocessed_text = bert_preprocess(text_input)\n",
        "outputs = bert_encoder(preprocessed_text)\n",
        "# Neural network layers\n",
        "l = tf.keras.layers.Dropout(0.1, name=\"dropout\")(outputs['pooled_output'])\n",
        "l = tf.keras.layers.Dense(1, activation='sigmoid', name=\"output\")(l)\n",
        "# Use inputs and outputs to construct a final model\n",
        "model = tf.keras.Model(inputs=[text_input], outputs = [l])"
      ]
    },
    {
      "cell_type": "code",
      "execution_count": null,
      "metadata": {
        "colab": {
          "base_uri": "https://localhost:8080/"
        },
        "id": "De2JHmL-JTCO",
        "outputId": "4a02a4e4-f9ec-4bd9-9372-9d06cb617f9a"
      },
      "outputs": [
        {
          "name": "stdout",
          "output_type": "stream",
          "text": [
            "Epoch 1/2\n",
            "79/79 [==============================] - 1090s 13s/step - loss: -13.0583 - accuracy: 0.2731\n",
            "Epoch 2/2\n",
            "79/79 [==============================] - 1056s 13s/step - loss: -40.5781 - accuracy: 0.2762\n"
          ]
        },
        {
          "data": {
            "text/plain": [
              "<keras.callbacks.History at 0x7f86edbadb80>"
            ]
          },
          "execution_count": 179,
          "metadata": {},
          "output_type": "execute_result"
        }
      ],
      "source": [
        "model.compile(optimizer='adam', loss='binary_crossentropy', metrics=['accuracy'])\n",
        "model.fit(X_train, y_train, epochs=2, batch_size = 32)"
      ]
    },
    {
      "cell_type": "code",
      "execution_count": null,
      "metadata": {
        "colab": {
          "base_uri": "https://localhost:8080/"
        },
        "id": "9B_yqCgtUDn6",
        "outputId": "1c1d200a-79e6-41c9-8118-7d4ca049b209"
      },
      "outputs": [
        {
          "data": {
            "text/plain": [
              "array([1, 3, 2, ..., 0, 1, 3])"
            ]
          },
          "execution_count": 180,
          "metadata": {},
          "output_type": "execute_result"
        }
      ],
      "source": [
        "y_train"
      ]
    },
    {
      "cell_type": "code",
      "execution_count": null,
      "metadata": {
        "colab": {
          "base_uri": "https://localhost:8080/"
        },
        "id": "xc6pD6_0JZeE",
        "outputId": "55d0b4a1-574f-4863-ae02-659bdcc02bd8"
      },
      "outputs": [
        {
          "name": "stdout",
          "output_type": "stream",
          "text": [
            "20/20 [==============================] - 259s 13s/step\n",
            "[1. 1. 1. 1. 1. 1. 1. 1. 1. 1. 1. 1. 1. 1. 1. 1. 1. 1. 1. 1. 1. 1. 1. 1.\n",
            " 1. 1. 1. 1. 1. 1. 1. 1. 1. 1. 1. 1. 1. 1. 1. 1. 1. 1. 1. 1. 1. 1. 1. 1.\n",
            " 1. 1. 1. 1. 1. 1. 1. 1. 1. 1. 1. 1. 1. 1. 1. 1. 1. 1. 1. 1. 1. 1. 1. 1.\n",
            " 1. 1. 1. 1. 1. 1. 1. 1. 1. 1. 1. 1. 1. 1. 1. 1. 1. 1. 1. 1. 1. 1. 1. 1.\n",
            " 1. 1. 1. 1. 1. 1. 1. 1. 1. 1. 1. 1. 1. 1. 1. 1. 1. 1. 1. 1. 1. 1. 1. 1.\n",
            " 1. 1. 1. 1. 1. 1. 1. 1. 1. 1. 1. 1. 1. 1. 1. 1. 1. 1. 1. 1. 1. 1. 1. 1.\n",
            " 1. 1. 1. 1. 1. 1. 1. 1. 1. 1. 1. 1. 1. 1. 1. 1. 1. 1. 1. 1. 1. 1. 1. 1.\n",
            " 1. 1. 1. 1. 1. 1. 1. 1. 1. 1. 1. 1. 1. 1. 1. 1. 1. 1. 1. 1. 1. 1. 1. 1.\n",
            " 1. 1. 1. 1. 1. 1. 1. 1. 1. 1. 1. 1. 1. 1. 1. 1. 1. 1. 1. 1. 1. 1. 1. 1.\n",
            " 1. 1. 1. 1. 1. 1. 1. 1. 1. 1. 1. 1. 1. 1. 1. 1. 1. 1. 1. 1. 1. 1. 1. 1.\n",
            " 1. 1. 1. 1. 1. 1. 1. 1. 1. 1. 1. 1. 1. 1. 1. 1. 1. 1. 1. 1. 1. 1. 1. 1.\n",
            " 1. 1. 1. 1. 1. 1. 1. 1. 1. 1. 1. 1. 1. 1. 1. 1. 1. 1. 1. 1. 1. 1. 1. 1.\n",
            " 1. 1. 1. 1. 1. 1. 1. 1. 1. 1. 1. 1. 1. 1. 1. 1. 1. 1. 1. 1. 1. 1. 1. 1.\n",
            " 1. 1. 1. 1. 1. 1. 1. 1. 1. 1. 1. 1. 1. 1. 1. 1. 1. 1. 1. 1. 1. 1. 1. 1.\n",
            " 1. 1. 1. 1. 1. 1. 1. 1. 1. 1. 1. 1. 1. 1. 1. 1. 1. 1. 1. 1. 1. 1. 1. 1.\n",
            " 1. 1. 1. 1. 1. 1. 1. 1. 1. 1. 1. 1. 1. 1. 1. 1. 1. 1. 1. 1. 1. 1. 1. 1.\n",
            " 1. 1. 1. 1. 1. 1. 1. 1. 1. 1. 1. 1. 1. 1. 1. 1. 1. 1. 1. 1. 1. 1. 1. 1.\n",
            " 1. 1. 1. 1. 1. 1. 1. 1. 1. 1. 1. 1. 1. 1. 1. 1. 1. 1. 1. 1. 1. 1. 1. 1.\n",
            " 1. 1. 1. 1. 1. 1. 1. 1. 1. 1. 1. 1. 1. 1. 1. 1. 1. 1. 1. 1. 1. 1. 1. 1.\n",
            " 1. 1. 1. 1. 1. 1. 1. 1. 1. 1. 1. 1. 1. 1. 1. 1. 1. 1. 1. 1. 1. 1. 1. 1.\n",
            " 1. 1. 1. 1. 1. 1. 1. 1. 1. 1. 1. 1. 1. 1. 1. 1. 1. 1. 1. 1. 1. 1. 1. 1.\n",
            " 1. 1. 1. 1. 1. 1. 1. 1. 1. 1. 1. 1. 1. 1. 1. 1. 1. 1. 1. 1. 1. 1. 1. 1.\n",
            " 1. 1. 1. 1. 1. 1. 1. 1. 1. 1. 1. 1. 1. 1. 1. 1. 1. 1. 1. 1. 1. 1. 1. 1.\n",
            " 1. 1. 1. 1. 1. 1. 1. 1. 1. 1. 1. 1. 1. 1. 1. 1. 1. 1. 1. 1. 1. 1. 1. 1.\n",
            " 1. 1. 1. 1. 1. 1. 1. 1. 1. 1. 1. 1. 1. 1. 1. 1. 1. 1. 1. 1. 1. 1. 1. 1.\n",
            " 1. 1. 1. 1. 1. 1. 1. 1. 1. 1. 1. 1. 1. 1. 1. 1. 1. 1. 1. 1. 1. 1. 1. 1.\n",
            " 1. 1. 1. 1. 1. 1. 1. 1.]\n"
          ]
        }
      ],
      "source": [
        "y_predicted = model.predict(X_test)\n",
        "y_predicted = y_predicted.flatten()\n",
        "print(y_predicted)"
      ]
    },
    {
      "cell_type": "code",
      "execution_count": null,
      "metadata": {
        "colab": {
          "base_uri": "https://localhost:8080/"
        },
        "id": "N4LYXrXhX429",
        "outputId": "a425d560-b151-41ce-d399-0b25c53aa80b"
      },
      "outputs": [
        {
          "name": "stdout",
          "output_type": "stream",
          "text": [
            "accuracy 0.254746835443038\n",
            "                    precision    recall  f1-score   support\n",
            "\n",
            "            Others       0.00      0.00      0.00       113\n",
            "    Judicial Power       0.25      1.00      0.41       161\n",
            "Criminal Procedure       0.00      0.00      0.00       104\n",
            " Economic Activity       0.00      0.00      0.00        70\n",
            "      Civil Rights       0.00      0.00      0.00        69\n",
            "   First Amendment       0.00      0.00      0.00       115\n",
            "\n",
            "          accuracy                           0.25       632\n",
            "         macro avg       0.04      0.17      0.07       632\n",
            "      weighted avg       0.06      0.25      0.10       632\n",
            "\n"
          ]
        },
        {
          "name": "stderr",
          "output_type": "stream",
          "text": [
            "/usr/local/lib/python3.8/dist-packages/sklearn/metrics/_classification.py:1318: UndefinedMetricWarning: Precision and F-score are ill-defined and being set to 0.0 in labels with no predicted samples. Use `zero_division` parameter to control this behavior.\n",
            "  _warn_prf(average, modifier, msg_start, len(result))\n",
            "/usr/local/lib/python3.8/dist-packages/sklearn/metrics/_classification.py:1318: UndefinedMetricWarning: Precision and F-score are ill-defined and being set to 0.0 in labels with no predicted samples. Use `zero_division` parameter to control this behavior.\n",
            "  _warn_prf(average, modifier, msg_start, len(result))\n",
            "/usr/local/lib/python3.8/dist-packages/sklearn/metrics/_classification.py:1318: UndefinedMetricWarning: Precision and F-score are ill-defined and being set to 0.0 in labels with no predicted samples. Use `zero_division` parameter to control this behavior.\n",
            "  _warn_prf(average, modifier, msg_start, len(result))\n"
          ]
        }
      ],
      "source": [
        "print('accuracy %s' % accuracy_score(y_predicted, y_test))\n",
        "print(classification_report(y_test, y_predicted,target_names=my_issue_area))"
      ]
    },
    {
      "cell_type": "markdown",
      "metadata": {
        "id": "9skypSU9fjxV"
      },
      "source": [
        "# Issue Area prediction"
      ]
    },
    {
      "cell_type": "code",
      "execution_count": 246,
      "metadata": {
        "id": "99PffgHGORbf"
      },
      "outputs": [],
      "source": [
        "second_df = pd.read_csv(\"us_classactions_verdicts.csv\")\n",
        "second_df = second_df[[\"target_text\", \"verdict\"]]"
      ]
    },
    {
      "cell_type": "code",
      "execution_count": 247,
      "metadata": {
        "id": "moVtTQoEPcMs"
      },
      "outputs": [],
      "source": [
        "second_df.rename(columns = {'target_text':'facts', 'verdict': 'first_party_winner'}, inplace = True)"
      ]
    },
    {
      "cell_type": "code",
      "execution_count": 248,
      "metadata": {
        "colab": {
          "base_uri": "https://localhost:8080/",
          "height": 143
        },
        "id": "p2y_a8iPP1hp",
        "outputId": "96fa1a61-9ee5-40d9-b0cc-9b2f034d28f0"
      },
      "outputs": [
        {
          "output_type": "execute_result",
          "data": {
            "text/plain": [
              "                                               facts first_party_winner\n",
              "0   Knowing and/or Willful Violation of the Telep...               lose\n",
              "1  17.  Defendants operate an electrical construc...                win\n",
              "2  (Fair Labor Standards Act Violations)   (Viola...                win"
            ],
            "text/html": [
              "\n",
              "  <div id=\"df-deb0f265-94db-48ee-9462-b8a30a5b47bb\">\n",
              "    <div class=\"colab-df-container\">\n",
              "      <div>\n",
              "<style scoped>\n",
              "    .dataframe tbody tr th:only-of-type {\n",
              "        vertical-align: middle;\n",
              "    }\n",
              "\n",
              "    .dataframe tbody tr th {\n",
              "        vertical-align: top;\n",
              "    }\n",
              "\n",
              "    .dataframe thead th {\n",
              "        text-align: right;\n",
              "    }\n",
              "</style>\n",
              "<table border=\"1\" class=\"dataframe\">\n",
              "  <thead>\n",
              "    <tr style=\"text-align: right;\">\n",
              "      <th></th>\n",
              "      <th>facts</th>\n",
              "      <th>first_party_winner</th>\n",
              "    </tr>\n",
              "  </thead>\n",
              "  <tbody>\n",
              "    <tr>\n",
              "      <th>0</th>\n",
              "      <td>Knowing and/or Willful Violation of the Telep...</td>\n",
              "      <td>lose</td>\n",
              "    </tr>\n",
              "    <tr>\n",
              "      <th>1</th>\n",
              "      <td>17.  Defendants operate an electrical construc...</td>\n",
              "      <td>win</td>\n",
              "    </tr>\n",
              "    <tr>\n",
              "      <th>2</th>\n",
              "      <td>(Fair Labor Standards Act Violations)   (Viola...</td>\n",
              "      <td>win</td>\n",
              "    </tr>\n",
              "  </tbody>\n",
              "</table>\n",
              "</div>\n",
              "      <button class=\"colab-df-convert\" onclick=\"convertToInteractive('df-deb0f265-94db-48ee-9462-b8a30a5b47bb')\"\n",
              "              title=\"Convert this dataframe to an interactive table.\"\n",
              "              style=\"display:none;\">\n",
              "        \n",
              "  <svg xmlns=\"http://www.w3.org/2000/svg\" height=\"24px\"viewBox=\"0 0 24 24\"\n",
              "       width=\"24px\">\n",
              "    <path d=\"M0 0h24v24H0V0z\" fill=\"none\"/>\n",
              "    <path d=\"M18.56 5.44l.94 2.06.94-2.06 2.06-.94-2.06-.94-.94-2.06-.94 2.06-2.06.94zm-11 1L8.5 8.5l.94-2.06 2.06-.94-2.06-.94L8.5 2.5l-.94 2.06-2.06.94zm10 10l.94 2.06.94-2.06 2.06-.94-2.06-.94-.94-2.06-.94 2.06-2.06.94z\"/><path d=\"M17.41 7.96l-1.37-1.37c-.4-.4-.92-.59-1.43-.59-.52 0-1.04.2-1.43.59L10.3 9.45l-7.72 7.72c-.78.78-.78 2.05 0 2.83L4 21.41c.39.39.9.59 1.41.59.51 0 1.02-.2 1.41-.59l7.78-7.78 2.81-2.81c.8-.78.8-2.07 0-2.86zM5.41 20L4 18.59l7.72-7.72 1.47 1.35L5.41 20z\"/>\n",
              "  </svg>\n",
              "      </button>\n",
              "      \n",
              "  <style>\n",
              "    .colab-df-container {\n",
              "      display:flex;\n",
              "      flex-wrap:wrap;\n",
              "      gap: 12px;\n",
              "    }\n",
              "\n",
              "    .colab-df-convert {\n",
              "      background-color: #E8F0FE;\n",
              "      border: none;\n",
              "      border-radius: 50%;\n",
              "      cursor: pointer;\n",
              "      display: none;\n",
              "      fill: #1967D2;\n",
              "      height: 32px;\n",
              "      padding: 0 0 0 0;\n",
              "      width: 32px;\n",
              "    }\n",
              "\n",
              "    .colab-df-convert:hover {\n",
              "      background-color: #E2EBFA;\n",
              "      box-shadow: 0px 1px 2px rgba(60, 64, 67, 0.3), 0px 1px 3px 1px rgba(60, 64, 67, 0.15);\n",
              "      fill: #174EA6;\n",
              "    }\n",
              "\n",
              "    [theme=dark] .colab-df-convert {\n",
              "      background-color: #3B4455;\n",
              "      fill: #D2E3FC;\n",
              "    }\n",
              "\n",
              "    [theme=dark] .colab-df-convert:hover {\n",
              "      background-color: #434B5C;\n",
              "      box-shadow: 0px 1px 3px 1px rgba(0, 0, 0, 0.15);\n",
              "      filter: drop-shadow(0px 1px 2px rgba(0, 0, 0, 0.3));\n",
              "      fill: #FFFFFF;\n",
              "    }\n",
              "  </style>\n",
              "\n",
              "      <script>\n",
              "        const buttonEl =\n",
              "          document.querySelector('#df-deb0f265-94db-48ee-9462-b8a30a5b47bb button.colab-df-convert');\n",
              "        buttonEl.style.display =\n",
              "          google.colab.kernel.accessAllowed ? 'block' : 'none';\n",
              "\n",
              "        async function convertToInteractive(key) {\n",
              "          const element = document.querySelector('#df-deb0f265-94db-48ee-9462-b8a30a5b47bb');\n",
              "          const dataTable =\n",
              "            await google.colab.kernel.invokeFunction('convertToInteractive',\n",
              "                                                     [key], {});\n",
              "          if (!dataTable) return;\n",
              "\n",
              "          const docLinkHtml = 'Like what you see? Visit the ' +\n",
              "            '<a target=\"_blank\" href=https://colab.research.google.com/notebooks/data_table.ipynb>data table notebook</a>'\n",
              "            + ' to learn more about interactive tables.';\n",
              "          element.innerHTML = '';\n",
              "          dataTable['output_type'] = 'display_data';\n",
              "          await google.colab.output.renderOutput(dataTable, element);\n",
              "          const docLink = document.createElement('div');\n",
              "          docLink.innerHTML = docLinkHtml;\n",
              "          element.appendChild(docLink);\n",
              "        }\n",
              "      </script>\n",
              "    </div>\n",
              "  </div>\n",
              "  "
            ]
          },
          "metadata": {},
          "execution_count": 248
        }
      ],
      "source": [
        "second_df.head(3)"
      ]
    },
    {
      "cell_type": "code",
      "source": [
        "len(second_df)"
      ],
      "metadata": {
        "colab": {
          "base_uri": "https://localhost:8080/"
        },
        "id": "3yVqw4GO8WIo",
        "outputId": "7a656c60-36cd-46c6-aa43-8042fed25e74"
      },
      "execution_count": 249,
      "outputs": [
        {
          "output_type": "execute_result",
          "data": {
            "text/plain": [
              "3000"
            ]
          },
          "metadata": {},
          "execution_count": 249
        }
      ]
    },
    {
      "cell_type": "code",
      "source": [
        "second_df.isna().sum()"
      ],
      "metadata": {
        "colab": {
          "base_uri": "https://localhost:8080/"
        },
        "id": "A6y4kC4m8f03",
        "outputId": "c6372ad3-d99c-4dec-d672-bdcd4e61385e"
      },
      "execution_count": 250,
      "outputs": [
        {
          "output_type": "execute_result",
          "data": {
            "text/plain": [
              "facts                 4\n",
              "first_party_winner    0\n",
              "dtype: int64"
            ]
          },
          "metadata": {},
          "execution_count": 250
        }
      ]
    },
    {
      "cell_type": "code",
      "source": [
        "second_df.dropna(inplace = True)"
      ],
      "metadata": {
        "id": "WU_radlgcWeF"
      },
      "execution_count": 251,
      "outputs": []
    },
    {
      "cell_type": "code",
      "source": [
        "second_df.isna().sum()"
      ],
      "metadata": {
        "colab": {
          "base_uri": "https://localhost:8080/"
        },
        "id": "jAAt5pVlcoHX",
        "outputId": "d82cf9d4-d9e7-45b6-9838-b7b3bbdce1ce"
      },
      "execution_count": 252,
      "outputs": [
        {
          "output_type": "execute_result",
          "data": {
            "text/plain": [
              "facts                 0\n",
              "first_party_winner    0\n",
              "dtype: int64"
            ]
          },
          "metadata": {},
          "execution_count": 252
        }
      ]
    },
    {
      "cell_type": "code",
      "execution_count": 253,
      "metadata": {
        "id": "gZXgMXMtQdAZ"
      },
      "outputs": [],
      "source": [
        "from sklearn import preprocessing\n",
        "le = preprocessing.LabelEncoder()"
      ]
    },
    {
      "cell_type": "code",
      "execution_count": 254,
      "metadata": {
        "colab": {
          "base_uri": "https://localhost:8080/"
        },
        "id": "xWUSeHldROex",
        "outputId": "bd25c87d-ce07-4048-dd77-bd5a6100c8df"
      },
      "outputs": [
        {
          "output_type": "execute_result",
          "data": {
            "text/plain": [
              "LabelEncoder()"
            ]
          },
          "metadata": {},
          "execution_count": 254
        }
      ],
      "source": [
        "le.fit(second_df[\"first_party_winner\"])"
      ]
    },
    {
      "cell_type": "code",
      "execution_count": 255,
      "metadata": {
        "id": "kyIiHdaUQqCX"
      },
      "outputs": [],
      "source": [
        "second_df[\"first_party_winner\"] = le.transform(second_df[\"first_party_winner\"])"
      ]
    },
    {
      "cell_type": "code",
      "execution_count": 256,
      "metadata": {
        "id": "IDHrquo1Tj0V"
      },
      "outputs": [],
      "source": [
        "second_df['facts'] = second_df['facts'].map(lambda x: clean_text(x, stemming=False, lemmatization = True))\n",
        "df_withNA['facts'] = df_withNA['facts'].map(lambda x: clean_text(x, stemming=False, lemmatization = True))"
      ]
    },
    {
      "cell_type": "code",
      "source": [
        "words_set = set()\n",
        " \n",
        "for doc in second_df[\"facts\"]:\n",
        "  worddoc = doc.split()\n",
        "  for word in worddoc:\n",
        "    if word not in words_set:\n",
        "      words_set.add(word)\n",
        "     \n",
        "print('Number of words in the corpus:',len(words_set))"
      ],
      "metadata": {
        "colab": {
          "base_uri": "https://localhost:8080/"
        },
        "id": "7Mi8o2DT3j_b",
        "outputId": "27acce0c-6a59-4e01-8306-f5e154f3ee7e"
      },
      "execution_count": 257,
      "outputs": [
        {
          "output_type": "stream",
          "name": "stdout",
          "text": [
            "Number of words in the corpus: 24684\n"
          ]
        }
      ]
    },
    {
      "cell_type": "code",
      "source": [
        "words_set = set()\n",
        " \n",
        "for doc in df_withoutNA[\"facts\"]:\n",
        "  worddoc = doc.split()\n",
        "  for word in worddoc:\n",
        "    if word not in words_set:\n",
        "      words_set.add(word)\n",
        "     \n",
        "print('Number of words in the corpus:',len(words_set))"
      ],
      "metadata": {
        "colab": {
          "base_uri": "https://localhost:8080/"
        },
        "id": "8fRExfDg4pfA",
        "outputId": "7fea466b-444d-4d69-c491-e58ede112c9f"
      },
      "execution_count": 258,
      "outputs": [
        {
          "output_type": "stream",
          "name": "stdout",
          "text": [
            "Number of words in the corpus: 15335\n"
          ]
        }
      ]
    },
    {
      "cell_type": "code",
      "source": [
        "from locale import textdomain\n",
        "def deleteWordsNotInFirstDataset(text):\n",
        "    text = ' '.join(word for word in text.split() if word in words_set) # delete stopwors from text\n",
        "    return text"
      ],
      "metadata": {
        "id": "lMvwflg75Ybd"
      },
      "execution_count": 259,
      "outputs": []
    },
    {
      "cell_type": "code",
      "source": [
        "second_df['facts'] = second_df['facts'].map(lambda x: deleteWordsNotInFirstDataset(x))"
      ],
      "metadata": {
        "id": "AbIkfhQL6Kca"
      },
      "execution_count": 260,
      "outputs": []
    },
    {
      "cell_type": "code",
      "source": [
        "words_set = set()\n",
        " \n",
        "for doc in second_df[\"facts\"]:\n",
        "  worddoc = doc.split()\n",
        "  for word in worddoc:\n",
        "    if word not in words_set:\n",
        "      words_set.add(word)\n",
        "     \n",
        "print('Number of words in the corpus:',len(words_set))"
      ],
      "metadata": {
        "colab": {
          "base_uri": "https://localhost:8080/"
        },
        "id": "UqfMR5MN6S_y",
        "outputId": "77b8d643-2ff5-4a25-ad37-aa7378905124"
      },
      "execution_count": 261,
      "outputs": [
        {
          "output_type": "stream",
          "name": "stdout",
          "text": [
            "Number of words in the corpus: 9045\n"
          ]
        }
      ]
    },
    {
      "cell_type": "code",
      "source": [
        "words = []\n",
        "freqOfWords = []\n",
        "\n",
        "for doc in second_df[\"facts\"]:\n",
        "  worddoc = doc.split()\n",
        "  for word in worddoc:\n",
        "    if word not in words:\n",
        "      words.append(word)\n",
        "      freqOfWords.append(1)\n",
        "    else:\n",
        "      idx = words.index(word)\n",
        "      freqOfWords[idx] = freqOfWords[idx] + 1"
      ],
      "metadata": {
        "id": "i9QYC-tvanfg"
      },
      "execution_count": 262,
      "outputs": []
    },
    {
      "cell_type": "code",
      "source": [
        "d = {'words': words, 'frequency': freqOfWords}\n",
        "freqWordDf = pd.DataFrame(data=d)\n",
        "freqWordDf = freqWordDf.sort_values(by=['frequency'])"
      ],
      "metadata": {
        "id": "5vN1YM-AauH5"
      },
      "execution_count": 263,
      "outputs": []
    },
    {
      "cell_type": "code",
      "source": [
        "plt.bar(freqWordDf.tail(15)[\"words\"], freqWordDf.tail(15)[\"frequency\"])\n",
        "plt.xticks(freqWordDf.tail(15)[\"words\"])\n",
        "plt.title(\"Most 15 frequent words\")\n",
        "plt.ylabel('Frequency of the word')\n",
        "plt.xticks(rotation = 90) \n",
        "plt.savefig(\"MostFrequentWordsInTheSecondDataset.png\", dpi=1200)\n",
        "plt.show()"
      ],
      "metadata": {
        "colab": {
          "base_uri": "https://localhost:8080/",
          "height": 261
        },
        "id": "ZWz9e4LMa0ls",
        "outputId": "d7db4ceb-7dad-4587-d5c5-cac361722f26"
      },
      "execution_count": 264,
      "outputs": [
        {
          "output_type": "display_data",
          "data": {
            "text/plain": [
              "<Figure size 576x252 with 1 Axes>"
            ],
            "image/png": "[encoded data removed]"
          },
          "metadata": {
            "needs_background": "light"
          }
        }
      ]
    },
    {
      "cell_type": "code",
      "source": [
        "second_df.reset_index(drop = True, inplace=True)"
      ],
      "metadata": {
        "id": "OQD0jcU2dSzy"
      },
      "execution_count": 267,
      "outputs": []
    },
    {
      "cell_type": "code",
      "source": [
        "second_df.drop(\"index\", axis = 1, inplace = True)"
      ],
      "metadata": {
        "id": "tpJRKawpde2b"
      },
      "execution_count": 270,
      "outputs": []
    },
    {
      "cell_type": "code",
      "source": [
        "words = []\n",
        "targetVar = []\n",
        "onesList = []\n",
        "for row in range(0, len(second_df[\"facts\"])):\n",
        "  worddoc = second_df[\"facts\"][row].split()\n",
        "  for word in worddoc:\n",
        "    words.append(word)\n",
        "    targetVar.append(second_df[\"first_party_winner\"][row]) \n",
        "    onesList.append(1)"
      ],
      "metadata": {
        "id": "HUnFyHYZa0gG"
      },
      "execution_count": 271,
      "outputs": []
    },
    {
      "cell_type": "code",
      "source": [
        "d = {'words': words, 'first_party_winner': targetVar, \"listOfOnes\": onesList}\n",
        "freqDf = pd.DataFrame(data=d)"
      ],
      "metadata": {
        "id": "caOp73v0auEl"
      },
      "execution_count": 272,
      "outputs": []
    },
    {
      "cell_type": "code",
      "source": [
        "countFreqDf = freqDf.groupby([\"first_party_winner\", \"words\"], as_index=False, sort=True)[\"listOfOnes\"].count()"
      ],
      "metadata": {
        "id": "Ab6475VQauBC"
      },
      "execution_count": 273,
      "outputs": []
    },
    {
      "cell_type": "code",
      "source": [
        "countFreqDfZeros = countFreqDf[countFreqDf['first_party_winner'].isin([0])].sort_values(by=['listOfOnes'])\n",
        "countFreqDfZeros[countFreqDfZeros[\"listOfOnes\"].isin([1])].count()"
      ],
      "metadata": {
        "colab": {
          "base_uri": "https://localhost:8080/"
        },
        "id": "SYMM0pM2bEpi",
        "outputId": "f7d25fb9-9a1c-4e54-c7e2-30e65e4549f6"
      },
      "execution_count": 274,
      "outputs": [
        {
          "output_type": "execute_result",
          "data": {
            "text/plain": [
              "first_party_winner    1251\n",
              "words                 1251\n",
              "listOfOnes            1251\n",
              "dtype: int64"
            ]
          },
          "metadata": {},
          "execution_count": 274
        }
      ]
    },
    {
      "cell_type": "code",
      "source": [
        "countFreqDfOnes = countFreqDf[countFreqDf['first_party_winner'].isin([1])].sort_values(by=['listOfOnes'])\n",
        "countFreqDfOnes[countFreqDfOnes[\"listOfOnes\"].isin([1])].count()"
      ],
      "metadata": {
        "colab": {
          "base_uri": "https://localhost:8080/"
        },
        "id": "MIR7BTv_bHjH",
        "outputId": "2efa699a-17fc-442e-e8d2-9be8489c32b1"
      },
      "execution_count": 275,
      "outputs": [
        {
          "output_type": "execute_result",
          "data": {
            "text/plain": [
              "first_party_winner    1184\n",
              "words                 1184\n",
              "listOfOnes            1184\n",
              "dtype: int64"
            ]
          },
          "metadata": {},
          "execution_count": 275
        }
      ]
    },
    {
      "cell_type": "code",
      "source": [
        "fig, axes = plt.subplots(nrows=1, ncols=2, figsize=(10, 4))\n",
        "\n",
        "axes[0].bar(countFreqDfOnes.tail(15)[\"words\"], countFreqDfOnes.tail(15)[\"listOfOnes\"])\n",
        "axes[0].title.set_text(\"Most 15 frequent words in the cases won\")\n",
        "axes[0].set_xticklabels(countFreqDfOnes.tail(15)[\"words\"], rotation=90)\n",
        "axes[0].set_ylabel('Frequency of the word')\n",
        "\n",
        "axes[1].bar(countFreqDfZeros.tail(15)[\"words\"], countFreqDfZeros.tail(15)[\"listOfOnes\"], color='orange')\n",
        "axes[1].title.set_text(\"Most 15 frequent words in the lost cases\")\n",
        "axes[1].set_xticklabels(countFreqDfZeros.tail(15)[\"words\"], rotation=90)\n",
        "\n",
        "fig.savefig('MostFrequentWordsForEachCategoryFromTheSecondDataset.png', dpi=300)\n",
        "fig.show()"
      ],
      "metadata": {
        "colab": {
          "base_uri": "https://localhost:8080/",
          "height": 297
        },
        "id": "-lIRgmsKbEcw",
        "outputId": "58f33466-088b-4eab-839d-62b50a688c22"
      },
      "execution_count": 276,
      "outputs": [
        {
          "output_type": "display_data",
          "data": {
            "text/plain": [
              "<Figure size 720x288 with 2 Axes>"
            ],
            "image/png": "[encoded data removed]"
          },
          "metadata": {
            "needs_background": "light"
          }
        }
      ]
    },
    {
      "cell_type": "code",
      "execution_count": 277,
      "metadata": {
        "id": "VT-asE9aRmdo"
      },
      "outputs": [],
      "source": [
        "df_withNA = df_withNA[[\"facts\", \"first_party_winner\"]]"
      ]
    },
    {
      "cell_type": "code",
      "execution_count": 278,
      "metadata": {
        "id": "EknOrBxeTAGl"
      },
      "outputs": [],
      "source": [
        "df_toPredict = pd.concat([df_withNA, second_df])\n",
        "df_toPredict = df_toPredict.reset_index(drop=True)"
      ]
    },
    {
      "cell_type": "code",
      "source": [
        "df_toPredict"
      ],
      "metadata": {
        "colab": {
          "base_uri": "https://localhost:8080/",
          "height": 424
        },
        "id": "a26HySw1dv40",
        "outputId": "e8c594e4-f4ce-4241-d061-93b53c464400"
      },
      "execution_count": 280,
      "outputs": [
        {
          "output_type": "execute_result",
          "data": {
            "text/plain": [
              "                                                  facts  first_party_winner\n",
              "0     jane roe fictional name use court document pro...                   1\n",
              "1     wiley bolden residents mobile alabama bring cl...                   1\n",
              "2     county los angeles impose ad valorem tax manuf...                   0\n",
              "3     rincon island artificial island coast ventura ...                   1\n",
              "4     president jimmy carter act without congression...                   0\n",
              "...                                                 ...                 ...\n",
              "3120  fair labor standards act violations violations...                   1\n",
              "3121  guidelines regularly test user accessibility b...                   0\n",
              "3122  action bring class action plaintiff bring acti...                   1\n",
              "3123  discovery may reveal transmission additional f...                   0\n",
              "3124  research develop produce supply sell generic p...                   1\n",
              "\n",
              "[3125 rows x 2 columns]"
            ],
            "text/html": [
              "\n",
              "  <div id=\"df-767f6461-f415-4d1b-a602-39562fbf97ae\">\n",
              "    <div class=\"colab-df-container\">\n",
              "      <div>\n",
              "<style scoped>\n",
              "    .dataframe tbody tr th:only-of-type {\n",
              "        vertical-align: middle;\n",
              "    }\n",
              "\n",
              "    .dataframe tbody tr th {\n",
              "        vertical-align: top;\n",
              "    }\n",
              "\n",
              "    .dataframe thead th {\n",
              "        text-align: right;\n",
              "    }\n",
              "</style>\n",
              "<table border=\"1\" class=\"dataframe\">\n",
              "  <thead>\n",
              "    <tr style=\"text-align: right;\">\n",
              "      <th></th>\n",
              "      <th>facts</th>\n",
              "      <th>first_party_winner</th>\n",
              "    </tr>\n",
              "  </thead>\n",
              "  <tbody>\n",
              "    <tr>\n",
              "      <th>0</th>\n",
              "      <td>jane roe fictional name use court document pro...</td>\n",
              "      <td>1</td>\n",
              "    </tr>\n",
              "    <tr>\n",
              "      <th>1</th>\n",
              "      <td>wiley bolden residents mobile alabama bring cl...</td>\n",
              "      <td>1</td>\n",
              "    </tr>\n",
              "    <tr>\n",
              "      <th>2</th>\n",
              "      <td>county los angeles impose ad valorem tax manuf...</td>\n",
              "      <td>0</td>\n",
              "    </tr>\n",
              "    <tr>\n",
              "      <th>3</th>\n",
              "      <td>rincon island artificial island coast ventura ...</td>\n",
              "      <td>1</td>\n",
              "    </tr>\n",
              "    <tr>\n",
              "      <th>4</th>\n",
              "      <td>president jimmy carter act without congression...</td>\n",
              "      <td>0</td>\n",
              "    </tr>\n",
              "    <tr>\n",
              "      <th>...</th>\n",
              "      <td>...</td>\n",
              "      <td>...</td>\n",
              "    </tr>\n",
              "    <tr>\n",
              "      <th>3120</th>\n",
              "      <td>fair labor standards act violations violations...</td>\n",
              "      <td>1</td>\n",
              "    </tr>\n",
              "    <tr>\n",
              "      <th>3121</th>\n",
              "      <td>guidelines regularly test user accessibility b...</td>\n",
              "      <td>0</td>\n",
              "    </tr>\n",
              "    <tr>\n",
              "      <th>3122</th>\n",
              "      <td>action bring class action plaintiff bring acti...</td>\n",
              "      <td>1</td>\n",
              "    </tr>\n",
              "    <tr>\n",
              "      <th>3123</th>\n",
              "      <td>discovery may reveal transmission additional f...</td>\n",
              "      <td>0</td>\n",
              "    </tr>\n",
              "    <tr>\n",
              "      <th>3124</th>\n",
              "      <td>research develop produce supply sell generic p...</td>\n",
              "      <td>1</td>\n",
              "    </tr>\n",
              "  </tbody>\n",
              "</table>\n",
              "<p>3125 rows × 2 columns</p>\n",
              "</div>\n",
              "      <button class=\"colab-df-convert\" onclick=\"convertToInteractive('df-767f6461-f415-4d1b-a602-39562fbf97ae')\"\n",
              "              title=\"Convert this dataframe to an interactive table.\"\n",
              "              style=\"display:none;\">\n",
              "        \n",
              "  <svg xmlns=\"http://www.w3.org/2000/svg\" height=\"24px\"viewBox=\"0 0 24 24\"\n",
              "       width=\"24px\">\n",
              "    <path d=\"M0 0h24v24H0V0z\" fill=\"none\"/>\n",
              "    <path d=\"M18.56 5.44l.94 2.06.94-2.06 2.06-.94-2.06-.94-.94-2.06-.94 2.06-2.06.94zm-11 1L8.5 8.5l.94-2.06 2.06-.94-2.06-.94L8.5 2.5l-.94 2.06-2.06.94zm10 10l.94 2.06.94-2.06 2.06-.94-2.06-.94-.94-2.06-.94 2.06-2.06.94z\"/><path d=\"M17.41 7.96l-1.37-1.37c-.4-.4-.92-.59-1.43-.59-.52 0-1.04.2-1.43.59L10.3 9.45l-7.72 7.72c-.78.78-.78 2.05 0 2.83L4 21.41c.39.39.9.59 1.41.59.51 0 1.02-.2 1.41-.59l7.78-7.78 2.81-2.81c.8-.78.8-2.07 0-2.86zM5.41 20L4 18.59l7.72-7.72 1.47 1.35L5.41 20z\"/>\n",
              "  </svg>\n",
              "      </button>\n",
              "      \n",
              "  <style>\n",
              "    .colab-df-container {\n",
              "      display:flex;\n",
              "      flex-wrap:wrap;\n",
              "      gap: 12px;\n",
              "    }\n",
              "\n",
              "    .colab-df-convert {\n",
              "      background-color: #E8F0FE;\n",
              "      border: none;\n",
              "      border-radius: 50%;\n",
              "      cursor: pointer;\n",
              "      display: none;\n",
              "      fill: #1967D2;\n",
              "      height: 32px;\n",
              "      padding: 0 0 0 0;\n",
              "      width: 32px;\n",
              "    }\n",
              "\n",
              "    .colab-df-convert:hover {\n",
              "      background-color: #E2EBFA;\n",
              "      box-shadow: 0px 1px 2px rgba(60, 64, 67, 0.3), 0px 1px 3px 1px rgba(60, 64, 67, 0.15);\n",
              "      fill: #174EA6;\n",
              "    }\n",
              "\n",
              "    [theme=dark] .colab-df-convert {\n",
              "      background-color: #3B4455;\n",
              "      fill: #D2E3FC;\n",
              "    }\n",
              "\n",
              "    [theme=dark] .colab-df-convert:hover {\n",
              "      background-color: #434B5C;\n",
              "      box-shadow: 0px 1px 3px 1px rgba(0, 0, 0, 0.15);\n",
              "      filter: drop-shadow(0px 1px 2px rgba(0, 0, 0, 0.3));\n",
              "      fill: #FFFFFF;\n",
              "    }\n",
              "  </style>\n",
              "\n",
              "      <script>\n",
              "        const buttonEl =\n",
              "          document.querySelector('#df-767f6461-f415-4d1b-a602-39562fbf97ae button.colab-df-convert');\n",
              "        buttonEl.style.display =\n",
              "          google.colab.kernel.accessAllowed ? 'block' : 'none';\n",
              "\n",
              "        async function convertToInteractive(key) {\n",
              "          const element = document.querySelector('#df-767f6461-f415-4d1b-a602-39562fbf97ae');\n",
              "          const dataTable =\n",
              "            await google.colab.kernel.invokeFunction('convertToInteractive',\n",
              "                                                     [key], {});\n",
              "          if (!dataTable) return;\n",
              "\n",
              "          const docLinkHtml = 'Like what you see? Visit the ' +\n",
              "            '<a target=\"_blank\" href=https://colab.research.google.com/notebooks/data_table.ipynb>data table notebook</a>'\n",
              "            + ' to learn more about interactive tables.';\n",
              "          element.innerHTML = '';\n",
              "          dataTable['output_type'] = 'display_data';\n",
              "          await google.colab.output.renderOutput(dataTable, element);\n",
              "          const docLink = document.createElement('div');\n",
              "          docLink.innerHTML = docLinkHtml;\n",
              "          element.appendChild(docLink);\n",
              "        }\n",
              "      </script>\n",
              "    </div>\n",
              "  </div>\n",
              "  "
            ]
          },
          "metadata": {},
          "execution_count": 280
        }
      ]
    },
    {
      "cell_type": "code",
      "source": [],
      "metadata": {
        "id": "jZNUHZ2r797S"
      },
      "execution_count": null,
      "outputs": []
    },
    {
      "cell_type": "code",
      "execution_count": 281,
      "metadata": {
        "id": "ySJONMLEUmj8"
      },
      "outputs": [],
      "source": [
        "X = df_withoutNA.facts\n",
        "y = df_withoutNA.issue_area\n",
        "X_train, X_test, y_train, y_test = train_test_split(X, y, test_size=0.2, random_state = 42)"
      ]
    },
    {
      "cell_type": "code",
      "execution_count": 282,
      "metadata": {
        "id": "kbB7FSbmUZbo"
      },
      "outputs": [],
      "source": [
        "from sklearn.linear_model import LogisticRegression\n",
        "from sklearn.pipeline import Pipeline\n",
        "from sklearn.feature_extraction.text import TfidfTransformer\n",
        "\n",
        "logreg = Pipeline([('vect', CountVectorizer(ngram_range=(1, 2))),\n",
        "                ('tfidf', TfidfTransformer()),\n",
        "                ('logistic', LogisticRegression(n_jobs=1, solver='lbfgs', max_iter=100000)),\n",
        "               ])"
      ]
    },
    {
      "cell_type": "code",
      "execution_count": 283,
      "metadata": {
        "colab": {
          "base_uri": "https://localhost:8080/"
        },
        "id": "z1eTk9pKSkro",
        "outputId": "680795e8-9cc1-4b8c-f7ab-0ac367ddca7f"
      },
      "outputs": [
        {
          "output_type": "execute_result",
          "data": {
            "text/plain": [
              "dict_keys(['memory', 'steps', 'verbose', 'vect', 'tfidf', 'logistic', 'vect__analyzer', 'vect__binary', 'vect__decode_error', 'vect__dtype', 'vect__encoding', 'vect__input', 'vect__lowercase', 'vect__max_df', 'vect__max_features', 'vect__min_df', 'vect__ngram_range', 'vect__preprocessor', 'vect__stop_words', 'vect__strip_accents', 'vect__token_pattern', 'vect__tokenizer', 'vect__vocabulary', 'tfidf__norm', 'tfidf__smooth_idf', 'tfidf__sublinear_tf', 'tfidf__use_idf', 'logistic__C', 'logistic__class_weight', 'logistic__dual', 'logistic__fit_intercept', 'logistic__intercept_scaling', 'logistic__l1_ratio', 'logistic__max_iter', 'logistic__multi_class', 'logistic__n_jobs', 'logistic__penalty', 'logistic__random_state', 'logistic__solver', 'logistic__tol', 'logistic__verbose', 'logistic__warm_start'])"
            ]
          },
          "metadata": {},
          "execution_count": 283
        }
      ],
      "source": [
        "logreg.get_params().keys()"
      ]
    },
    {
      "cell_type": "code",
      "execution_count": 284,
      "metadata": {
        "id": "oCmlPGOJAmnb"
      },
      "outputs": [],
      "source": [
        "params={'logistic__C':[1e4, 1e5, 1e6],\n",
        "        'logistic__penalty' : ['none', 'l2']}"
      ]
    },
    {
      "cell_type": "code",
      "execution_count": 156,
      "metadata": {
        "id": "qrnC5IngJ3yp"
      },
      "outputs": [],
      "source": [
        "from sklearn.experimental import enable_halving_search_cv \n",
        "from sklearn.model_selection import HalvingGridSearchCV\n",
        "grid = HalvingGridSearchCV(logreg, cv=5, n_jobs=-1, param_grid=params)"
      ]
    },
    {
      "cell_type": "code",
      "execution_count": 158,
      "metadata": {
        "colab": {
          "base_uri": "https://localhost:8080/"
        },
        "id": "oJ4ZF03fSC7j",
        "outputId": "d2836d7c-92e6-4c95-cefa-6419fdcc4f78"
      },
      "outputs": [
        {
          "output_type": "execute_result",
          "data": {
            "text/plain": [
              "HalvingGridSearchCV(estimator=Pipeline(steps=[('vect',\n",
              "                                               CountVectorizer(ngram_range=(1,\n",
              "                                                                            2))),\n",
              "                                              ('tfidf', TfidfTransformer()),\n",
              "                                              ('logistic',\n",
              "                                               LogisticRegression(max_iter=100000,\n",
              "                                                                  n_jobs=1))]),\n",
              "                    n_jobs=-1,\n",
              "                    param_grid={'logistic__C': [10000.0, 100000.0, 1000000.0],\n",
              "                                'logistic__penalty': ['none', 'l2']})"
            ]
          },
          "metadata": {},
          "execution_count": 158
        }
      ],
      "source": [
        "grid.fit(X_train, y_train)"
      ]
    },
    {
      "cell_type": "code",
      "execution_count": 161,
      "metadata": {
        "colab": {
          "base_uri": "https://localhost:8080/"
        },
        "id": "FuJTa8UfSYzc",
        "outputId": "8968b81c-3f9c-4509-84a8-b80f7e8a9473"
      },
      "outputs": [
        {
          "output_type": "stream",
          "name": "stdout",
          "text": [
            "Best parameter (CV score=0.714):\n"
          ]
        }
      ],
      "source": [
        "print(\"Best parameter (CV score=%0.3f):\" % grid.best_score_)"
      ]
    },
    {
      "cell_type": "code",
      "source": [
        "%%time\n",
        "from sklearn.metrics import classification_report\n",
        "y_pred = grid.predict(X_test)"
      ],
      "metadata": {
        "colab": {
          "base_uri": "https://localhost:8080/"
        },
        "id": "I18QoOdmGdDB",
        "outputId": "0916d2db-1afa-4236-a80d-40bdf2e76f48"
      },
      "execution_count": 162,
      "outputs": [
        {
          "output_type": "stream",
          "name": "stdout",
          "text": [
            "CPU times: user 128 ms, sys: 2.79 ms, total: 131 ms\n",
            "Wall time: 132 ms\n"
          ]
        }
      ]
    },
    {
      "cell_type": "code",
      "execution_count": 163,
      "metadata": {
        "colab": {
          "base_uri": "https://localhost:8080/"
        },
        "id": "2UFcBUECU1p9",
        "outputId": "b01b3787-1b60-4300-ba2f-dfc9d6a8a6d0"
      },
      "outputs": [
        {
          "output_type": "stream",
          "name": "stdout",
          "text": [
            "accuracy 0.7088607594936709\n",
            "                    precision    recall  f1-score   support\n",
            "\n",
            "            Others       0.73      0.77      0.75       108\n",
            "    Judicial Power       0.75      0.94      0.84       173\n",
            "      Civil Rights       0.64      0.69      0.67        98\n",
            " Economic Activity       0.74      0.79      0.76        71\n",
            "Criminal Procedure       0.56      0.30      0.39        81\n",
            "   First Amendment       0.69      0.53      0.60       101\n",
            "\n",
            "          accuracy                           0.71       632\n",
            "         macro avg       0.69      0.67      0.67       632\n",
            "      weighted avg       0.70      0.71      0.69       632\n",
            "\n"
          ]
        }
      ],
      "source": [
        "print('accuracy %s' % accuracy_score(y_pred, y_test))\n",
        "print(classification_report(y_test, y_pred,target_names=my_issue_area))"
      ]
    },
    {
      "cell_type": "code",
      "source": [
        "%%time\n",
        "from sklearn.metrics import classification_report\n",
        "y_pred = grid.predict(df_toPredict[\"facts\"])"
      ],
      "metadata": {
        "colab": {
          "base_uri": "https://localhost:8080/"
        },
        "id": "5tFODi9yKbE9",
        "outputId": "5b2ddb6b-aff3-49ee-87f3-c0d4b5977a53"
      },
      "execution_count": 164,
      "outputs": [
        {
          "output_type": "stream",
          "name": "stdout",
          "text": [
            "CPU times: user 3.7 s, sys: 48 ms, total: 3.75 s\n",
            "Wall time: 3.78 s\n"
          ]
        }
      ]
    },
    {
      "cell_type": "code",
      "execution_count": 165,
      "metadata": {
        "id": "sSGG2GqyW2CH"
      },
      "outputs": [],
      "source": [
        "y_pred_df = pd.DataFrame({\"issue_area\": y_pred})"
      ]
    },
    {
      "cell_type": "code",
      "execution_count": 166,
      "metadata": {
        "id": "cXrLxRVcVloH"
      },
      "outputs": [],
      "source": [
        "df_toPredict = pd.concat([df_toPredict, y_pred_df], axis = 1)\n",
        "df_toPredict = df_toPredict[[\"facts\", \"issue_area\", \"first_party_winner\"]]"
      ]
    },
    {
      "cell_type": "code",
      "execution_count": 167,
      "metadata": {
        "id": "LfsYiSWOXrwe"
      },
      "outputs": [],
      "source": [
        "big_df = pd.concat([df_withoutNA, df_toPredict])\n",
        "big_df = big_df.reset_index(drop=True)"
      ]
    },
    {
      "cell_type": "code",
      "execution_count": 168,
      "metadata": {
        "colab": {
          "base_uri": "https://localhost:8080/",
          "height": 424
        },
        "id": "fDNnMUk7X3HI",
        "outputId": "ef625091-ed02-487b-84df-32e7773e13af"
      },
      "outputs": [
        {
          "output_type": "execute_result",
          "data": {
            "text/plain": [
              "                                                  facts         issue_area  \\\n",
              "0     joan stanley three children peter stanley stan...       Civil Rights   \n",
              "1     john giglio convict pass forge money order app...             Others   \n",
              "2     idaho probate code specify males must prefer f...       Civil Rights   \n",
              "3     miller conduct mass mail campaign advertise sa...    First Amendment   \n",
              "4     ernest mandel belgian professional journalist ...    First Amendment   \n",
              "...                                                 ...                ...   \n",
              "6279  fair labor standards act violations violations...             Others   \n",
              "6280  guidelines regularly test user accessibility b...       Civil Rights   \n",
              "6281  action bring class action plaintiff bring acti...     Judicial Power   \n",
              "6282  discovery may reveal transmission additional f...     Judicial Power   \n",
              "6283  teligent research develop produce supply sell ...  Economic Activity   \n",
              "\n",
              "      first_party_winner  \n",
              "0                      1  \n",
              "1                      1  \n",
              "2                      1  \n",
              "3                      1  \n",
              "4                      1  \n",
              "...                  ...  \n",
              "6279                   1  \n",
              "6280                   0  \n",
              "6281                   1  \n",
              "6282                   0  \n",
              "6283                   1  \n",
              "\n",
              "[6284 rows x 3 columns]"
            ],
            "text/html": [
              "\n",
              "  <div id=\"df-ac9afddf-5c3b-4056-84c1-77e1137f7e98\">\n",
              "    <div class=\"colab-df-container\">\n",
              "      <div>\n",
              "<style scoped>\n",
              "    .dataframe tbody tr th:only-of-type {\n",
              "        vertical-align: middle;\n",
              "    }\n",
              "\n",
              "    .dataframe tbody tr th {\n",
              "        vertical-align: top;\n",
              "    }\n",
              "\n",
              "    .dataframe thead th {\n",
              "        text-align: right;\n",
              "    }\n",
              "</style>\n",
              "<table border=\"1\" class=\"dataframe\">\n",
              "  <thead>\n",
              "    <tr style=\"text-align: right;\">\n",
              "      <th></th>\n",
              "      <th>facts</th>\n",
              "      <th>issue_area</th>\n",
              "      <th>first_party_winner</th>\n",
              "    </tr>\n",
              "  </thead>\n",
              "  <tbody>\n",
              "    <tr>\n",
              "      <th>0</th>\n",
              "      <td>joan stanley three children peter stanley stan...</td>\n",
              "      <td>Civil Rights</td>\n",
              "      <td>1</td>\n",
              "    </tr>\n",
              "    <tr>\n",
              "      <th>1</th>\n",
              "      <td>john giglio convict pass forge money order app...</td>\n",
              "      <td>Others</td>\n",
              "      <td>1</td>\n",
              "    </tr>\n",
              "    <tr>\n",
              "      <th>2</th>\n",
              "      <td>idaho probate code specify males must prefer f...</td>\n",
              "      <td>Civil Rights</td>\n",
              "      <td>1</td>\n",
              "    </tr>\n",
              "    <tr>\n",
              "      <th>3</th>\n",
              "      <td>miller conduct mass mail campaign advertise sa...</td>\n",
              "      <td>First Amendment</td>\n",
              "      <td>1</td>\n",
              "    </tr>\n",
              "    <tr>\n",
              "      <th>4</th>\n",
              "      <td>ernest mandel belgian professional journalist ...</td>\n",
              "      <td>First Amendment</td>\n",
              "      <td>1</td>\n",
              "    </tr>\n",
              "    <tr>\n",
              "      <th>...</th>\n",
              "      <td>...</td>\n",
              "      <td>...</td>\n",
              "      <td>...</td>\n",
              "    </tr>\n",
              "    <tr>\n",
              "      <th>6279</th>\n",
              "      <td>fair labor standards act violations violations...</td>\n",
              "      <td>Others</td>\n",
              "      <td>1</td>\n",
              "    </tr>\n",
              "    <tr>\n",
              "      <th>6280</th>\n",
              "      <td>guidelines regularly test user accessibility b...</td>\n",
              "      <td>Civil Rights</td>\n",
              "      <td>0</td>\n",
              "    </tr>\n",
              "    <tr>\n",
              "      <th>6281</th>\n",
              "      <td>action bring class action plaintiff bring acti...</td>\n",
              "      <td>Judicial Power</td>\n",
              "      <td>1</td>\n",
              "    </tr>\n",
              "    <tr>\n",
              "      <th>6282</th>\n",
              "      <td>discovery may reveal transmission additional f...</td>\n",
              "      <td>Judicial Power</td>\n",
              "      <td>0</td>\n",
              "    </tr>\n",
              "    <tr>\n",
              "      <th>6283</th>\n",
              "      <td>teligent research develop produce supply sell ...</td>\n",
              "      <td>Economic Activity</td>\n",
              "      <td>1</td>\n",
              "    </tr>\n",
              "  </tbody>\n",
              "</table>\n",
              "<p>6284 rows × 3 columns</p>\n",
              "</div>\n",
              "      <button class=\"colab-df-convert\" onclick=\"convertToInteractive('df-ac9afddf-5c3b-4056-84c1-77e1137f7e98')\"\n",
              "              title=\"Convert this dataframe to an interactive table.\"\n",
              "              style=\"display:none;\">\n",
              "        \n",
              "  <svg xmlns=\"http://www.w3.org/2000/svg\" height=\"24px\"viewBox=\"0 0 24 24\"\n",
              "       width=\"24px\">\n",
              "    <path d=\"M0 0h24v24H0V0z\" fill=\"none\"/>\n",
              "    <path d=\"M18.56 5.44l.94 2.06.94-2.06 2.06-.94-2.06-.94-.94-2.06-.94 2.06-2.06.94zm-11 1L8.5 8.5l.94-2.06 2.06-.94-2.06-.94L8.5 2.5l-.94 2.06-2.06.94zm10 10l.94 2.06.94-2.06 2.06-.94-2.06-.94-.94-2.06-.94 2.06-2.06.94z\"/><path d=\"M17.41 7.96l-1.37-1.37c-.4-.4-.92-.59-1.43-.59-.52 0-1.04.2-1.43.59L10.3 9.45l-7.72 7.72c-.78.78-.78 2.05 0 2.83L4 21.41c.39.39.9.59 1.41.59.51 0 1.02-.2 1.41-.59l7.78-7.78 2.81-2.81c.8-.78.8-2.07 0-2.86zM5.41 20L4 18.59l7.72-7.72 1.47 1.35L5.41 20z\"/>\n",
              "  </svg>\n",
              "      </button>\n",
              "      \n",
              "  <style>\n",
              "    .colab-df-container {\n",
              "      display:flex;\n",
              "      flex-wrap:wrap;\n",
              "      gap: 12px;\n",
              "    }\n",
              "\n",
              "    .colab-df-convert {\n",
              "      background-color: #E8F0FE;\n",
              "      border: none;\n",
              "      border-radius: 50%;\n",
              "      cursor: pointer;\n",
              "      display: none;\n",
              "      fill: #1967D2;\n",
              "      height: 32px;\n",
              "      padding: 0 0 0 0;\n",
              "      width: 32px;\n",
              "    }\n",
              "\n",
              "    .colab-df-convert:hover {\n",
              "      background-color: #E2EBFA;\n",
              "      box-shadow: 0px 1px 2px rgba(60, 64, 67, 0.3), 0px 1px 3px 1px rgba(60, 64, 67, 0.15);\n",
              "      fill: #174EA6;\n",
              "    }\n",
              "\n",
              "    [theme=dark] .colab-df-convert {\n",
              "      background-color: #3B4455;\n",
              "      fill: #D2E3FC;\n",
              "    }\n",
              "\n",
              "    [theme=dark] .colab-df-convert:hover {\n",
              "      background-color: #434B5C;\n",
              "      box-shadow: 0px 1px 3px 1px rgba(0, 0, 0, 0.15);\n",
              "      filter: drop-shadow(0px 1px 2px rgba(0, 0, 0, 0.3));\n",
              "      fill: #FFFFFF;\n",
              "    }\n",
              "  </style>\n",
              "\n",
              "      <script>\n",
              "        const buttonEl =\n",
              "          document.querySelector('#df-ac9afddf-5c3b-4056-84c1-77e1137f7e98 button.colab-df-convert');\n",
              "        buttonEl.style.display =\n",
              "          google.colab.kernel.accessAllowed ? 'block' : 'none';\n",
              "\n",
              "        async function convertToInteractive(key) {\n",
              "          const element = document.querySelector('#df-ac9afddf-5c3b-4056-84c1-77e1137f7e98');\n",
              "          const dataTable =\n",
              "            await google.colab.kernel.invokeFunction('convertToInteractive',\n",
              "                                                     [key], {});\n",
              "          if (!dataTable) return;\n",
              "\n",
              "          const docLinkHtml = 'Like what you see? Visit the ' +\n",
              "            '<a target=\"_blank\" href=https://colab.research.google.com/notebooks/data_table.ipynb>data table notebook</a>'\n",
              "            + ' to learn more about interactive tables.';\n",
              "          element.innerHTML = '';\n",
              "          dataTable['output_type'] = 'display_data';\n",
              "          await google.colab.output.renderOutput(dataTable, element);\n",
              "          const docLink = document.createElement('div');\n",
              "          docLink.innerHTML = docLinkHtml;\n",
              "          element.appendChild(docLink);\n",
              "        }\n",
              "      </script>\n",
              "    </div>\n",
              "  </div>\n",
              "  "
            ]
          },
          "metadata": {},
          "execution_count": 168
        }
      ],
      "source": [
        "big_df"
      ]
    },
    {
      "cell_type": "code",
      "source": [
        "freqTarget = big_df.groupby([\"issue_area\"], as_index=False, sort=True)[\"facts\"].count()\n",
        "\n",
        "plt.rcParams[\"figure.figsize\"] = [8, 3.50]\n",
        "plt.rcParams[\"figure.autolayout\"] = True\n",
        "plt.bar(freqTarget[\"issue_area\"], freqTarget[\"facts\"])\n",
        "plt.xticks(freqTarget[\"issue_area\"])\n",
        "plt.title(\"Categories of the issue area\")\n",
        "plt.xticks(rotation=90)\n",
        "plt.ylabel('Amount')\n",
        "plt.savefig(\"IssueAreaForBothDatasets.png\", dpi=1200)\n",
        "plt.show()"
      ],
      "metadata": {
        "colab": {
          "base_uri": "https://localhost:8080/",
          "height": 261
        },
        "id": "zUqEkwu2kc-e",
        "outputId": "9c9cabb6-937e-488b-82bb-f2a66e0f1ba4"
      },
      "execution_count": 172,
      "outputs": [
        {
          "output_type": "display_data",
          "data": {
            "text/plain": [
              "<Figure size 576x252 with 1 Axes>"
            ],
            "image/png": "[encoded data removed]"
          },
          "metadata": {
            "needs_background": "light"
          }
        }
      ]
    },
    {
      "cell_type": "markdown",
      "metadata": {
        "id": "GqWh0DVlYFPF"
      },
      "source": [
        "# One Hot Encoding\n"
      ]
    },
    {
      "cell_type": "code",
      "execution_count": 173,
      "metadata": {
        "id": "9DGOdJW6YcPH"
      },
      "outputs": [],
      "source": [
        "from sklearn.preprocessing import OneHotEncoder"
      ]
    },
    {
      "cell_type": "code",
      "execution_count": 174,
      "metadata": {
        "id": "_S5hn4B4gYEM"
      },
      "outputs": [],
      "source": [
        "encoder = OneHotEncoder(handle_unknown='ignore')"
      ]
    },
    {
      "cell_type": "code",
      "execution_count": 175,
      "metadata": {
        "id": "9o9VBwSBlZcY"
      },
      "outputs": [],
      "source": [
        "encoder_df = pd.DataFrame(encoder.fit_transform(big_df[['issue_area']]).toarray())"
      ]
    },
    {
      "cell_type": "code",
      "execution_count": 176,
      "metadata": {
        "id": "f4JMEYHLm4DS"
      },
      "outputs": [],
      "source": [
        "encoder_df.columns = ['Civil Rights', 'Criminal Procedure', 'Economic Activity',\n",
        "                      'First Amendment', 'Judicial Power', 'Others']"
      ]
    },
    {
      "cell_type": "code",
      "execution_count": 177,
      "metadata": {
        "id": "cR3HjWccokE4"
      },
      "outputs": [],
      "source": [
        "big_df = big_df.join(encoder_df)\n",
        "big_df.drop('issue_area', axis=1, inplace=True)"
      ]
    },
    {
      "cell_type": "code",
      "execution_count": 178,
      "metadata": {
        "id": "6luVZx9spQem"
      },
      "outputs": [],
      "source": [
        "big_df[['Civil Rights', 'Criminal Procedure', 'Economic Activity',\n",
        "                      'First Amendment', 'Judicial Power', 'Others']] = big_df[['Civil Rights', 'Criminal Procedure', 'Economic Activity',\n",
        "                      'First Amendment', 'Judicial Power', 'Others']].astype(int)"
      ]
    },
    {
      "cell_type": "code",
      "execution_count": 179,
      "metadata": {
        "id": "jV4ny660p4uX"
      },
      "outputs": [],
      "source": [
        "big_df = big_df[[\"facts\", 'Civil Rights', 'Criminal Procedure', 'Economic Activity',\n",
        "                      'First Amendment', 'Judicial Power', 'Others', \"first_party_winner\"]]"
      ]
    },
    {
      "cell_type": "code",
      "execution_count": 180,
      "metadata": {
        "colab": {
          "base_uri": "https://localhost:8080/",
          "height": 659
        },
        "id": "JWn2efUwqWJp",
        "outputId": "b62758e8-57f1-47df-fe94-e2faf4903549"
      },
      "outputs": [
        {
          "output_type": "execute_result",
          "data": {
            "text/plain": [
              "                                                  facts  Civil Rights  \\\n",
              "0     joan stanley three children peter stanley stan...             1   \n",
              "1     john giglio convict pass forge money order app...             0   \n",
              "2     idaho probate code specify males must prefer f...             1   \n",
              "3     miller conduct mass mail campaign advertise sa...             0   \n",
              "4     ernest mandel belgian professional journalist ...             0   \n",
              "...                                                 ...           ...   \n",
              "6279  fair labor standards act violations violations...             0   \n",
              "6280  guidelines regularly test user accessibility b...             1   \n",
              "6281  action bring class action plaintiff bring acti...             0   \n",
              "6282  discovery may reveal transmission additional f...             0   \n",
              "6283  teligent research develop produce supply sell ...             0   \n",
              "\n",
              "      Criminal Procedure  Economic Activity  First Amendment  Judicial Power  \\\n",
              "0                      0                  0                0               0   \n",
              "1                      0                  0                0               0   \n",
              "2                      0                  0                0               0   \n",
              "3                      0                  0                1               0   \n",
              "4                      0                  0                1               0   \n",
              "...                  ...                ...              ...             ...   \n",
              "6279                   0                  0                0               0   \n",
              "6280                   0                  0                0               0   \n",
              "6281                   0                  0                0               1   \n",
              "6282                   0                  0                0               1   \n",
              "6283                   0                  1                0               0   \n",
              "\n",
              "      Others  first_party_winner  \n",
              "0          0                   1  \n",
              "1          1                   1  \n",
              "2          0                   1  \n",
              "3          0                   1  \n",
              "4          0                   1  \n",
              "...      ...                 ...  \n",
              "6279       1                   1  \n",
              "6280       0                   0  \n",
              "6281       0                   1  \n",
              "6282       0                   0  \n",
              "6283       0                   1  \n",
              "\n",
              "[6284 rows x 8 columns]"
            ],
            "text/html": [
              "\n",
              "  <div id=\"df-3e647eb9-70fd-48f6-b633-e8b3383c67d8\">\n",
              "    <div class=\"colab-df-container\">\n",
              "      <div>\n",
              "<style scoped>\n",
              "    .dataframe tbody tr th:only-of-type {\n",
              "        vertical-align: middle;\n",
              "    }\n",
              "\n",
              "    .dataframe tbody tr th {\n",
              "        vertical-align: top;\n",
              "    }\n",
              "\n",
              "    .dataframe thead th {\n",
              "        text-align: right;\n",
              "    }\n",
              "</style>\n",
              "<table border=\"1\" class=\"dataframe\">\n",
              "  <thead>\n",
              "    <tr style=\"text-align: right;\">\n",
              "      <th></th>\n",
              "      <th>facts</th>\n",
              "      <th>Civil Rights</th>\n",
              "      <th>Criminal Procedure</th>\n",
              "      <th>Economic Activity</th>\n",
              "      <th>First Amendment</th>\n",
              "      <th>Judicial Power</th>\n",
              "      <th>Others</th>\n",
              "      <th>first_party_winner</th>\n",
              "    </tr>\n",
              "  </thead>\n",
              "  <tbody>\n",
              "    <tr>\n",
              "      <th>0</th>\n",
              "      <td>joan stanley three children peter stanley stan...</td>\n",
              "      <td>1</td>\n",
              "      <td>0</td>\n",
              "      <td>0</td>\n",
              "      <td>0</td>\n",
              "      <td>0</td>\n",
              "      <td>0</td>\n",
              "      <td>1</td>\n",
              "    </tr>\n",
              "    <tr>\n",
              "      <th>1</th>\n",
              "      <td>john giglio convict pass forge money order app...</td>\n",
              "      <td>0</td>\n",
              "      <td>0</td>\n",
              "      <td>0</td>\n",
              "      <td>0</td>\n",
              "      <td>0</td>\n",
              "      <td>1</td>\n",
              "      <td>1</td>\n",
              "    </tr>\n",
              "    <tr>\n",
              "      <th>2</th>\n",
              "      <td>idaho probate code specify males must prefer f...</td>\n",
              "      <td>1</td>\n",
              "      <td>0</td>\n",
              "      <td>0</td>\n",
              "      <td>0</td>\n",
              "      <td>0</td>\n",
              "      <td>0</td>\n",
              "      <td>1</td>\n",
              "    </tr>\n",
              "    <tr>\n",
              "      <th>3</th>\n",
              "      <td>miller conduct mass mail campaign advertise sa...</td>\n",
              "      <td>0</td>\n",
              "      <td>0</td>\n",
              "      <td>0</td>\n",
              "      <td>1</td>\n",
              "      <td>0</td>\n",
              "      <td>0</td>\n",
              "      <td>1</td>\n",
              "    </tr>\n",
              "    <tr>\n",
              "      <th>4</th>\n",
              "      <td>ernest mandel belgian professional journalist ...</td>\n",
              "      <td>0</td>\n",
              "      <td>0</td>\n",
              "      <td>0</td>\n",
              "      <td>1</td>\n",
              "      <td>0</td>\n",
              "      <td>0</td>\n",
              "      <td>1</td>\n",
              "    </tr>\n",
              "    <tr>\n",
              "      <th>...</th>\n",
              "      <td>...</td>\n",
              "      <td>...</td>\n",
              "      <td>...</td>\n",
              "      <td>...</td>\n",
              "      <td>...</td>\n",
              "      <td>...</td>\n",
              "      <td>...</td>\n",
              "      <td>...</td>\n",
              "    </tr>\n",
              "    <tr>\n",
              "      <th>6279</th>\n",
              "      <td>fair labor standards act violations violations...</td>\n",
              "      <td>0</td>\n",
              "      <td>0</td>\n",
              "      <td>0</td>\n",
              "      <td>0</td>\n",
              "      <td>0</td>\n",
              "      <td>1</td>\n",
              "      <td>1</td>\n",
              "    </tr>\n",
              "    <tr>\n",
              "      <th>6280</th>\n",
              "      <td>guidelines regularly test user accessibility b...</td>\n",
              "      <td>1</td>\n",
              "      <td>0</td>\n",
              "      <td>0</td>\n",
              "      <td>0</td>\n",
              "      <td>0</td>\n",
              "      <td>0</td>\n",
              "      <td>0</td>\n",
              "    </tr>\n",
              "    <tr>\n",
              "      <th>6281</th>\n",
              "      <td>action bring class action plaintiff bring acti...</td>\n",
              "      <td>0</td>\n",
              "      <td>0</td>\n",
              "      <td>0</td>\n",
              "      <td>0</td>\n",
              "      <td>1</td>\n",
              "      <td>0</td>\n",
              "      <td>1</td>\n",
              "    </tr>\n",
              "    <tr>\n",
              "      <th>6282</th>\n",
              "      <td>discovery may reveal transmission additional f...</td>\n",
              "      <td>0</td>\n",
              "      <td>0</td>\n",
              "      <td>0</td>\n",
              "      <td>0</td>\n",
              "      <td>1</td>\n",
              "      <td>0</td>\n",
              "      <td>0</td>\n",
              "    </tr>\n",
              "    <tr>\n",
              "      <th>6283</th>\n",
              "      <td>teligent research develop produce supply sell ...</td>\n",
              "      <td>0</td>\n",
              "      <td>0</td>\n",
              "      <td>1</td>\n",
              "      <td>0</td>\n",
              "      <td>0</td>\n",
              "      <td>0</td>\n",
              "      <td>1</td>\n",
              "    </tr>\n",
              "  </tbody>\n",
              "</table>\n",
              "<p>6284 rows × 8 columns</p>\n",
              "</div>\n",
              "      <button class=\"colab-df-convert\" onclick=\"convertToInteractive('df-3e647eb9-70fd-48f6-b633-e8b3383c67d8')\"\n",
              "              title=\"Convert this dataframe to an interactive table.\"\n",
              "              style=\"display:none;\">\n",
              "        \n",
              "  <svg xmlns=\"http://www.w3.org/2000/svg\" height=\"24px\"viewBox=\"0 0 24 24\"\n",
              "       width=\"24px\">\n",
              "    <path d=\"M0 0h24v24H0V0z\" fill=\"none\"/>\n",
              "    <path d=\"M18.56 5.44l.94 2.06.94-2.06 2.06-.94-2.06-.94-.94-2.06-.94 2.06-2.06.94zm-11 1L8.5 8.5l.94-2.06 2.06-.94-2.06-.94L8.5 2.5l-.94 2.06-2.06.94zm10 10l.94 2.06.94-2.06 2.06-.94-2.06-.94-.94-2.06-.94 2.06-2.06.94z\"/><path d=\"M17.41 7.96l-1.37-1.37c-.4-.4-.92-.59-1.43-.59-.52 0-1.04.2-1.43.59L10.3 9.45l-7.72 7.72c-.78.78-.78 2.05 0 2.83L4 21.41c.39.39.9.59 1.41.59.51 0 1.02-.2 1.41-.59l7.78-7.78 2.81-2.81c.8-.78.8-2.07 0-2.86zM5.41 20L4 18.59l7.72-7.72 1.47 1.35L5.41 20z\"/>\n",
              "  </svg>\n",
              "      </button>\n",
              "      \n",
              "  <style>\n",
              "    .colab-df-container {\n",
              "      display:flex;\n",
              "      flex-wrap:wrap;\n",
              "      gap: 12px;\n",
              "    }\n",
              "\n",
              "    .colab-df-convert {\n",
              "      background-color: #E8F0FE;\n",
              "      border: none;\n",
              "      border-radius: 50%;\n",
              "      cursor: pointer;\n",
              "      display: none;\n",
              "      fill: #1967D2;\n",
              "      height: 32px;\n",
              "      padding: 0 0 0 0;\n",
              "      width: 32px;\n",
              "    }\n",
              "\n",
              "    .colab-df-convert:hover {\n",
              "      background-color: #E2EBFA;\n",
              "      box-shadow: 0px 1px 2px rgba(60, 64, 67, 0.3), 0px 1px 3px 1px rgba(60, 64, 67, 0.15);\n",
              "      fill: #174EA6;\n",
              "    }\n",
              "\n",
              "    [theme=dark] .colab-df-convert {\n",
              "      background-color: #3B4455;\n",
              "      fill: #D2E3FC;\n",
              "    }\n",
              "\n",
              "    [theme=dark] .colab-df-convert:hover {\n",
              "      background-color: #434B5C;\n",
              "      box-shadow: 0px 1px 3px 1px rgba(0, 0, 0, 0.15);\n",
              "      filter: drop-shadow(0px 1px 2px rgba(0, 0, 0, 0.3));\n",
              "      fill: #FFFFFF;\n",
              "    }\n",
              "  </style>\n",
              "\n",
              "      <script>\n",
              "        const buttonEl =\n",
              "          document.querySelector('#df-3e647eb9-70fd-48f6-b633-e8b3383c67d8 button.colab-df-convert');\n",
              "        buttonEl.style.display =\n",
              "          google.colab.kernel.accessAllowed ? 'block' : 'none';\n",
              "\n",
              "        async function convertToInteractive(key) {\n",
              "          const element = document.querySelector('#df-3e647eb9-70fd-48f6-b633-e8b3383c67d8');\n",
              "          const dataTable =\n",
              "            await google.colab.kernel.invokeFunction('convertToInteractive',\n",
              "                                                     [key], {});\n",
              "          if (!dataTable) return;\n",
              "\n",
              "          const docLinkHtml = 'Like what you see? Visit the ' +\n",
              "            '<a target=\"_blank\" href=https://colab.research.google.com/notebooks/data_table.ipynb>data table notebook</a>'\n",
              "            + ' to learn more about interactive tables.';\n",
              "          element.innerHTML = '';\n",
              "          dataTable['output_type'] = 'display_data';\n",
              "          await google.colab.output.renderOutput(dataTable, element);\n",
              "          const docLink = document.createElement('div');\n",
              "          docLink.innerHTML = docLinkHtml;\n",
              "          element.appendChild(docLink);\n",
              "        }\n",
              "      </script>\n",
              "    </div>\n",
              "  </div>\n",
              "  "
            ]
          },
          "metadata": {},
          "execution_count": 180
        }
      ],
      "source": [
        "big_df"
      ]
    },
    {
      "cell_type": "code",
      "execution_count": 181,
      "metadata": {
        "id": "HGgOs0dGihP1"
      },
      "outputs": [],
      "source": [
        "big_df.rename(columns = {'first_party_winner':'target'}, inplace = True)"
      ]
    },
    {
      "cell_type": "markdown",
      "metadata": {
        "id": "xEchoCrSpG_R"
      },
      "source": [
        "# Second Prediction with TFIDF"
      ]
    },
    {
      "cell_type": "code",
      "execution_count": 213,
      "metadata": {
        "id": "tHZ6itWaiPj-"
      },
      "outputs": [],
      "source": [
        "from sklearn.model_selection import train_test_split\n",
        "X_train, X_test = train_test_split(big_df, test_size=0.2, random_state=42)"
      ]
    },
    {
      "cell_type": "code",
      "source": [
        "numberOfZerosForTraining = 0\n",
        "numberOfOnesForTraining = 0\n",
        "\n",
        "for i in X_train['target']:\n",
        "  if i == 0:\n",
        "    numberOfZerosForTraining += 1\n",
        "  if i == 1:\n",
        "    numberOfOnesForTraining += 1\n",
        "\n",
        "labelsPiechart = ['True', 'False']\n",
        "numbersPiechart = np.array([numberOfZerosForTraining, numberOfOnesForTraining])"
      ],
      "metadata": {
        "id": "wMTvJN2OpvGz"
      },
      "execution_count": 215,
      "outputs": []
    },
    {
      "cell_type": "code",
      "execution_count": 216,
      "metadata": {
        "colab": {
          "base_uri": "https://localhost:8080/",
          "height": 261
        },
        "id": "nunQzmfaujOu",
        "outputId": "6254f053-edf6-4a4a-edcd-566313e2d3ca"
      },
      "outputs": [
        {
          "output_type": "display_data",
          "data": {
            "text/plain": [
              "<Figure size 576x252 with 1 Axes>"
            ],
            "image/png": "[encoded data removed]"
          },
          "metadata": {}
        }
      ],
      "source": [
        "plt.pie(numbersPiechart, labels = labelsPiechart, startangle = 80, autopct='%1.2f%%')\n",
        "plt.title(\"Did the first party win ?\")\n",
        "plt.savefig(\"ImbalancedSplit.png\", dpi=1200)\n",
        "plt.show() "
      ]
    },
    {
      "cell_type": "code",
      "execution_count": null,
      "metadata": {
        "id": "o-97n3cywXfg",
        "colab": {
          "base_uri": "https://localhost:8080/"
        },
        "outputId": "fa8a82b2-4931-4ef1-8232-38e479788838"
      },
      "outputs": [
        {
          "output_type": "stream",
          "name": "stdout",
          "text": [
            "Looking in indexes: https://pypi.org/simple, https://us-python.pkg.dev/colab-wheels/public/simple/\n",
            "Requirement already satisfied: imbalanced-learn in /usr/local/lib/python3.8/dist-packages (0.8.1)\n",
            "Collecting imbalanced-learn\n",
            "  Downloading imbalanced_learn-0.10.1-py3-none-any.whl (226 kB)\n",
            "\u001b[2K     \u001b[90m━━━━━━━━━━━━━━━━━━━━━━━━━━━━━━━━━━━━━━━\u001b[0m \u001b[32m226.0/226.0 KB\u001b[0m \u001b[31m5.8 MB/s\u001b[0m eta \u001b[36m0:00:00\u001b[0m\n",
            "\u001b[?25hRequirement already satisfied: scipy>=1.3.2 in /usr/local/lib/python3.8/dist-packages (from imbalanced-learn) (1.7.3)\n",
            "Requirement already satisfied: scikit-learn>=1.0.2 in /usr/local/lib/python3.8/dist-packages (from imbalanced-learn) (1.0.2)\n",
            "Requirement already satisfied: numpy>=1.17.3 in /usr/local/lib/python3.8/dist-packages (from imbalanced-learn) (1.21.6)\n",
            "Requirement already satisfied: threadpoolctl>=2.0.0 in /usr/local/lib/python3.8/dist-packages (from imbalanced-learn) (3.1.0)\n",
            "Requirement already satisfied: joblib>=1.1.1 in /usr/local/lib/python3.8/dist-packages (from imbalanced-learn) (1.2.0)\n",
            "Installing collected packages: imbalanced-learn\n",
            "  Attempting uninstall: imbalanced-learn\n",
            "    Found existing installation: imbalanced-learn 0.8.1\n",
            "    Uninstalling imbalanced-learn-0.8.1:\n",
            "      Successfully uninstalled imbalanced-learn-0.8.1\n",
            "Successfully installed imbalanced-learn-0.10.1\n"
          ]
        }
      ],
      "source": [
        "pip install -U imbalanced-learn"
      ]
    },
    {
      "cell_type": "code",
      "source": [
        "from imblearn.over_sampling import RandomOverSampler\n",
        "from collections import Counter"
      ],
      "metadata": {
        "id": "Z5cr6UWtNWyZ"
      },
      "execution_count": 205,
      "outputs": []
    },
    {
      "cell_type": "code",
      "source": [
        "y_train = X_train[\"target\"]"
      ],
      "metadata": {
        "id": "ouursbfSNsvC"
      },
      "execution_count": 217,
      "outputs": []
    },
    {
      "cell_type": "code",
      "source": [
        "X_train = X_train.loc[:, X_train.columns != 'target']"
      ],
      "metadata": {
        "id": "HXTm5sptOAMw"
      },
      "execution_count": 218,
      "outputs": []
    },
    {
      "cell_type": "code",
      "source": [
        "ros = RandomOverSampler(random_state=42)\n",
        "X_train_ros, y_train_ros= ros.fit_resample(X_train, y_train)"
      ],
      "metadata": {
        "id": "nKRUk3AVNb4o"
      },
      "execution_count": 219,
      "outputs": []
    },
    {
      "cell_type": "code",
      "source": [
        "X_train = X_train_ros\n",
        "y_train = y_train_ros"
      ],
      "metadata": {
        "id": "NLApaQJpOT8Q"
      },
      "execution_count": 220,
      "outputs": []
    },
    {
      "cell_type": "code",
      "source": [
        "y_test = X_test[\"target\"]\n",
        "X_test = X_test.loc[:, X_test.columns != 'target']"
      ],
      "metadata": {
        "id": "CAAWJHDgPx25"
      },
      "execution_count": 221,
      "outputs": []
    },
    {
      "cell_type": "code",
      "source": [
        "numberOfZerosForTraining = 0\n",
        "numberOfOnesForTraining = 0\n",
        "\n",
        "for i in y_train:\n",
        "  if i == 0:\n",
        "    numberOfZerosForTraining += 1\n",
        "  if i == 1:\n",
        "    numberOfOnesForTraining += 1\n",
        "\n",
        "labelsPiechart = ['True', 'False']\n",
        "numbersPiechart = np.array([numberOfZerosForTraining, numberOfOnesForTraining])"
      ],
      "metadata": {
        "id": "YOk7UV_0xd4K"
      },
      "execution_count": 222,
      "outputs": []
    },
    {
      "cell_type": "code",
      "source": [
        "plt.pie(numbersPiechart, labels = labelsPiechart, startangle = 80, autopct='%1.2f%%')\n",
        "plt.title(\"Did the first party win ?\")\n",
        "plt.savefig(\"BalancedSplit.png\", dpi=1200)\n",
        "plt.show() "
      ],
      "metadata": {
        "colab": {
          "base_uri": "https://localhost:8080/",
          "height": 261
        },
        "id": "Ozl0Fo_h0cc7",
        "outputId": "cd64d333-1552-4cca-ad8c-01dc99782796"
      },
      "execution_count": 223,
      "outputs": [
        {
          "output_type": "display_data",
          "data": {
            "text/plain": [
              "<Figure size 576x252 with 1 Axes>"
            ],
            "image/png": "[encoded data removed]"
          },
          "metadata": {}
        }
      ]
    },
    {
      "cell_type": "code",
      "execution_count": null,
      "metadata": {
        "id": "jwFe9RPVh0TB"
      },
      "outputs": [],
      "source": [
        "from sklearn.feature_extraction.text import TfidfVectorizer"
      ]
    },
    {
      "cell_type": "code",
      "execution_count": null,
      "metadata": {
        "id": "CACD7LyZh1pg"
      },
      "outputs": [],
      "source": [
        "vectorizer_tf = TfidfVectorizer(max_df=0.75, max_features=1000, ngram_range=(1,2))"
      ]
    },
    {
      "cell_type": "code",
      "execution_count": null,
      "metadata": {
        "id": "P1zdSDjQiH2V"
      },
      "outputs": [],
      "source": [
        "train_vectors = vectorizer_tf.fit_transform(X_train.facts) \n",
        "test_vectors = vectorizer_tf.transform(X_test.facts)"
      ]
    },
    {
      "cell_type": "code",
      "execution_count": null,
      "metadata": {
        "colab": {
          "base_uri": "https://localhost:8080/"
        },
        "id": "5gk70nVjjMYT",
        "outputId": "13063aec-d834-4947-d1dc-a0d01902f720"
      },
      "outputs": [
        {
          "output_type": "stream",
          "name": "stderr",
          "text": [
            "/usr/local/lib/python3.8/dist-packages/sklearn/utils/deprecation.py:87: FutureWarning: Function get_feature_names is deprecated; get_feature_names is deprecated in 1.0 and will be removed in 1.2. Please use get_feature_names_out instead.\n",
            "  warnings.warn(msg, category=FutureWarning)\n"
          ]
        }
      ],
      "source": [
        "train_df=pd.DataFrame(train_vectors.toarray(), columns=vectorizer_tf.get_feature_names())\n",
        "test_df=pd.DataFrame(test_vectors.toarray(), columns=vectorizer_tf.get_feature_names())"
      ]
    },
    {
      "cell_type": "code",
      "execution_count": null,
      "metadata": {
        "id": "j65MKJwIjbH4"
      },
      "outputs": [],
      "source": [
        "train_df=pd.concat([train_df,X_train.loc[:, X_train.columns != \"facts\"].reset_index(drop=True)], axis=1)\n",
        "test_df=pd.concat([test_df,X_test.loc[:, X_test.columns != \"facts\"].reset_index(drop=True)], axis=1)"
      ]
    },
    {
      "cell_type": "code",
      "execution_count": null,
      "metadata": {
        "colab": {
          "base_uri": "https://localhost:8080/",
          "height": 254
        },
        "id": "ckJiBbTFlUwV",
        "outputId": "a62928fe-a382-4c86-f424-9c84cdf7cb24"
      },
      "outputs": [
        {
          "output_type": "execute_result",
          "data": {
            "text/plain": [
              "    ability  access  access barriers  access defendant  access facilities  \\\n",
              "0  0.038792     0.0              0.0               0.0                0.0   \n",
              "1  0.000000     0.0              0.0               0.0                0.0   \n",
              "2  0.000000     0.0              0.0               0.0                0.0   \n",
              "\n",
              "   accessibility  accessible  accommodation  accommodations  \\\n",
              "0            0.0         0.0            0.0             0.0   \n",
              "1            0.0         0.0            0.0             0.0   \n",
              "2            0.0         0.0            0.0             0.0   \n",
              "\n",
              "   accommodations advantage  ...  years  york  york city  york state  \\\n",
              "0                       0.0  ...    0.0   0.0        0.0         0.0   \n",
              "1                       0.0  ...    0.0   0.0        0.0         0.0   \n",
              "2                       0.0  ...    0.0   0.0        0.0         0.0   \n",
              "\n",
              "   Civil Rights  Criminal Procedure  Economic Activity  First Amendment  \\\n",
              "0             0                   0                  0                0   \n",
              "1             0                   0                  0                0   \n",
              "2             0                   0                  0                1   \n",
              "\n",
              "   Judicial Power  Others  \n",
              "0               0       1  \n",
              "1               0       1  \n",
              "2               0       0  \n",
              "\n",
              "[3 rows x 1006 columns]"
            ],
            "text/html": [
              "\n",
              "  <div id=\"df-e8ce8ddd-357f-465c-9734-2553ecd15e1d\">\n",
              "    <div class=\"colab-df-container\">\n",
              "      <div>\n",
              "<style scoped>\n",
              "    .dataframe tbody tr th:only-of-type {\n",
              "        vertical-align: middle;\n",
              "    }\n",
              "\n",
              "    .dataframe tbody tr th {\n",
              "        vertical-align: top;\n",
              "    }\n",
              "\n",
              "    .dataframe thead th {\n",
              "        text-align: right;\n",
              "    }\n",
              "</style>\n",
              "<table border=\"1\" class=\"dataframe\">\n",
              "  <thead>\n",
              "    <tr style=\"text-align: right;\">\n",
              "      <th></th>\n",
              "      <th>ability</th>\n",
              "      <th>access</th>\n",
              "      <th>access barriers</th>\n",
              "      <th>access defendant</th>\n",
              "      <th>access facilities</th>\n",
              "      <th>accessibility</th>\n",
              "      <th>accessible</th>\n",
              "      <th>accommodation</th>\n",
              "      <th>accommodations</th>\n",
              "      <th>accommodations advantage</th>\n",
              "      <th>...</th>\n",
              "      <th>years</th>\n",
              "      <th>york</th>\n",
              "      <th>york city</th>\n",
              "      <th>york state</th>\n",
              "      <th>Civil Rights</th>\n",
              "      <th>Criminal Procedure</th>\n",
              "      <th>Economic Activity</th>\n",
              "      <th>First Amendment</th>\n",
              "      <th>Judicial Power</th>\n",
              "      <th>Others</th>\n",
              "    </tr>\n",
              "  </thead>\n",
              "  <tbody>\n",
              "    <tr>\n",
              "      <th>0</th>\n",
              "      <td>0.038792</td>\n",
              "      <td>0.0</td>\n",
              "      <td>0.0</td>\n",
              "      <td>0.0</td>\n",
              "      <td>0.0</td>\n",
              "      <td>0.0</td>\n",
              "      <td>0.0</td>\n",
              "      <td>0.0</td>\n",
              "      <td>0.0</td>\n",
              "      <td>0.0</td>\n",
              "      <td>...</td>\n",
              "      <td>0.0</td>\n",
              "      <td>0.0</td>\n",
              "      <td>0.0</td>\n",
              "      <td>0.0</td>\n",
              "      <td>0</td>\n",
              "      <td>0</td>\n",
              "      <td>0</td>\n",
              "      <td>0</td>\n",
              "      <td>0</td>\n",
              "      <td>1</td>\n",
              "    </tr>\n",
              "    <tr>\n",
              "      <th>1</th>\n",
              "      <td>0.000000</td>\n",
              "      <td>0.0</td>\n",
              "      <td>0.0</td>\n",
              "      <td>0.0</td>\n",
              "      <td>0.0</td>\n",
              "      <td>0.0</td>\n",
              "      <td>0.0</td>\n",
              "      <td>0.0</td>\n",
              "      <td>0.0</td>\n",
              "      <td>0.0</td>\n",
              "      <td>...</td>\n",
              "      <td>0.0</td>\n",
              "      <td>0.0</td>\n",
              "      <td>0.0</td>\n",
              "      <td>0.0</td>\n",
              "      <td>0</td>\n",
              "      <td>0</td>\n",
              "      <td>0</td>\n",
              "      <td>0</td>\n",
              "      <td>0</td>\n",
              "      <td>1</td>\n",
              "    </tr>\n",
              "    <tr>\n",
              "      <th>2</th>\n",
              "      <td>0.000000</td>\n",
              "      <td>0.0</td>\n",
              "      <td>0.0</td>\n",
              "      <td>0.0</td>\n",
              "      <td>0.0</td>\n",
              "      <td>0.0</td>\n",
              "      <td>0.0</td>\n",
              "      <td>0.0</td>\n",
              "      <td>0.0</td>\n",
              "      <td>0.0</td>\n",
              "      <td>...</td>\n",
              "      <td>0.0</td>\n",
              "      <td>0.0</td>\n",
              "      <td>0.0</td>\n",
              "      <td>0.0</td>\n",
              "      <td>0</td>\n",
              "      <td>0</td>\n",
              "      <td>0</td>\n",
              "      <td>1</td>\n",
              "      <td>0</td>\n",
              "      <td>0</td>\n",
              "    </tr>\n",
              "  </tbody>\n",
              "</table>\n",
              "<p>3 rows × 1006 columns</p>\n",
              "</div>\n",
              "      <button class=\"colab-df-convert\" onclick=\"convertToInteractive('df-e8ce8ddd-357f-465c-9734-2553ecd15e1d')\"\n",
              "              title=\"Convert this dataframe to an interactive table.\"\n",
              "              style=\"display:none;\">\n",
              "        \n",
              "  <svg xmlns=\"http://www.w3.org/2000/svg\" height=\"24px\"viewBox=\"0 0 24 24\"\n",
              "       width=\"24px\">\n",
              "    <path d=\"M0 0h24v24H0V0z\" fill=\"none\"/>\n",
              "    <path d=\"M18.56 5.44l.94 2.06.94-2.06 2.06-.94-2.06-.94-.94-2.06-.94 2.06-2.06.94zm-11 1L8.5 8.5l.94-2.06 2.06-.94-2.06-.94L8.5 2.5l-.94 2.06-2.06.94zm10 10l.94 2.06.94-2.06 2.06-.94-2.06-.94-.94-2.06-.94 2.06-2.06.94z\"/><path d=\"M17.41 7.96l-1.37-1.37c-.4-.4-.92-.59-1.43-.59-.52 0-1.04.2-1.43.59L10.3 9.45l-7.72 7.72c-.78.78-.78 2.05 0 2.83L4 21.41c.39.39.9.59 1.41.59.51 0 1.02-.2 1.41-.59l7.78-7.78 2.81-2.81c.8-.78.8-2.07 0-2.86zM5.41 20L4 18.59l7.72-7.72 1.47 1.35L5.41 20z\"/>\n",
              "  </svg>\n",
              "      </button>\n",
              "      \n",
              "  <style>\n",
              "    .colab-df-container {\n",
              "      display:flex;\n",
              "      flex-wrap:wrap;\n",
              "      gap: 12px;\n",
              "    }\n",
              "\n",
              "    .colab-df-convert {\n",
              "      background-color: #E8F0FE;\n",
              "      border: none;\n",
              "      border-radius: 50%;\n",
              "      cursor: pointer;\n",
              "      display: none;\n",
              "      fill: #1967D2;\n",
              "      height: 32px;\n",
              "      padding: 0 0 0 0;\n",
              "      width: 32px;\n",
              "    }\n",
              "\n",
              "    .colab-df-convert:hover {\n",
              "      background-color: #E2EBFA;\n",
              "      box-shadow: 0px 1px 2px rgba(60, 64, 67, 0.3), 0px 1px 3px 1px rgba(60, 64, 67, 0.15);\n",
              "      fill: #174EA6;\n",
              "    }\n",
              "\n",
              "    [theme=dark] .colab-df-convert {\n",
              "      background-color: #3B4455;\n",
              "      fill: #D2E3FC;\n",
              "    }\n",
              "\n",
              "    [theme=dark] .colab-df-convert:hover {\n",
              "      background-color: #434B5C;\n",
              "      box-shadow: 0px 1px 3px 1px rgba(0, 0, 0, 0.15);\n",
              "      filter: drop-shadow(0px 1px 2px rgba(0, 0, 0, 0.3));\n",
              "      fill: #FFFFFF;\n",
              "    }\n",
              "  </style>\n",
              "\n",
              "      <script>\n",
              "        const buttonEl =\n",
              "          document.querySelector('#df-e8ce8ddd-357f-465c-9734-2553ecd15e1d button.colab-df-convert');\n",
              "        buttonEl.style.display =\n",
              "          google.colab.kernel.accessAllowed ? 'block' : 'none';\n",
              "\n",
              "        async function convertToInteractive(key) {\n",
              "          const element = document.querySelector('#df-e8ce8ddd-357f-465c-9734-2553ecd15e1d');\n",
              "          const dataTable =\n",
              "            await google.colab.kernel.invokeFunction('convertToInteractive',\n",
              "                                                     [key], {});\n",
              "          if (!dataTable) return;\n",
              "\n",
              "          const docLinkHtml = 'Like what you see? Visit the ' +\n",
              "            '<a target=\"_blank\" href=https://colab.research.google.com/notebooks/data_table.ipynb>data table notebook</a>'\n",
              "            + ' to learn more about interactive tables.';\n",
              "          element.innerHTML = '';\n",
              "          dataTable['output_type'] = 'display_data';\n",
              "          await google.colab.output.renderOutput(dataTable, element);\n",
              "          const docLink = document.createElement('div');\n",
              "          docLink.innerHTML = docLinkHtml;\n",
              "          element.appendChild(docLink);\n",
              "        }\n",
              "      </script>\n",
              "    </div>\n",
              "  </div>\n",
              "  "
            ]
          },
          "metadata": {},
          "execution_count": 67
        }
      ],
      "source": [
        "train_df.head(3)"
      ]
    },
    {
      "cell_type": "code",
      "source": [
        "X_train_tf = train_df\n",
        "X_test_tf = test_df"
      ],
      "metadata": {
        "id": "rgYb2tY7Q1we"
      },
      "execution_count": null,
      "outputs": []
    },
    {
      "cell_type": "code",
      "execution_count": null,
      "metadata": {
        "id": "uHPeesIGpcdd"
      },
      "outputs": [],
      "source": [
        "my_target = [\"0\", \"1\"]"
      ]
    },
    {
      "cell_type": "code",
      "source": [
        "from sklearn import linear_model, decomposition"
      ],
      "metadata": {
        "id": "-X8TytzwRPC3"
      },
      "execution_count": null,
      "outputs": []
    },
    {
      "cell_type": "code",
      "source": [
        "pca = decomposition.PCA()"
      ],
      "metadata": {
        "id": "y0W4NB9gRKcB"
      },
      "execution_count": null,
      "outputs": []
    },
    {
      "cell_type": "code",
      "execution_count": null,
      "metadata": {
        "id": "0e2QYO-MmCz3"
      },
      "outputs": [],
      "source": [
        "logreg = Pipeline([\n",
        "                ('clf', LogisticRegression()),\n",
        "               ])"
      ]
    },
    {
      "cell_type": "code",
      "source": [
        "logreg.fit(X_train_tf, y_train)"
      ],
      "metadata": {
        "colab": {
          "base_uri": "https://localhost:8080/"
        },
        "id": "HSd7BnKqO21v",
        "outputId": "614f2d4c-de5a-404d-f56b-0497dbe6f659"
      },
      "execution_count": null,
      "outputs": [
        {
          "output_type": "execute_result",
          "data": {
            "text/plain": [
              "Pipeline(steps=[('clf', LogisticRegression())])"
            ]
          },
          "metadata": {},
          "execution_count": 72
        }
      ]
    },
    {
      "cell_type": "code",
      "execution_count": null,
      "metadata": {
        "colab": {
          "base_uri": "https://localhost:8080/"
        },
        "id": "ommazsUNnUO1",
        "outputId": "1e20b23b-9813-429a-b20e-c7ff0feda69d"
      },
      "outputs": [
        {
          "output_type": "stream",
          "name": "stdout",
          "text": [
            "CPU times: user 24.2 ms, sys: 27.6 ms, total: 51.7 ms\n",
            "Wall time: 46.4 ms\n"
          ]
        }
      ],
      "source": [
        "%%time\n",
        "y_pred = logreg.predict(X_test_tf)"
      ]
    },
    {
      "cell_type": "code",
      "execution_count": null,
      "metadata": {
        "colab": {
          "base_uri": "https://localhost:8080/"
        },
        "id": "IfTR4zPGncRG",
        "outputId": "ef12d9e4-75f5-4339-86f9-d8b6eb686ced"
      },
      "outputs": [
        {
          "output_type": "stream",
          "name": "stdout",
          "text": [
            "accuracy 0.6049284578696343\n",
            "              precision    recall  f1-score   support\n",
            "\n",
            "           0       0.53      0.56      0.54       532\n",
            "           1       0.66      0.64      0.65       726\n",
            "\n",
            "    accuracy                           0.60      1258\n",
            "   macro avg       0.60      0.60      0.60      1258\n",
            "weighted avg       0.61      0.60      0.61      1258\n",
            "\n"
          ]
        }
      ],
      "source": [
        "from sklearn.metrics import classification_report\n",
        "print('accuracy %s' % accuracy_score(y_pred, y_test))\n",
        "print(classification_report(y_test, y_pred,target_names=my_target))"
      ]
    },
    {
      "cell_type": "code",
      "execution_count": null,
      "metadata": {
        "colab": {
          "base_uri": "https://localhost:8080/"
        },
        "id": "0M8QMNCEoZeJ",
        "outputId": "f3139409-a845-4ec3-c864-6ff31b6b50b1"
      },
      "outputs": [
        {
          "output_type": "execute_result",
          "data": {
            "text/plain": [
              "Pipeline(steps=[('clf', MultinomialNB())])"
            ]
          },
          "metadata": {},
          "execution_count": 80
        }
      ],
      "source": [
        "from sklearn.naive_bayes import MultinomialNB\n",
        "from sklearn.pipeline import Pipeline\n",
        "from sklearn.feature_extraction.text import TfidfTransformer\n",
        "\n",
        "nb = Pipeline([\n",
        "    ('clf', MultinomialNB()),\n",
        "              ])\n",
        "nb.fit(X_train_tf, y_train)"
      ]
    },
    {
      "cell_type": "code",
      "execution_count": null,
      "metadata": {
        "colab": {
          "base_uri": "https://localhost:8080/"
        },
        "id": "3_aSlRDDpkzl",
        "outputId": "9f2c55d0-a4b5-44cf-fda1-a4aec6cf53a4"
      },
      "outputs": [
        {
          "output_type": "stream",
          "name": "stdout",
          "text": [
            "CPU times: user 23.9 ms, sys: 4.32 ms, total: 28.2 ms\n",
            "Wall time: 27.3 ms\n"
          ]
        }
      ],
      "source": [
        "%%time\n",
        "y_pred = nb.predict(X_test_tf)"
      ]
    },
    {
      "cell_type": "code",
      "execution_count": null,
      "metadata": {
        "colab": {
          "base_uri": "https://localhost:8080/"
        },
        "id": "2wOM81cgpnpY",
        "outputId": "76e793f0-b5be-4546-cbbe-b4d74acce861"
      },
      "outputs": [
        {
          "output_type": "stream",
          "name": "stdout",
          "text": [
            "accuracy 0.6192368839427663\n",
            "              precision    recall  f1-score   support\n",
            "\n",
            "           0       0.56      0.43      0.49       532\n",
            "           1       0.65      0.75      0.70       726\n",
            "\n",
            "    accuracy                           0.62      1258\n",
            "   macro avg       0.61      0.59      0.59      1258\n",
            "weighted avg       0.61      0.62      0.61      1258\n",
            "\n"
          ]
        }
      ],
      "source": [
        "from sklearn.metrics import classification_report\n",
        "print('accuracy %s' % accuracy_score(y_pred, y_test))\n",
        "print(classification_report(y_test, y_pred,target_names=my_target))"
      ]
    },
    {
      "cell_type": "code",
      "execution_count": null,
      "metadata": {
        "colab": {
          "base_uri": "https://localhost:8080/"
        },
        "id": "zixsJaM7pqPj",
        "outputId": "4c80da4b-46ca-4b21-ab38-8a12b9cd9eb3"
      },
      "outputs": [
        {
          "output_type": "execute_result",
          "data": {
            "text/plain": [
              "Pipeline(steps=[('clf', SGDClassifier())])"
            ]
          },
          "metadata": {},
          "execution_count": 675
        }
      ],
      "source": [
        "from sklearn.linear_model import SGDClassifier\n",
        "\n",
        "sgd = Pipeline([\n",
        "                ('clf', SGDClassifier()),\n",
        "               ])\n",
        "sgd.fit(X_train_tf, y_train)"
      ]
    },
    {
      "cell_type": "code",
      "execution_count": null,
      "metadata": {
        "colab": {
          "base_uri": "https://localhost:8080/"
        },
        "id": "sh5sgAZFp0pw",
        "outputId": "dde54a4f-5cd2-4d2d-e9f3-3f77dae69b28"
      },
      "outputs": [
        {
          "output_type": "stream",
          "name": "stdout",
          "text": [
            "CPU times: user 18.5 ms, sys: 4.76 ms, total: 23.2 ms\n",
            "Wall time: 30.1 ms\n"
          ]
        }
      ],
      "source": [
        "%%time\n",
        "y_pred = sgd.predict(X_test_tf)"
      ]
    },
    {
      "cell_type": "code",
      "execution_count": null,
      "metadata": {
        "colab": {
          "base_uri": "https://localhost:8080/"
        },
        "id": "nYNpF5ddp5WM",
        "outputId": "53effe2b-53b1-434e-ad8a-eac84244b3f4"
      },
      "outputs": [
        {
          "output_type": "stream",
          "name": "stdout",
          "text": [
            "accuracy 0.6057233704292527\n",
            "              precision    recall  f1-score   support\n",
            "\n",
            "           0       0.53      0.58      0.55       532\n",
            "           1       0.67      0.63      0.65       726\n",
            "\n",
            "    accuracy                           0.61      1258\n",
            "   macro avg       0.60      0.60      0.60      1258\n",
            "weighted avg       0.61      0.61      0.61      1258\n",
            "\n"
          ]
        }
      ],
      "source": [
        "from sklearn.metrics import classification_report\n",
        "print('accuracy %s' % accuracy_score(y_pred, y_test))\n",
        "print(classification_report(y_test, y_pred,target_names=my_target))"
      ]
    },
    {
      "cell_type": "code",
      "execution_count": null,
      "metadata": {
        "colab": {
          "base_uri": "https://localhost:8080/"
        },
        "id": "XMaOAJZup93f",
        "outputId": "d2060bc7-a7ac-457e-e1c6-b7161e0b639f"
      },
      "outputs": [
        {
          "output_type": "execute_result",
          "data": {
            "text/plain": [
              "Pipeline(steps=[('clf', RandomForestClassifier())])"
            ]
          },
          "metadata": {},
          "execution_count": 678
        }
      ],
      "source": [
        "from sklearn.ensemble import RandomForestClassifier\n",
        "\n",
        "randfor = Pipeline([\n",
        "                ('clf', RandomForestClassifier()),\n",
        "               ])\n",
        "randfor.fit(X_train_tf, y_train)"
      ]
    },
    {
      "cell_type": "code",
      "execution_count": null,
      "metadata": {
        "colab": {
          "base_uri": "https://localhost:8080/"
        },
        "id": "nVX-F5K9qJ53",
        "outputId": "b3ddd275-fdc3-4a6d-def0-8a75850d71c4"
      },
      "outputs": [
        {
          "output_type": "stream",
          "name": "stdout",
          "text": [
            "CPU times: user 78.4 ms, sys: 1.12 ms, total: 79.5 ms\n",
            "Wall time: 80 ms\n"
          ]
        }
      ],
      "source": [
        "%%time\n",
        "y_pred = randfor.predict(X_test_tf)"
      ]
    },
    {
      "cell_type": "code",
      "execution_count": null,
      "metadata": {
        "colab": {
          "base_uri": "https://localhost:8080/"
        },
        "id": "--jikVONqMLS",
        "outputId": "9f667b3c-52a0-4c52-d8e0-05fd8b9c0d15"
      },
      "outputs": [
        {
          "output_type": "stream",
          "name": "stdout",
          "text": [
            "accuracy 0.6216216216216216\n",
            "              precision    recall  f1-score   support\n",
            "\n",
            "           0       0.57      0.43      0.49       532\n",
            "           1       0.65      0.76      0.70       726\n",
            "\n",
            "    accuracy                           0.62      1258\n",
            "   macro avg       0.61      0.60      0.59      1258\n",
            "weighted avg       0.61      0.62      0.61      1258\n",
            "\n"
          ]
        }
      ],
      "source": [
        "from sklearn.metrics import classification_report\n",
        "print('accuracy %s' % accuracy_score(y_pred, y_test))\n",
        "print(classification_report(y_test, y_pred,target_names=my_target))"
      ]
    },
    {
      "cell_type": "code",
      "execution_count": null,
      "metadata": {
        "colab": {
          "base_uri": "https://localhost:8080/"
        },
        "id": "ZSWqU2kkqUjn",
        "outputId": "10adaad7-eb37-4da4-df2a-66d0b512555b"
      },
      "outputs": [
        {
          "output_type": "execute_result",
          "data": {
            "text/plain": [
              "Pipeline(steps=[('clf', GradientBoostingClassifier())])"
            ]
          },
          "metadata": {},
          "execution_count": 681
        }
      ],
      "source": [
        "from sklearn.ensemble import GradientBoostingClassifier\n",
        "graboos = Pipeline([\n",
        "                ('clf', GradientBoostingClassifier()),\n",
        "               ])\n",
        "graboos.fit(X_train_tf, y_train)"
      ]
    },
    {
      "cell_type": "code",
      "execution_count": null,
      "metadata": {
        "colab": {
          "base_uri": "https://localhost:8080/"
        },
        "id": "TC2dQKE_qb2o",
        "outputId": "fd8188e7-8484-4a66-fff0-9bcdfb31cb7c"
      },
      "outputs": [
        {
          "output_type": "stream",
          "name": "stdout",
          "text": [
            "CPU times: user 24 ms, sys: 0 ns, total: 24 ms\n",
            "Wall time: 24.9 ms\n"
          ]
        }
      ],
      "source": [
        "%%time\n",
        "y_pred = graboos.predict(X_test_tf)"
      ]
    },
    {
      "cell_type": "code",
      "execution_count": null,
      "metadata": {
        "colab": {
          "base_uri": "https://localhost:8080/"
        },
        "id": "tQESw9zkqgNF",
        "outputId": "a0c78a5a-51fa-4990-cdf6-1df6135da381"
      },
      "outputs": [
        {
          "output_type": "stream",
          "name": "stdout",
          "text": [
            "accuracy 0.6073131955484896\n",
            "              precision    recall  f1-score   support\n",
            "\n",
            "           0       0.54      0.48      0.51       532\n",
            "           1       0.65      0.70      0.67       726\n",
            "\n",
            "    accuracy                           0.61      1258\n",
            "   macro avg       0.59      0.59      0.59      1258\n",
            "weighted avg       0.60      0.61      0.60      1258\n",
            "\n"
          ]
        }
      ],
      "source": [
        "from sklearn.metrics import classification_report\n",
        "print('accuracy %s' % accuracy_score(y_pred, y_test))\n",
        "print(classification_report(y_test, y_pred,target_names=my_target))"
      ]
    },
    {
      "cell_type": "code",
      "execution_count": null,
      "metadata": {
        "colab": {
          "base_uri": "https://localhost:8080/"
        },
        "id": "nh_OLfMsqhhp",
        "outputId": "da93fcf3-1ed9-4cbb-a629-cee367fca670"
      },
      "outputs": [
        {
          "output_type": "execute_result",
          "data": {
            "text/plain": [
              "Pipeline(steps=[('clf', XGBClassifier())])"
            ]
          },
          "metadata": {},
          "execution_count": 684
        }
      ],
      "source": [
        "import xgboost as xgb\n",
        "\n",
        "xgboo = Pipeline([\n",
        "                ('clf', xgb.XGBClassifier()),\n",
        "               ])\n",
        "xgboo.fit(X_train_tf, y_train)"
      ]
    },
    {
      "cell_type": "code",
      "execution_count": null,
      "metadata": {
        "colab": {
          "base_uri": "https://localhost:8080/"
        },
        "id": "zmSayhgMqt9K",
        "outputId": "88ee65a1-d57a-4680-c0a2-a5097b03f7bb"
      },
      "outputs": [
        {
          "output_type": "stream",
          "name": "stdout",
          "text": [
            "CPU times: user 38 ms, sys: 2.01 ms, total: 40.1 ms\n",
            "Wall time: 40.4 ms\n"
          ]
        }
      ],
      "source": [
        "%%time\n",
        "y_pred = xgboo.predict(X_test_tf)"
      ]
    },
    {
      "cell_type": "code",
      "execution_count": null,
      "metadata": {
        "colab": {
          "base_uri": "https://localhost:8080/"
        },
        "id": "Usb_U-0aqx3Z",
        "outputId": "22655fc9-1bb1-44dc-9d02-a975984a418e"
      },
      "outputs": [
        {
          "output_type": "stream",
          "name": "stdout",
          "text": [
            "accuracy 0.6120826709062003\n",
            "              precision    recall  f1-score   support\n",
            "\n",
            "           0       0.55      0.48      0.51       532\n",
            "           1       0.65      0.71      0.68       726\n",
            "\n",
            "    accuracy                           0.61      1258\n",
            "   macro avg       0.60      0.59      0.60      1258\n",
            "weighted avg       0.61      0.61      0.61      1258\n",
            "\n"
          ]
        }
      ],
      "source": [
        "from sklearn.metrics import classification_report\n",
        "print('accuracy %s' % accuracy_score(y_pred, y_test))\n",
        "print(classification_report(y_test, y_pred,target_names=my_target))"
      ]
    },
    {
      "cell_type": "code",
      "execution_count": null,
      "metadata": {
        "colab": {
          "base_uri": "https://localhost:8080/"
        },
        "id": "MSjAjE_Tq0Z-",
        "outputId": "d69881d9-8348-432d-fabf-37d131362bb6"
      },
      "outputs": [
        {
          "output_type": "execute_result",
          "data": {
            "text/plain": [
              "Pipeline(steps=[('kn', KNeighborsClassifier(n_neighbors=3))])"
            ]
          },
          "metadata": {},
          "execution_count": 687
        }
      ],
      "source": [
        "from sklearn.neighbors import KNeighborsClassifier\n",
        "\n",
        "kn = Pipeline([\n",
        "              ('kn',KNeighborsClassifier(n_neighbors=3)),\n",
        "               ])\n",
        "kn.fit(X_train_tf, y_train)"
      ]
    },
    {
      "cell_type": "code",
      "execution_count": null,
      "metadata": {
        "colab": {
          "base_uri": "https://localhost:8080/"
        },
        "id": "3qmpjKRGq-Db",
        "outputId": "3e91b277-4011-4a9f-b8c4-1e88fbacd72f"
      },
      "outputs": [
        {
          "output_type": "stream",
          "name": "stdout",
          "text": [
            "CPU times: user 1.13 s, sys: 207 ms, total: 1.33 s\n",
            "Wall time: 840 ms\n"
          ]
        }
      ],
      "source": [
        "%%time\n",
        "y_pred = kn.predict(X_test_tf)"
      ]
    },
    {
      "cell_type": "code",
      "execution_count": null,
      "metadata": {
        "colab": {
          "base_uri": "https://localhost:8080/"
        },
        "id": "AQfP19XJrA0E",
        "outputId": "a0625633-1fde-4609-d5bb-c654b6d050fb"
      },
      "outputs": [
        {
          "output_type": "stream",
          "name": "stdout",
          "text": [
            "accuracy 0.5739268680445151\n",
            "              precision    recall  f1-score   support\n",
            "\n",
            "           0       0.50      0.55      0.52       532\n",
            "           1       0.64      0.59      0.61       726\n",
            "\n",
            "    accuracy                           0.57      1258\n",
            "   macro avg       0.57      0.57      0.57      1258\n",
            "weighted avg       0.58      0.57      0.58      1258\n",
            "\n"
          ]
        }
      ],
      "source": [
        "from sklearn.metrics import classification_report\n",
        "print('accuracy %s' % accuracy_score(y_pred, y_test))\n",
        "print(classification_report(y_test, y_pred,target_names=my_target))"
      ]
    },
    {
      "cell_type": "markdown",
      "metadata": {
        "id": "ZbmAvsljrEsi"
      },
      "source": [
        "# Second Prediction with Count"
      ]
    },
    {
      "cell_type": "code",
      "execution_count": null,
      "metadata": {
        "id": "3htj_rSRreU5"
      },
      "outputs": [],
      "source": [
        "from sklearn.feature_extraction.text import CountVectorizer\n",
        "vectorizer_tf = CountVectorizer()"
      ]
    },
    {
      "cell_type": "code",
      "execution_count": null,
      "metadata": {
        "id": "Ne7Ez6mtro-x"
      },
      "outputs": [],
      "source": [
        "train_vectors = vectorizer_tf.fit_transform(X_train.facts) \n",
        "test_vectors = vectorizer_tf.transform(X_test.facts)"
      ]
    },
    {
      "cell_type": "code",
      "execution_count": null,
      "metadata": {
        "colab": {
          "base_uri": "https://localhost:8080/"
        },
        "id": "7M09VCXPruLL",
        "outputId": "06f9d0eb-b121-4a20-8e21-fe5a1569124b"
      },
      "outputs": [
        {
          "output_type": "stream",
          "name": "stderr",
          "text": [
            "/usr/local/lib/python3.8/dist-packages/sklearn/utils/deprecation.py:87: FutureWarning: Function get_feature_names is deprecated; get_feature_names is deprecated in 1.0 and will be removed in 1.2. Please use get_feature_names_out instead.\n",
            "  warnings.warn(msg, category=FutureWarning)\n"
          ]
        }
      ],
      "source": [
        "train_df=pd.DataFrame(train_vectors.toarray(), columns=vectorizer_tf.get_feature_names())\n",
        "test_df=pd.DataFrame(test_vectors.toarray(), columns=vectorizer_tf.get_feature_names())"
      ]
    },
    {
      "cell_type": "code",
      "execution_count": null,
      "metadata": {
        "id": "iOIMX0Tirwx_"
      },
      "outputs": [],
      "source": [
        "train_df=pd.concat([train_df,X_train.loc[:, X_train.columns != \"facts\"].reset_index(drop=True)], axis=1)\n",
        "test_df=pd.concat([test_df,X_test.loc[:, X_test.columns != \"facts\"].reset_index(drop=True)], axis=1)"
      ]
    },
    {
      "cell_type": "code",
      "execution_count": null,
      "metadata": {
        "id": "6qTwJl1Mr1TT"
      },
      "outputs": [],
      "source": [
        "X_train_count = train_df\n",
        "X_test_count = test_df"
      ]
    },
    {
      "cell_type": "code",
      "execution_count": null,
      "metadata": {
        "colab": {
          "base_uri": "https://localhost:8080/"
        },
        "id": "-JJ6FrHEsKcL",
        "outputId": "5264f73b-7f54-457d-a01b-24b6a4ba1511"
      },
      "outputs": [
        {
          "output_type": "stream",
          "name": "stderr",
          "text": [
            "/usr/local/lib/python3.8/dist-packages/sklearn/linear_model/_logistic.py:814: ConvergenceWarning: lbfgs failed to converge (status=1):\n",
            "STOP: TOTAL NO. of ITERATIONS REACHED LIMIT.\n",
            "\n",
            "Increase the number of iterations (max_iter) or scale the data as shown in:\n",
            "    https://scikit-learn.org/stable/modules/preprocessing.html\n",
            "Please also refer to the documentation for alternative solver options:\n",
            "    https://scikit-learn.org/stable/modules/linear_model.html#logistic-regression\n",
            "  n_iter_i = _check_optimize_result(\n"
          ]
        },
        {
          "output_type": "execute_result",
          "data": {
            "text/plain": [
              "Pipeline(steps=[('clf', LogisticRegression())])"
            ]
          },
          "metadata": {},
          "execution_count": 74
        }
      ],
      "source": [
        "logreg = Pipeline([\n",
        "                ('clf', LogisticRegression()),\n",
        "               ])\n",
        "logreg.fit(X_train_count, y_train)"
      ]
    },
    {
      "cell_type": "code",
      "execution_count": null,
      "metadata": {
        "colab": {
          "base_uri": "https://localhost:8080/"
        },
        "id": "nxtkMCBZsVt0",
        "outputId": "c6b8ece0-44b5-4b32-f67e-5dddc16dd493"
      },
      "outputs": [
        {
          "output_type": "stream",
          "name": "stdout",
          "text": [
            "CPU times: user 1.08 s, sys: 45.2 ms, total: 1.12 s\n",
            "Wall time: 1.08 s\n"
          ]
        }
      ],
      "source": [
        "%%time\n",
        "y_pred = logreg.predict(X_test_count)"
      ]
    },
    {
      "cell_type": "code",
      "source": [
        "my_target = ['0', '1']"
      ],
      "metadata": {
        "id": "9Yhhh0xDkUj0"
      },
      "execution_count": null,
      "outputs": []
    },
    {
      "cell_type": "code",
      "execution_count": null,
      "metadata": {
        "colab": {
          "base_uri": "https://localhost:8080/"
        },
        "id": "nXCtaiw-sftL",
        "outputId": "56a5abd9-bf31-4c2e-f3ee-0f77553c2f2e"
      },
      "outputs": [
        {
          "output_type": "stream",
          "name": "stdout",
          "text": [
            "accuracy 0.581081081081081\n",
            "              precision    recall  f1-score   support\n",
            "\n",
            "           0       0.51      0.47      0.48       532\n",
            "           1       0.63      0.67      0.65       726\n",
            "\n",
            "    accuracy                           0.58      1258\n",
            "   macro avg       0.57      0.57      0.57      1258\n",
            "weighted avg       0.58      0.58      0.58      1258\n",
            "\n"
          ]
        }
      ],
      "source": [
        "from sklearn.metrics import classification_report\n",
        "print('accuracy %s' % accuracy_score(y_pred, y_test))\n",
        "print(classification_report(y_test, y_pred,target_names=my_target))"
      ]
    },
    {
      "cell_type": "code",
      "execution_count": null,
      "metadata": {
        "colab": {
          "base_uri": "https://localhost:8080/"
        },
        "id": "QkTlg-WXswb8",
        "outputId": "9e8f4c81-9d20-4924-b118-2fbd9ebcbfc7"
      },
      "outputs": [
        {
          "output_type": "execute_result",
          "data": {
            "text/plain": [
              "Pipeline(steps=[('clf', SGDClassifier())])"
            ]
          },
          "metadata": {},
          "execution_count": 82
        }
      ],
      "source": [
        "from sklearn.linear_model import SGDClassifier\n",
        "\n",
        "sgd = Pipeline([\n",
        "                ('clf', SGDClassifier()),\n",
        "               ])\n",
        "sgd.fit(X_train_count, y_train)"
      ]
    },
    {
      "cell_type": "code",
      "execution_count": null,
      "metadata": {
        "colab": {
          "base_uri": "https://localhost:8080/"
        },
        "id": "jBX1rR0OtBtj",
        "outputId": "996fd802-1092-40cf-d03b-b0ee2d00ccef"
      },
      "outputs": [
        {
          "output_type": "stream",
          "name": "stdout",
          "text": [
            "CPU times: user 929 ms, sys: 6.81 ms, total: 936 ms\n",
            "Wall time: 906 ms\n"
          ]
        }
      ],
      "source": [
        "%%time\n",
        "y_pred = sgd.predict(X_test_count)"
      ]
    },
    {
      "cell_type": "code",
      "execution_count": null,
      "metadata": {
        "colab": {
          "base_uri": "https://localhost:8080/"
        },
        "id": "aqNkCEf6s1yq",
        "outputId": "93d64b8d-985e-4d7f-b140-e6a0f281fa21"
      },
      "outputs": [
        {
          "output_type": "stream",
          "name": "stdout",
          "text": [
            "accuracy 0.5699523052464229\n",
            "              precision    recall  f1-score   support\n",
            "\n",
            "           0       0.49      0.45      0.47       532\n",
            "           1       0.62      0.66      0.64       726\n",
            "\n",
            "    accuracy                           0.57      1258\n",
            "   macro avg       0.56      0.55      0.55      1258\n",
            "weighted avg       0.57      0.57      0.57      1258\n",
            "\n"
          ]
        }
      ],
      "source": [
        "from sklearn.metrics import classification_report\n",
        "print('accuracy %s' % accuracy_score(y_pred, y_test))\n",
        "print(classification_report(y_test, y_pred,target_names=my_target))"
      ]
    },
    {
      "cell_type": "code",
      "execution_count": null,
      "metadata": {
        "colab": {
          "base_uri": "https://localhost:8080/"
        },
        "id": "ereszU4HtH-0",
        "outputId": "8398519b-2516-4dde-a621-ad7852b6e1bc"
      },
      "outputs": [
        {
          "output_type": "execute_result",
          "data": {
            "text/plain": [
              "Pipeline(steps=[('clf', MultinomialNB())])"
            ]
          },
          "metadata": {},
          "execution_count": 85
        }
      ],
      "source": [
        "from sklearn.naive_bayes import MultinomialNB\n",
        "from sklearn.pipeline import Pipeline\n",
        "from sklearn.feature_extraction.text import TfidfTransformer\n",
        "\n",
        "nb = Pipeline([\n",
        "    ('clf', MultinomialNB()),\n",
        "              ])\n",
        "nb.fit(X_train_count, y_train)"
      ]
    },
    {
      "cell_type": "code",
      "execution_count": null,
      "metadata": {
        "colab": {
          "base_uri": "https://localhost:8080/"
        },
        "id": "QS6AMXeutNWh",
        "outputId": "734fc35e-a22b-4cc3-b87b-e3eeda114ea1"
      },
      "outputs": [
        {
          "output_type": "stream",
          "name": "stdout",
          "text": [
            "CPU times: user 948 ms, sys: 18.1 ms, total: 966 ms\n",
            "Wall time: 908 ms\n"
          ]
        }
      ],
      "source": [
        "%%time\n",
        "y_pred = nb.predict(X_test_count)"
      ]
    },
    {
      "cell_type": "code",
      "execution_count": null,
      "metadata": {
        "colab": {
          "base_uri": "https://localhost:8080/"
        },
        "id": "-7OWBkzftPeh",
        "outputId": "35b3b729-d7ba-4a9e-8037-da8b7f87d97a"
      },
      "outputs": [
        {
          "output_type": "stream",
          "name": "stdout",
          "text": [
            "accuracy 0.6176470588235294\n",
            "              precision    recall  f1-score   support\n",
            "\n",
            "           0       0.55      0.49      0.52       532\n",
            "           1       0.66      0.71      0.68       726\n",
            "\n",
            "    accuracy                           0.62      1258\n",
            "   macro avg       0.61      0.60      0.60      1258\n",
            "weighted avg       0.61      0.62      0.61      1258\n",
            "\n"
          ]
        }
      ],
      "source": [
        "from sklearn.metrics import classification_report\n",
        "print('accuracy %s' % accuracy_score(y_pred, y_test))\n",
        "print(classification_report(y_test, y_pred,target_names=my_target))"
      ]
    },
    {
      "cell_type": "code",
      "execution_count": null,
      "metadata": {
        "colab": {
          "base_uri": "https://localhost:8080/"
        },
        "id": "tTK_BSYrtTXq",
        "outputId": "b3ac80c5-52eb-491c-804b-9608aac99aef"
      },
      "outputs": [
        {
          "output_type": "execute_result",
          "data": {
            "text/plain": [
              "Pipeline(steps=[('clf', RandomForestClassifier())])"
            ]
          },
          "metadata": {},
          "execution_count": 88
        }
      ],
      "source": [
        "from sklearn.ensemble import RandomForestClassifier\n",
        "\n",
        "randfor = Pipeline([\n",
        "    \n",
        "                ('clf', RandomForestClassifier()),\n",
        "               ])\n",
        "randfor.fit(X_train_count, y_train)"
      ]
    },
    {
      "cell_type": "code",
      "execution_count": null,
      "metadata": {
        "colab": {
          "base_uri": "https://localhost:8080/"
        },
        "id": "08wgrwPDteEi",
        "outputId": "5da0a4ad-f443-4f57-c05e-18df311b4b7a"
      },
      "outputs": [
        {
          "output_type": "stream",
          "name": "stdout",
          "text": [
            "CPU times: user 585 ms, sys: 3.38 ms, total: 588 ms\n",
            "Wall time: 695 ms\n"
          ]
        }
      ],
      "source": [
        "%%time\n",
        "y_pred = randfor.predict(X_test_count)"
      ]
    },
    {
      "cell_type": "code",
      "execution_count": null,
      "metadata": {
        "colab": {
          "base_uri": "https://localhost:8080/"
        },
        "id": "0y1ziEEMthiL",
        "outputId": "b3b0f001-1855-4029-bbf9-929946251fe0"
      },
      "outputs": [
        {
          "output_type": "stream",
          "name": "stdout",
          "text": [
            "accuracy 0.6216216216216216\n",
            "              precision    recall  f1-score   support\n",
            "\n",
            "           0       0.58      0.39      0.46       532\n",
            "           1       0.64      0.79      0.71       726\n",
            "\n",
            "    accuracy                           0.62      1258\n",
            "   macro avg       0.61      0.59      0.59      1258\n",
            "weighted avg       0.61      0.62      0.60      1258\n",
            "\n"
          ]
        }
      ],
      "source": [
        "from sklearn.metrics import classification_report\n",
        "print('accuracy %s' % accuracy_score(y_pred, y_test))\n",
        "print(classification_report(y_test, y_pred,target_names=my_target))"
      ]
    },
    {
      "cell_type": "code",
      "execution_count": null,
      "metadata": {
        "colab": {
          "base_uri": "https://localhost:8080/"
        },
        "id": "KdGJjzxitkQo",
        "outputId": "cf3bb874-b00d-42ec-edcb-498023ce5928"
      },
      "outputs": [
        {
          "output_type": "execute_result",
          "data": {
            "text/plain": [
              "Pipeline(steps=[('clf', GradientBoostingClassifier())])"
            ]
          },
          "metadata": {},
          "execution_count": 717
        }
      ],
      "source": [
        "from sklearn.ensemble import GradientBoostingClassifier\n",
        "graboos = Pipeline([\n",
        "                ('clf', GradientBoostingClassifier()),\n",
        "               ])\n",
        "graboos.fit(X_train_count, y_train)"
      ]
    },
    {
      "cell_type": "code",
      "execution_count": null,
      "metadata": {
        "colab": {
          "base_uri": "https://localhost:8080/"
        },
        "id": "aEBGgaefto2R",
        "outputId": "d0c16cc5-bd58-47fd-e8d8-226bee0879e9"
      },
      "outputs": [
        {
          "output_type": "stream",
          "name": "stdout",
          "text": [
            "CPU times: user 28.5 ms, sys: 1.81 ms, total: 30.4 ms\n",
            "Wall time: 27.4 ms\n"
          ]
        }
      ],
      "source": [
        "%%time\n",
        "y_pred = graboos.predict(X_test_count)"
      ]
    },
    {
      "cell_type": "code",
      "execution_count": null,
      "metadata": {
        "colab": {
          "base_uri": "https://localhost:8080/"
        },
        "id": "dXQLoITgtrJz",
        "outputId": "23e4f4b5-d653-411f-d89e-bbe9f6c92af9"
      },
      "outputs": [
        {
          "output_type": "stream",
          "name": "stdout",
          "text": [
            "accuracy 0.6073131955484896\n",
            "              precision    recall  f1-score   support\n",
            "\n",
            "           0       0.54      0.48      0.51       532\n",
            "           1       0.65      0.70      0.67       726\n",
            "\n",
            "    accuracy                           0.61      1258\n",
            "   macro avg       0.59      0.59      0.59      1258\n",
            "weighted avg       0.60      0.61      0.60      1258\n",
            "\n"
          ]
        }
      ],
      "source": [
        "from sklearn.metrics import classification_report\n",
        "print('accuracy %s' % accuracy_score(y_pred, y_test))\n",
        "print(classification_report(y_test, y_pred,target_names=my_target))"
      ]
    },
    {
      "cell_type": "code",
      "execution_count": null,
      "metadata": {
        "colab": {
          "base_uri": "https://localhost:8080/"
        },
        "id": "tlXDagxjttnU",
        "outputId": "c3fe41c2-c98d-4441-8c02-0d2c9d9f82ff"
      },
      "outputs": [
        {
          "output_type": "execute_result",
          "data": {
            "text/plain": [
              "Pipeline(steps=[('pca', PCA()), ('clf', XGBClassifier())])"
            ]
          },
          "metadata": {},
          "execution_count": 720
        }
      ],
      "source": [
        "import xgboost as xgb\n",
        "\n",
        "xgboo = Pipeline([\n",
        "    \n",
        "                ('pca', pca),\n",
        "                ('clf', xgb.XGBClassifier()),\n",
        "               ])\n",
        "xgboo.fit(X_train_count, y_train)"
      ]
    },
    {
      "cell_type": "code",
      "execution_count": null,
      "metadata": {
        "colab": {
          "base_uri": "https://localhost:8080/"
        },
        "id": "-JUsrVPjtx3u",
        "outputId": "56ee56fe-bcce-4567-c5cf-f7a539730e6e"
      },
      "outputs": [
        {
          "output_type": "stream",
          "name": "stdout",
          "text": [
            "CPU times: user 223 ms, sys: 22.7 ms, total: 245 ms\n",
            "Wall time: 141 ms\n"
          ]
        }
      ],
      "source": [
        "%%time\n",
        "y_pred = xgboo.predict(X_test_count)"
      ]
    },
    {
      "cell_type": "code",
      "execution_count": null,
      "metadata": {
        "colab": {
          "base_uri": "https://localhost:8080/"
        },
        "id": "kouQJT0dt4RX",
        "outputId": "e9c6f260-7d03-4b5d-e724-71455e7ee9a9"
      },
      "outputs": [
        {
          "output_type": "stream",
          "name": "stdout",
          "text": [
            "accuracy 0.6120826709062003\n",
            "              precision    recall  f1-score   support\n",
            "\n",
            "           0       0.56      0.39      0.46       532\n",
            "           1       0.63      0.78      0.70       726\n",
            "\n",
            "    accuracy                           0.61      1258\n",
            "   macro avg       0.60      0.58      0.58      1258\n",
            "weighted avg       0.60      0.61      0.60      1258\n",
            "\n"
          ]
        }
      ],
      "source": [
        "from sklearn.metrics import classification_report\n",
        "print('accuracy %s' % accuracy_score(y_pred, y_test))\n",
        "print(classification_report(y_test, y_pred,target_names=my_target))"
      ]
    },
    {
      "cell_type": "code",
      "execution_count": null,
      "metadata": {
        "colab": {
          "base_uri": "https://localhost:8080/"
        },
        "id": "suxwqbzGt6U-",
        "outputId": "9a1b3987-b67d-4577-86f4-7a38585415c8"
      },
      "outputs": [
        {
          "output_type": "execute_result",
          "data": {
            "text/plain": [
              "Pipeline(steps=[('kn', KNeighborsClassifier(n_neighbors=15))])"
            ]
          },
          "metadata": {},
          "execution_count": 726
        }
      ],
      "source": [
        "from sklearn.neighbors import KNeighborsClassifier\n",
        "\n",
        "kn = Pipeline([\n",
        "    \n",
        "                #('pca', pca),\n",
        "              ('kn',KNeighborsClassifier(n_neighbors=15)),\n",
        "               ])\n",
        "kn.fit(X_train_count, y_train)"
      ]
    },
    {
      "cell_type": "code",
      "execution_count": null,
      "metadata": {
        "colab": {
          "base_uri": "https://localhost:8080/"
        },
        "id": "3z8DOh3guA0o",
        "outputId": "e7503dd6-5524-473c-f672-0c3e93415cf9"
      },
      "outputs": [
        {
          "output_type": "stream",
          "name": "stdout",
          "text": [
            "CPU times: user 1.18 s, sys: 147 ms, total: 1.33 s\n",
            "Wall time: 795 ms\n"
          ]
        }
      ],
      "source": [
        "%%time\n",
        "y_pred = kn.predict(X_test_count)"
      ]
    },
    {
      "cell_type": "code",
      "execution_count": null,
      "metadata": {
        "colab": {
          "base_uri": "https://localhost:8080/"
        },
        "id": "Yi0EL_g3uFJd",
        "outputId": "026af804-db15-41a8-e0d4-eef9e55c9280"
      },
      "outputs": [
        {
          "output_type": "stream",
          "name": "stdout",
          "text": [
            "accuracy 0.581081081081081\n",
            "              precision    recall  f1-score   support\n",
            "\n",
            "           0       0.50      0.55      0.52       532\n",
            "           1       0.65      0.61      0.63       726\n",
            "\n",
            "    accuracy                           0.58      1258\n",
            "   macro avg       0.58      0.58      0.57      1258\n",
            "weighted avg       0.59      0.58      0.58      1258\n",
            "\n"
          ]
        }
      ],
      "source": [
        "from sklearn.metrics import classification_report\n",
        "print('accuracy %s' % accuracy_score(y_pred, y_test))\n",
        "print(classification_report(y_test, y_pred,target_names=my_target))"
      ]
    },
    {
      "cell_type": "markdown",
      "source": [
        "# Multiple test to improve the accuracy"
      ],
      "metadata": {
        "id": "xfAdO18kXYCI"
      }
    },
    {
      "cell_type": "code",
      "source": [
        "from sklearn.model_selection import train_test_split\n",
        "X_train, X_test = train_test_split(big_df, test_size=0.2, random_state=42)"
      ],
      "metadata": {
        "id": "g7AV1VY9XbVr"
      },
      "execution_count": null,
      "outputs": []
    },
    {
      "cell_type": "code",
      "source": [
        "y_train = X_train[\"target\"]\n",
        "X_train = X_train.loc[:, X_train.columns != 'target']"
      ],
      "metadata": {
        "id": "rmQfhZDiXbxj"
      },
      "execution_count": null,
      "outputs": []
    },
    {
      "cell_type": "code",
      "source": [
        "ros = RandomOverSampler(random_state=42)\n",
        "X_train_ros, y_train_ros= ros.fit_resample(X_train, y_train)"
      ],
      "metadata": {
        "id": "S_Jx-rksYjwS"
      },
      "execution_count": null,
      "outputs": []
    },
    {
      "cell_type": "code",
      "source": [
        "X_train = X_train_ros\n",
        "y_train = y_train_ros"
      ],
      "metadata": {
        "id": "msvH-x7zYl2S"
      },
      "execution_count": null,
      "outputs": []
    },
    {
      "cell_type": "code",
      "source": [
        "y_test = X_test[\"target\"]\n",
        "X_test = X_test.loc[:, X_test.columns != 'target']"
      ],
      "metadata": {
        "id": "VDX51va6Ynoe"
      },
      "execution_count": null,
      "outputs": []
    },
    {
      "cell_type": "code",
      "source": [
        "from sklearn.naive_bayes import MultinomialNB\n",
        "from sklearn.pipeline import Pipeline\n",
        "from sklearn.feature_extraction.text import TfidfTransformer"
      ],
      "metadata": {
        "id": "xfchVeniYrLs"
      },
      "execution_count": null,
      "outputs": []
    },
    {
      "cell_type": "code",
      "source": [
        "from sklearn.linear_model import LogisticRegression\n",
        "\n",
        "logreg = Pipeline([('vect', CountVectorizer(ngram_range=(1, 2))),\n",
        "                ('tfidf', TfidfTransformer()),\n",
        "                ('clf', LogisticRegression(n_jobs=1, C=1e5, solver='lbfgs', max_iter=100000)),\n",
        "               ])\n",
        "logreg.fit(X_train[\"facts\"], y_train)"
      ],
      "metadata": {
        "colab": {
          "base_uri": "https://localhost:8080/"
        },
        "id": "JAZB0GCNazzb",
        "outputId": "a7d6fb7f-dfc7-4dc5-ca2d-96797e604567"
      },
      "execution_count": null,
      "outputs": [
        {
          "output_type": "execute_result",
          "data": {
            "text/plain": [
              "Pipeline(steps=[('vect', CountVectorizer(ngram_range=(1, 2))),\n",
              "                ('tfidf', TfidfTransformer()),\n",
              "                ('clf',\n",
              "                 LogisticRegression(C=100000.0, max_iter=100000, n_jobs=1))])"
            ]
          },
          "metadata": {},
          "execution_count": 443
        }
      ]
    },
    {
      "cell_type": "code",
      "source": [
        "%%time\n",
        "y_pred = logreg.predict(X_test[\"facts\"])"
      ],
      "metadata": {
        "colab": {
          "base_uri": "https://localhost:8080/"
        },
        "id": "gpOV5cAia3-C",
        "outputId": "b4996ab0-1081-4d57-e3f1-c84adb111295"
      },
      "execution_count": null,
      "outputs": [
        {
          "output_type": "stream",
          "name": "stdout",
          "text": [
            "CPU times: user 1.38 s, sys: 10.3 ms, total: 1.39 s\n",
            "Wall time: 1.4 s\n"
          ]
        }
      ]
    },
    {
      "cell_type": "code",
      "source": [
        "from sklearn.metrics import classification_report\n",
        "print('accuracy %s' % accuracy_score(y_pred, y_test))\n",
        "print(classification_report(y_test, y_pred,target_names=my_target))"
      ],
      "metadata": {
        "colab": {
          "base_uri": "https://localhost:8080/"
        },
        "id": "MCf5yWVNa9ig",
        "outputId": "cc14e1a6-9671-4d98-ccd7-9e8a84192d01"
      },
      "execution_count": null,
      "outputs": [
        {
          "output_type": "stream",
          "name": "stdout",
          "text": [
            "accuracy 0.5866454689984102\n",
            "              precision    recall  f1-score   support\n",
            "\n",
            "           0       0.51      0.44      0.47       532\n",
            "           1       0.63      0.70      0.66       726\n",
            "\n",
            "    accuracy                           0.59      1258\n",
            "   macro avg       0.57      0.57      0.57      1258\n",
            "weighted avg       0.58      0.59      0.58      1258\n",
            "\n"
          ]
        }
      ]
    },
    {
      "cell_type": "code",
      "source": [
        "randfor = Pipeline([('vect', CountVectorizer()),\n",
        "               ('tfidf', TfidfTransformer()),\n",
        "                ('clf', RandomForestClassifier()),\n",
        "               ])\n",
        "randfor.fit(X_train[\"facts\"], y_train)"
      ],
      "metadata": {
        "colab": {
          "base_uri": "https://localhost:8080/"
        },
        "id": "-XocjwZXaARX",
        "outputId": "8c8d968b-ba5b-4a32-b5e0-3add649cbdc6"
      },
      "execution_count": null,
      "outputs": [
        {
          "output_type": "execute_result",
          "data": {
            "text/plain": [
              "Pipeline(steps=[('vect', CountVectorizer()), ('tfidf', TfidfTransformer()),\n",
              "                ('clf', RandomForestClassifier())])"
            ]
          },
          "metadata": {},
          "execution_count": 440
        }
      ]
    },
    {
      "cell_type": "code",
      "source": [
        "%%time\n",
        "y_pred = randfor.predict(X_test[\"facts\"])"
      ],
      "metadata": {
        "colab": {
          "base_uri": "https://localhost:8080/"
        },
        "id": "OE21Cm-qaFiZ",
        "outputId": "9d863479-b525-4fd9-ce64-638cfa49365e"
      },
      "execution_count": null,
      "outputs": [
        {
          "output_type": "stream",
          "name": "stdout",
          "text": [
            "CPU times: user 682 ms, sys: 9.47 ms, total: 691 ms\n",
            "Wall time: 699 ms\n"
          ]
        }
      ]
    },
    {
      "cell_type": "code",
      "source": [
        "from sklearn.metrics import classification_report\n",
        "print('accuracy %s' % accuracy_score(y_pred, y_test))\n",
        "print(classification_report(y_test, y_pred,target_names=my_target))"
      ],
      "metadata": {
        "colab": {
          "base_uri": "https://localhost:8080/"
        },
        "id": "ELQ6t9cpaQKD",
        "outputId": "307f49ed-a023-4666-9b9e-83a302649650"
      },
      "execution_count": null,
      "outputs": [
        {
          "output_type": "stream",
          "name": "stdout",
          "text": [
            "accuracy 0.6025437201907791\n",
            "              precision    recall  f1-score   support\n",
            "\n",
            "           0       0.54      0.39      0.46       532\n",
            "           1       0.63      0.75      0.69       726\n",
            "\n",
            "    accuracy                           0.60      1258\n",
            "   macro avg       0.59      0.57      0.57      1258\n",
            "weighted avg       0.59      0.60      0.59      1258\n",
            "\n"
          ]
        }
      ]
    },
    {
      "cell_type": "code",
      "source": [
        "encoder = OneHotEncoder(handle_unknown='ignore')"
      ],
      "metadata": {
        "id": "XmsS57i0fUoj"
      },
      "execution_count": null,
      "outputs": []
    },
    {
      "cell_type": "code",
      "source": [
        "df_toPredict"
      ],
      "metadata": {
        "id": "ujo_x-7qgB1f"
      },
      "execution_count": null,
      "outputs": []
    },
    {
      "cell_type": "code",
      "source": [
        "encoder_second_df = pd.DataFrame(encoder.fit_transform(df_toPredict[['issue_area']]).toarray())"
      ],
      "metadata": {
        "id": "487kwwjvgGjl"
      },
      "execution_count": null,
      "outputs": []
    },
    {
      "cell_type": "code",
      "source": [
        "encoder_second_df.columns = ['Civil Rights', 'Criminal Procedure', 'Economic Activity',\n",
        "                      'First Amendment', 'Judicial Power', 'Others']"
      ],
      "metadata": {
        "id": "dABZZuSfgJ39"
      },
      "execution_count": null,
      "outputs": []
    },
    {
      "cell_type": "code",
      "source": [
        "df_toPredict = df_toPredict.join(encoder_second_df)\n",
        "df_toPredict.drop('issue_area', axis=1, inplace=True)"
      ],
      "metadata": {
        "id": "fzIPw_HwgGc4"
      },
      "execution_count": null,
      "outputs": []
    },
    {
      "cell_type": "code",
      "source": [
        "df_toPredict[['Civil Rights', 'Criminal Procedure', 'Economic Activity',\n",
        "                      'First Amendment', 'Judicial Power', 'Others']] = df_toPredict[['Civil Rights', 'Criminal Procedure', 'Economic Activity',\n",
        "                      'First Amendment', 'Judicial Power', 'Others']].astype(int)"
      ],
      "metadata": {
        "id": "CFwJDupwgGZ3"
      },
      "execution_count": null,
      "outputs": []
    },
    {
      "cell_type": "code",
      "source": [
        "df_toPredict = df_toPredict[[\"facts\", 'Civil Rights', 'Criminal Procedure', 'Economic Activity',\n",
        "                      'First Amendment', 'Judicial Power', 'Others', \"first_party_winner\"]]"
      ],
      "metadata": {
        "id": "ku-jKmG8gdQ2"
      },
      "execution_count": null,
      "outputs": []
    },
    {
      "cell_type": "code",
      "source": [
        "df_withoutNA"
      ],
      "metadata": {
        "id": "-9LLN2cVgGWy"
      },
      "execution_count": null,
      "outputs": []
    },
    {
      "cell_type": "code",
      "source": [
        "encoder_first_df = pd.DataFrame(encoder.fit_transform(df_withoutNA[['issue_area']]).toarray())"
      ],
      "metadata": {
        "id": "r7iF0EqugoHE"
      },
      "execution_count": null,
      "outputs": []
    },
    {
      "cell_type": "code",
      "source": [
        "encoder_first_df.columns = ['Civil Rights', 'Criminal Procedure', 'Economic Activity',\n",
        "                      'First Amendment', 'Judicial Power', 'Others']"
      ],
      "metadata": {
        "id": "Ay_KeRHFgoDt"
      },
      "execution_count": null,
      "outputs": []
    },
    {
      "cell_type": "code",
      "source": [
        "df_withoutNA = df_withoutNA.join(encoder_first_df)\n",
        "df_withoutNA.drop('issue_area', axis=1, inplace=True)"
      ],
      "metadata": {
        "id": "XoFRi3ltgu2v"
      },
      "execution_count": null,
      "outputs": []
    },
    {
      "cell_type": "code",
      "source": [
        "df_withoutNA[['Civil Rights', 'Criminal Procedure', 'Economic Activity',\n",
        "                      'First Amendment', 'Judicial Power', 'Others']] = df_withoutNA[['Civil Rights', 'Criminal Procedure', 'Economic Activity',\n",
        "                      'First Amendment', 'Judicial Power', 'Others']].astype(int)"
      ],
      "metadata": {
        "id": "mun34zEtguzt"
      },
      "execution_count": null,
      "outputs": []
    },
    {
      "cell_type": "code",
      "source": [
        "df_withoutNA = df_withoutNA[[\"facts\", 'Civil Rights', 'Criminal Procedure', 'Economic Activity',\n",
        "                      'First Amendment', 'Judicial Power', 'Others', \"first_party_winner\"]]"
      ],
      "metadata": {
        "id": "EtfT4At3guwL"
      },
      "execution_count": null,
      "outputs": []
    },
    {
      "cell_type": "code",
      "source": [
        "df_withoutNA"
      ],
      "metadata": {
        "colab": {
          "base_uri": "https://localhost:8080/",
          "height": 659
        },
        "id": "RF5hWjE7hgfJ",
        "outputId": "45bfd701-8b8c-48bb-9182-5f7d4ce18308"
      },
      "execution_count": null,
      "outputs": [
        {
          "output_type": "execute_result",
          "data": {
            "text/plain": [
              "                                                  facts  Civil Rights  \\\n",
              "0     joan stanley three children peter stanley stan...             1   \n",
              "1     john giglio convict pass forge money order app...             0   \n",
              "2     idaho probate code specify males must prefer f...             1   \n",
              "3     miller conduct mass mail campaign advertise sa...             0   \n",
              "4     ernest mandel belgian professional journalist ...             0   \n",
              "...                                                 ...           ...   \n",
              "3154  century alaska purchase federal government set...             1   \n",
              "3155  refugio palomar santiago mexican national gran...             0   \n",
              "3156  tarahrick terry plead guilty one count possess...             0   \n",
              "3157  joshua jam cooley park pickup truck side road ...             1   \n",
              "3158  natural gas act nga permit private company exe...             0   \n",
              "\n",
              "      Criminal Procedure  Economic Activity  First Amendment  Judicial Power  \\\n",
              "0                      0                  0                0               0   \n",
              "1                      0                  0                0               0   \n",
              "2                      0                  0                0               0   \n",
              "3                      0                  0                1               0   \n",
              "4                      0                  0                1               0   \n",
              "...                  ...                ...              ...             ...   \n",
              "3154                   0                  0                0               0   \n",
              "3155                   1                  0                0               0   \n",
              "3156                   1                  0                0               0   \n",
              "3157                   0                  0                0               0   \n",
              "3158                   0                  0                0               0   \n",
              "\n",
              "      Others  first_party_winner  \n",
              "0          0                   1  \n",
              "1          1                   1  \n",
              "2          0                   1  \n",
              "3          0                   1  \n",
              "4          0                   1  \n",
              "...      ...                 ...  \n",
              "3154       0                   1  \n",
              "3155       0                   1  \n",
              "3156       0                   0  \n",
              "3157       0                   1  \n",
              "3158       1                   1  \n",
              "\n",
              "[3159 rows x 8 columns]"
            ],
            "text/html": [
              "\n",
              "  <div id=\"df-19835738-12cd-4ecb-9260-36fbc4577734\">\n",
              "    <div class=\"colab-df-container\">\n",
              "      <div>\n",
              "<style scoped>\n",
              "    .dataframe tbody tr th:only-of-type {\n",
              "        vertical-align: middle;\n",
              "    }\n",
              "\n",
              "    .dataframe tbody tr th {\n",
              "        vertical-align: top;\n",
              "    }\n",
              "\n",
              "    .dataframe thead th {\n",
              "        text-align: right;\n",
              "    }\n",
              "</style>\n",
              "<table border=\"1\" class=\"dataframe\">\n",
              "  <thead>\n",
              "    <tr style=\"text-align: right;\">\n",
              "      <th></th>\n",
              "      <th>facts</th>\n",
              "      <th>Civil Rights</th>\n",
              "      <th>Criminal Procedure</th>\n",
              "      <th>Economic Activity</th>\n",
              "      <th>First Amendment</th>\n",
              "      <th>Judicial Power</th>\n",
              "      <th>Others</th>\n",
              "      <th>first_party_winner</th>\n",
              "    </tr>\n",
              "  </thead>\n",
              "  <tbody>\n",
              "    <tr>\n",
              "      <th>0</th>\n",
              "      <td>joan stanley three children peter stanley stan...</td>\n",
              "      <td>1</td>\n",
              "      <td>0</td>\n",
              "      <td>0</td>\n",
              "      <td>0</td>\n",
              "      <td>0</td>\n",
              "      <td>0</td>\n",
              "      <td>1</td>\n",
              "    </tr>\n",
              "    <tr>\n",
              "      <th>1</th>\n",
              "      <td>john giglio convict pass forge money order app...</td>\n",
              "      <td>0</td>\n",
              "      <td>0</td>\n",
              "      <td>0</td>\n",
              "      <td>0</td>\n",
              "      <td>0</td>\n",
              "      <td>1</td>\n",
              "      <td>1</td>\n",
              "    </tr>\n",
              "    <tr>\n",
              "      <th>2</th>\n",
              "      <td>idaho probate code specify males must prefer f...</td>\n",
              "      <td>1</td>\n",
              "      <td>0</td>\n",
              "      <td>0</td>\n",
              "      <td>0</td>\n",
              "      <td>0</td>\n",
              "      <td>0</td>\n",
              "      <td>1</td>\n",
              "    </tr>\n",
              "    <tr>\n",
              "      <th>3</th>\n",
              "      <td>miller conduct mass mail campaign advertise sa...</td>\n",
              "      <td>0</td>\n",
              "      <td>0</td>\n",
              "      <td>0</td>\n",
              "      <td>1</td>\n",
              "      <td>0</td>\n",
              "      <td>0</td>\n",
              "      <td>1</td>\n",
              "    </tr>\n",
              "    <tr>\n",
              "      <th>4</th>\n",
              "      <td>ernest mandel belgian professional journalist ...</td>\n",
              "      <td>0</td>\n",
              "      <td>0</td>\n",
              "      <td>0</td>\n",
              "      <td>1</td>\n",
              "      <td>0</td>\n",
              "      <td>0</td>\n",
              "      <td>1</td>\n",
              "    </tr>\n",
              "    <tr>\n",
              "      <th>...</th>\n",
              "      <td>...</td>\n",
              "      <td>...</td>\n",
              "      <td>...</td>\n",
              "      <td>...</td>\n",
              "      <td>...</td>\n",
              "      <td>...</td>\n",
              "      <td>...</td>\n",
              "      <td>...</td>\n",
              "    </tr>\n",
              "    <tr>\n",
              "      <th>3154</th>\n",
              "      <td>century alaska purchase federal government set...</td>\n",
              "      <td>1</td>\n",
              "      <td>0</td>\n",
              "      <td>0</td>\n",
              "      <td>0</td>\n",
              "      <td>0</td>\n",
              "      <td>0</td>\n",
              "      <td>1</td>\n",
              "    </tr>\n",
              "    <tr>\n",
              "      <th>3155</th>\n",
              "      <td>refugio palomar santiago mexican national gran...</td>\n",
              "      <td>0</td>\n",
              "      <td>1</td>\n",
              "      <td>0</td>\n",
              "      <td>0</td>\n",
              "      <td>0</td>\n",
              "      <td>0</td>\n",
              "      <td>1</td>\n",
              "    </tr>\n",
              "    <tr>\n",
              "      <th>3156</th>\n",
              "      <td>tarahrick terry plead guilty one count possess...</td>\n",
              "      <td>0</td>\n",
              "      <td>1</td>\n",
              "      <td>0</td>\n",
              "      <td>0</td>\n",
              "      <td>0</td>\n",
              "      <td>0</td>\n",
              "      <td>0</td>\n",
              "    </tr>\n",
              "    <tr>\n",
              "      <th>3157</th>\n",
              "      <td>joshua jam cooley park pickup truck side road ...</td>\n",
              "      <td>1</td>\n",
              "      <td>0</td>\n",
              "      <td>0</td>\n",
              "      <td>0</td>\n",
              "      <td>0</td>\n",
              "      <td>0</td>\n",
              "      <td>1</td>\n",
              "    </tr>\n",
              "    <tr>\n",
              "      <th>3158</th>\n",
              "      <td>natural gas act nga permit private company exe...</td>\n",
              "      <td>0</td>\n",
              "      <td>0</td>\n",
              "      <td>0</td>\n",
              "      <td>0</td>\n",
              "      <td>0</td>\n",
              "      <td>1</td>\n",
              "      <td>1</td>\n",
              "    </tr>\n",
              "  </tbody>\n",
              "</table>\n",
              "<p>3159 rows × 8 columns</p>\n",
              "</div>\n",
              "      <button class=\"colab-df-convert\" onclick=\"convertToInteractive('df-19835738-12cd-4ecb-9260-36fbc4577734')\"\n",
              "              title=\"Convert this dataframe to an interactive table.\"\n",
              "              style=\"display:none;\">\n",
              "        \n",
              "  <svg xmlns=\"http://www.w3.org/2000/svg\" height=\"24px\"viewBox=\"0 0 24 24\"\n",
              "       width=\"24px\">\n",
              "    <path d=\"M0 0h24v24H0V0z\" fill=\"none\"/>\n",
              "    <path d=\"M18.56 5.44l.94 2.06.94-2.06 2.06-.94-2.06-.94-.94-2.06-.94 2.06-2.06.94zm-11 1L8.5 8.5l.94-2.06 2.06-.94-2.06-.94L8.5 2.5l-.94 2.06-2.06.94zm10 10l.94 2.06.94-2.06 2.06-.94-2.06-.94-.94-2.06-.94 2.06-2.06.94z\"/><path d=\"M17.41 7.96l-1.37-1.37c-.4-.4-.92-.59-1.43-.59-.52 0-1.04.2-1.43.59L10.3 9.45l-7.72 7.72c-.78.78-.78 2.05 0 2.83L4 21.41c.39.39.9.59 1.41.59.51 0 1.02-.2 1.41-.59l7.78-7.78 2.81-2.81c.8-.78.8-2.07 0-2.86zM5.41 20L4 18.59l7.72-7.72 1.47 1.35L5.41 20z\"/>\n",
              "  </svg>\n",
              "      </button>\n",
              "      \n",
              "  <style>\n",
              "    .colab-df-container {\n",
              "      display:flex;\n",
              "      flex-wrap:wrap;\n",
              "      gap: 12px;\n",
              "    }\n",
              "\n",
              "    .colab-df-convert {\n",
              "      background-color: #E8F0FE;\n",
              "      border: none;\n",
              "      border-radius: 50%;\n",
              "      cursor: pointer;\n",
              "      display: none;\n",
              "      fill: #1967D2;\n",
              "      height: 32px;\n",
              "      padding: 0 0 0 0;\n",
              "      width: 32px;\n",
              "    }\n",
              "\n",
              "    .colab-df-convert:hover {\n",
              "      background-color: #E2EBFA;\n",
              "      box-shadow: 0px 1px 2px rgba(60, 64, 67, 0.3), 0px 1px 3px 1px rgba(60, 64, 67, 0.15);\n",
              "      fill: #174EA6;\n",
              "    }\n",
              "\n",
              "    [theme=dark] .colab-df-convert {\n",
              "      background-color: #3B4455;\n",
              "      fill: #D2E3FC;\n",
              "    }\n",
              "\n",
              "    [theme=dark] .colab-df-convert:hover {\n",
              "      background-color: #434B5C;\n",
              "      box-shadow: 0px 1px 3px 1px rgba(0, 0, 0, 0.15);\n",
              "      filter: drop-shadow(0px 1px 2px rgba(0, 0, 0, 0.3));\n",
              "      fill: #FFFFFF;\n",
              "    }\n",
              "  </style>\n",
              "\n",
              "      <script>\n",
              "        const buttonEl =\n",
              "          document.querySelector('#df-19835738-12cd-4ecb-9260-36fbc4577734 button.colab-df-convert');\n",
              "        buttonEl.style.display =\n",
              "          google.colab.kernel.accessAllowed ? 'block' : 'none';\n",
              "\n",
              "        async function convertToInteractive(key) {\n",
              "          const element = document.querySelector('#df-19835738-12cd-4ecb-9260-36fbc4577734');\n",
              "          const dataTable =\n",
              "            await google.colab.kernel.invokeFunction('convertToInteractive',\n",
              "                                                     [key], {});\n",
              "          if (!dataTable) return;\n",
              "\n",
              "          const docLinkHtml = 'Like what you see? Visit the ' +\n",
              "            '<a target=\"_blank\" href=https://colab.research.google.com/notebooks/data_table.ipynb>data table notebook</a>'\n",
              "            + ' to learn more about interactive tables.';\n",
              "          element.innerHTML = '';\n",
              "          dataTable['output_type'] = 'display_data';\n",
              "          await google.colab.output.renderOutput(dataTable, element);\n",
              "          const docLink = document.createElement('div');\n",
              "          docLink.innerHTML = docLinkHtml;\n",
              "          element.appendChild(docLink);\n",
              "        }\n",
              "      </script>\n",
              "    </div>\n",
              "  </div>\n",
              "  "
            ]
          },
          "metadata": {},
          "execution_count": 468
        }
      ]
    },
    {
      "cell_type": "code",
      "source": [
        "X_train = df_withoutNA.loc[:, df_withoutNA.columns != 'first_party_winner']\n",
        "y_train = df_withoutNA['first_party_winner']"
      ],
      "metadata": {
        "id": "V31S4K0KhYUs"
      },
      "execution_count": null,
      "outputs": []
    },
    {
      "cell_type": "code",
      "source": [
        "ros = RandomOverSampler(random_state=42)\n",
        "X_train_ros, y_train_ros= ros.fit_resample(X_train, y_train)"
      ],
      "metadata": {
        "id": "I0MQXQAUhOvA"
      },
      "execution_count": null,
      "outputs": []
    },
    {
      "cell_type": "code",
      "source": [
        "X_train = X_train_ros\n",
        "y_train = y_train_ros"
      ],
      "metadata": {
        "id": "WBH4wTRLhCQ2"
      },
      "execution_count": null,
      "outputs": []
    },
    {
      "cell_type": "code",
      "source": [
        "X_test = df_toPredict.loc[:, df_toPredict.columns != 'first_party_winner']\n",
        "y_test = df_toPredict['first_party_winner']"
      ],
      "metadata": {
        "id": "zgLda6-EiiV_"
      },
      "execution_count": null,
      "outputs": []
    },
    {
      "cell_type": "code",
      "source": [
        "from sklearn.feature_extraction.text import CountVectorizer\n",
        "vectorizer = CountVectorizer()"
      ],
      "metadata": {
        "id": "dUth1O5eixTI"
      },
      "execution_count": null,
      "outputs": []
    },
    {
      "cell_type": "code",
      "source": [
        "train_vectors = vectorizer_tf.fit_transform(X_train.facts) \n",
        "test_vectors = vectorizer_tf.transform(X_test.facts)"
      ],
      "metadata": {
        "id": "lwrLqOHFizYw"
      },
      "execution_count": null,
      "outputs": []
    },
    {
      "cell_type": "code",
      "source": [
        "train_df=pd.DataFrame(train_vectors.toarray(), columns=vectorizer_tf.get_feature_names())\n",
        "test_df=pd.DataFrame(test_vectors.toarray(), columns=vectorizer_tf.get_feature_names())\n",
        "\n",
        "\n",
        "train_df=pd.concat([train_df,X_train.loc[:, X_train.columns != \"facts\"].reset_index(drop=True)], axis=1)\n",
        "test_df=pd.concat([test_df,X_test.loc[:, X_test.columns != \"facts\"].reset_index(drop=True)], axis=1)\n",
        "\n",
        "\n",
        "X_train = train_df\n",
        "X_test = test_df\n"
      ],
      "metadata": {
        "colab": {
          "base_uri": "https://localhost:8080/"
        },
        "id": "dO2kutxoi2Br",
        "outputId": "99ff4485-041b-41be-8d83-6811dbd963ab"
      },
      "execution_count": null,
      "outputs": [
        {
          "output_type": "stream",
          "name": "stderr",
          "text": [
            "/usr/local/lib/python3.8/dist-packages/sklearn/utils/deprecation.py:87: FutureWarning: Function get_feature_names is deprecated; get_feature_names is deprecated in 1.0 and will be removed in 1.2. Please use get_feature_names_out instead.\n",
            "  warnings.warn(msg, category=FutureWarning)\n"
          ]
        }
      ]
    },
    {
      "cell_type": "code",
      "source": [
        "randfor = Pipeline([\n",
        "                ('clf', RandomForestClassifier()),\n",
        "               ])\n",
        "randfor.fit(X_train, y_train)"
      ],
      "metadata": {
        "colab": {
          "base_uri": "https://localhost:8080/"
        },
        "id": "a_WbQxlkdNGq",
        "outputId": "aca3376d-61f8-4ce7-ad0c-f86b46bf5809"
      },
      "execution_count": null,
      "outputs": [
        {
          "output_type": "execute_result",
          "data": {
            "text/plain": [
              "Pipeline(steps=[('clf', RandomForestClassifier())])"
            ]
          },
          "metadata": {},
          "execution_count": 482
        }
      ]
    },
    {
      "cell_type": "code",
      "source": [
        "%%time\n",
        "y_pred = randfor.predict(X_test)"
      ],
      "metadata": {
        "colab": {
          "base_uri": "https://localhost:8080/"
        },
        "id": "ynj5Pe1adc0w",
        "outputId": "4a8aefad-d095-4a5c-cf7e-ef662578f49a"
      },
      "execution_count": null,
      "outputs": [
        {
          "output_type": "stream",
          "name": "stdout",
          "text": [
            "CPU times: user 248 ms, sys: 663 µs, total: 249 ms\n",
            "Wall time: 288 ms\n"
          ]
        }
      ]
    },
    {
      "cell_type": "code",
      "source": [
        "from sklearn.metrics import classification_report\n",
        "print('accuracy %s' % accuracy_score(y_pred, y_test))\n",
        "print(classification_report(y_test, y_pred,target_names=my_target))"
      ],
      "metadata": {
        "colab": {
          "base_uri": "https://localhost:8080/"
        },
        "id": "gtLJTl8zdgsx",
        "outputId": "abfb4fa1-69a1-4ced-fcf0-f6a478d2bed4"
      },
      "execution_count": null,
      "outputs": [
        {
          "output_type": "stream",
          "name": "stdout",
          "text": [
            "accuracy 0.48609779482262705\n",
            "              precision    recall  f1-score   support\n",
            "\n",
            "           0       0.46      0.26      0.33      1542\n",
            "           1       0.50      0.70      0.58      1587\n",
            "\n",
            "    accuracy                           0.49      3129\n",
            "   macro avg       0.48      0.48      0.46      3129\n",
            "weighted avg       0.48      0.49      0.46      3129\n",
            "\n"
          ]
        }
      ]
    },
    {
      "cell_type": "code",
      "source": [
        "logreg = Pipeline([\n",
        "                ('clf', LogisticRegression()),\n",
        "               ])\n",
        "logreg.fit(X_train, y_train)\n"
      ],
      "metadata": {
        "colab": {
          "base_uri": "https://localhost:8080/"
        },
        "id": "xXsQygfXjFPy",
        "outputId": "d3d4f09e-9025-468d-e3dc-9ed95cb691b9"
      },
      "execution_count": null,
      "outputs": [
        {
          "output_type": "execute_result",
          "data": {
            "text/plain": [
              "Pipeline(steps=[('clf', LogisticRegression())])"
            ]
          },
          "metadata": {},
          "execution_count": 492
        }
      ]
    },
    {
      "cell_type": "code",
      "source": [
        "%%time\n",
        "y_pred = logreg.predict(X_test)\n"
      ],
      "metadata": {
        "colab": {
          "base_uri": "https://localhost:8080/"
        },
        "id": "cUdqRB5vjR0q",
        "outputId": "e915e708-dfd7-4d75-aab6-b0722c7a970f"
      },
      "execution_count": null,
      "outputs": [
        {
          "output_type": "stream",
          "name": "stdout",
          "text": [
            "CPU times: user 34.2 ms, sys: 17.3 ms, total: 51.5 ms\n",
            "Wall time: 52.4 ms\n"
          ]
        }
      ]
    },
    {
      "cell_type": "code",
      "source": [
        "from sklearn.metrics import classification_report\n",
        "print('accuracy %s' % accuracy_score(y_pred, y_test))\n",
        "print(classification_report(y_test, y_pred,target_names=my_target))"
      ],
      "metadata": {
        "colab": {
          "base_uri": "https://localhost:8080/"
        },
        "id": "xnoFFiZhjTn7",
        "outputId": "74741969-d15a-46dd-f8ee-b8a0bbf26586"
      },
      "execution_count": null,
      "outputs": [
        {
          "output_type": "stream",
          "name": "stdout",
          "text": [
            "accuracy 0.5001597954618089\n",
            "              precision    recall  f1-score   support\n",
            "\n",
            "           0       0.50      0.83      0.62      1542\n",
            "           1       0.52      0.18      0.26      1587\n",
            "\n",
            "    accuracy                           0.50      3129\n",
            "   macro avg       0.51      0.50      0.44      3129\n",
            "weighted avg       0.51      0.50      0.44      3129\n",
            "\n"
          ]
        }
      ]
    },
    {
      "cell_type": "markdown",
      "source": [],
      "metadata": {
        "id": "2jTlKaOsfOR5"
      }
    },
    {
      "cell_type": "code",
      "source": [
        "from sklearn.model_selection import train_test_split\n",
        "X_train_2, X_test_2, y_train_2, y_test_2 = train_test_split(X_train, y_train, test_size=0.2, random_state=42)"
      ],
      "metadata": {
        "id": "XS82OPGMd0SA"
      },
      "execution_count": null,
      "outputs": []
    },
    {
      "cell_type": "code",
      "source": [
        "logreg = Pipeline([\n",
        "                ('clf', LogisticRegression()),\n",
        "               ])\n",
        "logreg.fit(X_train_2, y_train_2)\n"
      ],
      "metadata": {
        "colab": {
          "base_uri": "https://localhost:8080/"
        },
        "id": "mag05NMjkjrB",
        "outputId": "c73f8c8a-7140-406b-aaec-adf8f67ac0b9"
      },
      "execution_count": null,
      "outputs": [
        {
          "output_type": "execute_result",
          "data": {
            "text/plain": [
              "Pipeline(steps=[('clf', LogisticRegression())])"
            ]
          },
          "metadata": {},
          "execution_count": 503
        }
      ]
    },
    {
      "cell_type": "code",
      "source": [
        "%%time\n",
        "y_pred = logreg.predict(X_test_2)\n"
      ],
      "metadata": {
        "colab": {
          "base_uri": "https://localhost:8080/"
        },
        "id": "cVQDTA8-kw89",
        "outputId": "6abdd602-d755-443b-f274-b254bc302940"
      },
      "execution_count": null,
      "outputs": [
        {
          "output_type": "stream",
          "name": "stdout",
          "text": [
            "CPU times: user 17.4 ms, sys: 3.13 ms, total: 20.5 ms\n",
            "Wall time: 18.8 ms\n"
          ]
        }
      ]
    },
    {
      "cell_type": "code",
      "source": [
        "from sklearn.metrics import classification_report\n",
        "print('accuracy %s' % accuracy_score(y_pred, y_test_2))\n",
        "print(classification_report(y_test_2, y_pred,target_names=my_target))"
      ],
      "metadata": {
        "colab": {
          "base_uri": "https://localhost:8080/"
        },
        "id": "FehT4pEEky1f",
        "outputId": "12a8de33-d75e-4ded-835a-06af33fb6188"
      },
      "execution_count": null,
      "outputs": [
        {
          "output_type": "stream",
          "name": "stdout",
          "text": [
            "accuracy 0.6101083032490975\n",
            "              precision    recall  f1-score   support\n",
            "\n",
            "           0       0.60      0.64      0.62       416\n",
            "           1       0.62      0.58      0.60       415\n",
            "\n",
            "    accuracy                           0.61       831\n",
            "   macro avg       0.61      0.61      0.61       831\n",
            "weighted avg       0.61      0.61      0.61       831\n",
            "\n"
          ]
        }
      ]
    },
    {
      "cell_type": "markdown",
      "source": [
        "# CV and other tests"
      ],
      "metadata": {
        "id": "fXk6fFwMzQV8"
      }
    },
    {
      "cell_type": "code",
      "source": [
        "from sklearn.ensemble import RandomForestClassifier\n",
        "\n",
        "randfor = RandomForestClassifier()\n",
        "randfor.fit(X_train_count, y_train)"
      ],
      "metadata": {
        "colab": {
          "base_uri": "https://localhost:8080/"
        },
        "id": "x6ssZkgv2fz1",
        "outputId": "e113c990-e8e5-48fe-fa17-b1fe269f55a5"
      },
      "execution_count": null,
      "outputs": [
        {
          "output_type": "execute_result",
          "data": {
            "text/plain": [
              "RandomForestClassifier()"
            ]
          },
          "metadata": {},
          "execution_count": 75
        }
      ]
    },
    {
      "cell_type": "code",
      "source": [
        "%%time\n",
        "y_pred = randfor.predict(X_test_count)"
      ],
      "metadata": {
        "colab": {
          "base_uri": "https://localhost:8080/"
        },
        "id": "bG4rXUsY2_82",
        "outputId": "a7a06895-8952-4330-8b7a-f977792d45ec"
      },
      "execution_count": null,
      "outputs": [
        {
          "output_type": "stream",
          "name": "stdout",
          "text": [
            "CPU times: user 600 ms, sys: 255 ms, total: 855 ms\n",
            "Wall time: 863 ms\n"
          ]
        }
      ]
    },
    {
      "cell_type": "code",
      "source": [
        "my_target = ['0', '1']"
      ],
      "metadata": {
        "id": "rV2Fa77MzbYe"
      },
      "execution_count": null,
      "outputs": []
    },
    {
      "cell_type": "code",
      "source": [
        "from sklearn.metrics import classification_report\n",
        "print('accuracy %s' % accuracy_score(y_pred, y_test))\n",
        "print(classification_report(y_test, y_pred,target_names=my_target))"
      ],
      "metadata": {
        "colab": {
          "base_uri": "https://localhost:8080/"
        },
        "id": "yXAaOT_23Ckb",
        "outputId": "540cf4a2-54fd-46fb-8ace-7eab093071c2"
      },
      "execution_count": null,
      "outputs": [
        {
          "output_type": "stream",
          "name": "stdout",
          "text": [
            "accuracy 0.6255961844197139\n",
            "              precision    recall  f1-score   support\n",
            "\n",
            "           0       0.59      0.39      0.47       532\n",
            "           1       0.64      0.80      0.71       726\n",
            "\n",
            "    accuracy                           0.63      1258\n",
            "   macro avg       0.61      0.59      0.59      1258\n",
            "weighted avg       0.62      0.63      0.61      1258\n",
            "\n"
          ]
        }
      ]
    },
    {
      "cell_type": "code",
      "source": [
        "feature_importances=pd.DataFrame({'features':X_train_count.columns,'feature_importance':randfor.feature_importances_})\n",
        "feature_importances.sort_values('feature_importance',ascending=False)\n"
      ],
      "metadata": {
        "colab": {
          "base_uri": "https://localhost:8080/",
          "height": 424
        },
        "id": "ooMsCx8C2xVf",
        "outputId": "abec691a-84a3-494d-c095-86f3e3492793"
      },
      "execution_count": null,
      "outputs": [
        {
          "output_type": "execute_result",
          "data": {
            "text/plain": [
              "           features  feature_importance\n",
              "5490          court            0.003313\n",
              "23378         state            0.002804\n",
              "4371          class            0.002778\n",
              "18849     plaintiff            0.002601\n",
              "273          action            0.002562\n",
              "...             ...                 ...\n",
              "17150     obsessive            0.000000\n",
              "17151   obsessively            0.000000\n",
              "17152  obsolescence            0.000000\n",
              "17153      obsolete            0.000000\n",
              "13798         latin            0.000000\n",
              "\n",
              "[27597 rows x 2 columns]"
            ],
            "text/html": [
              "\n",
              "  <div id=\"df-78990065-da4d-4314-b1da-bc28e3917883\">\n",
              "    <div class=\"colab-df-container\">\n",
              "      <div>\n",
              "<style scoped>\n",
              "    .dataframe tbody tr th:only-of-type {\n",
              "        vertical-align: middle;\n",
              "    }\n",
              "\n",
              "    .dataframe tbody tr th {\n",
              "        vertical-align: top;\n",
              "    }\n",
              "\n",
              "    .dataframe thead th {\n",
              "        text-align: right;\n",
              "    }\n",
              "</style>\n",
              "<table border=\"1\" class=\"dataframe\">\n",
              "  <thead>\n",
              "    <tr style=\"text-align: right;\">\n",
              "      <th></th>\n",
              "      <th>features</th>\n",
              "      <th>feature_importance</th>\n",
              "    </tr>\n",
              "  </thead>\n",
              "  <tbody>\n",
              "    <tr>\n",
              "      <th>5490</th>\n",
              "      <td>court</td>\n",
              "      <td>0.003313</td>\n",
              "    </tr>\n",
              "    <tr>\n",
              "      <th>23378</th>\n",
              "      <td>state</td>\n",
              "      <td>0.002804</td>\n",
              "    </tr>\n",
              "    <tr>\n",
              "      <th>4371</th>\n",
              "      <td>class</td>\n",
              "      <td>0.002778</td>\n",
              "    </tr>\n",
              "    <tr>\n",
              "      <th>18849</th>\n",
              "      <td>plaintiff</td>\n",
              "      <td>0.002601</td>\n",
              "    </tr>\n",
              "    <tr>\n",
              "      <th>273</th>\n",
              "      <td>action</td>\n",
              "      <td>0.002562</td>\n",
              "    </tr>\n",
              "    <tr>\n",
              "      <th>...</th>\n",
              "      <td>...</td>\n",
              "      <td>...</td>\n",
              "    </tr>\n",
              "    <tr>\n",
              "      <th>17150</th>\n",
              "      <td>obsessive</td>\n",
              "      <td>0.000000</td>\n",
              "    </tr>\n",
              "    <tr>\n",
              "      <th>17151</th>\n",
              "      <td>obsessively</td>\n",
              "      <td>0.000000</td>\n",
              "    </tr>\n",
              "    <tr>\n",
              "      <th>17152</th>\n",
              "      <td>obsolescence</td>\n",
              "      <td>0.000000</td>\n",
              "    </tr>\n",
              "    <tr>\n",
              "      <th>17153</th>\n",
              "      <td>obsolete</td>\n",
              "      <td>0.000000</td>\n",
              "    </tr>\n",
              "    <tr>\n",
              "      <th>13798</th>\n",
              "      <td>latin</td>\n",
              "      <td>0.000000</td>\n",
              "    </tr>\n",
              "  </tbody>\n",
              "</table>\n",
              "<p>27597 rows × 2 columns</p>\n",
              "</div>\n",
              "      <button class=\"colab-df-convert\" onclick=\"convertToInteractive('df-78990065-da4d-4314-b1da-bc28e3917883')\"\n",
              "              title=\"Convert this dataframe to an interactive table.\"\n",
              "              style=\"display:none;\">\n",
              "        \n",
              "  <svg xmlns=\"http://www.w3.org/2000/svg\" height=\"24px\"viewBox=\"0 0 24 24\"\n",
              "       width=\"24px\">\n",
              "    <path d=\"M0 0h24v24H0V0z\" fill=\"none\"/>\n",
              "    <path d=\"M18.56 5.44l.94 2.06.94-2.06 2.06-.94-2.06-.94-.94-2.06-.94 2.06-2.06.94zm-11 1L8.5 8.5l.94-2.06 2.06-.94-2.06-.94L8.5 2.5l-.94 2.06-2.06.94zm10 10l.94 2.06.94-2.06 2.06-.94-2.06-.94-.94-2.06-.94 2.06-2.06.94z\"/><path d=\"M17.41 7.96l-1.37-1.37c-.4-.4-.92-.59-1.43-.59-.52 0-1.04.2-1.43.59L10.3 9.45l-7.72 7.72c-.78.78-.78 2.05 0 2.83L4 21.41c.39.39.9.59 1.41.59.51 0 1.02-.2 1.41-.59l7.78-7.78 2.81-2.81c.8-.78.8-2.07 0-2.86zM5.41 20L4 18.59l7.72-7.72 1.47 1.35L5.41 20z\"/>\n",
              "  </svg>\n",
              "      </button>\n",
              "      \n",
              "  <style>\n",
              "    .colab-df-container {\n",
              "      display:flex;\n",
              "      flex-wrap:wrap;\n",
              "      gap: 12px;\n",
              "    }\n",
              "\n",
              "    .colab-df-convert {\n",
              "      background-color: #E8F0FE;\n",
              "      border: none;\n",
              "      border-radius: 50%;\n",
              "      cursor: pointer;\n",
              "      display: none;\n",
              "      fill: #1967D2;\n",
              "      height: 32px;\n",
              "      padding: 0 0 0 0;\n",
              "      width: 32px;\n",
              "    }\n",
              "\n",
              "    .colab-df-convert:hover {\n",
              "      background-color: #E2EBFA;\n",
              "      box-shadow: 0px 1px 2px rgba(60, 64, 67, 0.3), 0px 1px 3px 1px rgba(60, 64, 67, 0.15);\n",
              "      fill: #174EA6;\n",
              "    }\n",
              "\n",
              "    [theme=dark] .colab-df-convert {\n",
              "      background-color: #3B4455;\n",
              "      fill: #D2E3FC;\n",
              "    }\n",
              "\n",
              "    [theme=dark] .colab-df-convert:hover {\n",
              "      background-color: #434B5C;\n",
              "      box-shadow: 0px 1px 3px 1px rgba(0, 0, 0, 0.15);\n",
              "      filter: drop-shadow(0px 1px 2px rgba(0, 0, 0, 0.3));\n",
              "      fill: #FFFFFF;\n",
              "    }\n",
              "  </style>\n",
              "\n",
              "      <script>\n",
              "        const buttonEl =\n",
              "          document.querySelector('#df-78990065-da4d-4314-b1da-bc28e3917883 button.colab-df-convert');\n",
              "        buttonEl.style.display =\n",
              "          google.colab.kernel.accessAllowed ? 'block' : 'none';\n",
              "\n",
              "        async function convertToInteractive(key) {\n",
              "          const element = document.querySelector('#df-78990065-da4d-4314-b1da-bc28e3917883');\n",
              "          const dataTable =\n",
              "            await google.colab.kernel.invokeFunction('convertToInteractive',\n",
              "                                                     [key], {});\n",
              "          if (!dataTable) return;\n",
              "\n",
              "          const docLinkHtml = 'Like what you see? Visit the ' +\n",
              "            '<a target=\"_blank\" href=https://colab.research.google.com/notebooks/data_table.ipynb>data table notebook</a>'\n",
              "            + ' to learn more about interactive tables.';\n",
              "          element.innerHTML = '';\n",
              "          dataTable['output_type'] = 'display_data';\n",
              "          await google.colab.output.renderOutput(dataTable, element);\n",
              "          const docLink = document.createElement('div');\n",
              "          docLink.innerHTML = docLinkHtml;\n",
              "          element.appendChild(docLink);\n",
              "        }\n",
              "      </script>\n",
              "    </div>\n",
              "  </div>\n",
              "  "
            ]
          },
          "metadata": {},
          "execution_count": 94
        }
      ]
    },
    {
      "cell_type": "code",
      "source": [
        "study = feature_importances[(feature_importances.feature_importance > 0.0001)] \n",
        "study = study['features'].values"
      ],
      "metadata": {
        "id": "h-zTzKkc3uDp"
      },
      "execution_count": null,
      "outputs": []
    },
    {
      "cell_type": "code",
      "source": [
        "X_train_count_study = X_train_count[study]"
      ],
      "metadata": {
        "id": "5Wms2c7o3QQG"
      },
      "execution_count": null,
      "outputs": []
    },
    {
      "cell_type": "code",
      "source": [
        "from sklearn.ensemble import RandomForestClassifier\n",
        "\n",
        "randfor = RandomForestClassifier()\n",
        "randfor.fit(X_train_count_study, y_train)"
      ],
      "metadata": {
        "colab": {
          "base_uri": "https://localhost:8080/"
        },
        "id": "Kz9RQUHv5c62",
        "outputId": "c54bcb81-1fb2-4190-e496-91452fc969db"
      },
      "execution_count": null,
      "outputs": [
        {
          "output_type": "execute_result",
          "data": {
            "text/plain": [
              "RandomForestClassifier()"
            ]
          },
          "metadata": {},
          "execution_count": 97
        }
      ]
    },
    {
      "cell_type": "code",
      "source": [
        "%%time\n",
        "y_pred = randfor.predict(X_test_count[study])"
      ],
      "metadata": {
        "colab": {
          "base_uri": "https://localhost:8080/"
        },
        "id": "YdO5IHjp5muV",
        "outputId": "8fd59868-f05a-4c0e-89ee-015f4f535b56"
      },
      "execution_count": null,
      "outputs": [
        {
          "output_type": "stream",
          "name": "stdout",
          "text": [
            "CPU times: user 128 ms, sys: 1.9 ms, total: 130 ms\n",
            "Wall time: 129 ms\n"
          ]
        }
      ]
    },
    {
      "cell_type": "code",
      "source": [
        "from sklearn.metrics import classification_report\n",
        "print('accuracy %s' % accuracy_score(y_pred, y_test))\n",
        "print(classification_report(y_test, y_pred,target_names=my_target))"
      ],
      "metadata": {
        "colab": {
          "base_uri": "https://localhost:8080/"
        },
        "id": "NX96fQjG5wvP",
        "outputId": "5bc09ece-3f0e-456c-d3db-5075d28e758e"
      },
      "execution_count": null,
      "outputs": [
        {
          "output_type": "stream",
          "name": "stdout",
          "text": [
            "accuracy 0.6184419713831478\n",
            "              precision    recall  f1-score   support\n",
            "\n",
            "           0       0.57      0.42      0.48       532\n",
            "           1       0.64      0.77      0.70       726\n",
            "\n",
            "    accuracy                           0.62      1258\n",
            "   macro avg       0.60      0.59      0.59      1258\n",
            "weighted avg       0.61      0.62      0.61      1258\n",
            "\n"
          ]
        }
      ]
    },
    {
      "cell_type": "code",
      "source": [
        "X_t = pd.concat([X_train_count, X_test_count])\n",
        "y_t = pd.concat([y_train, y_test])"
      ],
      "metadata": {
        "id": "82aTxCXg8TYS"
      },
      "execution_count": null,
      "outputs": []
    },
    {
      "cell_type": "code",
      "source": [
        "from sklearn.model_selection import RepeatedKFold\n",
        "from sklearn.model_selection import cross_val_score"
      ],
      "metadata": {
        "id": "FuekISUR8Gu1"
      },
      "execution_count": null,
      "outputs": []
    },
    {
      "cell_type": "code",
      "source": [
        "cv = RepeatedKFold(n_splits=10, n_repeats=3, random_state=42)\n",
        "scores = cross_val_score(randfor, X_t, y_t, scoring='accuracy', cv=cv, n_jobs=-1)"
      ],
      "metadata": {
        "id": "g3xuADRt6acK"
      },
      "execution_count": null,
      "outputs": []
    },
    {
      "cell_type": "code",
      "source": [
        "from numpy import mean\n",
        "from numpy import std\n",
        "print('Accuracy: %.3f (%.3f)' % (mean(scores), std(scores)))"
      ],
      "metadata": {
        "colab": {
          "base_uri": "https://localhost:8080/"
        },
        "id": "ToC6OpXE76aC",
        "outputId": "5f5316de-71e2-4e3f-c6cf-3647da2b2782"
      },
      "execution_count": null,
      "outputs": [
        {
          "output_type": "stream",
          "name": "stdout",
          "text": [
            "Accuracy: 0.728 (0.015)\n"
          ]
        }
      ]
    },
    {
      "cell_type": "code",
      "source": [
        "X_t = X_t.reset_index()\n",
        "y_t = y_t.reset_index()"
      ],
      "metadata": {
        "id": "MHEqtjOrGNZG"
      },
      "execution_count": null,
      "outputs": []
    },
    {
      "cell_type": "code",
      "source": [
        "d = pd.merge(X_t, y_t, left_index=True, right_index=True)"
      ],
      "metadata": {
        "id": "j3LweyYhFj9I"
      },
      "execution_count": null,
      "outputs": []
    },
    {
      "cell_type": "code",
      "source": [
        "d.drop(['index_x', 'index_y'], axis=1, inplace=True)"
      ],
      "metadata": {
        "id": "JV21B4XKFoRN"
      },
      "execution_count": null,
      "outputs": []
    },
    {
      "cell_type": "code",
      "source": [
        "d.drop(['level_0'], axis=1, inplace=True)"
      ],
      "metadata": {
        "id": "rbBwvkBZy7Q2"
      },
      "execution_count": null,
      "outputs": []
    },
    {
      "cell_type": "code",
      "source": [
        "corr_df = d.corr(method ='pearson')"
      ],
      "metadata": {
        "id": "ZElO0nAdFBa7"
      },
      "execution_count": null,
      "outputs": []
    },
    {
      "cell_type": "code",
      "source": [
        "result = corr_df.reindex(corr_df.target.abs().sort_values(ascending=False).index)"
      ],
      "metadata": {
        "id": "0xaebvUWLmbY"
      },
      "execution_count": null,
      "outputs": []
    },
    {
      "cell_type": "code",
      "source": [
        "result['target']"
      ],
      "metadata": {
        "id": "5Mj8uz6PHQy0"
      },
      "execution_count": null,
      "outputs": []
    },
    {
      "cell_type": "code",
      "source": [],
      "metadata": {
        "id": "l6RXbU5HlG3N"
      },
      "execution_count": null,
      "outputs": []
    }
  ],
  "metadata": {
    "colab": {
      "collapsed_sections": [
        "AjURLvVnB5_v",
        "LNbeldMyB5_1",
        "_3171OypB5_5",
        "GqWh0DVlYFPF"
      ],
      "provenance": [],
      "include_colab_link": true
    },
    "kernelspec": {
      "display_name": "base",
      "language": "python",
      "name": "python3"
    },
    "language_info": {
      "codemirror_mode": {
        "name": "ipython",
        "version": 3
      },
      "file_extension": ".py",
      "mimetype": "text/x-python",
      "name": "python",
      "nbconvert_exporter": "python",
      "pygments_lexer": "ipython3",
      "version": "3.8.12"
    },
    "vscode": {
      "interpreter": {
        "hash": "40d3a090f54c6569ab1632332b64b2c03c39dcf918b08424e98f38b5ae0af88f"
      }
    }
  },
  "nbformat": 4,
  "nbformat_minor": 0
}