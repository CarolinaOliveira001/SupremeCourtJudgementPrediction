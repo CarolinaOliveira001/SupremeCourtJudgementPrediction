{
  "cells": [
    {
      "cell_type": "markdown",
      "metadata": {
        "id": "view-in-github",
        "colab_type": "text"
      },
      "source": [
        "<a href=\"https://colab.research.google.com/github/CarolinaOliveira001/SupremeCourtJudgementPrediction/blob/main/secondTry.ipynb\" target=\"_parent\"><img src=\"https://colab.research.google.com/assets/colab-badge.svg\" alt=\"Open In Colab\"/></a>"
      ]
    },
    {
      "cell_type": "code",
      "execution_count": 1,
      "metadata": {
        "id": "UhFxVu0fB5_m"
      },
      "outputs": [],
      "source": [
        "import logging\n",
        "import pandas as pd\n",
        "import numpy as np\n",
        "from numpy import random\n",
        "import gensim\n",
        "import nltk\n",
        "from sklearn.model_selection import train_test_split\n",
        "from sklearn.feature_extraction.text import CountVectorizer, TfidfVectorizer\n",
        "from sklearn.metrics import accuracy_score, confusion_matrix\n",
        "import matplotlib.pyplot as plt\n",
        "from nltk.corpus import stopwords\n",
        "import re\n",
        "import string\n",
        "from nltk.stem import WordNetLemmatizer, PorterStemmer"
      ]
    },
    {
      "cell_type": "code",
      "execution_count": 4,
      "metadata": {
        "colab": {
          "base_uri": "https://localhost:8080/",
          "height": 206
        },
        "id": "wEmkUO0uB5_p",
        "outputId": "45b33882-5971-47da-ddbc-e7be5b476d8c"
      },
      "outputs": [
        {
          "output_type": "execute_result",
          "data": {
            "text/plain": [
              "                                               facts       issue_area  \\\n",
              "0  <p>In 1970, Jane Roe (a fictional name used in...              NaN   \n",
              "1  <p>Joan Stanley had three children with Peter ...     Civil Rights   \n",
              "2  <p>John Giglio was convicted of passing forged...      Due Process   \n",
              "3  <p>The Idaho Probate Code specified that \"male...     Civil Rights   \n",
              "4  <p>Miller, after conducting a mass mailing cam...  First Amendment   \n",
              "\n",
              "  first_party_winner  \n",
              "0               True  \n",
              "1               True  \n",
              "2               True  \n",
              "3               True  \n",
              "4               True  "
            ],
            "text/html": [
              "\n",
              "  <div id=\"df-414a2005-2dc4-4ae2-ac5e-1315172471f4\">\n",
              "    <div class=\"colab-df-container\">\n",
              "      <div>\n",
              "<style scoped>\n",
              "    .dataframe tbody tr th:only-of-type {\n",
              "        vertical-align: middle;\n",
              "    }\n",
              "\n",
              "    .dataframe tbody tr th {\n",
              "        vertical-align: top;\n",
              "    }\n",
              "\n",
              "    .dataframe thead th {\n",
              "        text-align: right;\n",
              "    }\n",
              "</style>\n",
              "<table border=\"1\" class=\"dataframe\">\n",
              "  <thead>\n",
              "    <tr style=\"text-align: right;\">\n",
              "      <th></th>\n",
              "      <th>facts</th>\n",
              "      <th>issue_area</th>\n",
              "      <th>first_party_winner</th>\n",
              "    </tr>\n",
              "  </thead>\n",
              "  <tbody>\n",
              "    <tr>\n",
              "      <th>0</th>\n",
              "      <td>&lt;p&gt;In 1970, Jane Roe (a fictional name used in...</td>\n",
              "      <td>NaN</td>\n",
              "      <td>True</td>\n",
              "    </tr>\n",
              "    <tr>\n",
              "      <th>1</th>\n",
              "      <td>&lt;p&gt;Joan Stanley had three children with Peter ...</td>\n",
              "      <td>Civil Rights</td>\n",
              "      <td>True</td>\n",
              "    </tr>\n",
              "    <tr>\n",
              "      <th>2</th>\n",
              "      <td>&lt;p&gt;John Giglio was convicted of passing forged...</td>\n",
              "      <td>Due Process</td>\n",
              "      <td>True</td>\n",
              "    </tr>\n",
              "    <tr>\n",
              "      <th>3</th>\n",
              "      <td>&lt;p&gt;The Idaho Probate Code specified that \"male...</td>\n",
              "      <td>Civil Rights</td>\n",
              "      <td>True</td>\n",
              "    </tr>\n",
              "    <tr>\n",
              "      <th>4</th>\n",
              "      <td>&lt;p&gt;Miller, after conducting a mass mailing cam...</td>\n",
              "      <td>First Amendment</td>\n",
              "      <td>True</td>\n",
              "    </tr>\n",
              "  </tbody>\n",
              "</table>\n",
              "</div>\n",
              "      <button class=\"colab-df-convert\" onclick=\"convertToInteractive('df-414a2005-2dc4-4ae2-ac5e-1315172471f4')\"\n",
              "              title=\"Convert this dataframe to an interactive table.\"\n",
              "              style=\"display:none;\">\n",
              "        \n",
              "  <svg xmlns=\"http://www.w3.org/2000/svg\" height=\"24px\"viewBox=\"0 0 24 24\"\n",
              "       width=\"24px\">\n",
              "    <path d=\"M0 0h24v24H0V0z\" fill=\"none\"/>\n",
              "    <path d=\"M18.56 5.44l.94 2.06.94-2.06 2.06-.94-2.06-.94-.94-2.06-.94 2.06-2.06.94zm-11 1L8.5 8.5l.94-2.06 2.06-.94-2.06-.94L8.5 2.5l-.94 2.06-2.06.94zm10 10l.94 2.06.94-2.06 2.06-.94-2.06-.94-.94-2.06-.94 2.06-2.06.94z\"/><path d=\"M17.41 7.96l-1.37-1.37c-.4-.4-.92-.59-1.43-.59-.52 0-1.04.2-1.43.59L10.3 9.45l-7.72 7.72c-.78.78-.78 2.05 0 2.83L4 21.41c.39.39.9.59 1.41.59.51 0 1.02-.2 1.41-.59l7.78-7.78 2.81-2.81c.8-.78.8-2.07 0-2.86zM5.41 20L4 18.59l7.72-7.72 1.47 1.35L5.41 20z\"/>\n",
              "  </svg>\n",
              "      </button>\n",
              "      \n",
              "  <style>\n",
              "    .colab-df-container {\n",
              "      display:flex;\n",
              "      flex-wrap:wrap;\n",
              "      gap: 12px;\n",
              "    }\n",
              "\n",
              "    .colab-df-convert {\n",
              "      background-color: #E8F0FE;\n",
              "      border: none;\n",
              "      border-radius: 50%;\n",
              "      cursor: pointer;\n",
              "      display: none;\n",
              "      fill: #1967D2;\n",
              "      height: 32px;\n",
              "      padding: 0 0 0 0;\n",
              "      width: 32px;\n",
              "    }\n",
              "\n",
              "    .colab-df-convert:hover {\n",
              "      background-color: #E2EBFA;\n",
              "      box-shadow: 0px 1px 2px rgba(60, 64, 67, 0.3), 0px 1px 3px 1px rgba(60, 64, 67, 0.15);\n",
              "      fill: #174EA6;\n",
              "    }\n",
              "\n",
              "    [theme=dark] .colab-df-convert {\n",
              "      background-color: #3B4455;\n",
              "      fill: #D2E3FC;\n",
              "    }\n",
              "\n",
              "    [theme=dark] .colab-df-convert:hover {\n",
              "      background-color: #434B5C;\n",
              "      box-shadow: 0px 1px 3px 1px rgba(0, 0, 0, 0.15);\n",
              "      filter: drop-shadow(0px 1px 2px rgba(0, 0, 0, 0.3));\n",
              "      fill: #FFFFFF;\n",
              "    }\n",
              "  </style>\n",
              "\n",
              "      <script>\n",
              "        const buttonEl =\n",
              "          document.querySelector('#df-414a2005-2dc4-4ae2-ac5e-1315172471f4 button.colab-df-convert');\n",
              "        buttonEl.style.display =\n",
              "          google.colab.kernel.accessAllowed ? 'block' : 'none';\n",
              "\n",
              "        async function convertToInteractive(key) {\n",
              "          const element = document.querySelector('#df-414a2005-2dc4-4ae2-ac5e-1315172471f4');\n",
              "          const dataTable =\n",
              "            await google.colab.kernel.invokeFunction('convertToInteractive',\n",
              "                                                     [key], {});\n",
              "          if (!dataTable) return;\n",
              "\n",
              "          const docLinkHtml = 'Like what you see? Visit the ' +\n",
              "            '<a target=\"_blank\" href=https://colab.research.google.com/notebooks/data_table.ipynb>data table notebook</a>'\n",
              "            + ' to learn more about interactive tables.';\n",
              "          element.innerHTML = '';\n",
              "          dataTable['output_type'] = 'display_data';\n",
              "          await google.colab.output.renderOutput(dataTable, element);\n",
              "          const docLink = document.createElement('div');\n",
              "          docLink.innerHTML = docLinkHtml;\n",
              "          element.appendChild(docLink);\n",
              "        }\n",
              "      </script>\n",
              "    </div>\n",
              "  </div>\n",
              "  "
            ]
          },
          "metadata": {},
          "execution_count": 4
        }
      ],
      "source": [
        "df = pd.read_csv(\"justice.csv\")\n",
        "df = df[[\"facts\", \"issue_area\", \"first_party_winner\"]]\n",
        "df.head(5)"
      ]
    },
    {
      "cell_type": "code",
      "execution_count": 5,
      "metadata": {
        "id": "ph5AewFqB5_q"
      },
      "outputs": [],
      "source": [
        "df['issue_area'] = df['issue_area'].replace({\"Due Process\": \"Others\", \"Privacy\": \"Others\", \"Federal Taxation\": \"Others\", \n",
        "                                                     \"Unions\": \"Others\", \"Federalism\": \"Others\", \"Attorneys\": \"Others\",\n",
        "                                                     \"Miscellaneous\": \"Others\", \"Interstate Relations\": \"Others\", \"Private Action\": \"Others\"})"
      ]
    },
    {
      "cell_type": "code",
      "execution_count": 6,
      "metadata": {
        "colab": {
          "base_uri": "https://localhost:8080/"
        },
        "id": "3Fagi6QhB5_q",
        "outputId": "1fe3e2cc-668d-4df1-eec1-ad1b7e998479"
      },
      "outputs": [
        {
          "output_type": "execute_result",
          "data": {
            "text/plain": [
              "facts                   0\n",
              "issue_area            142\n",
              "first_party_winner     15\n",
              "dtype: int64"
            ]
          },
          "metadata": {},
          "execution_count": 6
        }
      ],
      "source": [
        "df.isna().sum()"
      ]
    },
    {
      "cell_type": "code",
      "execution_count": 7,
      "metadata": {
        "id": "-TYIkWLpB5_r"
      },
      "outputs": [],
      "source": [
        "df.dropna(subset=['first_party_winner'], inplace=True)"
      ]
    },
    {
      "cell_type": "code",
      "execution_count": 8,
      "metadata": {
        "colab": {
          "base_uri": "https://localhost:8080/"
        },
        "id": "pjJw3cF2B5_r",
        "outputId": "a8476d53-de0d-4205-d7d3-4fd584b24158"
      },
      "outputs": [
        {
          "output_type": "execute_result",
          "data": {
            "text/plain": [
              "facts                   0\n",
              "issue_area            129\n",
              "first_party_winner      0\n",
              "dtype: int64"
            ]
          },
          "metadata": {},
          "execution_count": 8
        }
      ],
      "source": [
        "df.isna().sum()"
      ]
    },
    {
      "cell_type": "code",
      "source": [
        "from sklearn import preprocessing\n",
        "le = preprocessing.LabelEncoder()"
      ],
      "metadata": {
        "id": "Drj1-VfOj2Ut"
      },
      "execution_count": 9,
      "outputs": []
    },
    {
      "cell_type": "code",
      "source": [
        "le.fit(df[\"first_party_winner\"])"
      ],
      "metadata": {
        "colab": {
          "base_uri": "https://localhost:8080/"
        },
        "id": "TfqPJk2ij3xX",
        "outputId": "e8edd542-3c8a-446b-9d12-d693209ccf6e"
      },
      "execution_count": 10,
      "outputs": [
        {
          "output_type": "execute_result",
          "data": {
            "text/plain": [
              "LabelEncoder()"
            ]
          },
          "metadata": {},
          "execution_count": 10
        }
      ]
    },
    {
      "cell_type": "code",
      "source": [
        "df[\"first_party_winner\"] = le.transform(df[\"first_party_winner\"])"
      ],
      "metadata": {
        "id": "0t8M0nYRj_va"
      },
      "execution_count": 11,
      "outputs": []
    },
    {
      "cell_type": "code",
      "execution_count": 12,
      "metadata": {
        "id": "u-7ZcQTAB5_r"
      },
      "outputs": [],
      "source": [
        "df_withNA = df[df['issue_area'].isna()]\n",
        "df_withNA = df_withNA.reset_index(drop=True)"
      ]
    },
    {
      "cell_type": "code",
      "execution_count": 13,
      "metadata": {
        "id": "Mpu9H_1iB5_s"
      },
      "outputs": [],
      "source": [
        "df_withoutNA = df.dropna(subset=['issue_area'])\n",
        "df_withoutNA = df_withoutNA.reset_index(drop=True)"
      ]
    },
    {
      "cell_type": "code",
      "execution_count": 14,
      "metadata": {
        "id": "tzd6NxjGB5_s",
        "colab": {
          "base_uri": "https://localhost:8080/"
        },
        "outputId": "3248174e-9b2c-4717-9363-ea2402774f02"
      },
      "outputs": [
        {
          "output_type": "stream",
          "name": "stdout",
          "text": [
            "There are 549349 words in the dataframe.\n"
          ]
        }
      ],
      "source": [
        "print(\"There are\", df_withoutNA['facts'].apply(lambda x: len(x.split(' '))).sum(), \"words in the dataframe.\")"
      ]
    },
    {
      "cell_type": "code",
      "source": [
        "nltk.download('stopwords')"
      ],
      "metadata": {
        "colab": {
          "base_uri": "https://localhost:8080/"
        },
        "id": "slkjr7DCEj81",
        "outputId": "1fdbde03-10ff-421d-bae5-062095c4aa57"
      },
      "execution_count": 15,
      "outputs": [
        {
          "output_type": "stream",
          "name": "stderr",
          "text": [
            "[nltk_data] Downloading package stopwords to /root/nltk_data...\n",
            "[nltk_data]   Unzipping corpora/stopwords.zip.\n"
          ]
        },
        {
          "output_type": "execute_result",
          "data": {
            "text/plain": [
              "True"
            ]
          },
          "metadata": {},
          "execution_count": 15
        }
      ]
    },
    {
      "cell_type": "code",
      "execution_count": 16,
      "metadata": {
        "id": "hNykPVtXB5_t"
      },
      "outputs": [],
      "source": [
        "stop_words = stopwords.words(\"english\")\n",
        "wordnet_lemmatizer = WordNetLemmatizer()"
      ]
    },
    {
      "cell_type": "code",
      "execution_count": 17,
      "metadata": {
        "id": "YcZZ9vhoB5_t"
      },
      "outputs": [],
      "source": [
        "pattern = r'[' + string.punctuation + ']'\n",
        "\n",
        "def clean_text(text, stemming = False, lemmatization = False):\n",
        "    \"\"\"\n",
        "        text: a string\n",
        "        \n",
        "        return: modified initial string\n",
        "    \"\"\"\n",
        "    text = re.sub(pattern, \" \", str(text))\n",
        "    text = text.lower()\n",
        "    text = re.sub(r\"\\d+\", \"\", text)\n",
        "    text = re.sub(r\"\\b[a-zA-Z]\\b\", \"\", text)\n",
        "    text = re.sub(r\"\\W\", \" \", text)\n",
        "    text = re.sub(' +', ' ', text)\n",
        "    text = ' '.join(word for word in text.split() if word not in stop_words) # delete stopwors from text\n",
        "    if stemming:\n",
        "        st = PorterStemmer()\n",
        "        text = \" \".join([st.stem(w) for w in text.split()])\n",
        "    \n",
        "    if lemmatization:\n",
        "        wordnet_lemmatizer = WordNetLemmatizer()\n",
        "        text = ' '.join([wordnet_lemmatizer.lemmatize(w, pos='v') for w in text.split()])\n",
        "    return text\n",
        "    "
      ]
    },
    {
      "cell_type": "code",
      "source": [
        "nltk.download('wordnet')\n",
        "nltk.download('omw-1.4')"
      ],
      "metadata": {
        "colab": {
          "base_uri": "https://localhost:8080/"
        },
        "id": "uMmdLjrOEoo_",
        "outputId": "38ccfc5c-dd92-40c0-a63b-6ef79d04a3e4"
      },
      "execution_count": 18,
      "outputs": [
        {
          "output_type": "stream",
          "name": "stderr",
          "text": [
            "[nltk_data] Downloading package wordnet to /root/nltk_data...\n",
            "[nltk_data] Downloading package omw-1.4 to /root/nltk_data...\n"
          ]
        },
        {
          "output_type": "execute_result",
          "data": {
            "text/plain": [
              "True"
            ]
          },
          "metadata": {},
          "execution_count": 18
        }
      ]
    },
    {
      "cell_type": "code",
      "execution_count": 19,
      "metadata": {
        "id": "l08KMvA8B5_u"
      },
      "outputs": [],
      "source": [
        "df_withoutNA['facts'] = df_withoutNA['facts'].map(lambda x: clean_text(x, stemming=False, lemmatization = True))"
      ]
    },
    {
      "cell_type": "code",
      "execution_count": 20,
      "metadata": {
        "colab": {
          "base_uri": "https://localhost:8080/",
          "height": 143
        },
        "id": "s0nmE_uwB5_u",
        "outputId": "5ae2ce0d-388d-4e46-e719-f53fbad20a34"
      },
      "outputs": [
        {
          "output_type": "execute_result",
          "data": {
            "text/plain": [
              "                                               facts    issue_area  \\\n",
              "0  joan stanley three children peter stanley stan...  Civil Rights   \n",
              "1  john giglio convict pass forge money order app...        Others   \n",
              "2  idaho probate code specify males must prefer f...  Civil Rights   \n",
              "\n",
              "   first_party_winner  \n",
              "0                   1  \n",
              "1                   1  \n",
              "2                   1  "
            ],
            "text/html": [
              "\n",
              "  <div id=\"df-da2e9809-6b9d-435f-8a8a-f07f42fe101c\">\n",
              "    <div class=\"colab-df-container\">\n",
              "      <div>\n",
              "<style scoped>\n",
              "    .dataframe tbody tr th:only-of-type {\n",
              "        vertical-align: middle;\n",
              "    }\n",
              "\n",
              "    .dataframe tbody tr th {\n",
              "        vertical-align: top;\n",
              "    }\n",
              "\n",
              "    .dataframe thead th {\n",
              "        text-align: right;\n",
              "    }\n",
              "</style>\n",
              "<table border=\"1\" class=\"dataframe\">\n",
              "  <thead>\n",
              "    <tr style=\"text-align: right;\">\n",
              "      <th></th>\n",
              "      <th>facts</th>\n",
              "      <th>issue_area</th>\n",
              "      <th>first_party_winner</th>\n",
              "    </tr>\n",
              "  </thead>\n",
              "  <tbody>\n",
              "    <tr>\n",
              "      <th>0</th>\n",
              "      <td>joan stanley three children peter stanley stan...</td>\n",
              "      <td>Civil Rights</td>\n",
              "      <td>1</td>\n",
              "    </tr>\n",
              "    <tr>\n",
              "      <th>1</th>\n",
              "      <td>john giglio convict pass forge money order app...</td>\n",
              "      <td>Others</td>\n",
              "      <td>1</td>\n",
              "    </tr>\n",
              "    <tr>\n",
              "      <th>2</th>\n",
              "      <td>idaho probate code specify males must prefer f...</td>\n",
              "      <td>Civil Rights</td>\n",
              "      <td>1</td>\n",
              "    </tr>\n",
              "  </tbody>\n",
              "</table>\n",
              "</div>\n",
              "      <button class=\"colab-df-convert\" onclick=\"convertToInteractive('df-da2e9809-6b9d-435f-8a8a-f07f42fe101c')\"\n",
              "              title=\"Convert this dataframe to an interactive table.\"\n",
              "              style=\"display:none;\">\n",
              "        \n",
              "  <svg xmlns=\"http://www.w3.org/2000/svg\" height=\"24px\"viewBox=\"0 0 24 24\"\n",
              "       width=\"24px\">\n",
              "    <path d=\"M0 0h24v24H0V0z\" fill=\"none\"/>\n",
              "    <path d=\"M18.56 5.44l.94 2.06.94-2.06 2.06-.94-2.06-.94-.94-2.06-.94 2.06-2.06.94zm-11 1L8.5 8.5l.94-2.06 2.06-.94-2.06-.94L8.5 2.5l-.94 2.06-2.06.94zm10 10l.94 2.06.94-2.06 2.06-.94-2.06-.94-.94-2.06-.94 2.06-2.06.94z\"/><path d=\"M17.41 7.96l-1.37-1.37c-.4-.4-.92-.59-1.43-.59-.52 0-1.04.2-1.43.59L10.3 9.45l-7.72 7.72c-.78.78-.78 2.05 0 2.83L4 21.41c.39.39.9.59 1.41.59.51 0 1.02-.2 1.41-.59l7.78-7.78 2.81-2.81c.8-.78.8-2.07 0-2.86zM5.41 20L4 18.59l7.72-7.72 1.47 1.35L5.41 20z\"/>\n",
              "  </svg>\n",
              "      </button>\n",
              "      \n",
              "  <style>\n",
              "    .colab-df-container {\n",
              "      display:flex;\n",
              "      flex-wrap:wrap;\n",
              "      gap: 12px;\n",
              "    }\n",
              "\n",
              "    .colab-df-convert {\n",
              "      background-color: #E8F0FE;\n",
              "      border: none;\n",
              "      border-radius: 50%;\n",
              "      cursor: pointer;\n",
              "      display: none;\n",
              "      fill: #1967D2;\n",
              "      height: 32px;\n",
              "      padding: 0 0 0 0;\n",
              "      width: 32px;\n",
              "    }\n",
              "\n",
              "    .colab-df-convert:hover {\n",
              "      background-color: #E2EBFA;\n",
              "      box-shadow: 0px 1px 2px rgba(60, 64, 67, 0.3), 0px 1px 3px 1px rgba(60, 64, 67, 0.15);\n",
              "      fill: #174EA6;\n",
              "    }\n",
              "\n",
              "    [theme=dark] .colab-df-convert {\n",
              "      background-color: #3B4455;\n",
              "      fill: #D2E3FC;\n",
              "    }\n",
              "\n",
              "    [theme=dark] .colab-df-convert:hover {\n",
              "      background-color: #434B5C;\n",
              "      box-shadow: 0px 1px 3px 1px rgba(0, 0, 0, 0.15);\n",
              "      filter: drop-shadow(0px 1px 2px rgba(0, 0, 0, 0.3));\n",
              "      fill: #FFFFFF;\n",
              "    }\n",
              "  </style>\n",
              "\n",
              "      <script>\n",
              "        const buttonEl =\n",
              "          document.querySelector('#df-da2e9809-6b9d-435f-8a8a-f07f42fe101c button.colab-df-convert');\n",
              "        buttonEl.style.display =\n",
              "          google.colab.kernel.accessAllowed ? 'block' : 'none';\n",
              "\n",
              "        async function convertToInteractive(key) {\n",
              "          const element = document.querySelector('#df-da2e9809-6b9d-435f-8a8a-f07f42fe101c');\n",
              "          const dataTable =\n",
              "            await google.colab.kernel.invokeFunction('convertToInteractive',\n",
              "                                                     [key], {});\n",
              "          if (!dataTable) return;\n",
              "\n",
              "          const docLinkHtml = 'Like what you see? Visit the ' +\n",
              "            '<a target=\"_blank\" href=https://colab.research.google.com/notebooks/data_table.ipynb>data table notebook</a>'\n",
              "            + ' to learn more about interactive tables.';\n",
              "          element.innerHTML = '';\n",
              "          dataTable['output_type'] = 'display_data';\n",
              "          await google.colab.output.renderOutput(dataTable, element);\n",
              "          const docLink = document.createElement('div');\n",
              "          docLink.innerHTML = docLinkHtml;\n",
              "          element.appendChild(docLink);\n",
              "        }\n",
              "      </script>\n",
              "    </div>\n",
              "  </div>\n",
              "  "
            ]
          },
          "metadata": {},
          "execution_count": 20
        }
      ],
      "source": [
        "df_withoutNA.head(3)"
      ]
    },
    {
      "cell_type": "code",
      "execution_count": 21,
      "metadata": {
        "colab": {
          "base_uri": "https://localhost:8080/"
        },
        "id": "WHr0quLtB5_u",
        "outputId": "bf4d5b7e-155e-4dde-b673-cbe57c0b1ae5"
      },
      "outputs": [
        {
          "output_type": "stream",
          "name": "stdout",
          "text": [
            "There are 322095 words in the dataframe.\n"
          ]
        }
      ],
      "source": [
        "print(\"There are\",df_withoutNA['facts'].apply(lambda x: len(x.split(' '))).sum(), \"words in the dataframe.\")"
      ]
    },
    {
      "cell_type": "code",
      "source": [
        "my_issue_area = list(set(df_withoutNA[\"issue_area\"]))"
      ],
      "metadata": {
        "id": "QgAtajrqheNY"
      },
      "execution_count": 41,
      "outputs": []
    },
    {
      "cell_type": "markdown",
      "metadata": {
        "id": "AjURLvVnB5_v"
      },
      "source": [
        "# Without deleting most frequent words"
      ]
    },
    {
      "cell_type": "code",
      "execution_count": null,
      "metadata": {
        "id": "8aUW629YB5_w"
      },
      "outputs": [],
      "source": [
        "X = df_withoutNA.facts\n",
        "y = df_withoutNA.issue_area\n",
        "X_train, X_test, y_train, y_test = train_test_split(X, y, test_size=0.3, random_state = 42)"
      ]
    },
    {
      "cell_type": "code",
      "execution_count": null,
      "metadata": {
        "colab": {
          "base_uri": "https://localhost:8080/"
        },
        "id": "o0giPH5yB5_w",
        "outputId": "da810a0c-5339-4036-ecec-369c0a30c5fa"
      },
      "outputs": [
        {
          "output_type": "execute_result",
          "data": {
            "text/plain": [
              "Pipeline(steps=[('vect', CountVectorizer()), ('tfidf', TfidfTransformer()),\n",
              "                ('clf', MultinomialNB())])"
            ]
          },
          "metadata": {},
          "execution_count": 70
        }
      ],
      "source": [
        "from sklearn.naive_bayes import MultinomialNB\n",
        "from sklearn.pipeline import Pipeline\n",
        "from sklearn.feature_extraction.text import TfidfTransformer\n",
        "\n",
        "nb = Pipeline([('vect', CountVectorizer()),\n",
        "               ('tfidf', TfidfTransformer()),\n",
        "               ('clf', MultinomialNB()),\n",
        "              ])\n",
        "nb.fit(X_train, y_train)"
      ]
    },
    {
      "cell_type": "code",
      "execution_count": null,
      "metadata": {
        "colab": {
          "base_uri": "https://localhost:8080/"
        },
        "id": "AC4GnJD-B5_x",
        "outputId": "a19323aa-03c5-4d1a-9609-42741f7bd3d9"
      },
      "outputs": [
        {
          "output_type": "stream",
          "name": "stdout",
          "text": [
            "CPU times: user 105 ms, sys: 0 ns, total: 105 ms\n",
            "Wall time: 117 ms\n"
          ]
        }
      ],
      "source": [
        "%%time\n",
        "from sklearn.metrics import classification_report\n",
        "y_pred = nb.predict(X_test)"
      ]
    },
    {
      "cell_type": "code",
      "execution_count": null,
      "metadata": {
        "colab": {
          "base_uri": "https://localhost:8080/"
        },
        "id": "OaYpI43fB5_x",
        "outputId": "a950a04b-3de8-4363-fc62-d28ac7ba7289"
      },
      "outputs": [
        {
          "output_type": "execute_result",
          "data": {
            "text/plain": [
              "['Economic Activity',\n",
              " 'Others',\n",
              " 'First Amendment',\n",
              " 'Criminal Procedure',\n",
              " 'Civil Rights']"
            ]
          },
          "metadata": {},
          "execution_count": 72
        }
      ],
      "source": [
        "list(set(y_pred))"
      ]
    },
    {
      "cell_type": "code",
      "execution_count": null,
      "metadata": {
        "colab": {
          "base_uri": "https://localhost:8080/"
        },
        "id": "pvgKCQ2jB5_x",
        "outputId": "471638b7-c3b8-481a-8b81-c142a7fdf768"
      },
      "outputs": [
        {
          "output_type": "execute_result",
          "data": {
            "text/plain": [
              "['Economic Activity',\n",
              " 'Others',\n",
              " 'First Amendment',\n",
              " 'Criminal Procedure',\n",
              " 'Judicial Power',\n",
              " 'Civil Rights']"
            ]
          },
          "metadata": {},
          "execution_count": 73
        }
      ],
      "source": [
        "list(set(y_test))"
      ]
    },
    {
      "cell_type": "code",
      "execution_count": null,
      "metadata": {
        "id": "5ujVjV0ZB5_y"
      },
      "outputs": [],
      "source": [
        "import warnings\n",
        "warnings.filterwarnings('always') #We can set it later to 'ignore'."
      ]
    },
    {
      "cell_type": "code",
      "execution_count": null,
      "metadata": {
        "colab": {
          "base_uri": "https://localhost:8080/"
        },
        "id": "CzMblcVBB5_y",
        "outputId": "5899a2db-26d6-4bc3-835b-315aeeab1bfe"
      },
      "outputs": [
        {
          "output_type": "stream",
          "name": "stdout",
          "text": [
            "accuracy 0.5580168776371308\n",
            "                    precision    recall  f1-score   support\n",
            "\n",
            "            Others       0.60      0.51      0.55       184\n",
            " Economic Activity       0.51      0.99      0.67       258\n",
            "   First Amendment       0.64      0.63      0.64       161\n",
            "Criminal Procedure       0.84      0.17      0.28        96\n",
            "      Civil Rights       0.00      0.00      0.00       111\n",
            "    Judicial Power       0.56      0.45      0.50       138\n",
            "\n",
            "          accuracy                           0.56       948\n",
            "         macro avg       0.53      0.46      0.44       948\n",
            "      weighted avg       0.53      0.56      0.50       948\n",
            "\n"
          ]
        },
        {
          "output_type": "stream",
          "name": "stderr",
          "text": [
            "/usr/local/lib/python3.8/dist-packages/sklearn/metrics/_classification.py:1318: UndefinedMetricWarning: Precision and F-score are ill-defined and being set to 0.0 in labels with no predicted samples. Use `zero_division` parameter to control this behavior.\n",
            "  _warn_prf(average, modifier, msg_start, len(result))\n",
            "/usr/local/lib/python3.8/dist-packages/sklearn/metrics/_classification.py:1318: UndefinedMetricWarning: Precision and F-score are ill-defined and being set to 0.0 in labels with no predicted samples. Use `zero_division` parameter to control this behavior.\n",
            "  _warn_prf(average, modifier, msg_start, len(result))\n",
            "/usr/local/lib/python3.8/dist-packages/sklearn/metrics/_classification.py:1318: UndefinedMetricWarning: Precision and F-score are ill-defined and being set to 0.0 in labels with no predicted samples. Use `zero_division` parameter to control this behavior.\n",
            "  _warn_prf(average, modifier, msg_start, len(result))\n"
          ]
        }
      ],
      "source": [
        "print('accuracy %s' % accuracy_score(y_pred, y_test))\n",
        "print(classification_report(y_test, y_pred, target_names=my_issue_area))"
      ]
    },
    {
      "cell_type": "code",
      "execution_count": null,
      "metadata": {
        "colab": {
          "base_uri": "https://localhost:8080/"
        },
        "id": "-mRUhhp-B5_y",
        "outputId": "a4b88334-029a-4e70-96b6-4f987918969a"
      },
      "outputs": [
        {
          "output_type": "execute_result",
          "data": {
            "text/plain": [
              "Pipeline(steps=[('vect', CountVectorizer(ngram_range=(1, 2))),\n",
              "                ('tfidf', TfidfTransformer()),\n",
              "                ('clf',\n",
              "                 SGDClassifier(alpha=0.001, max_iter=5, random_state=42,\n",
              "                               tol=None))])"
            ]
          },
          "metadata": {},
          "execution_count": 77
        }
      ],
      "source": [
        "from sklearn.linear_model import SGDClassifier\n",
        "\n",
        "sgd = Pipeline([('vect', CountVectorizer(ngram_range=(1, 2))),\n",
        "                ('tfidf', TfidfTransformer()),\n",
        "                ('clf', SGDClassifier(loss='hinge', penalty='l2',alpha=1e-3, random_state=42, max_iter=5, tol=None)),\n",
        "               ])\n",
        "sgd.fit(X_train, y_train)"
      ]
    },
    {
      "cell_type": "code",
      "execution_count": null,
      "metadata": {
        "colab": {
          "base_uri": "https://localhost:8080/"
        },
        "id": "WGrgHSyZB5_y",
        "outputId": "8849ce15-122e-41fb-ef1a-541a85f7c906"
      },
      "outputs": [
        {
          "output_type": "stream",
          "name": "stdout",
          "text": [
            "CPU times: user 220 ms, sys: 64 ms, total: 284 ms\n",
            "Wall time: 224 ms\n"
          ]
        }
      ],
      "source": [
        "%%time\n",
        "y_pred = sgd.predict(X_test)"
      ]
    },
    {
      "cell_type": "code",
      "execution_count": null,
      "metadata": {
        "colab": {
          "base_uri": "https://localhost:8080/"
        },
        "id": "Asdtex8SB5_z",
        "outputId": "2b5061b6-35f5-407c-c29c-71fabbc86f91"
      },
      "outputs": [
        {
          "output_type": "stream",
          "name": "stdout",
          "text": [
            "accuracy 0.6867088607594937\n",
            "                    precision    recall  f1-score   support\n",
            "\n",
            "            Others       0.74      0.65      0.69       184\n",
            " Economic Activity       0.68      0.98      0.81       258\n",
            "   First Amendment       0.69      0.71      0.70       161\n",
            "Criminal Procedure       0.68      0.72      0.70        96\n",
            "      Civil Rights       0.62      0.21      0.31       111\n",
            "    Judicial Power       0.64      0.52      0.57       138\n",
            "\n",
            "          accuracy                           0.69       948\n",
            "         macro avg       0.68      0.63      0.63       948\n",
            "      weighted avg       0.68      0.69      0.66       948\n",
            "\n"
          ]
        }
      ],
      "source": [
        "print('accuracy %s' % accuracy_score(y_pred, y_test))\n",
        "print(classification_report(y_test, y_pred,target_names=my_issue_area))"
      ]
    },
    {
      "cell_type": "code",
      "execution_count": null,
      "metadata": {
        "colab": {
          "base_uri": "https://localhost:8080/"
        },
        "id": "7WMlPF7CB5_z",
        "outputId": "6a1a6d80-c894-4356-e68b-15437845f28e"
      },
      "outputs": [
        {
          "output_type": "execute_result",
          "data": {
            "text/plain": [
              "Pipeline(steps=[('vect', CountVectorizer(ngram_range=(1, 2))),\n",
              "                ('tfidf', TfidfTransformer()),\n",
              "                ('clf',\n",
              "                 LogisticRegression(C=100000.0, max_iter=100000, n_jobs=1))])"
            ]
          },
          "metadata": {},
          "execution_count": 80
        }
      ],
      "source": [
        "from sklearn.linear_model import LogisticRegression\n",
        "\n",
        "logreg = Pipeline([('vect', CountVectorizer(ngram_range=(1, 2))),\n",
        "                ('tfidf', TfidfTransformer()),\n",
        "                ('clf', LogisticRegression(n_jobs=1, C=1e5, solver='lbfgs', max_iter=100000)),\n",
        "               ])\n",
        "logreg.fit(X_train, y_train)"
      ]
    },
    {
      "cell_type": "code",
      "execution_count": null,
      "metadata": {
        "colab": {
          "base_uri": "https://localhost:8080/"
        },
        "id": "8FPZWRN6B5_z",
        "outputId": "a9bcf1e6-ea01-4279-8c7d-f5a2b138ef50"
      },
      "outputs": [
        {
          "output_type": "stream",
          "name": "stdout",
          "text": [
            "CPU times: user 203 ms, sys: 614 µs, total: 204 ms\n",
            "Wall time: 205 ms\n"
          ]
        }
      ],
      "source": [
        "%%time\n",
        "y_pred = logreg.predict(X_test)"
      ]
    },
    {
      "cell_type": "code",
      "execution_count": null,
      "metadata": {
        "colab": {
          "base_uri": "https://localhost:8080/"
        },
        "id": "zRPIEPUhB5_z",
        "outputId": "e60e6ba9-fa9e-46e8-cfe9-567cd9f54693"
      },
      "outputs": [
        {
          "output_type": "stream",
          "name": "stdout",
          "text": [
            "accuracy 0.7056962025316456\n",
            "                    precision    recall  f1-score   support\n",
            "\n",
            "            Others       0.72      0.69      0.71       184\n",
            " Economic Activity       0.78      0.94      0.85       258\n",
            "   First Amendment       0.70      0.70      0.70       161\n",
            "Criminal Procedure       0.70      0.77      0.74        96\n",
            "      Civil Rights       0.53      0.31      0.39       111\n",
            "    Judicial Power       0.62      0.58      0.60       138\n",
            "\n",
            "          accuracy                           0.71       948\n",
            "         macro avg       0.67      0.66      0.66       948\n",
            "      weighted avg       0.69      0.71      0.69       948\n",
            "\n"
          ]
        }
      ],
      "source": [
        "print('accuracy %s' % accuracy_score(y_pred, y_test))\n",
        "print(classification_report(y_test, y_pred,target_names=my_issue_area))"
      ]
    },
    {
      "cell_type": "code",
      "execution_count": null,
      "metadata": {
        "colab": {
          "base_uri": "https://localhost:8080/"
        },
        "id": "NMdSNWmiB5_z",
        "outputId": "56970770-a9b3-4068-eaed-a651540e4f41"
      },
      "outputs": [
        {
          "output_type": "execute_result",
          "data": {
            "text/plain": [
              "Pipeline(steps=[('vect', CountVectorizer(ngram_range=(1, 2))),\n",
              "                ('tfidf', TfidfTransformer()),\n",
              "                ('clf',\n",
              "                 RandomForestClassifier(max_depth=10, n_estimators=10,\n",
              "                                        random_state=10))])"
            ]
          },
          "metadata": {},
          "execution_count": 83
        }
      ],
      "source": [
        "from sklearn.ensemble import RandomForestClassifier\n",
        "\n",
        "randfor = Pipeline([('vect', CountVectorizer(ngram_range=(1, 2))),\n",
        "                ('tfidf', TfidfTransformer()),\n",
        "                ('clf', RandomForestClassifier(n_estimators= 10, max_depth=10, random_state=10)),\n",
        "               ])\n",
        "randfor.fit(X_train, y_train)"
      ]
    },
    {
      "cell_type": "code",
      "execution_count": null,
      "metadata": {
        "colab": {
          "base_uri": "https://localhost:8080/"
        },
        "id": "uD9gRHLuB5_z",
        "outputId": "2e2f9a1c-f80d-430d-efa7-cf282d873219"
      },
      "outputs": [
        {
          "output_type": "stream",
          "name": "stdout",
          "text": [
            "CPU times: user 188 ms, sys: 973 µs, total: 189 ms\n",
            "Wall time: 194 ms\n"
          ]
        }
      ],
      "source": [
        "%%time\n",
        "y_pred = randfor.predict(X_test)"
      ]
    },
    {
      "cell_type": "code",
      "execution_count": null,
      "metadata": {
        "colab": {
          "base_uri": "https://localhost:8080/"
        },
        "id": "B1T0pa8PB5_0",
        "outputId": "bf920638-4010-4d87-fe1f-599cbda3538c"
      },
      "outputs": [
        {
          "output_type": "stream",
          "name": "stdout",
          "text": [
            "accuracy 0.4272151898734177\n",
            "                    precision    recall  f1-score   support\n",
            "\n",
            "            Others       0.60      0.32      0.42       184\n",
            " Economic Activity       0.38      0.97      0.54       258\n",
            "   First Amendment       0.46      0.35      0.39       161\n",
            "Criminal Procedure       0.88      0.23      0.36        96\n",
            "      Civil Rights       0.57      0.04      0.07       111\n",
            "    Judicial Power       0.48      0.11      0.18       138\n",
            "\n",
            "          accuracy                           0.43       948\n",
            "         macro avg       0.56      0.33      0.33       948\n",
            "      weighted avg       0.52      0.43      0.37       948\n",
            "\n"
          ]
        }
      ],
      "source": [
        "print('accuracy %s' % accuracy_score(y_pred, y_test))\n",
        "print(classification_report(y_test, y_pred,target_names=my_issue_area))"
      ]
    },
    {
      "cell_type": "code",
      "execution_count": null,
      "metadata": {
        "colab": {
          "base_uri": "https://localhost:8080/"
        },
        "id": "9h_NXxQaB5_0",
        "outputId": "f3a4a1b6-165d-4d3a-aad3-056bf73225cb"
      },
      "outputs": [
        {
          "output_type": "execute_result",
          "data": {
            "text/plain": [
              "Pipeline(steps=[('vect', CountVectorizer(ngram_range=(1, 2))),\n",
              "                ('tfidf', TfidfTransformer()),\n",
              "                ('clf',\n",
              "                 GradientBoostingClassifier(max_depth=10, n_estimators=10,\n",
              "                                            random_state=10))])"
            ]
          },
          "metadata": {},
          "execution_count": 86
        }
      ],
      "source": [
        "from sklearn.ensemble import GradientBoostingClassifier\n",
        "graboos = Pipeline([('vect', CountVectorizer(ngram_range=(1, 2))),\n",
        "                ('tfidf', TfidfTransformer()),\n",
        "                ('clf', GradientBoostingClassifier(n_estimators=10, max_depth=10, random_state=10)),\n",
        "               ])\n",
        "graboos.fit(X_train, y_train)"
      ]
    },
    {
      "cell_type": "code",
      "execution_count": null,
      "metadata": {
        "colab": {
          "base_uri": "https://localhost:8080/"
        },
        "id": "APsr1EzBB5_0",
        "outputId": "613adff5-5509-4186-fd7d-96267cd2e0b1"
      },
      "outputs": [
        {
          "output_type": "stream",
          "name": "stdout",
          "text": [
            "CPU times: user 195 ms, sys: 1.8 ms, total: 197 ms\n",
            "Wall time: 197 ms\n"
          ]
        }
      ],
      "source": [
        "%%time\n",
        "y_pred = graboos.predict(X_test)"
      ]
    },
    {
      "cell_type": "code",
      "execution_count": null,
      "metadata": {
        "colab": {
          "base_uri": "https://localhost:8080/"
        },
        "id": "ng9QNYK_B5_0",
        "outputId": "78f3bdb4-5b37-480b-a69c-e407165f5882"
      },
      "outputs": [
        {
          "output_type": "stream",
          "name": "stdout",
          "text": [
            "accuracy 0.6086497890295358\n",
            "                    precision    recall  f1-score   support\n",
            "\n",
            "            Others       0.63      0.54      0.58       184\n",
            " Economic Activity       0.70      0.88      0.78       258\n",
            "   First Amendment       0.63      0.60      0.62       161\n",
            "Criminal Procedure       0.68      0.64      0.66        96\n",
            "      Civil Rights       0.47      0.28      0.35       111\n",
            "    Judicial Power       0.40      0.44      0.42       138\n",
            "\n",
            "          accuracy                           0.61       948\n",
            "         macro avg       0.58      0.56      0.57       948\n",
            "      weighted avg       0.60      0.61      0.60       948\n",
            "\n"
          ]
        }
      ],
      "source": [
        "print('accuracy %s' % accuracy_score(y_pred, y_test))\n",
        "print(classification_report(y_test, y_pred,target_names=my_issue_area))"
      ]
    },
    {
      "cell_type": "code",
      "execution_count": null,
      "metadata": {
        "colab": {
          "base_uri": "https://localhost:8080/"
        },
        "id": "G47Wju0vB5_0",
        "outputId": "7f316d88-e17b-4dd8-844b-1b20f6c75166"
      },
      "outputs": [
        {
          "output_type": "execute_result",
          "data": {
            "text/plain": [
              "LabelEncoder()"
            ]
          },
          "metadata": {},
          "execution_count": 89
        }
      ],
      "source": [
        "from sklearn import preprocessing\n",
        "le = preprocessing.LabelEncoder()\n",
        "le.fit(y_train)"
      ]
    },
    {
      "cell_type": "code",
      "execution_count": null,
      "metadata": {
        "id": "Of41VFzCB5_0"
      },
      "outputs": [],
      "source": [
        "y_train = le.transform(y_train)\n",
        "y_test = le.transform(y_test)"
      ]
    },
    {
      "cell_type": "code",
      "execution_count": null,
      "metadata": {
        "colab": {
          "base_uri": "https://localhost:8080/"
        },
        "id": "KuKlxJ1LB5_1",
        "outputId": "3daba867-5f59-4a87-fa89-33c653c73b5f"
      },
      "outputs": [
        {
          "output_type": "execute_result",
          "data": {
            "text/plain": [
              "Pipeline(steps=[('vect', CountVectorizer(ngram_range=(1, 2))),\n",
              "                ('tfidf', TfidfTransformer()),\n",
              "                ('clf', XGBClassifier(objective='multi:softprob'))])"
            ]
          },
          "metadata": {},
          "execution_count": 91
        }
      ],
      "source": [
        "import xgboost as xgb\n",
        "\n",
        "xgboo = Pipeline([('vect', CountVectorizer(ngram_range=(1, 2))),\n",
        "                ('tfidf', TfidfTransformer()),\n",
        "                ('clf', xgb.XGBClassifier()),\n",
        "               ])\n",
        "xgboo.fit(X_train, y_train)"
      ]
    },
    {
      "cell_type": "code",
      "execution_count": null,
      "metadata": {
        "colab": {
          "base_uri": "https://localhost:8080/"
        },
        "id": "Bwzt9r9cB5_1",
        "outputId": "0518083b-86bd-4b7b-ebbd-bd6670cbc9b6"
      },
      "outputs": [
        {
          "output_type": "stream",
          "name": "stdout",
          "text": [
            "CPU times: user 279 ms, sys: 6.79 ms, total: 286 ms\n",
            "Wall time: 285 ms\n"
          ]
        }
      ],
      "source": [
        "%%time\n",
        "y_pred = xgboo.predict(X_test)"
      ]
    },
    {
      "cell_type": "code",
      "execution_count": null,
      "metadata": {
        "colab": {
          "base_uri": "https://localhost:8080/"
        },
        "id": "MgFccWIiB5_1",
        "outputId": "79b25727-0240-45fa-822a-999bda97065e"
      },
      "outputs": [
        {
          "output_type": "stream",
          "name": "stdout",
          "text": [
            "accuracy 0.6350210970464135\n",
            "                    precision    recall  f1-score   support\n",
            "\n",
            "            Others       0.67      0.60      0.63       184\n",
            " Economic Activity       0.74      0.89      0.81       258\n",
            "   First Amendment       0.63      0.61      0.62       161\n",
            "Criminal Procedure       0.63      0.70      0.66        96\n",
            "      Civil Rights       0.47      0.27      0.34       111\n",
            "    Judicial Power       0.45      0.47      0.46       138\n",
            "\n",
            "          accuracy                           0.64       948\n",
            "         macro avg       0.60      0.59      0.59       948\n",
            "      weighted avg       0.62      0.64      0.62       948\n",
            "\n"
          ]
        }
      ],
      "source": [
        "print('accuracy %s' % accuracy_score(y_pred, y_test))\n",
        "print(classification_report(y_test, y_pred,target_names=my_issue_area))"
      ]
    },
    {
      "cell_type": "code",
      "source": [
        "from sklearn.neighbors import KNeighborsClassifier\n",
        "\n",
        "kn = Pipeline([('vect', CountVectorizer(ngram_range=(1, 2))),\n",
        "                ('tfidf', TfidfTransformer()),\n",
        "                ('kn',KNeighborsClassifier(n_neighbors=3)),\n",
        "               ])\n",
        "kn.fit(X_train, y_train)"
      ],
      "metadata": {
        "colab": {
          "base_uri": "https://localhost:8080/"
        },
        "id": "p3lpHUW1rjNe",
        "outputId": "4fcff492-ea8a-4899-feea-e3d8d65fda1b"
      },
      "execution_count": null,
      "outputs": [
        {
          "output_type": "execute_result",
          "data": {
            "text/plain": [
              "Pipeline(steps=[('vect', CountVectorizer(ngram_range=(1, 2))),\n",
              "                ('tfidf', TfidfTransformer()),\n",
              "                ('kn', KNeighborsClassifier(n_neighbors=3))])"
            ]
          },
          "metadata": {},
          "execution_count": 94
        }
      ]
    },
    {
      "cell_type": "code",
      "source": [
        "%%time\n",
        "y_pred = kn.predict(X_test)"
      ],
      "metadata": {
        "colab": {
          "base_uri": "https://localhost:8080/"
        },
        "id": "O1c1w2udsEH2",
        "outputId": "f1dccf77-1975-46cc-874f-497979517749"
      },
      "execution_count": null,
      "outputs": [
        {
          "output_type": "stream",
          "name": "stdout",
          "text": [
            "CPU times: user 384 ms, sys: 1.24 ms, total: 386 ms\n",
            "Wall time: 388 ms\n"
          ]
        }
      ]
    },
    {
      "cell_type": "code",
      "source": [
        "from sklearn.metrics import classification_report\n",
        "print('accuracy %s' % accuracy_score(y_pred, y_test))\n",
        "print(classification_report(y_test, y_pred,target_names=my_issue_area))"
      ],
      "metadata": {
        "colab": {
          "base_uri": "https://localhost:8080/"
        },
        "id": "KvvigFY_sKAA",
        "outputId": "cee8cb97-a49e-470c-9f6b-00aa950d7c5c"
      },
      "execution_count": null,
      "outputs": [
        {
          "output_type": "stream",
          "name": "stdout",
          "text": [
            "accuracy 0.5928270042194093\n",
            "                    precision    recall  f1-score   support\n",
            "\n",
            "            Others       0.50      0.70      0.58       184\n",
            " Economic Activity       0.66      0.81      0.73       258\n",
            "   First Amendment       0.63      0.60      0.61       161\n",
            "Criminal Procedure       0.65      0.48      0.55        96\n",
            "      Civil Rights       0.50      0.23      0.32       111\n",
            "    Judicial Power       0.59      0.40      0.47       138\n",
            "\n",
            "          accuracy                           0.59       948\n",
            "         macro avg       0.59      0.54      0.54       948\n",
            "      weighted avg       0.59      0.59      0.58       948\n",
            "\n"
          ]
        }
      ]
    },
    {
      "cell_type": "markdown",
      "metadata": {
        "id": "LNbeldMyB5_1"
      },
      "source": [
        "# With deleting some words"
      ]
    },
    {
      "cell_type": "code",
      "execution_count": null,
      "metadata": {
        "id": "gVZ55pu9B5_1"
      },
      "outputs": [],
      "source": [
        "bunchOfWords = \"\".join(df_withoutNA[\"facts\"].tolist())"
      ]
    },
    {
      "cell_type": "markdown",
      "metadata": {
        "id": "57qDAwDxB5_1"
      },
      "source": [
        "We will perform a bag of words and try to find the words that appear 1000"
      ]
    },
    {
      "cell_type": "code",
      "execution_count": null,
      "metadata": {
        "id": "yx-T6yGIB5_1"
      },
      "outputs": [],
      "source": [
        "data_corpus = set()\n",
        "for word in bunchOfWords.split(\" \"):\n",
        "    if word not in data_corpus: \n",
        "        data_corpus.add(word)\n",
        "data_corpus=sorted(data_corpus)"
      ]
    },
    {
      "cell_type": "code",
      "execution_count": null,
      "metadata": {
        "id": "Gi_LyiIXB5_1"
      },
      "outputs": [],
      "source": [
        "def convert(set):\n",
        "    return [*set, ]\n",
        "\n",
        "data_corpus = convert(data_corpus)"
      ]
    },
    {
      "cell_type": "code",
      "execution_count": null,
      "metadata": {
        "id": "0DZ9BirPB5_1"
      },
      "outputs": [],
      "source": [
        "one_hot_encoding = []\n",
        "split = bunchOfWords.split(\" \")\n",
        "for word in data_corpus:\n",
        "    count = split.count(word) \n",
        "    if word in split:\n",
        "        one_hot_encoding.append(count)\n",
        "    else:\n",
        "        one_hot_encoding.append(count)"
      ]
    },
    {
      "cell_type": "code",
      "execution_count": null,
      "metadata": {
        "id": "Iqnu-86nB5_2"
      },
      "outputs": [],
      "source": [
        "dfWords = pd.DataFrame({\"words\": data_corpus, \"numberOfFrequency\": one_hot_encoding})\n",
        "dfWords[\"numberOfFrequency\"] = pd.to_numeric(dfWords[\"numberOfFrequency\"])"
      ]
    },
    {
      "cell_type": "code",
      "execution_count": null,
      "metadata": {
        "id": "snsK4_FgB5_2"
      },
      "outputs": [],
      "source": [
        "irrelevantWords = dfWords[dfWords[\"numberOfFrequency\"] > 1000]\n",
        "irrelevantWords = set(irrelevantWords[\"words\"])"
      ]
    },
    {
      "cell_type": "code",
      "execution_count": null,
      "metadata": {
        "id": "T6P_UpW_B5_2"
      },
      "outputs": [],
      "source": [
        "def more_clean_text(text):\n",
        "    text = ' '.join(word for word in text.split() if word not in irrelevantWords) # delete stopwors from text\n",
        "    return text"
      ]
    },
    {
      "cell_type": "code",
      "execution_count": null,
      "metadata": {
        "id": "i3rDO7nGB5_2"
      },
      "outputs": [],
      "source": [
        "df_withoutNA['facts'] = df_withoutNA['facts'].apply(more_clean_text)"
      ]
    },
    {
      "cell_type": "code",
      "execution_count": null,
      "metadata": {
        "colab": {
          "base_uri": "https://localhost:8080/"
        },
        "id": "YJ6cEljHB5_2",
        "outputId": "62a8c885-be93-45e7-80db-2d0264fbb002"
      },
      "outputs": [
        {
          "output_type": "stream",
          "name": "stdout",
          "text": [
            "There are 267703 words in the dataframe.\n"
          ]
        }
      ],
      "source": [
        "print(\"There are\",df_withoutNA['facts'].apply(lambda x: len(x.split(' '))).sum(), \"words in the dataframe.\")"
      ]
    },
    {
      "cell_type": "code",
      "execution_count": null,
      "metadata": {
        "id": "l-y5Z4KCB5_2"
      },
      "outputs": [],
      "source": [
        "X = df_withoutNA.facts\n",
        "y = df_withoutNA.issue_area\n",
        "X_train, X_test, y_train, y_test = train_test_split(X, y, test_size=0.3, random_state = 42)"
      ]
    },
    {
      "cell_type": "code",
      "execution_count": null,
      "metadata": {
        "colab": {
          "base_uri": "https://localhost:8080/"
        },
        "id": "-Z5Lp578B5_3",
        "outputId": "857b659d-1f66-41df-fa12-b9e286f1b666"
      },
      "outputs": [
        {
          "output_type": "execute_result",
          "data": {
            "text/plain": [
              "Pipeline(steps=[('vect', CountVectorizer(ngram_range=(1, 2))),\n",
              "                ('tfidf', TfidfTransformer()), ('clf', MultinomialNB())])"
            ]
          },
          "metadata": {},
          "execution_count": 107
        }
      ],
      "source": [
        "from sklearn.naive_bayes import MultinomialNB\n",
        "from sklearn.pipeline import Pipeline\n",
        "from sklearn.feature_extraction.text import TfidfTransformer\n",
        "\n",
        "nb = Pipeline([('vect', CountVectorizer(ngram_range=(1, 2))),\n",
        "               ('tfidf', TfidfTransformer()),\n",
        "               ('clf', MultinomialNB()),\n",
        "              ])\n",
        "nb.fit(X_train, y_train)"
      ]
    },
    {
      "cell_type": "code",
      "execution_count": null,
      "metadata": {
        "colab": {
          "base_uri": "https://localhost:8080/"
        },
        "id": "1UtRMxoVB5_3",
        "outputId": "b01fdc62-78fb-40c6-ba23-3da898cdf2e3"
      },
      "outputs": [
        {
          "output_type": "stream",
          "name": "stdout",
          "text": [
            "CPU times: user 166 ms, sys: 1.7 ms, total: 167 ms\n",
            "Wall time: 170 ms\n"
          ]
        }
      ],
      "source": [
        "%%time\n",
        "from sklearn.metrics import classification_report\n",
        "y_pred = nb.predict(X_test)"
      ]
    },
    {
      "cell_type": "code",
      "execution_count": null,
      "metadata": {
        "colab": {
          "base_uri": "https://localhost:8080/"
        },
        "id": "ed4fzkMFB5_3",
        "outputId": "398af3be-e955-4b79-c654-44e4dbf7ec2f"
      },
      "outputs": [
        {
          "output_type": "stream",
          "name": "stdout",
          "text": [
            "accuracy 0.520042194092827\n",
            "                    precision    recall  f1-score   support\n",
            "\n",
            "            Others       0.69      0.48      0.57       184\n",
            " Economic Activity       0.43      1.00      0.60       258\n",
            "   First Amendment       0.63      0.61      0.62       161\n",
            "Criminal Procedure       1.00      0.07      0.14        96\n",
            "      Civil Rights       0.00      0.00      0.00       111\n",
            "    Judicial Power       0.64      0.30      0.41       138\n",
            "\n",
            "          accuracy                           0.52       948\n",
            "         macro avg       0.57      0.41      0.39       948\n",
            "      weighted avg       0.55      0.52      0.45       948\n",
            "\n"
          ]
        },
        {
          "output_type": "stream",
          "name": "stderr",
          "text": [
            "/usr/local/lib/python3.8/dist-packages/sklearn/metrics/_classification.py:1318: UndefinedMetricWarning: Precision and F-score are ill-defined and being set to 0.0 in labels with no predicted samples. Use `zero_division` parameter to control this behavior.\n",
            "  _warn_prf(average, modifier, msg_start, len(result))\n",
            "/usr/local/lib/python3.8/dist-packages/sklearn/metrics/_classification.py:1318: UndefinedMetricWarning: Precision and F-score are ill-defined and being set to 0.0 in labels with no predicted samples. Use `zero_division` parameter to control this behavior.\n",
            "  _warn_prf(average, modifier, msg_start, len(result))\n",
            "/usr/local/lib/python3.8/dist-packages/sklearn/metrics/_classification.py:1318: UndefinedMetricWarning: Precision and F-score are ill-defined and being set to 0.0 in labels with no predicted samples. Use `zero_division` parameter to control this behavior.\n",
            "  _warn_prf(average, modifier, msg_start, len(result))\n"
          ]
        }
      ],
      "source": [
        "print('accuracy %s' % accuracy_score(y_pred, y_test))\n",
        "print(classification_report(y_test, y_pred, target_names=my_issue_area))"
      ]
    },
    {
      "cell_type": "code",
      "execution_count": null,
      "metadata": {
        "colab": {
          "base_uri": "https://localhost:8080/"
        },
        "id": "Ft6wOP10B5_3",
        "outputId": "9a01b33b-2b8f-45e0-99a5-c06f4e29aabf"
      },
      "outputs": [
        {
          "output_type": "execute_result",
          "data": {
            "text/plain": [
              "Pipeline(steps=[('vect', CountVectorizer(ngram_range=(1, 2))),\n",
              "                ('tfidf', TfidfTransformer()),\n",
              "                ('clf',\n",
              "                 SGDClassifier(alpha=0.001, max_iter=5, random_state=42,\n",
              "                               tol=None))])"
            ]
          },
          "metadata": {},
          "execution_count": 110
        }
      ],
      "source": [
        "from sklearn.linear_model import SGDClassifier\n",
        "\n",
        "sgd = Pipeline([('vect', CountVectorizer(ngram_range=(1, 2))),\n",
        "                ('tfidf', TfidfTransformer()),\n",
        "                ('clf', SGDClassifier(loss='hinge', penalty='l2',alpha=1e-3, random_state=42, max_iter=5, tol=None)),\n",
        "               ])\n",
        "sgd.fit(X_train, y_train)"
      ]
    },
    {
      "cell_type": "code",
      "execution_count": null,
      "metadata": {
        "colab": {
          "base_uri": "https://localhost:8080/"
        },
        "id": "DZnkd2XSB5_3",
        "outputId": "b7838c3d-fe93-4c99-ae36-a795fa51b7d8"
      },
      "outputs": [
        {
          "output_type": "stream",
          "name": "stdout",
          "text": [
            "CPU times: user 215 ms, sys: 68.6 ms, total: 283 ms\n",
            "Wall time: 217 ms\n"
          ]
        }
      ],
      "source": [
        "%%time\n",
        "y_pred = sgd.predict(X_test)"
      ]
    },
    {
      "cell_type": "code",
      "execution_count": null,
      "metadata": {
        "colab": {
          "base_uri": "https://localhost:8080/"
        },
        "id": "MepbVnbqB5_3",
        "outputId": "780ae907-2ce5-498a-af13-793f11932cba"
      },
      "outputs": [
        {
          "output_type": "stream",
          "name": "stdout",
          "text": [
            "accuracy 0.6835443037974683\n",
            "                    precision    recall  f1-score   support\n",
            "\n",
            "            Others       0.76      0.65      0.70       184\n",
            " Economic Activity       0.66      0.98      0.79       258\n",
            "   First Amendment       0.67      0.71      0.69       161\n",
            "Criminal Procedure       0.73      0.72      0.72        96\n",
            "      Civil Rights       0.60      0.19      0.29       111\n",
            "    Judicial Power       0.65      0.51      0.57       138\n",
            "\n",
            "          accuracy                           0.68       948\n",
            "         macro avg       0.68      0.63      0.63       948\n",
            "      weighted avg       0.68      0.68      0.66       948\n",
            "\n"
          ]
        }
      ],
      "source": [
        "print('accuracy %s' % accuracy_score(y_pred, y_test))\n",
        "print(classification_report(y_test, y_pred,target_names=my_issue_area))"
      ]
    },
    {
      "cell_type": "code",
      "execution_count": null,
      "metadata": {
        "colab": {
          "base_uri": "https://localhost:8080/"
        },
        "id": "aqz7ZSmgB5_3",
        "outputId": "b253f3ff-1e45-4adf-b56a-9ed18e3baf88"
      },
      "outputs": [
        {
          "output_type": "execute_result",
          "data": {
            "text/plain": [
              "Pipeline(steps=[('vect', CountVectorizer(ngram_range=(1, 2))),\n",
              "                ('tfidf', TfidfTransformer()),\n",
              "                ('clf',\n",
              "                 LogisticRegression(C=100000.0, max_iter=100000, n_jobs=1))])"
            ]
          },
          "metadata": {},
          "execution_count": 113
        }
      ],
      "source": [
        "from sklearn.linear_model import LogisticRegression\n",
        "\n",
        "logreg = Pipeline([('vect', CountVectorizer(ngram_range=(1, 2))),\n",
        "                ('tfidf', TfidfTransformer()),\n",
        "                ('clf', LogisticRegression(n_jobs=1, C=1e5, solver='lbfgs', max_iter=100000)),\n",
        "               ])\n",
        "logreg.fit(X_train, y_train)"
      ]
    },
    {
      "cell_type": "code",
      "execution_count": null,
      "metadata": {
        "colab": {
          "base_uri": "https://localhost:8080/"
        },
        "id": "qHg15EwKB5_4",
        "outputId": "16c35692-689c-413a-c7e0-1996b0a67898"
      },
      "outputs": [
        {
          "output_type": "stream",
          "name": "stdout",
          "text": [
            "CPU times: user 165 ms, sys: 15.7 ms, total: 180 ms\n",
            "Wall time: 167 ms\n"
          ]
        }
      ],
      "source": [
        "%%time\n",
        "y_pred = logreg.predict(X_test)"
      ]
    },
    {
      "cell_type": "code",
      "execution_count": null,
      "metadata": {
        "colab": {
          "base_uri": "https://localhost:8080/"
        },
        "id": "3vt5pGr_B5_4",
        "outputId": "3e78c62f-337f-4953-bbc4-0822de1d25ab"
      },
      "outputs": [
        {
          "output_type": "stream",
          "name": "stdout",
          "text": [
            "accuracy 0.7046413502109705\n",
            "                    precision    recall  f1-score   support\n",
            "\n",
            "            Others       0.74      0.68      0.71       184\n",
            " Economic Activity       0.75      0.94      0.83       258\n",
            "   First Amendment       0.68      0.71      0.70       161\n",
            "Criminal Procedure       0.70      0.76      0.73        96\n",
            "      Civil Rights       0.55      0.29      0.38       111\n",
            "    Judicial Power       0.65      0.59      0.62       138\n",
            "\n",
            "          accuracy                           0.70       948\n",
            "         macro avg       0.68      0.66      0.66       948\n",
            "      weighted avg       0.69      0.70      0.69       948\n",
            "\n"
          ]
        }
      ],
      "source": [
        "print('accuracy %s' % accuracy_score(y_pred, y_test))\n",
        "print(classification_report(y_test, y_pred,target_names=my_issue_area))"
      ]
    },
    {
      "cell_type": "code",
      "execution_count": null,
      "metadata": {
        "colab": {
          "base_uri": "https://localhost:8080/"
        },
        "id": "2B8BdAoaB5_4",
        "outputId": "a14cf070-a77e-4fc8-a850-17985bd1d84f"
      },
      "outputs": [
        {
          "output_type": "execute_result",
          "data": {
            "text/plain": [
              "Pipeline(steps=[('vect', CountVectorizer(ngram_range=(1, 2))),\n",
              "                ('tfidf', TfidfTransformer()),\n",
              "                ('clf',\n",
              "                 RandomForestClassifier(max_depth=10, n_estimators=10,\n",
              "                                        random_state=10))])"
            ]
          },
          "metadata": {},
          "execution_count": 116
        }
      ],
      "source": [
        "from sklearn.ensemble import RandomForestClassifier\n",
        "\n",
        "randfor = Pipeline([('vect', CountVectorizer(ngram_range=(1, 2))),\n",
        "                ('tfidf', TfidfTransformer()),\n",
        "                ('clf', RandomForestClassifier(n_estimators= 10, max_depth=10, random_state=10)),\n",
        "               ])\n",
        "randfor.fit(X_train, y_train)"
      ]
    },
    {
      "cell_type": "code",
      "execution_count": null,
      "metadata": {
        "colab": {
          "base_uri": "https://localhost:8080/"
        },
        "id": "bmz74Sc_B5_4",
        "outputId": "dd475f19-207c-4f2f-9b20-3ecc1a46a38b"
      },
      "outputs": [
        {
          "output_type": "stream",
          "name": "stdout",
          "text": [
            "CPU times: user 176 ms, sys: 3.97 ms, total: 180 ms\n",
            "Wall time: 182 ms\n"
          ]
        }
      ],
      "source": [
        "%%time\n",
        "y_pred = randfor.predict(X_test)"
      ]
    },
    {
      "cell_type": "code",
      "execution_count": null,
      "metadata": {
        "colab": {
          "base_uri": "https://localhost:8080/"
        },
        "id": "Q9qZ7_ZQB5_4",
        "outputId": "65d3c35e-3108-4049-93a5-6962cb8a7efc"
      },
      "outputs": [
        {
          "output_type": "stream",
          "name": "stdout",
          "text": [
            "accuracy 0.4208860759493671\n",
            "                    precision    recall  f1-score   support\n",
            "\n",
            "            Others       0.55      0.32      0.40       184\n",
            " Economic Activity       0.39      0.98      0.56       258\n",
            "   First Amendment       0.43      0.35      0.39       161\n",
            "Criminal Procedure       0.75      0.16      0.26        96\n",
            "      Civil Rights       0.57      0.04      0.07       111\n",
            "    Judicial Power       0.34      0.08      0.13       138\n",
            "\n",
            "          accuracy                           0.42       948\n",
            "         macro avg       0.51      0.32      0.30       948\n",
            "      weighted avg       0.48      0.42      0.35       948\n",
            "\n"
          ]
        }
      ],
      "source": [
        "print('accuracy %s' % accuracy_score(y_pred, y_test))\n",
        "print(classification_report(y_test, y_pred,target_names=my_issue_area))"
      ]
    },
    {
      "cell_type": "code",
      "execution_count": null,
      "metadata": {
        "colab": {
          "base_uri": "https://localhost:8080/"
        },
        "id": "G9moBGv-B5_4",
        "outputId": "cc4b21a0-b73e-4516-c3a8-307a6cb3d02c"
      },
      "outputs": [
        {
          "output_type": "execute_result",
          "data": {
            "text/plain": [
              "Pipeline(steps=[('vect', CountVectorizer(ngram_range=(1, 2))),\n",
              "                ('tfidf', TfidfTransformer()),\n",
              "                ('clf',\n",
              "                 GradientBoostingClassifier(max_depth=10, n_estimators=10,\n",
              "                                            random_state=10))])"
            ]
          },
          "metadata": {},
          "execution_count": 119
        }
      ],
      "source": [
        "from sklearn.ensemble import GradientBoostingClassifier\n",
        "graboos = Pipeline([('vect', CountVectorizer(ngram_range=(1, 2))),\n",
        "                ('tfidf', TfidfTransformer()),\n",
        "                ('clf', GradientBoostingClassifier(n_estimators=10, max_depth=10, random_state=10)),\n",
        "               ])\n",
        "graboos.fit(X_train, y_train)"
      ]
    },
    {
      "cell_type": "code",
      "execution_count": null,
      "metadata": {
        "colab": {
          "base_uri": "https://localhost:8080/"
        },
        "id": "B4_A3RXdB5_4",
        "outputId": "39b4905c-d100-41e9-8355-304736c36e62"
      },
      "outputs": [
        {
          "output_type": "stream",
          "name": "stdout",
          "text": [
            "CPU times: user 174 ms, sys: 147 µs, total: 174 ms\n",
            "Wall time: 175 ms\n"
          ]
        }
      ],
      "source": [
        "%%time\n",
        "y_pred = graboos.predict(X_test)"
      ]
    },
    {
      "cell_type": "code",
      "execution_count": null,
      "metadata": {
        "colab": {
          "base_uri": "https://localhost:8080/"
        },
        "id": "A2uIQ6LIB5_4",
        "outputId": "919b4e9f-19b1-4931-e63c-04cedc2f7e2b"
      },
      "outputs": [
        {
          "output_type": "stream",
          "name": "stdout",
          "text": [
            "accuracy 0.6054852320675106\n",
            "                    precision    recall  f1-score   support\n",
            "\n",
            "            Others       0.64      0.55      0.59       184\n",
            " Economic Activity       0.70      0.87      0.77       258\n",
            "   First Amendment       0.60      0.57      0.59       161\n",
            "Criminal Procedure       0.65      0.57      0.61        96\n",
            "      Civil Rights       0.53      0.27      0.36       111\n",
            "    Judicial Power       0.41      0.52      0.46       138\n",
            "\n",
            "          accuracy                           0.61       948\n",
            "         macro avg       0.59      0.56      0.56       948\n",
            "      weighted avg       0.60      0.61      0.60       948\n",
            "\n"
          ]
        }
      ],
      "source": [
        "print('accuracy %s' % accuracy_score(y_pred, y_test))\n",
        "print(classification_report(y_test, y_pred,target_names=my_issue_area))"
      ]
    },
    {
      "cell_type": "code",
      "execution_count": null,
      "metadata": {
        "colab": {
          "base_uri": "https://localhost:8080/"
        },
        "id": "UvM_a89gB5_5",
        "outputId": "871bcdc1-43d5-46cd-948b-d9efbbbfba05"
      },
      "outputs": [
        {
          "output_type": "execute_result",
          "data": {
            "text/plain": [
              "LabelEncoder()"
            ]
          },
          "metadata": {},
          "execution_count": 122
        }
      ],
      "source": [
        "from sklearn import preprocessing\n",
        "le = preprocessing.LabelEncoder()\n",
        "le.fit(y_train)"
      ]
    },
    {
      "cell_type": "code",
      "execution_count": null,
      "metadata": {
        "id": "BYWD08u9B5_5"
      },
      "outputs": [],
      "source": [
        "y_train = le.transform(y_train)\n",
        "y_test = le.transform(y_test)"
      ]
    },
    {
      "cell_type": "code",
      "execution_count": null,
      "metadata": {
        "colab": {
          "base_uri": "https://localhost:8080/"
        },
        "id": "o2nkCEsJB5_5",
        "outputId": "5da63aa8-14df-4bba-9586-1f8360d19046"
      },
      "outputs": [
        {
          "output_type": "execute_result",
          "data": {
            "text/plain": [
              "Pipeline(steps=[('vect', CountVectorizer(ngram_range=(1, 2))),\n",
              "                ('tfidf', TfidfTransformer()),\n",
              "                ('clf', XGBClassifier(objective='multi:softprob'))])"
            ]
          },
          "metadata": {},
          "execution_count": 124
        }
      ],
      "source": [
        "import xgboost as xgb\n",
        "\n",
        "xgboo = Pipeline([('vect', CountVectorizer(ngram_range=(1, 2))),\n",
        "                ('tfidf', TfidfTransformer()),\n",
        "                ('clf', xgb.XGBClassifier()),\n",
        "               ])\n",
        "xgboo.fit(X_train, y_train)"
      ]
    },
    {
      "cell_type": "code",
      "execution_count": null,
      "metadata": {
        "colab": {
          "base_uri": "https://localhost:8080/"
        },
        "id": "y_AHa5GpB5_5",
        "outputId": "641e2218-82d6-426b-b2ea-d36b9c03e447"
      },
      "outputs": [
        {
          "output_type": "stream",
          "name": "stdout",
          "text": [
            "CPU times: user 272 ms, sys: 4.83 ms, total: 277 ms\n",
            "Wall time: 276 ms\n"
          ]
        }
      ],
      "source": [
        "%%time\n",
        "y_pred = xgboo.predict(X_test)"
      ]
    },
    {
      "cell_type": "code",
      "execution_count": null,
      "metadata": {
        "colab": {
          "base_uri": "https://localhost:8080/"
        },
        "id": "P0u4uJC1B5_5",
        "outputId": "9ce3029a-c35e-47e4-feab-b0504e9089b4"
      },
      "outputs": [
        {
          "output_type": "stream",
          "name": "stdout",
          "text": [
            "accuracy 0.6244725738396625\n",
            "                    precision    recall  f1-score   support\n",
            "\n",
            "            Others       0.64      0.55      0.59       184\n",
            " Economic Activity       0.73      0.91      0.81       258\n",
            "   First Amendment       0.62      0.58      0.60       161\n",
            "Criminal Procedure       0.67      0.65      0.66        96\n",
            "      Civil Rights       0.47      0.29      0.36       111\n",
            "    Judicial Power       0.44      0.50      0.47       138\n",
            "\n",
            "          accuracy                           0.62       948\n",
            "         macro avg       0.59      0.58      0.58       948\n",
            "      weighted avg       0.62      0.62      0.61       948\n",
            "\n"
          ]
        }
      ],
      "source": [
        "print('accuracy %s' % accuracy_score(y_pred, y_test))\n",
        "print(classification_report(y_test, y_pred,target_names=my_issue_area))"
      ]
    },
    {
      "cell_type": "code",
      "source": [
        "kn = Pipeline([('vect', CountVectorizer(ngram_range=(1, 2))),\n",
        "                ('tfidf', TfidfTransformer()),\n",
        "                ('clf', KNeighborsClassifier(n_neighbors=3)),\n",
        "               ])\n",
        "kn.fit(X_train, y_train)"
      ],
      "metadata": {
        "colab": {
          "base_uri": "https://localhost:8080/"
        },
        "id": "GUUvUiqmsbRG",
        "outputId": "b1e49c3d-19a6-47dc-f99c-7148d95861c0"
      },
      "execution_count": null,
      "outputs": [
        {
          "output_type": "execute_result",
          "data": {
            "text/plain": [
              "Pipeline(steps=[('vect', CountVectorizer(ngram_range=(1, 2))),\n",
              "                ('tfidf', TfidfTransformer()),\n",
              "                ('clf', KNeighborsClassifier(n_neighbors=3))])"
            ]
          },
          "metadata": {},
          "execution_count": 127
        }
      ]
    },
    {
      "cell_type": "code",
      "source": [
        "%%time\n",
        "y_pred = kn.predict(X_test)"
      ],
      "metadata": {
        "colab": {
          "base_uri": "https://localhost:8080/"
        },
        "id": "6nt-ZVlksbNm",
        "outputId": "16ac4ab2-f6aa-463b-c880-a3f2a6f162b2"
      },
      "execution_count": null,
      "outputs": [
        {
          "output_type": "stream",
          "name": "stdout",
          "text": [
            "CPU times: user 315 ms, sys: 2.35 ms, total: 318 ms\n",
            "Wall time: 322 ms\n"
          ]
        }
      ]
    },
    {
      "cell_type": "code",
      "source": [
        "from sklearn.metrics import classification_report\n",
        "print('accuracy %s' % accuracy_score(y_pred, y_test))\n",
        "print(classification_report(y_test, y_pred,target_names=my_issue_area))"
      ],
      "metadata": {
        "colab": {
          "base_uri": "https://localhost:8080/"
        },
        "id": "1BtIsIVYsz7U",
        "outputId": "19808e0d-3e0c-4ded-8dd0-557b38bdb08c"
      },
      "execution_count": null,
      "outputs": [
        {
          "output_type": "stream",
          "name": "stdout",
          "text": [
            "accuracy 0.5780590717299579\n",
            "                    precision    recall  f1-score   support\n",
            "\n",
            "            Others       0.47      0.66      0.55       184\n",
            " Economic Activity       0.67      0.80      0.73       258\n",
            "   First Amendment       0.59      0.60      0.60       161\n",
            "Criminal Procedure       0.66      0.50      0.57        96\n",
            "      Civil Rights       0.45      0.18      0.26       111\n",
            "    Judicial Power       0.54      0.41      0.46       138\n",
            "\n",
            "          accuracy                           0.58       948\n",
            "         macro avg       0.56      0.52      0.53       948\n",
            "      weighted avg       0.57      0.58      0.56       948\n",
            "\n"
          ]
        }
      ]
    },
    {
      "cell_type": "markdown",
      "metadata": {
        "id": "_3171OypB5_5"
      },
      "source": [
        "# Word2Vec"
      ]
    },
    {
      "cell_type": "code",
      "execution_count": null,
      "metadata": {
        "id": "JXxMVktmB5_5"
      },
      "outputs": [],
      "source": [
        "pip install --upgrade tensorflow-hub"
      ]
    },
    {
      "cell_type": "code",
      "source": [
        "pip install tensorflow_text"
      ],
      "metadata": {
        "id": "zeMUToTAGVyV"
      },
      "execution_count": null,
      "outputs": []
    },
    {
      "cell_type": "code",
      "execution_count": null,
      "metadata": {
        "id": "arbPVEJWB5_5"
      },
      "outputs": [],
      "source": [
        "import tensorflow as tf\n",
        "import tensorflow_hub as hub\n",
        "import tensorflow_text as text"
      ]
    },
    {
      "cell_type": "code",
      "execution_count": null,
      "metadata": {
        "id": "yfRCmuhHB5_6"
      },
      "outputs": [],
      "source": [
        "bert_preprocess = hub.KerasLayer(\"https://tfhub.dev/tensorflow/bert_en_uncased_preprocess/3\")\n",
        "bert_encoder = hub.KerasLayer(\"https://tfhub.dev/tensorflow/bert_en_uncased_L-12_H-768_A-12/4\")"
      ]
    },
    {
      "cell_type": "code",
      "execution_count": null,
      "metadata": {
        "id": "8sTK5oOIB5_6"
      },
      "outputs": [],
      "source": [
        "X_train, X_test, y_train, y_test = train_test_split(df_withoutNA[\"facts\"],df_withoutNA[\"issue_area\"],test_size=0.2,shuffle=True)"
      ]
    },
    {
      "cell_type": "code",
      "source": [
        "from sklearn import preprocessing\n",
        "le = preprocessing.LabelEncoder()\n",
        "le.fit(y_train)"
      ],
      "metadata": {
        "colab": {
          "base_uri": "https://localhost:8080/"
        },
        "id": "nIAc9ayzKE1N",
        "outputId": "dc2f554a-85d1-4cc2-95b3-379a0e98cc56"
      },
      "execution_count": null,
      "outputs": [
        {
          "output_type": "execute_result",
          "data": {
            "text/plain": [
              "LabelEncoder()"
            ]
          },
          "metadata": {},
          "execution_count": 176
        }
      ]
    },
    {
      "cell_type": "code",
      "source": [
        "y_train = le.transform(y_train)\n",
        "y_test = le.transform(y_test)"
      ],
      "metadata": {
        "id": "pugZVm-TKF_8"
      },
      "execution_count": null,
      "outputs": []
    },
    {
      "cell_type": "code",
      "execution_count": null,
      "metadata": {
        "id": "XP_j2PgHB5_6"
      },
      "outputs": [],
      "source": [
        "# Bert layers\n",
        "text_input = tf.keras.layers.Input(shape=(), dtype=tf.string, name='text')\n",
        "preprocessed_text = bert_preprocess(text_input)\n",
        "outputs = bert_encoder(preprocessed_text)\n",
        "# Neural network layers\n",
        "l = tf.keras.layers.Dropout(0.1, name=\"dropout\")(outputs['pooled_output'])\n",
        "l = tf.keras.layers.Dense(1, activation='sigmoid', name=\"output\")(l)\n",
        "# Use inputs and outputs to construct a final model\n",
        "model = tf.keras.Model(inputs=[text_input], outputs = [l])"
      ]
    },
    {
      "cell_type": "code",
      "source": [
        "model.compile(optimizer='adam', loss='binary_crossentropy', metrics=['accuracy'])\n",
        "model.fit(X_train, y_train, epochs=2, batch_size = 32)"
      ],
      "metadata": {
        "colab": {
          "base_uri": "https://localhost:8080/"
        },
        "id": "De2JHmL-JTCO",
        "outputId": "4a02a4e4-f9ec-4bd9-9372-9d06cb617f9a"
      },
      "execution_count": null,
      "outputs": [
        {
          "output_type": "stream",
          "name": "stdout",
          "text": [
            "Epoch 1/2\n",
            "79/79 [==============================] - 1090s 13s/step - loss: -13.0583 - accuracy: 0.2731\n",
            "Epoch 2/2\n",
            "79/79 [==============================] - 1056s 13s/step - loss: -40.5781 - accuracy: 0.2762\n"
          ]
        },
        {
          "output_type": "execute_result",
          "data": {
            "text/plain": [
              "<keras.callbacks.History at 0x7f86edbadb80>"
            ]
          },
          "metadata": {},
          "execution_count": 179
        }
      ]
    },
    {
      "cell_type": "code",
      "source": [
        "y_train"
      ],
      "metadata": {
        "colab": {
          "base_uri": "https://localhost:8080/"
        },
        "id": "9B_yqCgtUDn6",
        "outputId": "1c1d200a-79e6-41c9-8118-7d4ca049b209"
      },
      "execution_count": null,
      "outputs": [
        {
          "output_type": "execute_result",
          "data": {
            "text/plain": [
              "array([1, 3, 2, ..., 0, 1, 3])"
            ]
          },
          "metadata": {},
          "execution_count": 180
        }
      ]
    },
    {
      "cell_type": "code",
      "source": [
        "y_predicted = model.predict(X_test)\n",
        "y_predicted = y_predicted.flatten()\n",
        "print(y_predicted)"
      ],
      "metadata": {
        "colab": {
          "base_uri": "https://localhost:8080/"
        },
        "id": "xc6pD6_0JZeE",
        "outputId": "55d0b4a1-574f-4863-ae02-659bdcc02bd8"
      },
      "execution_count": null,
      "outputs": [
        {
          "output_type": "stream",
          "name": "stdout",
          "text": [
            "20/20 [==============================] - 259s 13s/step\n",
            "[1. 1. 1. 1. 1. 1. 1. 1. 1. 1. 1. 1. 1. 1. 1. 1. 1. 1. 1. 1. 1. 1. 1. 1.\n",
            " 1. 1. 1. 1. 1. 1. 1. 1. 1. 1. 1. 1. 1. 1. 1. 1. 1. 1. 1. 1. 1. 1. 1. 1.\n",
            " 1. 1. 1. 1. 1. 1. 1. 1. 1. 1. 1. 1. 1. 1. 1. 1. 1. 1. 1. 1. 1. 1. 1. 1.\n",
            " 1. 1. 1. 1. 1. 1. 1. 1. 1. 1. 1. 1. 1. 1. 1. 1. 1. 1. 1. 1. 1. 1. 1. 1.\n",
            " 1. 1. 1. 1. 1. 1. 1. 1. 1. 1. 1. 1. 1. 1. 1. 1. 1. 1. 1. 1. 1. 1. 1. 1.\n",
            " 1. 1. 1. 1. 1. 1. 1. 1. 1. 1. 1. 1. 1. 1. 1. 1. 1. 1. 1. 1. 1. 1. 1. 1.\n",
            " 1. 1. 1. 1. 1. 1. 1. 1. 1. 1. 1. 1. 1. 1. 1. 1. 1. 1. 1. 1. 1. 1. 1. 1.\n",
            " 1. 1. 1. 1. 1. 1. 1. 1. 1. 1. 1. 1. 1. 1. 1. 1. 1. 1. 1. 1. 1. 1. 1. 1.\n",
            " 1. 1. 1. 1. 1. 1. 1. 1. 1. 1. 1. 1. 1. 1. 1. 1. 1. 1. 1. 1. 1. 1. 1. 1.\n",
            " 1. 1. 1. 1. 1. 1. 1. 1. 1. 1. 1. 1. 1. 1. 1. 1. 1. 1. 1. 1. 1. 1. 1. 1.\n",
            " 1. 1. 1. 1. 1. 1. 1. 1. 1. 1. 1. 1. 1. 1. 1. 1. 1. 1. 1. 1. 1. 1. 1. 1.\n",
            " 1. 1. 1. 1. 1. 1. 1. 1. 1. 1. 1. 1. 1. 1. 1. 1. 1. 1. 1. 1. 1. 1. 1. 1.\n",
            " 1. 1. 1. 1. 1. 1. 1. 1. 1. 1. 1. 1. 1. 1. 1. 1. 1. 1. 1. 1. 1. 1. 1. 1.\n",
            " 1. 1. 1. 1. 1. 1. 1. 1. 1. 1. 1. 1. 1. 1. 1. 1. 1. 1. 1. 1. 1. 1. 1. 1.\n",
            " 1. 1. 1. 1. 1. 1. 1. 1. 1. 1. 1. 1. 1. 1. 1. 1. 1. 1. 1. 1. 1. 1. 1. 1.\n",
            " 1. 1. 1. 1. 1. 1. 1. 1. 1. 1. 1. 1. 1. 1. 1. 1. 1. 1. 1. 1. 1. 1. 1. 1.\n",
            " 1. 1. 1. 1. 1. 1. 1. 1. 1. 1. 1. 1. 1. 1. 1. 1. 1. 1. 1. 1. 1. 1. 1. 1.\n",
            " 1. 1. 1. 1. 1. 1. 1. 1. 1. 1. 1. 1. 1. 1. 1. 1. 1. 1. 1. 1. 1. 1. 1. 1.\n",
            " 1. 1. 1. 1. 1. 1. 1. 1. 1. 1. 1. 1. 1. 1. 1. 1. 1. 1. 1. 1. 1. 1. 1. 1.\n",
            " 1. 1. 1. 1. 1. 1. 1. 1. 1. 1. 1. 1. 1. 1. 1. 1. 1. 1. 1. 1. 1. 1. 1. 1.\n",
            " 1. 1. 1. 1. 1. 1. 1. 1. 1. 1. 1. 1. 1. 1. 1. 1. 1. 1. 1. 1. 1. 1. 1. 1.\n",
            " 1. 1. 1. 1. 1. 1. 1. 1. 1. 1. 1. 1. 1. 1. 1. 1. 1. 1. 1. 1. 1. 1. 1. 1.\n",
            " 1. 1. 1. 1. 1. 1. 1. 1. 1. 1. 1. 1. 1. 1. 1. 1. 1. 1. 1. 1. 1. 1. 1. 1.\n",
            " 1. 1. 1. 1. 1. 1. 1. 1. 1. 1. 1. 1. 1. 1. 1. 1. 1. 1. 1. 1. 1. 1. 1. 1.\n",
            " 1. 1. 1. 1. 1. 1. 1. 1. 1. 1. 1. 1. 1. 1. 1. 1. 1. 1. 1. 1. 1. 1. 1. 1.\n",
            " 1. 1. 1. 1. 1. 1. 1. 1. 1. 1. 1. 1. 1. 1. 1. 1. 1. 1. 1. 1. 1. 1. 1. 1.\n",
            " 1. 1. 1. 1. 1. 1. 1. 1.]\n"
          ]
        }
      ]
    },
    {
      "cell_type": "code",
      "source": [
        "print('accuracy %s' % accuracy_score(y_predicted, y_test))\n",
        "print(classification_report(y_test, y_predicted,target_names=my_issue_area))"
      ],
      "metadata": {
        "colab": {
          "base_uri": "https://localhost:8080/"
        },
        "id": "N4LYXrXhX429",
        "outputId": "a425d560-b151-41ce-d399-0b25c53aa80b"
      },
      "execution_count": null,
      "outputs": [
        {
          "output_type": "stream",
          "name": "stdout",
          "text": [
            "accuracy 0.254746835443038\n",
            "                    precision    recall  f1-score   support\n",
            "\n",
            "            Others       0.00      0.00      0.00       113\n",
            "    Judicial Power       0.25      1.00      0.41       161\n",
            "Criminal Procedure       0.00      0.00      0.00       104\n",
            " Economic Activity       0.00      0.00      0.00        70\n",
            "      Civil Rights       0.00      0.00      0.00        69\n",
            "   First Amendment       0.00      0.00      0.00       115\n",
            "\n",
            "          accuracy                           0.25       632\n",
            "         macro avg       0.04      0.17      0.07       632\n",
            "      weighted avg       0.06      0.25      0.10       632\n",
            "\n"
          ]
        },
        {
          "output_type": "stream",
          "name": "stderr",
          "text": [
            "/usr/local/lib/python3.8/dist-packages/sklearn/metrics/_classification.py:1318: UndefinedMetricWarning: Precision and F-score are ill-defined and being set to 0.0 in labels with no predicted samples. Use `zero_division` parameter to control this behavior.\n",
            "  _warn_prf(average, modifier, msg_start, len(result))\n",
            "/usr/local/lib/python3.8/dist-packages/sklearn/metrics/_classification.py:1318: UndefinedMetricWarning: Precision and F-score are ill-defined and being set to 0.0 in labels with no predicted samples. Use `zero_division` parameter to control this behavior.\n",
            "  _warn_prf(average, modifier, msg_start, len(result))\n",
            "/usr/local/lib/python3.8/dist-packages/sklearn/metrics/_classification.py:1318: UndefinedMetricWarning: Precision and F-score are ill-defined and being set to 0.0 in labels with no predicted samples. Use `zero_division` parameter to control this behavior.\n",
            "  _warn_prf(average, modifier, msg_start, len(result))\n"
          ]
        }
      ]
    },
    {
      "cell_type": "markdown",
      "source": [
        "# Issue Area prediction"
      ],
      "metadata": {
        "id": "9skypSU9fjxV"
      }
    },
    {
      "cell_type": "code",
      "source": [
        "second_df = pd.read_csv(\"us_classactions_verdicts.csv\")\n",
        "second_df = second_df[[\"target_text\", \"verdict\"]]"
      ],
      "metadata": {
        "id": "99PffgHGORbf"
      },
      "execution_count": 23,
      "outputs": []
    },
    {
      "cell_type": "code",
      "source": [
        "second_df.rename(columns = {'target_text':'facts', 'verdict': 'first_party_winner'}, inplace = True)"
      ],
      "metadata": {
        "id": "moVtTQoEPcMs"
      },
      "execution_count": 24,
      "outputs": []
    },
    {
      "cell_type": "code",
      "source": [
        "second_df.head(3)"
      ],
      "metadata": {
        "colab": {
          "base_uri": "https://localhost:8080/",
          "height": 143
        },
        "id": "p2y_a8iPP1hp",
        "outputId": "2918fd08-e328-4149-ed1d-6a3c3e502ffe"
      },
      "execution_count": 25,
      "outputs": [
        {
          "output_type": "execute_result",
          "data": {
            "text/plain": [
              "                                               facts first_party_winner\n",
              "0   Knowing and/or Willful Violation of the Telep...               lose\n",
              "1  17.  Defendants operate an electrical construc...                win\n",
              "2  (Fair Labor Standards Act Violations)   (Viola...                win"
            ],
            "text/html": [
              "\n",
              "  <div id=\"df-cbef50ac-6bfe-4d08-b9b8-93d722ec33b2\">\n",
              "    <div class=\"colab-df-container\">\n",
              "      <div>\n",
              "<style scoped>\n",
              "    .dataframe tbody tr th:only-of-type {\n",
              "        vertical-align: middle;\n",
              "    }\n",
              "\n",
              "    .dataframe tbody tr th {\n",
              "        vertical-align: top;\n",
              "    }\n",
              "\n",
              "    .dataframe thead th {\n",
              "        text-align: right;\n",
              "    }\n",
              "</style>\n",
              "<table border=\"1\" class=\"dataframe\">\n",
              "  <thead>\n",
              "    <tr style=\"text-align: right;\">\n",
              "      <th></th>\n",
              "      <th>facts</th>\n",
              "      <th>first_party_winner</th>\n",
              "    </tr>\n",
              "  </thead>\n",
              "  <tbody>\n",
              "    <tr>\n",
              "      <th>0</th>\n",
              "      <td>Knowing and/or Willful Violation of the Telep...</td>\n",
              "      <td>lose</td>\n",
              "    </tr>\n",
              "    <tr>\n",
              "      <th>1</th>\n",
              "      <td>17.  Defendants operate an electrical construc...</td>\n",
              "      <td>win</td>\n",
              "    </tr>\n",
              "    <tr>\n",
              "      <th>2</th>\n",
              "      <td>(Fair Labor Standards Act Violations)   (Viola...</td>\n",
              "      <td>win</td>\n",
              "    </tr>\n",
              "  </tbody>\n",
              "</table>\n",
              "</div>\n",
              "      <button class=\"colab-df-convert\" onclick=\"convertToInteractive('df-cbef50ac-6bfe-4d08-b9b8-93d722ec33b2')\"\n",
              "              title=\"Convert this dataframe to an interactive table.\"\n",
              "              style=\"display:none;\">\n",
              "        \n",
              "  <svg xmlns=\"http://www.w3.org/2000/svg\" height=\"24px\"viewBox=\"0 0 24 24\"\n",
              "       width=\"24px\">\n",
              "    <path d=\"M0 0h24v24H0V0z\" fill=\"none\"/>\n",
              "    <path d=\"M18.56 5.44l.94 2.06.94-2.06 2.06-.94-2.06-.94-.94-2.06-.94 2.06-2.06.94zm-11 1L8.5 8.5l.94-2.06 2.06-.94-2.06-.94L8.5 2.5l-.94 2.06-2.06.94zm10 10l.94 2.06.94-2.06 2.06-.94-2.06-.94-.94-2.06-.94 2.06-2.06.94z\"/><path d=\"M17.41 7.96l-1.37-1.37c-.4-.4-.92-.59-1.43-.59-.52 0-1.04.2-1.43.59L10.3 9.45l-7.72 7.72c-.78.78-.78 2.05 0 2.83L4 21.41c.39.39.9.59 1.41.59.51 0 1.02-.2 1.41-.59l7.78-7.78 2.81-2.81c.8-.78.8-2.07 0-2.86zM5.41 20L4 18.59l7.72-7.72 1.47 1.35L5.41 20z\"/>\n",
              "  </svg>\n",
              "      </button>\n",
              "      \n",
              "  <style>\n",
              "    .colab-df-container {\n",
              "      display:flex;\n",
              "      flex-wrap:wrap;\n",
              "      gap: 12px;\n",
              "    }\n",
              "\n",
              "    .colab-df-convert {\n",
              "      background-color: #E8F0FE;\n",
              "      border: none;\n",
              "      border-radius: 50%;\n",
              "      cursor: pointer;\n",
              "      display: none;\n",
              "      fill: #1967D2;\n",
              "      height: 32px;\n",
              "      padding: 0 0 0 0;\n",
              "      width: 32px;\n",
              "    }\n",
              "\n",
              "    .colab-df-convert:hover {\n",
              "      background-color: #E2EBFA;\n",
              "      box-shadow: 0px 1px 2px rgba(60, 64, 67, 0.3), 0px 1px 3px 1px rgba(60, 64, 67, 0.15);\n",
              "      fill: #174EA6;\n",
              "    }\n",
              "\n",
              "    [theme=dark] .colab-df-convert {\n",
              "      background-color: #3B4455;\n",
              "      fill: #D2E3FC;\n",
              "    }\n",
              "\n",
              "    [theme=dark] .colab-df-convert:hover {\n",
              "      background-color: #434B5C;\n",
              "      box-shadow: 0px 1px 3px 1px rgba(0, 0, 0, 0.15);\n",
              "      filter: drop-shadow(0px 1px 2px rgba(0, 0, 0, 0.3));\n",
              "      fill: #FFFFFF;\n",
              "    }\n",
              "  </style>\n",
              "\n",
              "      <script>\n",
              "        const buttonEl =\n",
              "          document.querySelector('#df-cbef50ac-6bfe-4d08-b9b8-93d722ec33b2 button.colab-df-convert');\n",
              "        buttonEl.style.display =\n",
              "          google.colab.kernel.accessAllowed ? 'block' : 'none';\n",
              "\n",
              "        async function convertToInteractive(key) {\n",
              "          const element = document.querySelector('#df-cbef50ac-6bfe-4d08-b9b8-93d722ec33b2');\n",
              "          const dataTable =\n",
              "            await google.colab.kernel.invokeFunction('convertToInteractive',\n",
              "                                                     [key], {});\n",
              "          if (!dataTable) return;\n",
              "\n",
              "          const docLinkHtml = 'Like what you see? Visit the ' +\n",
              "            '<a target=\"_blank\" href=https://colab.research.google.com/notebooks/data_table.ipynb>data table notebook</a>'\n",
              "            + ' to learn more about interactive tables.';\n",
              "          element.innerHTML = '';\n",
              "          dataTable['output_type'] = 'display_data';\n",
              "          await google.colab.output.renderOutput(dataTable, element);\n",
              "          const docLink = document.createElement('div');\n",
              "          docLink.innerHTML = docLinkHtml;\n",
              "          element.appendChild(docLink);\n",
              "        }\n",
              "      </script>\n",
              "    </div>\n",
              "  </div>\n",
              "  "
            ]
          },
          "metadata": {},
          "execution_count": 25
        }
      ]
    },
    {
      "cell_type": "code",
      "source": [
        "from sklearn import preprocessing\n",
        "le = preprocessing.LabelEncoder()"
      ],
      "metadata": {
        "id": "gZXgMXMtQdAZ"
      },
      "execution_count": 26,
      "outputs": []
    },
    {
      "cell_type": "code",
      "source": [
        "le.fit(second_df[\"first_party_winner\"])"
      ],
      "metadata": {
        "colab": {
          "base_uri": "https://localhost:8080/"
        },
        "id": "xWUSeHldROex",
        "outputId": "75cee6ee-cf71-4232-8aa4-c4bee7c59361"
      },
      "execution_count": 27,
      "outputs": [
        {
          "output_type": "execute_result",
          "data": {
            "text/plain": [
              "LabelEncoder()"
            ]
          },
          "metadata": {},
          "execution_count": 27
        }
      ]
    },
    {
      "cell_type": "code",
      "source": [
        "second_df[\"first_party_winner\"] = le.transform(second_df[\"first_party_winner\"])"
      ],
      "metadata": {
        "id": "kyIiHdaUQqCX"
      },
      "execution_count": 28,
      "outputs": []
    },
    {
      "cell_type": "code",
      "source": [
        "second_df['facts'] = second_df['facts'].map(lambda x: clean_text(x, stemming=False, lemmatization = True))\n",
        "df_withNA['facts'] = df_withNA['facts'].map(lambda x: clean_text(x, stemming=False, lemmatization = True))"
      ],
      "metadata": {
        "id": "IDHrquo1Tj0V"
      },
      "execution_count": 29,
      "outputs": []
    },
    {
      "cell_type": "code",
      "source": [
        "df_withNA = df_withNA[[\"facts\", \"first_party_winner\"]]"
      ],
      "metadata": {
        "id": "VT-asE9aRmdo"
      },
      "execution_count": 30,
      "outputs": []
    },
    {
      "cell_type": "code",
      "source": [
        "df_toPredict = pd.concat([df_withNA, second_df])\n",
        "df_toPredict = df_toPredict.reset_index(drop=True)"
      ],
      "metadata": {
        "id": "EknOrBxeTAGl"
      },
      "execution_count": 31,
      "outputs": []
    },
    {
      "cell_type": "code",
      "source": [
        "df_toPredict"
      ],
      "metadata": {
        "colab": {
          "base_uri": "https://localhost:8080/",
          "height": 424
        },
        "id": "gbff7QEqT712",
        "outputId": "e9e3524e-3a40-427e-b225-f7b33b72edd4"
      },
      "execution_count": 32,
      "outputs": [
        {
          "output_type": "execute_result",
          "data": {
            "text/plain": [
              "                                                  facts  first_party_winner\n",
              "0     jane roe fictional name use court document pro...                   1\n",
              "1     wiley bolden residents mobile alabama bring cl...                   1\n",
              "2     county los angeles impose ad valorem tax manuf...                   0\n",
              "3     rincon island artificial island coast ventura ...                   1\n",
              "4     president jimmy carter act without congression...                   0\n",
              "...                                                 ...                 ...\n",
              "3124  fair labor standards act violations violations...                   1\n",
              "3125  guidelines regularly test user accessibility b...                   0\n",
              "3126  action bring class action plaintiff bring acti...                   1\n",
              "3127  discovery may reveal transmission additional f...                   0\n",
              "3128  teligent research develop produce supply sell ...                   1\n",
              "\n",
              "[3129 rows x 2 columns]"
            ],
            "text/html": [
              "\n",
              "  <div id=\"df-3a26b991-a86b-4e55-9f80-fe2ef34b4bc8\">\n",
              "    <div class=\"colab-df-container\">\n",
              "      <div>\n",
              "<style scoped>\n",
              "    .dataframe tbody tr th:only-of-type {\n",
              "        vertical-align: middle;\n",
              "    }\n",
              "\n",
              "    .dataframe tbody tr th {\n",
              "        vertical-align: top;\n",
              "    }\n",
              "\n",
              "    .dataframe thead th {\n",
              "        text-align: right;\n",
              "    }\n",
              "</style>\n",
              "<table border=\"1\" class=\"dataframe\">\n",
              "  <thead>\n",
              "    <tr style=\"text-align: right;\">\n",
              "      <th></th>\n",
              "      <th>facts</th>\n",
              "      <th>first_party_winner</th>\n",
              "    </tr>\n",
              "  </thead>\n",
              "  <tbody>\n",
              "    <tr>\n",
              "      <th>0</th>\n",
              "      <td>jane roe fictional name use court document pro...</td>\n",
              "      <td>1</td>\n",
              "    </tr>\n",
              "    <tr>\n",
              "      <th>1</th>\n",
              "      <td>wiley bolden residents mobile alabama bring cl...</td>\n",
              "      <td>1</td>\n",
              "    </tr>\n",
              "    <tr>\n",
              "      <th>2</th>\n",
              "      <td>county los angeles impose ad valorem tax manuf...</td>\n",
              "      <td>0</td>\n",
              "    </tr>\n",
              "    <tr>\n",
              "      <th>3</th>\n",
              "      <td>rincon island artificial island coast ventura ...</td>\n",
              "      <td>1</td>\n",
              "    </tr>\n",
              "    <tr>\n",
              "      <th>4</th>\n",
              "      <td>president jimmy carter act without congression...</td>\n",
              "      <td>0</td>\n",
              "    </tr>\n",
              "    <tr>\n",
              "      <th>...</th>\n",
              "      <td>...</td>\n",
              "      <td>...</td>\n",
              "    </tr>\n",
              "    <tr>\n",
              "      <th>3124</th>\n",
              "      <td>fair labor standards act violations violations...</td>\n",
              "      <td>1</td>\n",
              "    </tr>\n",
              "    <tr>\n",
              "      <th>3125</th>\n",
              "      <td>guidelines regularly test user accessibility b...</td>\n",
              "      <td>0</td>\n",
              "    </tr>\n",
              "    <tr>\n",
              "      <th>3126</th>\n",
              "      <td>action bring class action plaintiff bring acti...</td>\n",
              "      <td>1</td>\n",
              "    </tr>\n",
              "    <tr>\n",
              "      <th>3127</th>\n",
              "      <td>discovery may reveal transmission additional f...</td>\n",
              "      <td>0</td>\n",
              "    </tr>\n",
              "    <tr>\n",
              "      <th>3128</th>\n",
              "      <td>teligent research develop produce supply sell ...</td>\n",
              "      <td>1</td>\n",
              "    </tr>\n",
              "  </tbody>\n",
              "</table>\n",
              "<p>3129 rows × 2 columns</p>\n",
              "</div>\n",
              "      <button class=\"colab-df-convert\" onclick=\"convertToInteractive('df-3a26b991-a86b-4e55-9f80-fe2ef34b4bc8')\"\n",
              "              title=\"Convert this dataframe to an interactive table.\"\n",
              "              style=\"display:none;\">\n",
              "        \n",
              "  <svg xmlns=\"http://www.w3.org/2000/svg\" height=\"24px\"viewBox=\"0 0 24 24\"\n",
              "       width=\"24px\">\n",
              "    <path d=\"M0 0h24v24H0V0z\" fill=\"none\"/>\n",
              "    <path d=\"M18.56 5.44l.94 2.06.94-2.06 2.06-.94-2.06-.94-.94-2.06-.94 2.06-2.06.94zm-11 1L8.5 8.5l.94-2.06 2.06-.94-2.06-.94L8.5 2.5l-.94 2.06-2.06.94zm10 10l.94 2.06.94-2.06 2.06-.94-2.06-.94-.94-2.06-.94 2.06-2.06.94z\"/><path d=\"M17.41 7.96l-1.37-1.37c-.4-.4-.92-.59-1.43-.59-.52 0-1.04.2-1.43.59L10.3 9.45l-7.72 7.72c-.78.78-.78 2.05 0 2.83L4 21.41c.39.39.9.59 1.41.59.51 0 1.02-.2 1.41-.59l7.78-7.78 2.81-2.81c.8-.78.8-2.07 0-2.86zM5.41 20L4 18.59l7.72-7.72 1.47 1.35L5.41 20z\"/>\n",
              "  </svg>\n",
              "      </button>\n",
              "      \n",
              "  <style>\n",
              "    .colab-df-container {\n",
              "      display:flex;\n",
              "      flex-wrap:wrap;\n",
              "      gap: 12px;\n",
              "    }\n",
              "\n",
              "    .colab-df-convert {\n",
              "      background-color: #E8F0FE;\n",
              "      border: none;\n",
              "      border-radius: 50%;\n",
              "      cursor: pointer;\n",
              "      display: none;\n",
              "      fill: #1967D2;\n",
              "      height: 32px;\n",
              "      padding: 0 0 0 0;\n",
              "      width: 32px;\n",
              "    }\n",
              "\n",
              "    .colab-df-convert:hover {\n",
              "      background-color: #E2EBFA;\n",
              "      box-shadow: 0px 1px 2px rgba(60, 64, 67, 0.3), 0px 1px 3px 1px rgba(60, 64, 67, 0.15);\n",
              "      fill: #174EA6;\n",
              "    }\n",
              "\n",
              "    [theme=dark] .colab-df-convert {\n",
              "      background-color: #3B4455;\n",
              "      fill: #D2E3FC;\n",
              "    }\n",
              "\n",
              "    [theme=dark] .colab-df-convert:hover {\n",
              "      background-color: #434B5C;\n",
              "      box-shadow: 0px 1px 3px 1px rgba(0, 0, 0, 0.15);\n",
              "      filter: drop-shadow(0px 1px 2px rgba(0, 0, 0, 0.3));\n",
              "      fill: #FFFFFF;\n",
              "    }\n",
              "  </style>\n",
              "\n",
              "      <script>\n",
              "        const buttonEl =\n",
              "          document.querySelector('#df-3a26b991-a86b-4e55-9f80-fe2ef34b4bc8 button.colab-df-convert');\n",
              "        buttonEl.style.display =\n",
              "          google.colab.kernel.accessAllowed ? 'block' : 'none';\n",
              "\n",
              "        async function convertToInteractive(key) {\n",
              "          const element = document.querySelector('#df-3a26b991-a86b-4e55-9f80-fe2ef34b4bc8');\n",
              "          const dataTable =\n",
              "            await google.colab.kernel.invokeFunction('convertToInteractive',\n",
              "                                                     [key], {});\n",
              "          if (!dataTable) return;\n",
              "\n",
              "          const docLinkHtml = 'Like what you see? Visit the ' +\n",
              "            '<a target=\"_blank\" href=https://colab.research.google.com/notebooks/data_table.ipynb>data table notebook</a>'\n",
              "            + ' to learn more about interactive tables.';\n",
              "          element.innerHTML = '';\n",
              "          dataTable['output_type'] = 'display_data';\n",
              "          await google.colab.output.renderOutput(dataTable, element);\n",
              "          const docLink = document.createElement('div');\n",
              "          docLink.innerHTML = docLinkHtml;\n",
              "          element.appendChild(docLink);\n",
              "        }\n",
              "      </script>\n",
              "    </div>\n",
              "  </div>\n",
              "  "
            ]
          },
          "metadata": {},
          "execution_count": 32
        }
      ]
    },
    {
      "cell_type": "code",
      "source": [
        "X = df_withoutNA.facts\n",
        "y = df_withoutNA.issue_area\n",
        "X_train, X_test, y_train, y_test = train_test_split(X, y, test_size=0.2, random_state = 42)"
      ],
      "metadata": {
        "id": "ySJONMLEUmj8"
      },
      "execution_count": 36,
      "outputs": []
    },
    {
      "cell_type": "code",
      "source": [
        "from sklearn.linear_model import LogisticRegression\n",
        "from sklearn.pipeline import Pipeline\n",
        "from sklearn.feature_extraction.text import TfidfTransformer\n",
        "\n",
        "logreg = Pipeline([('vect', CountVectorizer(ngram_range=(1, 2))),\n",
        "                ('tfidf', TfidfTransformer()),\n",
        "                ('clf', LogisticRegression(n_jobs=1, C=1e5, solver='lbfgs', max_iter=100000)),\n",
        "               ])\n",
        "logreg.fit(X_train, y_train)"
      ],
      "metadata": {
        "colab": {
          "base_uri": "https://localhost:8080/"
        },
        "id": "kbB7FSbmUZbo",
        "outputId": "4a9de812-255c-4b04-9a75-2f0f84e0e3d0"
      },
      "execution_count": 37,
      "outputs": [
        {
          "output_type": "execute_result",
          "data": {
            "text/plain": [
              "Pipeline(steps=[('vect', CountVectorizer(ngram_range=(1, 2))),\n",
              "                ('tfidf', TfidfTransformer()),\n",
              "                ('clf',\n",
              "                 LogisticRegression(C=100000.0, max_iter=100000, n_jobs=1))])"
            ]
          },
          "metadata": {},
          "execution_count": 37
        }
      ]
    },
    {
      "cell_type": "code",
      "source": [
        "%%time\n",
        "y_pred = logreg.predict(X_test)"
      ],
      "metadata": {
        "colab": {
          "base_uri": "https://localhost:8080/"
        },
        "id": "VLEJ478VUvAD",
        "outputId": "bec84b3c-c712-4c08-9113-878af5f42034"
      },
      "execution_count": 38,
      "outputs": [
        {
          "output_type": "stream",
          "name": "stdout",
          "text": [
            "CPU times: user 132 ms, sys: 514 µs, total: 132 ms\n",
            "Wall time: 137 ms\n"
          ]
        }
      ]
    },
    {
      "cell_type": "code",
      "source": [
        "from sklearn.metrics import classification_report\n",
        "print('accuracy %s' % accuracy_score(y_pred, y_test))\n",
        "print(classification_report(y_test, y_pred,target_names=my_issue_area))"
      ],
      "metadata": {
        "colab": {
          "base_uri": "https://localhost:8080/"
        },
        "id": "2UFcBUECU1p9",
        "outputId": "d6a3ffcd-e5cb-43de-f563-5594318ae48f"
      },
      "execution_count": 42,
      "outputs": [
        {
          "output_type": "stream",
          "name": "stdout",
          "text": [
            "accuracy 0.7088607594936709\n",
            "                    precision    recall  f1-score   support\n",
            "\n",
            " Economic Activity       0.73      0.77      0.75       108\n",
            "Criminal Procedure       0.75      0.94      0.84       173\n",
            "    Judicial Power       0.64      0.69      0.67        98\n",
            "            Others       0.74      0.79      0.76        71\n",
            "      Civil Rights       0.56      0.30      0.39        81\n",
            "   First Amendment       0.69      0.53      0.60       101\n",
            "\n",
            "          accuracy                           0.71       632\n",
            "         macro avg       0.69      0.67      0.67       632\n",
            "      weighted avg       0.70      0.71      0.69       632\n",
            "\n"
          ]
        }
      ]
    },
    {
      "cell_type": "code",
      "source": [
        "y_pred = logreg.predict(df_toPredict[\"facts\"])"
      ],
      "metadata": {
        "id": "-t8ao6VaU2sy"
      },
      "execution_count": 43,
      "outputs": []
    },
    {
      "cell_type": "code",
      "source": [
        "y_pred_df = pd.DataFrame({\"issue_area\": y_pred})"
      ],
      "metadata": {
        "id": "sSGG2GqyW2CH"
      },
      "execution_count": 44,
      "outputs": []
    },
    {
      "cell_type": "code",
      "source": [
        "df_toPredict = pd.concat([df_toPredict, y_pred_df], axis = 1)\n",
        "df_toPredict = df_toPredict[[\"facts\", \"issue_area\", \"first_party_winner\"]]"
      ],
      "metadata": {
        "id": "cXrLxRVcVloH"
      },
      "execution_count": 45,
      "outputs": []
    },
    {
      "cell_type": "code",
      "source": [
        "big_df = pd.concat([df_withoutNA, df_toPredict])\n",
        "big_df = big_df.reset_index(drop=True)"
      ],
      "metadata": {
        "id": "LfsYiSWOXrwe"
      },
      "execution_count": 47,
      "outputs": []
    },
    {
      "cell_type": "code",
      "source": [
        "big_df.head(3)"
      ],
      "metadata": {
        "colab": {
          "base_uri": "https://localhost:8080/",
          "height": 143
        },
        "id": "fDNnMUk7X3HI",
        "outputId": "aed27cb1-4038-4d62-f8a6-ff6fb6078410"
      },
      "execution_count": 49,
      "outputs": [
        {
          "output_type": "execute_result",
          "data": {
            "text/plain": [
              "                                               facts    issue_area  \\\n",
              "0  joan stanley three children peter stanley stan...  Civil Rights   \n",
              "1  john giglio convict pass forge money order app...        Others   \n",
              "2  idaho probate code specify males must prefer f...  Civil Rights   \n",
              "\n",
              "   first_party_winner  \n",
              "0                   1  \n",
              "1                   1  \n",
              "2                   1  "
            ],
            "text/html": [
              "\n",
              "  <div id=\"df-ec288332-3010-4fec-989a-5182d9f7bf68\">\n",
              "    <div class=\"colab-df-container\">\n",
              "      <div>\n",
              "<style scoped>\n",
              "    .dataframe tbody tr th:only-of-type {\n",
              "        vertical-align: middle;\n",
              "    }\n",
              "\n",
              "    .dataframe tbody tr th {\n",
              "        vertical-align: top;\n",
              "    }\n",
              "\n",
              "    .dataframe thead th {\n",
              "        text-align: right;\n",
              "    }\n",
              "</style>\n",
              "<table border=\"1\" class=\"dataframe\">\n",
              "  <thead>\n",
              "    <tr style=\"text-align: right;\">\n",
              "      <th></th>\n",
              "      <th>facts</th>\n",
              "      <th>issue_area</th>\n",
              "      <th>first_party_winner</th>\n",
              "    </tr>\n",
              "  </thead>\n",
              "  <tbody>\n",
              "    <tr>\n",
              "      <th>0</th>\n",
              "      <td>joan stanley three children peter stanley stan...</td>\n",
              "      <td>Civil Rights</td>\n",
              "      <td>1</td>\n",
              "    </tr>\n",
              "    <tr>\n",
              "      <th>1</th>\n",
              "      <td>john giglio convict pass forge money order app...</td>\n",
              "      <td>Others</td>\n",
              "      <td>1</td>\n",
              "    </tr>\n",
              "    <tr>\n",
              "      <th>2</th>\n",
              "      <td>idaho probate code specify males must prefer f...</td>\n",
              "      <td>Civil Rights</td>\n",
              "      <td>1</td>\n",
              "    </tr>\n",
              "  </tbody>\n",
              "</table>\n",
              "</div>\n",
              "      <button class=\"colab-df-convert\" onclick=\"convertToInteractive('df-ec288332-3010-4fec-989a-5182d9f7bf68')\"\n",
              "              title=\"Convert this dataframe to an interactive table.\"\n",
              "              style=\"display:none;\">\n",
              "        \n",
              "  <svg xmlns=\"http://www.w3.org/2000/svg\" height=\"24px\"viewBox=\"0 0 24 24\"\n",
              "       width=\"24px\">\n",
              "    <path d=\"M0 0h24v24H0V0z\" fill=\"none\"/>\n",
              "    <path d=\"M18.56 5.44l.94 2.06.94-2.06 2.06-.94-2.06-.94-.94-2.06-.94 2.06-2.06.94zm-11 1L8.5 8.5l.94-2.06 2.06-.94-2.06-.94L8.5 2.5l-.94 2.06-2.06.94zm10 10l.94 2.06.94-2.06 2.06-.94-2.06-.94-.94-2.06-.94 2.06-2.06.94z\"/><path d=\"M17.41 7.96l-1.37-1.37c-.4-.4-.92-.59-1.43-.59-.52 0-1.04.2-1.43.59L10.3 9.45l-7.72 7.72c-.78.78-.78 2.05 0 2.83L4 21.41c.39.39.9.59 1.41.59.51 0 1.02-.2 1.41-.59l7.78-7.78 2.81-2.81c.8-.78.8-2.07 0-2.86zM5.41 20L4 18.59l7.72-7.72 1.47 1.35L5.41 20z\"/>\n",
              "  </svg>\n",
              "      </button>\n",
              "      \n",
              "  <style>\n",
              "    .colab-df-container {\n",
              "      display:flex;\n",
              "      flex-wrap:wrap;\n",
              "      gap: 12px;\n",
              "    }\n",
              "\n",
              "    .colab-df-convert {\n",
              "      background-color: #E8F0FE;\n",
              "      border: none;\n",
              "      border-radius: 50%;\n",
              "      cursor: pointer;\n",
              "      display: none;\n",
              "      fill: #1967D2;\n",
              "      height: 32px;\n",
              "      padding: 0 0 0 0;\n",
              "      width: 32px;\n",
              "    }\n",
              "\n",
              "    .colab-df-convert:hover {\n",
              "      background-color: #E2EBFA;\n",
              "      box-shadow: 0px 1px 2px rgba(60, 64, 67, 0.3), 0px 1px 3px 1px rgba(60, 64, 67, 0.15);\n",
              "      fill: #174EA6;\n",
              "    }\n",
              "\n",
              "    [theme=dark] .colab-df-convert {\n",
              "      background-color: #3B4455;\n",
              "      fill: #D2E3FC;\n",
              "    }\n",
              "\n",
              "    [theme=dark] .colab-df-convert:hover {\n",
              "      background-color: #434B5C;\n",
              "      box-shadow: 0px 1px 3px 1px rgba(0, 0, 0, 0.15);\n",
              "      filter: drop-shadow(0px 1px 2px rgba(0, 0, 0, 0.3));\n",
              "      fill: #FFFFFF;\n",
              "    }\n",
              "  </style>\n",
              "\n",
              "      <script>\n",
              "        const buttonEl =\n",
              "          document.querySelector('#df-ec288332-3010-4fec-989a-5182d9f7bf68 button.colab-df-convert');\n",
              "        buttonEl.style.display =\n",
              "          google.colab.kernel.accessAllowed ? 'block' : 'none';\n",
              "\n",
              "        async function convertToInteractive(key) {\n",
              "          const element = document.querySelector('#df-ec288332-3010-4fec-989a-5182d9f7bf68');\n",
              "          const dataTable =\n",
              "            await google.colab.kernel.invokeFunction('convertToInteractive',\n",
              "                                                     [key], {});\n",
              "          if (!dataTable) return;\n",
              "\n",
              "          const docLinkHtml = 'Like what you see? Visit the ' +\n",
              "            '<a target=\"_blank\" href=https://colab.research.google.com/notebooks/data_table.ipynb>data table notebook</a>'\n",
              "            + ' to learn more about interactive tables.';\n",
              "          element.innerHTML = '';\n",
              "          dataTable['output_type'] = 'display_data';\n",
              "          await google.colab.output.renderOutput(dataTable, element);\n",
              "          const docLink = document.createElement('div');\n",
              "          docLink.innerHTML = docLinkHtml;\n",
              "          element.appendChild(docLink);\n",
              "        }\n",
              "      </script>\n",
              "    </div>\n",
              "  </div>\n",
              "  "
            ]
          },
          "metadata": {},
          "execution_count": 49
        }
      ]
    },
    {
      "cell_type": "markdown",
      "source": [
        "# One Hot Encoding\n"
      ],
      "metadata": {
        "id": "GqWh0DVlYFPF"
      }
    },
    {
      "cell_type": "code",
      "source": [
        "from sklearn.preprocessing import OneHotEncoder"
      ],
      "metadata": {
        "id": "9DGOdJW6YcPH"
      },
      "execution_count": 50,
      "outputs": []
    },
    {
      "cell_type": "code",
      "source": [
        "encoder = OneHotEncoder(handle_unknown='ignore')"
      ],
      "metadata": {
        "id": "_S5hn4B4gYEM"
      },
      "execution_count": 51,
      "outputs": []
    },
    {
      "cell_type": "code",
      "source": [
        "encoder_df = pd.DataFrame(encoder.fit_transform(big_df[['issue_area']]).toarray())"
      ],
      "metadata": {
        "id": "9o9VBwSBlZcY"
      },
      "execution_count": 52,
      "outputs": []
    },
    {
      "cell_type": "code",
      "source": [
        "encoder_df.columns = ['Civil Rights', 'Criminal Procedure', 'Economic Activity',\n",
        "                      'First Amendment', 'Judicial Power', 'Others']"
      ],
      "metadata": {
        "id": "f4JMEYHLm4DS"
      },
      "execution_count": 53,
      "outputs": []
    },
    {
      "cell_type": "code",
      "source": [
        "big_df = big_df.join(encoder_df)\n",
        "big_df.drop('issue_area', axis=1, inplace=True)"
      ],
      "metadata": {
        "id": "cR3HjWccokE4"
      },
      "execution_count": 55,
      "outputs": []
    },
    {
      "cell_type": "code",
      "source": [
        "big_df[['Civil Rights', 'Criminal Procedure', 'Economic Activity',\n",
        "                      'First Amendment', 'Judicial Power', 'Others']] = big_df[['Civil Rights', 'Criminal Procedure', 'Economic Activity',\n",
        "                      'First Amendment', 'Judicial Power', 'Others']].astype(int)"
      ],
      "metadata": {
        "id": "6luVZx9spQem"
      },
      "execution_count": 56,
      "outputs": []
    },
    {
      "cell_type": "code",
      "source": [
        "big_df = big_df[[\"facts\", 'Civil Rights', 'Criminal Procedure', 'Economic Activity',\n",
        "                      'First Amendment', 'Judicial Power', 'Others', \"first_party_winner\"]]"
      ],
      "metadata": {
        "id": "jV4ny660p4uX"
      },
      "execution_count": 57,
      "outputs": []
    },
    {
      "cell_type": "code",
      "source": [
        "big_df"
      ],
      "metadata": {
        "colab": {
          "base_uri": "https://localhost:8080/",
          "height": 659
        },
        "id": "JWn2efUwqWJp",
        "outputId": "e90c2142-c0ea-4e0f-f6cd-adf68f8a3739"
      },
      "execution_count": 58,
      "outputs": [
        {
          "output_type": "execute_result",
          "data": {
            "text/plain": [
              "                                                  facts  Civil Rights  \\\n",
              "0     joan stanley three children peter stanley stan...             1   \n",
              "1     john giglio convict pass forge money order app...             0   \n",
              "2     idaho probate code specify males must prefer f...             1   \n",
              "3     miller conduct mass mail campaign advertise sa...             0   \n",
              "4     ernest mandel belgian professional journalist ...             0   \n",
              "...                                                 ...           ...   \n",
              "6283  fair labor standards act violations violations...             0   \n",
              "6284  guidelines regularly test user accessibility b...             1   \n",
              "6285  action bring class action plaintiff bring acti...             0   \n",
              "6286  discovery may reveal transmission additional f...             0   \n",
              "6287  teligent research develop produce supply sell ...             0   \n",
              "\n",
              "      Criminal Procedure  Economic Activity  First Amendment  Judicial Power  \\\n",
              "0                      0                  0                0               0   \n",
              "1                      0                  0                0               0   \n",
              "2                      0                  0                0               0   \n",
              "3                      0                  0                1               0   \n",
              "4                      0                  0                1               0   \n",
              "...                  ...                ...              ...             ...   \n",
              "6283                   0                  0                0               0   \n",
              "6284                   0                  0                0               0   \n",
              "6285                   0                  0                0               1   \n",
              "6286                   0                  0                0               1   \n",
              "6287                   0                  1                0               0   \n",
              "\n",
              "      Others  first_party_winner  \n",
              "0          0                   1  \n",
              "1          1                   1  \n",
              "2          0                   1  \n",
              "3          0                   1  \n",
              "4          0                   1  \n",
              "...      ...                 ...  \n",
              "6283       1                   1  \n",
              "6284       0                   0  \n",
              "6285       0                   1  \n",
              "6286       0                   0  \n",
              "6287       0                   1  \n",
              "\n",
              "[6288 rows x 8 columns]"
            ],
            "text/html": [
              "\n",
              "  <div id=\"df-82613f7e-0632-4639-93c5-1a45b73f6d8b\">\n",
              "    <div class=\"colab-df-container\">\n",
              "      <div>\n",
              "<style scoped>\n",
              "    .dataframe tbody tr th:only-of-type {\n",
              "        vertical-align: middle;\n",
              "    }\n",
              "\n",
              "    .dataframe tbody tr th {\n",
              "        vertical-align: top;\n",
              "    }\n",
              "\n",
              "    .dataframe thead th {\n",
              "        text-align: right;\n",
              "    }\n",
              "</style>\n",
              "<table border=\"1\" class=\"dataframe\">\n",
              "  <thead>\n",
              "    <tr style=\"text-align: right;\">\n",
              "      <th></th>\n",
              "      <th>facts</th>\n",
              "      <th>Civil Rights</th>\n",
              "      <th>Criminal Procedure</th>\n",
              "      <th>Economic Activity</th>\n",
              "      <th>First Amendment</th>\n",
              "      <th>Judicial Power</th>\n",
              "      <th>Others</th>\n",
              "      <th>first_party_winner</th>\n",
              "    </tr>\n",
              "  </thead>\n",
              "  <tbody>\n",
              "    <tr>\n",
              "      <th>0</th>\n",
              "      <td>joan stanley three children peter stanley stan...</td>\n",
              "      <td>1</td>\n",
              "      <td>0</td>\n",
              "      <td>0</td>\n",
              "      <td>0</td>\n",
              "      <td>0</td>\n",
              "      <td>0</td>\n",
              "      <td>1</td>\n",
              "    </tr>\n",
              "    <tr>\n",
              "      <th>1</th>\n",
              "      <td>john giglio convict pass forge money order app...</td>\n",
              "      <td>0</td>\n",
              "      <td>0</td>\n",
              "      <td>0</td>\n",
              "      <td>0</td>\n",
              "      <td>0</td>\n",
              "      <td>1</td>\n",
              "      <td>1</td>\n",
              "    </tr>\n",
              "    <tr>\n",
              "      <th>2</th>\n",
              "      <td>idaho probate code specify males must prefer f...</td>\n",
              "      <td>1</td>\n",
              "      <td>0</td>\n",
              "      <td>0</td>\n",
              "      <td>0</td>\n",
              "      <td>0</td>\n",
              "      <td>0</td>\n",
              "      <td>1</td>\n",
              "    </tr>\n",
              "    <tr>\n",
              "      <th>3</th>\n",
              "      <td>miller conduct mass mail campaign advertise sa...</td>\n",
              "      <td>0</td>\n",
              "      <td>0</td>\n",
              "      <td>0</td>\n",
              "      <td>1</td>\n",
              "      <td>0</td>\n",
              "      <td>0</td>\n",
              "      <td>1</td>\n",
              "    </tr>\n",
              "    <tr>\n",
              "      <th>4</th>\n",
              "      <td>ernest mandel belgian professional journalist ...</td>\n",
              "      <td>0</td>\n",
              "      <td>0</td>\n",
              "      <td>0</td>\n",
              "      <td>1</td>\n",
              "      <td>0</td>\n",
              "      <td>0</td>\n",
              "      <td>1</td>\n",
              "    </tr>\n",
              "    <tr>\n",
              "      <th>...</th>\n",
              "      <td>...</td>\n",
              "      <td>...</td>\n",
              "      <td>...</td>\n",
              "      <td>...</td>\n",
              "      <td>...</td>\n",
              "      <td>...</td>\n",
              "      <td>...</td>\n",
              "      <td>...</td>\n",
              "    </tr>\n",
              "    <tr>\n",
              "      <th>6283</th>\n",
              "      <td>fair labor standards act violations violations...</td>\n",
              "      <td>0</td>\n",
              "      <td>0</td>\n",
              "      <td>0</td>\n",
              "      <td>0</td>\n",
              "      <td>0</td>\n",
              "      <td>1</td>\n",
              "      <td>1</td>\n",
              "    </tr>\n",
              "    <tr>\n",
              "      <th>6284</th>\n",
              "      <td>guidelines regularly test user accessibility b...</td>\n",
              "      <td>1</td>\n",
              "      <td>0</td>\n",
              "      <td>0</td>\n",
              "      <td>0</td>\n",
              "      <td>0</td>\n",
              "      <td>0</td>\n",
              "      <td>0</td>\n",
              "    </tr>\n",
              "    <tr>\n",
              "      <th>6285</th>\n",
              "      <td>action bring class action plaintiff bring acti...</td>\n",
              "      <td>0</td>\n",
              "      <td>0</td>\n",
              "      <td>0</td>\n",
              "      <td>0</td>\n",
              "      <td>1</td>\n",
              "      <td>0</td>\n",
              "      <td>1</td>\n",
              "    </tr>\n",
              "    <tr>\n",
              "      <th>6286</th>\n",
              "      <td>discovery may reveal transmission additional f...</td>\n",
              "      <td>0</td>\n",
              "      <td>0</td>\n",
              "      <td>0</td>\n",
              "      <td>0</td>\n",
              "      <td>1</td>\n",
              "      <td>0</td>\n",
              "      <td>0</td>\n",
              "    </tr>\n",
              "    <tr>\n",
              "      <th>6287</th>\n",
              "      <td>teligent research develop produce supply sell ...</td>\n",
              "      <td>0</td>\n",
              "      <td>0</td>\n",
              "      <td>1</td>\n",
              "      <td>0</td>\n",
              "      <td>0</td>\n",
              "      <td>0</td>\n",
              "      <td>1</td>\n",
              "    </tr>\n",
              "  </tbody>\n",
              "</table>\n",
              "<p>6288 rows × 8 columns</p>\n",
              "</div>\n",
              "      <button class=\"colab-df-convert\" onclick=\"convertToInteractive('df-82613f7e-0632-4639-93c5-1a45b73f6d8b')\"\n",
              "              title=\"Convert this dataframe to an interactive table.\"\n",
              "              style=\"display:none;\">\n",
              "        \n",
              "  <svg xmlns=\"http://www.w3.org/2000/svg\" height=\"24px\"viewBox=\"0 0 24 24\"\n",
              "       width=\"24px\">\n",
              "    <path d=\"M0 0h24v24H0V0z\" fill=\"none\"/>\n",
              "    <path d=\"M18.56 5.44l.94 2.06.94-2.06 2.06-.94-2.06-.94-.94-2.06-.94 2.06-2.06.94zm-11 1L8.5 8.5l.94-2.06 2.06-.94-2.06-.94L8.5 2.5l-.94 2.06-2.06.94zm10 10l.94 2.06.94-2.06 2.06-.94-2.06-.94-.94-2.06-.94 2.06-2.06.94z\"/><path d=\"M17.41 7.96l-1.37-1.37c-.4-.4-.92-.59-1.43-.59-.52 0-1.04.2-1.43.59L10.3 9.45l-7.72 7.72c-.78.78-.78 2.05 0 2.83L4 21.41c.39.39.9.59 1.41.59.51 0 1.02-.2 1.41-.59l7.78-7.78 2.81-2.81c.8-.78.8-2.07 0-2.86zM5.41 20L4 18.59l7.72-7.72 1.47 1.35L5.41 20z\"/>\n",
              "  </svg>\n",
              "      </button>\n",
              "      \n",
              "  <style>\n",
              "    .colab-df-container {\n",
              "      display:flex;\n",
              "      flex-wrap:wrap;\n",
              "      gap: 12px;\n",
              "    }\n",
              "\n",
              "    .colab-df-convert {\n",
              "      background-color: #E8F0FE;\n",
              "      border: none;\n",
              "      border-radius: 50%;\n",
              "      cursor: pointer;\n",
              "      display: none;\n",
              "      fill: #1967D2;\n",
              "      height: 32px;\n",
              "      padding: 0 0 0 0;\n",
              "      width: 32px;\n",
              "    }\n",
              "\n",
              "    .colab-df-convert:hover {\n",
              "      background-color: #E2EBFA;\n",
              "      box-shadow: 0px 1px 2px rgba(60, 64, 67, 0.3), 0px 1px 3px 1px rgba(60, 64, 67, 0.15);\n",
              "      fill: #174EA6;\n",
              "    }\n",
              "\n",
              "    [theme=dark] .colab-df-convert {\n",
              "      background-color: #3B4455;\n",
              "      fill: #D2E3FC;\n",
              "    }\n",
              "\n",
              "    [theme=dark] .colab-df-convert:hover {\n",
              "      background-color: #434B5C;\n",
              "      box-shadow: 0px 1px 3px 1px rgba(0, 0, 0, 0.15);\n",
              "      filter: drop-shadow(0px 1px 2px rgba(0, 0, 0, 0.3));\n",
              "      fill: #FFFFFF;\n",
              "    }\n",
              "  </style>\n",
              "\n",
              "      <script>\n",
              "        const buttonEl =\n",
              "          document.querySelector('#df-82613f7e-0632-4639-93c5-1a45b73f6d8b button.colab-df-convert');\n",
              "        buttonEl.style.display =\n",
              "          google.colab.kernel.accessAllowed ? 'block' : 'none';\n",
              "\n",
              "        async function convertToInteractive(key) {\n",
              "          const element = document.querySelector('#df-82613f7e-0632-4639-93c5-1a45b73f6d8b');\n",
              "          const dataTable =\n",
              "            await google.colab.kernel.invokeFunction('convertToInteractive',\n",
              "                                                     [key], {});\n",
              "          if (!dataTable) return;\n",
              "\n",
              "          const docLinkHtml = 'Like what you see? Visit the ' +\n",
              "            '<a target=\"_blank\" href=https://colab.research.google.com/notebooks/data_table.ipynb>data table notebook</a>'\n",
              "            + ' to learn more about interactive tables.';\n",
              "          element.innerHTML = '';\n",
              "          dataTable['output_type'] = 'display_data';\n",
              "          await google.colab.output.renderOutput(dataTable, element);\n",
              "          const docLink = document.createElement('div');\n",
              "          docLink.innerHTML = docLinkHtml;\n",
              "          element.appendChild(docLink);\n",
              "        }\n",
              "      </script>\n",
              "    </div>\n",
              "  </div>\n",
              "  "
            ]
          },
          "metadata": {},
          "execution_count": 58
        }
      ]
    },
    {
      "cell_type": "code",
      "source": [
        "big_df.rename(columns = {'first_party_winner':'target'}, inplace = True)"
      ],
      "metadata": {
        "id": "HGgOs0dGihP1"
      },
      "execution_count": 62,
      "outputs": []
    },
    {
      "cell_type": "markdown",
      "source": [
        "# Second Prediction with TFIDF"
      ],
      "metadata": {
        "id": "xEchoCrSpG_R"
      }
    },
    {
      "cell_type": "code",
      "source": [
        "from sklearn.model_selection import train_test_split\n",
        "X_train, X_test = train_test_split(big_df, test_size=0.2, random_state=42)"
      ],
      "metadata": {
        "id": "tHZ6itWaiPj-"
      },
      "execution_count": 65,
      "outputs": []
    },
    {
      "cell_type": "code",
      "source": [
        "from sklearn.feature_extraction.text import TfidfVectorizer"
      ],
      "metadata": {
        "id": "jwFe9RPVh0TB"
      },
      "execution_count": 66,
      "outputs": []
    },
    {
      "cell_type": "code",
      "source": [
        "vectorizer_tf = TfidfVectorizer(max_df=0.75, max_features=1000, ngram_range=(1,2))"
      ],
      "metadata": {
        "id": "CACD7LyZh1pg"
      },
      "execution_count": 67,
      "outputs": []
    },
    {
      "cell_type": "code",
      "source": [
        "train_vectors = vectorizer_tf.fit_transform(X_train.facts) \n",
        "test_vectors = vectorizer_tf.transform(X_test.facts)"
      ],
      "metadata": {
        "id": "P1zdSDjQiH2V"
      },
      "execution_count": 69,
      "outputs": []
    },
    {
      "cell_type": "code",
      "source": [
        "train_df=pd.DataFrame(train_vectors.toarray(), columns=vectorizer_tf.get_feature_names())\n",
        "test_df=pd.DataFrame(test_vectors.toarray(), columns=vectorizer_tf.get_feature_names())"
      ],
      "metadata": {
        "colab": {
          "base_uri": "https://localhost:8080/"
        },
        "id": "5gk70nVjjMYT",
        "outputId": "268b7dec-6641-450b-b110-1abcb3329013"
      },
      "execution_count": 70,
      "outputs": [
        {
          "output_type": "stream",
          "name": "stderr",
          "text": [
            "/usr/local/lib/python3.8/dist-packages/sklearn/utils/deprecation.py:87: FutureWarning: Function get_feature_names is deprecated; get_feature_names is deprecated in 1.0 and will be removed in 1.2. Please use get_feature_names_out instead.\n",
            "  warnings.warn(msg, category=FutureWarning)\n"
          ]
        }
      ]
    },
    {
      "cell_type": "code",
      "source": [
        "train_df=pd.concat([train_df,X_train.loc[:, X_train.columns != \"facts\"].reset_index(drop=True)], axis=1)\n",
        "test_df=pd.concat([test_df,X_test.loc[:, X_test.columns != \"facts\"].reset_index(drop=True)], axis=1)"
      ],
      "metadata": {
        "id": "j65MKJwIjbH4"
      },
      "execution_count": 75,
      "outputs": []
    },
    {
      "cell_type": "code",
      "source": [
        "train_df.head(3)"
      ],
      "metadata": {
        "colab": {
          "base_uri": "https://localhost:8080/",
          "height": 254
        },
        "id": "ckJiBbTFlUwV",
        "outputId": "8a5953e1-4663-42ec-c8c6-a26d417583c9"
      },
      "execution_count": 89,
      "outputs": [
        {
          "output_type": "execute_result",
          "data": {
            "text/plain": [
              "    ability  access  access barriers  access defendant  access facilities  \\\n",
              "0  0.038885     0.0              0.0               0.0                0.0   \n",
              "1  0.000000     0.0              0.0               0.0                0.0   \n",
              "2  0.000000     0.0              0.0               0.0                0.0   \n",
              "\n",
              "   access website  accessibility  accessible  accommodation  accommodations  \\\n",
              "0             0.0            0.0         0.0            0.0             0.0   \n",
              "1             0.0            0.0         0.0            0.0             0.0   \n",
              "2             0.0            0.0         0.0            0.0             0.0   \n",
              "\n",
              "   ...  york city  york state  target  Civil Rights  Criminal Procedure  \\\n",
              "0  ...        0.0         0.0       1             0                   0   \n",
              "1  ...        0.0         0.0       1             0                   0   \n",
              "2  ...        0.0         0.0       1             0                   0   \n",
              "\n",
              "   Economic Activity  First Amendment  Judicial Power  Others  target  \n",
              "0                  0                0               0       1       1  \n",
              "1                  0                0               0       1       1  \n",
              "2                  0                1               0       0       1  \n",
              "\n",
              "[3 rows x 1008 columns]"
            ],
            "text/html": [
              "\n",
              "  <div id=\"df-3f7c565b-03a4-4ea8-9228-b1411f6784f9\">\n",
              "    <div class=\"colab-df-container\">\n",
              "      <div>\n",
              "<style scoped>\n",
              "    .dataframe tbody tr th:only-of-type {\n",
              "        vertical-align: middle;\n",
              "    }\n",
              "\n",
              "    .dataframe tbody tr th {\n",
              "        vertical-align: top;\n",
              "    }\n",
              "\n",
              "    .dataframe thead th {\n",
              "        text-align: right;\n",
              "    }\n",
              "</style>\n",
              "<table border=\"1\" class=\"dataframe\">\n",
              "  <thead>\n",
              "    <tr style=\"text-align: right;\">\n",
              "      <th></th>\n",
              "      <th>ability</th>\n",
              "      <th>access</th>\n",
              "      <th>access barriers</th>\n",
              "      <th>access defendant</th>\n",
              "      <th>access facilities</th>\n",
              "      <th>access website</th>\n",
              "      <th>accessibility</th>\n",
              "      <th>accessible</th>\n",
              "      <th>accommodation</th>\n",
              "      <th>accommodations</th>\n",
              "      <th>...</th>\n",
              "      <th>york city</th>\n",
              "      <th>york state</th>\n",
              "      <th>target</th>\n",
              "      <th>Civil Rights</th>\n",
              "      <th>Criminal Procedure</th>\n",
              "      <th>Economic Activity</th>\n",
              "      <th>First Amendment</th>\n",
              "      <th>Judicial Power</th>\n",
              "      <th>Others</th>\n",
              "      <th>target</th>\n",
              "    </tr>\n",
              "  </thead>\n",
              "  <tbody>\n",
              "    <tr>\n",
              "      <th>0</th>\n",
              "      <td>0.038885</td>\n",
              "      <td>0.0</td>\n",
              "      <td>0.0</td>\n",
              "      <td>0.0</td>\n",
              "      <td>0.0</td>\n",
              "      <td>0.0</td>\n",
              "      <td>0.0</td>\n",
              "      <td>0.0</td>\n",
              "      <td>0.0</td>\n",
              "      <td>0.0</td>\n",
              "      <td>...</td>\n",
              "      <td>0.0</td>\n",
              "      <td>0.0</td>\n",
              "      <td>1</td>\n",
              "      <td>0</td>\n",
              "      <td>0</td>\n",
              "      <td>0</td>\n",
              "      <td>0</td>\n",
              "      <td>0</td>\n",
              "      <td>1</td>\n",
              "      <td>1</td>\n",
              "    </tr>\n",
              "    <tr>\n",
              "      <th>1</th>\n",
              "      <td>0.000000</td>\n",
              "      <td>0.0</td>\n",
              "      <td>0.0</td>\n",
              "      <td>0.0</td>\n",
              "      <td>0.0</td>\n",
              "      <td>0.0</td>\n",
              "      <td>0.0</td>\n",
              "      <td>0.0</td>\n",
              "      <td>0.0</td>\n",
              "      <td>0.0</td>\n",
              "      <td>...</td>\n",
              "      <td>0.0</td>\n",
              "      <td>0.0</td>\n",
              "      <td>1</td>\n",
              "      <td>0</td>\n",
              "      <td>0</td>\n",
              "      <td>0</td>\n",
              "      <td>0</td>\n",
              "      <td>0</td>\n",
              "      <td>1</td>\n",
              "      <td>1</td>\n",
              "    </tr>\n",
              "    <tr>\n",
              "      <th>2</th>\n",
              "      <td>0.000000</td>\n",
              "      <td>0.0</td>\n",
              "      <td>0.0</td>\n",
              "      <td>0.0</td>\n",
              "      <td>0.0</td>\n",
              "      <td>0.0</td>\n",
              "      <td>0.0</td>\n",
              "      <td>0.0</td>\n",
              "      <td>0.0</td>\n",
              "      <td>0.0</td>\n",
              "      <td>...</td>\n",
              "      <td>0.0</td>\n",
              "      <td>0.0</td>\n",
              "      <td>1</td>\n",
              "      <td>0</td>\n",
              "      <td>0</td>\n",
              "      <td>0</td>\n",
              "      <td>1</td>\n",
              "      <td>0</td>\n",
              "      <td>0</td>\n",
              "      <td>1</td>\n",
              "    </tr>\n",
              "  </tbody>\n",
              "</table>\n",
              "<p>3 rows × 1008 columns</p>\n",
              "</div>\n",
              "      <button class=\"colab-df-convert\" onclick=\"convertToInteractive('df-3f7c565b-03a4-4ea8-9228-b1411f6784f9')\"\n",
              "              title=\"Convert this dataframe to an interactive table.\"\n",
              "              style=\"display:none;\">\n",
              "        \n",
              "  <svg xmlns=\"http://www.w3.org/2000/svg\" height=\"24px\"viewBox=\"0 0 24 24\"\n",
              "       width=\"24px\">\n",
              "    <path d=\"M0 0h24v24H0V0z\" fill=\"none\"/>\n",
              "    <path d=\"M18.56 5.44l.94 2.06.94-2.06 2.06-.94-2.06-.94-.94-2.06-.94 2.06-2.06.94zm-11 1L8.5 8.5l.94-2.06 2.06-.94-2.06-.94L8.5 2.5l-.94 2.06-2.06.94zm10 10l.94 2.06.94-2.06 2.06-.94-2.06-.94-.94-2.06-.94 2.06-2.06.94z\"/><path d=\"M17.41 7.96l-1.37-1.37c-.4-.4-.92-.59-1.43-.59-.52 0-1.04.2-1.43.59L10.3 9.45l-7.72 7.72c-.78.78-.78 2.05 0 2.83L4 21.41c.39.39.9.59 1.41.59.51 0 1.02-.2 1.41-.59l7.78-7.78 2.81-2.81c.8-.78.8-2.07 0-2.86zM5.41 20L4 18.59l7.72-7.72 1.47 1.35L5.41 20z\"/>\n",
              "  </svg>\n",
              "      </button>\n",
              "      \n",
              "  <style>\n",
              "    .colab-df-container {\n",
              "      display:flex;\n",
              "      flex-wrap:wrap;\n",
              "      gap: 12px;\n",
              "    }\n",
              "\n",
              "    .colab-df-convert {\n",
              "      background-color: #E8F0FE;\n",
              "      border: none;\n",
              "      border-radius: 50%;\n",
              "      cursor: pointer;\n",
              "      display: none;\n",
              "      fill: #1967D2;\n",
              "      height: 32px;\n",
              "      padding: 0 0 0 0;\n",
              "      width: 32px;\n",
              "    }\n",
              "\n",
              "    .colab-df-convert:hover {\n",
              "      background-color: #E2EBFA;\n",
              "      box-shadow: 0px 1px 2px rgba(60, 64, 67, 0.3), 0px 1px 3px 1px rgba(60, 64, 67, 0.15);\n",
              "      fill: #174EA6;\n",
              "    }\n",
              "\n",
              "    [theme=dark] .colab-df-convert {\n",
              "      background-color: #3B4455;\n",
              "      fill: #D2E3FC;\n",
              "    }\n",
              "\n",
              "    [theme=dark] .colab-df-convert:hover {\n",
              "      background-color: #434B5C;\n",
              "      box-shadow: 0px 1px 3px 1px rgba(0, 0, 0, 0.15);\n",
              "      filter: drop-shadow(0px 1px 2px rgba(0, 0, 0, 0.3));\n",
              "      fill: #FFFFFF;\n",
              "    }\n",
              "  </style>\n",
              "\n",
              "      <script>\n",
              "        const buttonEl =\n",
              "          document.querySelector('#df-3f7c565b-03a4-4ea8-9228-b1411f6784f9 button.colab-df-convert');\n",
              "        buttonEl.style.display =\n",
              "          google.colab.kernel.accessAllowed ? 'block' : 'none';\n",
              "\n",
              "        async function convertToInteractive(key) {\n",
              "          const element = document.querySelector('#df-3f7c565b-03a4-4ea8-9228-b1411f6784f9');\n",
              "          const dataTable =\n",
              "            await google.colab.kernel.invokeFunction('convertToInteractive',\n",
              "                                                     [key], {});\n",
              "          if (!dataTable) return;\n",
              "\n",
              "          const docLinkHtml = 'Like what you see? Visit the ' +\n",
              "            '<a target=\"_blank\" href=https://colab.research.google.com/notebooks/data_table.ipynb>data table notebook</a>'\n",
              "            + ' to learn more about interactive tables.';\n",
              "          element.innerHTML = '';\n",
              "          dataTable['output_type'] = 'display_data';\n",
              "          await google.colab.output.renderOutput(dataTable, element);\n",
              "          const docLink = document.createElement('div');\n",
              "          docLink.innerHTML = docLinkHtml;\n",
              "          element.appendChild(docLink);\n",
              "        }\n",
              "      </script>\n",
              "    </div>\n",
              "  </div>\n",
              "  "
            ]
          },
          "metadata": {},
          "execution_count": 89
        }
      ]
    },
    {
      "cell_type": "code",
      "source": [
        "X_train = train_df.loc[:, train_df.columns != \"target\"]\n",
        "y_train = train_df[\"target\"]"
      ],
      "metadata": {
        "id": "oBXSvKa1mGuL"
      },
      "execution_count": 86,
      "outputs": []
    },
    {
      "cell_type": "code",
      "source": [
        "X_test = test_df.loc[:, test_df.columns != \"target\"]\n",
        "y_test = test_df[\"target\"]"
      ],
      "metadata": {
        "id": "JF4a-Vc1nxE8"
      },
      "execution_count": 94,
      "outputs": []
    },
    {
      "cell_type": "code",
      "source": [
        "y_train = y_train.loc[:,~y_train.columns.duplicated()]\n",
        "y_test = y_test.loc[:,~y_test.columns.duplicated()]"
      ],
      "metadata": {
        "id": "fVldDQ0jnNd7"
      },
      "execution_count": 97,
      "outputs": []
    },
    {
      "cell_type": "code",
      "source": [
        "my_target = [\"0\", \"1\"]"
      ],
      "metadata": {
        "id": "uHPeesIGpcdd"
      },
      "execution_count": 106,
      "outputs": []
    },
    {
      "cell_type": "code",
      "source": [
        "logreg = Pipeline([\n",
        "                ('clf', LogisticRegression()),\n",
        "               ])\n",
        "logreg.fit(X_train, y_train)"
      ],
      "metadata": {
        "colab": {
          "base_uri": "https://localhost:8080/"
        },
        "id": "0e2QYO-MmCz3",
        "outputId": "02d5e32a-5f0e-41f5-f445-c01faeece7d9"
      },
      "execution_count": 92,
      "outputs": [
        {
          "output_type": "stream",
          "name": "stderr",
          "text": [
            "/usr/local/lib/python3.8/dist-packages/sklearn/utils/validation.py:993: DataConversionWarning: A column-vector y was passed when a 1d array was expected. Please change the shape of y to (n_samples, ), for example using ravel().\n",
            "  y = column_or_1d(y, warn=True)\n"
          ]
        },
        {
          "output_type": "execute_result",
          "data": {
            "text/plain": [
              "Pipeline(steps=[('clf',\n",
              "                 LogisticRegression(C=100000.0, max_iter=100000, n_jobs=1))])"
            ]
          },
          "metadata": {},
          "execution_count": 92
        }
      ]
    },
    {
      "cell_type": "code",
      "source": [
        "%%time\n",
        "y_pred = logreg.predict(X_test)"
      ],
      "metadata": {
        "colab": {
          "base_uri": "https://localhost:8080/"
        },
        "id": "ommazsUNnUO1",
        "outputId": "678fd829-3037-460f-d39a-f7c27a3a1929"
      },
      "execution_count": 99,
      "outputs": [
        {
          "output_type": "stream",
          "name": "stdout",
          "text": [
            "CPU times: user 18.4 ms, sys: 9.85 ms, total: 28.2 ms\n",
            "Wall time: 28.2 ms\n"
          ]
        }
      ]
    },
    {
      "cell_type": "code",
      "source": [
        "from sklearn.metrics import classification_report\n",
        "print('accuracy %s' % accuracy_score(y_pred, y_test))\n",
        "print(classification_report(y_test, y_pred,target_names=my_target))"
      ],
      "metadata": {
        "colab": {
          "base_uri": "https://localhost:8080/"
        },
        "id": "IfTR4zPGncRG",
        "outputId": "77010a81-4af7-41e2-ec37-15ab696b4bfb"
      },
      "execution_count": 105,
      "outputs": [
        {
          "output_type": "stream",
          "name": "stdout",
          "text": [
            "accuracy 0.6033386327503975\n",
            "              precision    recall  f1-score   support\n",
            "\n",
            "           0       0.53      0.48      0.51       532\n",
            "           1       0.65      0.69      0.67       726\n",
            "\n",
            "    accuracy                           0.60      1258\n",
            "   macro avg       0.59      0.59      0.59      1258\n",
            "weighted avg       0.60      0.60      0.60      1258\n",
            "\n"
          ]
        }
      ]
    },
    {
      "cell_type": "code",
      "source": [
        "from sklearn.naive_bayes import MultinomialNB\n",
        "from sklearn.pipeline import Pipeline\n",
        "from sklearn.feature_extraction.text import TfidfTransformer\n",
        "\n",
        "nb = Pipeline([('clf', MultinomialNB()),\n",
        "              ])\n",
        "nb.fit(X_train, y_train)"
      ],
      "metadata": {
        "colab": {
          "base_uri": "https://localhost:8080/"
        },
        "id": "0M8QMNCEoZeJ",
        "outputId": "0e094f10-c476-4fc8-fa45-5ff90844a197"
      },
      "execution_count": 108,
      "outputs": [
        {
          "output_type": "stream",
          "name": "stderr",
          "text": [
            "/usr/local/lib/python3.8/dist-packages/sklearn/utils/validation.py:993: DataConversionWarning: A column-vector y was passed when a 1d array was expected. Please change the shape of y to (n_samples, ), for example using ravel().\n",
            "  y = column_or_1d(y, warn=True)\n"
          ]
        },
        {
          "output_type": "execute_result",
          "data": {
            "text/plain": [
              "Pipeline(steps=[('clf', MultinomialNB())])"
            ]
          },
          "metadata": {},
          "execution_count": 108
        }
      ]
    },
    {
      "cell_type": "code",
      "source": [
        "%%time\n",
        "y_pred = logreg.predict(X_test)"
      ],
      "metadata": {
        "colab": {
          "base_uri": "https://localhost:8080/"
        },
        "id": "3_aSlRDDpkzl",
        "outputId": "9c10b6e2-25ae-479c-8beb-bea68243df52"
      },
      "execution_count": 109,
      "outputs": [
        {
          "output_type": "stream",
          "name": "stdout",
          "text": [
            "CPU times: user 20.9 ms, sys: 386 µs, total: 21.3 ms\n",
            "Wall time: 24.6 ms\n"
          ]
        }
      ]
    },
    {
      "cell_type": "code",
      "source": [
        "from sklearn.metrics import classification_report\n",
        "print('accuracy %s' % accuracy_score(y_pred, y_test))\n",
        "print(classification_report(y_test, y_pred,target_names=my_target))"
      ],
      "metadata": {
        "colab": {
          "base_uri": "https://localhost:8080/"
        },
        "id": "2wOM81cgpnpY",
        "outputId": "5b6e25db-0a2e-4426-c6e2-2d692117b72c"
      },
      "execution_count": 110,
      "outputs": [
        {
          "output_type": "stream",
          "name": "stdout",
          "text": [
            "accuracy 0.6033386327503975\n",
            "              precision    recall  f1-score   support\n",
            "\n",
            "           0       0.53      0.48      0.51       532\n",
            "           1       0.65      0.69      0.67       726\n",
            "\n",
            "    accuracy                           0.60      1258\n",
            "   macro avg       0.59      0.59      0.59      1258\n",
            "weighted avg       0.60      0.60      0.60      1258\n",
            "\n"
          ]
        }
      ]
    },
    {
      "cell_type": "code",
      "source": [
        "from sklearn.linear_model import SGDClassifier\n",
        "\n",
        "sgd = Pipeline([\n",
        "                ('clf', SGDClassifier(loss='hinge', penalty='l2',alpha=1e-3, random_state=42, max_iter=5, tol=None)),\n",
        "               ])\n",
        "sgd.fit(X_train, y_train)"
      ],
      "metadata": {
        "colab": {
          "base_uri": "https://localhost:8080/"
        },
        "id": "zixsJaM7pqPj",
        "outputId": "42053b2f-b2f5-49c5-c577-c52e8fed0845"
      },
      "execution_count": 111,
      "outputs": [
        {
          "output_type": "stream",
          "name": "stderr",
          "text": [
            "/usr/local/lib/python3.8/dist-packages/sklearn/utils/validation.py:993: DataConversionWarning: A column-vector y was passed when a 1d array was expected. Please change the shape of y to (n_samples, ), for example using ravel().\n",
            "  y = column_or_1d(y, warn=True)\n"
          ]
        },
        {
          "output_type": "execute_result",
          "data": {
            "text/plain": [
              "Pipeline(steps=[('clf',\n",
              "                 SGDClassifier(alpha=0.001, max_iter=5, random_state=42,\n",
              "                               tol=None))])"
            ]
          },
          "metadata": {},
          "execution_count": 111
        }
      ]
    },
    {
      "cell_type": "code",
      "source": [
        "%%time\n",
        "y_pred = sgd.predict(X_test)"
      ],
      "metadata": {
        "colab": {
          "base_uri": "https://localhost:8080/"
        },
        "id": "sh5sgAZFp0pw",
        "outputId": "2c379e40-8c8d-4c5e-8f1a-88f2aa4a0727"
      },
      "execution_count": 112,
      "outputs": [
        {
          "output_type": "stream",
          "name": "stdout",
          "text": [
            "CPU times: user 18.6 ms, sys: 1.91 ms, total: 20.5 ms\n",
            "Wall time: 21.2 ms\n"
          ]
        }
      ]
    },
    {
      "cell_type": "code",
      "source": [
        "from sklearn.metrics import classification_report\n",
        "print('accuracy %s' % accuracy_score(y_pred, y_test))\n",
        "print(classification_report(y_test, y_pred,target_names=my_target))"
      ],
      "metadata": {
        "colab": {
          "base_uri": "https://localhost:8080/"
        },
        "id": "nYNpF5ddp5WM",
        "outputId": "c7999e36-a25f-4718-b8f3-f83c4eba1e98"
      },
      "execution_count": 113,
      "outputs": [
        {
          "output_type": "stream",
          "name": "stdout",
          "text": [
            "accuracy 0.6335453100158982\n",
            "              precision    recall  f1-score   support\n",
            "\n",
            "           0       0.62      0.35      0.45       532\n",
            "           1       0.64      0.84      0.73       726\n",
            "\n",
            "    accuracy                           0.63      1258\n",
            "   macro avg       0.63      0.60      0.59      1258\n",
            "weighted avg       0.63      0.63      0.61      1258\n",
            "\n"
          ]
        }
      ]
    },
    {
      "cell_type": "code",
      "source": [
        "from sklearn.ensemble import RandomForestClassifier\n",
        "\n",
        "randfor = Pipeline([\n",
        "                ('clf', RandomForestClassifier(n_estimators= 10, max_depth=10, random_state=10)),\n",
        "               ])\n",
        "randfor.fit(X_train, y_train)"
      ],
      "metadata": {
        "colab": {
          "base_uri": "https://localhost:8080/"
        },
        "id": "XMaOAJZup93f",
        "outputId": "4606f376-df1d-412f-b1b5-19ed5f293abd"
      },
      "execution_count": 115,
      "outputs": [
        {
          "output_type": "stream",
          "name": "stderr",
          "text": [
            "/usr/local/lib/python3.8/dist-packages/sklearn/pipeline.py:394: DataConversionWarning: A column-vector y was passed when a 1d array was expected. Please change the shape of y to (n_samples,), for example using ravel().\n",
            "  self._final_estimator.fit(Xt, y, **fit_params_last_step)\n"
          ]
        },
        {
          "output_type": "execute_result",
          "data": {
            "text/plain": [
              "Pipeline(steps=[('clf',\n",
              "                 RandomForestClassifier(max_depth=10, n_estimators=10,\n",
              "                                        random_state=10))])"
            ]
          },
          "metadata": {},
          "execution_count": 115
        }
      ]
    },
    {
      "cell_type": "code",
      "source": [
        "%%time\n",
        "y_pred = randfor.predict(X_test)"
      ],
      "metadata": {
        "colab": {
          "base_uri": "https://localhost:8080/"
        },
        "id": "nVX-F5K9qJ53",
        "outputId": "a5836ef7-e856-4eeb-e35d-1bd2383b5c4a"
      },
      "execution_count": 117,
      "outputs": [
        {
          "output_type": "stream",
          "name": "stdout",
          "text": [
            "CPU times: user 30.5 ms, sys: 1.8 ms, total: 32.3 ms\n",
            "Wall time: 45.5 ms\n"
          ]
        }
      ]
    },
    {
      "cell_type": "code",
      "source": [
        "from sklearn.metrics import classification_report\n",
        "print('accuracy %s' % accuracy_score(y_pred, y_test))\n",
        "print(classification_report(y_test, y_pred,target_names=my_target))"
      ],
      "metadata": {
        "colab": {
          "base_uri": "https://localhost:8080/"
        },
        "id": "--jikVONqMLS",
        "outputId": "ecec22cd-c60d-43a6-d6a8-3b1c2e1521c9"
      },
      "execution_count": 118,
      "outputs": [
        {
          "output_type": "stream",
          "name": "stdout",
          "text": [
            "accuracy 0.6168521462639109\n",
            "              precision    recall  f1-score   support\n",
            "\n",
            "           0       0.59      0.31      0.41       532\n",
            "           1       0.62      0.84      0.72       726\n",
            "\n",
            "    accuracy                           0.62      1258\n",
            "   macro avg       0.61      0.58      0.56      1258\n",
            "weighted avg       0.61      0.62      0.59      1258\n",
            "\n"
          ]
        }
      ]
    },
    {
      "cell_type": "code",
      "source": [
        "from sklearn.ensemble import GradientBoostingClassifier\n",
        "graboos = Pipeline([\n",
        "                ('clf', GradientBoostingClassifier(n_estimators=10, max_depth=10, random_state=10)),\n",
        "               ])\n",
        "graboos.fit(X_train, y_train)"
      ],
      "metadata": {
        "colab": {
          "base_uri": "https://localhost:8080/"
        },
        "id": "ZSWqU2kkqUjn",
        "outputId": "25da450f-75fd-4a2e-94ca-84aed1fa6592"
      },
      "execution_count": 119,
      "outputs": [
        {
          "output_type": "stream",
          "name": "stderr",
          "text": [
            "/usr/local/lib/python3.8/dist-packages/sklearn/ensemble/_gb.py:494: DataConversionWarning: A column-vector y was passed when a 1d array was expected. Please change the shape of y to (n_samples, ), for example using ravel().\n",
            "  y = column_or_1d(y, warn=True)\n"
          ]
        },
        {
          "output_type": "execute_result",
          "data": {
            "text/plain": [
              "Pipeline(steps=[('clf',\n",
              "                 GradientBoostingClassifier(max_depth=10, n_estimators=10,\n",
              "                                            random_state=10))])"
            ]
          },
          "metadata": {},
          "execution_count": 119
        }
      ]
    },
    {
      "cell_type": "code",
      "source": [
        "%%time\n",
        "y_pred = graboos.predict(X_test)"
      ],
      "metadata": {
        "colab": {
          "base_uri": "https://localhost:8080/"
        },
        "id": "TC2dQKE_qb2o",
        "outputId": "9043f4e3-6a1f-49bb-ca2f-e317a9771fe1"
      },
      "execution_count": 120,
      "outputs": [
        {
          "output_type": "stream",
          "name": "stdout",
          "text": [
            "CPU times: user 25.8 ms, sys: 924 µs, total: 26.7 ms\n",
            "Wall time: 30.6 ms\n"
          ]
        }
      ]
    },
    {
      "cell_type": "code",
      "source": [
        "from sklearn.metrics import classification_report\n",
        "print('accuracy %s' % accuracy_score(y_pred, y_test))\n",
        "print(classification_report(y_test, y_pred,target_names=my_target))"
      ],
      "metadata": {
        "colab": {
          "base_uri": "https://localhost:8080/"
        },
        "id": "tQESw9zkqgNF",
        "outputId": "707f9fc5-e6df-4e0f-8e52-7aa7cbf4c0a2"
      },
      "execution_count": 121,
      "outputs": [
        {
          "output_type": "stream",
          "name": "stdout",
          "text": [
            "accuracy 0.6057233704292527\n",
            "              precision    recall  f1-score   support\n",
            "\n",
            "           0       0.57      0.28      0.38       532\n",
            "           1       0.62      0.84      0.71       726\n",
            "\n",
            "    accuracy                           0.61      1258\n",
            "   macro avg       0.59      0.56      0.54      1258\n",
            "weighted avg       0.60      0.61      0.57      1258\n",
            "\n"
          ]
        }
      ]
    },
    {
      "cell_type": "code",
      "source": [
        "import xgboost as xgb\n",
        "\n",
        "xgboo = Pipeline([\n",
        "                ('clf', xgb.XGBClassifier()),\n",
        "               ])\n",
        "xgboo.fit(X_train, y_train)"
      ],
      "metadata": {
        "colab": {
          "base_uri": "https://localhost:8080/"
        },
        "id": "nh_OLfMsqhhp",
        "outputId": "cfa97856-b79c-4556-db24-148e5ee9efff"
      },
      "execution_count": 122,
      "outputs": [
        {
          "output_type": "stream",
          "name": "stderr",
          "text": [
            "/usr/local/lib/python3.8/dist-packages/sklearn/preprocessing/_label.py:98: DataConversionWarning: A column-vector y was passed when a 1d array was expected. Please change the shape of y to (n_samples, ), for example using ravel().\n",
            "  y = column_or_1d(y, warn=True)\n",
            "/usr/local/lib/python3.8/dist-packages/sklearn/preprocessing/_label.py:133: DataConversionWarning: A column-vector y was passed when a 1d array was expected. Please change the shape of y to (n_samples, ), for example using ravel().\n",
            "  y = column_or_1d(y, warn=True)\n"
          ]
        },
        {
          "output_type": "execute_result",
          "data": {
            "text/plain": [
              "Pipeline(steps=[('clf', XGBClassifier())])"
            ]
          },
          "metadata": {},
          "execution_count": 122
        }
      ]
    },
    {
      "cell_type": "code",
      "source": [
        "%%time\n",
        "y_pred = xgboo.predict(X_test)"
      ],
      "metadata": {
        "colab": {
          "base_uri": "https://localhost:8080/"
        },
        "id": "zmSayhgMqt9K",
        "outputId": "2c42fa5c-f700-41ce-e35c-d5d2b4f09b04"
      },
      "execution_count": 123,
      "outputs": [
        {
          "output_type": "stream",
          "name": "stdout",
          "text": [
            "CPU times: user 39.1 ms, sys: 8.03 ms, total: 47.2 ms\n",
            "Wall time: 47.1 ms\n"
          ]
        }
      ]
    },
    {
      "cell_type": "code",
      "source": [
        "from sklearn.metrics import classification_report\n",
        "print('accuracy %s' % accuracy_score(y_pred, y_test))\n",
        "print(classification_report(y_test, y_pred,target_names=my_target))"
      ],
      "metadata": {
        "colab": {
          "base_uri": "https://localhost:8080/"
        },
        "id": "Usb_U-0aqx3Z",
        "outputId": "48a86c4b-84d4-425f-f485-d83af5108cb8"
      },
      "execution_count": 124,
      "outputs": [
        {
          "output_type": "stream",
          "name": "stdout",
          "text": [
            "accuracy 0.6216216216216216\n",
            "              precision    recall  f1-score   support\n",
            "\n",
            "           0       0.60      0.32      0.42       532\n",
            "           1       0.63      0.84      0.72       726\n",
            "\n",
            "    accuracy                           0.62      1258\n",
            "   macro avg       0.61      0.58      0.57      1258\n",
            "weighted avg       0.62      0.62      0.59      1258\n",
            "\n"
          ]
        }
      ]
    },
    {
      "cell_type": "code",
      "source": [
        "from sklearn.neighbors import KNeighborsClassifier\n",
        "\n",
        "kn = Pipeline([\n",
        "              ('kn',KNeighborsClassifier(n_neighbors=3)),\n",
        "               ])\n",
        "kn.fit(X_train, y_train)"
      ],
      "metadata": {
        "colab": {
          "base_uri": "https://localhost:8080/"
        },
        "id": "MSjAjE_Tq0Z-",
        "outputId": "b1b98f8e-92b6-4d1b-fb09-c5349f5572f3"
      },
      "execution_count": 125,
      "outputs": [
        {
          "output_type": "stream",
          "name": "stderr",
          "text": [
            "/usr/local/lib/python3.8/dist-packages/sklearn/neighbors/_classification.py:198: DataConversionWarning: A column-vector y was passed when a 1d array was expected. Please change the shape of y to (n_samples,), for example using ravel().\n",
            "  return self._fit(X, y)\n"
          ]
        },
        {
          "output_type": "execute_result",
          "data": {
            "text/plain": [
              "Pipeline(steps=[('kn', KNeighborsClassifier(n_neighbors=3))])"
            ]
          },
          "metadata": {},
          "execution_count": 125
        }
      ]
    },
    {
      "cell_type": "code",
      "source": [
        "%%time\n",
        "y_pred = kn.predict(X_test)"
      ],
      "metadata": {
        "colab": {
          "base_uri": "https://localhost:8080/"
        },
        "id": "3qmpjKRGq-Db",
        "outputId": "4edd2523-dcfc-4596-8848-51db55697f31"
      },
      "execution_count": 126,
      "outputs": [
        {
          "output_type": "stream",
          "name": "stdout",
          "text": [
            "CPU times: user 901 ms, sys: 231 ms, total: 1.13 s\n",
            "Wall time: 920 ms\n"
          ]
        }
      ]
    },
    {
      "cell_type": "code",
      "source": [
        "from sklearn.metrics import classification_report\n",
        "print('accuracy %s' % accuracy_score(y_pred, y_test))\n",
        "print(classification_report(y_test, y_pred,target_names=my_target))"
      ],
      "metadata": {
        "colab": {
          "base_uri": "https://localhost:8080/"
        },
        "id": "AQfP19XJrA0E",
        "outputId": "6ffdfa3e-4a1b-4c2a-9bb5-fc4aea6672fc"
      },
      "execution_count": 127,
      "outputs": [
        {
          "output_type": "stream",
          "name": "stdout",
          "text": [
            "accuracy 0.5930047694753577\n",
            "              precision    recall  f1-score   support\n",
            "\n",
            "           0       0.52      0.46      0.49       532\n",
            "           1       0.64      0.69      0.66       726\n",
            "\n",
            "    accuracy                           0.59      1258\n",
            "   macro avg       0.58      0.58      0.58      1258\n",
            "weighted avg       0.59      0.59      0.59      1258\n",
            "\n"
          ]
        }
      ]
    },
    {
      "cell_type": "markdown",
      "source": [
        "# Second Prediction with Count"
      ],
      "metadata": {
        "id": "ZbmAvsljrEsi"
      }
    },
    {
      "cell_type": "code",
      "source": [
        "from sklearn.model_selection import train_test_split\n",
        "X_train, X_test = train_test_split(big_df, test_size=0.2, random_state=42)"
      ],
      "metadata": {
        "id": "2kw-A2DOrODX"
      },
      "execution_count": 128,
      "outputs": []
    },
    {
      "cell_type": "code",
      "source": [
        "from sklearn.feature_extraction.text import CountVectorizer\n",
        "vectorizer = CountVectorizer()"
      ],
      "metadata": {
        "id": "3htj_rSRreU5"
      },
      "execution_count": 129,
      "outputs": []
    },
    {
      "cell_type": "code",
      "source": [
        "train_vectors = vectorizer_tf.fit_transform(X_train.facts) \n",
        "test_vectors = vectorizer_tf.transform(X_test.facts)"
      ],
      "metadata": {
        "id": "Ne7Ez6mtro-x"
      },
      "execution_count": 130,
      "outputs": []
    },
    {
      "cell_type": "code",
      "source": [
        "train_df=pd.DataFrame(train_vectors.toarray(), columns=vectorizer_tf.get_feature_names())\n",
        "test_df=pd.DataFrame(test_vectors.toarray(), columns=vectorizer_tf.get_feature_names())"
      ],
      "metadata": {
        "colab": {
          "base_uri": "https://localhost:8080/"
        },
        "id": "7M09VCXPruLL",
        "outputId": "9296719d-a5dd-4ece-b89e-5361f2cb1505"
      },
      "execution_count": 131,
      "outputs": [
        {
          "output_type": "stream",
          "name": "stderr",
          "text": [
            "/usr/local/lib/python3.8/dist-packages/sklearn/utils/deprecation.py:87: FutureWarning: Function get_feature_names is deprecated; get_feature_names is deprecated in 1.0 and will be removed in 1.2. Please use get_feature_names_out instead.\n",
            "  warnings.warn(msg, category=FutureWarning)\n"
          ]
        }
      ]
    },
    {
      "cell_type": "code",
      "source": [
        "train_df=pd.concat([train_df,X_train.loc[:, X_train.columns != \"facts\"].reset_index(drop=True)], axis=1)\n",
        "test_df=pd.concat([test_df,X_test.loc[:, X_test.columns != \"facts\"].reset_index(drop=True)], axis=1)"
      ],
      "metadata": {
        "id": "iOIMX0Tirwx_"
      },
      "execution_count": 132,
      "outputs": []
    },
    {
      "cell_type": "code",
      "source": [
        "X_train = train_df.loc[:, train_df.columns != \"target\"]\n",
        "y_train = train_df[\"target\"]\n",
        "X_test = test_df.loc[:, test_df.columns != \"target\"]\n",
        "y_test = test_df[\"target\"]"
      ],
      "metadata": {
        "id": "6qTwJl1Mr1TT"
      },
      "execution_count": 133,
      "outputs": []
    },
    {
      "cell_type": "code",
      "source": [
        "logreg = Pipeline([\n",
        "                ('clf', LogisticRegression()),\n",
        "               ])\n",
        "logreg.fit(X_train, y_train)"
      ],
      "metadata": {
        "colab": {
          "base_uri": "https://localhost:8080/"
        },
        "id": "-JJ6FrHEsKcL",
        "outputId": "ae5bc7d2-b3a5-4a37-cb22-00e4736892ca"
      },
      "execution_count": 142,
      "outputs": [
        {
          "output_type": "execute_result",
          "data": {
            "text/plain": [
              "Pipeline(steps=[('clf', LogisticRegression())])"
            ]
          },
          "metadata": {},
          "execution_count": 142
        }
      ]
    },
    {
      "cell_type": "code",
      "source": [
        "%%time\n",
        "y_pred = logreg.predict(X_test)"
      ],
      "metadata": {
        "colab": {
          "base_uri": "https://localhost:8080/"
        },
        "id": "nxtkMCBZsVt0",
        "outputId": "87b68cab-142d-482f-d428-393ffa82d9ce"
      },
      "execution_count": 143,
      "outputs": [
        {
          "output_type": "stream",
          "name": "stdout",
          "text": [
            "CPU times: user 20.9 ms, sys: 0 ns, total: 20.9 ms\n",
            "Wall time: 24.9 ms\n"
          ]
        }
      ]
    },
    {
      "cell_type": "code",
      "source": [
        "from sklearn.metrics import classification_report\n",
        "print('accuracy %s' % accuracy_score(y_pred, y_test))\n",
        "print(classification_report(y_test, y_pred,target_names=my_target))"
      ],
      "metadata": {
        "colab": {
          "base_uri": "https://localhost:8080/"
        },
        "id": "nXCtaiw-sftL",
        "outputId": "911c8dfa-7421-4c8e-b858-b845fff47353"
      },
      "execution_count": 144,
      "outputs": [
        {
          "output_type": "stream",
          "name": "stdout",
          "text": [
            "accuracy 0.6343402225755167\n",
            "              precision    recall  f1-score   support\n",
            "\n",
            "           0       0.60      0.41      0.49       532\n",
            "           1       0.65      0.80      0.72       726\n",
            "\n",
            "    accuracy                           0.63      1258\n",
            "   macro avg       0.62      0.60      0.60      1258\n",
            "weighted avg       0.63      0.63      0.62      1258\n",
            "\n"
          ]
        }
      ]
    },
    {
      "cell_type": "code",
      "source": [
        "from sklearn.linear_model import SGDClassifier\n",
        "\n",
        "sgd = Pipeline([\n",
        "                ('clf', SGDClassifier(loss='hinge', penalty='l2',alpha=1e-3, random_state=42, max_iter=5, tol=None)),\n",
        "               ])\n",
        "sgd.fit(X_train, y_train)"
      ],
      "metadata": {
        "colab": {
          "base_uri": "https://localhost:8080/"
        },
        "id": "QkTlg-WXswb8",
        "outputId": "d8305bc4-0428-403f-8aa6-169bd21b5d6b"
      },
      "execution_count": 141,
      "outputs": [
        {
          "output_type": "execute_result",
          "data": {
            "text/plain": [
              "Pipeline(steps=[('clf',\n",
              "                 SGDClassifier(alpha=0.001, max_iter=5, random_state=42,\n",
              "                               tol=None))])"
            ]
          },
          "metadata": {},
          "execution_count": 141
        }
      ]
    },
    {
      "cell_type": "code",
      "source": [
        "%%time\n",
        "y_pred = sgd.predict(X_test)"
      ],
      "metadata": {
        "colab": {
          "base_uri": "https://localhost:8080/"
        },
        "id": "jBX1rR0OtBtj",
        "outputId": "e61c943b-a146-4685-bb15-184abe6cd991"
      },
      "execution_count": 145,
      "outputs": [
        {
          "output_type": "stream",
          "name": "stdout",
          "text": [
            "CPU times: user 23.7 ms, sys: 1.93 ms, total: 25.7 ms\n",
            "Wall time: 33.3 ms\n"
          ]
        }
      ]
    },
    {
      "cell_type": "code",
      "source": [
        "from sklearn.metrics import classification_report\n",
        "print('accuracy %s' % accuracy_score(y_pred, y_test))\n",
        "print(classification_report(y_test, y_pred,target_names=my_target))"
      ],
      "metadata": {
        "colab": {
          "base_uri": "https://localhost:8080/"
        },
        "id": "aqNkCEf6s1yq",
        "outputId": "1108fd8b-f4c7-4ab3-9984-19918d5f7e53"
      },
      "execution_count": 146,
      "outputs": [
        {
          "output_type": "stream",
          "name": "stdout",
          "text": [
            "accuracy 0.6335453100158982\n",
            "              precision    recall  f1-score   support\n",
            "\n",
            "           0       0.62      0.35      0.45       532\n",
            "           1       0.64      0.84      0.73       726\n",
            "\n",
            "    accuracy                           0.63      1258\n",
            "   macro avg       0.63      0.60      0.59      1258\n",
            "weighted avg       0.63      0.63      0.61      1258\n",
            "\n"
          ]
        }
      ]
    },
    {
      "cell_type": "code",
      "source": [
        "from sklearn.naive_bayes import MultinomialNB\n",
        "from sklearn.pipeline import Pipeline\n",
        "from sklearn.feature_extraction.text import TfidfTransformer\n",
        "\n",
        "nb = Pipeline([('clf', MultinomialNB()),\n",
        "              ])\n",
        "nb.fit(X_train, y_train)"
      ],
      "metadata": {
        "colab": {
          "base_uri": "https://localhost:8080/"
        },
        "id": "ereszU4HtH-0",
        "outputId": "ed542d4c-c1e3-4562-f416-bc8aee614050"
      },
      "execution_count": 147,
      "outputs": [
        {
          "output_type": "execute_result",
          "data": {
            "text/plain": [
              "Pipeline(steps=[('clf', MultinomialNB())])"
            ]
          },
          "metadata": {},
          "execution_count": 147
        }
      ]
    },
    {
      "cell_type": "code",
      "source": [
        "%%time\n",
        "y_pred = nb.predict(X_test)"
      ],
      "metadata": {
        "colab": {
          "base_uri": "https://localhost:8080/"
        },
        "id": "QS6AMXeutNWh",
        "outputId": "cd12d163-4b95-48be-8ca8-36f399a75930"
      },
      "execution_count": 149,
      "outputs": [
        {
          "output_type": "stream",
          "name": "stdout",
          "text": [
            "CPU times: user 32 ms, sys: 772 µs, total: 32.8 ms\n",
            "Wall time: 45.4 ms\n"
          ]
        }
      ]
    },
    {
      "cell_type": "code",
      "source": [
        "from sklearn.metrics import classification_report\n",
        "print('accuracy %s' % accuracy_score(y_pred, y_test))\n",
        "print(classification_report(y_test, y_pred,target_names=my_target))"
      ],
      "metadata": {
        "colab": {
          "base_uri": "https://localhost:8080/"
        },
        "id": "-7OWBkzftPeh",
        "outputId": "227c05ff-5946-4169-ff43-a35bb35cd9e4"
      },
      "execution_count": 150,
      "outputs": [
        {
          "output_type": "stream",
          "name": "stdout",
          "text": [
            "accuracy 0.6248012718600954\n",
            "              precision    recall  f1-score   support\n",
            "\n",
            "           0       0.58      0.40      0.47       532\n",
            "           1       0.64      0.79      0.71       726\n",
            "\n",
            "    accuracy                           0.62      1258\n",
            "   macro avg       0.61      0.59      0.59      1258\n",
            "weighted avg       0.62      0.62      0.61      1258\n",
            "\n"
          ]
        }
      ]
    },
    {
      "cell_type": "code",
      "source": [
        "from sklearn.ensemble import RandomForestClassifier\n",
        "\n",
        "randfor = Pipeline([\n",
        "                ('clf', RandomForestClassifier(n_estimators= 10, max_depth=10, random_state=10)),\n",
        "               ])\n",
        "randfor.fit(X_train, y_train)"
      ],
      "metadata": {
        "colab": {
          "base_uri": "https://localhost:8080/"
        },
        "id": "tTK_BSYrtTXq",
        "outputId": "4af18f73-e983-4e1d-f44a-61f422cddd11"
      },
      "execution_count": 151,
      "outputs": [
        {
          "output_type": "execute_result",
          "data": {
            "text/plain": [
              "Pipeline(steps=[('clf',\n",
              "                 RandomForestClassifier(max_depth=10, n_estimators=10,\n",
              "                                        random_state=10))])"
            ]
          },
          "metadata": {},
          "execution_count": 151
        }
      ]
    },
    {
      "cell_type": "code",
      "source": [
        "%%time\n",
        "y_pred = randfor.predict(X_test)"
      ],
      "metadata": {
        "colab": {
          "base_uri": "https://localhost:8080/"
        },
        "id": "08wgrwPDteEi",
        "outputId": "b2287e0e-51a1-4b6d-cc56-059648258d72"
      },
      "execution_count": 152,
      "outputs": [
        {
          "output_type": "stream",
          "name": "stdout",
          "text": [
            "CPU times: user 31.6 ms, sys: 0 ns, total: 31.6 ms\n",
            "Wall time: 79.8 ms\n"
          ]
        }
      ]
    },
    {
      "cell_type": "code",
      "source": [
        "from sklearn.metrics import classification_report\n",
        "print('accuracy %s' % accuracy_score(y_pred, y_test))\n",
        "print(classification_report(y_test, y_pred,target_names=my_target))"
      ],
      "metadata": {
        "colab": {
          "base_uri": "https://localhost:8080/"
        },
        "id": "0y1ziEEMthiL",
        "outputId": "2d99320f-8cdd-495d-f4bd-817a59f4c879"
      },
      "execution_count": 153,
      "outputs": [
        {
          "output_type": "stream",
          "name": "stdout",
          "text": [
            "accuracy 0.6168521462639109\n",
            "              precision    recall  f1-score   support\n",
            "\n",
            "           0       0.59      0.31      0.41       532\n",
            "           1       0.62      0.84      0.72       726\n",
            "\n",
            "    accuracy                           0.62      1258\n",
            "   macro avg       0.61      0.58      0.56      1258\n",
            "weighted avg       0.61      0.62      0.59      1258\n",
            "\n"
          ]
        }
      ]
    },
    {
      "cell_type": "code",
      "source": [
        "from sklearn.ensemble import GradientBoostingClassifier\n",
        "graboos = Pipeline([\n",
        "                ('clf', GradientBoostingClassifier(n_estimators=10, max_depth=10, random_state=10)),\n",
        "               ])\n",
        "graboos.fit(X_train, y_train)"
      ],
      "metadata": {
        "colab": {
          "base_uri": "https://localhost:8080/"
        },
        "id": "KdGJjzxitkQo",
        "outputId": "e436c487-3da4-45b8-c1dc-6f1d7408f8f6"
      },
      "execution_count": 154,
      "outputs": [
        {
          "output_type": "execute_result",
          "data": {
            "text/plain": [
              "Pipeline(steps=[('clf',\n",
              "                 GradientBoostingClassifier(max_depth=10, n_estimators=10,\n",
              "                                            random_state=10))])"
            ]
          },
          "metadata": {},
          "execution_count": 154
        }
      ]
    },
    {
      "cell_type": "code",
      "source": [
        "%%time\n",
        "y_pred = graboos.predict(X_test)"
      ],
      "metadata": {
        "colab": {
          "base_uri": "https://localhost:8080/"
        },
        "id": "aEBGgaefto2R",
        "outputId": "b3a32cc1-f60b-4d17-fc26-95f07df6d2cb"
      },
      "execution_count": 155,
      "outputs": [
        {
          "output_type": "stream",
          "name": "stdout",
          "text": [
            "CPU times: user 33 ms, sys: 488 µs, total: 33.4 ms\n",
            "Wall time: 38.2 ms\n"
          ]
        }
      ]
    },
    {
      "cell_type": "code",
      "source": [
        "from sklearn.metrics import classification_report\n",
        "print('accuracy %s' % accuracy_score(y_pred, y_test))\n",
        "print(classification_report(y_test, y_pred,target_names=my_target))"
      ],
      "metadata": {
        "colab": {
          "base_uri": "https://localhost:8080/"
        },
        "id": "dXQLoITgtrJz",
        "outputId": "6d3217d9-43c8-4b2c-d842-5709fce22fa7"
      },
      "execution_count": 156,
      "outputs": [
        {
          "output_type": "stream",
          "name": "stdout",
          "text": [
            "accuracy 0.6057233704292527\n",
            "              precision    recall  f1-score   support\n",
            "\n",
            "           0       0.57      0.28      0.38       532\n",
            "           1       0.62      0.84      0.71       726\n",
            "\n",
            "    accuracy                           0.61      1258\n",
            "   macro avg       0.59      0.56      0.54      1258\n",
            "weighted avg       0.60      0.61      0.57      1258\n",
            "\n"
          ]
        }
      ]
    },
    {
      "cell_type": "code",
      "source": [
        "import xgboost as xgb\n",
        "\n",
        "xgboo = Pipeline([\n",
        "                ('clf', xgb.XGBClassifier()),\n",
        "               ])\n",
        "xgboo.fit(X_train, y_train)"
      ],
      "metadata": {
        "colab": {
          "base_uri": "https://localhost:8080/"
        },
        "id": "tlXDagxjttnU",
        "outputId": "ff8bb82c-2a85-4c6f-c3d1-ee9e0f71e2c0"
      },
      "execution_count": 157,
      "outputs": [
        {
          "output_type": "execute_result",
          "data": {
            "text/plain": [
              "Pipeline(steps=[('clf', XGBClassifier())])"
            ]
          },
          "metadata": {},
          "execution_count": 157
        }
      ]
    },
    {
      "cell_type": "code",
      "source": [
        "%%time\n",
        "y_pred = xgboo.predict(X_test)"
      ],
      "metadata": {
        "colab": {
          "base_uri": "https://localhost:8080/"
        },
        "id": "-JUsrVPjtx3u",
        "outputId": "cfe1e10e-61aa-4067-94be-6a42be8f1c44"
      },
      "execution_count": 158,
      "outputs": [
        {
          "output_type": "stream",
          "name": "stdout",
          "text": [
            "CPU times: user 49.7 ms, sys: 6.91 ms, total: 56.6 ms\n",
            "Wall time: 64.9 ms\n"
          ]
        }
      ]
    },
    {
      "cell_type": "code",
      "source": [
        "from sklearn.metrics import classification_report\n",
        "print('accuracy %s' % accuracy_score(y_pred, y_test))\n",
        "print(classification_report(y_test, y_pred,target_names=my_target))"
      ],
      "metadata": {
        "colab": {
          "base_uri": "https://localhost:8080/"
        },
        "id": "kouQJT0dt4RX",
        "outputId": "91071176-1e96-46d8-d204-3f237b089b56"
      },
      "execution_count": 159,
      "outputs": [
        {
          "output_type": "stream",
          "name": "stdout",
          "text": [
            "accuracy 0.6216216216216216\n",
            "              precision    recall  f1-score   support\n",
            "\n",
            "           0       0.60      0.32      0.42       532\n",
            "           1       0.63      0.84      0.72       726\n",
            "\n",
            "    accuracy                           0.62      1258\n",
            "   macro avg       0.61      0.58      0.57      1258\n",
            "weighted avg       0.62      0.62      0.59      1258\n",
            "\n"
          ]
        }
      ]
    },
    {
      "cell_type": "code",
      "source": [
        "from sklearn.neighbors import KNeighborsClassifier\n",
        "\n",
        "kn = Pipeline([\n",
        "              ('kn',KNeighborsClassifier(n_neighbors=15)),\n",
        "               ])\n",
        "kn.fit(X_train, y_train)"
      ],
      "metadata": {
        "colab": {
          "base_uri": "https://localhost:8080/"
        },
        "id": "suxwqbzGt6U-",
        "outputId": "61b7108c-5f84-4ed8-b70a-26768add06e2"
      },
      "execution_count": 169,
      "outputs": [
        {
          "output_type": "execute_result",
          "data": {
            "text/plain": [
              "Pipeline(steps=[('kn', KNeighborsClassifier(n_neighbors=15))])"
            ]
          },
          "metadata": {},
          "execution_count": 169
        }
      ]
    },
    {
      "cell_type": "code",
      "source": [
        "%%time\n",
        "y_pred = kn.predict(X_test)"
      ],
      "metadata": {
        "colab": {
          "base_uri": "https://localhost:8080/"
        },
        "id": "3z8DOh3guA0o",
        "outputId": "dc088b29-b353-4989-c7f2-0d36c6bdb25a"
      },
      "execution_count": 170,
      "outputs": [
        {
          "output_type": "stream",
          "name": "stdout",
          "text": [
            "CPU times: user 957 ms, sys: 145 ms, total: 1.1 s\n",
            "Wall time: 633 ms\n"
          ]
        }
      ]
    },
    {
      "cell_type": "code",
      "source": [
        "from sklearn.metrics import classification_report\n",
        "print('accuracy %s' % accuracy_score(y_pred, y_test))\n",
        "print(classification_report(y_test, y_pred,target_names=my_target))"
      ],
      "metadata": {
        "colab": {
          "base_uri": "https://localhost:8080/"
        },
        "id": "Yi0EL_g3uFJd",
        "outputId": "d25b6445-e459-4820-a5b0-9a2705b68d6e"
      },
      "execution_count": 171,
      "outputs": [
        {
          "output_type": "stream",
          "name": "stdout",
          "text": [
            "accuracy 0.609697933227345\n",
            "              precision    recall  f1-score   support\n",
            "\n",
            "           0       0.56      0.38      0.45       532\n",
            "           1       0.63      0.78      0.70       726\n",
            "\n",
            "    accuracy                           0.61      1258\n",
            "   macro avg       0.59      0.58      0.58      1258\n",
            "weighted avg       0.60      0.61      0.59      1258\n",
            "\n"
          ]
        }
      ]
    }
  ],
  "metadata": {
    "kernelspec": {
      "display_name": "base",
      "language": "python",
      "name": "python3"
    },
    "language_info": {
      "codemirror_mode": {
        "name": "ipython",
        "version": 3
      },
      "file_extension": ".py",
      "mimetype": "text/x-python",
      "name": "python",
      "nbconvert_exporter": "python",
      "pygments_lexer": "ipython3",
      "version": "3.8.12"
    },
    "orig_nbformat": 4,
    "vscode": {
      "interpreter": {
        "hash": "40d3a090f54c6569ab1632332b64b2c03c39dcf918b08424e98f38b5ae0af88f"
      }
    },
    "colab": {
      "provenance": [],
      "collapsed_sections": [
        "LNbeldMyB5_1",
        "_3171OypB5_5",
        "9skypSU9fjxV",
        "GqWh0DVlYFPF"
      ],
      "include_colab_link": true
    }
  },
  "nbformat": 4,
  "nbformat_minor": 0
}