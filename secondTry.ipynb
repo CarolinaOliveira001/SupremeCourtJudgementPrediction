{
  "cells": [
    {
      "cell_type": "markdown",
      "metadata": {
        "id": "view-in-github",
        "colab_type": "text"
      },
      "source": [
        "<a href=\"https://colab.research.google.com/github/CarolinaOliveira001/SupremeCourtJudgementPrediction/blob/main/secondTry.ipynb\" target=\"_parent\"><img src=\"https://colab.research.google.com/assets/colab-badge.svg\" alt=\"Open In Colab\"/></a>"
      ]
    },
    {
      "cell_type": "code",
      "execution_count": null,
      "metadata": {
        "id": "UhFxVu0fB5_m"
      },
      "outputs": [],
      "source": [
        "import logging\n",
        "import pandas as pd\n",
        "import numpy as np\n",
        "from numpy import random\n",
        "import gensim\n",
        "import nltk\n",
        "from sklearn.model_selection import train_test_split\n",
        "from sklearn.feature_extraction.text import CountVectorizer, TfidfVectorizer\n",
        "from sklearn.metrics import accuracy_score, confusion_matrix\n",
        "import matplotlib.pyplot as plt\n",
        "from nltk.corpus import stopwords\n",
        "import re\n",
        "import string\n",
        "from nltk.stem import WordNetLemmatizer, PorterStemmer"
      ]
    },
    {
      "cell_type": "code",
      "execution_count": null,
      "metadata": {
        "colab": {
          "base_uri": "https://localhost:8080/",
          "height": 206
        },
        "id": "wEmkUO0uB5_p",
        "outputId": "36933c74-993f-4afe-af3e-ca9255cc7cfd"
      },
      "outputs": [
        {
          "output_type": "execute_result",
          "data": {
            "text/plain": [
              "                                               facts       issue_area  \\\n",
              "0  <p>In 1970, Jane Roe (a fictional name used in...              NaN   \n",
              "1  <p>Joan Stanley had three children with Peter ...     Civil Rights   \n",
              "2  <p>John Giglio was convicted of passing forged...      Due Process   \n",
              "3  <p>The Idaho Probate Code specified that \"male...     Civil Rights   \n",
              "4  <p>Miller, after conducting a mass mailing cam...  First Amendment   \n",
              "\n",
              "  first_party_winner  \n",
              "0               True  \n",
              "1               True  \n",
              "2               True  \n",
              "3               True  \n",
              "4               True  "
            ],
            "text/html": [
              "\n",
              "  <div id=\"df-4d91cc25-e169-40e5-be35-78319551c951\">\n",
              "    <div class=\"colab-df-container\">\n",
              "      <div>\n",
              "<style scoped>\n",
              "    .dataframe tbody tr th:only-of-type {\n",
              "        vertical-align: middle;\n",
              "    }\n",
              "\n",
              "    .dataframe tbody tr th {\n",
              "        vertical-align: top;\n",
              "    }\n",
              "\n",
              "    .dataframe thead th {\n",
              "        text-align: right;\n",
              "    }\n",
              "</style>\n",
              "<table border=\"1\" class=\"dataframe\">\n",
              "  <thead>\n",
              "    <tr style=\"text-align: right;\">\n",
              "      <th></th>\n",
              "      <th>facts</th>\n",
              "      <th>issue_area</th>\n",
              "      <th>first_party_winner</th>\n",
              "    </tr>\n",
              "  </thead>\n",
              "  <tbody>\n",
              "    <tr>\n",
              "      <th>0</th>\n",
              "      <td>&lt;p&gt;In 1970, Jane Roe (a fictional name used in...</td>\n",
              "      <td>NaN</td>\n",
              "      <td>True</td>\n",
              "    </tr>\n",
              "    <tr>\n",
              "      <th>1</th>\n",
              "      <td>&lt;p&gt;Joan Stanley had three children with Peter ...</td>\n",
              "      <td>Civil Rights</td>\n",
              "      <td>True</td>\n",
              "    </tr>\n",
              "    <tr>\n",
              "      <th>2</th>\n",
              "      <td>&lt;p&gt;John Giglio was convicted of passing forged...</td>\n",
              "      <td>Due Process</td>\n",
              "      <td>True</td>\n",
              "    </tr>\n",
              "    <tr>\n",
              "      <th>3</th>\n",
              "      <td>&lt;p&gt;The Idaho Probate Code specified that \"male...</td>\n",
              "      <td>Civil Rights</td>\n",
              "      <td>True</td>\n",
              "    </tr>\n",
              "    <tr>\n",
              "      <th>4</th>\n",
              "      <td>&lt;p&gt;Miller, after conducting a mass mailing cam...</td>\n",
              "      <td>First Amendment</td>\n",
              "      <td>True</td>\n",
              "    </tr>\n",
              "  </tbody>\n",
              "</table>\n",
              "</div>\n",
              "      <button class=\"colab-df-convert\" onclick=\"convertToInteractive('df-4d91cc25-e169-40e5-be35-78319551c951')\"\n",
              "              title=\"Convert this dataframe to an interactive table.\"\n",
              "              style=\"display:none;\">\n",
              "        \n",
              "  <svg xmlns=\"http://www.w3.org/2000/svg\" height=\"24px\"viewBox=\"0 0 24 24\"\n",
              "       width=\"24px\">\n",
              "    <path d=\"M0 0h24v24H0V0z\" fill=\"none\"/>\n",
              "    <path d=\"M18.56 5.44l.94 2.06.94-2.06 2.06-.94-2.06-.94-.94-2.06-.94 2.06-2.06.94zm-11 1L8.5 8.5l.94-2.06 2.06-.94-2.06-.94L8.5 2.5l-.94 2.06-2.06.94zm10 10l.94 2.06.94-2.06 2.06-.94-2.06-.94-.94-2.06-.94 2.06-2.06.94z\"/><path d=\"M17.41 7.96l-1.37-1.37c-.4-.4-.92-.59-1.43-.59-.52 0-1.04.2-1.43.59L10.3 9.45l-7.72 7.72c-.78.78-.78 2.05 0 2.83L4 21.41c.39.39.9.59 1.41.59.51 0 1.02-.2 1.41-.59l7.78-7.78 2.81-2.81c.8-.78.8-2.07 0-2.86zM5.41 20L4 18.59l7.72-7.72 1.47 1.35L5.41 20z\"/>\n",
              "  </svg>\n",
              "      </button>\n",
              "      \n",
              "  <style>\n",
              "    .colab-df-container {\n",
              "      display:flex;\n",
              "      flex-wrap:wrap;\n",
              "      gap: 12px;\n",
              "    }\n",
              "\n",
              "    .colab-df-convert {\n",
              "      background-color: #E8F0FE;\n",
              "      border: none;\n",
              "      border-radius: 50%;\n",
              "      cursor: pointer;\n",
              "      display: none;\n",
              "      fill: #1967D2;\n",
              "      height: 32px;\n",
              "      padding: 0 0 0 0;\n",
              "      width: 32px;\n",
              "    }\n",
              "\n",
              "    .colab-df-convert:hover {\n",
              "      background-color: #E2EBFA;\n",
              "      box-shadow: 0px 1px 2px rgba(60, 64, 67, 0.3), 0px 1px 3px 1px rgba(60, 64, 67, 0.15);\n",
              "      fill: #174EA6;\n",
              "    }\n",
              "\n",
              "    [theme=dark] .colab-df-convert {\n",
              "      background-color: #3B4455;\n",
              "      fill: #D2E3FC;\n",
              "    }\n",
              "\n",
              "    [theme=dark] .colab-df-convert:hover {\n",
              "      background-color: #434B5C;\n",
              "      box-shadow: 0px 1px 3px 1px rgba(0, 0, 0, 0.15);\n",
              "      filter: drop-shadow(0px 1px 2px rgba(0, 0, 0, 0.3));\n",
              "      fill: #FFFFFF;\n",
              "    }\n",
              "  </style>\n",
              "\n",
              "      <script>\n",
              "        const buttonEl =\n",
              "          document.querySelector('#df-4d91cc25-e169-40e5-be35-78319551c951 button.colab-df-convert');\n",
              "        buttonEl.style.display =\n",
              "          google.colab.kernel.accessAllowed ? 'block' : 'none';\n",
              "\n",
              "        async function convertToInteractive(key) {\n",
              "          const element = document.querySelector('#df-4d91cc25-e169-40e5-be35-78319551c951');\n",
              "          const dataTable =\n",
              "            await google.colab.kernel.invokeFunction('convertToInteractive',\n",
              "                                                     [key], {});\n",
              "          if (!dataTable) return;\n",
              "\n",
              "          const docLinkHtml = 'Like what you see? Visit the ' +\n",
              "            '<a target=\"_blank\" href=https://colab.research.google.com/notebooks/data_table.ipynb>data table notebook</a>'\n",
              "            + ' to learn more about interactive tables.';\n",
              "          element.innerHTML = '';\n",
              "          dataTable['output_type'] = 'display_data';\n",
              "          await google.colab.output.renderOutput(dataTable, element);\n",
              "          const docLink = document.createElement('div');\n",
              "          docLink.innerHTML = docLinkHtml;\n",
              "          element.appendChild(docLink);\n",
              "        }\n",
              "      </script>\n",
              "    </div>\n",
              "  </div>\n",
              "  "
            ]
          },
          "metadata": {},
          "execution_count": 2
        }
      ],
      "source": [
        "df = pd.read_csv(\"justice.csv\")\n",
        "df = df[[\"facts\", \"issue_area\", \"first_party_winner\"]]\n",
        "df.head(5)"
      ]
    },
    {
      "cell_type": "code",
      "source": [
        "freqTarget = df.groupby([\"issue_area\"], as_index=False, sort=True)[\"facts\"].count()\n",
        "vectorIA = [\"Civil Rights\", \"Due Process\", \"First Amendment\", \"Criminal Procedure\", \"Privacy\", \"Federal Taxation\", \n",
        "            \"Economic Activity\", \"Judicial Power\", \"Unions\", \"Federalism\", \"Attorneys\", \"Miscellaneous\", \n",
        "            \"Interstate Relations\", \"Private Action\"]\n",
        "\n",
        "plt.rcParams[\"figure.figsize\"] = [8, 3.50]\n",
        "plt.rcParams[\"figure.autolayout\"] = True\n",
        "plt.bar(freqTarget[\"issue_area\"], freqTarget[\"facts\"])\n",
        "plt.xticks(freqTarget[\"issue_area\"])\n",
        "plt.title(\"Categories of the issue area\")\n",
        "plt.xticks(rotation=90)\n",
        "plt.ylabel('Amount')\n",
        "plt.savefig(\"IssueAreaOfFirstPlot.png\", dpi=1200)\n",
        "plt.show()"
      ],
      "metadata": {
        "colab": {
          "base_uri": "https://localhost:8080/",
          "height": 261
        },
        "id": "po9DC4yAEtZo",
        "outputId": "482b495f-1bbd-4fd4-bc54-b53e402ef28b"
      },
      "execution_count": null,
      "outputs": [
        {
          "output_type": "display_data",
          "data": {
            "text/plain": [
              "<Figure size 576x252 with 1 Axes>"
            ],
            "image/png": "[encoded data removed]"
          },
          "metadata": {
            "needs_background": "light"
          }
        }
      ]
    },
    {
      "cell_type": "code",
      "source": [
        "len(df)"
      ],
      "metadata": {
        "colab": {
          "base_uri": "https://localhost:8080/"
        },
        "id": "zrztcave8Nc2",
        "outputId": "2beab20d-a673-47f7-cf5c-e435f614c892"
      },
      "execution_count": null,
      "outputs": [
        {
          "output_type": "execute_result",
          "data": {
            "text/plain": [
              "3303"
            ]
          },
          "metadata": {},
          "execution_count": 4
        }
      ]
    },
    {
      "cell_type": "code",
      "execution_count": null,
      "metadata": {
        "id": "ph5AewFqB5_q"
      },
      "outputs": [],
      "source": [
        "df['issue_area'] = df['issue_area'].replace({\"Due Process\": \"Others\", \"Privacy\": \"Others\", \"Federal Taxation\": \"Others\", \n",
        "                                                     \"Unions\": \"Others\", \"Federalism\": \"Others\", \"Attorneys\": \"Others\",\n",
        "                                                     \"Miscellaneous\": \"Others\", \"Interstate Relations\": \"Others\", \"Private Action\": \"Others\"})"
      ]
    },
    {
      "cell_type": "code",
      "execution_count": null,
      "metadata": {
        "colab": {
          "base_uri": "https://localhost:8080/"
        },
        "id": "3Fagi6QhB5_q",
        "outputId": "3c377972-2fa8-4812-ec2e-3ce34af7491c"
      },
      "outputs": [
        {
          "output_type": "execute_result",
          "data": {
            "text/plain": [
              "facts                   0\n",
              "issue_area            142\n",
              "first_party_winner     15\n",
              "dtype: int64"
            ]
          },
          "metadata": {},
          "execution_count": 6
        }
      ],
      "source": [
        "df.isna().sum()"
      ]
    },
    {
      "cell_type": "code",
      "source": [
        "freqTarget = df.groupby([\"issue_area\"], as_index=False, sort=True)[\"facts\"].count()\n",
        "\n",
        "plt.rcParams[\"figure.figsize\"] = [8, 3.50]\n",
        "plt.rcParams[\"figure.autolayout\"] = True\n",
        "plt.bar(freqTarget[\"issue_area\"], freqTarget[\"facts\"])\n",
        "plt.xticks(freqTarget[\"issue_area\"])\n",
        "plt.title(\"Categories of the issue area\")\n",
        "plt.xticks(rotation=90)\n",
        "plt.ylabel('Amount')\n",
        "plt.savefig(\"IssueAreaAfterCombiningCategoriesOfFirstPlot.png\", dpi=1200)\n",
        "plt.show()"
      ],
      "metadata": {
        "colab": {
          "base_uri": "https://localhost:8080/",
          "height": 261
        },
        "id": "bW23DA8uP5vR",
        "outputId": "57d46ac1-f2c3-45a5-e175-55440bcb28af"
      },
      "execution_count": null,
      "outputs": [
        {
          "output_type": "display_data",
          "data": {
            "text/plain": [
              "<Figure size 576x252 with 1 Axes>"
            ],
            "image/png": "[encoded data removed]"
          },
          "metadata": {
            "needs_background": "light"
          }
        }
      ]
    },
    {
      "cell_type": "code",
      "execution_count": null,
      "metadata": {
        "id": "-TYIkWLpB5_r"
      },
      "outputs": [],
      "source": [
        "df.dropna(subset=['first_party_winner'], inplace=True)"
      ]
    },
    {
      "cell_type": "code",
      "execution_count": null,
      "metadata": {
        "colab": {
          "base_uri": "https://localhost:8080/"
        },
        "id": "pjJw3cF2B5_r",
        "outputId": "daf950f8-e499-4498-c774-1ad6f5ac5385"
      },
      "outputs": [
        {
          "output_type": "execute_result",
          "data": {
            "text/plain": [
              "facts                   0\n",
              "issue_area            129\n",
              "first_party_winner      0\n",
              "dtype: int64"
            ]
          },
          "metadata": {},
          "execution_count": 9
        }
      ],
      "source": [
        "df.isna().sum()"
      ]
    },
    {
      "cell_type": "code",
      "execution_count": null,
      "metadata": {
        "id": "Drj1-VfOj2Ut"
      },
      "outputs": [],
      "source": [
        "from sklearn import preprocessing\n",
        "le = preprocessing.LabelEncoder()"
      ]
    },
    {
      "cell_type": "code",
      "execution_count": null,
      "metadata": {
        "colab": {
          "base_uri": "https://localhost:8080/"
        },
        "id": "TfqPJk2ij3xX",
        "outputId": "e348794d-e820-400c-d50f-82cdb18fc07a"
      },
      "outputs": [
        {
          "output_type": "execute_result",
          "data": {
            "text/plain": [
              "LabelEncoder()"
            ]
          },
          "metadata": {},
          "execution_count": 11
        }
      ],
      "source": [
        "le.fit(df[\"first_party_winner\"])"
      ]
    },
    {
      "cell_type": "code",
      "execution_count": null,
      "metadata": {
        "id": "0t8M0nYRj_va"
      },
      "outputs": [],
      "source": [
        "df[\"first_party_winner\"] = le.transform(df[\"first_party_winner\"])"
      ]
    },
    {
      "cell_type": "code",
      "execution_count": null,
      "metadata": {
        "id": "u-7ZcQTAB5_r"
      },
      "outputs": [],
      "source": [
        "df_withNA = df[df['issue_area'].isna()]\n",
        "df_withNA = df_withNA.reset_index(drop=True)"
      ]
    },
    {
      "cell_type": "code",
      "execution_count": null,
      "metadata": {
        "id": "Mpu9H_1iB5_s"
      },
      "outputs": [],
      "source": [
        "df_withoutNA = df.dropna(subset=['issue_area'])\n",
        "df_withoutNA = df_withoutNA.reset_index(drop=True)"
      ]
    },
    {
      "cell_type": "code",
      "execution_count": null,
      "metadata": {
        "colab": {
          "base_uri": "https://localhost:8080/"
        },
        "id": "tzd6NxjGB5_s",
        "outputId": "ccca0f0d-481d-4622-b974-10f85262c943"
      },
      "outputs": [
        {
          "output_type": "stream",
          "name": "stdout",
          "text": [
            "There are 549349 words in the dataframe.\n"
          ]
        }
      ],
      "source": [
        "print(\"There are\", df_withoutNA['facts'].apply(lambda x: len(x.split(' '))).sum(), \"words in the dataframe.\")"
      ]
    },
    {
      "cell_type": "code",
      "execution_count": null,
      "metadata": {
        "colab": {
          "base_uri": "https://localhost:8080/"
        },
        "id": "slkjr7DCEj81",
        "outputId": "a084436b-9663-4296-d31a-98b233b84e92"
      },
      "outputs": [
        {
          "output_type": "stream",
          "name": "stderr",
          "text": [
            "[nltk_data] Downloading package stopwords to /root/nltk_data...\n",
            "[nltk_data]   Unzipping corpora/stopwords.zip.\n"
          ]
        },
        {
          "output_type": "execute_result",
          "data": {
            "text/plain": [
              "True"
            ]
          },
          "metadata": {},
          "execution_count": 16
        }
      ],
      "source": [
        "nltk.download('stopwords')"
      ]
    },
    {
      "cell_type": "code",
      "execution_count": null,
      "metadata": {
        "id": "hNykPVtXB5_t"
      },
      "outputs": [],
      "source": [
        "stop_words = stopwords.words(\"english\")\n",
        "wordnet_lemmatizer = WordNetLemmatizer()"
      ]
    },
    {
      "cell_type": "code",
      "execution_count": null,
      "metadata": {
        "id": "YcZZ9vhoB5_t"
      },
      "outputs": [],
      "source": [
        "pattern = r'[' + string.punctuation + ']'\n",
        "\n",
        "def clean_text(text, stemming = False, lemmatization = False):\n",
        "    \"\"\"\n",
        "        text: a string\n",
        "        \n",
        "        return: modified initial string\n",
        "    \"\"\"\n",
        "    text = re.sub(pattern, \" \", str(text))\n",
        "    text = text.lower()\n",
        "    text = re.sub(r\"\\d+\", \"\", text)\n",
        "    text = re.sub(r\"\\b[a-zA-Z]\\b\", \"\", text)\n",
        "    text = re.sub(r\"\\W\", \" \", text)\n",
        "    text = re.sub(' +', ' ', text)\n",
        "    text = ' '.join(word for word in text.split() if word not in stop_words) # delete stopwors from text\n",
        "    if stemming:\n",
        "        st = PorterStemmer()\n",
        "        text = \" \".join([st.stem(w) for w in text.split()])\n",
        "    \n",
        "    if lemmatization:\n",
        "        wordnet_lemmatizer = WordNetLemmatizer()\n",
        "        text = ' '.join([wordnet_lemmatizer.lemmatize(w, pos='v') for w in text.split()])\n",
        "    return text\n",
        "    "
      ]
    },
    {
      "cell_type": "code",
      "source": [
        "words_set = set()\n",
        " \n",
        "for doc in df[\"facts\"]:\n",
        "  worddoc = doc.split()\n",
        "  for word in worddoc:\n",
        "    if word not in words_set:\n",
        "      words_set.add(word)\n",
        "     \n",
        "print('Number of words in the corpus:',len(words_set))"
      ],
      "metadata": {
        "colab": {
          "base_uri": "https://localhost:8080/"
        },
        "id": "-gMca_LqRcOK",
        "outputId": "4b8b2af1-58a1-4200-9be6-9d696c5bab0c"
      },
      "execution_count": null,
      "outputs": [
        {
          "output_type": "stream",
          "name": "stdout",
          "text": [
            "Number of words in the corpus: 45672\n"
          ]
        }
      ]
    },
    {
      "cell_type": "code",
      "execution_count": null,
      "metadata": {
        "colab": {
          "base_uri": "https://localhost:8080/"
        },
        "id": "uMmdLjrOEoo_",
        "outputId": "e21c924e-cf25-4d59-d14d-20251518fb44"
      },
      "outputs": [
        {
          "output_type": "stream",
          "name": "stderr",
          "text": [
            "[nltk_data] Downloading package wordnet to /root/nltk_data...\n",
            "[nltk_data] Downloading package omw-1.4 to /root/nltk_data...\n"
          ]
        },
        {
          "output_type": "execute_result",
          "data": {
            "text/plain": [
              "True"
            ]
          },
          "metadata": {},
          "execution_count": 20
        }
      ],
      "source": [
        "nltk.download('wordnet')\n",
        "nltk.download('omw-1.4')"
      ]
    },
    {
      "cell_type": "code",
      "execution_count": null,
      "metadata": {
        "id": "l08KMvA8B5_u"
      },
      "outputs": [],
      "source": [
        "df_withoutNA['facts'] = df_withoutNA['facts'].map(lambda x: clean_text(x, stemming=False, lemmatization = True))"
      ]
    },
    {
      "cell_type": "code",
      "execution_count": null,
      "metadata": {
        "colab": {
          "base_uri": "https://localhost:8080/",
          "height": 143
        },
        "id": "s0nmE_uwB5_u",
        "outputId": "015add2e-aaec-47e4-aa34-0ac8e0d435cb"
      },
      "outputs": [
        {
          "output_type": "execute_result",
          "data": {
            "text/plain": [
              "                                               facts    issue_area  \\\n",
              "0  joan stanley three children peter stanley stan...  Civil Rights   \n",
              "1  john giglio convict pass forge money order app...        Others   \n",
              "2  idaho probate code specify males must prefer f...  Civil Rights   \n",
              "\n",
              "   first_party_winner  \n",
              "0                   1  \n",
              "1                   1  \n",
              "2                   1  "
            ],
            "text/html": [
              "\n",
              "  <div id=\"df-eb9d267d-62d8-416c-b4b8-f0ea1c4240e2\">\n",
              "    <div class=\"colab-df-container\">\n",
              "      <div>\n",
              "<style scoped>\n",
              "    .dataframe tbody tr th:only-of-type {\n",
              "        vertical-align: middle;\n",
              "    }\n",
              "\n",
              "    .dataframe tbody tr th {\n",
              "        vertical-align: top;\n",
              "    }\n",
              "\n",
              "    .dataframe thead th {\n",
              "        text-align: right;\n",
              "    }\n",
              "</style>\n",
              "<table border=\"1\" class=\"dataframe\">\n",
              "  <thead>\n",
              "    <tr style=\"text-align: right;\">\n",
              "      <th></th>\n",
              "      <th>facts</th>\n",
              "      <th>issue_area</th>\n",
              "      <th>first_party_winner</th>\n",
              "    </tr>\n",
              "  </thead>\n",
              "  <tbody>\n",
              "    <tr>\n",
              "      <th>0</th>\n",
              "      <td>joan stanley three children peter stanley stan...</td>\n",
              "      <td>Civil Rights</td>\n",
              "      <td>1</td>\n",
              "    </tr>\n",
              "    <tr>\n",
              "      <th>1</th>\n",
              "      <td>john giglio convict pass forge money order app...</td>\n",
              "      <td>Others</td>\n",
              "      <td>1</td>\n",
              "    </tr>\n",
              "    <tr>\n",
              "      <th>2</th>\n",
              "      <td>idaho probate code specify males must prefer f...</td>\n",
              "      <td>Civil Rights</td>\n",
              "      <td>1</td>\n",
              "    </tr>\n",
              "  </tbody>\n",
              "</table>\n",
              "</div>\n",
              "      <button class=\"colab-df-convert\" onclick=\"convertToInteractive('df-eb9d267d-62d8-416c-b4b8-f0ea1c4240e2')\"\n",
              "              title=\"Convert this dataframe to an interactive table.\"\n",
              "              style=\"display:none;\">\n",
              "        \n",
              "  <svg xmlns=\"http://www.w3.org/2000/svg\" height=\"24px\"viewBox=\"0 0 24 24\"\n",
              "       width=\"24px\">\n",
              "    <path d=\"M0 0h24v24H0V0z\" fill=\"none\"/>\n",
              "    <path d=\"M18.56 5.44l.94 2.06.94-2.06 2.06-.94-2.06-.94-.94-2.06-.94 2.06-2.06.94zm-11 1L8.5 8.5l.94-2.06 2.06-.94-2.06-.94L8.5 2.5l-.94 2.06-2.06.94zm10 10l.94 2.06.94-2.06 2.06-.94-2.06-.94-.94-2.06-.94 2.06-2.06.94z\"/><path d=\"M17.41 7.96l-1.37-1.37c-.4-.4-.92-.59-1.43-.59-.52 0-1.04.2-1.43.59L10.3 9.45l-7.72 7.72c-.78.78-.78 2.05 0 2.83L4 21.41c.39.39.9.59 1.41.59.51 0 1.02-.2 1.41-.59l7.78-7.78 2.81-2.81c.8-.78.8-2.07 0-2.86zM5.41 20L4 18.59l7.72-7.72 1.47 1.35L5.41 20z\"/>\n",
              "  </svg>\n",
              "      </button>\n",
              "      \n",
              "  <style>\n",
              "    .colab-df-container {\n",
              "      display:flex;\n",
              "      flex-wrap:wrap;\n",
              "      gap: 12px;\n",
              "    }\n",
              "\n",
              "    .colab-df-convert {\n",
              "      background-color: #E8F0FE;\n",
              "      border: none;\n",
              "      border-radius: 50%;\n",
              "      cursor: pointer;\n",
              "      display: none;\n",
              "      fill: #1967D2;\n",
              "      height: 32px;\n",
              "      padding: 0 0 0 0;\n",
              "      width: 32px;\n",
              "    }\n",
              "\n",
              "    .colab-df-convert:hover {\n",
              "      background-color: #E2EBFA;\n",
              "      box-shadow: 0px 1px 2px rgba(60, 64, 67, 0.3), 0px 1px 3px 1px rgba(60, 64, 67, 0.15);\n",
              "      fill: #174EA6;\n",
              "    }\n",
              "\n",
              "    [theme=dark] .colab-df-convert {\n",
              "      background-color: #3B4455;\n",
              "      fill: #D2E3FC;\n",
              "    }\n",
              "\n",
              "    [theme=dark] .colab-df-convert:hover {\n",
              "      background-color: #434B5C;\n",
              "      box-shadow: 0px 1px 3px 1px rgba(0, 0, 0, 0.15);\n",
              "      filter: drop-shadow(0px 1px 2px rgba(0, 0, 0, 0.3));\n",
              "      fill: #FFFFFF;\n",
              "    }\n",
              "  </style>\n",
              "\n",
              "      <script>\n",
              "        const buttonEl =\n",
              "          document.querySelector('#df-eb9d267d-62d8-416c-b4b8-f0ea1c4240e2 button.colab-df-convert');\n",
              "        buttonEl.style.display =\n",
              "          google.colab.kernel.accessAllowed ? 'block' : 'none';\n",
              "\n",
              "        async function convertToInteractive(key) {\n",
              "          const element = document.querySelector('#df-eb9d267d-62d8-416c-b4b8-f0ea1c4240e2');\n",
              "          const dataTable =\n",
              "            await google.colab.kernel.invokeFunction('convertToInteractive',\n",
              "                                                     [key], {});\n",
              "          if (!dataTable) return;\n",
              "\n",
              "          const docLinkHtml = 'Like what you see? Visit the ' +\n",
              "            '<a target=\"_blank\" href=https://colab.research.google.com/notebooks/data_table.ipynb>data table notebook</a>'\n",
              "            + ' to learn more about interactive tables.';\n",
              "          element.innerHTML = '';\n",
              "          dataTable['output_type'] = 'display_data';\n",
              "          await google.colab.output.renderOutput(dataTable, element);\n",
              "          const docLink = document.createElement('div');\n",
              "          docLink.innerHTML = docLinkHtml;\n",
              "          element.appendChild(docLink);\n",
              "        }\n",
              "      </script>\n",
              "    </div>\n",
              "  </div>\n",
              "  "
            ]
          },
          "metadata": {},
          "execution_count": 22
        }
      ],
      "source": [
        "df_withoutNA.head(3)"
      ]
    },
    {
      "cell_type": "code",
      "execution_count": null,
      "metadata": {
        "colab": {
          "base_uri": "https://localhost:8080/"
        },
        "id": "WHr0quLtB5_u",
        "outputId": "ca84349b-bb1f-48f9-96b1-9c1249195c65"
      },
      "outputs": [
        {
          "output_type": "stream",
          "name": "stdout",
          "text": [
            "There are 322095 words in the dataframe.\n"
          ]
        }
      ],
      "source": [
        "print(\"There are\",df_withoutNA['facts'].apply(lambda x: len(x.split(' '))).sum(), \"words in the dataframe.\")"
      ]
    },
    {
      "cell_type": "code",
      "execution_count": null,
      "metadata": {
        "id": "QgAtajrqheNY"
      },
      "outputs": [],
      "source": [
        "my_issue_area = list(set(df_withoutNA[\"issue_area\"]))"
      ]
    },
    {
      "cell_type": "markdown",
      "source": [
        "## Plots"
      ],
      "metadata": {
        "id": "h18u8QdgQgWG"
      }
    },
    {
      "cell_type": "code",
      "source": [
        "df['facts'] = df['facts'].map(lambda x: clean_text(x, stemming=False, lemmatization = True))"
      ],
      "metadata": {
        "id": "vB-PgqP5QnNA"
      },
      "execution_count": null,
      "outputs": []
    },
    {
      "cell_type": "code",
      "source": [
        "words = []\n",
        "freqOfWords = []\n",
        "\n",
        "for doc in df[\"facts\"]:\n",
        "  worddoc = doc.split()\n",
        "  for word in worddoc:\n",
        "    if word not in words:\n",
        "      words.append(word)\n",
        "      freqOfWords.append(1)\n",
        "    else:\n",
        "      idx = words.index(word)\n",
        "      freqOfWords[idx] = freqOfWords[idx] + 1"
      ],
      "metadata": {
        "id": "Kxr3P4h8Qr4v"
      },
      "execution_count": null,
      "outputs": []
    },
    {
      "cell_type": "code",
      "source": [
        "d = {'words': words, 'frequency': freqOfWords}\n",
        "freqWordDf = pd.DataFrame(data=d)\n",
        "freqWordDf = freqWordDf.sort_values(by=['frequency'])"
      ],
      "metadata": {
        "id": "jOHEmdqUSYvF"
      },
      "execution_count": null,
      "outputs": []
    },
    {
      "cell_type": "code",
      "source": [
        "plt.bar(freqWordDf.tail(15)[\"words\"], freqWordDf.tail(15)[\"frequency\"])\n",
        "plt.xticks(freqWordDf.tail(15)[\"words\"])\n",
        "plt.title(\"Most 15 frequent words\")\n",
        "plt.ylabel('Frequency of the word')\n",
        "plt.xticks(rotation = 90) \n",
        "plt.savefig(\"MostFrequentWordsInTheFirstDataset.png\", dpi=1200)\n",
        "plt.show()"
      ],
      "metadata": {
        "colab": {
          "base_uri": "https://localhost:8080/",
          "height": 261
        },
        "id": "Z-m5VayLScl1",
        "outputId": "a4676dcd-95d8-4031-f638-0c9886bcb1ca"
      },
      "execution_count": null,
      "outputs": [
        {
          "output_type": "display_data",
          "data": {
            "text/plain": [
              "<Figure size 576x252 with 1 Axes>"
            ],
            "image/png": "[encoded data removed]"
          },
          "metadata": {
            "needs_background": "light"
          }
        }
      ]
    },
    {
      "cell_type": "code",
      "source": [
        "words = []\n",
        "targetVar = []\n",
        "onesList = []\n",
        "for row in range(0, len(df_withoutNA[\"facts\"])):\n",
        "  worddoc = df_withoutNA[\"facts\"][row].split()\n",
        "  for word in worddoc:\n",
        "    words.append(word)\n",
        "    targetVar.append(df_withoutNA[\"first_party_winner\"][row]) \n",
        "    onesList.append(1)"
      ],
      "metadata": {
        "id": "RWJ49TM3UA4D"
      },
      "execution_count": null,
      "outputs": []
    },
    {
      "cell_type": "code",
      "source": [
        "d = {'words': words, 'first_party_winner': targetVar, \"listOfOnes\": onesList}\n",
        "freqDf = pd.DataFrame(data=d)"
      ],
      "metadata": {
        "id": "XK15qD-jUBeb"
      },
      "execution_count": null,
      "outputs": []
    },
    {
      "cell_type": "code",
      "source": [
        "countFreqDf = freqDf.groupby([\"first_party_winner\", \"words\"], as_index=False, sort=True)[\"listOfOnes\"].count()"
      ],
      "metadata": {
        "id": "CzUH_C5qUDlg"
      },
      "execution_count": null,
      "outputs": []
    },
    {
      "cell_type": "code",
      "source": [
        "countFreqDfZeros = countFreqDf[countFreqDf['first_party_winner'].isin([0])].sort_values(by=['listOfOnes'])\n",
        "countFreqDfZeros[countFreqDfZeros[\"listOfOnes\"].isin([1])].count()"
      ],
      "metadata": {
        "colab": {
          "base_uri": "https://localhost:8080/"
        },
        "id": "Xb7NDOHWUDfj",
        "outputId": "cd4da9f1-de90-47d5-dc02-460ebd1ce27a"
      },
      "execution_count": null,
      "outputs": [
        {
          "output_type": "execute_result",
          "data": {
            "text/plain": [
              "first_party_winner    2974\n",
              "words                 2974\n",
              "listOfOnes            2974\n",
              "dtype: int64"
            ]
          },
          "metadata": {},
          "execution_count": 43
        }
      ]
    },
    {
      "cell_type": "code",
      "source": [
        "countFreqDfOnes = countFreqDf[countFreqDf['first_party_winner'].isin([1])].sort_values(by=['listOfOnes'])\n",
        "countFreqDfOnes[countFreqDfOnes[\"listOfOnes\"].isin([1])].count()"
      ],
      "metadata": {
        "colab": {
          "base_uri": "https://localhost:8080/"
        },
        "id": "j8oCvJkdUQCN",
        "outputId": "2fadfa08-a476-4c3e-af21-92ff9e28eff2"
      },
      "execution_count": null,
      "outputs": [
        {
          "output_type": "execute_result",
          "data": {
            "text/plain": [
              "first_party_winner    3897\n",
              "words                 3897\n",
              "listOfOnes            3897\n",
              "dtype: int64"
            ]
          },
          "metadata": {},
          "execution_count": 44
        }
      ]
    },
    {
      "cell_type": "code",
      "source": [
        "fig, axes = plt.subplots(nrows=1, ncols=2, figsize=(10, 4))\n",
        "\n",
        "axes[0].bar(countFreqDfOnes.tail(15)[\"words\"], countFreqDfOnes.tail(15)[\"listOfOnes\"])\n",
        "axes[0].title.set_text(\"Most 15 frequent words in the cases won\")\n",
        "axes[0].set_xticklabels(countFreqDfOnes.tail(15)[\"words\"], rotation=90)\n",
        "axes[0].set_ylabel('Frequency of the word')\n",
        "\n",
        "axes[1].bar(countFreqDfZeros.tail(15)[\"words\"], countFreqDfZeros.tail(15)[\"listOfOnes\"], color='orange')\n",
        "axes[1].title.set_text(\"Most 15 frequent words in the lost cases\")\n",
        "axes[1].set_xticklabels(countFreqDfZeros.tail(15)[\"words\"], rotation=90)\n",
        "\n",
        "fig.savefig('MostFrequentWordsForEachCategoryFromTheFirstDataset.png', dpi=300)\n",
        "fig.show()"
      ],
      "metadata": {
        "colab": {
          "base_uri": "https://localhost:8080/",
          "height": 297
        },
        "id": "Qt-sNChMUxwH",
        "outputId": "925da498-1675-4561-b0e2-a1d7db829d53"
      },
      "execution_count": null,
      "outputs": [
        {
          "output_type": "display_data",
          "data": {
            "text/plain": [
              "<Figure size 720x288 with 2 Axes>"
            ],
            "image/png": "[encoded data removed]"
          },
          "metadata": {
            "needs_background": "light"
          }
        }
      ]
    },
    {
      "cell_type": "markdown",
      "metadata": {
        "id": "AjURLvVnB5_v"
      },
      "source": [
        "# Without deleting most frequent words"
      ]
    },
    {
      "cell_type": "code",
      "execution_count": null,
      "metadata": {
        "id": "8aUW629YB5_w"
      },
      "outputs": [],
      "source": [
        "X = df_withoutNA.facts\n",
        "y = df_withoutNA.issue_area\n",
        "X_train, X_test, y_train, y_test = train_test_split(X, y, test_size=0.3, random_state = 42)"
      ]
    },
    {
      "cell_type": "code",
      "execution_count": null,
      "metadata": {
        "colab": {
          "base_uri": "https://localhost:8080/"
        },
        "id": "o0giPH5yB5_w",
        "outputId": "ee0648e0-4b38-4002-c253-495f7566312c"
      },
      "outputs": [
        {
          "output_type": "execute_result",
          "data": {
            "text/plain": [
              "Pipeline(steps=[('vect', CountVectorizer()), ('tfidf', TfidfTransformer()),\n",
              "                ('clf', MultinomialNB())])"
            ]
          },
          "metadata": {},
          "execution_count": 27
        }
      ],
      "source": [
        "from sklearn.naive_bayes import MultinomialNB\n",
        "from sklearn.pipeline import Pipeline\n",
        "from sklearn.feature_extraction.text import TfidfTransformer\n",
        "from sklearn.preprocessing import StandardScaler\n",
        "\n",
        "nb = Pipeline([('vect', CountVectorizer()),\n",
        "               ('tfidf', TfidfTransformer()),\n",
        "               ('clf', MultinomialNB()),\n",
        "              ])\n",
        "nb.fit(X_train, y_train)"
      ]
    },
    {
      "cell_type": "code",
      "execution_count": null,
      "metadata": {
        "colab": {
          "base_uri": "https://localhost:8080/"
        },
        "id": "AC4GnJD-B5_x",
        "outputId": "bcc60b9d-3afd-4566-fbce-df12c8384be7"
      },
      "outputs": [
        {
          "output_type": "stream",
          "name": "stdout",
          "text": [
            "CPU times: user 88.7 ms, sys: 2.01 ms, total: 90.7 ms\n",
            "Wall time: 93.6 ms\n"
          ]
        }
      ],
      "source": [
        "%%time\n",
        "from sklearn.metrics import classification_report\n",
        "y_pred = nb.predict(X_test)"
      ]
    },
    {
      "cell_type": "code",
      "execution_count": null,
      "metadata": {
        "colab": {
          "base_uri": "https://localhost:8080/"
        },
        "id": "OaYpI43fB5_x",
        "outputId": "7d51c52e-0690-4c56-c56e-464b3a3c5619"
      },
      "outputs": [
        {
          "output_type": "execute_result",
          "data": {
            "text/plain": [
              "['Civil Rights',\n",
              " 'First Amendment',\n",
              " 'Economic Activity',\n",
              " 'Criminal Procedure',\n",
              " 'Others']"
            ]
          },
          "metadata": {},
          "execution_count": 29
        }
      ],
      "source": [
        "list(set(y_pred))"
      ]
    },
    {
      "cell_type": "code",
      "execution_count": null,
      "metadata": {
        "colab": {
          "base_uri": "https://localhost:8080/"
        },
        "id": "pvgKCQ2jB5_x",
        "outputId": "09bf9ae3-731a-4775-d588-bb47e6a6fd18"
      },
      "outputs": [
        {
          "output_type": "execute_result",
          "data": {
            "text/plain": [
              "['Civil Rights',\n",
              " 'First Amendment',\n",
              " 'Economic Activity',\n",
              " 'Judicial Power',\n",
              " 'Criminal Procedure',\n",
              " 'Others']"
            ]
          },
          "metadata": {},
          "execution_count": 30
        }
      ],
      "source": [
        "list(set(y_test))"
      ]
    },
    {
      "cell_type": "code",
      "execution_count": null,
      "metadata": {
        "id": "5ujVjV0ZB5_y"
      },
      "outputs": [],
      "source": [
        "import warnings\n",
        "warnings.filterwarnings('always') #We can set it later to 'ignore'."
      ]
    },
    {
      "cell_type": "code",
      "execution_count": null,
      "metadata": {
        "colab": {
          "base_uri": "https://localhost:8080/"
        },
        "id": "CzMblcVBB5_y",
        "outputId": "f5f75322-4d31-4fe5-8e59-90e9fe5cf0d0"
      },
      "outputs": [
        {
          "output_type": "stream",
          "name": "stdout",
          "text": [
            "accuracy 0.5580168776371308\n",
            "                    precision    recall  f1-score   support\n",
            "\n",
            "      Civil Rights       0.60      0.51      0.55       184\n",
            "   First Amendment       0.51      0.99      0.67       258\n",
            " Economic Activity       0.64      0.63      0.64       161\n",
            "    Judicial Power       0.84      0.17      0.28        96\n",
            "Criminal Procedure       0.00      0.00      0.00       111\n",
            "            Others       0.56      0.45      0.50       138\n",
            "\n",
            "          accuracy                           0.56       948\n",
            "         macro avg       0.53      0.46      0.44       948\n",
            "      weighted avg       0.53      0.56      0.50       948\n",
            "\n"
          ]
        },
        {
          "output_type": "stream",
          "name": "stderr",
          "text": [
            "/usr/local/lib/python3.8/dist-packages/sklearn/metrics/_classification.py:1318: UndefinedMetricWarning: Precision and F-score are ill-defined and being set to 0.0 in labels with no predicted samples. Use `zero_division` parameter to control this behavior.\n",
            "  _warn_prf(average, modifier, msg_start, len(result))\n",
            "/usr/local/lib/python3.8/dist-packages/sklearn/metrics/_classification.py:1318: UndefinedMetricWarning: Precision and F-score are ill-defined and being set to 0.0 in labels with no predicted samples. Use `zero_division` parameter to control this behavior.\n",
            "  _warn_prf(average, modifier, msg_start, len(result))\n",
            "/usr/local/lib/python3.8/dist-packages/sklearn/metrics/_classification.py:1318: UndefinedMetricWarning: Precision and F-score are ill-defined and being set to 0.0 in labels with no predicted samples. Use `zero_division` parameter to control this behavior.\n",
            "  _warn_prf(average, modifier, msg_start, len(result))\n"
          ]
        }
      ],
      "source": [
        "print('accuracy %s' % accuracy_score(y_pred, y_test))\n",
        "print(classification_report(y_test, y_pred, target_names=my_issue_area))"
      ]
    },
    {
      "cell_type": "code",
      "source": [],
      "metadata": {
        "id": "au8x7NTCb5rf"
      },
      "execution_count": null,
      "outputs": []
    },
    {
      "cell_type": "code",
      "execution_count": null,
      "metadata": {
        "colab": {
          "base_uri": "https://localhost:8080/"
        },
        "id": "-mRUhhp-B5_y",
        "outputId": "f692e374-c662-4b4a-bec3-618b597bdc90"
      },
      "outputs": [
        {
          "output_type": "execute_result",
          "data": {
            "text/plain": [
              "Pipeline(steps=[('vect', CountVectorizer(ngram_range=(1, 2))),\n",
              "                ('tfidf', TfidfTransformer()),\n",
              "                ('clf',\n",
              "                 SGDClassifier(alpha=0.001, max_iter=5, random_state=42,\n",
              "                               tol=None))])"
            ]
          },
          "metadata": {},
          "execution_count": 41
        }
      ],
      "source": [
        "from sklearn.linear_model import SGDClassifier\n",
        "\n",
        "sgd = Pipeline([('vect', CountVectorizer(ngram_range=(1, 2))),\n",
        "                ('tfidf', TfidfTransformer()),\n",
        "                ('clf', SGDClassifier(loss='hinge', penalty='l2',alpha=1e-3, random_state=42, max_iter=5, tol=None)),\n",
        "               ])\n",
        "sgd.fit(X_train, y_train)"
      ]
    },
    {
      "cell_type": "code",
      "execution_count": null,
      "metadata": {
        "colab": {
          "base_uri": "https://localhost:8080/"
        },
        "id": "WGrgHSyZB5_y",
        "outputId": "ef72b692-a75f-4018-b499-ea05d275d0d7"
      },
      "outputs": [
        {
          "output_type": "stream",
          "name": "stdout",
          "text": [
            "CPU times: user 207 ms, sys: 11.6 ms, total: 218 ms\n",
            "Wall time: 222 ms\n"
          ]
        }
      ],
      "source": [
        "%%time\n",
        "y_pred = sgd.predict(X_test)"
      ]
    },
    {
      "cell_type": "code",
      "execution_count": null,
      "metadata": {
        "colab": {
          "base_uri": "https://localhost:8080/"
        },
        "id": "Asdtex8SB5_z",
        "outputId": "35713a33-79c0-44e8-dc59-3721d6fdfea3"
      },
      "outputs": [
        {
          "output_type": "stream",
          "name": "stdout",
          "text": [
            "accuracy 0.6867088607594937\n",
            "                    precision    recall  f1-score   support\n",
            "\n",
            "    Judicial Power       0.74      0.65      0.69       184\n",
            "   First Amendment       0.68      0.98      0.81       258\n",
            "      Civil Rights       0.69      0.71      0.70       161\n",
            "            Others       0.68      0.72      0.70        96\n",
            " Economic Activity       0.62      0.21      0.31       111\n",
            "Criminal Procedure       0.64      0.52      0.57       138\n",
            "\n",
            "          accuracy                           0.69       948\n",
            "         macro avg       0.68      0.63      0.63       948\n",
            "      weighted avg       0.68      0.69      0.66       948\n",
            "\n"
          ]
        }
      ],
      "source": [
        "print('accuracy %s' % accuracy_score(y_pred, y_test))\n",
        "print(classification_report(y_test, y_pred,target_names=my_issue_area))"
      ]
    },
    {
      "cell_type": "code",
      "execution_count": null,
      "metadata": {
        "colab": {
          "base_uri": "https://localhost:8080/"
        },
        "id": "7WMlPF7CB5_z",
        "outputId": "6a1a6d80-c894-4356-e68b-15437845f28e"
      },
      "outputs": [
        {
          "data": {
            "text/plain": [
              "Pipeline(steps=[('vect', CountVectorizer(ngram_range=(1, 2))),\n",
              "                ('tfidf', TfidfTransformer()),\n",
              "                ('clf',\n",
              "                 LogisticRegression(C=100000.0, max_iter=100000, n_jobs=1))])"
            ]
          },
          "execution_count": 80,
          "metadata": {},
          "output_type": "execute_result"
        }
      ],
      "source": [
        "from sklearn.linear_model import LogisticRegression\n",
        "\n",
        "logreg = Pipeline([('vect', CountVectorizer(ngram_range=(1, 2))),\n",
        "                ('tfidf', TfidfTransformer()),\n",
        "                ('clf', LogisticRegression(n_jobs=1, C=1e5, solver='lbfgs', max_iter=100000)),\n",
        "               ])\n",
        "logreg.fit(X_train, y_train)"
      ]
    },
    {
      "cell_type": "code",
      "execution_count": null,
      "metadata": {
        "colab": {
          "base_uri": "https://localhost:8080/"
        },
        "id": "8FPZWRN6B5_z",
        "outputId": "a9bcf1e6-ea01-4279-8c7d-f5a2b138ef50"
      },
      "outputs": [
        {
          "name": "stdout",
          "output_type": "stream",
          "text": [
            "CPU times: user 203 ms, sys: 614 µs, total: 204 ms\n",
            "Wall time: 205 ms\n"
          ]
        }
      ],
      "source": [
        "%%time\n",
        "y_pred = logreg.predict(X_test)"
      ]
    },
    {
      "cell_type": "code",
      "execution_count": null,
      "metadata": {
        "colab": {
          "base_uri": "https://localhost:8080/"
        },
        "id": "zRPIEPUhB5_z",
        "outputId": "e60e6ba9-fa9e-46e8-cfe9-567cd9f54693"
      },
      "outputs": [
        {
          "name": "stdout",
          "output_type": "stream",
          "text": [
            "accuracy 0.7056962025316456\n",
            "                    precision    recall  f1-score   support\n",
            "\n",
            "            Others       0.72      0.69      0.71       184\n",
            " Economic Activity       0.78      0.94      0.85       258\n",
            "   First Amendment       0.70      0.70      0.70       161\n",
            "Criminal Procedure       0.70      0.77      0.74        96\n",
            "      Civil Rights       0.53      0.31      0.39       111\n",
            "    Judicial Power       0.62      0.58      0.60       138\n",
            "\n",
            "          accuracy                           0.71       948\n",
            "         macro avg       0.67      0.66      0.66       948\n",
            "      weighted avg       0.69      0.71      0.69       948\n",
            "\n"
          ]
        }
      ],
      "source": [
        "print('accuracy %s' % accuracy_score(y_pred, y_test))\n",
        "print(classification_report(y_test, y_pred,target_names=my_issue_area))"
      ]
    },
    {
      "cell_type": "code",
      "execution_count": null,
      "metadata": {
        "colab": {
          "base_uri": "https://localhost:8080/"
        },
        "id": "NMdSNWmiB5_z",
        "outputId": "56970770-a9b3-4068-eaed-a651540e4f41"
      },
      "outputs": [
        {
          "data": {
            "text/plain": [
              "Pipeline(steps=[('vect', CountVectorizer(ngram_range=(1, 2))),\n",
              "                ('tfidf', TfidfTransformer()),\n",
              "                ('clf',\n",
              "                 RandomForestClassifier(max_depth=10, n_estimators=10,\n",
              "                                        random_state=10))])"
            ]
          },
          "execution_count": 83,
          "metadata": {},
          "output_type": "execute_result"
        }
      ],
      "source": [
        "from sklearn.ensemble import RandomForestClassifier\n",
        "\n",
        "randfor = Pipeline([('vect', CountVectorizer(ngram_range=(1, 2))),\n",
        "                ('tfidf', TfidfTransformer()),\n",
        "                ('clf', RandomForestClassifier(n_estimators= 10, max_depth=10, random_state=10)),\n",
        "               ])\n",
        "randfor.fit(X_train, y_train)"
      ]
    },
    {
      "cell_type": "code",
      "execution_count": null,
      "metadata": {
        "colab": {
          "base_uri": "https://localhost:8080/"
        },
        "id": "uD9gRHLuB5_z",
        "outputId": "2e2f9a1c-f80d-430d-efa7-cf282d873219"
      },
      "outputs": [
        {
          "name": "stdout",
          "output_type": "stream",
          "text": [
            "CPU times: user 188 ms, sys: 973 µs, total: 189 ms\n",
            "Wall time: 194 ms\n"
          ]
        }
      ],
      "source": [
        "%%time\n",
        "y_pred = randfor.predict(X_test)"
      ]
    },
    {
      "cell_type": "code",
      "execution_count": null,
      "metadata": {
        "colab": {
          "base_uri": "https://localhost:8080/"
        },
        "id": "B1T0pa8PB5_0",
        "outputId": "bf920638-4010-4d87-fe1f-599cbda3538c"
      },
      "outputs": [
        {
          "name": "stdout",
          "output_type": "stream",
          "text": [
            "accuracy 0.4272151898734177\n",
            "                    precision    recall  f1-score   support\n",
            "\n",
            "            Others       0.60      0.32      0.42       184\n",
            " Economic Activity       0.38      0.97      0.54       258\n",
            "   First Amendment       0.46      0.35      0.39       161\n",
            "Criminal Procedure       0.88      0.23      0.36        96\n",
            "      Civil Rights       0.57      0.04      0.07       111\n",
            "    Judicial Power       0.48      0.11      0.18       138\n",
            "\n",
            "          accuracy                           0.43       948\n",
            "         macro avg       0.56      0.33      0.33       948\n",
            "      weighted avg       0.52      0.43      0.37       948\n",
            "\n"
          ]
        }
      ],
      "source": [
        "print('accuracy %s' % accuracy_score(y_pred, y_test))\n",
        "print(classification_report(y_test, y_pred,target_names=my_issue_area))"
      ]
    },
    {
      "cell_type": "code",
      "execution_count": null,
      "metadata": {
        "colab": {
          "base_uri": "https://localhost:8080/"
        },
        "id": "9h_NXxQaB5_0",
        "outputId": "f3a4a1b6-165d-4d3a-aad3-056bf73225cb"
      },
      "outputs": [
        {
          "data": {
            "text/plain": [
              "Pipeline(steps=[('vect', CountVectorizer(ngram_range=(1, 2))),\n",
              "                ('tfidf', TfidfTransformer()),\n",
              "                ('clf',\n",
              "                 GradientBoostingClassifier(max_depth=10, n_estimators=10,\n",
              "                                            random_state=10))])"
            ]
          },
          "execution_count": 86,
          "metadata": {},
          "output_type": "execute_result"
        }
      ],
      "source": [
        "from sklearn.ensemble import GradientBoostingClassifier\n",
        "graboos = Pipeline([('vect', CountVectorizer(ngram_range=(1, 2))),\n",
        "                ('tfidf', TfidfTransformer()),\n",
        "                ('clf', GradientBoostingClassifier(n_estimators=10, max_depth=10, random_state=10)),\n",
        "               ])\n",
        "graboos.fit(X_train, y_train)"
      ]
    },
    {
      "cell_type": "code",
      "execution_count": null,
      "metadata": {
        "colab": {
          "base_uri": "https://localhost:8080/"
        },
        "id": "APsr1EzBB5_0",
        "outputId": "613adff5-5509-4186-fd7d-96267cd2e0b1"
      },
      "outputs": [
        {
          "name": "stdout",
          "output_type": "stream",
          "text": [
            "CPU times: user 195 ms, sys: 1.8 ms, total: 197 ms\n",
            "Wall time: 197 ms\n"
          ]
        }
      ],
      "source": [
        "%%time\n",
        "y_pred = graboos.predict(X_test)"
      ]
    },
    {
      "cell_type": "code",
      "execution_count": null,
      "metadata": {
        "colab": {
          "base_uri": "https://localhost:8080/"
        },
        "id": "ng9QNYK_B5_0",
        "outputId": "78f3bdb4-5b37-480b-a69c-e407165f5882"
      },
      "outputs": [
        {
          "name": "stdout",
          "output_type": "stream",
          "text": [
            "accuracy 0.6086497890295358\n",
            "                    precision    recall  f1-score   support\n",
            "\n",
            "            Others       0.63      0.54      0.58       184\n",
            " Economic Activity       0.70      0.88      0.78       258\n",
            "   First Amendment       0.63      0.60      0.62       161\n",
            "Criminal Procedure       0.68      0.64      0.66        96\n",
            "      Civil Rights       0.47      0.28      0.35       111\n",
            "    Judicial Power       0.40      0.44      0.42       138\n",
            "\n",
            "          accuracy                           0.61       948\n",
            "         macro avg       0.58      0.56      0.57       948\n",
            "      weighted avg       0.60      0.61      0.60       948\n",
            "\n"
          ]
        }
      ],
      "source": [
        "print('accuracy %s' % accuracy_score(y_pred, y_test))\n",
        "print(classification_report(y_test, y_pred,target_names=my_issue_area))"
      ]
    },
    {
      "cell_type": "code",
      "execution_count": null,
      "metadata": {
        "colab": {
          "base_uri": "https://localhost:8080/"
        },
        "id": "G47Wju0vB5_0",
        "outputId": "7f316d88-e17b-4dd8-844b-1b20f6c75166"
      },
      "outputs": [
        {
          "data": {
            "text/plain": [
              "LabelEncoder()"
            ]
          },
          "execution_count": 89,
          "metadata": {},
          "output_type": "execute_result"
        }
      ],
      "source": [
        "from sklearn import preprocessing\n",
        "le = preprocessing.LabelEncoder()\n",
        "le.fit(y_train)"
      ]
    },
    {
      "cell_type": "code",
      "execution_count": null,
      "metadata": {
        "id": "Of41VFzCB5_0"
      },
      "outputs": [],
      "source": [
        "y_train = le.transform(y_train)\n",
        "y_test = le.transform(y_test)"
      ]
    },
    {
      "cell_type": "code",
      "execution_count": null,
      "metadata": {
        "colab": {
          "base_uri": "https://localhost:8080/"
        },
        "id": "KuKlxJ1LB5_1",
        "outputId": "3daba867-5f59-4a87-fa89-33c653c73b5f"
      },
      "outputs": [
        {
          "data": {
            "text/plain": [
              "Pipeline(steps=[('vect', CountVectorizer(ngram_range=(1, 2))),\n",
              "                ('tfidf', TfidfTransformer()),\n",
              "                ('clf', XGBClassifier(objective='multi:softprob'))])"
            ]
          },
          "execution_count": 91,
          "metadata": {},
          "output_type": "execute_result"
        }
      ],
      "source": [
        "import xgboost as xgb\n",
        "\n",
        "xgboo = Pipeline([('vect', CountVectorizer(ngram_range=(1, 2))),\n",
        "                ('tfidf', TfidfTransformer()),\n",
        "                ('clf', xgb.XGBClassifier()),\n",
        "               ])\n",
        "xgboo.fit(X_train, y_train)"
      ]
    },
    {
      "cell_type": "code",
      "execution_count": null,
      "metadata": {
        "colab": {
          "base_uri": "https://localhost:8080/"
        },
        "id": "Bwzt9r9cB5_1",
        "outputId": "0518083b-86bd-4b7b-ebbd-bd6670cbc9b6"
      },
      "outputs": [
        {
          "name": "stdout",
          "output_type": "stream",
          "text": [
            "CPU times: user 279 ms, sys: 6.79 ms, total: 286 ms\n",
            "Wall time: 285 ms\n"
          ]
        }
      ],
      "source": [
        "%%time\n",
        "y_pred = xgboo.predict(X_test)"
      ]
    },
    {
      "cell_type": "code",
      "execution_count": null,
      "metadata": {
        "colab": {
          "base_uri": "https://localhost:8080/"
        },
        "id": "MgFccWIiB5_1",
        "outputId": "79b25727-0240-45fa-822a-999bda97065e"
      },
      "outputs": [
        {
          "name": "stdout",
          "output_type": "stream",
          "text": [
            "accuracy 0.6350210970464135\n",
            "                    precision    recall  f1-score   support\n",
            "\n",
            "            Others       0.67      0.60      0.63       184\n",
            " Economic Activity       0.74      0.89      0.81       258\n",
            "   First Amendment       0.63      0.61      0.62       161\n",
            "Criminal Procedure       0.63      0.70      0.66        96\n",
            "      Civil Rights       0.47      0.27      0.34       111\n",
            "    Judicial Power       0.45      0.47      0.46       138\n",
            "\n",
            "          accuracy                           0.64       948\n",
            "         macro avg       0.60      0.59      0.59       948\n",
            "      weighted avg       0.62      0.64      0.62       948\n",
            "\n"
          ]
        }
      ],
      "source": [
        "print('accuracy %s' % accuracy_score(y_pred, y_test))\n",
        "print(classification_report(y_test, y_pred,target_names=my_issue_area))"
      ]
    },
    {
      "cell_type": "code",
      "execution_count": null,
      "metadata": {
        "colab": {
          "base_uri": "https://localhost:8080/"
        },
        "id": "p3lpHUW1rjNe",
        "outputId": "4fcff492-ea8a-4899-feea-e3d8d65fda1b"
      },
      "outputs": [
        {
          "data": {
            "text/plain": [
              "Pipeline(steps=[('vect', CountVectorizer(ngram_range=(1, 2))),\n",
              "                ('tfidf', TfidfTransformer()),\n",
              "                ('kn', KNeighborsClassifier(n_neighbors=3))])"
            ]
          },
          "execution_count": 94,
          "metadata": {},
          "output_type": "execute_result"
        }
      ],
      "source": [
        "from sklearn.neighbors import KNeighborsClassifier\n",
        "\n",
        "kn = Pipeline([('vect', CountVectorizer(ngram_range=(1, 2))),\n",
        "                ('tfidf', TfidfTransformer()),\n",
        "                ('kn',KNeighborsClassifier(n_neighbors=3)),\n",
        "               ])\n",
        "kn.fit(X_train, y_train)"
      ]
    },
    {
      "cell_type": "code",
      "execution_count": null,
      "metadata": {
        "colab": {
          "base_uri": "https://localhost:8080/"
        },
        "id": "O1c1w2udsEH2",
        "outputId": "f1dccf77-1975-46cc-874f-497979517749"
      },
      "outputs": [
        {
          "name": "stdout",
          "output_type": "stream",
          "text": [
            "CPU times: user 384 ms, sys: 1.24 ms, total: 386 ms\n",
            "Wall time: 388 ms\n"
          ]
        }
      ],
      "source": [
        "%%time\n",
        "y_pred = kn.predict(X_test)"
      ]
    },
    {
      "cell_type": "code",
      "execution_count": null,
      "metadata": {
        "colab": {
          "base_uri": "https://localhost:8080/"
        },
        "id": "KvvigFY_sKAA",
        "outputId": "cee8cb97-a49e-470c-9f6b-00aa950d7c5c"
      },
      "outputs": [
        {
          "name": "stdout",
          "output_type": "stream",
          "text": [
            "accuracy 0.5928270042194093\n",
            "                    precision    recall  f1-score   support\n",
            "\n",
            "            Others       0.50      0.70      0.58       184\n",
            " Economic Activity       0.66      0.81      0.73       258\n",
            "   First Amendment       0.63      0.60      0.61       161\n",
            "Criminal Procedure       0.65      0.48      0.55        96\n",
            "      Civil Rights       0.50      0.23      0.32       111\n",
            "    Judicial Power       0.59      0.40      0.47       138\n",
            "\n",
            "          accuracy                           0.59       948\n",
            "         macro avg       0.59      0.54      0.54       948\n",
            "      weighted avg       0.59      0.59      0.58       948\n",
            "\n"
          ]
        }
      ],
      "source": [
        "from sklearn.metrics import classification_report\n",
        "print('accuracy %s' % accuracy_score(y_pred, y_test))\n",
        "print(classification_report(y_test, y_pred,target_names=my_issue_area))"
      ]
    },
    {
      "cell_type": "markdown",
      "metadata": {
        "id": "LNbeldMyB5_1"
      },
      "source": [
        "# With deleting some words"
      ]
    },
    {
      "cell_type": "code",
      "execution_count": null,
      "metadata": {
        "id": "gVZ55pu9B5_1"
      },
      "outputs": [],
      "source": [
        "bunchOfWords = \"\".join(df_withoutNA[\"facts\"].tolist())"
      ]
    },
    {
      "cell_type": "markdown",
      "metadata": {
        "id": "57qDAwDxB5_1"
      },
      "source": [
        "We will perform a bag of words and try to find the words that appear 1000"
      ]
    },
    {
      "cell_type": "code",
      "execution_count": null,
      "metadata": {
        "id": "yx-T6yGIB5_1"
      },
      "outputs": [],
      "source": [
        "data_corpus = set()\n",
        "for word in bunchOfWords.split(\" \"):\n",
        "    if word not in data_corpus: \n",
        "        data_corpus.add(word)\n",
        "data_corpus=sorted(data_corpus)"
      ]
    },
    {
      "cell_type": "code",
      "execution_count": null,
      "metadata": {
        "id": "Gi_LyiIXB5_1"
      },
      "outputs": [],
      "source": [
        "def convert(set):\n",
        "    return [*set, ]\n",
        "\n",
        "data_corpus = convert(data_corpus)"
      ]
    },
    {
      "cell_type": "code",
      "execution_count": null,
      "metadata": {
        "id": "0DZ9BirPB5_1"
      },
      "outputs": [],
      "source": [
        "one_hot_encoding = []\n",
        "split = bunchOfWords.split(\" \")\n",
        "for word in data_corpus:\n",
        "    count = split.count(word) \n",
        "    if word in split:\n",
        "        one_hot_encoding.append(count)\n",
        "    else:\n",
        "        one_hot_encoding.append(count)"
      ]
    },
    {
      "cell_type": "code",
      "execution_count": null,
      "metadata": {
        "id": "Iqnu-86nB5_2"
      },
      "outputs": [],
      "source": [
        "dfWords = pd.DataFrame({\"words\": data_corpus, \"numberOfFrequency\": one_hot_encoding})\n",
        "dfWords[\"numberOfFrequency\"] = pd.to_numeric(dfWords[\"numberOfFrequency\"])"
      ]
    },
    {
      "cell_type": "code",
      "execution_count": null,
      "metadata": {
        "id": "snsK4_FgB5_2"
      },
      "outputs": [],
      "source": [
        "irrelevantWords = dfWords[dfWords[\"numberOfFrequency\"] > 1000]\n",
        "irrelevantWords = set(irrelevantWords[\"words\"])"
      ]
    },
    {
      "cell_type": "code",
      "execution_count": null,
      "metadata": {
        "id": "T6P_UpW_B5_2"
      },
      "outputs": [],
      "source": [
        "def more_clean_text(text):\n",
        "    text = ' '.join(word for word in text.split() if word not in irrelevantWords) # delete stopwors from text\n",
        "    return text"
      ]
    },
    {
      "cell_type": "code",
      "execution_count": null,
      "metadata": {
        "id": "i3rDO7nGB5_2"
      },
      "outputs": [],
      "source": [
        "df_withoutNA['facts'] = df_withoutNA['facts'].apply(more_clean_text)"
      ]
    },
    {
      "cell_type": "code",
      "execution_count": null,
      "metadata": {
        "colab": {
          "base_uri": "https://localhost:8080/"
        },
        "id": "YJ6cEljHB5_2",
        "outputId": "62a8c885-be93-45e7-80db-2d0264fbb002"
      },
      "outputs": [
        {
          "name": "stdout",
          "output_type": "stream",
          "text": [
            "There are 267703 words in the dataframe.\n"
          ]
        }
      ],
      "source": [
        "print(\"There are\",df_withoutNA['facts'].apply(lambda x: len(x.split(' '))).sum(), \"words in the dataframe.\")"
      ]
    },
    {
      "cell_type": "code",
      "execution_count": null,
      "metadata": {
        "id": "l-y5Z4KCB5_2"
      },
      "outputs": [],
      "source": [
        "X = df_withoutNA.facts\n",
        "y = df_withoutNA.issue_area\n",
        "X_train, X_test, y_train, y_test = train_test_split(X, y, test_size=0.3, random_state = 42)"
      ]
    },
    {
      "cell_type": "code",
      "execution_count": null,
      "metadata": {
        "colab": {
          "base_uri": "https://localhost:8080/"
        },
        "id": "-Z5Lp578B5_3",
        "outputId": "857b659d-1f66-41df-fa12-b9e286f1b666"
      },
      "outputs": [
        {
          "data": {
            "text/plain": [
              "Pipeline(steps=[('vect', CountVectorizer(ngram_range=(1, 2))),\n",
              "                ('tfidf', TfidfTransformer()), ('clf', MultinomialNB())])"
            ]
          },
          "execution_count": 107,
          "metadata": {},
          "output_type": "execute_result"
        }
      ],
      "source": [
        "from sklearn.naive_bayes import MultinomialNB\n",
        "from sklearn.pipeline import Pipeline\n",
        "from sklearn.feature_extraction.text import TfidfTransformer\n",
        "\n",
        "nb = Pipeline([('vect', CountVectorizer(ngram_range=(1, 2))),\n",
        "               ('tfidf', TfidfTransformer()),\n",
        "               ('clf', MultinomialNB()),\n",
        "              ])\n",
        "nb.fit(X_train, y_train)"
      ]
    },
    {
      "cell_type": "code",
      "execution_count": null,
      "metadata": {
        "colab": {
          "base_uri": "https://localhost:8080/"
        },
        "id": "1UtRMxoVB5_3",
        "outputId": "b01fdc62-78fb-40c6-ba23-3da898cdf2e3"
      },
      "outputs": [
        {
          "name": "stdout",
          "output_type": "stream",
          "text": [
            "CPU times: user 166 ms, sys: 1.7 ms, total: 167 ms\n",
            "Wall time: 170 ms\n"
          ]
        }
      ],
      "source": [
        "%%time\n",
        "from sklearn.metrics import classification_report\n",
        "y_pred = nb.predict(X_test)"
      ]
    },
    {
      "cell_type": "code",
      "execution_count": null,
      "metadata": {
        "colab": {
          "base_uri": "https://localhost:8080/"
        },
        "id": "ed4fzkMFB5_3",
        "outputId": "398af3be-e955-4b79-c654-44e4dbf7ec2f"
      },
      "outputs": [
        {
          "name": "stdout",
          "output_type": "stream",
          "text": [
            "accuracy 0.520042194092827\n",
            "                    precision    recall  f1-score   support\n",
            "\n",
            "            Others       0.69      0.48      0.57       184\n",
            " Economic Activity       0.43      1.00      0.60       258\n",
            "   First Amendment       0.63      0.61      0.62       161\n",
            "Criminal Procedure       1.00      0.07      0.14        96\n",
            "      Civil Rights       0.00      0.00      0.00       111\n",
            "    Judicial Power       0.64      0.30      0.41       138\n",
            "\n",
            "          accuracy                           0.52       948\n",
            "         macro avg       0.57      0.41      0.39       948\n",
            "      weighted avg       0.55      0.52      0.45       948\n",
            "\n"
          ]
        },
        {
          "name": "stderr",
          "output_type": "stream",
          "text": [
            "/usr/local/lib/python3.8/dist-packages/sklearn/metrics/_classification.py:1318: UndefinedMetricWarning: Precision and F-score are ill-defined and being set to 0.0 in labels with no predicted samples. Use `zero_division` parameter to control this behavior.\n",
            "  _warn_prf(average, modifier, msg_start, len(result))\n",
            "/usr/local/lib/python3.8/dist-packages/sklearn/metrics/_classification.py:1318: UndefinedMetricWarning: Precision and F-score are ill-defined and being set to 0.0 in labels with no predicted samples. Use `zero_division` parameter to control this behavior.\n",
            "  _warn_prf(average, modifier, msg_start, len(result))\n",
            "/usr/local/lib/python3.8/dist-packages/sklearn/metrics/_classification.py:1318: UndefinedMetricWarning: Precision and F-score are ill-defined and being set to 0.0 in labels with no predicted samples. Use `zero_division` parameter to control this behavior.\n",
            "  _warn_prf(average, modifier, msg_start, len(result))\n"
          ]
        }
      ],
      "source": [
        "print('accuracy %s' % accuracy_score(y_pred, y_test))\n",
        "print(classification_report(y_test, y_pred, target_names=my_issue_area))"
      ]
    },
    {
      "cell_type": "code",
      "execution_count": null,
      "metadata": {
        "colab": {
          "base_uri": "https://localhost:8080/"
        },
        "id": "Ft6wOP10B5_3",
        "outputId": "9a01b33b-2b8f-45e0-99a5-c06f4e29aabf"
      },
      "outputs": [
        {
          "data": {
            "text/plain": [
              "Pipeline(steps=[('vect', CountVectorizer(ngram_range=(1, 2))),\n",
              "                ('tfidf', TfidfTransformer()),\n",
              "                ('clf',\n",
              "                 SGDClassifier(alpha=0.001, max_iter=5, random_state=42,\n",
              "                               tol=None))])"
            ]
          },
          "execution_count": 110,
          "metadata": {},
          "output_type": "execute_result"
        }
      ],
      "source": [
        "from sklearn.linear_model import SGDClassifier\n",
        "\n",
        "sgd = Pipeline([('vect', CountVectorizer(ngram_range=(1, 2))),\n",
        "                ('tfidf', TfidfTransformer()),\n",
        "                ('clf', SGDClassifier(loss='hinge', penalty='l2',alpha=1e-3, random_state=42, max_iter=5, tol=None)),\n",
        "               ])\n",
        "sgd.fit(X_train, y_train)"
      ]
    },
    {
      "cell_type": "code",
      "execution_count": null,
      "metadata": {
        "colab": {
          "base_uri": "https://localhost:8080/"
        },
        "id": "DZnkd2XSB5_3",
        "outputId": "b7838c3d-fe93-4c99-ae36-a795fa51b7d8"
      },
      "outputs": [
        {
          "name": "stdout",
          "output_type": "stream",
          "text": [
            "CPU times: user 215 ms, sys: 68.6 ms, total: 283 ms\n",
            "Wall time: 217 ms\n"
          ]
        }
      ],
      "source": [
        "%%time\n",
        "y_pred = sgd.predict(X_test)"
      ]
    },
    {
      "cell_type": "code",
      "execution_count": null,
      "metadata": {
        "colab": {
          "base_uri": "https://localhost:8080/"
        },
        "id": "MepbVnbqB5_3",
        "outputId": "780ae907-2ce5-498a-af13-793f11932cba"
      },
      "outputs": [
        {
          "name": "stdout",
          "output_type": "stream",
          "text": [
            "accuracy 0.6835443037974683\n",
            "                    precision    recall  f1-score   support\n",
            "\n",
            "            Others       0.76      0.65      0.70       184\n",
            " Economic Activity       0.66      0.98      0.79       258\n",
            "   First Amendment       0.67      0.71      0.69       161\n",
            "Criminal Procedure       0.73      0.72      0.72        96\n",
            "      Civil Rights       0.60      0.19      0.29       111\n",
            "    Judicial Power       0.65      0.51      0.57       138\n",
            "\n",
            "          accuracy                           0.68       948\n",
            "         macro avg       0.68      0.63      0.63       948\n",
            "      weighted avg       0.68      0.68      0.66       948\n",
            "\n"
          ]
        }
      ],
      "source": [
        "print('accuracy %s' % accuracy_score(y_pred, y_test))\n",
        "print(classification_report(y_test, y_pred,target_names=my_issue_area))"
      ]
    },
    {
      "cell_type": "code",
      "execution_count": null,
      "metadata": {
        "colab": {
          "base_uri": "https://localhost:8080/"
        },
        "id": "aqz7ZSmgB5_3",
        "outputId": "b253f3ff-1e45-4adf-b56a-9ed18e3baf88"
      },
      "outputs": [
        {
          "data": {
            "text/plain": [
              "Pipeline(steps=[('vect', CountVectorizer(ngram_range=(1, 2))),\n",
              "                ('tfidf', TfidfTransformer()),\n",
              "                ('clf',\n",
              "                 LogisticRegression(C=100000.0, max_iter=100000, n_jobs=1))])"
            ]
          },
          "execution_count": 113,
          "metadata": {},
          "output_type": "execute_result"
        }
      ],
      "source": [
        "from sklearn.linear_model import LogisticRegression\n",
        "\n",
        "logreg = Pipeline([('vect', CountVectorizer(ngram_range=(1, 2))),\n",
        "                ('tfidf', TfidfTransformer()),\n",
        "                ('clf', LogisticRegression(n_jobs=1, C=1e5, solver='lbfgs', max_iter=100000)),\n",
        "               ])\n",
        "logreg.fit(X_train, y_train)"
      ]
    },
    {
      "cell_type": "code",
      "execution_count": null,
      "metadata": {
        "colab": {
          "base_uri": "https://localhost:8080/"
        },
        "id": "qHg15EwKB5_4",
        "outputId": "16c35692-689c-413a-c7e0-1996b0a67898"
      },
      "outputs": [
        {
          "name": "stdout",
          "output_type": "stream",
          "text": [
            "CPU times: user 165 ms, sys: 15.7 ms, total: 180 ms\n",
            "Wall time: 167 ms\n"
          ]
        }
      ],
      "source": [
        "%%time\n",
        "y_pred = logreg.predict(X_test)"
      ]
    },
    {
      "cell_type": "code",
      "execution_count": null,
      "metadata": {
        "colab": {
          "base_uri": "https://localhost:8080/"
        },
        "id": "3vt5pGr_B5_4",
        "outputId": "3e78c62f-337f-4953-bbc4-0822de1d25ab"
      },
      "outputs": [
        {
          "name": "stdout",
          "output_type": "stream",
          "text": [
            "accuracy 0.7046413502109705\n",
            "                    precision    recall  f1-score   support\n",
            "\n",
            "            Others       0.74      0.68      0.71       184\n",
            " Economic Activity       0.75      0.94      0.83       258\n",
            "   First Amendment       0.68      0.71      0.70       161\n",
            "Criminal Procedure       0.70      0.76      0.73        96\n",
            "      Civil Rights       0.55      0.29      0.38       111\n",
            "    Judicial Power       0.65      0.59      0.62       138\n",
            "\n",
            "          accuracy                           0.70       948\n",
            "         macro avg       0.68      0.66      0.66       948\n",
            "      weighted avg       0.69      0.70      0.69       948\n",
            "\n"
          ]
        }
      ],
      "source": [
        "print('accuracy %s' % accuracy_score(y_pred, y_test))\n",
        "print(classification_report(y_test, y_pred,target_names=my_issue_area))"
      ]
    },
    {
      "cell_type": "code",
      "execution_count": null,
      "metadata": {
        "colab": {
          "base_uri": "https://localhost:8080/"
        },
        "id": "2B8BdAoaB5_4",
        "outputId": "a14cf070-a77e-4fc8-a850-17985bd1d84f"
      },
      "outputs": [
        {
          "data": {
            "text/plain": [
              "Pipeline(steps=[('vect', CountVectorizer(ngram_range=(1, 2))),\n",
              "                ('tfidf', TfidfTransformer()),\n",
              "                ('clf',\n",
              "                 RandomForestClassifier(max_depth=10, n_estimators=10,\n",
              "                                        random_state=10))])"
            ]
          },
          "execution_count": 116,
          "metadata": {},
          "output_type": "execute_result"
        }
      ],
      "source": [
        "from sklearn.ensemble import RandomForestClassifier\n",
        "\n",
        "randfor = Pipeline([('vect', CountVectorizer(ngram_range=(1, 2))),\n",
        "                ('tfidf', TfidfTransformer()),\n",
        "                ('clf', RandomForestClassifier(n_estimators= 10, max_depth=10, random_state=10)),\n",
        "               ])\n",
        "randfor.fit(X_train, y_train)"
      ]
    },
    {
      "cell_type": "code",
      "execution_count": null,
      "metadata": {
        "colab": {
          "base_uri": "https://localhost:8080/"
        },
        "id": "bmz74Sc_B5_4",
        "outputId": "dd475f19-207c-4f2f-9b20-3ecc1a46a38b"
      },
      "outputs": [
        {
          "name": "stdout",
          "output_type": "stream",
          "text": [
            "CPU times: user 176 ms, sys: 3.97 ms, total: 180 ms\n",
            "Wall time: 182 ms\n"
          ]
        }
      ],
      "source": [
        "%%time\n",
        "y_pred = randfor.predict(X_test)"
      ]
    },
    {
      "cell_type": "code",
      "execution_count": null,
      "metadata": {
        "colab": {
          "base_uri": "https://localhost:8080/"
        },
        "id": "Q9qZ7_ZQB5_4",
        "outputId": "65d3c35e-3108-4049-93a5-6962cb8a7efc"
      },
      "outputs": [
        {
          "name": "stdout",
          "output_type": "stream",
          "text": [
            "accuracy 0.4208860759493671\n",
            "                    precision    recall  f1-score   support\n",
            "\n",
            "            Others       0.55      0.32      0.40       184\n",
            " Economic Activity       0.39      0.98      0.56       258\n",
            "   First Amendment       0.43      0.35      0.39       161\n",
            "Criminal Procedure       0.75      0.16      0.26        96\n",
            "      Civil Rights       0.57      0.04      0.07       111\n",
            "    Judicial Power       0.34      0.08      0.13       138\n",
            "\n",
            "          accuracy                           0.42       948\n",
            "         macro avg       0.51      0.32      0.30       948\n",
            "      weighted avg       0.48      0.42      0.35       948\n",
            "\n"
          ]
        }
      ],
      "source": [
        "print('accuracy %s' % accuracy_score(y_pred, y_test))\n",
        "print(classification_report(y_test, y_pred,target_names=my_issue_area))"
      ]
    },
    {
      "cell_type": "code",
      "execution_count": null,
      "metadata": {
        "colab": {
          "base_uri": "https://localhost:8080/"
        },
        "id": "G9moBGv-B5_4",
        "outputId": "cc4b21a0-b73e-4516-c3a8-307a6cb3d02c"
      },
      "outputs": [
        {
          "data": {
            "text/plain": [
              "Pipeline(steps=[('vect', CountVectorizer(ngram_range=(1, 2))),\n",
              "                ('tfidf', TfidfTransformer()),\n",
              "                ('clf',\n",
              "                 GradientBoostingClassifier(max_depth=10, n_estimators=10,\n",
              "                                            random_state=10))])"
            ]
          },
          "execution_count": 119,
          "metadata": {},
          "output_type": "execute_result"
        }
      ],
      "source": [
        "from sklearn.ensemble import GradientBoostingClassifier\n",
        "graboos = Pipeline([('vect', CountVectorizer(ngram_range=(1, 2))),\n",
        "                ('tfidf', TfidfTransformer()),\n",
        "                ('clf', GradientBoostingClassifier(n_estimators=10, max_depth=10, random_state=10)),\n",
        "               ])\n",
        "graboos.fit(X_train, y_train)"
      ]
    },
    {
      "cell_type": "code",
      "execution_count": null,
      "metadata": {
        "colab": {
          "base_uri": "https://localhost:8080/"
        },
        "id": "B4_A3RXdB5_4",
        "outputId": "39b4905c-d100-41e9-8355-304736c36e62"
      },
      "outputs": [
        {
          "name": "stdout",
          "output_type": "stream",
          "text": [
            "CPU times: user 174 ms, sys: 147 µs, total: 174 ms\n",
            "Wall time: 175 ms\n"
          ]
        }
      ],
      "source": [
        "%%time\n",
        "y_pred = graboos.predict(X_test)"
      ]
    },
    {
      "cell_type": "code",
      "execution_count": null,
      "metadata": {
        "colab": {
          "base_uri": "https://localhost:8080/"
        },
        "id": "A2uIQ6LIB5_4",
        "outputId": "919b4e9f-19b1-4931-e63c-04cedc2f7e2b"
      },
      "outputs": [
        {
          "name": "stdout",
          "output_type": "stream",
          "text": [
            "accuracy 0.6054852320675106\n",
            "                    precision    recall  f1-score   support\n",
            "\n",
            "            Others       0.64      0.55      0.59       184\n",
            " Economic Activity       0.70      0.87      0.77       258\n",
            "   First Amendment       0.60      0.57      0.59       161\n",
            "Criminal Procedure       0.65      0.57      0.61        96\n",
            "      Civil Rights       0.53      0.27      0.36       111\n",
            "    Judicial Power       0.41      0.52      0.46       138\n",
            "\n",
            "          accuracy                           0.61       948\n",
            "         macro avg       0.59      0.56      0.56       948\n",
            "      weighted avg       0.60      0.61      0.60       948\n",
            "\n"
          ]
        }
      ],
      "source": [
        "print('accuracy %s' % accuracy_score(y_pred, y_test))\n",
        "print(classification_report(y_test, y_pred,target_names=my_issue_area))"
      ]
    },
    {
      "cell_type": "code",
      "execution_count": null,
      "metadata": {
        "colab": {
          "base_uri": "https://localhost:8080/"
        },
        "id": "UvM_a89gB5_5",
        "outputId": "871bcdc1-43d5-46cd-948b-d9efbbbfba05"
      },
      "outputs": [
        {
          "data": {
            "text/plain": [
              "LabelEncoder()"
            ]
          },
          "execution_count": 122,
          "metadata": {},
          "output_type": "execute_result"
        }
      ],
      "source": [
        "from sklearn import preprocessing\n",
        "le = preprocessing.LabelEncoder()\n",
        "le.fit(y_train)"
      ]
    },
    {
      "cell_type": "code",
      "execution_count": null,
      "metadata": {
        "id": "BYWD08u9B5_5"
      },
      "outputs": [],
      "source": [
        "y_train = le.transform(y_train)\n",
        "y_test = le.transform(y_test)"
      ]
    },
    {
      "cell_type": "code",
      "execution_count": null,
      "metadata": {
        "colab": {
          "base_uri": "https://localhost:8080/"
        },
        "id": "o2nkCEsJB5_5",
        "outputId": "5da63aa8-14df-4bba-9586-1f8360d19046"
      },
      "outputs": [
        {
          "data": {
            "text/plain": [
              "Pipeline(steps=[('vect', CountVectorizer(ngram_range=(1, 2))),\n",
              "                ('tfidf', TfidfTransformer()),\n",
              "                ('clf', XGBClassifier(objective='multi:softprob'))])"
            ]
          },
          "execution_count": 124,
          "metadata": {},
          "output_type": "execute_result"
        }
      ],
      "source": [
        "import xgboost as xgb\n",
        "\n",
        "xgboo = Pipeline([('vect', CountVectorizer(ngram_range=(1, 2))),\n",
        "                ('tfidf', TfidfTransformer()),\n",
        "                ('clf', xgb.XGBClassifier()),\n",
        "               ])\n",
        "xgboo.fit(X_train, y_train)"
      ]
    },
    {
      "cell_type": "code",
      "execution_count": null,
      "metadata": {
        "colab": {
          "base_uri": "https://localhost:8080/"
        },
        "id": "y_AHa5GpB5_5",
        "outputId": "641e2218-82d6-426b-b2ea-d36b9c03e447"
      },
      "outputs": [
        {
          "name": "stdout",
          "output_type": "stream",
          "text": [
            "CPU times: user 272 ms, sys: 4.83 ms, total: 277 ms\n",
            "Wall time: 276 ms\n"
          ]
        }
      ],
      "source": [
        "%%time\n",
        "y_pred = xgboo.predict(X_test)"
      ]
    },
    {
      "cell_type": "code",
      "execution_count": null,
      "metadata": {
        "colab": {
          "base_uri": "https://localhost:8080/"
        },
        "id": "P0u4uJC1B5_5",
        "outputId": "9ce3029a-c35e-47e4-feab-b0504e9089b4"
      },
      "outputs": [
        {
          "name": "stdout",
          "output_type": "stream",
          "text": [
            "accuracy 0.6244725738396625\n",
            "                    precision    recall  f1-score   support\n",
            "\n",
            "            Others       0.64      0.55      0.59       184\n",
            " Economic Activity       0.73      0.91      0.81       258\n",
            "   First Amendment       0.62      0.58      0.60       161\n",
            "Criminal Procedure       0.67      0.65      0.66        96\n",
            "      Civil Rights       0.47      0.29      0.36       111\n",
            "    Judicial Power       0.44      0.50      0.47       138\n",
            "\n",
            "          accuracy                           0.62       948\n",
            "         macro avg       0.59      0.58      0.58       948\n",
            "      weighted avg       0.62      0.62      0.61       948\n",
            "\n"
          ]
        }
      ],
      "source": [
        "print('accuracy %s' % accuracy_score(y_pred, y_test))\n",
        "print(classification_report(y_test, y_pred,target_names=my_issue_area))"
      ]
    },
    {
      "cell_type": "code",
      "execution_count": null,
      "metadata": {
        "colab": {
          "base_uri": "https://localhost:8080/"
        },
        "id": "GUUvUiqmsbRG",
        "outputId": "b1e49c3d-19a6-47dc-f99c-7148d95861c0"
      },
      "outputs": [
        {
          "data": {
            "text/plain": [
              "Pipeline(steps=[('vect', CountVectorizer(ngram_range=(1, 2))),\n",
              "                ('tfidf', TfidfTransformer()),\n",
              "                ('clf', KNeighborsClassifier(n_neighbors=3))])"
            ]
          },
          "execution_count": 127,
          "metadata": {},
          "output_type": "execute_result"
        }
      ],
      "source": [
        "kn = Pipeline([('vect', CountVectorizer(ngram_range=(1, 2))),\n",
        "                ('tfidf', TfidfTransformer()),\n",
        "                ('clf', KNeighborsClassifier(n_neighbors=3)),\n",
        "               ])\n",
        "kn.fit(X_train, y_train)"
      ]
    },
    {
      "cell_type": "code",
      "execution_count": null,
      "metadata": {
        "colab": {
          "base_uri": "https://localhost:8080/"
        },
        "id": "6nt-ZVlksbNm",
        "outputId": "16ac4ab2-f6aa-463b-c880-a3f2a6f162b2"
      },
      "outputs": [
        {
          "name": "stdout",
          "output_type": "stream",
          "text": [
            "CPU times: user 315 ms, sys: 2.35 ms, total: 318 ms\n",
            "Wall time: 322 ms\n"
          ]
        }
      ],
      "source": [
        "%%time\n",
        "y_pred = kn.predict(X_test)"
      ]
    },
    {
      "cell_type": "code",
      "execution_count": null,
      "metadata": {
        "colab": {
          "base_uri": "https://localhost:8080/"
        },
        "id": "1BtIsIVYsz7U",
        "outputId": "19808e0d-3e0c-4ded-8dd0-557b38bdb08c"
      },
      "outputs": [
        {
          "name": "stdout",
          "output_type": "stream",
          "text": [
            "accuracy 0.5780590717299579\n",
            "                    precision    recall  f1-score   support\n",
            "\n",
            "            Others       0.47      0.66      0.55       184\n",
            " Economic Activity       0.67      0.80      0.73       258\n",
            "   First Amendment       0.59      0.60      0.60       161\n",
            "Criminal Procedure       0.66      0.50      0.57        96\n",
            "      Civil Rights       0.45      0.18      0.26       111\n",
            "    Judicial Power       0.54      0.41      0.46       138\n",
            "\n",
            "          accuracy                           0.58       948\n",
            "         macro avg       0.56      0.52      0.53       948\n",
            "      weighted avg       0.57      0.58      0.56       948\n",
            "\n"
          ]
        }
      ],
      "source": [
        "from sklearn.metrics import classification_report\n",
        "print('accuracy %s' % accuracy_score(y_pred, y_test))\n",
        "print(classification_report(y_test, y_pred,target_names=my_issue_area))"
      ]
    },
    {
      "cell_type": "markdown",
      "metadata": {
        "id": "_3171OypB5_5"
      },
      "source": [
        "# Word2Vec"
      ]
    },
    {
      "cell_type": "code",
      "execution_count": null,
      "metadata": {
        "id": "JXxMVktmB5_5"
      },
      "outputs": [],
      "source": [
        "pip install --upgrade tensorflow-hub"
      ]
    },
    {
      "cell_type": "code",
      "execution_count": null,
      "metadata": {
        "id": "zeMUToTAGVyV"
      },
      "outputs": [],
      "source": [
        "pip install tensorflow_text"
      ]
    },
    {
      "cell_type": "code",
      "execution_count": null,
      "metadata": {
        "id": "arbPVEJWB5_5",
        "colab": {
          "base_uri": "https://localhost:8080/",
          "height": 347
        },
        "outputId": "242f299f-c8d3-44d4-9c17-59c316c9ea4a"
      },
      "outputs": [
        {
          "output_type": "error",
          "ename": "ModuleNotFoundError",
          "evalue": "ignored",
          "traceback": [
            "\u001b[0;31m---------------------------------------------------------------------------\u001b[0m",
            "\u001b[0;31mModuleNotFoundError\u001b[0m                       Traceback (most recent call last)",
            "\u001b[0;32m<ipython-input-47-ede191a11844>\u001b[0m in \u001b[0;36m<module>\u001b[0;34m\u001b[0m\n\u001b[1;32m      1\u001b[0m \u001b[0;32mimport\u001b[0m \u001b[0mtensorflow\u001b[0m \u001b[0;32mas\u001b[0m \u001b[0mtf\u001b[0m\u001b[0;34m\u001b[0m\u001b[0;34m\u001b[0m\u001b[0m\n\u001b[1;32m      2\u001b[0m \u001b[0;32mimport\u001b[0m \u001b[0mtensorflow_hub\u001b[0m \u001b[0;32mas\u001b[0m \u001b[0mhub\u001b[0m\u001b[0;34m\u001b[0m\u001b[0;34m\u001b[0m\u001b[0m\n\u001b[0;32m----> 3\u001b[0;31m \u001b[0;32mimport\u001b[0m \u001b[0mtensorflow_text\u001b[0m \u001b[0;32mas\u001b[0m \u001b[0mtext\u001b[0m\u001b[0;34m\u001b[0m\u001b[0;34m\u001b[0m\u001b[0m\n\u001b[0m",
            "\u001b[0;31mModuleNotFoundError\u001b[0m: No module named 'tensorflow_text'",
            "",
            "\u001b[0;31m---------------------------------------------------------------------------\u001b[0;32m\nNOTE: If your import is failing due to a missing package, you can\nmanually install dependencies using either !pip or !apt.\n\nTo view examples of installing some common dependencies, click the\n\"Open Examples\" button below.\n\u001b[0;31m---------------------------------------------------------------------------\u001b[0m\n"
          ],
          "errorDetails": {
            "actions": [
              {
                "action": "open_url",
                "actionText": "Open Examples",
                "url": "/notebooks/snippets/importing_libraries.ipynb"
              }
            ]
          }
        }
      ],
      "source": [
        "import tensorflow as tf\n",
        "import tensorflow_hub as hub\n",
        "import tensorflow_text as text"
      ]
    },
    {
      "cell_type": "code",
      "execution_count": null,
      "metadata": {
        "id": "yfRCmuhHB5_6"
      },
      "outputs": [],
      "source": [
        "bert_preprocess = hub.KerasLayer(\"https://tfhub.dev/tensorflow/bert_en_uncased_preprocess/3\")\n",
        "bert_encoder = hub.KerasLayer(\"https://tfhub.dev/tensorflow/bert_en_uncased_L-12_H-768_A-12/4\")"
      ]
    },
    {
      "cell_type": "code",
      "execution_count": null,
      "metadata": {
        "id": "8sTK5oOIB5_6"
      },
      "outputs": [],
      "source": [
        "X_train, X_test, y_train, y_test = train_test_split(df_withoutNA[\"facts\"],df_withoutNA[\"issue_area\"],test_size=0.2,shuffle=True)"
      ]
    },
    {
      "cell_type": "code",
      "execution_count": null,
      "metadata": {
        "colab": {
          "base_uri": "https://localhost:8080/"
        },
        "id": "nIAc9ayzKE1N",
        "outputId": "dc2f554a-85d1-4cc2-95b3-379a0e98cc56"
      },
      "outputs": [
        {
          "data": {
            "text/plain": [
              "LabelEncoder()"
            ]
          },
          "execution_count": 176,
          "metadata": {},
          "output_type": "execute_result"
        }
      ],
      "source": [
        "from sklearn import preprocessing\n",
        "le = preprocessing.LabelEncoder()\n",
        "le.fit(y_train)"
      ]
    },
    {
      "cell_type": "code",
      "execution_count": null,
      "metadata": {
        "id": "pugZVm-TKF_8"
      },
      "outputs": [],
      "source": [
        "y_train = le.transform(y_train)\n",
        "y_test = le.transform(y_test)"
      ]
    },
    {
      "cell_type": "code",
      "execution_count": null,
      "metadata": {
        "id": "XP_j2PgHB5_6"
      },
      "outputs": [],
      "source": [
        "# Bert layers\n",
        "text_input = tf.keras.layers.Input(shape=(), dtype=tf.string, name='text')\n",
        "preprocessed_text = bert_preprocess(text_input)\n",
        "outputs = bert_encoder(preprocessed_text)\n",
        "# Neural network layers\n",
        "l = tf.keras.layers.Dropout(0.1, name=\"dropout\")(outputs['pooled_output'])\n",
        "l = tf.keras.layers.Dense(1, activation='sigmoid', name=\"output\")(l)\n",
        "# Use inputs and outputs to construct a final model\n",
        "model = tf.keras.Model(inputs=[text_input], outputs = [l])"
      ]
    },
    {
      "cell_type": "code",
      "execution_count": null,
      "metadata": {
        "colab": {
          "base_uri": "https://localhost:8080/"
        },
        "id": "De2JHmL-JTCO",
        "outputId": "4a02a4e4-f9ec-4bd9-9372-9d06cb617f9a"
      },
      "outputs": [
        {
          "name": "stdout",
          "output_type": "stream",
          "text": [
            "Epoch 1/2\n",
            "79/79 [==============================] - 1090s 13s/step - loss: -13.0583 - accuracy: 0.2731\n",
            "Epoch 2/2\n",
            "79/79 [==============================] - 1056s 13s/step - loss: -40.5781 - accuracy: 0.2762\n"
          ]
        },
        {
          "data": {
            "text/plain": [
              "<keras.callbacks.History at 0x7f86edbadb80>"
            ]
          },
          "execution_count": 179,
          "metadata": {},
          "output_type": "execute_result"
        }
      ],
      "source": [
        "model.compile(optimizer='adam', loss='binary_crossentropy', metrics=['accuracy'])\n",
        "model.fit(X_train, y_train, epochs=2, batch_size = 32)"
      ]
    },
    {
      "cell_type": "code",
      "execution_count": null,
      "metadata": {
        "colab": {
          "base_uri": "https://localhost:8080/"
        },
        "id": "9B_yqCgtUDn6",
        "outputId": "1c1d200a-79e6-41c9-8118-7d4ca049b209"
      },
      "outputs": [
        {
          "data": {
            "text/plain": [
              "array([1, 3, 2, ..., 0, 1, 3])"
            ]
          },
          "execution_count": 180,
          "metadata": {},
          "output_type": "execute_result"
        }
      ],
      "source": [
        "y_train"
      ]
    },
    {
      "cell_type": "code",
      "execution_count": null,
      "metadata": {
        "colab": {
          "base_uri": "https://localhost:8080/"
        },
        "id": "xc6pD6_0JZeE",
        "outputId": "55d0b4a1-574f-4863-ae02-659bdcc02bd8"
      },
      "outputs": [
        {
          "name": "stdout",
          "output_type": "stream",
          "text": [
            "20/20 [==============================] - 259s 13s/step\n",
            "[1. 1. 1. 1. 1. 1. 1. 1. 1. 1. 1. 1. 1. 1. 1. 1. 1. 1. 1. 1. 1. 1. 1. 1.\n",
            " 1. 1. 1. 1. 1. 1. 1. 1. 1. 1. 1. 1. 1. 1. 1. 1. 1. 1. 1. 1. 1. 1. 1. 1.\n",
            " 1. 1. 1. 1. 1. 1. 1. 1. 1. 1. 1. 1. 1. 1. 1. 1. 1. 1. 1. 1. 1. 1. 1. 1.\n",
            " 1. 1. 1. 1. 1. 1. 1. 1. 1. 1. 1. 1. 1. 1. 1. 1. 1. 1. 1. 1. 1. 1. 1. 1.\n",
            " 1. 1. 1. 1. 1. 1. 1. 1. 1. 1. 1. 1. 1. 1. 1. 1. 1. 1. 1. 1. 1. 1. 1. 1.\n",
            " 1. 1. 1. 1. 1. 1. 1. 1. 1. 1. 1. 1. 1. 1. 1. 1. 1. 1. 1. 1. 1. 1. 1. 1.\n",
            " 1. 1. 1. 1. 1. 1. 1. 1. 1. 1. 1. 1. 1. 1. 1. 1. 1. 1. 1. 1. 1. 1. 1. 1.\n",
            " 1. 1. 1. 1. 1. 1. 1. 1. 1. 1. 1. 1. 1. 1. 1. 1. 1. 1. 1. 1. 1. 1. 1. 1.\n",
            " 1. 1. 1. 1. 1. 1. 1. 1. 1. 1. 1. 1. 1. 1. 1. 1. 1. 1. 1. 1. 1. 1. 1. 1.\n",
            " 1. 1. 1. 1. 1. 1. 1. 1. 1. 1. 1. 1. 1. 1. 1. 1. 1. 1. 1. 1. 1. 1. 1. 1.\n",
            " 1. 1. 1. 1. 1. 1. 1. 1. 1. 1. 1. 1. 1. 1. 1. 1. 1. 1. 1. 1. 1. 1. 1. 1.\n",
            " 1. 1. 1. 1. 1. 1. 1. 1. 1. 1. 1. 1. 1. 1. 1. 1. 1. 1. 1. 1. 1. 1. 1. 1.\n",
            " 1. 1. 1. 1. 1. 1. 1. 1. 1. 1. 1. 1. 1. 1. 1. 1. 1. 1. 1. 1. 1. 1. 1. 1.\n",
            " 1. 1. 1. 1. 1. 1. 1. 1. 1. 1. 1. 1. 1. 1. 1. 1. 1. 1. 1. 1. 1. 1. 1. 1.\n",
            " 1. 1. 1. 1. 1. 1. 1. 1. 1. 1. 1. 1. 1. 1. 1. 1. 1. 1. 1. 1. 1. 1. 1. 1.\n",
            " 1. 1. 1. 1. 1. 1. 1. 1. 1. 1. 1. 1. 1. 1. 1. 1. 1. 1. 1. 1. 1. 1. 1. 1.\n",
            " 1. 1. 1. 1. 1. 1. 1. 1. 1. 1. 1. 1. 1. 1. 1. 1. 1. 1. 1. 1. 1. 1. 1. 1.\n",
            " 1. 1. 1. 1. 1. 1. 1. 1. 1. 1. 1. 1. 1. 1. 1. 1. 1. 1. 1. 1. 1. 1. 1. 1.\n",
            " 1. 1. 1. 1. 1. 1. 1. 1. 1. 1. 1. 1. 1. 1. 1. 1. 1. 1. 1. 1. 1. 1. 1. 1.\n",
            " 1. 1. 1. 1. 1. 1. 1. 1. 1. 1. 1. 1. 1. 1. 1. 1. 1. 1. 1. 1. 1. 1. 1. 1.\n",
            " 1. 1. 1. 1. 1. 1. 1. 1. 1. 1. 1. 1. 1. 1. 1. 1. 1. 1. 1. 1. 1. 1. 1. 1.\n",
            " 1. 1. 1. 1. 1. 1. 1. 1. 1. 1. 1. 1. 1. 1. 1. 1. 1. 1. 1. 1. 1. 1. 1. 1.\n",
            " 1. 1. 1. 1. 1. 1. 1. 1. 1. 1. 1. 1. 1. 1. 1. 1. 1. 1. 1. 1. 1. 1. 1. 1.\n",
            " 1. 1. 1. 1. 1. 1. 1. 1. 1. 1. 1. 1. 1. 1. 1. 1. 1. 1. 1. 1. 1. 1. 1. 1.\n",
            " 1. 1. 1. 1. 1. 1. 1. 1. 1. 1. 1. 1. 1. 1. 1. 1. 1. 1. 1. 1. 1. 1. 1. 1.\n",
            " 1. 1. 1. 1. 1. 1. 1. 1. 1. 1. 1. 1. 1. 1. 1. 1. 1. 1. 1. 1. 1. 1. 1. 1.\n",
            " 1. 1. 1. 1. 1. 1. 1. 1.]\n"
          ]
        }
      ],
      "source": [
        "y_predicted = model.predict(X_test)\n",
        "y_predicted = y_predicted.flatten()\n",
        "print(y_predicted)"
      ]
    },
    {
      "cell_type": "code",
      "execution_count": null,
      "metadata": {
        "colab": {
          "base_uri": "https://localhost:8080/"
        },
        "id": "N4LYXrXhX429",
        "outputId": "a425d560-b151-41ce-d399-0b25c53aa80b"
      },
      "outputs": [
        {
          "name": "stdout",
          "output_type": "stream",
          "text": [
            "accuracy 0.254746835443038\n",
            "                    precision    recall  f1-score   support\n",
            "\n",
            "            Others       0.00      0.00      0.00       113\n",
            "    Judicial Power       0.25      1.00      0.41       161\n",
            "Criminal Procedure       0.00      0.00      0.00       104\n",
            " Economic Activity       0.00      0.00      0.00        70\n",
            "      Civil Rights       0.00      0.00      0.00        69\n",
            "   First Amendment       0.00      0.00      0.00       115\n",
            "\n",
            "          accuracy                           0.25       632\n",
            "         macro avg       0.04      0.17      0.07       632\n",
            "      weighted avg       0.06      0.25      0.10       632\n",
            "\n"
          ]
        },
        {
          "name": "stderr",
          "output_type": "stream",
          "text": [
            "/usr/local/lib/python3.8/dist-packages/sklearn/metrics/_classification.py:1318: UndefinedMetricWarning: Precision and F-score are ill-defined and being set to 0.0 in labels with no predicted samples. Use `zero_division` parameter to control this behavior.\n",
            "  _warn_prf(average, modifier, msg_start, len(result))\n",
            "/usr/local/lib/python3.8/dist-packages/sklearn/metrics/_classification.py:1318: UndefinedMetricWarning: Precision and F-score are ill-defined and being set to 0.0 in labels with no predicted samples. Use `zero_division` parameter to control this behavior.\n",
            "  _warn_prf(average, modifier, msg_start, len(result))\n",
            "/usr/local/lib/python3.8/dist-packages/sklearn/metrics/_classification.py:1318: UndefinedMetricWarning: Precision and F-score are ill-defined and being set to 0.0 in labels with no predicted samples. Use `zero_division` parameter to control this behavior.\n",
            "  _warn_prf(average, modifier, msg_start, len(result))\n"
          ]
        }
      ],
      "source": [
        "print('accuracy %s' % accuracy_score(y_predicted, y_test))\n",
        "print(classification_report(y_test, y_predicted,target_names=my_issue_area))"
      ]
    },
    {
      "cell_type": "markdown",
      "metadata": {
        "id": "9skypSU9fjxV"
      },
      "source": [
        "# Issue Area prediction"
      ]
    },
    {
      "cell_type": "code",
      "execution_count": null,
      "metadata": {
        "id": "99PffgHGORbf"
      },
      "outputs": [],
      "source": [
        "second_df = pd.read_csv(\"us_classactions_verdicts.csv\")\n",
        "second_df = second_df[[\"target_text\", \"verdict\"]]"
      ]
    },
    {
      "cell_type": "code",
      "execution_count": null,
      "metadata": {
        "id": "moVtTQoEPcMs"
      },
      "outputs": [],
      "source": [
        "second_df.rename(columns = {'target_text':'facts', 'verdict': 'first_party_winner'}, inplace = True)"
      ]
    },
    {
      "cell_type": "code",
      "execution_count": null,
      "metadata": {
        "colab": {
          "base_uri": "https://localhost:8080/",
          "height": 143
        },
        "id": "p2y_a8iPP1hp",
        "outputId": "0f653c77-b067-4dc1-edab-f1553e572a8d"
      },
      "outputs": [
        {
          "output_type": "execute_result",
          "data": {
            "text/plain": [
              "                                               facts first_party_winner\n",
              "0   Knowing and/or Willful Violation of the Telep...               lose\n",
              "1  17.  Defendants operate an electrical construc...                win\n",
              "2  (Fair Labor Standards Act Violations)   (Viola...                win"
            ],
            "text/html": [
              "\n",
              "  <div id=\"df-34b07773-7845-430c-9be5-a5a79ac84c48\">\n",
              "    <div class=\"colab-df-container\">\n",
              "      <div>\n",
              "<style scoped>\n",
              "    .dataframe tbody tr th:only-of-type {\n",
              "        vertical-align: middle;\n",
              "    }\n",
              "\n",
              "    .dataframe tbody tr th {\n",
              "        vertical-align: top;\n",
              "    }\n",
              "\n",
              "    .dataframe thead th {\n",
              "        text-align: right;\n",
              "    }\n",
              "</style>\n",
              "<table border=\"1\" class=\"dataframe\">\n",
              "  <thead>\n",
              "    <tr style=\"text-align: right;\">\n",
              "      <th></th>\n",
              "      <th>facts</th>\n",
              "      <th>first_party_winner</th>\n",
              "    </tr>\n",
              "  </thead>\n",
              "  <tbody>\n",
              "    <tr>\n",
              "      <th>0</th>\n",
              "      <td>Knowing and/or Willful Violation of the Telep...</td>\n",
              "      <td>lose</td>\n",
              "    </tr>\n",
              "    <tr>\n",
              "      <th>1</th>\n",
              "      <td>17.  Defendants operate an electrical construc...</td>\n",
              "      <td>win</td>\n",
              "    </tr>\n",
              "    <tr>\n",
              "      <th>2</th>\n",
              "      <td>(Fair Labor Standards Act Violations)   (Viola...</td>\n",
              "      <td>win</td>\n",
              "    </tr>\n",
              "  </tbody>\n",
              "</table>\n",
              "</div>\n",
              "      <button class=\"colab-df-convert\" onclick=\"convertToInteractive('df-34b07773-7845-430c-9be5-a5a79ac84c48')\"\n",
              "              title=\"Convert this dataframe to an interactive table.\"\n",
              "              style=\"display:none;\">\n",
              "        \n",
              "  <svg xmlns=\"http://www.w3.org/2000/svg\" height=\"24px\"viewBox=\"0 0 24 24\"\n",
              "       width=\"24px\">\n",
              "    <path d=\"M0 0h24v24H0V0z\" fill=\"none\"/>\n",
              "    <path d=\"M18.56 5.44l.94 2.06.94-2.06 2.06-.94-2.06-.94-.94-2.06-.94 2.06-2.06.94zm-11 1L8.5 8.5l.94-2.06 2.06-.94-2.06-.94L8.5 2.5l-.94 2.06-2.06.94zm10 10l.94 2.06.94-2.06 2.06-.94-2.06-.94-.94-2.06-.94 2.06-2.06.94z\"/><path d=\"M17.41 7.96l-1.37-1.37c-.4-.4-.92-.59-1.43-.59-.52 0-1.04.2-1.43.59L10.3 9.45l-7.72 7.72c-.78.78-.78 2.05 0 2.83L4 21.41c.39.39.9.59 1.41.59.51 0 1.02-.2 1.41-.59l7.78-7.78 2.81-2.81c.8-.78.8-2.07 0-2.86zM5.41 20L4 18.59l7.72-7.72 1.47 1.35L5.41 20z\"/>\n",
              "  </svg>\n",
              "      </button>\n",
              "      \n",
              "  <style>\n",
              "    .colab-df-container {\n",
              "      display:flex;\n",
              "      flex-wrap:wrap;\n",
              "      gap: 12px;\n",
              "    }\n",
              "\n",
              "    .colab-df-convert {\n",
              "      background-color: #E8F0FE;\n",
              "      border: none;\n",
              "      border-radius: 50%;\n",
              "      cursor: pointer;\n",
              "      display: none;\n",
              "      fill: #1967D2;\n",
              "      height: 32px;\n",
              "      padding: 0 0 0 0;\n",
              "      width: 32px;\n",
              "    }\n",
              "\n",
              "    .colab-df-convert:hover {\n",
              "      background-color: #E2EBFA;\n",
              "      box-shadow: 0px 1px 2px rgba(60, 64, 67, 0.3), 0px 1px 3px 1px rgba(60, 64, 67, 0.15);\n",
              "      fill: #174EA6;\n",
              "    }\n",
              "\n",
              "    [theme=dark] .colab-df-convert {\n",
              "      background-color: #3B4455;\n",
              "      fill: #D2E3FC;\n",
              "    }\n",
              "\n",
              "    [theme=dark] .colab-df-convert:hover {\n",
              "      background-color: #434B5C;\n",
              "      box-shadow: 0px 1px 3px 1px rgba(0, 0, 0, 0.15);\n",
              "      filter: drop-shadow(0px 1px 2px rgba(0, 0, 0, 0.3));\n",
              "      fill: #FFFFFF;\n",
              "    }\n",
              "  </style>\n",
              "\n",
              "      <script>\n",
              "        const buttonEl =\n",
              "          document.querySelector('#df-34b07773-7845-430c-9be5-a5a79ac84c48 button.colab-df-convert');\n",
              "        buttonEl.style.display =\n",
              "          google.colab.kernel.accessAllowed ? 'block' : 'none';\n",
              "\n",
              "        async function convertToInteractive(key) {\n",
              "          const element = document.querySelector('#df-34b07773-7845-430c-9be5-a5a79ac84c48');\n",
              "          const dataTable =\n",
              "            await google.colab.kernel.invokeFunction('convertToInteractive',\n",
              "                                                     [key], {});\n",
              "          if (!dataTable) return;\n",
              "\n",
              "          const docLinkHtml = 'Like what you see? Visit the ' +\n",
              "            '<a target=\"_blank\" href=https://colab.research.google.com/notebooks/data_table.ipynb>data table notebook</a>'\n",
              "            + ' to learn more about interactive tables.';\n",
              "          element.innerHTML = '';\n",
              "          dataTable['output_type'] = 'display_data';\n",
              "          await google.colab.output.renderOutput(dataTable, element);\n",
              "          const docLink = document.createElement('div');\n",
              "          docLink.innerHTML = docLinkHtml;\n",
              "          element.appendChild(docLink);\n",
              "        }\n",
              "      </script>\n",
              "    </div>\n",
              "  </div>\n",
              "  "
            ]
          },
          "metadata": {},
          "execution_count": 31
        }
      ],
      "source": [
        "second_df.head(3)"
      ]
    },
    {
      "cell_type": "code",
      "source": [
        "len(second_df)"
      ],
      "metadata": {
        "colab": {
          "base_uri": "https://localhost:8080/"
        },
        "id": "3yVqw4GO8WIo",
        "outputId": "8e5c2d1e-059e-433d-d390-3e4097420200"
      },
      "execution_count": null,
      "outputs": [
        {
          "output_type": "execute_result",
          "data": {
            "text/plain": [
              "3000"
            ]
          },
          "metadata": {},
          "execution_count": 32
        }
      ]
    },
    {
      "cell_type": "code",
      "source": [
        "second_df.isna().sum()"
      ],
      "metadata": {
        "colab": {
          "base_uri": "https://localhost:8080/"
        },
        "id": "A6y4kC4m8f03",
        "outputId": "21b996f5-7183-458a-9a59-a5d76fa8a0bd"
      },
      "execution_count": null,
      "outputs": [
        {
          "output_type": "execute_result",
          "data": {
            "text/plain": [
              "facts                 4\n",
              "first_party_winner    0\n",
              "dtype: int64"
            ]
          },
          "metadata": {},
          "execution_count": 33
        }
      ]
    },
    {
      "cell_type": "code",
      "source": [
        "second_df.dropna(inplace = True)"
      ],
      "metadata": {
        "id": "WU_radlgcWeF"
      },
      "execution_count": null,
      "outputs": []
    },
    {
      "cell_type": "code",
      "source": [
        "second_df.isna().sum()"
      ],
      "metadata": {
        "colab": {
          "base_uri": "https://localhost:8080/"
        },
        "id": "jAAt5pVlcoHX",
        "outputId": "adf5be01-c3cd-47ff-f521-c5090f98e936"
      },
      "execution_count": null,
      "outputs": [
        {
          "output_type": "execute_result",
          "data": {
            "text/plain": [
              "facts                 0\n",
              "first_party_winner    0\n",
              "dtype: int64"
            ]
          },
          "metadata": {},
          "execution_count": 35
        }
      ]
    },
    {
      "cell_type": "code",
      "source": [
        "words_set = set()\n",
        " \n",
        "for doc in second_df[\"facts\"]:\n",
        "  worddoc = doc.split()\n",
        "  for word in worddoc:\n",
        "    if word not in words_set:\n",
        "      words_set.add(word)\n",
        "     \n",
        "print('Number of words in the corpus:',len(words_set))"
      ],
      "metadata": {
        "colab": {
          "base_uri": "https://localhost:8080/"
        },
        "id": "Pqp1oBkD1MCp",
        "outputId": "77cae658-4824-4afe-ccb0-9dfefe7cb5d1"
      },
      "execution_count": null,
      "outputs": [
        {
          "output_type": "stream",
          "name": "stdout",
          "text": [
            "Number of words in the corpus: 94528\n"
          ]
        }
      ]
    },
    {
      "cell_type": "code",
      "execution_count": null,
      "metadata": {
        "id": "gZXgMXMtQdAZ"
      },
      "outputs": [],
      "source": [
        "from sklearn import preprocessing\n",
        "le = preprocessing.LabelEncoder()"
      ]
    },
    {
      "cell_type": "code",
      "execution_count": null,
      "metadata": {
        "colab": {
          "base_uri": "https://localhost:8080/"
        },
        "id": "xWUSeHldROex",
        "outputId": "06c4bd12-46ea-46dc-afea-aaacc7c88bd6"
      },
      "outputs": [
        {
          "output_type": "execute_result",
          "data": {
            "text/plain": [
              "LabelEncoder()"
            ]
          },
          "metadata": {},
          "execution_count": 38
        }
      ],
      "source": [
        "le.fit(second_df[\"first_party_winner\"])"
      ]
    },
    {
      "cell_type": "code",
      "execution_count": null,
      "metadata": {
        "id": "kyIiHdaUQqCX"
      },
      "outputs": [],
      "source": [
        "second_df[\"first_party_winner\"] = le.transform(second_df[\"first_party_winner\"])"
      ]
    },
    {
      "cell_type": "code",
      "execution_count": null,
      "metadata": {
        "id": "IDHrquo1Tj0V"
      },
      "outputs": [],
      "source": [
        "second_df['facts'] = second_df['facts'].map(lambda x: clean_text(x, stemming=False, lemmatization = True))\n",
        "df_withNA['facts'] = df_withNA['facts'].map(lambda x: clean_text(x, stemming=False, lemmatization = True))"
      ]
    },
    {
      "cell_type": "code",
      "source": [
        "words_set = set()\n",
        " \n",
        "for doc in second_df[\"facts\"]:\n",
        "  worddoc = doc.split()\n",
        "  for word in worddoc:\n",
        "    if word not in words_set:\n",
        "      words_set.add(word)\n",
        "     \n",
        "print('Number of words in the corpus:',len(words_set))"
      ],
      "metadata": {
        "colab": {
          "base_uri": "https://localhost:8080/"
        },
        "id": "7Mi8o2DT3j_b",
        "outputId": "993159da-65d4-42a4-bdd6-f1393350deec"
      },
      "execution_count": null,
      "outputs": [
        {
          "output_type": "stream",
          "name": "stdout",
          "text": [
            "Number of words in the corpus: 24684\n"
          ]
        }
      ]
    },
    {
      "cell_type": "code",
      "source": [
        "words_set = set()\n",
        " \n",
        "for doc in df_withoutNA[\"facts\"]:\n",
        "  worddoc = doc.split()\n",
        "  for word in worddoc:\n",
        "    if word not in words_set:\n",
        "      words_set.add(word)\n",
        "     \n",
        "print('Number of words in the corpus:',len(words_set))"
      ],
      "metadata": {
        "colab": {
          "base_uri": "https://localhost:8080/"
        },
        "id": "8fRExfDg4pfA",
        "outputId": "c1ea125c-d44d-49a8-9528-8613ae80879c"
      },
      "execution_count": null,
      "outputs": [
        {
          "output_type": "stream",
          "name": "stdout",
          "text": [
            "Number of words in the corpus: 15335\n"
          ]
        }
      ]
    },
    {
      "cell_type": "code",
      "source": [
        "from locale import textdomain\n",
        "def deleteWordsNotInFirstDataset(text):\n",
        "    text = ' '.join(word for word in text.split() if word in words_set) # delete stopwors from text\n",
        "    return text"
      ],
      "metadata": {
        "id": "lMvwflg75Ybd"
      },
      "execution_count": null,
      "outputs": []
    },
    {
      "cell_type": "code",
      "source": [
        "second_df['facts'] = second_df['facts'].map(lambda x: deleteWordsNotInFirstDataset(x))\n",
        "df_withNA['facts'] = df_withNA['facts'].map(lambda x: deleteWordsNotInFirstDataset(x))"
      ],
      "metadata": {
        "id": "AbIkfhQL6Kca"
      },
      "execution_count": null,
      "outputs": []
    },
    {
      "cell_type": "code",
      "source": [
        "words_set = set()\n",
        " \n",
        "for doc in second_df[\"facts\"]:\n",
        "  worddoc = doc.split()\n",
        "  for word in worddoc:\n",
        "    if word not in words_set:\n",
        "      words_set.add(word)\n",
        "     \n",
        "print('Number of words in the corpus:',len(words_set))"
      ],
      "metadata": {
        "colab": {
          "base_uri": "https://localhost:8080/"
        },
        "id": "UqfMR5MN6S_y",
        "outputId": "82e2546c-5898-4ae2-c3e8-e03d487fcb44"
      },
      "execution_count": null,
      "outputs": [
        {
          "output_type": "stream",
          "name": "stdout",
          "text": [
            "Number of words in the corpus: 9045\n"
          ]
        }
      ]
    },
    {
      "cell_type": "code",
      "source": [
        "words = []\n",
        "freqOfWords = []\n",
        "\n",
        "for doc in second_df[\"facts\"]:\n",
        "  worddoc = doc.split()\n",
        "  for word in worddoc:\n",
        "    if word not in words:\n",
        "      words.append(word)\n",
        "      freqOfWords.append(1)\n",
        "    else:\n",
        "      idx = words.index(word)\n",
        "      freqOfWords[idx] = freqOfWords[idx] + 1"
      ],
      "metadata": {
        "id": "i9QYC-tvanfg"
      },
      "execution_count": null,
      "outputs": []
    },
    {
      "cell_type": "code",
      "source": [
        "d = {'words': words, 'frequency': freqOfWords}\n",
        "freqWordDf = pd.DataFrame(data=d)\n",
        "freqWordDf = freqWordDf.sort_values(by=['frequency'])"
      ],
      "metadata": {
        "id": "5vN1YM-AauH5"
      },
      "execution_count": null,
      "outputs": []
    },
    {
      "cell_type": "code",
      "source": [
        "plt.bar(freqWordDf.tail(15)[\"words\"], freqWordDf.tail(15)[\"frequency\"])\n",
        "plt.xticks(freqWordDf.tail(15)[\"words\"])\n",
        "plt.title(\"Most 15 frequent words\")\n",
        "plt.ylabel('Frequency of the word')\n",
        "plt.xticks(rotation = 90) \n",
        "plt.savefig(\"MostFrequentWordsInTheSecondDataset.png\", dpi=1200)\n",
        "plt.show()"
      ],
      "metadata": {
        "colab": {
          "base_uri": "https://localhost:8080/",
          "height": 261
        },
        "id": "ZWz9e4LMa0ls",
        "outputId": "20005f88-f87b-492e-ed73-e7f8bf8aa2de"
      },
      "execution_count": null,
      "outputs": [
        {
          "output_type": "display_data",
          "data": {
            "text/plain": [
              "<Figure size 576x252 with 1 Axes>"
            ],
            "image/png": "[encoded data removed]"
          },
          "metadata": {
            "needs_background": "light"
          }
        }
      ]
    },
    {
      "cell_type": "code",
      "source": [
        "second_df.reset_index(drop = True, inplace=True)"
      ],
      "metadata": {
        "id": "OQD0jcU2dSzy"
      },
      "execution_count": null,
      "outputs": []
    },
    {
      "cell_type": "code",
      "source": [
        "second_df.isna().sum()"
      ],
      "metadata": {
        "colab": {
          "base_uri": "https://localhost:8080/"
        },
        "id": "MsvPouQU-qaU",
        "outputId": "e7b79b52-7f08-4846-c2e0-167a19a993be"
      },
      "execution_count": null,
      "outputs": [
        {
          "output_type": "execute_result",
          "data": {
            "text/plain": [
              "facts                 0\n",
              "first_party_winner    0\n",
              "dtype: int64"
            ]
          },
          "metadata": {},
          "execution_count": 50
        }
      ]
    },
    {
      "cell_type": "code",
      "source": [
        "words = []\n",
        "targetVar = []\n",
        "onesList = []\n",
        "for row in range(0, len(second_df[\"facts\"])):\n",
        "  worddoc = second_df[\"facts\"][row].split()\n",
        "  for word in worddoc:\n",
        "    words.append(word)\n",
        "    targetVar.append(second_df[\"first_party_winner\"][row]) \n",
        "    onesList.append(1)"
      ],
      "metadata": {
        "id": "HUnFyHYZa0gG"
      },
      "execution_count": null,
      "outputs": []
    },
    {
      "cell_type": "code",
      "source": [
        "d = {'words': words, 'first_party_winner': targetVar, \"listOfOnes\": onesList}\n",
        "freqDf = pd.DataFrame(data=d)"
      ],
      "metadata": {
        "id": "caOp73v0auEl"
      },
      "execution_count": null,
      "outputs": []
    },
    {
      "cell_type": "code",
      "source": [
        "countFreqDf = freqDf.groupby([\"first_party_winner\", \"words\"], as_index=False, sort=True)[\"listOfOnes\"].count()"
      ],
      "metadata": {
        "id": "Ab6475VQauBC"
      },
      "execution_count": null,
      "outputs": []
    },
    {
      "cell_type": "code",
      "source": [
        "countFreqDfZeros = countFreqDf[countFreqDf['first_party_winner'].isin([0])].sort_values(by=['listOfOnes'])\n",
        "countFreqDfZeros[countFreqDfZeros[\"listOfOnes\"].isin([1])].count()"
      ],
      "metadata": {
        "colab": {
          "base_uri": "https://localhost:8080/"
        },
        "id": "SYMM0pM2bEpi",
        "outputId": "dbe457a2-db81-4c6d-94e8-fbba2c5aab35"
      },
      "execution_count": null,
      "outputs": [
        {
          "output_type": "execute_result",
          "data": {
            "text/plain": [
              "first_party_winner    1251\n",
              "words                 1251\n",
              "listOfOnes            1251\n",
              "dtype: int64"
            ]
          },
          "metadata": {},
          "execution_count": 54
        }
      ]
    },
    {
      "cell_type": "code",
      "source": [
        "countFreqDfOnes = countFreqDf[countFreqDf['first_party_winner'].isin([1])].sort_values(by=['listOfOnes'])\n",
        "countFreqDfOnes[countFreqDfOnes[\"listOfOnes\"].isin([1])].count()"
      ],
      "metadata": {
        "colab": {
          "base_uri": "https://localhost:8080/"
        },
        "id": "MIR7BTv_bHjH",
        "outputId": "54ce8a9a-9675-4f8e-8c2d-8e7fcb42c3e2"
      },
      "execution_count": null,
      "outputs": [
        {
          "output_type": "execute_result",
          "data": {
            "text/plain": [
              "first_party_winner    1184\n",
              "words                 1184\n",
              "listOfOnes            1184\n",
              "dtype: int64"
            ]
          },
          "metadata": {},
          "execution_count": 55
        }
      ]
    },
    {
      "cell_type": "code",
      "source": [
        "fig, axes = plt.subplots(nrows=1, ncols=2, figsize=(10, 4))\n",
        "\n",
        "axes[0].bar(countFreqDfOnes.tail(15)[\"words\"], countFreqDfOnes.tail(15)[\"listOfOnes\"])\n",
        "axes[0].title.set_text(\"Most 15 frequent words in the cases won\")\n",
        "axes[0].set_xticklabels(countFreqDfOnes.tail(15)[\"words\"], rotation=90)\n",
        "axes[0].set_ylabel('Frequency of the word')\n",
        "\n",
        "axes[1].bar(countFreqDfZeros.tail(15)[\"words\"], countFreqDfZeros.tail(15)[\"listOfOnes\"], color='orange')\n",
        "axes[1].title.set_text(\"Most 15 frequent words in the lost cases\")\n",
        "axes[1].set_xticklabels(countFreqDfZeros.tail(15)[\"words\"], rotation=90)\n",
        "\n",
        "fig.savefig('MostFrequentWordsForEachCategoryFromTheSecondDataset.png', dpi=300)\n",
        "fig.show()"
      ],
      "metadata": {
        "colab": {
          "base_uri": "https://localhost:8080/",
          "height": 297
        },
        "id": "-lIRgmsKbEcw",
        "outputId": "73086474-de53-434f-a07e-6d1c55ab016a"
      },
      "execution_count": null,
      "outputs": [
        {
          "output_type": "display_data",
          "data": {
            "text/plain": [
              "<Figure size 720x288 with 2 Axes>"
            ],
            "image/png": "[encoded data removed]"
          },
          "metadata": {
            "needs_background": "light"
          }
        }
      ]
    },
    {
      "cell_type": "code",
      "execution_count": null,
      "metadata": {
        "id": "VT-asE9aRmdo"
      },
      "outputs": [],
      "source": [
        "df_withNA = df_withNA[[\"facts\", \"first_party_winner\"]]"
      ]
    },
    {
      "cell_type": "code",
      "execution_count": null,
      "metadata": {
        "id": "EknOrBxeTAGl"
      },
      "outputs": [],
      "source": [
        "df_toPredict = pd.concat([df_withNA, second_df])\n",
        "df_toPredict = df_toPredict.reset_index(drop=True)"
      ]
    },
    {
      "cell_type": "code",
      "source": [
        "df_toPredict"
      ],
      "metadata": {
        "colab": {
          "base_uri": "https://localhost:8080/",
          "height": 424
        },
        "id": "a26HySw1dv40",
        "outputId": "1af7b740-f917-4afb-ce0b-fb20254d62c9"
      },
      "execution_count": null,
      "outputs": [
        {
          "output_type": "execute_result",
          "data": {
            "text/plain": [
              "                                                  facts  first_party_winner\n",
              "0     jane roe fictional name use court document pro...                   1\n",
              "1     wiley residents mobile alabama bring class act...                   1\n",
              "2     county los angeles impose ad valorem tax manuf...                   0\n",
              "3     island artificial island coast ventura county ...                   1\n",
              "4     president jimmy carter act without congression...                   0\n",
              "...                                                 ...                 ...\n",
              "3120  fair labor standards act violations violations...                   1\n",
              "3121  guidelines regularly test user accessibility b...                   0\n",
              "3122  action bring class action plaintiff bring acti...                   1\n",
              "3123  discovery may reveal transmission additional f...                   0\n",
              "3124  research develop produce supply sell generic p...                   1\n",
              "\n",
              "[3125 rows x 2 columns]"
            ],
            "text/html": [
              "\n",
              "  <div id=\"df-454cc732-24c2-49aa-9bba-88805a6af27a\">\n",
              "    <div class=\"colab-df-container\">\n",
              "      <div>\n",
              "<style scoped>\n",
              "    .dataframe tbody tr th:only-of-type {\n",
              "        vertical-align: middle;\n",
              "    }\n",
              "\n",
              "    .dataframe tbody tr th {\n",
              "        vertical-align: top;\n",
              "    }\n",
              "\n",
              "    .dataframe thead th {\n",
              "        text-align: right;\n",
              "    }\n",
              "</style>\n",
              "<table border=\"1\" class=\"dataframe\">\n",
              "  <thead>\n",
              "    <tr style=\"text-align: right;\">\n",
              "      <th></th>\n",
              "      <th>facts</th>\n",
              "      <th>first_party_winner</th>\n",
              "    </tr>\n",
              "  </thead>\n",
              "  <tbody>\n",
              "    <tr>\n",
              "      <th>0</th>\n",
              "      <td>jane roe fictional name use court document pro...</td>\n",
              "      <td>1</td>\n",
              "    </tr>\n",
              "    <tr>\n",
              "      <th>1</th>\n",
              "      <td>wiley residents mobile alabama bring class act...</td>\n",
              "      <td>1</td>\n",
              "    </tr>\n",
              "    <tr>\n",
              "      <th>2</th>\n",
              "      <td>county los angeles impose ad valorem tax manuf...</td>\n",
              "      <td>0</td>\n",
              "    </tr>\n",
              "    <tr>\n",
              "      <th>3</th>\n",
              "      <td>island artificial island coast ventura county ...</td>\n",
              "      <td>1</td>\n",
              "    </tr>\n",
              "    <tr>\n",
              "      <th>4</th>\n",
              "      <td>president jimmy carter act without congression...</td>\n",
              "      <td>0</td>\n",
              "    </tr>\n",
              "    <tr>\n",
              "      <th>...</th>\n",
              "      <td>...</td>\n",
              "      <td>...</td>\n",
              "    </tr>\n",
              "    <tr>\n",
              "      <th>3120</th>\n",
              "      <td>fair labor standards act violations violations...</td>\n",
              "      <td>1</td>\n",
              "    </tr>\n",
              "    <tr>\n",
              "      <th>3121</th>\n",
              "      <td>guidelines regularly test user accessibility b...</td>\n",
              "      <td>0</td>\n",
              "    </tr>\n",
              "    <tr>\n",
              "      <th>3122</th>\n",
              "      <td>action bring class action plaintiff bring acti...</td>\n",
              "      <td>1</td>\n",
              "    </tr>\n",
              "    <tr>\n",
              "      <th>3123</th>\n",
              "      <td>discovery may reveal transmission additional f...</td>\n",
              "      <td>0</td>\n",
              "    </tr>\n",
              "    <tr>\n",
              "      <th>3124</th>\n",
              "      <td>research develop produce supply sell generic p...</td>\n",
              "      <td>1</td>\n",
              "    </tr>\n",
              "  </tbody>\n",
              "</table>\n",
              "<p>3125 rows × 2 columns</p>\n",
              "</div>\n",
              "      <button class=\"colab-df-convert\" onclick=\"convertToInteractive('df-454cc732-24c2-49aa-9bba-88805a6af27a')\"\n",
              "              title=\"Convert this dataframe to an interactive table.\"\n",
              "              style=\"display:none;\">\n",
              "        \n",
              "  <svg xmlns=\"http://www.w3.org/2000/svg\" height=\"24px\"viewBox=\"0 0 24 24\"\n",
              "       width=\"24px\">\n",
              "    <path d=\"M0 0h24v24H0V0z\" fill=\"none\"/>\n",
              "    <path d=\"M18.56 5.44l.94 2.06.94-2.06 2.06-.94-2.06-.94-.94-2.06-.94 2.06-2.06.94zm-11 1L8.5 8.5l.94-2.06 2.06-.94-2.06-.94L8.5 2.5l-.94 2.06-2.06.94zm10 10l.94 2.06.94-2.06 2.06-.94-2.06-.94-.94-2.06-.94 2.06-2.06.94z\"/><path d=\"M17.41 7.96l-1.37-1.37c-.4-.4-.92-.59-1.43-.59-.52 0-1.04.2-1.43.59L10.3 9.45l-7.72 7.72c-.78.78-.78 2.05 0 2.83L4 21.41c.39.39.9.59 1.41.59.51 0 1.02-.2 1.41-.59l7.78-7.78 2.81-2.81c.8-.78.8-2.07 0-2.86zM5.41 20L4 18.59l7.72-7.72 1.47 1.35L5.41 20z\"/>\n",
              "  </svg>\n",
              "      </button>\n",
              "      \n",
              "  <style>\n",
              "    .colab-df-container {\n",
              "      display:flex;\n",
              "      flex-wrap:wrap;\n",
              "      gap: 12px;\n",
              "    }\n",
              "\n",
              "    .colab-df-convert {\n",
              "      background-color: #E8F0FE;\n",
              "      border: none;\n",
              "      border-radius: 50%;\n",
              "      cursor: pointer;\n",
              "      display: none;\n",
              "      fill: #1967D2;\n",
              "      height: 32px;\n",
              "      padding: 0 0 0 0;\n",
              "      width: 32px;\n",
              "    }\n",
              "\n",
              "    .colab-df-convert:hover {\n",
              "      background-color: #E2EBFA;\n",
              "      box-shadow: 0px 1px 2px rgba(60, 64, 67, 0.3), 0px 1px 3px 1px rgba(60, 64, 67, 0.15);\n",
              "      fill: #174EA6;\n",
              "    }\n",
              "\n",
              "    [theme=dark] .colab-df-convert {\n",
              "      background-color: #3B4455;\n",
              "      fill: #D2E3FC;\n",
              "    }\n",
              "\n",
              "    [theme=dark] .colab-df-convert:hover {\n",
              "      background-color: #434B5C;\n",
              "      box-shadow: 0px 1px 3px 1px rgba(0, 0, 0, 0.15);\n",
              "      filter: drop-shadow(0px 1px 2px rgba(0, 0, 0, 0.3));\n",
              "      fill: #FFFFFF;\n",
              "    }\n",
              "  </style>\n",
              "\n",
              "      <script>\n",
              "        const buttonEl =\n",
              "          document.querySelector('#df-454cc732-24c2-49aa-9bba-88805a6af27a button.colab-df-convert');\n",
              "        buttonEl.style.display =\n",
              "          google.colab.kernel.accessAllowed ? 'block' : 'none';\n",
              "\n",
              "        async function convertToInteractive(key) {\n",
              "          const element = document.querySelector('#df-454cc732-24c2-49aa-9bba-88805a6af27a');\n",
              "          const dataTable =\n",
              "            await google.colab.kernel.invokeFunction('convertToInteractive',\n",
              "                                                     [key], {});\n",
              "          if (!dataTable) return;\n",
              "\n",
              "          const docLinkHtml = 'Like what you see? Visit the ' +\n",
              "            '<a target=\"_blank\" href=https://colab.research.google.com/notebooks/data_table.ipynb>data table notebook</a>'\n",
              "            + ' to learn more about interactive tables.';\n",
              "          element.innerHTML = '';\n",
              "          dataTable['output_type'] = 'display_data';\n",
              "          await google.colab.output.renderOutput(dataTable, element);\n",
              "          const docLink = document.createElement('div');\n",
              "          docLink.innerHTML = docLinkHtml;\n",
              "          element.appendChild(docLink);\n",
              "        }\n",
              "      </script>\n",
              "    </div>\n",
              "  </div>\n",
              "  "
            ]
          },
          "metadata": {},
          "execution_count": 59
        }
      ]
    },
    {
      "cell_type": "code",
      "execution_count": null,
      "metadata": {
        "id": "ySJONMLEUmj8"
      },
      "outputs": [],
      "source": [
        "X = df_withoutNA.facts\n",
        "y = df_withoutNA.issue_area\n",
        "X_train, X_test, y_train, y_test = train_test_split(X, y, test_size=0.3, random_state = 42)"
      ]
    },
    {
      "cell_type": "code",
      "source": [],
      "metadata": {
        "id": "FMcv9V4r8f9g"
      },
      "execution_count": null,
      "outputs": []
    },
    {
      "cell_type": "code",
      "execution_count": null,
      "metadata": {
        "id": "kbB7FSbmUZbo"
      },
      "outputs": [],
      "source": [
        "from sklearn.linear_model import LogisticRegression\n",
        "from sklearn.pipeline import Pipeline\n",
        "from sklearn.feature_extraction.text import TfidfTransformer\n",
        "\n",
        "pie = Pipeline([('vect', CountVectorizer(ngram_range=(1, 2))),\n",
        "                ('tfidf', TfidfTransformer()),\n",
        "               ])"
      ]
    },
    {
      "cell_type": "code",
      "source": [
        "logreg = LogisticRegression(n_jobs=1, solver='lbfgs', max_iter=100000)"
      ],
      "metadata": {
        "id": "Q_s24fmA51Yj"
      },
      "execution_count": null,
      "outputs": []
    },
    {
      "cell_type": "code",
      "execution_count": null,
      "metadata": {
        "colab": {
          "base_uri": "https://localhost:8080/"
        },
        "id": "z1eTk9pKSkro",
        "outputId": "ec3a066a-4669-43aa-972e-881abbcfe3d4"
      },
      "outputs": [
        {
          "output_type": "execute_result",
          "data": {
            "text/plain": [
              "dict_keys(['memory', 'steps', 'verbose', 'vect', 'tfidf', 'logistic', 'vect__analyzer', 'vect__binary', 'vect__decode_error', 'vect__dtype', 'vect__encoding', 'vect__input', 'vect__lowercase', 'vect__max_df', 'vect__max_features', 'vect__min_df', 'vect__ngram_range', 'vect__preprocessor', 'vect__stop_words', 'vect__strip_accents', 'vect__token_pattern', 'vect__tokenizer', 'vect__vocabulary', 'tfidf__norm', 'tfidf__smooth_idf', 'tfidf__sublinear_tf', 'tfidf__use_idf', 'logistic__C', 'logistic__class_weight', 'logistic__dual', 'logistic__fit_intercept', 'logistic__intercept_scaling', 'logistic__l1_ratio', 'logistic__max_iter', 'logistic__multi_class', 'logistic__n_jobs', 'logistic__penalty', 'logistic__random_state', 'logistic__solver', 'logistic__tol', 'logistic__verbose', 'logistic__warm_start'])"
            ]
          },
          "metadata": {},
          "execution_count": 81
        }
      ],
      "source": [
        "logreg.get_params().keys()"
      ]
    },
    {
      "cell_type": "code",
      "execution_count": null,
      "metadata": {
        "id": "oCmlPGOJAmnb"
      },
      "outputs": [],
      "source": [
        "params={'logistic__C':[1e4, 1e5, 1e6],\n",
        "        'logistic__penalty' : ['none', 'l2']}"
      ]
    },
    {
      "cell_type": "code",
      "source": [
        "feature_names = logreg.named_steps[\"logistic\"].get_feature_names()"
      ],
      "metadata": {
        "colab": {
          "base_uri": "https://localhost:8080/",
          "height": 169
        },
        "id": "hLUcKaAZhgZ-",
        "outputId": "7dc07374-de75-4fea-f5b0-9ff4d7552a00"
      },
      "execution_count": null,
      "outputs": [
        {
          "output_type": "error",
          "ename": "AttributeError",
          "evalue": "ignored",
          "traceback": [
            "\u001b[0;31m---------------------------------------------------------------------------\u001b[0m",
            "\u001b[0;31mAttributeError\u001b[0m                            Traceback (most recent call last)",
            "\u001b[0;32m<ipython-input-87-e3677ea121af>\u001b[0m in \u001b[0;36m<module>\u001b[0;34m\u001b[0m\n\u001b[0;32m----> 1\u001b[0;31m \u001b[0mfeature_names\u001b[0m \u001b[0;34m=\u001b[0m \u001b[0mlogreg\u001b[0m\u001b[0;34m.\u001b[0m\u001b[0mnamed_steps\u001b[0m\u001b[0;34m[\u001b[0m\u001b[0;34m\"logistic\"\u001b[0m\u001b[0;34m]\u001b[0m\u001b[0;34m.\u001b[0m\u001b[0mget_feature_names\u001b[0m\u001b[0;34m(\u001b[0m\u001b[0;34m)\u001b[0m\u001b[0;34m\u001b[0m\u001b[0;34m\u001b[0m\u001b[0m\n\u001b[0m",
            "\u001b[0;31mAttributeError\u001b[0m: 'LogisticRegression' object has no attribute 'get_feature_names'"
          ]
        }
      ]
    },
    {
      "cell_type": "code",
      "source": [
        "(pd.Series(logreg.feature_importances_, index=X_train.columns).nlargest(10).plot(kind='barh')) "
      ],
      "metadata": {
        "colab": {
          "base_uri": "https://localhost:8080/",
          "height": 169
        },
        "id": "MOOTOtkDgO1n",
        "outputId": "3e008709-423d-452a-cd26-e395c24a441f"
      },
      "execution_count": null,
      "outputs": [
        {
          "output_type": "error",
          "ename": "AttributeError",
          "evalue": "ignored",
          "traceback": [
            "\u001b[0;31m---------------------------------------------------------------------------\u001b[0m",
            "\u001b[0;31mAttributeError\u001b[0m                            Traceback (most recent call last)",
            "\u001b[0;32m<ipython-input-86-14c880ae85fa>\u001b[0m in \u001b[0;36m<module>\u001b[0;34m\u001b[0m\n\u001b[0;32m----> 1\u001b[0;31m \u001b[0;34m(\u001b[0m\u001b[0mpd\u001b[0m\u001b[0;34m.\u001b[0m\u001b[0mSeries\u001b[0m\u001b[0;34m(\u001b[0m\u001b[0mlogreg\u001b[0m\u001b[0;34m.\u001b[0m\u001b[0mfeature_importances_\u001b[0m\u001b[0;34m,\u001b[0m \u001b[0mindex\u001b[0m\u001b[0;34m=\u001b[0m\u001b[0mX_train\u001b[0m\u001b[0;34m.\u001b[0m\u001b[0mcolumns\u001b[0m\u001b[0;34m)\u001b[0m\u001b[0;34m.\u001b[0m\u001b[0mnlargest\u001b[0m\u001b[0;34m(\u001b[0m\u001b[0;36m10\u001b[0m\u001b[0;34m)\u001b[0m\u001b[0;34m.\u001b[0m\u001b[0mplot\u001b[0m\u001b[0;34m(\u001b[0m\u001b[0mkind\u001b[0m\u001b[0;34m=\u001b[0m\u001b[0;34m'barh'\u001b[0m\u001b[0;34m)\u001b[0m\u001b[0;34m)\u001b[0m\u001b[0;34m\u001b[0m\u001b[0;34m\u001b[0m\u001b[0m\n\u001b[0m",
            "\u001b[0;31mAttributeError\u001b[0m: 'Pipeline' object has no attribute 'feature_importances_'"
          ]
        }
      ]
    },
    {
      "cell_type": "code",
      "execution_count": null,
      "metadata": {
        "id": "qrnC5IngJ3yp"
      },
      "outputs": [],
      "source": [
        "from sklearn.experimental import enable_halving_search_cv \n",
        "from sklearn.model_selection import HalvingGridSearchCV\n",
        "grid = HalvingGridSearchCV(logreg, cv=5, n_jobs=-1, param_grid=params)"
      ]
    },
    {
      "cell_type": "code",
      "execution_count": null,
      "metadata": {
        "colab": {
          "base_uri": "https://localhost:8080/"
        },
        "id": "oJ4ZF03fSC7j",
        "outputId": "6dddab7d-19fc-4c23-dd19-aae785a9572a"
      },
      "outputs": [
        {
          "output_type": "execute_result",
          "data": {
            "text/plain": [
              "HalvingGridSearchCV(estimator=Pipeline(steps=[('vect',\n",
              "                                               CountVectorizer(ngram_range=(1,\n",
              "                                                                            2))),\n",
              "                                              ('tfidf', TfidfTransformer()),\n",
              "                                              ('logistic',\n",
              "                                               LogisticRegression(max_iter=100000,\n",
              "                                                                  n_jobs=1))]),\n",
              "                    n_jobs=-1,\n",
              "                    param_grid={'logistic__C': [10000.0, 100000.0, 1000000.0],\n",
              "                                'logistic__penalty': ['none', 'l2']})"
            ]
          },
          "metadata": {},
          "execution_count": 84
        }
      ],
      "source": [
        "grid.fit(X_train, y_train)"
      ]
    },
    {
      "cell_type": "code",
      "execution_count": null,
      "metadata": {
        "colab": {
          "base_uri": "https://localhost:8080/"
        },
        "id": "FuJTa8UfSYzc",
        "outputId": "5c02407e-1c0d-488a-901a-46847d34d919"
      },
      "outputs": [
        {
          "output_type": "stream",
          "name": "stdout",
          "text": [
            "Best parameter (CV score=0.713):\n"
          ]
        }
      ],
      "source": [
        "print(\"Best parameter (CV score=%0.3f):\" % grid.best_score_)"
      ]
    },
    {
      "cell_type": "code",
      "source": [
        "%%time\n",
        "from sklearn.metrics import classification_report\n",
        "y_pred = grid.predict(X_test)"
      ],
      "metadata": {
        "colab": {
          "base_uri": "https://localhost:8080/"
        },
        "id": "I18QoOdmGdDB",
        "outputId": "c407174a-6a95-401e-f111-351e4c52f50e"
      },
      "execution_count": null,
      "outputs": [
        {
          "output_type": "stream",
          "name": "stdout",
          "text": [
            "CPU times: user 140 ms, sys: 2.52 ms, total: 143 ms\n",
            "Wall time: 145 ms\n"
          ]
        }
      ]
    },
    {
      "cell_type": "code",
      "execution_count": null,
      "metadata": {
        "colab": {
          "base_uri": "https://localhost:8080/"
        },
        "id": "2UFcBUECU1p9",
        "outputId": "7bd25950-428c-4d73-abb2-f8ec767e36ff"
      },
      "outputs": [
        {
          "output_type": "stream",
          "name": "stdout",
          "text": [
            "accuracy 0.7088607594936709\n",
            "                    precision    recall  f1-score   support\n",
            "\n",
            "            Others       0.74      0.77      0.75       108\n",
            " Economic Activity       0.75      0.94      0.84       173\n",
            "Criminal Procedure       0.63      0.69      0.66        98\n",
            "    Judicial Power       0.75      0.79      0.77        71\n",
            "      Civil Rights       0.56      0.30      0.39        81\n",
            "   First Amendment       0.69      0.53      0.60       101\n",
            "\n",
            "          accuracy                           0.71       632\n",
            "         macro avg       0.69      0.67      0.67       632\n",
            "      weighted avg       0.70      0.71      0.69       632\n",
            "\n"
          ]
        }
      ],
      "source": [
        "print('accuracy %s' % accuracy_score(y_pred, y_test))\n",
        "print(classification_report(y_test, y_pred,target_names=my_issue_area))"
      ]
    },
    {
      "cell_type": "code",
      "source": [
        "%%time\n",
        "from sklearn.metrics import classification_report\n",
        "y_pred = grid.predict(df_toPredict[\"facts\"])"
      ],
      "metadata": {
        "colab": {
          "base_uri": "https://localhost:8080/"
        },
        "id": "5tFODi9yKbE9",
        "outputId": "82956bed-b51a-4c28-dee4-e88623e5f034"
      },
      "execution_count": null,
      "outputs": [
        {
          "output_type": "stream",
          "name": "stdout",
          "text": [
            "CPU times: user 3.55 s, sys: 30.8 ms, total: 3.58 s\n",
            "Wall time: 3.6 s\n"
          ]
        }
      ]
    },
    {
      "cell_type": "code",
      "execution_count": null,
      "metadata": {
        "id": "sSGG2GqyW2CH"
      },
      "outputs": [],
      "source": [
        "y_pred_df = pd.DataFrame({\"issue_area\": y_pred})"
      ]
    },
    {
      "cell_type": "code",
      "execution_count": null,
      "metadata": {
        "id": "cXrLxRVcVloH"
      },
      "outputs": [],
      "source": [
        "df_toPredict = pd.concat([df_toPredict, y_pred_df], axis = 1)\n",
        "df_toPredict = df_toPredict[[\"facts\", \"issue_area\", \"first_party_winner\"]]"
      ]
    },
    {
      "cell_type": "code",
      "execution_count": null,
      "metadata": {
        "id": "LfsYiSWOXrwe"
      },
      "outputs": [],
      "source": [
        "big_df = pd.concat([df_withoutNA, df_toPredict])\n",
        "big_df = big_df.reset_index(drop=True)"
      ]
    },
    {
      "cell_type": "code",
      "execution_count": null,
      "metadata": {
        "colab": {
          "base_uri": "https://localhost:8080/",
          "height": 424
        },
        "id": "fDNnMUk7X3HI",
        "outputId": "10ca463c-b867-480a-9cb5-36f3c8ac4d52"
      },
      "outputs": [
        {
          "output_type": "execute_result",
          "data": {
            "text/plain": [
              "                                                  facts         issue_area  \\\n",
              "0     joan stanley three children peter stanley stan...       Civil Rights   \n",
              "1     john giglio convict pass forge money order app...             Others   \n",
              "2     idaho probate code specify males must prefer f...       Civil Rights   \n",
              "3     miller conduct mass mail campaign advertise sa...    First Amendment   \n",
              "4     ernest mandel belgian professional journalist ...    First Amendment   \n",
              "...                                                 ...                ...   \n",
              "6279  fair labor standards act violations violations...             Others   \n",
              "6280  guidelines regularly test user accessibility b...       Civil Rights   \n",
              "6281  action bring class action plaintiff bring acti...     Judicial Power   \n",
              "6282  discovery may reveal transmission additional f...     Judicial Power   \n",
              "6283  research develop produce supply sell generic p...  Economic Activity   \n",
              "\n",
              "      first_party_winner  \n",
              "0                      1  \n",
              "1                      1  \n",
              "2                      1  \n",
              "3                      1  \n",
              "4                      1  \n",
              "...                  ...  \n",
              "6279                   1  \n",
              "6280                   0  \n",
              "6281                   1  \n",
              "6282                   0  \n",
              "6283                   1  \n",
              "\n",
              "[6284 rows x 3 columns]"
            ],
            "text/html": [
              "\n",
              "  <div id=\"df-4c21a186-0eac-497d-a625-3a3755be6159\">\n",
              "    <div class=\"colab-df-container\">\n",
              "      <div>\n",
              "<style scoped>\n",
              "    .dataframe tbody tr th:only-of-type {\n",
              "        vertical-align: middle;\n",
              "    }\n",
              "\n",
              "    .dataframe tbody tr th {\n",
              "        vertical-align: top;\n",
              "    }\n",
              "\n",
              "    .dataframe thead th {\n",
              "        text-align: right;\n",
              "    }\n",
              "</style>\n",
              "<table border=\"1\" class=\"dataframe\">\n",
              "  <thead>\n",
              "    <tr style=\"text-align: right;\">\n",
              "      <th></th>\n",
              "      <th>facts</th>\n",
              "      <th>issue_area</th>\n",
              "      <th>first_party_winner</th>\n",
              "    </tr>\n",
              "  </thead>\n",
              "  <tbody>\n",
              "    <tr>\n",
              "      <th>0</th>\n",
              "      <td>joan stanley three children peter stanley stan...</td>\n",
              "      <td>Civil Rights</td>\n",
              "      <td>1</td>\n",
              "    </tr>\n",
              "    <tr>\n",
              "      <th>1</th>\n",
              "      <td>john giglio convict pass forge money order app...</td>\n",
              "      <td>Others</td>\n",
              "      <td>1</td>\n",
              "    </tr>\n",
              "    <tr>\n",
              "      <th>2</th>\n",
              "      <td>idaho probate code specify males must prefer f...</td>\n",
              "      <td>Civil Rights</td>\n",
              "      <td>1</td>\n",
              "    </tr>\n",
              "    <tr>\n",
              "      <th>3</th>\n",
              "      <td>miller conduct mass mail campaign advertise sa...</td>\n",
              "      <td>First Amendment</td>\n",
              "      <td>1</td>\n",
              "    </tr>\n",
              "    <tr>\n",
              "      <th>4</th>\n",
              "      <td>ernest mandel belgian professional journalist ...</td>\n",
              "      <td>First Amendment</td>\n",
              "      <td>1</td>\n",
              "    </tr>\n",
              "    <tr>\n",
              "      <th>...</th>\n",
              "      <td>...</td>\n",
              "      <td>...</td>\n",
              "      <td>...</td>\n",
              "    </tr>\n",
              "    <tr>\n",
              "      <th>6279</th>\n",
              "      <td>fair labor standards act violations violations...</td>\n",
              "      <td>Others</td>\n",
              "      <td>1</td>\n",
              "    </tr>\n",
              "    <tr>\n",
              "      <th>6280</th>\n",
              "      <td>guidelines regularly test user accessibility b...</td>\n",
              "      <td>Civil Rights</td>\n",
              "      <td>0</td>\n",
              "    </tr>\n",
              "    <tr>\n",
              "      <th>6281</th>\n",
              "      <td>action bring class action plaintiff bring acti...</td>\n",
              "      <td>Judicial Power</td>\n",
              "      <td>1</td>\n",
              "    </tr>\n",
              "    <tr>\n",
              "      <th>6282</th>\n",
              "      <td>discovery may reveal transmission additional f...</td>\n",
              "      <td>Judicial Power</td>\n",
              "      <td>0</td>\n",
              "    </tr>\n",
              "    <tr>\n",
              "      <th>6283</th>\n",
              "      <td>research develop produce supply sell generic p...</td>\n",
              "      <td>Economic Activity</td>\n",
              "      <td>1</td>\n",
              "    </tr>\n",
              "  </tbody>\n",
              "</table>\n",
              "<p>6284 rows × 3 columns</p>\n",
              "</div>\n",
              "      <button class=\"colab-df-convert\" onclick=\"convertToInteractive('df-4c21a186-0eac-497d-a625-3a3755be6159')\"\n",
              "              title=\"Convert this dataframe to an interactive table.\"\n",
              "              style=\"display:none;\">\n",
              "        \n",
              "  <svg xmlns=\"http://www.w3.org/2000/svg\" height=\"24px\"viewBox=\"0 0 24 24\"\n",
              "       width=\"24px\">\n",
              "    <path d=\"M0 0h24v24H0V0z\" fill=\"none\"/>\n",
              "    <path d=\"M18.56 5.44l.94 2.06.94-2.06 2.06-.94-2.06-.94-.94-2.06-.94 2.06-2.06.94zm-11 1L8.5 8.5l.94-2.06 2.06-.94-2.06-.94L8.5 2.5l-.94 2.06-2.06.94zm10 10l.94 2.06.94-2.06 2.06-.94-2.06-.94-.94-2.06-.94 2.06-2.06.94z\"/><path d=\"M17.41 7.96l-1.37-1.37c-.4-.4-.92-.59-1.43-.59-.52 0-1.04.2-1.43.59L10.3 9.45l-7.72 7.72c-.78.78-.78 2.05 0 2.83L4 21.41c.39.39.9.59 1.41.59.51 0 1.02-.2 1.41-.59l7.78-7.78 2.81-2.81c.8-.78.8-2.07 0-2.86zM5.41 20L4 18.59l7.72-7.72 1.47 1.35L5.41 20z\"/>\n",
              "  </svg>\n",
              "      </button>\n",
              "      \n",
              "  <style>\n",
              "    .colab-df-container {\n",
              "      display:flex;\n",
              "      flex-wrap:wrap;\n",
              "      gap: 12px;\n",
              "    }\n",
              "\n",
              "    .colab-df-convert {\n",
              "      background-color: #E8F0FE;\n",
              "      border: none;\n",
              "      border-radius: 50%;\n",
              "      cursor: pointer;\n",
              "      display: none;\n",
              "      fill: #1967D2;\n",
              "      height: 32px;\n",
              "      padding: 0 0 0 0;\n",
              "      width: 32px;\n",
              "    }\n",
              "\n",
              "    .colab-df-convert:hover {\n",
              "      background-color: #E2EBFA;\n",
              "      box-shadow: 0px 1px 2px rgba(60, 64, 67, 0.3), 0px 1px 3px 1px rgba(60, 64, 67, 0.15);\n",
              "      fill: #174EA6;\n",
              "    }\n",
              "\n",
              "    [theme=dark] .colab-df-convert {\n",
              "      background-color: #3B4455;\n",
              "      fill: #D2E3FC;\n",
              "    }\n",
              "\n",
              "    [theme=dark] .colab-df-convert:hover {\n",
              "      background-color: #434B5C;\n",
              "      box-shadow: 0px 1px 3px 1px rgba(0, 0, 0, 0.15);\n",
              "      filter: drop-shadow(0px 1px 2px rgba(0, 0, 0, 0.3));\n",
              "      fill: #FFFFFF;\n",
              "    }\n",
              "  </style>\n",
              "\n",
              "      <script>\n",
              "        const buttonEl =\n",
              "          document.querySelector('#df-4c21a186-0eac-497d-a625-3a3755be6159 button.colab-df-convert');\n",
              "        buttonEl.style.display =\n",
              "          google.colab.kernel.accessAllowed ? 'block' : 'none';\n",
              "\n",
              "        async function convertToInteractive(key) {\n",
              "          const element = document.querySelector('#df-4c21a186-0eac-497d-a625-3a3755be6159');\n",
              "          const dataTable =\n",
              "            await google.colab.kernel.invokeFunction('convertToInteractive',\n",
              "                                                     [key], {});\n",
              "          if (!dataTable) return;\n",
              "\n",
              "          const docLinkHtml = 'Like what you see? Visit the ' +\n",
              "            '<a target=\"_blank\" href=https://colab.research.google.com/notebooks/data_table.ipynb>data table notebook</a>'\n",
              "            + ' to learn more about interactive tables.';\n",
              "          element.innerHTML = '';\n",
              "          dataTable['output_type'] = 'display_data';\n",
              "          await google.colab.output.renderOutput(dataTable, element);\n",
              "          const docLink = document.createElement('div');\n",
              "          docLink.innerHTML = docLinkHtml;\n",
              "          element.appendChild(docLink);\n",
              "        }\n",
              "      </script>\n",
              "    </div>\n",
              "  </div>\n",
              "  "
            ]
          },
          "metadata": {},
          "execution_count": 95
        }
      ],
      "source": [
        "big_df"
      ]
    },
    {
      "cell_type": "code",
      "source": [
        "freqTarget = big_df.groupby([\"issue_area\"], as_index=False, sort=True)[\"facts\"].count()\n",
        "\n",
        "plt.rcParams[\"figure.figsize\"] = [8, 3.50]\n",
        "plt.rcParams[\"figure.autolayout\"] = True\n",
        "plt.bar(freqTarget[\"issue_area\"], freqTarget[\"facts\"])\n",
        "plt.xticks(freqTarget[\"issue_area\"])\n",
        "plt.title(\"Categories of the issue area\")\n",
        "plt.xticks(rotation=90)\n",
        "plt.ylabel('Amount')\n",
        "plt.savefig(\"IssueAreaForBothDatasets.png\", dpi=1200)\n",
        "plt.show()"
      ],
      "metadata": {
        "colab": {
          "base_uri": "https://localhost:8080/",
          "height": 261
        },
        "id": "zUqEkwu2kc-e",
        "outputId": "a53b9444-e5c8-4e04-c862-9c790e91d56e"
      },
      "execution_count": null,
      "outputs": [
        {
          "output_type": "display_data",
          "data": {
            "text/plain": [
              "<Figure size 576x252 with 1 Axes>"
            ],
            "image/png": "[encoded data removed]"
          },
          "metadata": {
            "needs_background": "light"
          }
        }
      ]
    },
    {
      "cell_type": "markdown",
      "metadata": {
        "id": "GqWh0DVlYFPF"
      },
      "source": [
        "# One Hot Encoding\n"
      ]
    },
    {
      "cell_type": "code",
      "execution_count": null,
      "metadata": {
        "id": "9DGOdJW6YcPH"
      },
      "outputs": [],
      "source": [
        "from sklearn.preprocessing import OneHotEncoder"
      ]
    },
    {
      "cell_type": "code",
      "execution_count": null,
      "metadata": {
        "id": "_S5hn4B4gYEM"
      },
      "outputs": [],
      "source": [
        "encoder = OneHotEncoder(handle_unknown='ignore')"
      ]
    },
    {
      "cell_type": "code",
      "execution_count": null,
      "metadata": {
        "id": "9o9VBwSBlZcY"
      },
      "outputs": [],
      "source": [
        "encoder_df = pd.DataFrame(encoder.fit_transform(big_df[['issue_area']]).toarray())"
      ]
    },
    {
      "cell_type": "code",
      "execution_count": null,
      "metadata": {
        "id": "f4JMEYHLm4DS"
      },
      "outputs": [],
      "source": [
        "encoder_df.columns = ['Civil Rights', 'Criminal Procedure', 'Economic Activity',\n",
        "                      'First Amendment', 'Judicial Power', 'Others']"
      ]
    },
    {
      "cell_type": "code",
      "execution_count": null,
      "metadata": {
        "id": "cR3HjWccokE4"
      },
      "outputs": [],
      "source": [
        "big_df = big_df.join(encoder_df)\n",
        "big_df.drop('issue_area', axis=1, inplace=True)"
      ]
    },
    {
      "cell_type": "code",
      "execution_count": null,
      "metadata": {
        "id": "6luVZx9spQem"
      },
      "outputs": [],
      "source": [
        "big_df[['Civil Rights', 'Criminal Procedure', 'Economic Activity',\n",
        "                      'First Amendment', 'Judicial Power', 'Others']] = big_df[['Civil Rights', 'Criminal Procedure', 'Economic Activity',\n",
        "                      'First Amendment', 'Judicial Power', 'Others']].astype(int)"
      ]
    },
    {
      "cell_type": "code",
      "execution_count": null,
      "metadata": {
        "id": "jV4ny660p4uX"
      },
      "outputs": [],
      "source": [
        "big_df = big_df[[\"facts\", 'Civil Rights', 'Criminal Procedure', 'Economic Activity',\n",
        "                      'First Amendment', 'Judicial Power', 'Others', \"first_party_winner\"]]"
      ]
    },
    {
      "cell_type": "code",
      "execution_count": null,
      "metadata": {
        "colab": {
          "base_uri": "https://localhost:8080/"
        },
        "id": "JWn2efUwqWJp",
        "outputId": "47da4d67-a960-4f01-85a1-d52555ea09b5"
      },
      "outputs": [
        {
          "output_type": "execute_result",
          "data": {
            "text/plain": [
              "                                                  facts  Civil Rights  \\\n",
              "0     joan stanley three children peter stanley stan...             1   \n",
              "1     john giglio convict pass forge money order app...             0   \n",
              "2     idaho probate code specify males must prefer f...             1   \n",
              "3     miller conduct mass mail campaign advertise sa...             0   \n",
              "4     ernest mandel belgian professional journalist ...             0   \n",
              "...                                                 ...           ...   \n",
              "6279  fair labor standards act violations violations...             0   \n",
              "6280  guidelines regularly test user accessibility b...             1   \n",
              "6281  action bring class action plaintiff bring acti...             0   \n",
              "6282  discovery may reveal transmission additional f...             0   \n",
              "6283  research develop produce supply sell generic p...             0   \n",
              "\n",
              "      Criminal Procedure  Economic Activity  First Amendment  Judicial Power  \\\n",
              "0                      0                  0                0               0   \n",
              "1                      0                  0                0               0   \n",
              "2                      0                  0                0               0   \n",
              "3                      0                  0                1               0   \n",
              "4                      0                  0                1               0   \n",
              "...                  ...                ...              ...             ...   \n",
              "6279                   0                  0                0               0   \n",
              "6280                   0                  0                0               0   \n",
              "6281                   0                  0                0               1   \n",
              "6282                   0                  0                0               1   \n",
              "6283                   0                  1                0               0   \n",
              "\n",
              "      Others  first_party_winner  \n",
              "0          0                   1  \n",
              "1          1                   1  \n",
              "2          0                   1  \n",
              "3          0                   1  \n",
              "4          0                   1  \n",
              "...      ...                 ...  \n",
              "6279       1                   1  \n",
              "6280       0                   0  \n",
              "6281       0                   1  \n",
              "6282       0                   0  \n",
              "6283       0                   1  \n",
              "\n",
              "[6284 rows x 8 columns]"
            ],
            "text/html": [
              "\n",
              "  <div id=\"df-f0c81d69-43ea-4ba1-8ece-7e9ae0886ade\">\n",
              "    <div class=\"colab-df-container\">\n",
              "      <div>\n",
              "<style scoped>\n",
              "    .dataframe tbody tr th:only-of-type {\n",
              "        vertical-align: middle;\n",
              "    }\n",
              "\n",
              "    .dataframe tbody tr th {\n",
              "        vertical-align: top;\n",
              "    }\n",
              "\n",
              "    .dataframe thead th {\n",
              "        text-align: right;\n",
              "    }\n",
              "</style>\n",
              "<table border=\"1\" class=\"dataframe\">\n",
              "  <thead>\n",
              "    <tr style=\"text-align: right;\">\n",
              "      <th></th>\n",
              "      <th>facts</th>\n",
              "      <th>Civil Rights</th>\n",
              "      <th>Criminal Procedure</th>\n",
              "      <th>Economic Activity</th>\n",
              "      <th>First Amendment</th>\n",
              "      <th>Judicial Power</th>\n",
              "      <th>Others</th>\n",
              "      <th>first_party_winner</th>\n",
              "    </tr>\n",
              "  </thead>\n",
              "  <tbody>\n",
              "    <tr>\n",
              "      <th>0</th>\n",
              "      <td>joan stanley three children peter stanley stan...</td>\n",
              "      <td>1</td>\n",
              "      <td>0</td>\n",
              "      <td>0</td>\n",
              "      <td>0</td>\n",
              "      <td>0</td>\n",
              "      <td>0</td>\n",
              "      <td>1</td>\n",
              "    </tr>\n",
              "    <tr>\n",
              "      <th>1</th>\n",
              "      <td>john giglio convict pass forge money order app...</td>\n",
              "      <td>0</td>\n",
              "      <td>0</td>\n",
              "      <td>0</td>\n",
              "      <td>0</td>\n",
              "      <td>0</td>\n",
              "      <td>1</td>\n",
              "      <td>1</td>\n",
              "    </tr>\n",
              "    <tr>\n",
              "      <th>2</th>\n",
              "      <td>idaho probate code specify males must prefer f...</td>\n",
              "      <td>1</td>\n",
              "      <td>0</td>\n",
              "      <td>0</td>\n",
              "      <td>0</td>\n",
              "      <td>0</td>\n",
              "      <td>0</td>\n",
              "      <td>1</td>\n",
              "    </tr>\n",
              "    <tr>\n",
              "      <th>3</th>\n",
              "      <td>miller conduct mass mail campaign advertise sa...</td>\n",
              "      <td>0</td>\n",
              "      <td>0</td>\n",
              "      <td>0</td>\n",
              "      <td>1</td>\n",
              "      <td>0</td>\n",
              "      <td>0</td>\n",
              "      <td>1</td>\n",
              "    </tr>\n",
              "    <tr>\n",
              "      <th>4</th>\n",
              "      <td>ernest mandel belgian professional journalist ...</td>\n",
              "      <td>0</td>\n",
              "      <td>0</td>\n",
              "      <td>0</td>\n",
              "      <td>1</td>\n",
              "      <td>0</td>\n",
              "      <td>0</td>\n",
              "      <td>1</td>\n",
              "    </tr>\n",
              "    <tr>\n",
              "      <th>...</th>\n",
              "      <td>...</td>\n",
              "      <td>...</td>\n",
              "      <td>...</td>\n",
              "      <td>...</td>\n",
              "      <td>...</td>\n",
              "      <td>...</td>\n",
              "      <td>...</td>\n",
              "      <td>...</td>\n",
              "    </tr>\n",
              "    <tr>\n",
              "      <th>6279</th>\n",
              "      <td>fair labor standards act violations violations...</td>\n",
              "      <td>0</td>\n",
              "      <td>0</td>\n",
              "      <td>0</td>\n",
              "      <td>0</td>\n",
              "      <td>0</td>\n",
              "      <td>1</td>\n",
              "      <td>1</td>\n",
              "    </tr>\n",
              "    <tr>\n",
              "      <th>6280</th>\n",
              "      <td>guidelines regularly test user accessibility b...</td>\n",
              "      <td>1</td>\n",
              "      <td>0</td>\n",
              "      <td>0</td>\n",
              "      <td>0</td>\n",
              "      <td>0</td>\n",
              "      <td>0</td>\n",
              "      <td>0</td>\n",
              "    </tr>\n",
              "    <tr>\n",
              "      <th>6281</th>\n",
              "      <td>action bring class action plaintiff bring acti...</td>\n",
              "      <td>0</td>\n",
              "      <td>0</td>\n",
              "      <td>0</td>\n",
              "      <td>0</td>\n",
              "      <td>1</td>\n",
              "      <td>0</td>\n",
              "      <td>1</td>\n",
              "    </tr>\n",
              "    <tr>\n",
              "      <th>6282</th>\n",
              "      <td>discovery may reveal transmission additional f...</td>\n",
              "      <td>0</td>\n",
              "      <td>0</td>\n",
              "      <td>0</td>\n",
              "      <td>0</td>\n",
              "      <td>1</td>\n",
              "      <td>0</td>\n",
              "      <td>0</td>\n",
              "    </tr>\n",
              "    <tr>\n",
              "      <th>6283</th>\n",
              "      <td>research develop produce supply sell generic p...</td>\n",
              "      <td>0</td>\n",
              "      <td>0</td>\n",
              "      <td>1</td>\n",
              "      <td>0</td>\n",
              "      <td>0</td>\n",
              "      <td>0</td>\n",
              "      <td>1</td>\n",
              "    </tr>\n",
              "  </tbody>\n",
              "</table>\n",
              "<p>6284 rows × 8 columns</p>\n",
              "</div>\n",
              "      <button class=\"colab-df-convert\" onclick=\"convertToInteractive('df-f0c81d69-43ea-4ba1-8ece-7e9ae0886ade')\"\n",
              "              title=\"Convert this dataframe to an interactive table.\"\n",
              "              style=\"display:none;\">\n",
              "        \n",
              "  <svg xmlns=\"http://www.w3.org/2000/svg\" height=\"24px\"viewBox=\"0 0 24 24\"\n",
              "       width=\"24px\">\n",
              "    <path d=\"M0 0h24v24H0V0z\" fill=\"none\"/>\n",
              "    <path d=\"M18.56 5.44l.94 2.06.94-2.06 2.06-.94-2.06-.94-.94-2.06-.94 2.06-2.06.94zm-11 1L8.5 8.5l.94-2.06 2.06-.94-2.06-.94L8.5 2.5l-.94 2.06-2.06.94zm10 10l.94 2.06.94-2.06 2.06-.94-2.06-.94-.94-2.06-.94 2.06-2.06.94z\"/><path d=\"M17.41 7.96l-1.37-1.37c-.4-.4-.92-.59-1.43-.59-.52 0-1.04.2-1.43.59L10.3 9.45l-7.72 7.72c-.78.78-.78 2.05 0 2.83L4 21.41c.39.39.9.59 1.41.59.51 0 1.02-.2 1.41-.59l7.78-7.78 2.81-2.81c.8-.78.8-2.07 0-2.86zM5.41 20L4 18.59l7.72-7.72 1.47 1.35L5.41 20z\"/>\n",
              "  </svg>\n",
              "      </button>\n",
              "      \n",
              "  <style>\n",
              "    .colab-df-container {\n",
              "      display:flex;\n",
              "      flex-wrap:wrap;\n",
              "      gap: 12px;\n",
              "    }\n",
              "\n",
              "    .colab-df-convert {\n",
              "      background-color: #E8F0FE;\n",
              "      border: none;\n",
              "      border-radius: 50%;\n",
              "      cursor: pointer;\n",
              "      display: none;\n",
              "      fill: #1967D2;\n",
              "      height: 32px;\n",
              "      padding: 0 0 0 0;\n",
              "      width: 32px;\n",
              "    }\n",
              "\n",
              "    .colab-df-convert:hover {\n",
              "      background-color: #E2EBFA;\n",
              "      box-shadow: 0px 1px 2px rgba(60, 64, 67, 0.3), 0px 1px 3px 1px rgba(60, 64, 67, 0.15);\n",
              "      fill: #174EA6;\n",
              "    }\n",
              "\n",
              "    [theme=dark] .colab-df-convert {\n",
              "      background-color: #3B4455;\n",
              "      fill: #D2E3FC;\n",
              "    }\n",
              "\n",
              "    [theme=dark] .colab-df-convert:hover {\n",
              "      background-color: #434B5C;\n",
              "      box-shadow: 0px 1px 3px 1px rgba(0, 0, 0, 0.15);\n",
              "      filter: drop-shadow(0px 1px 2px rgba(0, 0, 0, 0.3));\n",
              "      fill: #FFFFFF;\n",
              "    }\n",
              "  </style>\n",
              "\n",
              "      <script>\n",
              "        const buttonEl =\n",
              "          document.querySelector('#df-f0c81d69-43ea-4ba1-8ece-7e9ae0886ade button.colab-df-convert');\n",
              "        buttonEl.style.display =\n",
              "          google.colab.kernel.accessAllowed ? 'block' : 'none';\n",
              "\n",
              "        async function convertToInteractive(key) {\n",
              "          const element = document.querySelector('#df-f0c81d69-43ea-4ba1-8ece-7e9ae0886ade');\n",
              "          const dataTable =\n",
              "            await google.colab.kernel.invokeFunction('convertToInteractive',\n",
              "                                                     [key], {});\n",
              "          if (!dataTable) return;\n",
              "\n",
              "          const docLinkHtml = 'Like what you see? Visit the ' +\n",
              "            '<a target=\"_blank\" href=https://colab.research.google.com/notebooks/data_table.ipynb>data table notebook</a>'\n",
              "            + ' to learn more about interactive tables.';\n",
              "          element.innerHTML = '';\n",
              "          dataTable['output_type'] = 'display_data';\n",
              "          await google.colab.output.renderOutput(dataTable, element);\n",
              "          const docLink = document.createElement('div');\n",
              "          docLink.innerHTML = docLinkHtml;\n",
              "          element.appendChild(docLink);\n",
              "        }\n",
              "      </script>\n",
              "    </div>\n",
              "  </div>\n",
              "  "
            ]
          },
          "metadata": {},
          "execution_count": 104
        }
      ],
      "source": [
        "big_df"
      ]
    },
    {
      "cell_type": "code",
      "execution_count": null,
      "metadata": {
        "id": "HGgOs0dGihP1"
      },
      "outputs": [],
      "source": [
        "big_df.rename(columns = {'first_party_winner':'target'}, inplace = True)"
      ]
    },
    {
      "cell_type": "markdown",
      "metadata": {
        "id": "xEchoCrSpG_R"
      },
      "source": [
        "# Second Prediction with TFIDF"
      ]
    },
    {
      "cell_type": "code",
      "execution_count": null,
      "metadata": {
        "id": "tHZ6itWaiPj-"
      },
      "outputs": [],
      "source": [
        "from sklearn.model_selection import train_test_split\n",
        "X_train, X_test = train_test_split(big_df, test_size=0.3, random_state=42)"
      ]
    },
    {
      "cell_type": "code",
      "source": [
        "numberOfZerosForTraining = 0\n",
        "numberOfOnesForTraining = 0\n",
        "\n",
        "for i in X_train['target']:\n",
        "  if i == 0:\n",
        "    numberOfZerosForTraining += 1\n",
        "  if i == 1:\n",
        "    numberOfOnesForTraining += 1\n",
        "\n",
        "labelsPiechart = ['True', 'False']\n",
        "numbersPiechart = np.array([numberOfZerosForTraining, numberOfOnesForTraining])"
      ],
      "metadata": {
        "id": "wMTvJN2OpvGz"
      },
      "execution_count": null,
      "outputs": []
    },
    {
      "cell_type": "code",
      "execution_count": null,
      "metadata": {
        "colab": {
          "base_uri": "https://localhost:8080/",
          "height": 261
        },
        "id": "nunQzmfaujOu",
        "outputId": "dc0c58e4-cdcd-4ac1-ed72-55c1cde4672a"
      },
      "outputs": [
        {
          "output_type": "display_data",
          "data": {
            "text/plain": [
              "<Figure size 576x252 with 1 Axes>"
            ],
            "image/png": "[encoded data removed]"
          },
          "metadata": {}
        }
      ],
      "source": [
        "plt.pie(numbersPiechart, labels = labelsPiechart, startangle = 80, autopct='%1.2f%%')\n",
        "plt.title(\"Did the first party win ?\")\n",
        "plt.savefig(\"ImbalancedSplit.png\", dpi=1200)\n",
        "plt.show() "
      ]
    },
    {
      "cell_type": "code",
      "source": [
        "from imblearn.over_sampling import RandomOverSampler\n",
        "from collections import Counter"
      ],
      "metadata": {
        "id": "Z5cr6UWtNWyZ"
      },
      "execution_count": null,
      "outputs": []
    },
    {
      "cell_type": "code",
      "source": [
        "y_train = X_train[\"target\"]"
      ],
      "metadata": {
        "id": "ouursbfSNsvC"
      },
      "execution_count": null,
      "outputs": []
    },
    {
      "cell_type": "code",
      "source": [
        "X_train = X_train.loc[:, X_train.columns != 'target']"
      ],
      "metadata": {
        "id": "HXTm5sptOAMw"
      },
      "execution_count": null,
      "outputs": []
    },
    {
      "cell_type": "code",
      "source": [
        "ros = RandomOverSampler(random_state=42)\n",
        "X_train_ros, y_train_ros= ros.fit_resample(X_train, y_train)"
      ],
      "metadata": {
        "id": "nKRUk3AVNb4o"
      },
      "execution_count": null,
      "outputs": []
    },
    {
      "cell_type": "code",
      "source": [
        "X_train = X_train_ros\n",
        "y_train = y_train_ros"
      ],
      "metadata": {
        "id": "NLApaQJpOT8Q"
      },
      "execution_count": null,
      "outputs": []
    },
    {
      "cell_type": "code",
      "source": [
        "y_test = X_test[\"target\"]\n",
        "X_test = X_test.loc[:, X_test.columns != 'target']"
      ],
      "metadata": {
        "id": "CAAWJHDgPx25"
      },
      "execution_count": null,
      "outputs": []
    },
    {
      "cell_type": "code",
      "source": [
        "numberOfZerosForTraining = 0\n",
        "numberOfOnesForTraining = 0\n",
        "\n",
        "for i in y_train:\n",
        "  if i == 0:\n",
        "    numberOfZerosForTraining += 1\n",
        "  if i == 1:\n",
        "    numberOfOnesForTraining += 1\n",
        "\n",
        "labelsPiechart = ['True', 'False']\n",
        "numbersPiechart = np.array([numberOfZerosForTraining, numberOfOnesForTraining])"
      ],
      "metadata": {
        "id": "YOk7UV_0xd4K"
      },
      "execution_count": null,
      "outputs": []
    },
    {
      "cell_type": "code",
      "source": [
        "plt.pie(numbersPiechart, labels = labelsPiechart, startangle = 80, autopct='%1.2f%%')\n",
        "plt.title(\"Did the first party win ?\")\n",
        "plt.savefig(\"BalancedSplit.png\", dpi=1200)\n",
        "plt.show() "
      ],
      "metadata": {
        "colab": {
          "base_uri": "https://localhost:8080/",
          "height": 261
        },
        "id": "Ozl0Fo_h0cc7",
        "outputId": "b5075b3d-98c5-4b81-d414-8b1de06b6410"
      },
      "execution_count": null,
      "outputs": [
        {
          "output_type": "display_data",
          "data": {
            "text/plain": [
              "<Figure size 576x252 with 1 Axes>"
            ],
            "image/png": "[encoded data removed]"
          },
          "metadata": {}
        }
      ]
    },
    {
      "cell_type": "code",
      "execution_count": null,
      "metadata": {
        "id": "jwFe9RPVh0TB"
      },
      "outputs": [],
      "source": [
        "from sklearn.feature_extraction.text import TfidfVectorizer"
      ]
    },
    {
      "cell_type": "code",
      "execution_count": null,
      "metadata": {
        "id": "CACD7LyZh1pg"
      },
      "outputs": [],
      "source": [
        "vectorizer_tf = TfidfVectorizer(max_df=0.75, max_features=1000, ngram_range=(1,2))"
      ]
    },
    {
      "cell_type": "code",
      "execution_count": null,
      "metadata": {
        "id": "P1zdSDjQiH2V"
      },
      "outputs": [],
      "source": [
        "train_vectors = vectorizer_tf.fit_transform(X_train.facts) \n",
        "test_vectors = vectorizer_tf.transform(X_test.facts)"
      ]
    },
    {
      "cell_type": "code",
      "execution_count": null,
      "metadata": {
        "colab": {
          "base_uri": "https://localhost:8080/"
        },
        "id": "5gk70nVjjMYT",
        "outputId": "3393036f-25f3-475a-ffd7-efefe76c8195"
      },
      "outputs": [
        {
          "output_type": "stream",
          "name": "stderr",
          "text": [
            "/usr/local/lib/python3.8/dist-packages/sklearn/utils/deprecation.py:87: FutureWarning: Function get_feature_names is deprecated; get_feature_names is deprecated in 1.0 and will be removed in 1.2. Please use get_feature_names_out instead.\n",
            "  warnings.warn(msg, category=FutureWarning)\n"
          ]
        }
      ],
      "source": [
        "train_df=pd.DataFrame(train_vectors.toarray(), columns=vectorizer_tf.get_feature_names())\n",
        "test_df=pd.DataFrame(test_vectors.toarray(), columns=vectorizer_tf.get_feature_names())"
      ]
    },
    {
      "cell_type": "code",
      "execution_count": null,
      "metadata": {
        "id": "j65MKJwIjbH4"
      },
      "outputs": [],
      "source": [
        "train_df=pd.concat([train_df,X_train.loc[:, X_train.columns != \"facts\"].reset_index(drop=True)], axis=1)\n",
        "test_df=pd.concat([test_df,X_test.loc[:, X_test.columns != \"facts\"].reset_index(drop=True)], axis=1)"
      ]
    },
    {
      "cell_type": "code",
      "execution_count": null,
      "metadata": {
        "colab": {
          "base_uri": "https://localhost:8080/",
          "height": 505
        },
        "id": "ckJiBbTFlUwV",
        "outputId": "fad16c8a-e705-4ce9-bef9-cf8c84498cb5"
      },
      "outputs": [
        {
          "output_type": "execute_result",
          "data": {
            "text/plain": [
              "      ability      able  access  access defendant  access facilities  \\\n",
              "0         0.0  0.000000     0.0               0.0                0.0   \n",
              "1         0.0  0.000000     0.0               0.0                0.0   \n",
              "2         0.0  0.000000     0.0               0.0                0.0   \n",
              "3         0.0  0.000000     0.0               0.0                0.0   \n",
              "4         0.0  0.000000     0.0               0.0                0.0   \n",
              "...       ...       ...     ...               ...                ...   \n",
              "5893      0.0  0.000000     0.0               0.0                0.0   \n",
              "5894      0.0  0.000000     0.0               0.0                0.0   \n",
              "5895      0.0  0.000000     0.0               0.0                0.0   \n",
              "5896      0.0  0.000000     0.0               0.0                0.0   \n",
              "5897      0.0  0.108852     0.0               0.0                0.0   \n",
              "\n",
              "      access website  accessibility  accessible  accommodation  \\\n",
              "0                0.0            0.0         0.0            0.0   \n",
              "1                0.0            0.0         0.0            0.0   \n",
              "2                0.0            0.0         0.0            0.0   \n",
              "3                0.0            0.0         0.0            0.0   \n",
              "4                0.0            0.0         0.0            0.0   \n",
              "...              ...            ...         ...            ...   \n",
              "5893             0.0            0.0         0.0            0.0   \n",
              "5894             0.0            0.0         0.0            0.0   \n",
              "5895             0.0            0.0         0.0            0.0   \n",
              "5896             0.0            0.0         0.0            0.0   \n",
              "5897             0.0            0.0         0.0            0.0   \n",
              "\n",
              "      accommodations  ...     years      york  york city  york state  \\\n",
              "0                0.0  ...  0.000000  0.000000        0.0         0.0   \n",
              "1                0.0  ...  0.000000  0.021368        0.0         0.0   \n",
              "2                0.0  ...  0.000000  0.000000        0.0         0.0   \n",
              "3                0.0  ...  0.000000  0.000000        0.0         0.0   \n",
              "4                0.0  ...  0.000000  0.015445        0.0         0.0   \n",
              "...              ...  ...       ...       ...        ...         ...   \n",
              "5893             0.0  ...  0.000000  0.000000        0.0         0.0   \n",
              "5894             0.0  ...  0.000000  0.000000        0.0         0.0   \n",
              "5895             0.0  ...  0.057466  0.000000        0.0         0.0   \n",
              "5896             0.0  ...  0.000000  0.073427        0.0         0.0   \n",
              "5897             0.0  ...  0.079116  0.000000        0.0         0.0   \n",
              "\n",
              "      Civil Rights  Criminal Procedure  Economic Activity  First Amendment  \\\n",
              "0                0                   0                  0                0   \n",
              "1                0                   0                  0                0   \n",
              "2                0                   0                  0                0   \n",
              "3                0                   0                  0                1   \n",
              "4                0                   0                  1                0   \n",
              "...            ...                 ...                ...              ...   \n",
              "5893             0                   1                  0                0   \n",
              "5894             0                   1                  0                0   \n",
              "5895             0                   0                  1                0   \n",
              "5896             0                   0                  0                0   \n",
              "5897             0                   1                  0                0   \n",
              "\n",
              "      Judicial Power  Others  \n",
              "0                  0       1  \n",
              "1                  1       0  \n",
              "2                  0       1  \n",
              "3                  0       0  \n",
              "4                  0       0  \n",
              "...              ...     ...  \n",
              "5893               0       0  \n",
              "5894               0       0  \n",
              "5895               0       0  \n",
              "5896               1       0  \n",
              "5897               0       0  \n",
              "\n",
              "[5898 rows x 1006 columns]"
            ],
            "text/html": [
              "\n",
              "  <div id=\"df-254d94a5-9f96-4343-bfef-772698ff0b15\">\n",
              "    <div class=\"colab-df-container\">\n",
              "      <div>\n",
              "<style scoped>\n",
              "    .dataframe tbody tr th:only-of-type {\n",
              "        vertical-align: middle;\n",
              "    }\n",
              "\n",
              "    .dataframe tbody tr th {\n",
              "        vertical-align: top;\n",
              "    }\n",
              "\n",
              "    .dataframe thead th {\n",
              "        text-align: right;\n",
              "    }\n",
              "</style>\n",
              "<table border=\"1\" class=\"dataframe\">\n",
              "  <thead>\n",
              "    <tr style=\"text-align: right;\">\n",
              "      <th></th>\n",
              "      <th>ability</th>\n",
              "      <th>able</th>\n",
              "      <th>access</th>\n",
              "      <th>access defendant</th>\n",
              "      <th>access facilities</th>\n",
              "      <th>access website</th>\n",
              "      <th>accessibility</th>\n",
              "      <th>accessible</th>\n",
              "      <th>accommodation</th>\n",
              "      <th>accommodations</th>\n",
              "      <th>...</th>\n",
              "      <th>years</th>\n",
              "      <th>york</th>\n",
              "      <th>york city</th>\n",
              "      <th>york state</th>\n",
              "      <th>Civil Rights</th>\n",
              "      <th>Criminal Procedure</th>\n",
              "      <th>Economic Activity</th>\n",
              "      <th>First Amendment</th>\n",
              "      <th>Judicial Power</th>\n",
              "      <th>Others</th>\n",
              "    </tr>\n",
              "  </thead>\n",
              "  <tbody>\n",
              "    <tr>\n",
              "      <th>0</th>\n",
              "      <td>0.0</td>\n",
              "      <td>0.000000</td>\n",
              "      <td>0.0</td>\n",
              "      <td>0.0</td>\n",
              "      <td>0.0</td>\n",
              "      <td>0.0</td>\n",
              "      <td>0.0</td>\n",
              "      <td>0.0</td>\n",
              "      <td>0.0</td>\n",
              "      <td>0.0</td>\n",
              "      <td>...</td>\n",
              "      <td>0.000000</td>\n",
              "      <td>0.000000</td>\n",
              "      <td>0.0</td>\n",
              "      <td>0.0</td>\n",
              "      <td>0</td>\n",
              "      <td>0</td>\n",
              "      <td>0</td>\n",
              "      <td>0</td>\n",
              "      <td>0</td>\n",
              "      <td>1</td>\n",
              "    </tr>\n",
              "    <tr>\n",
              "      <th>1</th>\n",
              "      <td>0.0</td>\n",
              "      <td>0.000000</td>\n",
              "      <td>0.0</td>\n",
              "      <td>0.0</td>\n",
              "      <td>0.0</td>\n",
              "      <td>0.0</td>\n",
              "      <td>0.0</td>\n",
              "      <td>0.0</td>\n",
              "      <td>0.0</td>\n",
              "      <td>0.0</td>\n",
              "      <td>...</td>\n",
              "      <td>0.000000</td>\n",
              "      <td>0.021368</td>\n",
              "      <td>0.0</td>\n",
              "      <td>0.0</td>\n",
              "      <td>0</td>\n",
              "      <td>0</td>\n",
              "      <td>0</td>\n",
              "      <td>0</td>\n",
              "      <td>1</td>\n",
              "      <td>0</td>\n",
              "    </tr>\n",
              "    <tr>\n",
              "      <th>2</th>\n",
              "      <td>0.0</td>\n",
              "      <td>0.000000</td>\n",
              "      <td>0.0</td>\n",
              "      <td>0.0</td>\n",
              "      <td>0.0</td>\n",
              "      <td>0.0</td>\n",
              "      <td>0.0</td>\n",
              "      <td>0.0</td>\n",
              "      <td>0.0</td>\n",
              "      <td>0.0</td>\n",
              "      <td>...</td>\n",
              "      <td>0.000000</td>\n",
              "      <td>0.000000</td>\n",
              "      <td>0.0</td>\n",
              "      <td>0.0</td>\n",
              "      <td>0</td>\n",
              "      <td>0</td>\n",
              "      <td>0</td>\n",
              "      <td>0</td>\n",
              "      <td>0</td>\n",
              "      <td>1</td>\n",
              "    </tr>\n",
              "    <tr>\n",
              "      <th>3</th>\n",
              "      <td>0.0</td>\n",
              "      <td>0.000000</td>\n",
              "      <td>0.0</td>\n",
              "      <td>0.0</td>\n",
              "      <td>0.0</td>\n",
              "      <td>0.0</td>\n",
              "      <td>0.0</td>\n",
              "      <td>0.0</td>\n",
              "      <td>0.0</td>\n",
              "      <td>0.0</td>\n",
              "      <td>...</td>\n",
              "      <td>0.000000</td>\n",
              "      <td>0.000000</td>\n",
              "      <td>0.0</td>\n",
              "      <td>0.0</td>\n",
              "      <td>0</td>\n",
              "      <td>0</td>\n",
              "      <td>0</td>\n",
              "      <td>1</td>\n",
              "      <td>0</td>\n",
              "      <td>0</td>\n",
              "    </tr>\n",
              "    <tr>\n",
              "      <th>4</th>\n",
              "      <td>0.0</td>\n",
              "      <td>0.000000</td>\n",
              "      <td>0.0</td>\n",
              "      <td>0.0</td>\n",
              "      <td>0.0</td>\n",
              "      <td>0.0</td>\n",
              "      <td>0.0</td>\n",
              "      <td>0.0</td>\n",
              "      <td>0.0</td>\n",
              "      <td>0.0</td>\n",
              "      <td>...</td>\n",
              "      <td>0.000000</td>\n",
              "      <td>0.015445</td>\n",
              "      <td>0.0</td>\n",
              "      <td>0.0</td>\n",
              "      <td>0</td>\n",
              "      <td>0</td>\n",
              "      <td>1</td>\n",
              "      <td>0</td>\n",
              "      <td>0</td>\n",
              "      <td>0</td>\n",
              "    </tr>\n",
              "    <tr>\n",
              "      <th>...</th>\n",
              "      <td>...</td>\n",
              "      <td>...</td>\n",
              "      <td>...</td>\n",
              "      <td>...</td>\n",
              "      <td>...</td>\n",
              "      <td>...</td>\n",
              "      <td>...</td>\n",
              "      <td>...</td>\n",
              "      <td>...</td>\n",
              "      <td>...</td>\n",
              "      <td>...</td>\n",
              "      <td>...</td>\n",
              "      <td>...</td>\n",
              "      <td>...</td>\n",
              "      <td>...</td>\n",
              "      <td>...</td>\n",
              "      <td>...</td>\n",
              "      <td>...</td>\n",
              "      <td>...</td>\n",
              "      <td>...</td>\n",
              "      <td>...</td>\n",
              "    </tr>\n",
              "    <tr>\n",
              "      <th>5893</th>\n",
              "      <td>0.0</td>\n",
              "      <td>0.000000</td>\n",
              "      <td>0.0</td>\n",
              "      <td>0.0</td>\n",
              "      <td>0.0</td>\n",
              "      <td>0.0</td>\n",
              "      <td>0.0</td>\n",
              "      <td>0.0</td>\n",
              "      <td>0.0</td>\n",
              "      <td>0.0</td>\n",
              "      <td>...</td>\n",
              "      <td>0.000000</td>\n",
              "      <td>0.000000</td>\n",
              "      <td>0.0</td>\n",
              "      <td>0.0</td>\n",
              "      <td>0</td>\n",
              "      <td>1</td>\n",
              "      <td>0</td>\n",
              "      <td>0</td>\n",
              "      <td>0</td>\n",
              "      <td>0</td>\n",
              "    </tr>\n",
              "    <tr>\n",
              "      <th>5894</th>\n",
              "      <td>0.0</td>\n",
              "      <td>0.000000</td>\n",
              "      <td>0.0</td>\n",
              "      <td>0.0</td>\n",
              "      <td>0.0</td>\n",
              "      <td>0.0</td>\n",
              "      <td>0.0</td>\n",
              "      <td>0.0</td>\n",
              "      <td>0.0</td>\n",
              "      <td>0.0</td>\n",
              "      <td>...</td>\n",
              "      <td>0.000000</td>\n",
              "      <td>0.000000</td>\n",
              "      <td>0.0</td>\n",
              "      <td>0.0</td>\n",
              "      <td>0</td>\n",
              "      <td>1</td>\n",
              "      <td>0</td>\n",
              "      <td>0</td>\n",
              "      <td>0</td>\n",
              "      <td>0</td>\n",
              "    </tr>\n",
              "    <tr>\n",
              "      <th>5895</th>\n",
              "      <td>0.0</td>\n",
              "      <td>0.000000</td>\n",
              "      <td>0.0</td>\n",
              "      <td>0.0</td>\n",
              "      <td>0.0</td>\n",
              "      <td>0.0</td>\n",
              "      <td>0.0</td>\n",
              "      <td>0.0</td>\n",
              "      <td>0.0</td>\n",
              "      <td>0.0</td>\n",
              "      <td>...</td>\n",
              "      <td>0.057466</td>\n",
              "      <td>0.000000</td>\n",
              "      <td>0.0</td>\n",
              "      <td>0.0</td>\n",
              "      <td>0</td>\n",
              "      <td>0</td>\n",
              "      <td>1</td>\n",
              "      <td>0</td>\n",
              "      <td>0</td>\n",
              "      <td>0</td>\n",
              "    </tr>\n",
              "    <tr>\n",
              "      <th>5896</th>\n",
              "      <td>0.0</td>\n",
              "      <td>0.000000</td>\n",
              "      <td>0.0</td>\n",
              "      <td>0.0</td>\n",
              "      <td>0.0</td>\n",
              "      <td>0.0</td>\n",
              "      <td>0.0</td>\n",
              "      <td>0.0</td>\n",
              "      <td>0.0</td>\n",
              "      <td>0.0</td>\n",
              "      <td>...</td>\n",
              "      <td>0.000000</td>\n",
              "      <td>0.073427</td>\n",
              "      <td>0.0</td>\n",
              "      <td>0.0</td>\n",
              "      <td>0</td>\n",
              "      <td>0</td>\n",
              "      <td>0</td>\n",
              "      <td>0</td>\n",
              "      <td>1</td>\n",
              "      <td>0</td>\n",
              "    </tr>\n",
              "    <tr>\n",
              "      <th>5897</th>\n",
              "      <td>0.0</td>\n",
              "      <td>0.108852</td>\n",
              "      <td>0.0</td>\n",
              "      <td>0.0</td>\n",
              "      <td>0.0</td>\n",
              "      <td>0.0</td>\n",
              "      <td>0.0</td>\n",
              "      <td>0.0</td>\n",
              "      <td>0.0</td>\n",
              "      <td>0.0</td>\n",
              "      <td>...</td>\n",
              "      <td>0.079116</td>\n",
              "      <td>0.000000</td>\n",
              "      <td>0.0</td>\n",
              "      <td>0.0</td>\n",
              "      <td>0</td>\n",
              "      <td>1</td>\n",
              "      <td>0</td>\n",
              "      <td>0</td>\n",
              "      <td>0</td>\n",
              "      <td>0</td>\n",
              "    </tr>\n",
              "  </tbody>\n",
              "</table>\n",
              "<p>5898 rows × 1006 columns</p>\n",
              "</div>\n",
              "      <button class=\"colab-df-convert\" onclick=\"convertToInteractive('df-254d94a5-9f96-4343-bfef-772698ff0b15')\"\n",
              "              title=\"Convert this dataframe to an interactive table.\"\n",
              "              style=\"display:none;\">\n",
              "        \n",
              "  <svg xmlns=\"http://www.w3.org/2000/svg\" height=\"24px\"viewBox=\"0 0 24 24\"\n",
              "       width=\"24px\">\n",
              "    <path d=\"M0 0h24v24H0V0z\" fill=\"none\"/>\n",
              "    <path d=\"M18.56 5.44l.94 2.06.94-2.06 2.06-.94-2.06-.94-.94-2.06-.94 2.06-2.06.94zm-11 1L8.5 8.5l.94-2.06 2.06-.94-2.06-.94L8.5 2.5l-.94 2.06-2.06.94zm10 10l.94 2.06.94-2.06 2.06-.94-2.06-.94-.94-2.06-.94 2.06-2.06.94z\"/><path d=\"M17.41 7.96l-1.37-1.37c-.4-.4-.92-.59-1.43-.59-.52 0-1.04.2-1.43.59L10.3 9.45l-7.72 7.72c-.78.78-.78 2.05 0 2.83L4 21.41c.39.39.9.59 1.41.59.51 0 1.02-.2 1.41-.59l7.78-7.78 2.81-2.81c.8-.78.8-2.07 0-2.86zM5.41 20L4 18.59l7.72-7.72 1.47 1.35L5.41 20z\"/>\n",
              "  </svg>\n",
              "      </button>\n",
              "      \n",
              "  <style>\n",
              "    .colab-df-container {\n",
              "      display:flex;\n",
              "      flex-wrap:wrap;\n",
              "      gap: 12px;\n",
              "    }\n",
              "\n",
              "    .colab-df-convert {\n",
              "      background-color: #E8F0FE;\n",
              "      border: none;\n",
              "      border-radius: 50%;\n",
              "      cursor: pointer;\n",
              "      display: none;\n",
              "      fill: #1967D2;\n",
              "      height: 32px;\n",
              "      padding: 0 0 0 0;\n",
              "      width: 32px;\n",
              "    }\n",
              "\n",
              "    .colab-df-convert:hover {\n",
              "      background-color: #E2EBFA;\n",
              "      box-shadow: 0px 1px 2px rgba(60, 64, 67, 0.3), 0px 1px 3px 1px rgba(60, 64, 67, 0.15);\n",
              "      fill: #174EA6;\n",
              "    }\n",
              "\n",
              "    [theme=dark] .colab-df-convert {\n",
              "      background-color: #3B4455;\n",
              "      fill: #D2E3FC;\n",
              "    }\n",
              "\n",
              "    [theme=dark] .colab-df-convert:hover {\n",
              "      background-color: #434B5C;\n",
              "      box-shadow: 0px 1px 3px 1px rgba(0, 0, 0, 0.15);\n",
              "      filter: drop-shadow(0px 1px 2px rgba(0, 0, 0, 0.3));\n",
              "      fill: #FFFFFF;\n",
              "    }\n",
              "  </style>\n",
              "\n",
              "      <script>\n",
              "        const buttonEl =\n",
              "          document.querySelector('#df-254d94a5-9f96-4343-bfef-772698ff0b15 button.colab-df-convert');\n",
              "        buttonEl.style.display =\n",
              "          google.colab.kernel.accessAllowed ? 'block' : 'none';\n",
              "\n",
              "        async function convertToInteractive(key) {\n",
              "          const element = document.querySelector('#df-254d94a5-9f96-4343-bfef-772698ff0b15');\n",
              "          const dataTable =\n",
              "            await google.colab.kernel.invokeFunction('convertToInteractive',\n",
              "                                                     [key], {});\n",
              "          if (!dataTable) return;\n",
              "\n",
              "          const docLinkHtml = 'Like what you see? Visit the ' +\n",
              "            '<a target=\"_blank\" href=https://colab.research.google.com/notebooks/data_table.ipynb>data table notebook</a>'\n",
              "            + ' to learn more about interactive tables.';\n",
              "          element.innerHTML = '';\n",
              "          dataTable['output_type'] = 'display_data';\n",
              "          await google.colab.output.renderOutput(dataTable, element);\n",
              "          const docLink = document.createElement('div');\n",
              "          docLink.innerHTML = docLinkHtml;\n",
              "          element.appendChild(docLink);\n",
              "        }\n",
              "      </script>\n",
              "    </div>\n",
              "  </div>\n",
              "  "
            ]
          },
          "metadata": {},
          "execution_count": 210
        }
      ],
      "source": [
        "train_df"
      ]
    },
    {
      "cell_type": "code",
      "source": [
        "train_df.to_csv('tfidf.csv', index=False)"
      ],
      "metadata": {
        "id": "kYxPHjE1AYo8"
      },
      "execution_count": null,
      "outputs": []
    },
    {
      "cell_type": "code",
      "source": [
        "X_train_tf = train_df\n",
        "X_test_tf = test_df"
      ],
      "metadata": {
        "id": "rgYb2tY7Q1we"
      },
      "execution_count": null,
      "outputs": []
    },
    {
      "cell_type": "code",
      "execution_count": null,
      "metadata": {
        "id": "uHPeesIGpcdd"
      },
      "outputs": [],
      "source": [
        "my_target = [\"0\", \"1\"]"
      ]
    },
    {
      "cell_type": "code",
      "source": [
        "from sklearn import linear_model, decomposition"
      ],
      "metadata": {
        "id": "-X8TytzwRPC3"
      },
      "execution_count": null,
      "outputs": []
    },
    {
      "cell_type": "code",
      "source": [
        "pca = decomposition.PCA()"
      ],
      "metadata": {
        "id": "y0W4NB9gRKcB"
      },
      "execution_count": null,
      "outputs": []
    },
    {
      "cell_type": "code",
      "execution_count": null,
      "metadata": {
        "id": "0e2QYO-MmCz3"
      },
      "outputs": [],
      "source": [
        "logreg = Pipeline([\n",
        "                ('clf', LogisticRegression()),\n",
        "               ])"
      ]
    },
    {
      "cell_type": "code",
      "source": [
        "logreg.fit(X_train_tf, y_train)"
      ],
      "metadata": {
        "colab": {
          "base_uri": "https://localhost:8080/"
        },
        "id": "HSd7BnKqO21v",
        "outputId": "3961008c-7b32-442c-fe2b-0bb9ac97ef53"
      },
      "execution_count": null,
      "outputs": [
        {
          "output_type": "execute_result",
          "data": {
            "text/plain": [
              "Pipeline(steps=[('clf', LogisticRegression())])"
            ]
          },
          "metadata": {},
          "execution_count": 101
        }
      ]
    },
    {
      "cell_type": "code",
      "execution_count": null,
      "metadata": {
        "colab": {
          "base_uri": "https://localhost:8080/"
        },
        "id": "ommazsUNnUO1",
        "outputId": "10d45c9b-2a94-478c-8bb1-96fac401d257"
      },
      "outputs": [
        {
          "output_type": "stream",
          "name": "stdout",
          "text": [
            "CPU times: user 22.1 ms, sys: 20 µs, total: 22.2 ms\n",
            "Wall time: 26.1 ms\n"
          ]
        }
      ],
      "source": [
        "%%time\n",
        "y_pred = logreg.predict(X_test_tf)"
      ]
    },
    {
      "cell_type": "code",
      "execution_count": null,
      "metadata": {
        "colab": {
          "base_uri": "https://localhost:8080/"
        },
        "id": "IfTR4zPGncRG",
        "outputId": "10f50f34-52d5-4031-955c-f463894880e8"
      },
      "outputs": [
        {
          "output_type": "stream",
          "name": "stdout",
          "text": [
            "accuracy 0.60381861575179\n",
            "              precision    recall  f1-score   support\n",
            "\n",
            "           0       0.54      0.56      0.55       543\n",
            "           1       0.66      0.64      0.65       714\n",
            "\n",
            "    accuracy                           0.60      1257\n",
            "   macro avg       0.60      0.60      0.60      1257\n",
            "weighted avg       0.61      0.60      0.60      1257\n",
            "\n"
          ]
        }
      ],
      "source": [
        "from sklearn.metrics import classification_report\n",
        "print('accuracy %s' % accuracy_score(y_pred, y_test))\n",
        "print(classification_report(y_test, y_pred,target_names=my_target))"
      ]
    },
    {
      "cell_type": "code",
      "execution_count": null,
      "metadata": {
        "colab": {
          "base_uri": "https://localhost:8080/"
        },
        "id": "0M8QMNCEoZeJ",
        "outputId": "83c9c112-b574-4622-b755-d6af3406eec2"
      },
      "outputs": [
        {
          "output_type": "execute_result",
          "data": {
            "text/plain": [
              "Pipeline(steps=[('clf', MultinomialNB())])"
            ]
          },
          "metadata": {},
          "execution_count": 104
        }
      ],
      "source": [
        "from sklearn.naive_bayes import MultinomialNB\n",
        "from sklearn.pipeline import Pipeline\n",
        "from sklearn.feature_extraction.text import TfidfTransformer\n",
        "\n",
        "nb = Pipeline([\n",
        "    ('clf', MultinomialNB()),\n",
        "              ])\n",
        "nb.fit(X_train_tf, y_train)"
      ]
    },
    {
      "cell_type": "code",
      "execution_count": null,
      "metadata": {
        "colab": {
          "base_uri": "https://localhost:8080/"
        },
        "id": "3_aSlRDDpkzl",
        "outputId": "a3f1ab58-4a80-4064-bc97-46d80ca48ed1"
      },
      "outputs": [
        {
          "output_type": "stream",
          "name": "stdout",
          "text": [
            "CPU times: user 27.7 ms, sys: 7.88 ms, total: 35.6 ms\n",
            "Wall time: 29.5 ms\n"
          ]
        }
      ],
      "source": [
        "%%time\n",
        "y_pred = nb.predict(X_test_tf)"
      ]
    },
    {
      "cell_type": "code",
      "execution_count": null,
      "metadata": {
        "colab": {
          "base_uri": "https://localhost:8080/"
        },
        "id": "2wOM81cgpnpY",
        "outputId": "54819e80-3730-4d34-adfe-3cc3b2d9a687"
      },
      "outputs": [
        {
          "output_type": "stream",
          "name": "stdout",
          "text": [
            "accuracy 0.6252983293556086\n",
            "              precision    recall  f1-score   support\n",
            "\n",
            "           0       0.58      0.47      0.52       543\n",
            "           1       0.65      0.74      0.69       714\n",
            "\n",
            "    accuracy                           0.63      1257\n",
            "   macro avg       0.62      0.61      0.61      1257\n",
            "weighted avg       0.62      0.63      0.62      1257\n",
            "\n"
          ]
        }
      ],
      "source": [
        "from sklearn.metrics import classification_report\n",
        "print('accuracy %s' % accuracy_score(y_pred, y_test))\n",
        "print(classification_report(y_test, y_pred,target_names=my_target))"
      ]
    },
    {
      "cell_type": "code",
      "execution_count": null,
      "metadata": {
        "colab": {
          "base_uri": "https://localhost:8080/"
        },
        "id": "zixsJaM7pqPj",
        "outputId": "cf32c626-1ca1-4b0c-b321-2a44c8f5707f"
      },
      "outputs": [
        {
          "output_type": "execute_result",
          "data": {
            "text/plain": [
              "Pipeline(steps=[('clf', SGDClassifier())])"
            ]
          },
          "metadata": {},
          "execution_count": 107
        }
      ],
      "source": [
        "from sklearn.linear_model import SGDClassifier\n",
        "\n",
        "sgd = Pipeline([\n",
        "                ('clf', SGDClassifier()),\n",
        "               ])\n",
        "sgd.fit(X_train_tf, y_train)"
      ]
    },
    {
      "cell_type": "code",
      "execution_count": null,
      "metadata": {
        "colab": {
          "base_uri": "https://localhost:8080/"
        },
        "id": "sh5sgAZFp0pw",
        "outputId": "bc7f69c9-4cca-43f5-8929-6f9fdeb9e264"
      },
      "outputs": [
        {
          "output_type": "stream",
          "name": "stdout",
          "text": [
            "CPU times: user 21.7 ms, sys: 6.31 ms, total: 28 ms\n",
            "Wall time: 28.9 ms\n"
          ]
        }
      ],
      "source": [
        "%%time\n",
        "y_pred = sgd.predict(X_test_tf)"
      ]
    },
    {
      "cell_type": "code",
      "execution_count": null,
      "metadata": {
        "colab": {
          "base_uri": "https://localhost:8080/"
        },
        "id": "nYNpF5ddp5WM",
        "outputId": "238c6e6b-95a2-4f38-ae1b-167cf64d23cf"
      },
      "outputs": [
        {
          "output_type": "stream",
          "name": "stdout",
          "text": [
            "accuracy 0.6014319809069213\n",
            "              precision    recall  f1-score   support\n",
            "\n",
            "           0       0.54      0.54      0.54       543\n",
            "           1       0.65      0.65      0.65       714\n",
            "\n",
            "    accuracy                           0.60      1257\n",
            "   macro avg       0.59      0.59      0.59      1257\n",
            "weighted avg       0.60      0.60      0.60      1257\n",
            "\n"
          ]
        }
      ],
      "source": [
        "from sklearn.metrics import classification_report\n",
        "print('accuracy %s' % accuracy_score(y_pred, y_test))\n",
        "print(classification_report(y_test, y_pred,target_names=my_target))"
      ]
    },
    {
      "cell_type": "code",
      "execution_count": null,
      "metadata": {
        "colab": {
          "base_uri": "https://localhost:8080/"
        },
        "id": "XMaOAJZup93f",
        "outputId": "20dd1034-d8bc-4c3d-f68a-044203023ad8"
      },
      "outputs": [
        {
          "output_type": "execute_result",
          "data": {
            "text/plain": [
              "RandomForestClassifier()"
            ]
          },
          "metadata": {},
          "execution_count": 223
        }
      ],
      "source": [
        "from sklearn.ensemble import RandomForestClassifier\n",
        "\n",
        "randfor = RandomForestClassifier()\n",
        "randfor.fit(X_train_tf, y_train)"
      ]
    },
    {
      "cell_type": "code",
      "execution_count": null,
      "metadata": {
        "colab": {
          "base_uri": "https://localhost:8080/"
        },
        "id": "nVX-F5K9qJ53",
        "outputId": "343624df-d586-4fb5-e099-2cbbca51d84f"
      },
      "outputs": [
        {
          "output_type": "stream",
          "name": "stdout",
          "text": [
            "CPU times: user 78.4 ms, sys: 3.03 ms, total: 81.5 ms\n",
            "Wall time: 82.5 ms\n"
          ]
        }
      ],
      "source": [
        "%%time\n",
        "y_pred = randfor.predict(X_test_tf)"
      ]
    },
    {
      "cell_type": "code",
      "execution_count": null,
      "metadata": {
        "colab": {
          "base_uri": "https://localhost:8080/"
        },
        "id": "--jikVONqMLS",
        "outputId": "90b4cba3-db17-4f14-f660-06dd1ef6f2ca"
      },
      "outputs": [
        {
          "output_type": "stream",
          "name": "stdout",
          "text": [
            "accuracy 0.6372315035799523\n",
            "              precision    recall  f1-score   support\n",
            "\n",
            "           0       0.61      0.44      0.51       543\n",
            "           1       0.65      0.79      0.71       714\n",
            "\n",
            "    accuracy                           0.64      1257\n",
            "   macro avg       0.63      0.61      0.61      1257\n",
            "weighted avg       0.63      0.64      0.62      1257\n",
            "\n"
          ]
        }
      ],
      "source": [
        "from sklearn.metrics import classification_report\n",
        "print('accuracy %s' % accuracy_score(y_pred, y_test))\n",
        "print(classification_report(y_test, y_pred,target_names=my_target))"
      ]
    },
    {
      "cell_type": "code",
      "source": [
        "table2 = pd.Series(randfor.feature_importances_, index=X_train_tf.columns).nlargest(10)\n",
        "   \n",
        "ax = table2.plot(kind='barh', title= \"Important features of the model\")\n",
        "ax.figure.savefig('tf-randomForest.png')"
      ],
      "metadata": {
        "colab": {
          "base_uri": "https://localhost:8080/",
          "height": 261
        },
        "id": "P9Xuj0U1iaLV",
        "outputId": "296b0ff1-072a-46f6-c6eb-f18645df6b05"
      },
      "execution_count": null,
      "outputs": [
        {
          "output_type": "display_data",
          "data": {
            "text/plain": [
              "<Figure size 576x252 with 1 Axes>"
            ],
            "image/png": "[encoded data removed]"
          },
          "metadata": {
            "needs_background": "light"
          }
        }
      ]
    },
    {
      "cell_type": "code",
      "execution_count": null,
      "metadata": {
        "colab": {
          "base_uri": "https://localhost:8080/"
        },
        "id": "ZSWqU2kkqUjn",
        "outputId": "70f2f93b-bcb7-4987-dbdd-7a700e679f80"
      },
      "outputs": [
        {
          "output_type": "execute_result",
          "data": {
            "text/plain": [
              "Pipeline(steps=[('clf', GradientBoostingClassifier())])"
            ]
          },
          "metadata": {},
          "execution_count": 113
        }
      ],
      "source": [
        "from sklearn.ensemble import GradientBoostingClassifier\n",
        "graboos = Pipeline([\n",
        "                ('clf', GradientBoostingClassifier()),\n",
        "               ])\n",
        "graboos.fit(X_train_tf, y_train)"
      ]
    },
    {
      "cell_type": "code",
      "execution_count": null,
      "metadata": {
        "colab": {
          "base_uri": "https://localhost:8080/"
        },
        "id": "TC2dQKE_qb2o",
        "outputId": "e142a59b-4f5b-4c2b-dd83-23b5c7ef0b72"
      },
      "outputs": [
        {
          "output_type": "stream",
          "name": "stdout",
          "text": [
            "CPU times: user 32.3 ms, sys: 1.05 ms, total: 33.3 ms\n",
            "Wall time: 38.6 ms\n"
          ]
        }
      ],
      "source": [
        "%%time\n",
        "y_pred = graboos.predict(X_test_tf)"
      ]
    },
    {
      "cell_type": "code",
      "execution_count": null,
      "metadata": {
        "colab": {
          "base_uri": "https://localhost:8080/"
        },
        "id": "tQESw9zkqgNF",
        "outputId": "40ce1ffa-0e11-4889-f03e-1ae5a43a52bd"
      },
      "outputs": [
        {
          "output_type": "stream",
          "name": "stdout",
          "text": [
            "accuracy 0.6133651551312649\n",
            "              precision    recall  f1-score   support\n",
            "\n",
            "           0       0.56      0.50      0.53       543\n",
            "           1       0.65      0.70      0.67       714\n",
            "\n",
            "    accuracy                           0.61      1257\n",
            "   macro avg       0.60      0.60      0.60      1257\n",
            "weighted avg       0.61      0.61      0.61      1257\n",
            "\n"
          ]
        }
      ],
      "source": [
        "from sklearn.metrics import classification_report\n",
        "print('accuracy %s' % accuracy_score(y_pred, y_test))\n",
        "print(classification_report(y_test, y_pred,target_names=my_target))"
      ]
    },
    {
      "cell_type": "code",
      "execution_count": null,
      "metadata": {
        "colab": {
          "base_uri": "https://localhost:8080/"
        },
        "id": "nh_OLfMsqhhp",
        "outputId": "385fa6a0-ecdb-4484-89cd-984cb80fa2a1"
      },
      "outputs": [
        {
          "output_type": "execute_result",
          "data": {
            "text/plain": [
              "Pipeline(steps=[('clf', XGBClassifier())])"
            ]
          },
          "metadata": {},
          "execution_count": 116
        }
      ],
      "source": [
        "import xgboost as xgb\n",
        "\n",
        "xgboo = Pipeline([\n",
        "                ('clf', xgb.XGBClassifier()),\n",
        "               ])\n",
        "xgboo.fit(X_train_tf, y_train)"
      ]
    },
    {
      "cell_type": "code",
      "execution_count": null,
      "metadata": {
        "colab": {
          "base_uri": "https://localhost:8080/"
        },
        "id": "zmSayhgMqt9K",
        "outputId": "72550702-e739-48b3-a5d2-a56b476aca9b"
      },
      "outputs": [
        {
          "output_type": "stream",
          "name": "stdout",
          "text": [
            "CPU times: user 47.4 ms, sys: 2.78 ms, total: 50.2 ms\n",
            "Wall time: 47.8 ms\n"
          ]
        }
      ],
      "source": [
        "%%time\n",
        "y_pred = xgboo.predict(X_test_tf)"
      ]
    },
    {
      "cell_type": "code",
      "execution_count": null,
      "metadata": {
        "colab": {
          "base_uri": "https://localhost:8080/"
        },
        "id": "Usb_U-0aqx3Z",
        "outputId": "37e5d1e7-9222-4a1f-dff1-fcfcdc6100bb"
      },
      "outputs": [
        {
          "output_type": "stream",
          "name": "stdout",
          "text": [
            "accuracy 0.6149562450278441\n",
            "              precision    recall  f1-score   support\n",
            "\n",
            "           0       0.56      0.51      0.53       543\n",
            "           1       0.65      0.69      0.67       714\n",
            "\n",
            "    accuracy                           0.61      1257\n",
            "   macro avg       0.61      0.60      0.60      1257\n",
            "weighted avg       0.61      0.61      0.61      1257\n",
            "\n"
          ]
        }
      ],
      "source": [
        "from sklearn.metrics import classification_report\n",
        "print('accuracy %s' % accuracy_score(y_pred, y_test))\n",
        "print(classification_report(y_test, y_pred,target_names=my_target))"
      ]
    },
    {
      "cell_type": "code",
      "execution_count": null,
      "metadata": {
        "colab": {
          "base_uri": "https://localhost:8080/"
        },
        "id": "MSjAjE_Tq0Z-",
        "outputId": "85130cfe-adb4-4b08-c668-7abc930462ad"
      },
      "outputs": [
        {
          "output_type": "execute_result",
          "data": {
            "text/plain": [
              "Pipeline(steps=[('kn', KNeighborsClassifier(n_neighbors=3))])"
            ]
          },
          "metadata": {},
          "execution_count": 119
        }
      ],
      "source": [
        "from sklearn.neighbors import KNeighborsClassifier\n",
        "\n",
        "kn = Pipeline([\n",
        "              ('kn',KNeighborsClassifier(n_neighbors=3)),\n",
        "               ])\n",
        "kn.fit(X_train_tf, y_train)"
      ]
    },
    {
      "cell_type": "code",
      "execution_count": null,
      "metadata": {
        "colab": {
          "base_uri": "https://localhost:8080/"
        },
        "id": "3qmpjKRGq-Db",
        "outputId": "46790973-fdc4-4882-b5e9-741fdf06be3b"
      },
      "outputs": [
        {
          "output_type": "stream",
          "name": "stdout",
          "text": [
            "CPU times: user 1.11 s, sys: 89.3 ms, total: 1.2 s\n",
            "Wall time: 716 ms\n"
          ]
        }
      ],
      "source": [
        "%%time\n",
        "y_pred = kn.predict(X_test_tf)"
      ]
    },
    {
      "cell_type": "code",
      "execution_count": null,
      "metadata": {
        "colab": {
          "base_uri": "https://localhost:8080/"
        },
        "id": "AQfP19XJrA0E",
        "outputId": "f368959d-2413-41eb-c51a-ada8fee1626d"
      },
      "outputs": [
        {
          "output_type": "stream",
          "name": "stdout",
          "text": [
            "accuracy 0.5624502784407319\n",
            "              precision    recall  f1-score   support\n",
            "\n",
            "           0       0.49      0.48      0.48       543\n",
            "           1       0.61      0.63      0.62       714\n",
            "\n",
            "    accuracy                           0.56      1257\n",
            "   macro avg       0.55      0.55      0.55      1257\n",
            "weighted avg       0.56      0.56      0.56      1257\n",
            "\n"
          ]
        }
      ],
      "source": [
        "from sklearn.metrics import classification_report\n",
        "print('accuracy %s' % accuracy_score(y_pred, y_test))\n",
        "print(classification_report(y_test, y_pred,target_names=my_target))"
      ]
    },
    {
      "cell_type": "markdown",
      "metadata": {
        "id": "ZbmAvsljrEsi"
      },
      "source": [
        "# Second Prediction with Count"
      ]
    },
    {
      "cell_type": "code",
      "execution_count": null,
      "metadata": {
        "id": "3htj_rSRreU5"
      },
      "outputs": [],
      "source": [
        "from sklearn.feature_extraction.text import CountVectorizer\n",
        "vectorizer_tf = CountVectorizer()"
      ]
    },
    {
      "cell_type": "code",
      "execution_count": null,
      "metadata": {
        "id": "Ne7Ez6mtro-x"
      },
      "outputs": [],
      "source": [
        "train_vectors = vectorizer_tf.fit_transform(X_train.facts) \n",
        "test_vectors = vectorizer_tf.transform(X_test.facts)"
      ]
    },
    {
      "cell_type": "code",
      "execution_count": null,
      "metadata": {
        "colab": {
          "base_uri": "https://localhost:8080/"
        },
        "id": "7M09VCXPruLL",
        "outputId": "f19a18e2-8788-4010-be3a-7fdba7d3fecf"
      },
      "outputs": [
        {
          "output_type": "stream",
          "name": "stderr",
          "text": [
            "/usr/local/lib/python3.8/dist-packages/sklearn/utils/deprecation.py:87: FutureWarning: Function get_feature_names is deprecated; get_feature_names is deprecated in 1.0 and will be removed in 1.2. Please use get_feature_names_out instead.\n",
            "  warnings.warn(msg, category=FutureWarning)\n"
          ]
        }
      ],
      "source": [
        "train_df=pd.DataFrame(train_vectors.toarray(), columns=vectorizer_tf.get_feature_names())\n",
        "test_df=pd.DataFrame(test_vectors.toarray(), columns=vectorizer_tf.get_feature_names())"
      ]
    },
    {
      "cell_type": "code",
      "execution_count": null,
      "metadata": {
        "id": "iOIMX0Tirwx_"
      },
      "outputs": [],
      "source": [
        "train_df=pd.concat([train_df,X_train.loc[:, X_train.columns != \"facts\"].reset_index(drop=True)], axis=1)\n",
        "test_df=pd.concat([test_df,X_test.loc[:, X_test.columns != \"facts\"].reset_index(drop=True)], axis=1)"
      ]
    },
    {
      "cell_type": "code",
      "execution_count": null,
      "metadata": {
        "id": "6qTwJl1Mr1TT"
      },
      "outputs": [],
      "source": [
        "X_train_count = train_df\n",
        "X_test_count = test_df"
      ]
    },
    {
      "cell_type": "code",
      "execution_count": null,
      "metadata": {
        "colab": {
          "base_uri": "https://localhost:8080/"
        },
        "id": "-JJ6FrHEsKcL",
        "outputId": "3fdaffa5-a8f2-4998-d13a-0bba8c269369"
      },
      "outputs": [
        {
          "output_type": "stream",
          "name": "stderr",
          "text": [
            "/usr/local/lib/python3.8/dist-packages/sklearn/linear_model/_logistic.py:814: ConvergenceWarning: lbfgs failed to converge (status=1):\n",
            "STOP: TOTAL NO. of ITERATIONS REACHED LIMIT.\n",
            "\n",
            "Increase the number of iterations (max_iter) or scale the data as shown in:\n",
            "    https://scikit-learn.org/stable/modules/preprocessing.html\n",
            "Please also refer to the documentation for alternative solver options:\n",
            "    https://scikit-learn.org/stable/modules/linear_model.html#logistic-regression\n",
            "  n_iter_i = _check_optimize_result(\n"
          ]
        },
        {
          "output_type": "execute_result",
          "data": {
            "text/plain": [
              "Pipeline(steps=[('clf', LogisticRegression())])"
            ]
          },
          "metadata": {},
          "execution_count": 97
        }
      ],
      "source": [
        "logreg = Pipeline([\n",
        "                ('clf', LogisticRegression()),\n",
        "               ])\n",
        "logreg.fit(X_train_count, y_train)"
      ]
    },
    {
      "cell_type": "code",
      "execution_count": null,
      "metadata": {
        "colab": {
          "base_uri": "https://localhost:8080/"
        },
        "id": "nxtkMCBZsVt0",
        "outputId": "303a9ca8-1296-457b-cf34-e3dc55c2f47f"
      },
      "outputs": [
        {
          "output_type": "stream",
          "name": "stdout",
          "text": [
            "CPU times: user 454 ms, sys: 103 ms, total: 557 ms\n",
            "Wall time: 477 ms\n"
          ]
        }
      ],
      "source": [
        "%%time\n",
        "y_pred = logreg.predict(X_test_count)"
      ]
    },
    {
      "cell_type": "code",
      "source": [
        "my_target = ['0', '1']"
      ],
      "metadata": {
        "id": "9Yhhh0xDkUj0"
      },
      "execution_count": null,
      "outputs": []
    },
    {
      "cell_type": "code",
      "execution_count": null,
      "metadata": {
        "colab": {
          "base_uri": "https://localhost:8080/"
        },
        "id": "nXCtaiw-sftL",
        "outputId": "3b6ddb15-3570-40a7-bc75-89f07c29cd46"
      },
      "outputs": [
        {
          "output_type": "stream",
          "name": "stdout",
          "text": [
            "accuracy 0.5719968178202068\n",
            "              precision    recall  f1-score   support\n",
            "\n",
            "           0       0.50      0.48      0.49       543\n",
            "           1       0.62      0.64      0.63       714\n",
            "\n",
            "    accuracy                           0.57      1257\n",
            "   macro avg       0.56      0.56      0.56      1257\n",
            "weighted avg       0.57      0.57      0.57      1257\n",
            "\n"
          ]
        }
      ],
      "source": [
        "from sklearn.metrics import classification_report\n",
        "print('accuracy %s' % accuracy_score(y_pred, y_test))\n",
        "print(classification_report(y_test, y_pred,target_names=my_target))"
      ]
    },
    {
      "cell_type": "code",
      "execution_count": null,
      "metadata": {
        "colab": {
          "base_uri": "https://localhost:8080/"
        },
        "id": "QkTlg-WXswb8",
        "outputId": "b0f276d3-d8db-40e9-d11f-229646d0e2a9"
      },
      "outputs": [
        {
          "output_type": "execute_result",
          "data": {
            "text/plain": [
              "Pipeline(steps=[('clf', SGDClassifier())])"
            ]
          },
          "metadata": {},
          "execution_count": 131
        }
      ],
      "source": [
        "from sklearn.linear_model import SGDClassifier\n",
        "\n",
        "sgd = Pipeline([\n",
        "                ('clf', SGDClassifier()),\n",
        "               ])\n",
        "sgd.fit(X_train_count, y_train)"
      ]
    },
    {
      "cell_type": "code",
      "execution_count": null,
      "metadata": {
        "colab": {
          "base_uri": "https://localhost:8080/"
        },
        "id": "jBX1rR0OtBtj",
        "outputId": "17e3aa61-58ba-4132-a8b0-c15dce9d2912"
      },
      "outputs": [
        {
          "output_type": "stream",
          "name": "stdout",
          "text": [
            "CPU times: user 487 ms, sys: 10.7 ms, total: 498 ms\n",
            "Wall time: 482 ms\n"
          ]
        }
      ],
      "source": [
        "%%time\n",
        "y_pred = sgd.predict(X_test_count)"
      ]
    },
    {
      "cell_type": "code",
      "execution_count": null,
      "metadata": {
        "colab": {
          "base_uri": "https://localhost:8080/"
        },
        "id": "aqNkCEf6s1yq",
        "outputId": "7583d47b-dc70-4aaf-ab5a-ac9a3d2d7a65"
      },
      "outputs": [
        {
          "output_type": "stream",
          "name": "stdout",
          "text": [
            "accuracy 0.5894988066825776\n",
            "              precision    recall  f1-score   support\n",
            "\n",
            "           0       0.52      0.54      0.53       543\n",
            "           1       0.64      0.63      0.63       714\n",
            "\n",
            "    accuracy                           0.59      1257\n",
            "   macro avg       0.58      0.58      0.58      1257\n",
            "weighted avg       0.59      0.59      0.59      1257\n",
            "\n"
          ]
        }
      ],
      "source": [
        "from sklearn.metrics import classification_report\n",
        "print('accuracy %s' % accuracy_score(y_pred, y_test))\n",
        "print(classification_report(y_test, y_pred,target_names=my_target))"
      ]
    },
    {
      "cell_type": "code",
      "execution_count": null,
      "metadata": {
        "colab": {
          "base_uri": "https://localhost:8080/"
        },
        "id": "ereszU4HtH-0",
        "outputId": "fabc41ed-34bd-4ee1-90e8-3a200a62c651"
      },
      "outputs": [
        {
          "output_type": "execute_result",
          "data": {
            "text/plain": [
              "Pipeline(steps=[('clf', MultinomialNB())])"
            ]
          },
          "metadata": {},
          "execution_count": 134
        }
      ],
      "source": [
        "from sklearn.naive_bayes import MultinomialNB\n",
        "from sklearn.pipeline import Pipeline\n",
        "from sklearn.feature_extraction.text import TfidfTransformer\n",
        "\n",
        "nb = Pipeline([\n",
        "    ('clf', MultinomialNB()),\n",
        "              ])\n",
        "nb.fit(X_train_count, y_train)"
      ]
    },
    {
      "cell_type": "code",
      "execution_count": null,
      "metadata": {
        "colab": {
          "base_uri": "https://localhost:8080/"
        },
        "id": "QS6AMXeutNWh",
        "outputId": "ca078f33-8d87-4a20-bbe6-c28c619af57c"
      },
      "outputs": [
        {
          "output_type": "stream",
          "name": "stdout",
          "text": [
            "CPU times: user 518 ms, sys: 11.3 ms, total: 529 ms\n",
            "Wall time: 494 ms\n"
          ]
        }
      ],
      "source": [
        "%%time\n",
        "y_pred = nb.predict(X_test_count)"
      ]
    },
    {
      "cell_type": "code",
      "execution_count": null,
      "metadata": {
        "colab": {
          "base_uri": "https://localhost:8080/"
        },
        "id": "-7OWBkzftPeh",
        "outputId": "ae644ee6-5c0b-445e-9481-16c8ca9b590c"
      },
      "outputs": [
        {
          "output_type": "stream",
          "name": "stdout",
          "text": [
            "accuracy 0.6324582338902148\n",
            "              precision    recall  f1-score   support\n",
            "\n",
            "           0       0.58      0.52      0.55       543\n",
            "           1       0.66      0.72      0.69       714\n",
            "\n",
            "    accuracy                           0.63      1257\n",
            "   macro avg       0.62      0.62      0.62      1257\n",
            "weighted avg       0.63      0.63      0.63      1257\n",
            "\n"
          ]
        }
      ],
      "source": [
        "from sklearn.metrics import classification_report\n",
        "print('accuracy %s' % accuracy_score(y_pred, y_test))\n",
        "print(classification_report(y_test, y_pred,target_names=my_target))"
      ]
    },
    {
      "cell_type": "code",
      "execution_count": null,
      "metadata": {
        "colab": {
          "base_uri": "https://localhost:8080/"
        },
        "id": "tTK_BSYrtTXq",
        "outputId": "27036ee6-9a34-4de9-e39f-4239ca66102b"
      },
      "outputs": [
        {
          "output_type": "execute_result",
          "data": {
            "text/plain": [
              "Pipeline(steps=[('clf', RandomForestClassifier())])"
            ]
          },
          "metadata": {},
          "execution_count": 137
        }
      ],
      "source": [
        "from sklearn.ensemble import RandomForestClassifier\n",
        "\n",
        "randfor = Pipeline([\n",
        "    \n",
        "                ('clf', RandomForestClassifier()),\n",
        "               ])\n",
        "randfor.fit(X_train_count, y_train)"
      ]
    },
    {
      "cell_type": "code",
      "execution_count": null,
      "metadata": {
        "colab": {
          "base_uri": "https://localhost:8080/"
        },
        "id": "08wgrwPDteEi",
        "outputId": "a04c76bd-dbd1-437a-d4ff-f4d79d3382de"
      },
      "outputs": [
        {
          "output_type": "stream",
          "name": "stdout",
          "text": [
            "CPU times: user 246 ms, sys: 2.82 ms, total: 249 ms\n",
            "Wall time: 249 ms\n"
          ]
        }
      ],
      "source": [
        "%%time\n",
        "y_pred = randfor.predict(X_test_count)"
      ]
    },
    {
      "cell_type": "code",
      "execution_count": null,
      "metadata": {
        "colab": {
          "base_uri": "https://localhost:8080/"
        },
        "id": "0y1ziEEMthiL",
        "outputId": "fe88c8cd-d997-4fc3-833f-7897a4999f66"
      },
      "outputs": [
        {
          "output_type": "stream",
          "name": "stdout",
          "text": [
            "accuracy 0.6324582338902148\n",
            "              precision    recall  f1-score   support\n",
            "\n",
            "           0       0.60      0.43      0.50       543\n",
            "           1       0.64      0.79      0.71       714\n",
            "\n",
            "    accuracy                           0.63      1257\n",
            "   macro avg       0.62      0.61      0.61      1257\n",
            "weighted avg       0.63      0.63      0.62      1257\n",
            "\n"
          ]
        }
      ],
      "source": [
        "from sklearn.metrics import classification_report\n",
        "print('accuracy %s' % accuracy_score(y_pred, y_test))\n",
        "print(classification_report(y_test, y_pred,target_names=my_target))"
      ]
    },
    {
      "cell_type": "code",
      "execution_count": null,
      "metadata": {
        "colab": {
          "base_uri": "https://localhost:8080/"
        },
        "id": "KdGJjzxitkQo",
        "outputId": "93697050-d69a-43ef-ad72-60460c7e49b0"
      },
      "outputs": [
        {
          "output_type": "execute_result",
          "data": {
            "text/plain": [
              "Pipeline(steps=[('clf', GradientBoostingClassifier())])"
            ]
          },
          "metadata": {},
          "execution_count": 140
        }
      ],
      "source": [
        "from sklearn.ensemble import GradientBoostingClassifier\n",
        "graboos = Pipeline([\n",
        "                ('clf', GradientBoostingClassifier()),\n",
        "               ])\n",
        "graboos.fit(X_train_count, y_train)"
      ]
    },
    {
      "cell_type": "code",
      "execution_count": null,
      "metadata": {
        "colab": {
          "base_uri": "https://localhost:8080/"
        },
        "id": "aEBGgaefto2R",
        "outputId": "b7a8e6da-3832-4757-bdde-b5e6bb475443"
      },
      "outputs": [
        {
          "output_type": "stream",
          "name": "stdout",
          "text": [
            "CPU times: user 450 ms, sys: 9.14 ms, total: 459 ms\n",
            "Wall time: 460 ms\n"
          ]
        }
      ],
      "source": [
        "%%time\n",
        "y_pred = graboos.predict(X_test_count)"
      ]
    },
    {
      "cell_type": "code",
      "execution_count": null,
      "metadata": {
        "colab": {
          "base_uri": "https://localhost:8080/"
        },
        "id": "dXQLoITgtrJz",
        "outputId": "11cfe694-bb40-4ac5-c333-238553a67c10"
      },
      "outputs": [
        {
          "output_type": "stream",
          "name": "stdout",
          "text": [
            "accuracy 0.6101829753381066\n",
            "              precision    recall  f1-score   support\n",
            "\n",
            "           0       0.56      0.47      0.51       543\n",
            "           1       0.64      0.71      0.68       714\n",
            "\n",
            "    accuracy                           0.61      1257\n",
            "   macro avg       0.60      0.59      0.59      1257\n",
            "weighted avg       0.60      0.61      0.60      1257\n",
            "\n"
          ]
        }
      ],
      "source": [
        "from sklearn.metrics import classification_report\n",
        "print('accuracy %s' % accuracy_score(y_pred, y_test))\n",
        "print(classification_report(y_test, y_pred,target_names=my_target))"
      ]
    },
    {
      "cell_type": "code",
      "execution_count": null,
      "metadata": {
        "colab": {
          "base_uri": "https://localhost:8080/"
        },
        "id": "tlXDagxjttnU",
        "outputId": "16212951-ae94-4f60-e9df-b4994e3c00bf"
      },
      "outputs": [
        {
          "output_type": "execute_result",
          "data": {
            "text/plain": [
              "XGBClassifier()"
            ]
          },
          "metadata": {},
          "execution_count": 192
        }
      ],
      "source": [
        "import xgboost as xgb\n",
        "\n",
        "xgboo = xgb.XGBClassifier()\n",
        "xgboo.fit(X_train_count, y_train)"
      ]
    },
    {
      "cell_type": "code",
      "execution_count": null,
      "metadata": {
        "colab": {
          "base_uri": "https://localhost:8080/"
        },
        "id": "-JUsrVPjtx3u",
        "outputId": "13c0f569-d349-4dc2-aae3-8b5564d32f38"
      },
      "outputs": [
        {
          "output_type": "stream",
          "name": "stdout",
          "text": [
            "CPU times: user 500 ms, sys: 214 ms, total: 714 ms\n",
            "Wall time: 715 ms\n"
          ]
        }
      ],
      "source": [
        "%%time\n",
        "y_pred = xgboo.predict(X_test_count)"
      ]
    },
    {
      "cell_type": "code",
      "execution_count": null,
      "metadata": {
        "colab": {
          "base_uri": "https://localhost:8080/"
        },
        "id": "kouQJT0dt4RX",
        "outputId": "dfd88242-edb5-40ff-8489-95c43c0775b4"
      },
      "outputs": [
        {
          "output_type": "stream",
          "name": "stdout",
          "text": [
            "accuracy 0.6260938743038982\n",
            "              precision    recall  f1-score   support\n",
            "\n",
            "           0       0.58      0.51      0.54       543\n",
            "           1       0.66      0.72      0.68       714\n",
            "\n",
            "    accuracy                           0.63      1257\n",
            "   macro avg       0.62      0.61      0.61      1257\n",
            "weighted avg       0.62      0.63      0.62      1257\n",
            "\n"
          ]
        }
      ],
      "source": [
        "from sklearn.metrics import classification_report\n",
        "print('accuracy %s' % accuracy_score(y_pred, y_test))\n",
        "print(classification_report(y_test, y_pred,target_names=my_target))"
      ]
    },
    {
      "cell_type": "code",
      "source": [
        "table3 = pd.Series(xgboo.feature_importances_, index=X_train_count.columns).nlargest(10)\n",
        "   \n",
        "ax = table3.plot(kind='barh', title= \"Important features of the model\")\n",
        "ax.figure.savefig('count-xgboo.png')"
      ],
      "metadata": {
        "colab": {
          "base_uri": "https://localhost:8080/",
          "height": 261
        },
        "id": "3gQlAnRPmjVW",
        "outputId": "7e3226c0-daed-4653-f09e-c90db1cd94e1"
      },
      "execution_count": null,
      "outputs": [
        {
          "output_type": "display_data",
          "data": {
            "text/plain": [
              "<Figure size 576x252 with 1 Axes>"
            ],
            "image/png": "[encoded data removed]"
          },
          "metadata": {
            "needs_background": "light"
          }
        }
      ]
    },
    {
      "cell_type": "code",
      "execution_count": null,
      "metadata": {
        "colab": {
          "base_uri": "https://localhost:8080/"
        },
        "id": "suxwqbzGt6U-",
        "outputId": "67fb007f-fbd2-4da3-abff-7cfddedf55b4"
      },
      "outputs": [
        {
          "output_type": "execute_result",
          "data": {
            "text/plain": [
              "Pipeline(steps=[('kn', KNeighborsClassifier(n_neighbors=15))])"
            ]
          },
          "metadata": {},
          "execution_count": 147
        }
      ],
      "source": [
        "from sklearn.neighbors import KNeighborsClassifier\n",
        "\n",
        "kn = Pipeline([\n",
        "    \n",
        "                #('pca', pca),\n",
        "              ('kn',KNeighborsClassifier(n_neighbors=15)),\n",
        "               ])\n",
        "kn.fit(X_train_count, y_train)"
      ]
    },
    {
      "cell_type": "code",
      "execution_count": null,
      "metadata": {
        "colab": {
          "base_uri": "https://localhost:8080/"
        },
        "id": "3z8DOh3guA0o",
        "outputId": "04238f80-fe4d-4e6e-deaf-64340af8c9e9"
      },
      "outputs": [
        {
          "output_type": "stream",
          "name": "stdout",
          "text": [
            "CPU times: user 13.5 s, sys: 332 ms, total: 13.8 s\n",
            "Wall time: 7.53 s\n"
          ]
        }
      ],
      "source": [
        "%%time\n",
        "y_pred = kn.predict(X_test_count)"
      ]
    },
    {
      "cell_type": "code",
      "execution_count": null,
      "metadata": {
        "colab": {
          "base_uri": "https://localhost:8080/"
        },
        "id": "Yi0EL_g3uFJd",
        "outputId": "4552b90f-1e32-4398-a201-1ceeb0aba217"
      },
      "outputs": [
        {
          "output_type": "stream",
          "name": "stdout",
          "text": [
            "accuracy 0.5823389021479713\n",
            "              precision    recall  f1-score   support\n",
            "\n",
            "           0       0.52      0.57      0.54       543\n",
            "           1       0.64      0.60      0.62       714\n",
            "\n",
            "    accuracy                           0.58      1257\n",
            "   macro avg       0.58      0.58      0.58      1257\n",
            "weighted avg       0.59      0.58      0.58      1257\n",
            "\n"
          ]
        }
      ],
      "source": [
        "from sklearn.metrics import classification_report\n",
        "print('accuracy %s' % accuracy_score(y_pred, y_test))\n",
        "print(classification_report(y_test, y_pred,target_names=my_target))"
      ]
    },
    {
      "cell_type": "markdown",
      "source": [
        "# Multiple test to improve the accuracy"
      ],
      "metadata": {
        "id": "xfAdO18kXYCI"
      }
    },
    {
      "cell_type": "code",
      "source": [
        "from sklearn.model_selection import train_test_split\n",
        "X_train, X_test = train_test_split(big_df, test_size=0.2, random_state=42)"
      ],
      "metadata": {
        "id": "g7AV1VY9XbVr"
      },
      "execution_count": null,
      "outputs": []
    },
    {
      "cell_type": "code",
      "source": [
        "y_train = X_train[\"target\"]\n",
        "X_train = X_train.loc[:, X_train.columns != 'target']"
      ],
      "metadata": {
        "id": "rmQfhZDiXbxj"
      },
      "execution_count": null,
      "outputs": []
    },
    {
      "cell_type": "code",
      "source": [
        "ros = RandomOverSampler(random_state=42)\n",
        "X_train_ros, y_train_ros= ros.fit_resample(X_train, y_train)"
      ],
      "metadata": {
        "id": "S_Jx-rksYjwS"
      },
      "execution_count": null,
      "outputs": []
    },
    {
      "cell_type": "code",
      "source": [
        "X_train = X_train_ros\n",
        "y_train = y_train_ros"
      ],
      "metadata": {
        "id": "msvH-x7zYl2S"
      },
      "execution_count": null,
      "outputs": []
    },
    {
      "cell_type": "code",
      "source": [
        "y_test = X_test[\"target\"]\n",
        "X_test = X_test.loc[:, X_test.columns != 'target']"
      ],
      "metadata": {
        "id": "VDX51va6Ynoe"
      },
      "execution_count": null,
      "outputs": []
    },
    {
      "cell_type": "code",
      "source": [
        "from sklearn.naive_bayes import MultinomialNB\n",
        "from sklearn.pipeline import Pipeline\n",
        "from sklearn.feature_extraction.text import TfidfTransformer"
      ],
      "metadata": {
        "id": "xfchVeniYrLs"
      },
      "execution_count": null,
      "outputs": []
    },
    {
      "cell_type": "code",
      "source": [
        "from sklearn.linear_model import LogisticRegression\n",
        "\n",
        "logreg = Pipeline([('vect', CountVectorizer(ngram_range=(1, 2))),\n",
        "                ('tfidf', TfidfTransformer()),\n",
        "                ('clf', LogisticRegression(n_jobs=1, C=1e5, solver='lbfgs', max_iter=100000)),\n",
        "               ])\n",
        "logreg.fit(X_train[\"facts\"], y_train)"
      ],
      "metadata": {
        "colab": {
          "base_uri": "https://localhost:8080/"
        },
        "id": "JAZB0GCNazzb",
        "outputId": "a7d6fb7f-dfc7-4dc5-ca2d-96797e604567"
      },
      "execution_count": null,
      "outputs": [
        {
          "output_type": "execute_result",
          "data": {
            "text/plain": [
              "Pipeline(steps=[('vect', CountVectorizer(ngram_range=(1, 2))),\n",
              "                ('tfidf', TfidfTransformer()),\n",
              "                ('clf',\n",
              "                 LogisticRegression(C=100000.0, max_iter=100000, n_jobs=1))])"
            ]
          },
          "metadata": {},
          "execution_count": 443
        }
      ]
    },
    {
      "cell_type": "code",
      "source": [
        "%%time\n",
        "y_pred = logreg.predict(X_test[\"facts\"])"
      ],
      "metadata": {
        "colab": {
          "base_uri": "https://localhost:8080/"
        },
        "id": "gpOV5cAia3-C",
        "outputId": "b4996ab0-1081-4d57-e3f1-c84adb111295"
      },
      "execution_count": null,
      "outputs": [
        {
          "output_type": "stream",
          "name": "stdout",
          "text": [
            "CPU times: user 1.38 s, sys: 10.3 ms, total: 1.39 s\n",
            "Wall time: 1.4 s\n"
          ]
        }
      ]
    },
    {
      "cell_type": "code",
      "source": [
        "from sklearn.metrics import classification_report\n",
        "print('accuracy %s' % accuracy_score(y_pred, y_test))\n",
        "print(classification_report(y_test, y_pred,target_names=my_target))"
      ],
      "metadata": {
        "colab": {
          "base_uri": "https://localhost:8080/"
        },
        "id": "MCf5yWVNa9ig",
        "outputId": "cc14e1a6-9671-4d98-ccd7-9e8a84192d01"
      },
      "execution_count": null,
      "outputs": [
        {
          "output_type": "stream",
          "name": "stdout",
          "text": [
            "accuracy 0.5866454689984102\n",
            "              precision    recall  f1-score   support\n",
            "\n",
            "           0       0.51      0.44      0.47       532\n",
            "           1       0.63      0.70      0.66       726\n",
            "\n",
            "    accuracy                           0.59      1258\n",
            "   macro avg       0.57      0.57      0.57      1258\n",
            "weighted avg       0.58      0.59      0.58      1258\n",
            "\n"
          ]
        }
      ]
    },
    {
      "cell_type": "code",
      "source": [
        "randfor = Pipeline([('vect', CountVectorizer()),\n",
        "               ('tfidf', TfidfTransformer()),\n",
        "                ('clf', RandomForestClassifier()),\n",
        "               ])\n",
        "randfor.fit(X_train[\"facts\"], y_train)"
      ],
      "metadata": {
        "colab": {
          "base_uri": "https://localhost:8080/"
        },
        "id": "-XocjwZXaARX",
        "outputId": "8c8d968b-ba5b-4a32-b5e0-3add649cbdc6"
      },
      "execution_count": null,
      "outputs": [
        {
          "output_type": "execute_result",
          "data": {
            "text/plain": [
              "Pipeline(steps=[('vect', CountVectorizer()), ('tfidf', TfidfTransformer()),\n",
              "                ('clf', RandomForestClassifier())])"
            ]
          },
          "metadata": {},
          "execution_count": 440
        }
      ]
    },
    {
      "cell_type": "code",
      "source": [
        "%%time\n",
        "y_pred = randfor.predict(X_test[\"facts\"])"
      ],
      "metadata": {
        "colab": {
          "base_uri": "https://localhost:8080/"
        },
        "id": "OE21Cm-qaFiZ",
        "outputId": "9d863479-b525-4fd9-ce64-638cfa49365e"
      },
      "execution_count": null,
      "outputs": [
        {
          "output_type": "stream",
          "name": "stdout",
          "text": [
            "CPU times: user 682 ms, sys: 9.47 ms, total: 691 ms\n",
            "Wall time: 699 ms\n"
          ]
        }
      ]
    },
    {
      "cell_type": "code",
      "source": [
        "from sklearn.metrics import classification_report\n",
        "print('accuracy %s' % accuracy_score(y_pred, y_test))\n",
        "print(classification_report(y_test, y_pred,target_names=my_target))"
      ],
      "metadata": {
        "colab": {
          "base_uri": "https://localhost:8080/"
        },
        "id": "ELQ6t9cpaQKD",
        "outputId": "307f49ed-a023-4666-9b9e-83a302649650"
      },
      "execution_count": null,
      "outputs": [
        {
          "output_type": "stream",
          "name": "stdout",
          "text": [
            "accuracy 0.6025437201907791\n",
            "              precision    recall  f1-score   support\n",
            "\n",
            "           0       0.54      0.39      0.46       532\n",
            "           1       0.63      0.75      0.69       726\n",
            "\n",
            "    accuracy                           0.60      1258\n",
            "   macro avg       0.59      0.57      0.57      1258\n",
            "weighted avg       0.59      0.60      0.59      1258\n",
            "\n"
          ]
        }
      ]
    },
    {
      "cell_type": "code",
      "source": [
        "encoder = OneHotEncoder(handle_unknown='ignore')"
      ],
      "metadata": {
        "id": "XmsS57i0fUoj"
      },
      "execution_count": null,
      "outputs": []
    },
    {
      "cell_type": "code",
      "source": [
        "df_toPredict"
      ],
      "metadata": {
        "id": "ujo_x-7qgB1f"
      },
      "execution_count": null,
      "outputs": []
    },
    {
      "cell_type": "code",
      "source": [
        "encoder_second_df = pd.DataFrame(encoder.fit_transform(df_toPredict[['issue_area']]).toarray())"
      ],
      "metadata": {
        "id": "487kwwjvgGjl"
      },
      "execution_count": null,
      "outputs": []
    },
    {
      "cell_type": "code",
      "source": [
        "encoder_second_df.columns = ['Civil Rights', 'Criminal Procedure', 'Economic Activity',\n",
        "                      'First Amendment', 'Judicial Power', 'Others']"
      ],
      "metadata": {
        "id": "dABZZuSfgJ39"
      },
      "execution_count": null,
      "outputs": []
    },
    {
      "cell_type": "code",
      "source": [
        "df_toPredict = df_toPredict.join(encoder_second_df)\n",
        "df_toPredict.drop('issue_area', axis=1, inplace=True)"
      ],
      "metadata": {
        "id": "fzIPw_HwgGc4"
      },
      "execution_count": null,
      "outputs": []
    },
    {
      "cell_type": "code",
      "source": [
        "df_toPredict[['Civil Rights', 'Criminal Procedure', 'Economic Activity',\n",
        "                      'First Amendment', 'Judicial Power', 'Others']] = df_toPredict[['Civil Rights', 'Criminal Procedure', 'Economic Activity',\n",
        "                      'First Amendment', 'Judicial Power', 'Others']].astype(int)"
      ],
      "metadata": {
        "id": "CFwJDupwgGZ3"
      },
      "execution_count": null,
      "outputs": []
    },
    {
      "cell_type": "code",
      "source": [
        "df_toPredict = df_toPredict[[\"facts\", 'Civil Rights', 'Criminal Procedure', 'Economic Activity',\n",
        "                      'First Amendment', 'Judicial Power', 'Others', \"first_party_winner\"]]"
      ],
      "metadata": {
        "id": "ku-jKmG8gdQ2"
      },
      "execution_count": null,
      "outputs": []
    },
    {
      "cell_type": "code",
      "source": [
        "df_withoutNA"
      ],
      "metadata": {
        "id": "-9LLN2cVgGWy"
      },
      "execution_count": null,
      "outputs": []
    },
    {
      "cell_type": "code",
      "source": [
        "encoder_first_df = pd.DataFrame(encoder.fit_transform(df_withoutNA[['issue_area']]).toarray())"
      ],
      "metadata": {
        "id": "r7iF0EqugoHE"
      },
      "execution_count": null,
      "outputs": []
    },
    {
      "cell_type": "code",
      "source": [
        "encoder_first_df.columns = ['Civil Rights', 'Criminal Procedure', 'Economic Activity',\n",
        "                      'First Amendment', 'Judicial Power', 'Others']"
      ],
      "metadata": {
        "id": "Ay_KeRHFgoDt"
      },
      "execution_count": null,
      "outputs": []
    },
    {
      "cell_type": "code",
      "source": [
        "df_withoutNA = df_withoutNA.join(encoder_first_df)\n",
        "df_withoutNA.drop('issue_area', axis=1, inplace=True)"
      ],
      "metadata": {
        "id": "XoFRi3ltgu2v"
      },
      "execution_count": null,
      "outputs": []
    },
    {
      "cell_type": "code",
      "source": [
        "df_withoutNA[['Civil Rights', 'Criminal Procedure', 'Economic Activity',\n",
        "                      'First Amendment', 'Judicial Power', 'Others']] = df_withoutNA[['Civil Rights', 'Criminal Procedure', 'Economic Activity',\n",
        "                      'First Amendment', 'Judicial Power', 'Others']].astype(int)"
      ],
      "metadata": {
        "id": "mun34zEtguzt"
      },
      "execution_count": null,
      "outputs": []
    },
    {
      "cell_type": "code",
      "source": [
        "df_withoutNA = df_withoutNA[[\"facts\", 'Civil Rights', 'Criminal Procedure', 'Economic Activity',\n",
        "                      'First Amendment', 'Judicial Power', 'Others', \"first_party_winner\"]]"
      ],
      "metadata": {
        "id": "EtfT4At3guwL"
      },
      "execution_count": null,
      "outputs": []
    },
    {
      "cell_type": "code",
      "source": [
        "df_withoutNA"
      ],
      "metadata": {
        "colab": {
          "base_uri": "https://localhost:8080/",
          "height": 659
        },
        "id": "RF5hWjE7hgfJ",
        "outputId": "45bfd701-8b8c-48bb-9182-5f7d4ce18308"
      },
      "execution_count": null,
      "outputs": [
        {
          "output_type": "execute_result",
          "data": {
            "text/plain": [
              "                                                  facts  Civil Rights  \\\n",
              "0     joan stanley three children peter stanley stan...             1   \n",
              "1     john giglio convict pass forge money order app...             0   \n",
              "2     idaho probate code specify males must prefer f...             1   \n",
              "3     miller conduct mass mail campaign advertise sa...             0   \n",
              "4     ernest mandel belgian professional journalist ...             0   \n",
              "...                                                 ...           ...   \n",
              "3154  century alaska purchase federal government set...             1   \n",
              "3155  refugio palomar santiago mexican national gran...             0   \n",
              "3156  tarahrick terry plead guilty one count possess...             0   \n",
              "3157  joshua jam cooley park pickup truck side road ...             1   \n",
              "3158  natural gas act nga permit private company exe...             0   \n",
              "\n",
              "      Criminal Procedure  Economic Activity  First Amendment  Judicial Power  \\\n",
              "0                      0                  0                0               0   \n",
              "1                      0                  0                0               0   \n",
              "2                      0                  0                0               0   \n",
              "3                      0                  0                1               0   \n",
              "4                      0                  0                1               0   \n",
              "...                  ...                ...              ...             ...   \n",
              "3154                   0                  0                0               0   \n",
              "3155                   1                  0                0               0   \n",
              "3156                   1                  0                0               0   \n",
              "3157                   0                  0                0               0   \n",
              "3158                   0                  0                0               0   \n",
              "\n",
              "      Others  first_party_winner  \n",
              "0          0                   1  \n",
              "1          1                   1  \n",
              "2          0                   1  \n",
              "3          0                   1  \n",
              "4          0                   1  \n",
              "...      ...                 ...  \n",
              "3154       0                   1  \n",
              "3155       0                   1  \n",
              "3156       0                   0  \n",
              "3157       0                   1  \n",
              "3158       1                   1  \n",
              "\n",
              "[3159 rows x 8 columns]"
            ],
            "text/html": [
              "\n",
              "  <div id=\"df-19835738-12cd-4ecb-9260-36fbc4577734\">\n",
              "    <div class=\"colab-df-container\">\n",
              "      <div>\n",
              "<style scoped>\n",
              "    .dataframe tbody tr th:only-of-type {\n",
              "        vertical-align: middle;\n",
              "    }\n",
              "\n",
              "    .dataframe tbody tr th {\n",
              "        vertical-align: top;\n",
              "    }\n",
              "\n",
              "    .dataframe thead th {\n",
              "        text-align: right;\n",
              "    }\n",
              "</style>\n",
              "<table border=\"1\" class=\"dataframe\">\n",
              "  <thead>\n",
              "    <tr style=\"text-align: right;\">\n",
              "      <th></th>\n",
              "      <th>facts</th>\n",
              "      <th>Civil Rights</th>\n",
              "      <th>Criminal Procedure</th>\n",
              "      <th>Economic Activity</th>\n",
              "      <th>First Amendment</th>\n",
              "      <th>Judicial Power</th>\n",
              "      <th>Others</th>\n",
              "      <th>first_party_winner</th>\n",
              "    </tr>\n",
              "  </thead>\n",
              "  <tbody>\n",
              "    <tr>\n",
              "      <th>0</th>\n",
              "      <td>joan stanley three children peter stanley stan...</td>\n",
              "      <td>1</td>\n",
              "      <td>0</td>\n",
              "      <td>0</td>\n",
              "      <td>0</td>\n",
              "      <td>0</td>\n",
              "      <td>0</td>\n",
              "      <td>1</td>\n",
              "    </tr>\n",
              "    <tr>\n",
              "      <th>1</th>\n",
              "      <td>john giglio convict pass forge money order app...</td>\n",
              "      <td>0</td>\n",
              "      <td>0</td>\n",
              "      <td>0</td>\n",
              "      <td>0</td>\n",
              "      <td>0</td>\n",
              "      <td>1</td>\n",
              "      <td>1</td>\n",
              "    </tr>\n",
              "    <tr>\n",
              "      <th>2</th>\n",
              "      <td>idaho probate code specify males must prefer f...</td>\n",
              "      <td>1</td>\n",
              "      <td>0</td>\n",
              "      <td>0</td>\n",
              "      <td>0</td>\n",
              "      <td>0</td>\n",
              "      <td>0</td>\n",
              "      <td>1</td>\n",
              "    </tr>\n",
              "    <tr>\n",
              "      <th>3</th>\n",
              "      <td>miller conduct mass mail campaign advertise sa...</td>\n",
              "      <td>0</td>\n",
              "      <td>0</td>\n",
              "      <td>0</td>\n",
              "      <td>1</td>\n",
              "      <td>0</td>\n",
              "      <td>0</td>\n",
              "      <td>1</td>\n",
              "    </tr>\n",
              "    <tr>\n",
              "      <th>4</th>\n",
              "      <td>ernest mandel belgian professional journalist ...</td>\n",
              "      <td>0</td>\n",
              "      <td>0</td>\n",
              "      <td>0</td>\n",
              "      <td>1</td>\n",
              "      <td>0</td>\n",
              "      <td>0</td>\n",
              "      <td>1</td>\n",
              "    </tr>\n",
              "    <tr>\n",
              "      <th>...</th>\n",
              "      <td>...</td>\n",
              "      <td>...</td>\n",
              "      <td>...</td>\n",
              "      <td>...</td>\n",
              "      <td>...</td>\n",
              "      <td>...</td>\n",
              "      <td>...</td>\n",
              "      <td>...</td>\n",
              "    </tr>\n",
              "    <tr>\n",
              "      <th>3154</th>\n",
              "      <td>century alaska purchase federal government set...</td>\n",
              "      <td>1</td>\n",
              "      <td>0</td>\n",
              "      <td>0</td>\n",
              "      <td>0</td>\n",
              "      <td>0</td>\n",
              "      <td>0</td>\n",
              "      <td>1</td>\n",
              "    </tr>\n",
              "    <tr>\n",
              "      <th>3155</th>\n",
              "      <td>refugio palomar santiago mexican national gran...</td>\n",
              "      <td>0</td>\n",
              "      <td>1</td>\n",
              "      <td>0</td>\n",
              "      <td>0</td>\n",
              "      <td>0</td>\n",
              "      <td>0</td>\n",
              "      <td>1</td>\n",
              "    </tr>\n",
              "    <tr>\n",
              "      <th>3156</th>\n",
              "      <td>tarahrick terry plead guilty one count possess...</td>\n",
              "      <td>0</td>\n",
              "      <td>1</td>\n",
              "      <td>0</td>\n",
              "      <td>0</td>\n",
              "      <td>0</td>\n",
              "      <td>0</td>\n",
              "      <td>0</td>\n",
              "    </tr>\n",
              "    <tr>\n",
              "      <th>3157</th>\n",
              "      <td>joshua jam cooley park pickup truck side road ...</td>\n",
              "      <td>1</td>\n",
              "      <td>0</td>\n",
              "      <td>0</td>\n",
              "      <td>0</td>\n",
              "      <td>0</td>\n",
              "      <td>0</td>\n",
              "      <td>1</td>\n",
              "    </tr>\n",
              "    <tr>\n",
              "      <th>3158</th>\n",
              "      <td>natural gas act nga permit private company exe...</td>\n",
              "      <td>0</td>\n",
              "      <td>0</td>\n",
              "      <td>0</td>\n",
              "      <td>0</td>\n",
              "      <td>0</td>\n",
              "      <td>1</td>\n",
              "      <td>1</td>\n",
              "    </tr>\n",
              "  </tbody>\n",
              "</table>\n",
              "<p>3159 rows × 8 columns</p>\n",
              "</div>\n",
              "      <button class=\"colab-df-convert\" onclick=\"convertToInteractive('df-19835738-12cd-4ecb-9260-36fbc4577734')\"\n",
              "              title=\"Convert this dataframe to an interactive table.\"\n",
              "              style=\"display:none;\">\n",
              "        \n",
              "  <svg xmlns=\"http://www.w3.org/2000/svg\" height=\"24px\"viewBox=\"0 0 24 24\"\n",
              "       width=\"24px\">\n",
              "    <path d=\"M0 0h24v24H0V0z\" fill=\"none\"/>\n",
              "    <path d=\"M18.56 5.44l.94 2.06.94-2.06 2.06-.94-2.06-.94-.94-2.06-.94 2.06-2.06.94zm-11 1L8.5 8.5l.94-2.06 2.06-.94-2.06-.94L8.5 2.5l-.94 2.06-2.06.94zm10 10l.94 2.06.94-2.06 2.06-.94-2.06-.94-.94-2.06-.94 2.06-2.06.94z\"/><path d=\"M17.41 7.96l-1.37-1.37c-.4-.4-.92-.59-1.43-.59-.52 0-1.04.2-1.43.59L10.3 9.45l-7.72 7.72c-.78.78-.78 2.05 0 2.83L4 21.41c.39.39.9.59 1.41.59.51 0 1.02-.2 1.41-.59l7.78-7.78 2.81-2.81c.8-.78.8-2.07 0-2.86zM5.41 20L4 18.59l7.72-7.72 1.47 1.35L5.41 20z\"/>\n",
              "  </svg>\n",
              "      </button>\n",
              "      \n",
              "  <style>\n",
              "    .colab-df-container {\n",
              "      display:flex;\n",
              "      flex-wrap:wrap;\n",
              "      gap: 12px;\n",
              "    }\n",
              "\n",
              "    .colab-df-convert {\n",
              "      background-color: #E8F0FE;\n",
              "      border: none;\n",
              "      border-radius: 50%;\n",
              "      cursor: pointer;\n",
              "      display: none;\n",
              "      fill: #1967D2;\n",
              "      height: 32px;\n",
              "      padding: 0 0 0 0;\n",
              "      width: 32px;\n",
              "    }\n",
              "\n",
              "    .colab-df-convert:hover {\n",
              "      background-color: #E2EBFA;\n",
              "      box-shadow: 0px 1px 2px rgba(60, 64, 67, 0.3), 0px 1px 3px 1px rgba(60, 64, 67, 0.15);\n",
              "      fill: #174EA6;\n",
              "    }\n",
              "\n",
              "    [theme=dark] .colab-df-convert {\n",
              "      background-color: #3B4455;\n",
              "      fill: #D2E3FC;\n",
              "    }\n",
              "\n",
              "    [theme=dark] .colab-df-convert:hover {\n",
              "      background-color: #434B5C;\n",
              "      box-shadow: 0px 1px 3px 1px rgba(0, 0, 0, 0.15);\n",
              "      filter: drop-shadow(0px 1px 2px rgba(0, 0, 0, 0.3));\n",
              "      fill: #FFFFFF;\n",
              "    }\n",
              "  </style>\n",
              "\n",
              "      <script>\n",
              "        const buttonEl =\n",
              "          document.querySelector('#df-19835738-12cd-4ecb-9260-36fbc4577734 button.colab-df-convert');\n",
              "        buttonEl.style.display =\n",
              "          google.colab.kernel.accessAllowed ? 'block' : 'none';\n",
              "\n",
              "        async function convertToInteractive(key) {\n",
              "          const element = document.querySelector('#df-19835738-12cd-4ecb-9260-36fbc4577734');\n",
              "          const dataTable =\n",
              "            await google.colab.kernel.invokeFunction('convertToInteractive',\n",
              "                                                     [key], {});\n",
              "          if (!dataTable) return;\n",
              "\n",
              "          const docLinkHtml = 'Like what you see? Visit the ' +\n",
              "            '<a target=\"_blank\" href=https://colab.research.google.com/notebooks/data_table.ipynb>data table notebook</a>'\n",
              "            + ' to learn more about interactive tables.';\n",
              "          element.innerHTML = '';\n",
              "          dataTable['output_type'] = 'display_data';\n",
              "          await google.colab.output.renderOutput(dataTable, element);\n",
              "          const docLink = document.createElement('div');\n",
              "          docLink.innerHTML = docLinkHtml;\n",
              "          element.appendChild(docLink);\n",
              "        }\n",
              "      </script>\n",
              "    </div>\n",
              "  </div>\n",
              "  "
            ]
          },
          "metadata": {},
          "execution_count": 468
        }
      ]
    },
    {
      "cell_type": "code",
      "source": [
        "X_train = df_withoutNA.loc[:, df_withoutNA.columns != 'first_party_winner']\n",
        "y_train = df_withoutNA['first_party_winner']"
      ],
      "metadata": {
        "id": "V31S4K0KhYUs"
      },
      "execution_count": null,
      "outputs": []
    },
    {
      "cell_type": "code",
      "source": [
        "ros = RandomOverSampler(random_state=42)\n",
        "X_train_ros, y_train_ros= ros.fit_resample(X_train, y_train)"
      ],
      "metadata": {
        "id": "I0MQXQAUhOvA"
      },
      "execution_count": null,
      "outputs": []
    },
    {
      "cell_type": "code",
      "source": [
        "X_train = X_train_ros\n",
        "y_train = y_train_ros"
      ],
      "metadata": {
        "id": "WBH4wTRLhCQ2"
      },
      "execution_count": null,
      "outputs": []
    },
    {
      "cell_type": "code",
      "source": [
        "X_test = df_toPredict.loc[:, df_toPredict.columns != 'first_party_winner']\n",
        "y_test = df_toPredict['first_party_winner']"
      ],
      "metadata": {
        "id": "zgLda6-EiiV_"
      },
      "execution_count": null,
      "outputs": []
    },
    {
      "cell_type": "code",
      "source": [
        "from sklearn.feature_extraction.text import CountVectorizer\n",
        "vectorizer = CountVectorizer()"
      ],
      "metadata": {
        "id": "dUth1O5eixTI"
      },
      "execution_count": null,
      "outputs": []
    },
    {
      "cell_type": "code",
      "source": [
        "train_vectors = vectorizer_tf.fit_transform(X_train.facts) \n",
        "test_vectors = vectorizer_tf.transform(X_test.facts)"
      ],
      "metadata": {
        "id": "lwrLqOHFizYw"
      },
      "execution_count": null,
      "outputs": []
    },
    {
      "cell_type": "code",
      "source": [
        "train_df=pd.DataFrame(train_vectors.toarray(), columns=vectorizer_tf.get_feature_names())\n",
        "test_df=pd.DataFrame(test_vectors.toarray(), columns=vectorizer_tf.get_feature_names())\n",
        "\n",
        "\n",
        "train_df=pd.concat([train_df,X_train.loc[:, X_train.columns != \"facts\"].reset_index(drop=True)], axis=1)\n",
        "test_df=pd.concat([test_df,X_test.loc[:, X_test.columns != \"facts\"].reset_index(drop=True)], axis=1)\n",
        "\n",
        "\n",
        "X_train = train_df\n",
        "X_test = test_df\n"
      ],
      "metadata": {
        "colab": {
          "base_uri": "https://localhost:8080/"
        },
        "id": "dO2kutxoi2Br",
        "outputId": "99ff4485-041b-41be-8d83-6811dbd963ab"
      },
      "execution_count": null,
      "outputs": [
        {
          "output_type": "stream",
          "name": "stderr",
          "text": [
            "/usr/local/lib/python3.8/dist-packages/sklearn/utils/deprecation.py:87: FutureWarning: Function get_feature_names is deprecated; get_feature_names is deprecated in 1.0 and will be removed in 1.2. Please use get_feature_names_out instead.\n",
            "  warnings.warn(msg, category=FutureWarning)\n"
          ]
        }
      ]
    },
    {
      "cell_type": "code",
      "source": [
        "randfor = Pipeline([\n",
        "                ('clf', RandomForestClassifier()),\n",
        "               ])\n",
        "randfor.fit(X_train, y_train)"
      ],
      "metadata": {
        "colab": {
          "base_uri": "https://localhost:8080/"
        },
        "id": "a_WbQxlkdNGq",
        "outputId": "aca3376d-61f8-4ce7-ad0c-f86b46bf5809"
      },
      "execution_count": null,
      "outputs": [
        {
          "output_type": "execute_result",
          "data": {
            "text/plain": [
              "Pipeline(steps=[('clf', RandomForestClassifier())])"
            ]
          },
          "metadata": {},
          "execution_count": 482
        }
      ]
    },
    {
      "cell_type": "code",
      "source": [
        "%%time\n",
        "y_pred = randfor.predict(X_test)"
      ],
      "metadata": {
        "colab": {
          "base_uri": "https://localhost:8080/"
        },
        "id": "ynj5Pe1adc0w",
        "outputId": "4a8aefad-d095-4a5c-cf7e-ef662578f49a"
      },
      "execution_count": null,
      "outputs": [
        {
          "output_type": "stream",
          "name": "stdout",
          "text": [
            "CPU times: user 248 ms, sys: 663 µs, total: 249 ms\n",
            "Wall time: 288 ms\n"
          ]
        }
      ]
    },
    {
      "cell_type": "code",
      "source": [
        "from sklearn.metrics import classification_report\n",
        "print('accuracy %s' % accuracy_score(y_pred, y_test))\n",
        "print(classification_report(y_test, y_pred,target_names=my_target))"
      ],
      "metadata": {
        "colab": {
          "base_uri": "https://localhost:8080/"
        },
        "id": "gtLJTl8zdgsx",
        "outputId": "abfb4fa1-69a1-4ced-fcf0-f6a478d2bed4"
      },
      "execution_count": null,
      "outputs": [
        {
          "output_type": "stream",
          "name": "stdout",
          "text": [
            "accuracy 0.48609779482262705\n",
            "              precision    recall  f1-score   support\n",
            "\n",
            "           0       0.46      0.26      0.33      1542\n",
            "           1       0.50      0.70      0.58      1587\n",
            "\n",
            "    accuracy                           0.49      3129\n",
            "   macro avg       0.48      0.48      0.46      3129\n",
            "weighted avg       0.48      0.49      0.46      3129\n",
            "\n"
          ]
        }
      ]
    },
    {
      "cell_type": "code",
      "source": [
        "logreg = Pipeline([\n",
        "                ('clf', LogisticRegression()),\n",
        "               ])\n",
        "logreg.fit(X_train, y_train)\n"
      ],
      "metadata": {
        "colab": {
          "base_uri": "https://localhost:8080/"
        },
        "id": "xXsQygfXjFPy",
        "outputId": "d3d4f09e-9025-468d-e3dc-9ed95cb691b9"
      },
      "execution_count": null,
      "outputs": [
        {
          "output_type": "execute_result",
          "data": {
            "text/plain": [
              "Pipeline(steps=[('clf', LogisticRegression())])"
            ]
          },
          "metadata": {},
          "execution_count": 492
        }
      ]
    },
    {
      "cell_type": "code",
      "source": [
        "%%time\n",
        "y_pred = logreg.predict(X_test)\n"
      ],
      "metadata": {
        "colab": {
          "base_uri": "https://localhost:8080/"
        },
        "id": "cUdqRB5vjR0q",
        "outputId": "e915e708-dfd7-4d75-aab6-b0722c7a970f"
      },
      "execution_count": null,
      "outputs": [
        {
          "output_type": "stream",
          "name": "stdout",
          "text": [
            "CPU times: user 34.2 ms, sys: 17.3 ms, total: 51.5 ms\n",
            "Wall time: 52.4 ms\n"
          ]
        }
      ]
    },
    {
      "cell_type": "code",
      "source": [
        "from sklearn.metrics import classification_report\n",
        "print('accuracy %s' % accuracy_score(y_pred, y_test))\n",
        "print(classification_report(y_test, y_pred,target_names=my_target))"
      ],
      "metadata": {
        "colab": {
          "base_uri": "https://localhost:8080/"
        },
        "id": "xnoFFiZhjTn7",
        "outputId": "74741969-d15a-46dd-f8ee-b8a0bbf26586"
      },
      "execution_count": null,
      "outputs": [
        {
          "output_type": "stream",
          "name": "stdout",
          "text": [
            "accuracy 0.5001597954618089\n",
            "              precision    recall  f1-score   support\n",
            "\n",
            "           0       0.50      0.83      0.62      1542\n",
            "           1       0.52      0.18      0.26      1587\n",
            "\n",
            "    accuracy                           0.50      3129\n",
            "   macro avg       0.51      0.50      0.44      3129\n",
            "weighted avg       0.51      0.50      0.44      3129\n",
            "\n"
          ]
        }
      ]
    },
    {
      "cell_type": "markdown",
      "source": [],
      "metadata": {
        "id": "2jTlKaOsfOR5"
      }
    },
    {
      "cell_type": "code",
      "source": [
        "from sklearn.model_selection import train_test_split\n",
        "X_train_2, X_test_2, y_train_2, y_test_2 = train_test_split(X_train, y_train, test_size=0.2, random_state=42)"
      ],
      "metadata": {
        "id": "XS82OPGMd0SA"
      },
      "execution_count": null,
      "outputs": []
    },
    {
      "cell_type": "code",
      "source": [
        "logreg = Pipeline([\n",
        "                ('clf', LogisticRegression()),\n",
        "               ])\n",
        "logreg.fit(X_train_2, y_train_2)\n"
      ],
      "metadata": {
        "colab": {
          "base_uri": "https://localhost:8080/"
        },
        "id": "mag05NMjkjrB",
        "outputId": "c73f8c8a-7140-406b-aaec-adf8f67ac0b9"
      },
      "execution_count": null,
      "outputs": [
        {
          "output_type": "execute_result",
          "data": {
            "text/plain": [
              "Pipeline(steps=[('clf', LogisticRegression())])"
            ]
          },
          "metadata": {},
          "execution_count": 503
        }
      ]
    },
    {
      "cell_type": "code",
      "source": [
        "%%time\n",
        "y_pred = logreg.predict(X_test_2)\n"
      ],
      "metadata": {
        "colab": {
          "base_uri": "https://localhost:8080/"
        },
        "id": "cVQDTA8-kw89",
        "outputId": "6abdd602-d755-443b-f274-b254bc302940"
      },
      "execution_count": null,
      "outputs": [
        {
          "output_type": "stream",
          "name": "stdout",
          "text": [
            "CPU times: user 17.4 ms, sys: 3.13 ms, total: 20.5 ms\n",
            "Wall time: 18.8 ms\n"
          ]
        }
      ]
    },
    {
      "cell_type": "code",
      "source": [
        "from sklearn.metrics import classification_report\n",
        "print('accuracy %s' % accuracy_score(y_pred, y_test_2))\n",
        "print(classification_report(y_test_2, y_pred,target_names=my_target))"
      ],
      "metadata": {
        "colab": {
          "base_uri": "https://localhost:8080/"
        },
        "id": "FehT4pEEky1f",
        "outputId": "12a8de33-d75e-4ded-835a-06af33fb6188"
      },
      "execution_count": null,
      "outputs": [
        {
          "output_type": "stream",
          "name": "stdout",
          "text": [
            "accuracy 0.6101083032490975\n",
            "              precision    recall  f1-score   support\n",
            "\n",
            "           0       0.60      0.64      0.62       416\n",
            "           1       0.62      0.58      0.60       415\n",
            "\n",
            "    accuracy                           0.61       831\n",
            "   macro avg       0.61      0.61      0.61       831\n",
            "weighted avg       0.61      0.61      0.61       831\n",
            "\n"
          ]
        }
      ]
    },
    {
      "cell_type": "markdown",
      "source": [
        "# CV and other tests"
      ],
      "metadata": {
        "id": "fXk6fFwMzQV8"
      }
    },
    {
      "cell_type": "code",
      "source": [
        "from sklearn.ensemble import RandomForestClassifier\n",
        "\n",
        "randfor = RandomForestClassifier()\n",
        "randfor.fit(X_train_count, y_train)"
      ],
      "metadata": {
        "colab": {
          "base_uri": "https://localhost:8080/"
        },
        "id": "x6ssZkgv2fz1",
        "outputId": "4b6e90d6-10a1-4f64-df8b-2f1387f903bf"
      },
      "execution_count": null,
      "outputs": [
        {
          "output_type": "execute_result",
          "data": {
            "text/plain": [
              "RandomForestClassifier()"
            ]
          },
          "metadata": {},
          "execution_count": 158
        }
      ]
    },
    {
      "cell_type": "code",
      "source": [
        "%%time\n",
        "y_pred = randfor.predict(X_test_count)"
      ],
      "metadata": {
        "colab": {
          "base_uri": "https://localhost:8080/"
        },
        "id": "bG4rXUsY2_82",
        "outputId": "433c31ad-6cac-4dfa-f832-5bb42c845ac8"
      },
      "execution_count": null,
      "outputs": [
        {
          "output_type": "stream",
          "name": "stdout",
          "text": [
            "CPU times: user 237 ms, sys: 1.94 ms, total: 239 ms\n",
            "Wall time: 240 ms\n"
          ]
        }
      ]
    },
    {
      "cell_type": "code",
      "source": [
        "my_target = ['0', '1']"
      ],
      "metadata": {
        "id": "rV2Fa77MzbYe"
      },
      "execution_count": null,
      "outputs": []
    },
    {
      "cell_type": "code",
      "source": [
        "from sklearn.metrics import classification_report\n",
        "print('accuracy %s' % accuracy_score(y_pred, y_test))\n",
        "print(classification_report(y_test, y_pred,target_names=my_target))"
      ],
      "metadata": {
        "colab": {
          "base_uri": "https://localhost:8080/"
        },
        "id": "yXAaOT_23Ckb",
        "outputId": "e66a7c11-5d1f-4648-df10-80ae44a91b74"
      },
      "execution_count": null,
      "outputs": [
        {
          "output_type": "stream",
          "name": "stdout",
          "text": [
            "accuracy 0.6324582338902148\n",
            "              precision    recall  f1-score   support\n",
            "\n",
            "           0       0.60      0.43      0.50       543\n",
            "           1       0.64      0.79      0.71       714\n",
            "\n",
            "    accuracy                           0.63      1257\n",
            "   macro avg       0.62      0.61      0.61      1257\n",
            "weighted avg       0.63      0.63      0.62      1257\n",
            "\n"
          ]
        }
      ]
    },
    {
      "cell_type": "code",
      "source": [
        "feature_importances=pd.DataFrame({'features':X_train_count.columns,'feature_importance':randfor.feature_importances_})\n",
        "feature_importances.sort_values('feature_importance',ascending=False)\n"
      ],
      "metadata": {
        "colab": {
          "base_uri": "https://localhost:8080/",
          "height": 424
        },
        "id": "ooMsCx8C2xVf",
        "outputId": "7399bc1f-63b1-4fbe-adb9-2fb5480bcef4"
      },
      "execution_count": null,
      "outputs": [
        {
          "output_type": "execute_result",
          "data": {
            "text/plain": [
              "           features  feature_importance\n",
              "2933          court            0.003926\n",
              "2290          class            0.002909\n",
              "9807      plaintiff            0.002851\n",
              "164          action            0.002819\n",
              "12235         state            0.002673\n",
              "...             ...                 ...\n",
              "1662           buck            0.000000\n",
              "1663        buckeye            0.000000\n",
              "10839  relitigation            0.000000\n",
              "10838  relitigating            0.000000\n",
              "4728     fairminded            0.000000\n",
              "\n",
              "[14331 rows x 2 columns]"
            ],
            "text/html": [
              "\n",
              "  <div id=\"df-75a85c8f-a436-4b60-a206-49c7d498f171\">\n",
              "    <div class=\"colab-df-container\">\n",
              "      <div>\n",
              "<style scoped>\n",
              "    .dataframe tbody tr th:only-of-type {\n",
              "        vertical-align: middle;\n",
              "    }\n",
              "\n",
              "    .dataframe tbody tr th {\n",
              "        vertical-align: top;\n",
              "    }\n",
              "\n",
              "    .dataframe thead th {\n",
              "        text-align: right;\n",
              "    }\n",
              "</style>\n",
              "<table border=\"1\" class=\"dataframe\">\n",
              "  <thead>\n",
              "    <tr style=\"text-align: right;\">\n",
              "      <th></th>\n",
              "      <th>features</th>\n",
              "      <th>feature_importance</th>\n",
              "    </tr>\n",
              "  </thead>\n",
              "  <tbody>\n",
              "    <tr>\n",
              "      <th>2933</th>\n",
              "      <td>court</td>\n",
              "      <td>0.003926</td>\n",
              "    </tr>\n",
              "    <tr>\n",
              "      <th>2290</th>\n",
              "      <td>class</td>\n",
              "      <td>0.002909</td>\n",
              "    </tr>\n",
              "    <tr>\n",
              "      <th>9807</th>\n",
              "      <td>plaintiff</td>\n",
              "      <td>0.002851</td>\n",
              "    </tr>\n",
              "    <tr>\n",
              "      <th>164</th>\n",
              "      <td>action</td>\n",
              "      <td>0.002819</td>\n",
              "    </tr>\n",
              "    <tr>\n",
              "      <th>12235</th>\n",
              "      <td>state</td>\n",
              "      <td>0.002673</td>\n",
              "    </tr>\n",
              "    <tr>\n",
              "      <th>...</th>\n",
              "      <td>...</td>\n",
              "      <td>...</td>\n",
              "    </tr>\n",
              "    <tr>\n",
              "      <th>1662</th>\n",
              "      <td>buck</td>\n",
              "      <td>0.000000</td>\n",
              "    </tr>\n",
              "    <tr>\n",
              "      <th>1663</th>\n",
              "      <td>buckeye</td>\n",
              "      <td>0.000000</td>\n",
              "    </tr>\n",
              "    <tr>\n",
              "      <th>10839</th>\n",
              "      <td>relitigation</td>\n",
              "      <td>0.000000</td>\n",
              "    </tr>\n",
              "    <tr>\n",
              "      <th>10838</th>\n",
              "      <td>relitigating</td>\n",
              "      <td>0.000000</td>\n",
              "    </tr>\n",
              "    <tr>\n",
              "      <th>4728</th>\n",
              "      <td>fairminded</td>\n",
              "      <td>0.000000</td>\n",
              "    </tr>\n",
              "  </tbody>\n",
              "</table>\n",
              "<p>14331 rows × 2 columns</p>\n",
              "</div>\n",
              "      <button class=\"colab-df-convert\" onclick=\"convertToInteractive('df-75a85c8f-a436-4b60-a206-49c7d498f171')\"\n",
              "              title=\"Convert this dataframe to an interactive table.\"\n",
              "              style=\"display:none;\">\n",
              "        \n",
              "  <svg xmlns=\"http://www.w3.org/2000/svg\" height=\"24px\"viewBox=\"0 0 24 24\"\n",
              "       width=\"24px\">\n",
              "    <path d=\"M0 0h24v24H0V0z\" fill=\"none\"/>\n",
              "    <path d=\"M18.56 5.44l.94 2.06.94-2.06 2.06-.94-2.06-.94-.94-2.06-.94 2.06-2.06.94zm-11 1L8.5 8.5l.94-2.06 2.06-.94-2.06-.94L8.5 2.5l-.94 2.06-2.06.94zm10 10l.94 2.06.94-2.06 2.06-.94-2.06-.94-.94-2.06-.94 2.06-2.06.94z\"/><path d=\"M17.41 7.96l-1.37-1.37c-.4-.4-.92-.59-1.43-.59-.52 0-1.04.2-1.43.59L10.3 9.45l-7.72 7.72c-.78.78-.78 2.05 0 2.83L4 21.41c.39.39.9.59 1.41.59.51 0 1.02-.2 1.41-.59l7.78-7.78 2.81-2.81c.8-.78.8-2.07 0-2.86zM5.41 20L4 18.59l7.72-7.72 1.47 1.35L5.41 20z\"/>\n",
              "  </svg>\n",
              "      </button>\n",
              "      \n",
              "  <style>\n",
              "    .colab-df-container {\n",
              "      display:flex;\n",
              "      flex-wrap:wrap;\n",
              "      gap: 12px;\n",
              "    }\n",
              "\n",
              "    .colab-df-convert {\n",
              "      background-color: #E8F0FE;\n",
              "      border: none;\n",
              "      border-radius: 50%;\n",
              "      cursor: pointer;\n",
              "      display: none;\n",
              "      fill: #1967D2;\n",
              "      height: 32px;\n",
              "      padding: 0 0 0 0;\n",
              "      width: 32px;\n",
              "    }\n",
              "\n",
              "    .colab-df-convert:hover {\n",
              "      background-color: #E2EBFA;\n",
              "      box-shadow: 0px 1px 2px rgba(60, 64, 67, 0.3), 0px 1px 3px 1px rgba(60, 64, 67, 0.15);\n",
              "      fill: #174EA6;\n",
              "    }\n",
              "\n",
              "    [theme=dark] .colab-df-convert {\n",
              "      background-color: #3B4455;\n",
              "      fill: #D2E3FC;\n",
              "    }\n",
              "\n",
              "    [theme=dark] .colab-df-convert:hover {\n",
              "      background-color: #434B5C;\n",
              "      box-shadow: 0px 1px 3px 1px rgba(0, 0, 0, 0.15);\n",
              "      filter: drop-shadow(0px 1px 2px rgba(0, 0, 0, 0.3));\n",
              "      fill: #FFFFFF;\n",
              "    }\n",
              "  </style>\n",
              "\n",
              "      <script>\n",
              "        const buttonEl =\n",
              "          document.querySelector('#df-75a85c8f-a436-4b60-a206-49c7d498f171 button.colab-df-convert');\n",
              "        buttonEl.style.display =\n",
              "          google.colab.kernel.accessAllowed ? 'block' : 'none';\n",
              "\n",
              "        async function convertToInteractive(key) {\n",
              "          const element = document.querySelector('#df-75a85c8f-a436-4b60-a206-49c7d498f171');\n",
              "          const dataTable =\n",
              "            await google.colab.kernel.invokeFunction('convertToInteractive',\n",
              "                                                     [key], {});\n",
              "          if (!dataTable) return;\n",
              "\n",
              "          const docLinkHtml = 'Like what you see? Visit the ' +\n",
              "            '<a target=\"_blank\" href=https://colab.research.google.com/notebooks/data_table.ipynb>data table notebook</a>'\n",
              "            + ' to learn more about interactive tables.';\n",
              "          element.innerHTML = '';\n",
              "          dataTable['output_type'] = 'display_data';\n",
              "          await google.colab.output.renderOutput(dataTable, element);\n",
              "          const docLink = document.createElement('div');\n",
              "          docLink.innerHTML = docLinkHtml;\n",
              "          element.appendChild(docLink);\n",
              "        }\n",
              "      </script>\n",
              "    </div>\n",
              "  </div>\n",
              "  "
            ]
          },
          "metadata": {},
          "execution_count": 162
        }
      ]
    },
    {
      "cell_type": "code",
      "source": [
        "study = feature_importances[(feature_importances.feature_importance > 0.0001)] \n",
        "study = study['features'].values"
      ],
      "metadata": {
        "id": "h-zTzKkc3uDp"
      },
      "execution_count": null,
      "outputs": []
    },
    {
      "cell_type": "code",
      "source": [
        "X_train_count_study = X_train_count[study]"
      ],
      "metadata": {
        "id": "5Wms2c7o3QQG",
        "colab": {
          "base_uri": "https://localhost:8080/",
          "height": 169
        },
        "outputId": "af2d2a8d-2ff0-46d5-cff6-3f5e576f4313"
      },
      "execution_count": null,
      "outputs": [
        {
          "output_type": "error",
          "ename": "NameError",
          "evalue": "ignored",
          "traceback": [
            "\u001b[0;31m---------------------------------------------------------------------------\u001b[0m",
            "\u001b[0;31mNameError\u001b[0m                                 Traceback (most recent call last)",
            "\u001b[0;32m<ipython-input-100-7b22067330a3>\u001b[0m in \u001b[0;36m<module>\u001b[0;34m\u001b[0m\n\u001b[0;32m----> 1\u001b[0;31m \u001b[0mX_train_count_study\u001b[0m \u001b[0;34m=\u001b[0m \u001b[0mX_train_count\u001b[0m\u001b[0;34m[\u001b[0m\u001b[0mstudy\u001b[0m\u001b[0;34m]\u001b[0m\u001b[0;34m\u001b[0m\u001b[0;34m\u001b[0m\u001b[0m\n\u001b[0m",
            "\u001b[0;31mNameError\u001b[0m: name 'study' is not defined"
          ]
        }
      ]
    },
    {
      "cell_type": "code",
      "source": [
        "from sklearn.ensemble import RandomForestClassifier\n",
        "\n",
        "randfor = RandomForestClassifier()\n",
        "randfor.fit(X_train_count_study, y_train)"
      ],
      "metadata": {
        "colab": {
          "base_uri": "https://localhost:8080/"
        },
        "id": "Kz9RQUHv5c62",
        "outputId": "c54bcb81-1fb2-4190-e496-91452fc969db"
      },
      "execution_count": null,
      "outputs": [
        {
          "output_type": "execute_result",
          "data": {
            "text/plain": [
              "RandomForestClassifier()"
            ]
          },
          "metadata": {},
          "execution_count": 97
        }
      ]
    },
    {
      "cell_type": "code",
      "source": [
        "%%time\n",
        "y_pred = randfor.predict(X_test_count[study])"
      ],
      "metadata": {
        "colab": {
          "base_uri": "https://localhost:8080/"
        },
        "id": "YdO5IHjp5muV",
        "outputId": "8fd59868-f05a-4c0e-89ee-015f4f535b56"
      },
      "execution_count": null,
      "outputs": [
        {
          "output_type": "stream",
          "name": "stdout",
          "text": [
            "CPU times: user 128 ms, sys: 1.9 ms, total: 130 ms\n",
            "Wall time: 129 ms\n"
          ]
        }
      ]
    },
    {
      "cell_type": "code",
      "source": [
        "from sklearn.metrics import classification_report\n",
        "print('accuracy %s' % accuracy_score(y_pred, y_test))\n",
        "print(classification_report(y_test, y_pred,target_names=my_target))"
      ],
      "metadata": {
        "colab": {
          "base_uri": "https://localhost:8080/"
        },
        "id": "NX96fQjG5wvP",
        "outputId": "5bc09ece-3f0e-456c-d3db-5075d28e758e"
      },
      "execution_count": null,
      "outputs": [
        {
          "output_type": "stream",
          "name": "stdout",
          "text": [
            "accuracy 0.6184419713831478\n",
            "              precision    recall  f1-score   support\n",
            "\n",
            "           0       0.57      0.42      0.48       532\n",
            "           1       0.64      0.77      0.70       726\n",
            "\n",
            "    accuracy                           0.62      1258\n",
            "   macro avg       0.60      0.59      0.59      1258\n",
            "weighted avg       0.61      0.62      0.61      1258\n",
            "\n"
          ]
        }
      ]
    },
    {
      "cell_type": "code",
      "source": [
        "from sklearn.model_selection import RepeatedKFold\n",
        "from sklearn.model_selection import cross_val_score"
      ],
      "metadata": {
        "id": "FuekISUR8Gu1"
      },
      "execution_count": null,
      "outputs": []
    },
    {
      "cell_type": "code",
      "source": [
        "cv = RepeatedKFold(n_splits=10, n_repeats=3, random_state=42)\n",
        "scores = cross_val_score(randfor, X_t, y_t, scoring='accuracy', cv=cv, n_jobs=-1)"
      ],
      "metadata": {
        "id": "g3xuADRt6acK",
        "colab": {
          "base_uri": "https://localhost:8080/"
        },
        "outputId": "00b7deef-8fce-47a1-8bbc-0a1aa016ff5d"
      },
      "execution_count": null,
      "outputs": [
        {
          "output_type": "stream",
          "name": "stderr",
          "text": [
            "/usr/local/lib/python3.8/dist-packages/joblib/externals/loky/process_executor.py:700: UserWarning: A worker stopped while some jobs were given to the executor. This can be caused by a too short worker timeout or by a memory leak.\n",
            "  warnings.warn(\n"
          ]
        }
      ]
    },
    {
      "cell_type": "code",
      "source": [
        "from numpy import mean\n",
        "from numpy import std\n",
        "print('Accuracy: %.3f (%.3f)' % (mean(scores), std(scores)))"
      ],
      "metadata": {
        "colab": {
          "base_uri": "https://localhost:8080/"
        },
        "id": "ToC6OpXE76aC",
        "outputId": "f5ba290f-90e4-4a3b-adfa-5fbcdd98ece9"
      },
      "execution_count": null,
      "outputs": [
        {
          "output_type": "stream",
          "name": "stdout",
          "text": [
            "Accuracy: 0.730 (0.012)\n"
          ]
        }
      ]
    },
    {
      "cell_type": "code",
      "source": [
        "X_t = pd.concat([X_train_count, X_test_count])\n",
        "y_t = pd.concat([y_train, y_test])"
      ],
      "metadata": {
        "id": "82aTxCXg8TYS"
      },
      "execution_count": null,
      "outputs": []
    },
    {
      "cell_type": "code",
      "source": [
        "X_t = X_t.reset_index()\n",
        "y_t = y_t.reset_index()"
      ],
      "metadata": {
        "id": "MHEqtjOrGNZG"
      },
      "execution_count": null,
      "outputs": []
    },
    {
      "cell_type": "code",
      "source": [
        "d = pd.merge(X_t, y_t, left_index=True, right_index=True)"
      ],
      "metadata": {
        "id": "j3LweyYhFj9I"
      },
      "execution_count": null,
      "outputs": []
    },
    {
      "cell_type": "code",
      "source": [
        "d.drop(['index_x', 'index_y'], axis=1, inplace=True)"
      ],
      "metadata": {
        "id": "JV21B4XKFoRN"
      },
      "execution_count": null,
      "outputs": []
    },
    {
      "cell_type": "code",
      "source": [
        "d.drop(['level_0'], axis=1, inplace=True)"
      ],
      "metadata": {
        "id": "rbBwvkBZy7Q2"
      },
      "execution_count": null,
      "outputs": []
    },
    {
      "cell_type": "code",
      "source": [
        "corr_df = d.corr(method ='pearson')"
      ],
      "metadata": {
        "id": "ZElO0nAdFBa7"
      },
      "execution_count": null,
      "outputs": []
    },
    {
      "cell_type": "code",
      "source": [
        "corr_df.to_csv('corrData.csv', index=False)"
      ],
      "metadata": {
        "id": "Glukod29gQRL"
      },
      "execution_count": null,
      "outputs": []
    },
    {
      "cell_type": "code",
      "source": [
        "corr_df"
      ],
      "metadata": {
        "colab": {
          "base_uri": "https://localhost:8080/",
          "height": 557
        },
        "id": "h2JrZS36bZdZ",
        "outputId": "5745d3ec-d177-416d-c440-1c807576691f"
      },
      "execution_count": null,
      "outputs": [
        {
          "output_type": "execute_result",
          "data": {
            "text/plain": [
              "                       aacw  aadvantage       aar     aaron   abandon  \\\n",
              "aacw               1.000000   -0.000140 -0.000140 -0.000273 -0.000547   \n",
              "aadvantage        -0.000140    1.000000 -0.000140 -0.000273 -0.000547   \n",
              "aar               -0.000140   -0.000140  1.000000 -0.000273 -0.000547   \n",
              "aaron             -0.000273   -0.000273 -0.000273  1.000000 -0.001069   \n",
              "abandon           -0.000547   -0.000547 -0.000547 -0.001069  1.000000   \n",
              "...                     ...         ...       ...       ...       ...   \n",
              "Economic Activity -0.006636   -0.006636  0.021065  0.019502  0.011415   \n",
              "First Amendment   -0.003012   -0.003012 -0.003012 -0.005883 -0.011789   \n",
              "Judicial Power     0.024273   -0.005759 -0.005759 -0.003427  0.005834   \n",
              "Others            -0.005968    0.023421 -0.005968 -0.011657  0.004406   \n",
              "target_y           0.011544    0.011544  0.011544  0.016387 -0.015473   \n",
              "\n",
              "                   abandonment  abatement    abbasi    abbate    abbott  ...  \\\n",
              "aacw                 -0.000228  -0.000370 -0.000140 -0.000181 -0.000294  ...   \n",
              "aadvantage           -0.000228  -0.000370 -0.000140 -0.000181 -0.000294  ...   \n",
              "aar                  -0.000228  -0.000370 -0.000140 -0.000181 -0.000294  ...   \n",
              "aaron                -0.000446  -0.000723 -0.000273 -0.000354 -0.000575  ...   \n",
              "abandon               0.440045  -0.001448 -0.000547 -0.000710 -0.001152  ...   \n",
              "...                        ...        ...       ...       ...       ...  ...   \n",
              "Economic Activity     0.000473  -0.010581  0.021065 -0.008612 -0.013971  ...   \n",
              "First Amendment      -0.004919  -0.007972 -0.003012 -0.003909  0.002331  ...   \n",
              "Judicial Power       -0.009405  -0.015243 -0.005759 -0.007474  0.014221  ...   \n",
              "Others                0.014252   0.054584 -0.005968 -0.007746 -0.012566  ...   \n",
              "target_y              0.009196   0.000742 -0.012109 -0.015715  0.013930  ...   \n",
              "\n",
              "                       zuni   zurcher    zurich  Civil Rights  \\\n",
              "aacw              -0.000198 -0.000140 -0.000161     -0.005310   \n",
              "aadvantage        -0.000198 -0.000140 -0.000161     -0.005310   \n",
              "aar               -0.000198 -0.000140 -0.000161     -0.005310   \n",
              "aaron             -0.000386 -0.000273 -0.000314     -0.002133   \n",
              "abandon           -0.000774 -0.000547 -0.000630     -0.003705   \n",
              "...                     ...       ...       ...           ...   \n",
              "Economic Activity -0.009385 -0.006636 -0.003962     -0.252077   \n",
              "First Amendment   -0.004260 -0.003012 -0.002374     -0.114408   \n",
              "Judicial Power     0.034330 -0.005759 -0.006633     -0.218760   \n",
              "Others            -0.008441  0.023421  0.022421     -0.226718   \n",
              "target_y          -0.017126  0.011544 -0.011852      0.045747   \n",
              "\n",
              "                   Criminal Procedure  Economic Activity  First Amendment  \\\n",
              "aacw                        -0.004707          -0.006636        -0.003012   \n",
              "aadvantage                  -0.004707          -0.006636        -0.003012   \n",
              "aar                         -0.004707           0.021065        -0.003012   \n",
              "aaron                       -0.000235           0.019502        -0.005883   \n",
              "abandon                     -0.013782           0.011415        -0.011789   \n",
              "...                               ...                ...              ...   \n",
              "Economic Activity           -0.223462           1.000000        -0.142974   \n",
              "First Amendment             -0.101421          -0.142974         1.000000   \n",
              "Judicial Power              -0.193927          -0.273380        -0.124077   \n",
              "Others                      -0.200982          -0.283325        -0.128591   \n",
              "target_y                     0.089334          -0.095305         0.028976   \n",
              "\n",
              "                   Judicial Power    Others  target_y  \n",
              "aacw                     0.024273 -0.005968  0.011544  \n",
              "aadvantage              -0.005759  0.023421  0.011544  \n",
              "aar                     -0.005759 -0.005968  0.011544  \n",
              "aaron                   -0.003427 -0.011657  0.016387  \n",
              "abandon                  0.005834  0.004406 -0.015473  \n",
              "...                           ...       ...       ...  \n",
              "Economic Activity       -0.273380 -0.283325 -0.095305  \n",
              "First Amendment         -0.124077 -0.128591  0.028976  \n",
              "Judicial Power           1.000000 -0.245878 -0.101134  \n",
              "Others                  -0.245878  1.000000  0.064039  \n",
              "target_y                -0.101134  0.064039  1.000000  \n",
              "\n",
              "[14331 rows x 14331 columns]"
            ],
            "text/html": [
              "\n",
              "  <div id=\"df-2d95dd78-ae2f-448e-b71f-64c0d2c74ffc\">\n",
              "    <div class=\"colab-df-container\">\n",
              "      <div>\n",
              "<style scoped>\n",
              "    .dataframe tbody tr th:only-of-type {\n",
              "        vertical-align: middle;\n",
              "    }\n",
              "\n",
              "    .dataframe tbody tr th {\n",
              "        vertical-align: top;\n",
              "    }\n",
              "\n",
              "    .dataframe thead th {\n",
              "        text-align: right;\n",
              "    }\n",
              "</style>\n",
              "<table border=\"1\" class=\"dataframe\">\n",
              "  <thead>\n",
              "    <tr style=\"text-align: right;\">\n",
              "      <th></th>\n",
              "      <th>aacw</th>\n",
              "      <th>aadvantage</th>\n",
              "      <th>aar</th>\n",
              "      <th>aaron</th>\n",
              "      <th>abandon</th>\n",
              "      <th>abandonment</th>\n",
              "      <th>abatement</th>\n",
              "      <th>abbasi</th>\n",
              "      <th>abbate</th>\n",
              "      <th>abbott</th>\n",
              "      <th>...</th>\n",
              "      <th>zuni</th>\n",
              "      <th>zurcher</th>\n",
              "      <th>zurich</th>\n",
              "      <th>Civil Rights</th>\n",
              "      <th>Criminal Procedure</th>\n",
              "      <th>Economic Activity</th>\n",
              "      <th>First Amendment</th>\n",
              "      <th>Judicial Power</th>\n",
              "      <th>Others</th>\n",
              "      <th>target_y</th>\n",
              "    </tr>\n",
              "  </thead>\n",
              "  <tbody>\n",
              "    <tr>\n",
              "      <th>aacw</th>\n",
              "      <td>1.000000</td>\n",
              "      <td>-0.000140</td>\n",
              "      <td>-0.000140</td>\n",
              "      <td>-0.000273</td>\n",
              "      <td>-0.000547</td>\n",
              "      <td>-0.000228</td>\n",
              "      <td>-0.000370</td>\n",
              "      <td>-0.000140</td>\n",
              "      <td>-0.000181</td>\n",
              "      <td>-0.000294</td>\n",
              "      <td>...</td>\n",
              "      <td>-0.000198</td>\n",
              "      <td>-0.000140</td>\n",
              "      <td>-0.000161</td>\n",
              "      <td>-0.005310</td>\n",
              "      <td>-0.004707</td>\n",
              "      <td>-0.006636</td>\n",
              "      <td>-0.003012</td>\n",
              "      <td>0.024273</td>\n",
              "      <td>-0.005968</td>\n",
              "      <td>0.011544</td>\n",
              "    </tr>\n",
              "    <tr>\n",
              "      <th>aadvantage</th>\n",
              "      <td>-0.000140</td>\n",
              "      <td>1.000000</td>\n",
              "      <td>-0.000140</td>\n",
              "      <td>-0.000273</td>\n",
              "      <td>-0.000547</td>\n",
              "      <td>-0.000228</td>\n",
              "      <td>-0.000370</td>\n",
              "      <td>-0.000140</td>\n",
              "      <td>-0.000181</td>\n",
              "      <td>-0.000294</td>\n",
              "      <td>...</td>\n",
              "      <td>-0.000198</td>\n",
              "      <td>-0.000140</td>\n",
              "      <td>-0.000161</td>\n",
              "      <td>-0.005310</td>\n",
              "      <td>-0.004707</td>\n",
              "      <td>-0.006636</td>\n",
              "      <td>-0.003012</td>\n",
              "      <td>-0.005759</td>\n",
              "      <td>0.023421</td>\n",
              "      <td>0.011544</td>\n",
              "    </tr>\n",
              "    <tr>\n",
              "      <th>aar</th>\n",
              "      <td>-0.000140</td>\n",
              "      <td>-0.000140</td>\n",
              "      <td>1.000000</td>\n",
              "      <td>-0.000273</td>\n",
              "      <td>-0.000547</td>\n",
              "      <td>-0.000228</td>\n",
              "      <td>-0.000370</td>\n",
              "      <td>-0.000140</td>\n",
              "      <td>-0.000181</td>\n",
              "      <td>-0.000294</td>\n",
              "      <td>...</td>\n",
              "      <td>-0.000198</td>\n",
              "      <td>-0.000140</td>\n",
              "      <td>-0.000161</td>\n",
              "      <td>-0.005310</td>\n",
              "      <td>-0.004707</td>\n",
              "      <td>0.021065</td>\n",
              "      <td>-0.003012</td>\n",
              "      <td>-0.005759</td>\n",
              "      <td>-0.005968</td>\n",
              "      <td>0.011544</td>\n",
              "    </tr>\n",
              "    <tr>\n",
              "      <th>aaron</th>\n",
              "      <td>-0.000273</td>\n",
              "      <td>-0.000273</td>\n",
              "      <td>-0.000273</td>\n",
              "      <td>1.000000</td>\n",
              "      <td>-0.001069</td>\n",
              "      <td>-0.000446</td>\n",
              "      <td>-0.000723</td>\n",
              "      <td>-0.000273</td>\n",
              "      <td>-0.000354</td>\n",
              "      <td>-0.000575</td>\n",
              "      <td>...</td>\n",
              "      <td>-0.000386</td>\n",
              "      <td>-0.000273</td>\n",
              "      <td>-0.000314</td>\n",
              "      <td>-0.002133</td>\n",
              "      <td>-0.000235</td>\n",
              "      <td>0.019502</td>\n",
              "      <td>-0.005883</td>\n",
              "      <td>-0.003427</td>\n",
              "      <td>-0.011657</td>\n",
              "      <td>0.016387</td>\n",
              "    </tr>\n",
              "    <tr>\n",
              "      <th>abandon</th>\n",
              "      <td>-0.000547</td>\n",
              "      <td>-0.000547</td>\n",
              "      <td>-0.000547</td>\n",
              "      <td>-0.001069</td>\n",
              "      <td>1.000000</td>\n",
              "      <td>0.440045</td>\n",
              "      <td>-0.001448</td>\n",
              "      <td>-0.000547</td>\n",
              "      <td>-0.000710</td>\n",
              "      <td>-0.001152</td>\n",
              "      <td>...</td>\n",
              "      <td>-0.000774</td>\n",
              "      <td>-0.000547</td>\n",
              "      <td>-0.000630</td>\n",
              "      <td>-0.003705</td>\n",
              "      <td>-0.013782</td>\n",
              "      <td>0.011415</td>\n",
              "      <td>-0.011789</td>\n",
              "      <td>0.005834</td>\n",
              "      <td>0.004406</td>\n",
              "      <td>-0.015473</td>\n",
              "    </tr>\n",
              "    <tr>\n",
              "      <th>...</th>\n",
              "      <td>...</td>\n",
              "      <td>...</td>\n",
              "      <td>...</td>\n",
              "      <td>...</td>\n",
              "      <td>...</td>\n",
              "      <td>...</td>\n",
              "      <td>...</td>\n",
              "      <td>...</td>\n",
              "      <td>...</td>\n",
              "      <td>...</td>\n",
              "      <td>...</td>\n",
              "      <td>...</td>\n",
              "      <td>...</td>\n",
              "      <td>...</td>\n",
              "      <td>...</td>\n",
              "      <td>...</td>\n",
              "      <td>...</td>\n",
              "      <td>...</td>\n",
              "      <td>...</td>\n",
              "      <td>...</td>\n",
              "      <td>...</td>\n",
              "    </tr>\n",
              "    <tr>\n",
              "      <th>Economic Activity</th>\n",
              "      <td>-0.006636</td>\n",
              "      <td>-0.006636</td>\n",
              "      <td>0.021065</td>\n",
              "      <td>0.019502</td>\n",
              "      <td>0.011415</td>\n",
              "      <td>0.000473</td>\n",
              "      <td>-0.010581</td>\n",
              "      <td>0.021065</td>\n",
              "      <td>-0.008612</td>\n",
              "      <td>-0.013971</td>\n",
              "      <td>...</td>\n",
              "      <td>-0.009385</td>\n",
              "      <td>-0.006636</td>\n",
              "      <td>-0.003962</td>\n",
              "      <td>-0.252077</td>\n",
              "      <td>-0.223462</td>\n",
              "      <td>1.000000</td>\n",
              "      <td>-0.142974</td>\n",
              "      <td>-0.273380</td>\n",
              "      <td>-0.283325</td>\n",
              "      <td>-0.095305</td>\n",
              "    </tr>\n",
              "    <tr>\n",
              "      <th>First Amendment</th>\n",
              "      <td>-0.003012</td>\n",
              "      <td>-0.003012</td>\n",
              "      <td>-0.003012</td>\n",
              "      <td>-0.005883</td>\n",
              "      <td>-0.011789</td>\n",
              "      <td>-0.004919</td>\n",
              "      <td>-0.007972</td>\n",
              "      <td>-0.003012</td>\n",
              "      <td>-0.003909</td>\n",
              "      <td>0.002331</td>\n",
              "      <td>...</td>\n",
              "      <td>-0.004260</td>\n",
              "      <td>-0.003012</td>\n",
              "      <td>-0.002374</td>\n",
              "      <td>-0.114408</td>\n",
              "      <td>-0.101421</td>\n",
              "      <td>-0.142974</td>\n",
              "      <td>1.000000</td>\n",
              "      <td>-0.124077</td>\n",
              "      <td>-0.128591</td>\n",
              "      <td>0.028976</td>\n",
              "    </tr>\n",
              "    <tr>\n",
              "      <th>Judicial Power</th>\n",
              "      <td>0.024273</td>\n",
              "      <td>-0.005759</td>\n",
              "      <td>-0.005759</td>\n",
              "      <td>-0.003427</td>\n",
              "      <td>0.005834</td>\n",
              "      <td>-0.009405</td>\n",
              "      <td>-0.015243</td>\n",
              "      <td>-0.005759</td>\n",
              "      <td>-0.007474</td>\n",
              "      <td>0.014221</td>\n",
              "      <td>...</td>\n",
              "      <td>0.034330</td>\n",
              "      <td>-0.005759</td>\n",
              "      <td>-0.006633</td>\n",
              "      <td>-0.218760</td>\n",
              "      <td>-0.193927</td>\n",
              "      <td>-0.273380</td>\n",
              "      <td>-0.124077</td>\n",
              "      <td>1.000000</td>\n",
              "      <td>-0.245878</td>\n",
              "      <td>-0.101134</td>\n",
              "    </tr>\n",
              "    <tr>\n",
              "      <th>Others</th>\n",
              "      <td>-0.005968</td>\n",
              "      <td>0.023421</td>\n",
              "      <td>-0.005968</td>\n",
              "      <td>-0.011657</td>\n",
              "      <td>0.004406</td>\n",
              "      <td>0.014252</td>\n",
              "      <td>0.054584</td>\n",
              "      <td>-0.005968</td>\n",
              "      <td>-0.007746</td>\n",
              "      <td>-0.012566</td>\n",
              "      <td>...</td>\n",
              "      <td>-0.008441</td>\n",
              "      <td>0.023421</td>\n",
              "      <td>0.022421</td>\n",
              "      <td>-0.226718</td>\n",
              "      <td>-0.200982</td>\n",
              "      <td>-0.283325</td>\n",
              "      <td>-0.128591</td>\n",
              "      <td>-0.245878</td>\n",
              "      <td>1.000000</td>\n",
              "      <td>0.064039</td>\n",
              "    </tr>\n",
              "    <tr>\n",
              "      <th>target_y</th>\n",
              "      <td>0.011544</td>\n",
              "      <td>0.011544</td>\n",
              "      <td>0.011544</td>\n",
              "      <td>0.016387</td>\n",
              "      <td>-0.015473</td>\n",
              "      <td>0.009196</td>\n",
              "      <td>0.000742</td>\n",
              "      <td>-0.012109</td>\n",
              "      <td>-0.015715</td>\n",
              "      <td>0.013930</td>\n",
              "      <td>...</td>\n",
              "      <td>-0.017126</td>\n",
              "      <td>0.011544</td>\n",
              "      <td>-0.011852</td>\n",
              "      <td>0.045747</td>\n",
              "      <td>0.089334</td>\n",
              "      <td>-0.095305</td>\n",
              "      <td>0.028976</td>\n",
              "      <td>-0.101134</td>\n",
              "      <td>0.064039</td>\n",
              "      <td>1.000000</td>\n",
              "    </tr>\n",
              "  </tbody>\n",
              "</table>\n",
              "<p>14331 rows × 14331 columns</p>\n",
              "</div>\n",
              "      <button class=\"colab-df-convert\" onclick=\"convertToInteractive('df-2d95dd78-ae2f-448e-b71f-64c0d2c74ffc')\"\n",
              "              title=\"Convert this dataframe to an interactive table.\"\n",
              "              style=\"display:none;\">\n",
              "        \n",
              "  <svg xmlns=\"http://www.w3.org/2000/svg\" height=\"24px\"viewBox=\"0 0 24 24\"\n",
              "       width=\"24px\">\n",
              "    <path d=\"M0 0h24v24H0V0z\" fill=\"none\"/>\n",
              "    <path d=\"M18.56 5.44l.94 2.06.94-2.06 2.06-.94-2.06-.94-.94-2.06-.94 2.06-2.06.94zm-11 1L8.5 8.5l.94-2.06 2.06-.94-2.06-.94L8.5 2.5l-.94 2.06-2.06.94zm10 10l.94 2.06.94-2.06 2.06-.94-2.06-.94-.94-2.06-.94 2.06-2.06.94z\"/><path d=\"M17.41 7.96l-1.37-1.37c-.4-.4-.92-.59-1.43-.59-.52 0-1.04.2-1.43.59L10.3 9.45l-7.72 7.72c-.78.78-.78 2.05 0 2.83L4 21.41c.39.39.9.59 1.41.59.51 0 1.02-.2 1.41-.59l7.78-7.78 2.81-2.81c.8-.78.8-2.07 0-2.86zM5.41 20L4 18.59l7.72-7.72 1.47 1.35L5.41 20z\"/>\n",
              "  </svg>\n",
              "      </button>\n",
              "      \n",
              "  <style>\n",
              "    .colab-df-container {\n",
              "      display:flex;\n",
              "      flex-wrap:wrap;\n",
              "      gap: 12px;\n",
              "    }\n",
              "\n",
              "    .colab-df-convert {\n",
              "      background-color: #E8F0FE;\n",
              "      border: none;\n",
              "      border-radius: 50%;\n",
              "      cursor: pointer;\n",
              "      display: none;\n",
              "      fill: #1967D2;\n",
              "      height: 32px;\n",
              "      padding: 0 0 0 0;\n",
              "      width: 32px;\n",
              "    }\n",
              "\n",
              "    .colab-df-convert:hover {\n",
              "      background-color: #E2EBFA;\n",
              "      box-shadow: 0px 1px 2px rgba(60, 64, 67, 0.3), 0px 1px 3px 1px rgba(60, 64, 67, 0.15);\n",
              "      fill: #174EA6;\n",
              "    }\n",
              "\n",
              "    [theme=dark] .colab-df-convert {\n",
              "      background-color: #3B4455;\n",
              "      fill: #D2E3FC;\n",
              "    }\n",
              "\n",
              "    [theme=dark] .colab-df-convert:hover {\n",
              "      background-color: #434B5C;\n",
              "      box-shadow: 0px 1px 3px 1px rgba(0, 0, 0, 0.15);\n",
              "      filter: drop-shadow(0px 1px 2px rgba(0, 0, 0, 0.3));\n",
              "      fill: #FFFFFF;\n",
              "    }\n",
              "  </style>\n",
              "\n",
              "      <script>\n",
              "        const buttonEl =\n",
              "          document.querySelector('#df-2d95dd78-ae2f-448e-b71f-64c0d2c74ffc button.colab-df-convert');\n",
              "        buttonEl.style.display =\n",
              "          google.colab.kernel.accessAllowed ? 'block' : 'none';\n",
              "\n",
              "        async function convertToInteractive(key) {\n",
              "          const element = document.querySelector('#df-2d95dd78-ae2f-448e-b71f-64c0d2c74ffc');\n",
              "          const dataTable =\n",
              "            await google.colab.kernel.invokeFunction('convertToInteractive',\n",
              "                                                     [key], {});\n",
              "          if (!dataTable) return;\n",
              "\n",
              "          const docLinkHtml = 'Like what you see? Visit the ' +\n",
              "            '<a target=\"_blank\" href=https://colab.research.google.com/notebooks/data_table.ipynb>data table notebook</a>'\n",
              "            + ' to learn more about interactive tables.';\n",
              "          element.innerHTML = '';\n",
              "          dataTable['output_type'] = 'display_data';\n",
              "          await google.colab.output.renderOutput(dataTable, element);\n",
              "          const docLink = document.createElement('div');\n",
              "          docLink.innerHTML = docLinkHtml;\n",
              "          element.appendChild(docLink);\n",
              "        }\n",
              "      </script>\n",
              "    </div>\n",
              "  </div>\n",
              "  "
            ]
          },
          "metadata": {},
          "execution_count": 105
        }
      ]
    },
    {
      "cell_type": "code",
      "source": [
        "everyMostCorrelatedColumns = []\n",
        "for i in corr_df.columns:\n",
        "  for j in corr_df.columns:\n",
        "    if i != j:\n",
        "      if abs(corr_df[i][j]) > 0.85:\n",
        "        everyMostCorrelatedColumns.append(i + \" \" + j)"
      ],
      "metadata": {
        "id": "7j7AalWlwMsP"
      },
      "execution_count": null,
      "outputs": []
    },
    {
      "cell_type": "code",
      "source": [
        "corrColumn = []\n",
        "for i in everyMostCorrelatedColumns:\n",
        "  columns_names = i.split()\n",
        "  corrColumn.append(columns_names[0])\n",
        "  corrColumn.append(columns_names[1])"
      ],
      "metadata": {
        "id": "afOEK9tlU0S0"
      },
      "execution_count": null,
      "outputs": []
    },
    {
      "cell_type": "code",
      "source": [
        "countCorr = {}\n",
        "for i in list(set(corrColumn)):\n",
        "  countCorr[i] = corrColumn.count(i)"
      ],
      "metadata": {
        "id": "ZgDN0yeFXZf4"
      },
      "execution_count": null,
      "outputs": []
    },
    {
      "cell_type": "code",
      "source": [
        "df_corr = pd.DataFrame({\"columnN\": countCorr.keys(), \"count\": countCorr.values()})"
      ],
      "metadata": {
        "id": "PBy7vI6tZxLc"
      },
      "execution_count": null,
      "outputs": []
    },
    {
      "cell_type": "code",
      "source": [
        "df_corr = df_corr.sort_values(by=['count'], ascending = False)"
      ],
      "metadata": {
        "id": "A0h_i9ETa8_I"
      },
      "execution_count": null,
      "outputs": []
    },
    {
      "cell_type": "code",
      "source": [
        "columnsToDelete = df_corr.loc[df_corr['count'] >= 0.85]['columnN']"
      ],
      "metadata": {
        "id": "WCMVRw3r9orZ"
      },
      "execution_count": null,
      "outputs": []
    },
    {
      "cell_type": "code",
      "source": [
        "listOfColumnsToDrop = []"
      ],
      "metadata": {
        "id": "jWdXMGwweUFr"
      },
      "execution_count": null,
      "outputs": []
    },
    {
      "cell_type": "code",
      "source": [
        "for i in columnsToDelete:\n",
        "  listOfColumnsToDrop.append(i)"
      ],
      "metadata": {
        "id": "pDoNK45gbduo"
      },
      "execution_count": null,
      "outputs": []
    },
    {
      "cell_type": "code",
      "source": [
        "for i in listOfColumnsToDrop:\n",
        "  if i in corr_df.columns:\n",
        "    corr_df.drop(columns=i, inplace= True)\n",
        "    corr_df.drop(i, inplace= True)"
      ],
      "metadata": {
        "id": "BSbL3S5cbdJf"
      },
      "execution_count": null,
      "outputs": []
    },
    {
      "cell_type": "code",
      "source": [],
      "metadata": {
        "id": "SQjtr-3g-NIl"
      },
      "execution_count": null,
      "outputs": []
    },
    {
      "cell_type": "code",
      "source": [],
      "metadata": {
        "id": "AzUHnP0Q-NDB"
      },
      "execution_count": null,
      "outputs": []
    },
    {
      "cell_type": "code",
      "source": [
        "result = corr_df.reindex(corr_df.target.abs().sort_values(ascending=False).index)"
      ],
      "metadata": {
        "id": "0xaebvUWLmbY"
      },
      "execution_count": null,
      "outputs": []
    },
    {
      "cell_type": "code",
      "source": [
        "result['target']"
      ],
      "metadata": {
        "id": "5Mj8uz6PHQy0"
      },
      "execution_count": null,
      "outputs": []
    },
    {
      "cell_type": "code",
      "source": [],
      "metadata": {
        "id": "l6RXbU5HlG3N"
      },
      "execution_count": null,
      "outputs": []
    }
  ],
  "metadata": {
    "colab": {
      "collapsed_sections": [
        "h18u8QdgQgWG",
        "AjURLvVnB5_v",
        "LNbeldMyB5_1",
        "_3171OypB5_5",
        "GqWh0DVlYFPF",
        "xEchoCrSpG_R"
      ],
      "provenance": [],
      "include_colab_link": true
    },
    "kernelspec": {
      "display_name": "base",
      "language": "python",
      "name": "python3"
    },
    "language_info": {
      "codemirror_mode": {
        "name": "ipython",
        "version": 3
      },
      "file_extension": ".py",
      "mimetype": "text/x-python",
      "name": "python",
      "nbconvert_exporter": "python",
      "pygments_lexer": "ipython3",
      "version": "3.8.12"
    },
    "vscode": {
      "interpreter": {
        "hash": "40d3a090f54c6569ab1632332b64b2c03c39dcf918b08424e98f38b5ae0af88f"
      }
    }
  },
  "nbformat": 4,
  "nbformat_minor": 0
}