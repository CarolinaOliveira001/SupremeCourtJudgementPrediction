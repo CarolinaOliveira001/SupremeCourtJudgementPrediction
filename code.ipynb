{
 "cells": [
  {
   "cell_type": "code",
   "execution_count": 20,
   "metadata": {},
   "outputs": [],
   "source": [
    "import nltk.stem\n",
    "import string\n",
    "import re\n",
    "import pandas as pd\n",
    "from nltk.corpus import stopwords\n",
    "from nltk import word_tokenize, pos_tag\n",
    "import matplotlib.pyplot as plt\n",
    "from nltk.stem import WordNetLemmatizer, PorterStemmer\n",
    "import numpy as np\n",
    "from sklearn.cluster import KMeans\n",
    "from sklearn.metrics import classification_report, confusion_matrix, roc_auc_score, roc_curve"
   ]
  },
  {
   "cell_type": "code",
   "execution_count": 21,
   "metadata": {},
   "outputs": [],
   "source": [
    "mainDf = pd.read_csv(\"justice.csv\")\n",
    "mainDf = mainDf.drop(['Unnamed: 0', 'ID', 'name', 'href', 'docket', 'term', 'first_party',\n",
    "       'second_party', 'facts_len', 'majority_vote', 'minority_vote', 'decision_type', 'disposition'], axis=1)"
   ]
  },
  {
   "cell_type": "code",
   "execution_count": 22,
   "metadata": {},
   "outputs": [
    {
     "data": {
      "text/plain": [
       "142"
      ]
     },
     "execution_count": 22,
     "metadata": {},
     "output_type": "execute_result"
    }
   ],
   "source": [
    "mainDf[\"issue_area\"].isna().sum()\n"
   ]
  },
  {
   "cell_type": "code",
   "execution_count": 23,
   "metadata": {},
   "outputs": [],
   "source": [
    "mainDf = mainDf.dropna(axis=0)"
   ]
  },
  {
   "cell_type": "code",
   "execution_count": 24,
   "metadata": {},
   "outputs": [
    {
     "data": {
      "text/plain": [
       "3159"
      ]
     },
     "execution_count": 24,
     "metadata": {},
     "output_type": "execute_result"
    }
   ],
   "source": [
    "len(mainDf)"
   ]
  },
  {
   "cell_type": "code",
   "execution_count": 25,
   "metadata": {},
   "outputs": [],
   "source": [
    "mainDf = mainDf.reset_index(drop=True)"
   ]
  },
  {
   "cell_type": "code",
   "execution_count": 48,
   "metadata": {},
   "outputs": [
    {
     "data": {
      "text/html": [
       "<div>\n",
       "<style scoped>\n",
       "    .dataframe tbody tr th:only-of-type {\n",
       "        vertical-align: middle;\n",
       "    }\n",
       "\n",
       "    .dataframe tbody tr th {\n",
       "        vertical-align: top;\n",
       "    }\n",
       "\n",
       "    .dataframe thead th {\n",
       "        text-align: right;\n",
       "    }\n",
       "</style>\n",
       "<table border=\"1\" class=\"dataframe\">\n",
       "  <thead>\n",
       "    <tr style=\"text-align: right;\">\n",
       "      <th></th>\n",
       "      <th>facts</th>\n",
       "      <th>first_party_winner</th>\n",
       "      <th>issue_area</th>\n",
       "      <th>new_issue_area</th>\n",
       "      <th>lemma</th>\n",
       "      <th>lemmaPos</th>\n",
       "    </tr>\n",
       "  </thead>\n",
       "  <tbody>\n",
       "    <tr>\n",
       "      <th>0</th>\n",
       "      <td>[joan, stanley, three, children, peter, stanle...</td>\n",
       "      <td>True</td>\n",
       "      <td>Civil Rights</td>\n",
       "      <td>Civil Rights</td>\n",
       "      <td>[joan, stanley, three, child, peter, stanley, ...</td>\n",
       "      <td>[(joan, NN), (stanley, VBD), (three, CD), (chi...</td>\n",
       "    </tr>\n",
       "    <tr>\n",
       "      <th>1</th>\n",
       "      <td>[john, giglio, convicted, passing, forged, mon...</td>\n",
       "      <td>True</td>\n",
       "      <td>Due Process</td>\n",
       "      <td>Others</td>\n",
       "      <td>[john, giglio, convicted, passing, forged, mon...</td>\n",
       "      <td>[(john, NN), (giglio, NN), (convicted, VBD), (...</td>\n",
       "    </tr>\n",
       "    <tr>\n",
       "      <th>2</th>\n",
       "      <td>[idaho, probate, code, specified, males, must,...</td>\n",
       "      <td>True</td>\n",
       "      <td>Civil Rights</td>\n",
       "      <td>Civil Rights</td>\n",
       "      <td>[idaho, probate, code, specified, male, prefer...</td>\n",
       "      <td>[(idaho, JJ), (probate, NN), (code, NN), (spec...</td>\n",
       "    </tr>\n",
       "    <tr>\n",
       "      <th>3</th>\n",
       "      <td>[miller, conducting, mass, mailing, campaign, ...</td>\n",
       "      <td>True</td>\n",
       "      <td>First Amendment</td>\n",
       "      <td>First Amendment</td>\n",
       "      <td>[miller, conducting, mass, mailing, campaign, ...</td>\n",
       "      <td>[(miller, NN), (conducting, VBG), (mass, NN), ...</td>\n",
       "    </tr>\n",
       "    <tr>\n",
       "      <th>4</th>\n",
       "      <td>[ernest, mandel, belgian, professional, journa...</td>\n",
       "      <td>True</td>\n",
       "      <td>First Amendment</td>\n",
       "      <td>First Amendment</td>\n",
       "      <td>[ernest, mandel, belgian, professional, journa...</td>\n",
       "      <td>[(ernest, JJS), (mandel, NN), (belgian, JJ), (...</td>\n",
       "    </tr>\n",
       "  </tbody>\n",
       "</table>\n",
       "</div>"
      ],
      "text/plain": [
       "                                               facts first_party_winner  \\\n",
       "0  [joan, stanley, three, children, peter, stanle...               True   \n",
       "1  [john, giglio, convicted, passing, forged, mon...               True   \n",
       "2  [idaho, probate, code, specified, males, must,...               True   \n",
       "3  [miller, conducting, mass, mailing, campaign, ...               True   \n",
       "4  [ernest, mandel, belgian, professional, journa...               True   \n",
       "\n",
       "        issue_area   new_issue_area  \\\n",
       "0     Civil Rights     Civil Rights   \n",
       "1      Due Process           Others   \n",
       "2     Civil Rights     Civil Rights   \n",
       "3  First Amendment  First Amendment   \n",
       "4  First Amendment  First Amendment   \n",
       "\n",
       "                                               lemma  \\\n",
       "0  [joan, stanley, three, child, peter, stanley, ...   \n",
       "1  [john, giglio, convicted, passing, forged, mon...   \n",
       "2  [idaho, probate, code, specified, male, prefer...   \n",
       "3  [miller, conducting, mass, mailing, campaign, ...   \n",
       "4  [ernest, mandel, belgian, professional, journa...   \n",
       "\n",
       "                                            lemmaPos  \n",
       "0  [(joan, NN), (stanley, VBD), (three, CD), (chi...  \n",
       "1  [(john, NN), (giglio, NN), (convicted, VBD), (...  \n",
       "2  [(idaho, JJ), (probate, NN), (code, NN), (spec...  \n",
       "3  [(miller, NN), (conducting, VBG), (mass, NN), ...  \n",
       "4  [(ernest, JJS), (mandel, NN), (belgian, JJ), (...  "
      ]
     },
     "execution_count": 48,
     "metadata": {},
     "output_type": "execute_result"
    }
   ],
   "source": [
    "mainDf.head()"
   ]
  },
  {
   "cell_type": "code",
   "execution_count": 74,
   "metadata": {},
   "outputs": [],
   "source": [
    "mainDf[\"first_party_winner\"] = mainDf['first_party_winner'].replace({\"True\": 1, \"False\": 0})"
   ]
  },
  {
   "attachments": {},
   "cell_type": "markdown",
   "metadata": {},
   "source": [
    "# Analysis of the data"
   ]
  },
  {
   "attachments": {},
   "cell_type": "markdown",
   "metadata": {},
   "source": [
    "Before starting changing anything on the dataset, we check the number of data for each prediction outcome."
   ]
  },
  {
   "cell_type": "code",
   "execution_count": null,
   "metadata": {},
   "outputs": [
    {
     "data": {
      "image/png": "[encoded data removed]",
      "text/plain": [
       "<Figure size 640x480 with 1 Axes>"
      ]
     },
     "metadata": {},
     "output_type": "display_data"
    }
   ],
   "source": [
    "freqTarget = mainDf.groupby([\"first_party_winner\"], as_index=False, sort=True)[\"facts\"].count()\n",
    "plt.bar(freqTarget[\"first_party_winner\"], freqTarget[\"facts\"])\n",
    "plt.xticks(freqTarget[\"first_party_winner\"])\n",
    "plt.title(\"Analyse the target data\")\n",
    "plt.ylabel('Frequency of each target')\n",
    "plt.show()"
   ]
  },
  {
   "attachments": {},
   "cell_type": "markdown",
   "metadata": {},
   "source": [
    "Also the issue area is important to analyse to see if we can combine some categories. We noticed a very large difference in number between each issue_area category, hence we decided to combine the small categories into \"Others\". Now we can see that the categories for the issue areas have very close numbers of people."
   ]
  },
  {
   "cell_type": "code",
   "execution_count": 28,
   "metadata": {},
   "outputs": [],
   "source": [
    "mainDf[\"new_issue_area\"] = mainDf['issue_area'].replace({\"Due Process\": \"Others\", \"Privacy\": \"Others\", \"Federal Taxation\": \"Others\", \n",
    "                                                     \"Unions\": \"Others\", \"Federalism\": \"Others\", \"Attorneys\": \"Others\",\n",
    "                                                     \"Miscellaneous\": \"Others\", \"Interstate Relations\": \"Others\", \"Private Action\": \"Others\"})"
   ]
  },
  {
   "cell_type": "code",
   "execution_count": 29,
   "metadata": {},
   "outputs": [
    {
     "data": {
      "image/png": "[encoded data removed]",
      "text/plain": [
       "<Figure size 640x480 with 1 Axes>"
      ]
     },
     "metadata": {},
     "output_type": "display_data"
    }
   ],
   "source": [
    "freqTarget = mainDf.groupby([\"new_issue_area\"], as_index=False, sort=True)[\"facts\"].count()\n",
    "\n",
    "plt.bar(freqTarget[\"new_issue_area\"], freqTarget[\"facts\"])\n",
    "plt.xticks(freqTarget[\"new_issue_area\"])\n",
    "plt.title(\"Analyse the issue areas\")\n",
    "plt.xticks(rotation=90)\n",
    "plt.ylabel('Amount')\n",
    "plt.show()"
   ]
  },
  {
   "cell_type": "markdown",
   "metadata": {},
   "source": [
    "# Cleaning the data"
   ]
  },
  {
   "attachments": {},
   "cell_type": "markdown",
   "metadata": {},
   "source": [
    "We are ready now to clean the facts column from our data. First, we will split the string and then delete numbers, spaces, symbols and word of 1 character. After that, we can tokennize the word for each row. As we also know, stopwords are useless for a machine to understand the context of the text. Hence we will delete those."
   ]
  },
  {
   "cell_type": "code",
   "execution_count": 30,
   "metadata": {},
   "outputs": [],
   "source": [
    "documents = []\n",
    "X = mainDf[\"facts\"]\n",
    "pattern = r'[' + string.punctuation + ']'\n",
    "\n",
    "for i in range(0, len(X)):\n",
    "  document = sample_str = re.sub(pattern, \" \", str(X[i]))\n",
    "  document = re.sub(r\"\\W\", \" \", document)\n",
    "  document = re.sub(r\"\\d+\", \" \", document)\n",
    "  document = re.sub(r'\\b\\w{1,1}\\b', \" \", document)\n",
    "  document = re.sub(\" \\d+\", \" \", document)\n",
    "  document = re.sub(r\"\\s+\", \" \", document, flags=re.I)\n",
    "  document = document.lower()\n",
    "  documents.append(document)"
   ]
  },
  {
   "cell_type": "code",
   "execution_count": 31,
   "metadata": {},
   "outputs": [],
   "source": [
    "tokenDocuments = []\n",
    "for i in range(0, len(X)):\n",
    "    tokenDocuments.append(word_tokenize(documents[i]))"
   ]
  },
  {
   "cell_type": "code",
   "execution_count": 32,
   "metadata": {},
   "outputs": [],
   "source": [
    "stop_words = stopwords.words(\"english\")"
   ]
  },
  {
   "cell_type": "code",
   "execution_count": 33,
   "metadata": {},
   "outputs": [],
   "source": [
    "cleanTokenDocuments = []\n",
    "\n",
    "for i in range(0, len(X)):\n",
    "    cleanTokenDocument = []\n",
    "    for word in tokenDocuments[i]:\n",
    "        if word not in stop_words:\n",
    "            cleanTokenDocument.append(word)\n",
    "    cleanTokenDocuments.append(cleanTokenDocument)\n",
    "mainDf[\"facts\"] = cleanTokenDocuments"
   ]
  },
  {
   "attachments": {},
   "cell_type": "markdown",
   "metadata": {},
   "source": [
    "We can lemmatize and do a Postag on the remaining words. We will save it in the same dataframe."
   ]
  },
  {
   "cell_type": "code",
   "execution_count": 34,
   "metadata": {},
   "outputs": [],
   "source": [
    "lemma = WordNetLemmatizer()\n",
    "\n",
    "mainDf[\"lemma\"] = mainDf[\"facts\"].apply(lambda x: [lemma.lemmatize(y) for y in x])"
   ]
  },
  {
   "cell_type": "code",
   "execution_count": 35,
   "metadata": {},
   "outputs": [],
   "source": [
    "postagDocuments = []\n",
    "for sen in mainDf[\"lemma\"]:\n",
    "    postagDocuments.append(pos_tag(sen))\n",
    "\n",
    "mainDf[\"lemmaPos\"] = postagDocuments"
   ]
  },
  {
   "attachments": {},
   "cell_type": "markdown",
   "metadata": {},
   "source": [
    "Putting every word that we have until now in a corpus, this corpus contain almost 19k unique words. We decided to delete even more words that we think of not being important for context. After putting the remaining words in a corpus, we have suddenly almostt 17k unique words."
   ]
  },
  {
   "cell_type": "code",
   "execution_count": 36,
   "metadata": {},
   "outputs": [
    {
     "name": "stdout",
     "output_type": "stream",
     "text": [
      "Number of words in the corpus: 18561\n"
     ]
    }
   ],
   "source": [
    "words_set = set()\n",
    " \n",
    "for doc in mainDf[\"facts\"]:\n",
    "    for word in doc:\n",
    "        if word not in words_set:\n",
    "            words_set.add(word)\n",
    "     \n",
    "print('Number of words in the corpus:',len(words_set))"
   ]
  },
  {
   "cell_type": "code",
   "execution_count": 37,
   "metadata": {},
   "outputs": [],
   "source": [
    "lemmaWithSomePostagDocuments = []\n",
    "for sen in mainDf[\"lemmaPos\"]:\n",
    "    lemmaWithSomePostagDocument = []\n",
    "    for w in sen:\n",
    "        if w[1] != \"UH\" and w[1] != \"WP\" and w[1] != \"WP$\" and w[1] != \"WRB\" and w[1] != \"PRP\" and w[1] != \"PRP$\" and w[1] != \"MD\" and w[1] != \"WDT\":\n",
    "            lemmaWithSomePostagDocument.append(w[0])\n",
    "    lemmaWithSomePostagDocuments.append(lemmaWithSomePostagDocument)\n",
    "            \n",
    "mainDf[\"lemma\"] = lemmaWithSomePostagDocuments"
   ]
  },
  {
   "cell_type": "code",
   "execution_count": 38,
   "metadata": {},
   "outputs": [
    {
     "name": "stdout",
     "output_type": "stream",
     "text": [
      "Number of words in the corpus: 16648\n"
     ]
    }
   ],
   "source": [
    "words_set = set()\n",
    " \n",
    "for doc in mainDf[\"lemma\"]:\n",
    "    for word in doc:\n",
    "        if word not in words_set:\n",
    "            words_set.add(word)\n",
    "     \n",
    "print('Number of words in the corpus:',len(words_set))"
   ]
  },
  {
   "attachments": {},
   "cell_type": "markdown",
   "metadata": {},
   "source": [
    "## Analysis of the words"
   ]
  },
  {
   "attachments": {},
   "cell_type": "markdown",
   "metadata": {},
   "source": [
    "The following code will help us find the most 15 frequent words. We then plot those frequency numbers."
   ]
  },
  {
   "cell_type": "code",
   "execution_count": 76,
   "metadata": {},
   "outputs": [],
   "source": [
    "words = []\n",
    "freqOfWords = []\n",
    "\n",
    "for doc in mainDf[\"lemma\"]:\n",
    "    for word in doc:\n",
    "        if word not in words:\n",
    "            words.append(word)\n",
    "            freqOfWords.append(1)\n",
    "        else:\n",
    "            idx = words.index(word)\n",
    "            freqOfWords[idx] = freqOfWords[idx] + 1"
   ]
  },
  {
   "cell_type": "code",
   "execution_count": 77,
   "metadata": {},
   "outputs": [],
   "source": [
    "d = {'words': words, 'frequency': freqOfWords}\n",
    "freqWordDf = pd.DataFrame(data=d)\n",
    "freqWordDf = freqWordDf.sort_values(by=['frequency'])"
   ]
  },
  {
   "cell_type": "code",
   "execution_count": 78,
   "metadata": {},
   "outputs": [
    {
     "data": {
      "image/png": "[encoded data removed]",
      "text/plain": [
       "<Figure size 640x480 with 1 Axes>"
      ]
     },
     "metadata": {},
     "output_type": "display_data"
    }
   ],
   "source": [
    "plt.bar(freqWordDf.tail(15)[\"words\"], freqWordDf.tail(15)[\"frequency\"])\n",
    "plt.xticks(freqWordDf.tail(15)[\"words\"])\n",
    "plt.title(\"Most 15 frequent words\")\n",
    "plt.ylabel('Frequency of a word')\n",
    "plt.xticks(rotation = 90) \n",
    "plt.show()"
   ]
  },
  {
   "attachments": {},
   "cell_type": "markdown",
   "metadata": {},
   "source": [
    "It is also interesting to see the most frequent words for those cases which were won by the first party and the most frequent words for those case which were lost by the first party."
   ]
  },
  {
   "cell_type": "code",
   "execution_count": 79,
   "metadata": {},
   "outputs": [],
   "source": [
    "words = []\n",
    "targetVar = []\n",
    "onesList = []\n",
    "for row in range(0, len(mainDf[\"lemma\"])):\n",
    "    for word in mainDf[\"lemma\"][row]:\n",
    "        words.append(word)\n",
    "        targetVar.append(mainDf[\"first_party_winner\"][row]) \n",
    "        onesList.append(1)"
   ]
  },
  {
   "cell_type": "code",
   "execution_count": 80,
   "metadata": {},
   "outputs": [],
   "source": [
    "d = {'words': words, 'first_party_winner': targetVar, \"listOfOnes\": onesList}\n",
    "freqDf = pd.DataFrame(data=d)"
   ]
  },
  {
   "cell_type": "code",
   "execution_count": 81,
   "metadata": {},
   "outputs": [],
   "source": [
    "countFreqDf = freqDf.groupby([\"first_party_winner\", \"words\"], as_index=False, sort=True)[\"listOfOnes\"].count()"
   ]
  },
  {
   "cell_type": "code",
   "execution_count": 82,
   "metadata": {},
   "outputs": [
    {
     "data": {
      "text/plain": [
       "first_party_winner    3324\n",
       "words                 3324\n",
       "listOfOnes            3324\n",
       "dtype: int64"
      ]
     },
     "execution_count": 82,
     "metadata": {},
     "output_type": "execute_result"
    }
   ],
   "source": [
    "countFreqDfZeros = countFreqDf[countFreqDf['first_party_winner'].isin([0])].sort_values(by=['listOfOnes'])\n",
    "countFreqDfZeros[countFreqDfZeros[\"listOfOnes\"].isin([1])].count()"
   ]
  },
  {
   "cell_type": "code",
   "execution_count": 240,
   "metadata": {},
   "outputs": [
    {
     "data": {
      "image/png": "[encoded data removed]",
      "text/plain": [
       "<Figure size 640x480 with 1 Axes>"
      ]
     },
     "metadata": {},
     "output_type": "display_data"
    }
   ],
   "source": [
    "plt.bar(countFreqDfZeros.tail(15)[\"words\"], countFreqDfZeros.tail(15)[\"listOfOnes\"])\n",
    "plt.xticks(countFreqDfZeros.tail(15)[\"words\"])\n",
    "plt.title(\"Most 15 frequent words in the lost cases\")\n",
    "plt.ylabel('Frequency of a word')\n",
    "plt.xticks(rotation = 90) \n",
    "plt.show()"
   ]
  },
  {
   "cell_type": "code",
   "execution_count": 241,
   "metadata": {},
   "outputs": [
    {
     "data": {
      "text/plain": [
       "first_party_winner    4302\n",
       "words                 4302\n",
       "listOfOnes            4302\n",
       "dtype: int64"
      ]
     },
     "execution_count": 241,
     "metadata": {},
     "output_type": "execute_result"
    }
   ],
   "source": [
    "countFreqDfOnes = countFreqDf[countFreqDf['first_party_winner'].isin([1])].sort_values(by=['listOfOnes'])\n",
    "countFreqDfOnes[countFreqDfOnes[\"listOfOnes\"].isin([1])].count()"
   ]
  },
  {
   "cell_type": "code",
   "execution_count": 242,
   "metadata": {},
   "outputs": [
    {
     "data": {
      "image/png": "[encoded data removed]",
      "text/plain": [
       "<Figure size 640x480 with 1 Axes>"
      ]
     },
     "metadata": {},
     "output_type": "display_data"
    }
   ],
   "source": [
    "plt.bar(countFreqDfOnes.tail(15)[\"words\"], countFreqDfOnes.tail(15)[\"listOfOnes\"])\n",
    "plt.xticks(countFreqDfOnes.tail(15)[\"words\"])\n",
    "plt.title(\"Most 15 frequent words in the cases won\")\n",
    "plt.ylabel('Frequency of a word')\n",
    "plt.xticks(rotation = 90) \n",
    "plt.show()"
   ]
  },
  {
   "attachments": {},
   "cell_type": "markdown",
   "metadata": {},
   "source": [
    "# Second dataset"
   ]
  },
  {
   "attachments": {},
   "cell_type": "markdown",
   "metadata": {},
   "source": [
    "## Cleaning the second dataset"
   ]
  },
  {
   "attachments": {},
   "cell_type": "markdown",
   "metadata": {},
   "source": [
    "We are going to do exactly the same steps to clean the dataset as we did for the justice dataset."
   ]
  },
  {
   "cell_type": "code",
   "execution_count": 39,
   "metadata": {},
   "outputs": [],
   "source": [
    "secondDf = pd.read_csv(\"us_classactions_verdicts.csv\")"
   ]
  },
  {
   "cell_type": "code",
   "execution_count": 40,
   "metadata": {},
   "outputs": [
    {
     "data": {
      "text/html": [
       "<div>\n",
       "<style scoped>\n",
       "    .dataframe tbody tr th:only-of-type {\n",
       "        vertical-align: middle;\n",
       "    }\n",
       "\n",
       "    .dataframe tbody tr th {\n",
       "        vertical-align: top;\n",
       "    }\n",
       "\n",
       "    .dataframe thead th {\n",
       "        text-align: right;\n",
       "    }\n",
       "</style>\n",
       "<table border=\"1\" class=\"dataframe\">\n",
       "  <thead>\n",
       "    <tr style=\"text-align: right;\">\n",
       "      <th></th>\n",
       "      <th>id</th>\n",
       "      <th>target_text</th>\n",
       "      <th>verdict</th>\n",
       "    </tr>\n",
       "  </thead>\n",
       "  <tbody>\n",
       "    <tr>\n",
       "      <th>0</th>\n",
       "      <td>99002</td>\n",
       "      <td>Knowing and/or Willful Violation of the Telep...</td>\n",
       "      <td>lose</td>\n",
       "    </tr>\n",
       "    <tr>\n",
       "      <th>1</th>\n",
       "      <td>138068</td>\n",
       "      <td>17.  Defendants operate an electrical construc...</td>\n",
       "      <td>win</td>\n",
       "    </tr>\n",
       "    <tr>\n",
       "      <th>2</th>\n",
       "      <td>319755</td>\n",
       "      <td>(Fair Labor Standards Act Violations)   (Viola...</td>\n",
       "      <td>win</td>\n",
       "    </tr>\n",
       "    <tr>\n",
       "      <th>3</th>\n",
       "      <td>155208</td>\n",
       "      <td>37.  As set forth below, the proposed Class sa...</td>\n",
       "      <td>win</td>\n",
       "    </tr>\n",
       "    <tr>\n",
       "      <th>4</th>\n",
       "      <td>390338</td>\n",
       "      <td>24. Named Plaintiffs and Class Members were em...</td>\n",
       "      <td>win</td>\n",
       "    </tr>\n",
       "  </tbody>\n",
       "</table>\n",
       "</div>"
      ],
      "text/plain": [
       "       id                                        target_text verdict\n",
       "0   99002   Knowing and/or Willful Violation of the Telep...    lose\n",
       "1  138068  17.  Defendants operate an electrical construc...     win\n",
       "2  319755  (Fair Labor Standards Act Violations)   (Viola...     win\n",
       "3  155208  37.  As set forth below, the proposed Class sa...     win\n",
       "4  390338  24. Named Plaintiffs and Class Members were em...     win"
      ]
     },
     "execution_count": 40,
     "metadata": {},
     "output_type": "execute_result"
    }
   ],
   "source": [
    "secondDf.head()"
   ]
  },
  {
   "cell_type": "code",
   "execution_count": null,
   "metadata": {},
   "outputs": [],
   "source": [
    "len(secondDf)"
   ]
  },
  {
   "cell_type": "code",
   "execution_count": 57,
   "metadata": {},
   "outputs": [],
   "source": [
    "secondDf.rename(columns = {'target_text':'facts', 'verdict': \"first_party_winner\"}, inplace = True)"
   ]
  },
  {
   "cell_type": "code",
   "execution_count": 42,
   "metadata": {},
   "outputs": [],
   "source": [
    "documents = []\n",
    "X = secondDf[\"facts\"]\n",
    "pattern = r'[' + string.punctuation + ']'\n",
    "\n",
    "for i in range(0, len(X)):\n",
    "  document = sample_str = re.sub(pattern, \" \", str(X[i]))\n",
    "  document = re.sub(r\"\\W\", \" \", document)\n",
    "  document = re.sub(r\"\\d+\", \" \", document)\n",
    "  document = re.sub(r'\\b\\w{1,1}\\b', \" \", document)\n",
    "  document = re.sub(\" \\d+\", \" \", document)\n",
    "  document = re.sub(r\"\\s+\", \" \", document, flags=re.I)\n",
    "  document = document.lower()\n",
    "  documents.append(document)"
   ]
  },
  {
   "cell_type": "code",
   "execution_count": 43,
   "metadata": {},
   "outputs": [],
   "source": [
    "tokenDocuments = []\n",
    "for i in range(0, len(X)):\n",
    "    tokenDocuments.append(word_tokenize(documents[i]))"
   ]
  },
  {
   "cell_type": "code",
   "execution_count": 44,
   "metadata": {},
   "outputs": [],
   "source": [
    "cleanTokenDocuments = []\n",
    "\n",
    "for i in range(0, len(X)):\n",
    "    cleanTokenDocument = []\n",
    "    for word in tokenDocuments[i]:\n",
    "        if word not in stop_words:\n",
    "            cleanTokenDocument.append(word)\n",
    "    cleanTokenDocuments.append(cleanTokenDocument)\n",
    "secondDf[\"facts\"] = cleanTokenDocuments"
   ]
  },
  {
   "cell_type": "code",
   "execution_count": 45,
   "metadata": {},
   "outputs": [],
   "source": [
    "secondDf[\"lemma\"] = secondDf[\"facts\"].apply(lambda x: [lemma.lemmatize(y) for y in x])"
   ]
  },
  {
   "cell_type": "code",
   "execution_count": 46,
   "metadata": {},
   "outputs": [],
   "source": [
    "postagDocuments = []\n",
    "for sen in secondDf[\"lemma\"]:\n",
    "    postagDocuments.append(pos_tag(sen))\n",
    "\n",
    "secondDf[\"lemmaPos\"] = postagDocuments"
   ]
  },
  {
   "cell_type": "code",
   "execution_count": 49,
   "metadata": {},
   "outputs": [],
   "source": [
    "lemmaWithSomePostagDocuments = []\n",
    "for sen in secondDf[\"lemmaPos\"]:\n",
    "    lemmaWithSomePostagDocument = []\n",
    "    for w in sen:\n",
    "        if w[1] != \"UH\" and w[1] != \"WP\" and w[1] != \"WP$\" and w[1] != \"WRB\" and w[1] != \"PRP\" and w[1] != \"PRP$\" and w[1] != \"MD\" and w[1] != \"WDT\":\n",
    "            lemmaWithSomePostagDocument.append(w[0])\n",
    "    lemmaWithSomePostagDocuments.append(lemmaWithSomePostagDocument)\n",
    "            \n",
    "secondDf[\"lemma\"] = lemmaWithSomePostagDocuments"
   ]
  },
  {
   "cell_type": "code",
   "execution_count": 50,
   "metadata": {},
   "outputs": [
    {
     "name": "stdout",
     "output_type": "stream",
     "text": [
      "Number of words in the corpus: 26342\n"
     ]
    }
   ],
   "source": [
    "words_set_of_secondDf = set()\n",
    " \n",
    "for doc in secondDf[\"lemma\"]:\n",
    "    for word in doc:\n",
    "        if word not in words_set_of_secondDf:\n",
    "            words_set_of_secondDf.add(word)\n",
    "     \n",
    "print('Number of words in the corpus:',len(words_set_of_secondDf))"
   ]
  },
  {
   "attachments": {},
   "cell_type": "markdown",
   "metadata": {},
   "source": [
    "We can see many more words in this second dataset then the previous one, hence we will need to delete all of those extra words."
   ]
  },
  {
   "cell_type": "code",
   "execution_count": 53,
   "metadata": {},
   "outputs": [],
   "source": [
    "words_in_secondDf_not_in_mainDf = []\n",
    "for word in words_set_of_secondDf:\n",
    "    if word not in words_set:\n",
    "        words_in_secondDf_not_in_mainDf.append(word)"
   ]
  },
  {
   "cell_type": "code",
   "execution_count": 58,
   "metadata": {},
   "outputs": [],
   "source": [
    "lemmaWithTooManyWordsDocuments = []\n",
    "for sen in secondDf[\"lemma\"]:\n",
    "    lemmaWithTooManyWordsDocument = []\n",
    "    for w in sen:\n",
    "        if w in words_set:\n",
    "            lemmaWithTooManyWordsDocument.append(w)\n",
    "    lemmaWithTooManyWordsDocuments.append(lemmaWithTooManyWordsDocument)\n",
    "            \n",
    "secondDf[\"lemmaWithDeletedWords\"] = lemmaWithTooManyWordsDocuments"
   ]
  },
  {
   "cell_type": "code",
   "execution_count": 59,
   "metadata": {},
   "outputs": [
    {
     "data": {
      "text/html": [
       "<div>\n",
       "<style scoped>\n",
       "    .dataframe tbody tr th:only-of-type {\n",
       "        vertical-align: middle;\n",
       "    }\n",
       "\n",
       "    .dataframe tbody tr th {\n",
       "        vertical-align: top;\n",
       "    }\n",
       "\n",
       "    .dataframe thead th {\n",
       "        text-align: right;\n",
       "    }\n",
       "</style>\n",
       "<table border=\"1\" class=\"dataframe\">\n",
       "  <thead>\n",
       "    <tr style=\"text-align: right;\">\n",
       "      <th></th>\n",
       "      <th>id</th>\n",
       "      <th>facts</th>\n",
       "      <th>first_party_winner</th>\n",
       "      <th>lemma</th>\n",
       "      <th>lemmaPos</th>\n",
       "      <th>lemmaWithDeletedWords</th>\n",
       "    </tr>\n",
       "  </thead>\n",
       "  <tbody>\n",
       "    <tr>\n",
       "      <th>0</th>\n",
       "      <td>99002</td>\n",
       "      <td>[knowing, willful, violation, telephone, consu...</td>\n",
       "      <td>lose</td>\n",
       "      <td>[knowing, willful, violation, telephone, consu...</td>\n",
       "      <td>[(knowing, VBG), (willful, JJ), (violation, NN...</td>\n",
       "      <td>[knowing, willful, violation, telephone, consu...</td>\n",
       "    </tr>\n",
       "    <tr>\n",
       "      <th>1</th>\n",
       "      <td>138068</td>\n",
       "      <td>[defendants, operate, electrical, construction...</td>\n",
       "      <td>win</td>\n",
       "      <td>[defendant, operate, electrical, construction,...</td>\n",
       "      <td>[(defendant, NN), (operate, JJ), (electrical, ...</td>\n",
       "      <td>[defendant, operate, electrical, construction,...</td>\n",
       "    </tr>\n",
       "    <tr>\n",
       "      <th>2</th>\n",
       "      <td>319755</td>\n",
       "      <td>[fair, labor, standards, act, violations, viol...</td>\n",
       "      <td>win</td>\n",
       "      <td>[fair, labor, standard, act, violation, violat...</td>\n",
       "      <td>[(fair, JJ), (labor, NN), (standard, NN), (act...</td>\n",
       "      <td>[fair, labor, standard, act, violation, violat...</td>\n",
       "    </tr>\n",
       "    <tr>\n",
       "      <th>3</th>\n",
       "      <td>155208</td>\n",
       "      <td>[set, forth, proposed, class, satisfies, requi...</td>\n",
       "      <td>win</td>\n",
       "      <td>[set, forth, proposed, class, satisfies, requi...</td>\n",
       "      <td>[(set, VBN), (forth, NNS), (proposed, VBD), (c...</td>\n",
       "      <td>[set, forth, proposed, class, satisfies, requi...</td>\n",
       "    </tr>\n",
       "    <tr>\n",
       "      <th>4</th>\n",
       "      <td>390338</td>\n",
       "      <td>[named, plaintiffs, class, members, employed, ...</td>\n",
       "      <td>win</td>\n",
       "      <td>[named, plaintiff, class, member, employed, de...</td>\n",
       "      <td>[(named, VBN), (plaintiff, JJ), (class, NN), (...</td>\n",
       "      <td>[named, plaintiff, class, member, employed, de...</td>\n",
       "    </tr>\n",
       "  </tbody>\n",
       "</table>\n",
       "</div>"
      ],
      "text/plain": [
       "       id                                              facts  \\\n",
       "0   99002  [knowing, willful, violation, telephone, consu...   \n",
       "1  138068  [defendants, operate, electrical, construction...   \n",
       "2  319755  [fair, labor, standards, act, violations, viol...   \n",
       "3  155208  [set, forth, proposed, class, satisfies, requi...   \n",
       "4  390338  [named, plaintiffs, class, members, employed, ...   \n",
       "\n",
       "  first_party_winner                                              lemma  \\\n",
       "0               lose  [knowing, willful, violation, telephone, consu...   \n",
       "1                win  [defendant, operate, electrical, construction,...   \n",
       "2                win  [fair, labor, standard, act, violation, violat...   \n",
       "3                win  [set, forth, proposed, class, satisfies, requi...   \n",
       "4                win  [named, plaintiff, class, member, employed, de...   \n",
       "\n",
       "                                            lemmaPos  \\\n",
       "0  [(knowing, VBG), (willful, JJ), (violation, NN...   \n",
       "1  [(defendant, NN), (operate, JJ), (electrical, ...   \n",
       "2  [(fair, JJ), (labor, NN), (standard, NN), (act...   \n",
       "3  [(set, VBN), (forth, NNS), (proposed, VBD), (c...   \n",
       "4  [(named, VBN), (plaintiff, JJ), (class, NN), (...   \n",
       "\n",
       "                               lemmaWithDeletedWords  \n",
       "0  [knowing, willful, violation, telephone, consu...  \n",
       "1  [defendant, operate, electrical, construction,...  \n",
       "2  [fair, labor, standard, act, violation, violat...  \n",
       "3  [set, forth, proposed, class, satisfies, requi...  \n",
       "4  [named, plaintiff, class, member, employed, de...  "
      ]
     },
     "execution_count": 59,
     "metadata": {},
     "output_type": "execute_result"
    }
   ],
   "source": [
    "secondDf.head()"
   ]
  },
  {
   "attachments": {},
   "cell_type": "markdown",
   "metadata": {},
   "source": [
    "## Analysis of the second dataset"
   ]
  },
  {
   "cell_type": "code",
   "execution_count": 85,
   "metadata": {},
   "outputs": [],
   "source": [
    "secondDf[\"first_party_winner\"] = secondDf['first_party_winner'].replace({\"lose\": 0, \"win\": 1})"
   ]
  },
  {
   "cell_type": "code",
   "execution_count": 86,
   "metadata": {},
   "outputs": [
    {
     "data": {
      "image/png": "[encoded data removed]",
      "text/plain": [
       "<Figure size 640x480 with 1 Axes>"
      ]
     },
     "metadata": {},
     "output_type": "display_data"
    }
   ],
   "source": [
    "freqTarget = secondDf.groupby([\"first_party_winner\"], as_index=False, sort=True)[\"facts\"].count()\n",
    "plt.bar(freqTarget[\"first_party_winner\"], freqTarget[\"facts\"])\n",
    "plt.xticks(freqTarget[\"first_party_winner\"])\n",
    "plt.title(\"Analyse the target data\")\n",
    "plt.ylabel('Frequency of each target')\n",
    "plt.show()"
   ]
  },
  {
   "cell_type": "code",
   "execution_count": 87,
   "metadata": {},
   "outputs": [],
   "source": [
    "words = []\n",
    "freqOfWords = []\n",
    "\n",
    "for doc in secondDf[\"lemma\"]:\n",
    "    for word in doc:\n",
    "        if word not in words:\n",
    "            words.append(word)\n",
    "            freqOfWords.append(1)\n",
    "        else:\n",
    "            idx = words.index(word)\n",
    "            freqOfWords[idx] = freqOfWords[idx] + 1"
   ]
  },
  {
   "cell_type": "code",
   "execution_count": 88,
   "metadata": {},
   "outputs": [
    {
     "data": {
      "image/png": "[encoded data removed]",
      "text/plain": [
       "<Figure size 640x480 with 1 Axes>"
      ]
     },
     "metadata": {},
     "output_type": "display_data"
    }
   ],
   "source": [
    "d = {'words': words, 'frequency': freqOfWords}\n",
    "freqWordDf = pd.DataFrame(data=d)\n",
    "freqWordDf = freqWordDf.sort_values(by=['frequency'])\n",
    "\n",
    "plt.bar(freqWordDf.tail(15)[\"words\"], freqWordDf.tail(15)[\"frequency\"])\n",
    "plt.xticks(freqWordDf.tail(15)[\"words\"])\n",
    "plt.title(\"Most 15 frequent words\")\n",
    "plt.ylabel('Frequency of a word')\n",
    "plt.xticks(rotation = 90) \n",
    "plt.show()"
   ]
  },
  {
   "cell_type": "code",
   "execution_count": 89,
   "metadata": {},
   "outputs": [],
   "source": [
    "words = []\n",
    "freqOfWords = []\n",
    "\n",
    "for doc in secondDf[\"lemmaWithDeletedWords\"]:\n",
    "    for word in doc:\n",
    "        if word not in words:\n",
    "            words.append(word)\n",
    "            freqOfWords.append(1)\n",
    "        else:\n",
    "            idx = words.index(word)\n",
    "            freqOfWords[idx] = freqOfWords[idx] + 1"
   ]
  },
  {
   "cell_type": "code",
   "execution_count": 90,
   "metadata": {},
   "outputs": [
    {
     "data": {
      "image/png": "[encoded data removed]",
      "text/plain": [
       "<Figure size 640x480 with 1 Axes>"
      ]
     },
     "metadata": {},
     "output_type": "display_data"
    }
   ],
   "source": [
    "d = {'words': words, 'frequency': freqOfWords}\n",
    "freqWordDf = pd.DataFrame(data=d)\n",
    "freqWordDf = freqWordDf.sort_values(by=['frequency'])\n",
    "\n",
    "plt.bar(freqWordDf.tail(15)[\"words\"], freqWordDf.tail(15)[\"frequency\"])\n",
    "plt.xticks(freqWordDf.tail(15)[\"words\"])\n",
    "plt.title(\"Most 15 frequent words\")\n",
    "plt.ylabel('Frequency of a word')\n",
    "plt.xticks(rotation = 90) \n",
    "plt.show()"
   ]
  },
  {
   "cell_type": "code",
   "execution_count": 68,
   "metadata": {},
   "outputs": [],
   "source": [
    "words = []\n",
    "targetVar = []\n",
    "onesList = []\n",
    "for row in range(0, len(secondDf[\"lemmaWithDeletedWords\"])):\n",
    "    for word in secondDf[\"lemmaWithDeletedWords\"][row]:\n",
    "        words.append(word)\n",
    "        targetVar.append(secondDf[\"first_party_winner\"][row]) \n",
    "        onesList.append(1)"
   ]
  },
  {
   "cell_type": "code",
   "execution_count": 69,
   "metadata": {},
   "outputs": [],
   "source": [
    "d = {'words': words, 'first_party_winner': targetVar, \"listOfOnes\": onesList}\n",
    "freqDf = pd.DataFrame(data=d)"
   ]
  },
  {
   "cell_type": "code",
   "execution_count": 92,
   "metadata": {},
   "outputs": [],
   "source": [
    "countFreqDf = freqDf.groupby([\"first_party_winner\", \"words\"], as_index=False, sort=True)[\"listOfOnes\"].count()"
   ]
  },
  {
   "cell_type": "code",
   "execution_count": 93,
   "metadata": {},
   "outputs": [
    {
     "data": {
      "text/plain": [
       "first_party_winner    3324\n",
       "words                 3324\n",
       "listOfOnes            3324\n",
       "dtype: int64"
      ]
     },
     "execution_count": 93,
     "metadata": {},
     "output_type": "execute_result"
    }
   ],
   "source": [
    "countFreqDfZeros = countFreqDf[countFreqDf['first_party_winner'].isin([0])].sort_values(by=['listOfOnes'])\n",
    "countFreqDfZeros[countFreqDfZeros[\"listOfOnes\"].isin([1])].count()"
   ]
  },
  {
   "cell_type": "code",
   "execution_count": 94,
   "metadata": {},
   "outputs": [
    {
     "data": {
      "image/png": "[encoded data removed]",
      "text/plain": [
       "<Figure size 640x480 with 1 Axes>"
      ]
     },
     "metadata": {},
     "output_type": "display_data"
    }
   ],
   "source": [
    "plt.bar(countFreqDfZeros.tail(15)[\"words\"], countFreqDfZeros.tail(15)[\"listOfOnes\"])\n",
    "plt.xticks(countFreqDfZeros.tail(15)[\"words\"])\n",
    "plt.title(\"Most 15 frequent words in the lost cases\")\n",
    "plt.ylabel('Frequency of a word')\n",
    "plt.xticks(rotation = 90) \n",
    "plt.show()"
   ]
  },
  {
   "cell_type": "code",
   "execution_count": 95,
   "metadata": {},
   "outputs": [
    {
     "data": {
      "text/plain": [
       "first_party_winner    4302\n",
       "words                 4302\n",
       "listOfOnes            4302\n",
       "dtype: int64"
      ]
     },
     "execution_count": 95,
     "metadata": {},
     "output_type": "execute_result"
    }
   ],
   "source": [
    "countFreqDfOnes = countFreqDf[countFreqDf['first_party_winner'].isin([1])].sort_values(by=['listOfOnes'])\n",
    "countFreqDfOnes[countFreqDfOnes[\"listOfOnes\"].isin([1])].count()"
   ]
  },
  {
   "cell_type": "code",
   "execution_count": 96,
   "metadata": {},
   "outputs": [
    {
     "data": {
      "image/png": "[encoded data removed]",
      "text/plain": [
       "<Figure size 640x480 with 1 Axes>"
      ]
     },
     "metadata": {},
     "output_type": "display_data"
    }
   ],
   "source": [
    "plt.bar(countFreqDfOnes.tail(15)[\"words\"], countFreqDfOnes.tail(15)[\"listOfOnes\"])\n",
    "plt.xticks(countFreqDfOnes.tail(15)[\"words\"])\n",
    "plt.title(\"Most 15 frequent words in the cases won\")\n",
    "plt.ylabel('Frequency of a word')\n",
    "plt.xticks(rotation = 90) \n",
    "plt.show()"
   ]
  },
  {
   "cell_type": "code",
   "execution_count": null,
   "metadata": {},
   "outputs": [],
   "source": []
  },
  {
   "attachments": {},
   "cell_type": "markdown",
   "metadata": {},
   "source": [
    "# Word2Vec"
   ]
  },
  {
   "cell_type": "code",
   "execution_count": 243,
   "metadata": {},
   "outputs": [],
   "source": [
    "from gensim.models import Word2Vec"
   ]
  },
  {
   "cell_type": "code",
   "execution_count": 244,
   "metadata": {},
   "outputs": [],
   "source": [
    "model = Word2Vec(sentences=mainDf[\"lemma\"], vector_size=100, window=5, min_count=1, workers=4)\n",
    "model.save(\"word2vec.model\")"
   ]
  },
  {
   "cell_type": "code",
   "execution_count": 245,
   "metadata": {},
   "outputs": [],
   "source": [
    "model = Word2Vec.load(\"word2vec.model\")"
   ]
  },
  {
   "cell_type": "code",
   "execution_count": 246,
   "metadata": {},
   "outputs": [],
   "source": [
    "vecDim = []\n",
    "\n",
    "for i in range(0, len(mainDf)):\n",
    "    wordToNumber = []\n",
    "    for wordToVec in mainDf[\"lemma\"][i]:\n",
    "        wordToNumber.append(model.wv['court'])\n",
    "    vecDim.append(wordToNumber)\n",
    "vecDimDf = pd.DataFrame({\"vec\": vecDim})"
   ]
  },
  {
   "cell_type": "code",
   "execution_count": 247,
   "metadata": {},
   "outputs": [],
   "source": [
    "maxLengthOfVec = 0\n",
    "for i in range(0, len(vecDim)):\n",
    "    if len(vecDim[i]) > maxLengthOfVec:\n",
    "        maxLengthOfVec = len(vecDim[i])"
   ]
  },
  {
   "cell_type": "code",
   "execution_count": 248,
   "metadata": {},
   "outputs": [
    {
     "data": {
      "text/plain": [
       "531"
      ]
     },
     "execution_count": 248,
     "metadata": {},
     "output_type": "execute_result"
    }
   ],
   "source": [
    "maxLengthOfVec"
   ]
  },
  {
   "cell_type": "code",
   "execution_count": 249,
   "metadata": {},
   "outputs": [],
   "source": [
    "mainDf = pd.merge(mainDf, vecDimDf, left_index=True, right_index=True)"
   ]
  },
  {
   "cell_type": "code",
   "execution_count": 256,
   "metadata": {},
   "outputs": [],
   "source": [
    "mainDf[\"label_issue_area\"] = mainDf['new_issue_area'].replace({'Civil Rights': 1, 'Others': 2, \n",
    "                                                                'First Amendment': 3, 'Criminal Procedure': 4,\n",
    "                                                               'Economic Activity': 5, 'Judicial Power': 6})"
   ]
  },
  {
   "cell_type": "code",
   "execution_count": 257,
   "metadata": {},
   "outputs": [
    {
     "data": {
      "text/html": [
       "<div>\n",
       "<style scoped>\n",
       "    .dataframe tbody tr th:only-of-type {\n",
       "        vertical-align: middle;\n",
       "    }\n",
       "\n",
       "    .dataframe tbody tr th {\n",
       "        vertical-align: top;\n",
       "    }\n",
       "\n",
       "    .dataframe thead th {\n",
       "        text-align: right;\n",
       "    }\n",
       "</style>\n",
       "<table border=\"1\" class=\"dataframe\">\n",
       "  <thead>\n",
       "    <tr style=\"text-align: right;\">\n",
       "      <th></th>\n",
       "      <th>facts</th>\n",
       "      <th>first_party_winner</th>\n",
       "      <th>issue_area</th>\n",
       "      <th>new_issue_area</th>\n",
       "      <th>lemma</th>\n",
       "      <th>lemmaPos</th>\n",
       "      <th>vec</th>\n",
       "      <th>vec_mean</th>\n",
       "      <th>label_issue_area</th>\n",
       "    </tr>\n",
       "  </thead>\n",
       "  <tbody>\n",
       "    <tr>\n",
       "      <th>0</th>\n",
       "      <td>[joan, stanley, three, children, peter, stanle...</td>\n",
       "      <td>True</td>\n",
       "      <td>Civil Rights</td>\n",
       "      <td>Civil Rights</td>\n",
       "      <td>[joan, stanley, three, child, peter, stanley, ...</td>\n",
       "      <td>[(joan, NN), (stanley, VBD), (three, CD), (chi...</td>\n",
       "      <td>[[-0.5843567, 2.279764, 0.53048813, 0.05563838...</td>\n",
       "      <td>[2.97191162109375, 1.938203125, 1.421348876953...</td>\n",
       "      <td>1</td>\n",
       "    </tr>\n",
       "    <tr>\n",
       "      <th>1</th>\n",
       "      <td>[john, giglio, convicted, passing, forged, mon...</td>\n",
       "      <td>True</td>\n",
       "      <td>Due Process</td>\n",
       "      <td>Others</td>\n",
       "      <td>[john, giglio, convicted, passing, forged, mon...</td>\n",
       "      <td>[(john, NN), (giglio, NN), (convicted, VBD), (...</td>\n",
       "      <td>[[-0.5843567, 2.279764, 0.53048813, 0.05563838...</td>\n",
       "      <td>[2.97191162109375, 1.938203125, 1.421348876953...</td>\n",
       "      <td>2</td>\n",
       "    </tr>\n",
       "    <tr>\n",
       "      <th>2</th>\n",
       "      <td>[idaho, probate, code, specified, males, must,...</td>\n",
       "      <td>True</td>\n",
       "      <td>Civil Rights</td>\n",
       "      <td>Civil Rights</td>\n",
       "      <td>[idaho, probate, code, specified, male, prefer...</td>\n",
       "      <td>[(idaho, JJ), (probate, NN), (code, NN), (spec...</td>\n",
       "      <td>[[-0.5843567, 2.279764, 0.53048813, 0.05563838...</td>\n",
       "      <td>[2.97191162109375, 1.938203125, 1.421348876953...</td>\n",
       "      <td>1</td>\n",
       "    </tr>\n",
       "    <tr>\n",
       "      <th>3</th>\n",
       "      <td>[miller, conducting, mass, mailing, campaign, ...</td>\n",
       "      <td>True</td>\n",
       "      <td>First Amendment</td>\n",
       "      <td>First Amendment</td>\n",
       "      <td>[miller, conducting, mass, mailing, campaign, ...</td>\n",
       "      <td>[(miller, NN), (conducting, VBG), (mass, NN), ...</td>\n",
       "      <td>[[-0.5843567, 2.279764, 0.53048813, 0.05563838...</td>\n",
       "      <td>[2.97191162109375, 1.938203125, 1.421348876953...</td>\n",
       "      <td>3</td>\n",
       "    </tr>\n",
       "    <tr>\n",
       "      <th>4</th>\n",
       "      <td>[ernest, mandel, belgian, professional, journa...</td>\n",
       "      <td>True</td>\n",
       "      <td>First Amendment</td>\n",
       "      <td>First Amendment</td>\n",
       "      <td>[ernest, mandel, belgian, professional, journa...</td>\n",
       "      <td>[(ernest, JJS), (mandel, NN), (belgian, JJ), (...</td>\n",
       "      <td>[[-0.5843567, 2.279764, 0.53048813, 0.05563838...</td>\n",
       "      <td>[2.97191162109375, 1.938203125, 1.421348876953...</td>\n",
       "      <td>3</td>\n",
       "    </tr>\n",
       "    <tr>\n",
       "      <th>...</th>\n",
       "      <td>...</td>\n",
       "      <td>...</td>\n",
       "      <td>...</td>\n",
       "      <td>...</td>\n",
       "      <td>...</td>\n",
       "      <td>...</td>\n",
       "      <td>...</td>\n",
       "      <td>...</td>\n",
       "      <td>...</td>\n",
       "    </tr>\n",
       "    <tr>\n",
       "      <th>3154</th>\n",
       "      <td>[century, alaska, purchase, federal, governmen...</td>\n",
       "      <td>True</td>\n",
       "      <td>Civil Rights</td>\n",
       "      <td>Civil Rights</td>\n",
       "      <td>[century, alaska, purchase, federal, governmen...</td>\n",
       "      <td>[(century, NN), (alaska, JJ), (purchase, NN), ...</td>\n",
       "      <td>[[-0.5843567, 2.279764, 0.53048813, 0.05563838...</td>\n",
       "      <td>[2.97191162109375, 1.938203125, 1.421348876953...</td>\n",
       "      <td>1</td>\n",
       "    </tr>\n",
       "    <tr>\n",
       "      <th>3155</th>\n",
       "      <td>[refugio, palomar, santiago, mexican, national...</td>\n",
       "      <td>True</td>\n",
       "      <td>Criminal Procedure</td>\n",
       "      <td>Criminal Procedure</td>\n",
       "      <td>[refugio, palomar, santiago, mexican, national...</td>\n",
       "      <td>[(refugio, NN), (palomar, NN), (santiago, JJ),...</td>\n",
       "      <td>[[-0.5843567, 2.279764, 0.53048813, 0.05563838...</td>\n",
       "      <td>[2.97191162109375, 1.938203125, 1.421348876953...</td>\n",
       "      <td>4</td>\n",
       "    </tr>\n",
       "    <tr>\n",
       "      <th>3156</th>\n",
       "      <td>[tarahrick, terry, pleaded, guilty, one, count...</td>\n",
       "      <td>False</td>\n",
       "      <td>Criminal Procedure</td>\n",
       "      <td>Criminal Procedure</td>\n",
       "      <td>[tarahrick, terry, pleaded, guilty, one, count...</td>\n",
       "      <td>[(tarahrick, NN), (terry, NN), (pleaded, VBD),...</td>\n",
       "      <td>[[-0.5843567, 2.279764, 0.53048813, 0.05563838...</td>\n",
       "      <td>[2.97191162109375, 1.938203125, 1.421348876953...</td>\n",
       "      <td>4</td>\n",
       "    </tr>\n",
       "    <tr>\n",
       "      <th>3157</th>\n",
       "      <td>[joshua, james, cooley, parked, pickup, truck,...</td>\n",
       "      <td>True</td>\n",
       "      <td>Civil Rights</td>\n",
       "      <td>Civil Rights</td>\n",
       "      <td>[joshua, james, cooley, parked, pickup, truck,...</td>\n",
       "      <td>[(joshua, NN), (james, NNS), (cooley, VBP), (p...</td>\n",
       "      <td>[[-0.5843567, 2.279764, 0.53048813, 0.05563838...</td>\n",
       "      <td>[2.97191162109375, 1.938203125, 1.421348876953...</td>\n",
       "      <td>1</td>\n",
       "    </tr>\n",
       "    <tr>\n",
       "      <th>3158</th>\n",
       "      <td>[natural, gas, act, nga, permits, private, com...</td>\n",
       "      <td>True</td>\n",
       "      <td>Due Process</td>\n",
       "      <td>Others</td>\n",
       "      <td>[natural, gas, act, nga, permit, private, comp...</td>\n",
       "      <td>[(natural, JJ), (gas, NN), (act, NN), (nga, JJ...</td>\n",
       "      <td>[[-0.5843567, 2.279764, 0.53048813, 0.05563838...</td>\n",
       "      <td>[2.97191162109375, 1.938203125, 1.421348876953...</td>\n",
       "      <td>2</td>\n",
       "    </tr>\n",
       "  </tbody>\n",
       "</table>\n",
       "<p>3159 rows × 9 columns</p>\n",
       "</div>"
      ],
      "text/plain": [
       "                                                  facts first_party_winner  \\\n",
       "0     [joan, stanley, three, children, peter, stanle...               True   \n",
       "1     [john, giglio, convicted, passing, forged, mon...               True   \n",
       "2     [idaho, probate, code, specified, males, must,...               True   \n",
       "3     [miller, conducting, mass, mailing, campaign, ...               True   \n",
       "4     [ernest, mandel, belgian, professional, journa...               True   \n",
       "...                                                 ...                ...   \n",
       "3154  [century, alaska, purchase, federal, governmen...               True   \n",
       "3155  [refugio, palomar, santiago, mexican, national...               True   \n",
       "3156  [tarahrick, terry, pleaded, guilty, one, count...              False   \n",
       "3157  [joshua, james, cooley, parked, pickup, truck,...               True   \n",
       "3158  [natural, gas, act, nga, permits, private, com...               True   \n",
       "\n",
       "              issue_area      new_issue_area  \\\n",
       "0           Civil Rights        Civil Rights   \n",
       "1            Due Process              Others   \n",
       "2           Civil Rights        Civil Rights   \n",
       "3        First Amendment     First Amendment   \n",
       "4        First Amendment     First Amendment   \n",
       "...                  ...                 ...   \n",
       "3154        Civil Rights        Civil Rights   \n",
       "3155  Criminal Procedure  Criminal Procedure   \n",
       "3156  Criminal Procedure  Criminal Procedure   \n",
       "3157        Civil Rights        Civil Rights   \n",
       "3158         Due Process              Others   \n",
       "\n",
       "                                                  lemma  \\\n",
       "0     [joan, stanley, three, child, peter, stanley, ...   \n",
       "1     [john, giglio, convicted, passing, forged, mon...   \n",
       "2     [idaho, probate, code, specified, male, prefer...   \n",
       "3     [miller, conducting, mass, mailing, campaign, ...   \n",
       "4     [ernest, mandel, belgian, professional, journa...   \n",
       "...                                                 ...   \n",
       "3154  [century, alaska, purchase, federal, governmen...   \n",
       "3155  [refugio, palomar, santiago, mexican, national...   \n",
       "3156  [tarahrick, terry, pleaded, guilty, one, count...   \n",
       "3157  [joshua, james, cooley, parked, pickup, truck,...   \n",
       "3158  [natural, gas, act, nga, permit, private, comp...   \n",
       "\n",
       "                                               lemmaPos  \\\n",
       "0     [(joan, NN), (stanley, VBD), (three, CD), (chi...   \n",
       "1     [(john, NN), (giglio, NN), (convicted, VBD), (...   \n",
       "2     [(idaho, JJ), (probate, NN), (code, NN), (spec...   \n",
       "3     [(miller, NN), (conducting, VBG), (mass, NN), ...   \n",
       "4     [(ernest, JJS), (mandel, NN), (belgian, JJ), (...   \n",
       "...                                                 ...   \n",
       "3154  [(century, NN), (alaska, JJ), (purchase, NN), ...   \n",
       "3155  [(refugio, NN), (palomar, NN), (santiago, JJ),...   \n",
       "3156  [(tarahrick, NN), (terry, NN), (pleaded, VBD),...   \n",
       "3157  [(joshua, NN), (james, NNS), (cooley, VBP), (p...   \n",
       "3158  [(natural, JJ), (gas, NN), (act, NN), (nga, JJ...   \n",
       "\n",
       "                                                    vec  \\\n",
       "0     [[-0.5843567, 2.279764, 0.53048813, 0.05563838...   \n",
       "1     [[-0.5843567, 2.279764, 0.53048813, 0.05563838...   \n",
       "2     [[-0.5843567, 2.279764, 0.53048813, 0.05563838...   \n",
       "3     [[-0.5843567, 2.279764, 0.53048813, 0.05563838...   \n",
       "4     [[-0.5843567, 2.279764, 0.53048813, 0.05563838...   \n",
       "...                                                 ...   \n",
       "3154  [[-0.5843567, 2.279764, 0.53048813, 0.05563838...   \n",
       "3155  [[-0.5843567, 2.279764, 0.53048813, 0.05563838...   \n",
       "3156  [[-0.5843567, 2.279764, 0.53048813, 0.05563838...   \n",
       "3157  [[-0.5843567, 2.279764, 0.53048813, 0.05563838...   \n",
       "3158  [[-0.5843567, 2.279764, 0.53048813, 0.05563838...   \n",
       "\n",
       "                                               vec_mean  label_issue_area  \n",
       "0     [2.97191162109375, 1.938203125, 1.421348876953...                 1  \n",
       "1     [2.97191162109375, 1.938203125, 1.421348876953...                 2  \n",
       "2     [2.97191162109375, 1.938203125, 1.421348876953...                 1  \n",
       "3     [2.97191162109375, 1.938203125, 1.421348876953...                 3  \n",
       "4     [2.97191162109375, 1.938203125, 1.421348876953...                 3  \n",
       "...                                                 ...               ...  \n",
       "3154  [2.97191162109375, 1.938203125, 1.421348876953...                 1  \n",
       "3155  [2.97191162109375, 1.938203125, 1.421348876953...                 4  \n",
       "3156  [2.97191162109375, 1.938203125, 1.421348876953...                 4  \n",
       "3157  [2.97191162109375, 1.938203125, 1.421348876953...                 1  \n",
       "3158  [2.97191162109375, 1.938203125, 1.421348876953...                 2  \n",
       "\n",
       "[3159 rows x 9 columns]"
      ]
     },
     "execution_count": 257,
     "metadata": {},
     "output_type": "execute_result"
    }
   ],
   "source": [
    "mainDf"
   ]
  },
  {
   "attachments": {},
   "cell_type": "markdown",
   "metadata": {},
   "source": [
    "------------------------------------------------------\n",
    "------------------------------------------------------"
   ]
  },
  {
   "attachments": {},
   "cell_type": "markdown",
   "metadata": {},
   "source": [
    "DO NOT RUN IT!!"
   ]
  },
  {
   "cell_type": "code",
   "execution_count": 196,
   "metadata": {},
   "outputs": [],
   "source": [
    "padVec = np.zeros(100)"
   ]
  },
  {
   "cell_type": "code",
   "execution_count": 198,
   "metadata": {},
   "outputs": [],
   "source": [
    "for i in range(0, len(mainDf)):\n",
    "    while len(mainDf[\"vec\"][i]) < maxLengthOfVec:\n",
    "        mainDf[\"vec\"][i].append(padVec)"
   ]
  },
  {
   "attachments": {},
   "cell_type": "markdown",
   "metadata": {},
   "source": [
    "------------------------------------------------\n",
    "------------------------------------------------"
   ]
  },
  {
   "cell_type": "code",
   "execution_count": 251,
   "metadata": {},
   "outputs": [
    {
     "data": {
      "text/html": [
       "<div>\n",
       "<style scoped>\n",
       "    .dataframe tbody tr th:only-of-type {\n",
       "        vertical-align: middle;\n",
       "    }\n",
       "\n",
       "    .dataframe tbody tr th {\n",
       "        vertical-align: top;\n",
       "    }\n",
       "\n",
       "    .dataframe thead th {\n",
       "        text-align: right;\n",
       "    }\n",
       "</style>\n",
       "<table border=\"1\" class=\"dataframe\">\n",
       "  <thead>\n",
       "    <tr style=\"text-align: right;\">\n",
       "      <th></th>\n",
       "      <th>facts</th>\n",
       "      <th>first_party_winner</th>\n",
       "      <th>issue_area</th>\n",
       "      <th>new_issue_area</th>\n",
       "      <th>lemma</th>\n",
       "      <th>lemmaPos</th>\n",
       "      <th>vec</th>\n",
       "    </tr>\n",
       "  </thead>\n",
       "  <tbody>\n",
       "    <tr>\n",
       "      <th>0</th>\n",
       "      <td>[joan, stanley, three, children, peter, stanle...</td>\n",
       "      <td>True</td>\n",
       "      <td>Civil Rights</td>\n",
       "      <td>Civil Rights</td>\n",
       "      <td>[joan, stanley, three, child, peter, stanley, ...</td>\n",
       "      <td>[(joan, NN), (stanley, VBD), (three, CD), (chi...</td>\n",
       "      <td>[[-0.5843567, 2.279764, 0.53048813, 0.05563838...</td>\n",
       "    </tr>\n",
       "    <tr>\n",
       "      <th>1</th>\n",
       "      <td>[john, giglio, convicted, passing, forged, mon...</td>\n",
       "      <td>True</td>\n",
       "      <td>Due Process</td>\n",
       "      <td>Others</td>\n",
       "      <td>[john, giglio, convicted, passing, forged, mon...</td>\n",
       "      <td>[(john, NN), (giglio, NN), (convicted, VBD), (...</td>\n",
       "      <td>[[-0.5843567, 2.279764, 0.53048813, 0.05563838...</td>\n",
       "    </tr>\n",
       "    <tr>\n",
       "      <th>2</th>\n",
       "      <td>[idaho, probate, code, specified, males, must,...</td>\n",
       "      <td>True</td>\n",
       "      <td>Civil Rights</td>\n",
       "      <td>Civil Rights</td>\n",
       "      <td>[idaho, probate, code, specified, male, prefer...</td>\n",
       "      <td>[(idaho, JJ), (probate, NN), (code, NN), (spec...</td>\n",
       "      <td>[[-0.5843567, 2.279764, 0.53048813, 0.05563838...</td>\n",
       "    </tr>\n",
       "    <tr>\n",
       "      <th>3</th>\n",
       "      <td>[miller, conducting, mass, mailing, campaign, ...</td>\n",
       "      <td>True</td>\n",
       "      <td>First Amendment</td>\n",
       "      <td>First Amendment</td>\n",
       "      <td>[miller, conducting, mass, mailing, campaign, ...</td>\n",
       "      <td>[(miller, NN), (conducting, VBG), (mass, NN), ...</td>\n",
       "      <td>[[-0.5843567, 2.279764, 0.53048813, 0.05563838...</td>\n",
       "    </tr>\n",
       "    <tr>\n",
       "      <th>4</th>\n",
       "      <td>[ernest, mandel, belgian, professional, journa...</td>\n",
       "      <td>True</td>\n",
       "      <td>First Amendment</td>\n",
       "      <td>First Amendment</td>\n",
       "      <td>[ernest, mandel, belgian, professional, journa...</td>\n",
       "      <td>[(ernest, JJS), (mandel, NN), (belgian, JJ), (...</td>\n",
       "      <td>[[-0.5843567, 2.279764, 0.53048813, 0.05563838...</td>\n",
       "    </tr>\n",
       "    <tr>\n",
       "      <th>...</th>\n",
       "      <td>...</td>\n",
       "      <td>...</td>\n",
       "      <td>...</td>\n",
       "      <td>...</td>\n",
       "      <td>...</td>\n",
       "      <td>...</td>\n",
       "      <td>...</td>\n",
       "    </tr>\n",
       "    <tr>\n",
       "      <th>3154</th>\n",
       "      <td>[century, alaska, purchase, federal, governmen...</td>\n",
       "      <td>True</td>\n",
       "      <td>Civil Rights</td>\n",
       "      <td>Civil Rights</td>\n",
       "      <td>[century, alaska, purchase, federal, governmen...</td>\n",
       "      <td>[(century, NN), (alaska, JJ), (purchase, NN), ...</td>\n",
       "      <td>[[-0.5843567, 2.279764, 0.53048813, 0.05563838...</td>\n",
       "    </tr>\n",
       "    <tr>\n",
       "      <th>3155</th>\n",
       "      <td>[refugio, palomar, santiago, mexican, national...</td>\n",
       "      <td>True</td>\n",
       "      <td>Criminal Procedure</td>\n",
       "      <td>Criminal Procedure</td>\n",
       "      <td>[refugio, palomar, santiago, mexican, national...</td>\n",
       "      <td>[(refugio, NN), (palomar, NN), (santiago, JJ),...</td>\n",
       "      <td>[[-0.5843567, 2.279764, 0.53048813, 0.05563838...</td>\n",
       "    </tr>\n",
       "    <tr>\n",
       "      <th>3156</th>\n",
       "      <td>[tarahrick, terry, pleaded, guilty, one, count...</td>\n",
       "      <td>False</td>\n",
       "      <td>Criminal Procedure</td>\n",
       "      <td>Criminal Procedure</td>\n",
       "      <td>[tarahrick, terry, pleaded, guilty, one, count...</td>\n",
       "      <td>[(tarahrick, NN), (terry, NN), (pleaded, VBD),...</td>\n",
       "      <td>[[-0.5843567, 2.279764, 0.53048813, 0.05563838...</td>\n",
       "    </tr>\n",
       "    <tr>\n",
       "      <th>3157</th>\n",
       "      <td>[joshua, james, cooley, parked, pickup, truck,...</td>\n",
       "      <td>True</td>\n",
       "      <td>Civil Rights</td>\n",
       "      <td>Civil Rights</td>\n",
       "      <td>[joshua, james, cooley, parked, pickup, truck,...</td>\n",
       "      <td>[(joshua, NN), (james, NNS), (cooley, VBP), (p...</td>\n",
       "      <td>[[-0.5843567, 2.279764, 0.53048813, 0.05563838...</td>\n",
       "    </tr>\n",
       "    <tr>\n",
       "      <th>3158</th>\n",
       "      <td>[natural, gas, act, nga, permits, private, com...</td>\n",
       "      <td>True</td>\n",
       "      <td>Due Process</td>\n",
       "      <td>Others</td>\n",
       "      <td>[natural, gas, act, nga, permit, private, comp...</td>\n",
       "      <td>[(natural, JJ), (gas, NN), (act, NN), (nga, JJ...</td>\n",
       "      <td>[[-0.5843567, 2.279764, 0.53048813, 0.05563838...</td>\n",
       "    </tr>\n",
       "  </tbody>\n",
       "</table>\n",
       "<p>3159 rows × 7 columns</p>\n",
       "</div>"
      ],
      "text/plain": [
       "                                                  facts first_party_winner  \\\n",
       "0     [joan, stanley, three, children, peter, stanle...               True   \n",
       "1     [john, giglio, convicted, passing, forged, mon...               True   \n",
       "2     [idaho, probate, code, specified, males, must,...               True   \n",
       "3     [miller, conducting, mass, mailing, campaign, ...               True   \n",
       "4     [ernest, mandel, belgian, professional, journa...               True   \n",
       "...                                                 ...                ...   \n",
       "3154  [century, alaska, purchase, federal, governmen...               True   \n",
       "3155  [refugio, palomar, santiago, mexican, national...               True   \n",
       "3156  [tarahrick, terry, pleaded, guilty, one, count...              False   \n",
       "3157  [joshua, james, cooley, parked, pickup, truck,...               True   \n",
       "3158  [natural, gas, act, nga, permits, private, com...               True   \n",
       "\n",
       "              issue_area      new_issue_area  \\\n",
       "0           Civil Rights        Civil Rights   \n",
       "1            Due Process              Others   \n",
       "2           Civil Rights        Civil Rights   \n",
       "3        First Amendment     First Amendment   \n",
       "4        First Amendment     First Amendment   \n",
       "...                  ...                 ...   \n",
       "3154        Civil Rights        Civil Rights   \n",
       "3155  Criminal Procedure  Criminal Procedure   \n",
       "3156  Criminal Procedure  Criminal Procedure   \n",
       "3157        Civil Rights        Civil Rights   \n",
       "3158         Due Process              Others   \n",
       "\n",
       "                                                  lemma  \\\n",
       "0     [joan, stanley, three, child, peter, stanley, ...   \n",
       "1     [john, giglio, convicted, passing, forged, mon...   \n",
       "2     [idaho, probate, code, specified, male, prefer...   \n",
       "3     [miller, conducting, mass, mailing, campaign, ...   \n",
       "4     [ernest, mandel, belgian, professional, journa...   \n",
       "...                                                 ...   \n",
       "3154  [century, alaska, purchase, federal, governmen...   \n",
       "3155  [refugio, palomar, santiago, mexican, national...   \n",
       "3156  [tarahrick, terry, pleaded, guilty, one, count...   \n",
       "3157  [joshua, james, cooley, parked, pickup, truck,...   \n",
       "3158  [natural, gas, act, nga, permit, private, comp...   \n",
       "\n",
       "                                               lemmaPos  \\\n",
       "0     [(joan, NN), (stanley, VBD), (three, CD), (chi...   \n",
       "1     [(john, NN), (giglio, NN), (convicted, VBD), (...   \n",
       "2     [(idaho, JJ), (probate, NN), (code, NN), (spec...   \n",
       "3     [(miller, NN), (conducting, VBG), (mass, NN), ...   \n",
       "4     [(ernest, JJS), (mandel, NN), (belgian, JJ), (...   \n",
       "...                                                 ...   \n",
       "3154  [(century, NN), (alaska, JJ), (purchase, NN), ...   \n",
       "3155  [(refugio, NN), (palomar, NN), (santiago, JJ),...   \n",
       "3156  [(tarahrick, NN), (terry, NN), (pleaded, VBD),...   \n",
       "3157  [(joshua, NN), (james, NNS), (cooley, VBP), (p...   \n",
       "3158  [(natural, JJ), (gas, NN), (act, NN), (nga, JJ...   \n",
       "\n",
       "                                                    vec  \n",
       "0     [[-0.5843567, 2.279764, 0.53048813, 0.05563838...  \n",
       "1     [[-0.5843567, 2.279764, 0.53048813, 0.05563838...  \n",
       "2     [[-0.5843567, 2.279764, 0.53048813, 0.05563838...  \n",
       "3     [[-0.5843567, 2.279764, 0.53048813, 0.05563838...  \n",
       "4     [[-0.5843567, 2.279764, 0.53048813, 0.05563838...  \n",
       "...                                                 ...  \n",
       "3154  [[-0.5843567, 2.279764, 0.53048813, 0.05563838...  \n",
       "3155  [[-0.5843567, 2.279764, 0.53048813, 0.05563838...  \n",
       "3156  [[-0.5843567, 2.279764, 0.53048813, 0.05563838...  \n",
       "3157  [[-0.5843567, 2.279764, 0.53048813, 0.05563838...  \n",
       "3158  [[-0.5843567, 2.279764, 0.53048813, 0.05563838...  \n",
       "\n",
       "[3159 rows x 7 columns]"
      ]
     },
     "execution_count": 251,
     "metadata": {},
     "output_type": "execute_result"
    }
   ],
   "source": [
    "mainDf"
   ]
  },
  {
   "cell_type": "code",
   "execution_count": 252,
   "metadata": {},
   "outputs": [],
   "source": [
    "vec_mean_vec = []\n",
    "for i in range(0, len(mainDf)):\n",
    "    vec_mean = []\n",
    "    for j in range(0, len(mainDf[\"vec\"])):\n",
    "        feature_vec = np.sum(mainDf[\"vec\"][j])\n",
    "        vec_mean.append(feature_vec/100)\n",
    "    vec_mean_vec.append(vec_mean)\n",
    "vecDimDf = pd.DataFrame({\"vec_mean\": vec_mean_vec})"
   ]
  },
  {
   "cell_type": "code",
   "execution_count": 253,
   "metadata": {},
   "outputs": [],
   "source": [
    "mainDf = pd.merge(mainDf, vecDimDf, left_index=True, right_index=True)"
   ]
  },
  {
   "cell_type": "code",
   "execution_count": 258,
   "metadata": {},
   "outputs": [],
   "source": [
    "X = mainDf[\"vec_mean\"]\n",
    "y = mainDf[\"label_issue_area\"]"
   ]
  },
  {
   "cell_type": "code",
   "execution_count": 259,
   "metadata": {},
   "outputs": [],
   "source": [
    "X_array = np.array(X)\n",
    "y_array = np.array(y)"
   ]
  },
  {
   "cell_type": "code",
   "execution_count": 260,
   "metadata": {},
   "outputs": [],
   "source": [
    "from sklearn.model_selection import train_test_split\n",
    "X_train, X_test, y_train, y_test = train_test_split(X, y, test_size = 0.20, random_state = 42)"
   ]
  },
  {
   "cell_type": "code",
   "execution_count": 266,
   "metadata": {},
   "outputs": [],
   "source": [
    "X_train = np.vstack(X_train)"
   ]
  },
  {
   "cell_type": "code",
   "execution_count": 267,
   "metadata": {},
   "outputs": [
    {
     "data": {
      "text/plain": [
       "((2527, 3159), (2527,))"
      ]
     },
     "execution_count": 267,
     "metadata": {},
     "output_type": "execute_result"
    }
   ],
   "source": [
    "X_train.shape, y_train.shape"
   ]
  },
  {
   "cell_type": "code",
   "execution_count": null,
   "metadata": {},
   "outputs": [],
   "source": [
    "y_train[]"
   ]
  },
  {
   "cell_type": "code",
   "execution_count": 268,
   "metadata": {},
   "outputs": [],
   "source": [
    "from sklearn.ensemble import RandomForestClassifier\n",
    "rf = RandomForestClassifier(n_estimators = 1000, random_state = 42)\n",
    "rf.fit(X_train, y_train);"
   ]
  },
  {
   "cell_type": "code",
   "execution_count": 269,
   "metadata": {},
   "outputs": [],
   "source": [
    "result = rf.predict(X_train)"
   ]
  },
  {
   "cell_type": "code",
   "execution_count": 273,
   "metadata": {},
   "outputs": [
    {
     "data": {
      "text/plain": [
       "((2527,), (632,))"
      ]
     },
     "execution_count": 273,
     "metadata": {},
     "output_type": "execute_result"
    }
   ],
   "source": [
    "result.shape, y_test.shape"
   ]
  },
  {
   "cell_type": "code",
   "execution_count": 274,
   "metadata": {},
   "outputs": [
    {
     "name": "stdout",
     "output_type": "stream",
     "text": [
      "              precision    recall  f1-score   support\n",
      "\n",
      "           1       0.00      0.00      0.00       460\n",
      "           2       0.00      0.00      0.00       396\n",
      "           3       0.00      0.00      0.00       282\n",
      "           4       0.27      1.00      0.43       686\n",
      "           5       0.00      0.00      0.00       443\n",
      "           6       0.00      0.00      0.00       260\n",
      "\n",
      "    accuracy                           0.27      2527\n",
      "   macro avg       0.05      0.17      0.07      2527\n",
      "weighted avg       0.07      0.27      0.12      2527\n",
      "\n"
     ]
    },
    {
     "name": "stderr",
     "output_type": "stream",
     "text": [
      "/Users/carolina/Documents/Semester_9/Natural_Language_Processing/SupremeCourtJudgementPrediction/my_envnlp/lib/python3.8/site-packages/sklearn/metrics/_classification.py:1344: UndefinedMetricWarning: Precision and F-score are ill-defined and being set to 0.0 in labels with no predicted samples. Use `zero_division` parameter to control this behavior.\n",
      "  _warn_prf(average, modifier, msg_start, len(result))\n",
      "/Users/carolina/Documents/Semester_9/Natural_Language_Processing/SupremeCourtJudgementPrediction/my_envnlp/lib/python3.8/site-packages/sklearn/metrics/_classification.py:1344: UndefinedMetricWarning: Precision and F-score are ill-defined and being set to 0.0 in labels with no predicted samples. Use `zero_division` parameter to control this behavior.\n",
      "  _warn_prf(average, modifier, msg_start, len(result))\n",
      "/Users/carolina/Documents/Semester_9/Natural_Language_Processing/SupremeCourtJudgementPrediction/my_envnlp/lib/python3.8/site-packages/sklearn/metrics/_classification.py:1344: UndefinedMetricWarning: Precision and F-score are ill-defined and being set to 0.0 in labels with no predicted samples. Use `zero_division` parameter to control this behavior.\n",
      "  _warn_prf(average, modifier, msg_start, len(result))\n"
     ]
    }
   ],
   "source": [
    "print(classification_report(y_train, result))"
   ]
  }
 ],
 "metadata": {
  "kernelspec": {
   "display_name": "my_envnlp",
   "language": "python",
   "name": "python3"
  },
  "language_info": {
   "codemirror_mode": {
    "name": "ipython",
    "version": 3
   },
   "file_extension": ".py",
   "mimetype": "text/x-python",
   "name": "python",
   "nbconvert_exporter": "python",
   "pygments_lexer": "ipython3",
   "version": "3.8.12"
  },
  "orig_nbformat": 4,
  "vscode": {
   "interpreter": {
    "hash": "11d97930e51d58d05871591002b1237772f6e93630f191e70d84d145b9b3cd95"
   }
  }
 },
 "nbformat": 4,
 "nbformat_minor": 2
}
