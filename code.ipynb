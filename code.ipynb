{
 "cells": [
  {
   "cell_type": "code",
   "execution_count": 212,
   "metadata": {},
   "outputs": [
    {
     "name": "stdout",
     "output_type": "stream",
     "text": [
      "Requirement already satisfied: gensim in ./my_envnlp/lib/python3.8/site-packages (4.3.0)\n",
      "Requirement already satisfied: numpy>=1.18.5 in ./my_envnlp/lib/python3.8/site-packages (from gensim) (1.23.5)\n",
      "Requirement already satisfied: FuzzyTM>=0.4.0 in ./my_envnlp/lib/python3.8/site-packages (from gensim) (2.0.5)\n",
      "Requirement already satisfied: smart-open>=1.8.1 in ./my_envnlp/lib/python3.8/site-packages (from gensim) (6.3.0)\n",
      "Requirement already satisfied: scipy>=1.7.0 in ./my_envnlp/lib/python3.8/site-packages (from gensim) (1.9.3)\n",
      "Requirement already satisfied: pandas in ./my_envnlp/lib/python3.8/site-packages (from FuzzyTM>=0.4.0->gensim) (1.5.2)\n",
      "Requirement already satisfied: pyfume in ./my_envnlp/lib/python3.8/site-packages (from FuzzyTM>=0.4.0->gensim) (0.2.25)\n",
      "Requirement already satisfied: python-dateutil>=2.8.1 in ./my_envnlp/lib/python3.8/site-packages (from pandas->FuzzyTM>=0.4.0->gensim) (2.8.2)\n",
      "Requirement already satisfied: pytz>=2020.1 in ./my_envnlp/lib/python3.8/site-packages (from pandas->FuzzyTM>=0.4.0->gensim) (2022.6)\n",
      "Requirement already satisfied: fst-pso in ./my_envnlp/lib/python3.8/site-packages (from pyfume->FuzzyTM>=0.4.0->gensim) (1.8.1)\n",
      "Requirement already satisfied: simpful in ./my_envnlp/lib/python3.8/site-packages (from pyfume->FuzzyTM>=0.4.0->gensim) (2.9.0)\n",
      "Requirement already satisfied: six>=1.5 in ./my_envnlp/lib/python3.8/site-packages (from python-dateutil>=2.8.1->pandas->FuzzyTM>=0.4.0->gensim) (1.16.0)\n",
      "Requirement already satisfied: miniful in ./my_envnlp/lib/python3.8/site-packages (from fst-pso->pyfume->FuzzyTM>=0.4.0->gensim) (0.0.6)\n",
      "Requirement already satisfied: requests in ./my_envnlp/lib/python3.8/site-packages (from simpful->pyfume->FuzzyTM>=0.4.0->gensim) (2.28.1)\n",
      "Requirement already satisfied: certifi>=2017.4.17 in ./my_envnlp/lib/python3.8/site-packages (from requests->simpful->pyfume->FuzzyTM>=0.4.0->gensim) (2022.12.7)\n",
      "Requirement already satisfied: urllib3<1.27,>=1.21.1 in ./my_envnlp/lib/python3.8/site-packages (from requests->simpful->pyfume->FuzzyTM>=0.4.0->gensim) (1.26.13)\n",
      "Requirement already satisfied: idna<4,>=2.5 in ./my_envnlp/lib/python3.8/site-packages (from requests->simpful->pyfume->FuzzyTM>=0.4.0->gensim) (3.4)\n",
      "Requirement already satisfied: charset-normalizer<3,>=2 in ./my_envnlp/lib/python3.8/site-packages (from requests->simpful->pyfume->FuzzyTM>=0.4.0->gensim) (2.1.1)\n",
      "Note: you may need to restart the kernel to use updated packages.\n"
     ]
    }
   ],
   "source": [
    "pip install gensim"
   ]
  },
  {
   "cell_type": "code",
   "execution_count": 270,
   "metadata": {},
   "outputs": [],
   "source": [
    "import nltk.stem\n",
    "import string\n",
    "import re\n",
    "import pandas as pd\n",
    "from nltk.corpus import stopwords\n",
    "from nltk import word_tokenize, pos_tag\n",
    "import matplotlib.pyplot as plt\n",
    "from nltk.stem import WordNetLemmatizer, PorterStemmer\n",
    "import numpy as np\n",
    "from sklearn.cluster import KMeans\n",
    "from sklearn.metrics import classification_report, confusion_matrix, roc_auc_score, roc_curve"
   ]
  },
  {
   "cell_type": "code",
   "execution_count": 214,
   "metadata": {},
   "outputs": [],
   "source": [
    "mainDf = pd.read_csv(\"justice.csv\")\n",
    "mainDf = mainDf.drop(['Unnamed: 0', 'ID', 'name', 'href', 'docket', 'term', 'first_party',\n",
    "       'second_party', 'facts_len', 'majority_vote', 'minority_vote', 'decision_type', 'disposition'], axis=1)"
   ]
  },
  {
   "cell_type": "code",
   "execution_count": 215,
   "metadata": {},
   "outputs": [
    {
     "data": {
      "text/plain": [
       "142"
      ]
     },
     "execution_count": 215,
     "metadata": {},
     "output_type": "execute_result"
    }
   ],
   "source": [
    "mainDf[\"issue_area\"].isna().sum()\n"
   ]
  },
  {
   "cell_type": "code",
   "execution_count": 216,
   "metadata": {},
   "outputs": [],
   "source": [
    "mainDf = mainDf.dropna(axis=0)"
   ]
  },
  {
   "cell_type": "code",
   "execution_count": 217,
   "metadata": {},
   "outputs": [
    {
     "data": {
      "text/plain": [
       "3159"
      ]
     },
     "execution_count": 217,
     "metadata": {},
     "output_type": "execute_result"
    }
   ],
   "source": [
    "len(mainDf)"
   ]
  },
  {
   "cell_type": "code",
   "execution_count": 218,
   "metadata": {},
   "outputs": [
    {
     "data": {
      "text/html": [
       "<div>\n",
       "<style scoped>\n",
       "    .dataframe tbody tr th:only-of-type {\n",
       "        vertical-align: middle;\n",
       "    }\n",
       "\n",
       "    .dataframe tbody tr th {\n",
       "        vertical-align: top;\n",
       "    }\n",
       "\n",
       "    .dataframe thead th {\n",
       "        text-align: right;\n",
       "    }\n",
       "</style>\n",
       "<table border=\"1\" class=\"dataframe\">\n",
       "  <thead>\n",
       "    <tr style=\"text-align: right;\">\n",
       "      <th></th>\n",
       "      <th>facts</th>\n",
       "      <th>first_party_winner</th>\n",
       "      <th>issue_area</th>\n",
       "    </tr>\n",
       "  </thead>\n",
       "  <tbody>\n",
       "    <tr>\n",
       "      <th>1</th>\n",
       "      <td>&lt;p&gt;Joan Stanley had three children with Peter ...</td>\n",
       "      <td>True</td>\n",
       "      <td>Civil Rights</td>\n",
       "    </tr>\n",
       "    <tr>\n",
       "      <th>2</th>\n",
       "      <td>&lt;p&gt;John Giglio was convicted of passing forged...</td>\n",
       "      <td>True</td>\n",
       "      <td>Due Process</td>\n",
       "    </tr>\n",
       "    <tr>\n",
       "      <th>3</th>\n",
       "      <td>&lt;p&gt;The Idaho Probate Code specified that \"male...</td>\n",
       "      <td>True</td>\n",
       "      <td>Civil Rights</td>\n",
       "    </tr>\n",
       "    <tr>\n",
       "      <th>4</th>\n",
       "      <td>&lt;p&gt;Miller, after conducting a mass mailing cam...</td>\n",
       "      <td>True</td>\n",
       "      <td>First Amendment</td>\n",
       "    </tr>\n",
       "    <tr>\n",
       "      <th>5</th>\n",
       "      <td>&lt;p&gt;Ernest E. Mandel was a Belgian professional...</td>\n",
       "      <td>True</td>\n",
       "      <td>First Amendment</td>\n",
       "    </tr>\n",
       "    <tr>\n",
       "      <th>...</th>\n",
       "      <td>...</td>\n",
       "      <td>...</td>\n",
       "      <td>...</td>\n",
       "    </tr>\n",
       "    <tr>\n",
       "      <th>3297</th>\n",
       "      <td>&lt;p&gt;For over a century after the Alaska Purchas...</td>\n",
       "      <td>True</td>\n",
       "      <td>Civil Rights</td>\n",
       "    </tr>\n",
       "    <tr>\n",
       "      <th>3298</th>\n",
       "      <td>&lt;p&gt;Refugio Palomar-Santiago, a Mexican nationa...</td>\n",
       "      <td>True</td>\n",
       "      <td>Criminal Procedure</td>\n",
       "    </tr>\n",
       "    <tr>\n",
       "      <th>3299</th>\n",
       "      <td>&lt;p&gt;Tarahrick Terry pleaded guilty to one count...</td>\n",
       "      <td>False</td>\n",
       "      <td>Criminal Procedure</td>\n",
       "    </tr>\n",
       "    <tr>\n",
       "      <th>3300</th>\n",
       "      <td>&lt;p&gt;Joshua James Cooley was parked in his picku...</td>\n",
       "      <td>True</td>\n",
       "      <td>Civil Rights</td>\n",
       "    </tr>\n",
       "    <tr>\n",
       "      <th>3302</th>\n",
       "      <td>&lt;p&gt;The Natural Gas Act (NGA), 15 U.S.C. §§ 717...</td>\n",
       "      <td>True</td>\n",
       "      <td>Due Process</td>\n",
       "    </tr>\n",
       "  </tbody>\n",
       "</table>\n",
       "<p>3159 rows × 3 columns</p>\n",
       "</div>"
      ],
      "text/plain": [
       "                                                  facts first_party_winner  \\\n",
       "1     <p>Joan Stanley had three children with Peter ...               True   \n",
       "2     <p>John Giglio was convicted of passing forged...               True   \n",
       "3     <p>The Idaho Probate Code specified that \"male...               True   \n",
       "4     <p>Miller, after conducting a mass mailing cam...               True   \n",
       "5     <p>Ernest E. Mandel was a Belgian professional...               True   \n",
       "...                                                 ...                ...   \n",
       "3297  <p>For over a century after the Alaska Purchas...               True   \n",
       "3298  <p>Refugio Palomar-Santiago, a Mexican nationa...               True   \n",
       "3299  <p>Tarahrick Terry pleaded guilty to one count...              False   \n",
       "3300  <p>Joshua James Cooley was parked in his picku...               True   \n",
       "3302  <p>The Natural Gas Act (NGA), 15 U.S.C. §§ 717...               True   \n",
       "\n",
       "              issue_area  \n",
       "1           Civil Rights  \n",
       "2            Due Process  \n",
       "3           Civil Rights  \n",
       "4        First Amendment  \n",
       "5        First Amendment  \n",
       "...                  ...  \n",
       "3297        Civil Rights  \n",
       "3298  Criminal Procedure  \n",
       "3299  Criminal Procedure  \n",
       "3300        Civil Rights  \n",
       "3302         Due Process  \n",
       "\n",
       "[3159 rows x 3 columns]"
      ]
     },
     "execution_count": 218,
     "metadata": {},
     "output_type": "execute_result"
    }
   ],
   "source": [
    "mainDf"
   ]
  },
  {
   "cell_type": "code",
   "execution_count": 219,
   "metadata": {},
   "outputs": [],
   "source": [
    "mainDf = mainDf.reset_index(drop=True)"
   ]
  },
  {
   "cell_type": "code",
   "execution_count": 220,
   "metadata": {},
   "outputs": [],
   "source": [
    "mainDf[\"new_issue_area\"] = mainDf['issue_area'].replace({\"Due Process\": \"Others\", \"Privacy\": \"Others\", \"Federal Taxation\": \"Others\", \n",
    "                                                     \"Unions\": \"Others\", \"Federalism\": \"Others\", \"Attorneys\": \"Others\",\n",
    "                                                     \"Miscellaneous\": \"Others\", \"Interstate Relations\": \"Others\", \"Private Action\": \"Others\"})"
   ]
  },
  {
   "cell_type": "code",
   "execution_count": 221,
   "metadata": {},
   "outputs": [
    {
     "data": {
      "text/html": [
       "<div>\n",
       "<style scoped>\n",
       "    .dataframe tbody tr th:only-of-type {\n",
       "        vertical-align: middle;\n",
       "    }\n",
       "\n",
       "    .dataframe tbody tr th {\n",
       "        vertical-align: top;\n",
       "    }\n",
       "\n",
       "    .dataframe thead th {\n",
       "        text-align: right;\n",
       "    }\n",
       "</style>\n",
       "<table border=\"1\" class=\"dataframe\">\n",
       "  <thead>\n",
       "    <tr style=\"text-align: right;\">\n",
       "      <th></th>\n",
       "      <th>facts</th>\n",
       "      <th>first_party_winner</th>\n",
       "      <th>issue_area</th>\n",
       "      <th>new_issue_area</th>\n",
       "    </tr>\n",
       "  </thead>\n",
       "  <tbody>\n",
       "    <tr>\n",
       "      <th>0</th>\n",
       "      <td>&lt;p&gt;Joan Stanley had three children with Peter ...</td>\n",
       "      <td>True</td>\n",
       "      <td>Civil Rights</td>\n",
       "      <td>Civil Rights</td>\n",
       "    </tr>\n",
       "    <tr>\n",
       "      <th>1</th>\n",
       "      <td>&lt;p&gt;John Giglio was convicted of passing forged...</td>\n",
       "      <td>True</td>\n",
       "      <td>Due Process</td>\n",
       "      <td>Others</td>\n",
       "    </tr>\n",
       "    <tr>\n",
       "      <th>2</th>\n",
       "      <td>&lt;p&gt;The Idaho Probate Code specified that \"male...</td>\n",
       "      <td>True</td>\n",
       "      <td>Civil Rights</td>\n",
       "      <td>Civil Rights</td>\n",
       "    </tr>\n",
       "    <tr>\n",
       "      <th>3</th>\n",
       "      <td>&lt;p&gt;Miller, after conducting a mass mailing cam...</td>\n",
       "      <td>True</td>\n",
       "      <td>First Amendment</td>\n",
       "      <td>First Amendment</td>\n",
       "    </tr>\n",
       "    <tr>\n",
       "      <th>4</th>\n",
       "      <td>&lt;p&gt;Ernest E. Mandel was a Belgian professional...</td>\n",
       "      <td>True</td>\n",
       "      <td>First Amendment</td>\n",
       "      <td>First Amendment</td>\n",
       "    </tr>\n",
       "    <tr>\n",
       "      <th>...</th>\n",
       "      <td>...</td>\n",
       "      <td>...</td>\n",
       "      <td>...</td>\n",
       "      <td>...</td>\n",
       "    </tr>\n",
       "    <tr>\n",
       "      <th>3154</th>\n",
       "      <td>&lt;p&gt;For over a century after the Alaska Purchas...</td>\n",
       "      <td>True</td>\n",
       "      <td>Civil Rights</td>\n",
       "      <td>Civil Rights</td>\n",
       "    </tr>\n",
       "    <tr>\n",
       "      <th>3155</th>\n",
       "      <td>&lt;p&gt;Refugio Palomar-Santiago, a Mexican nationa...</td>\n",
       "      <td>True</td>\n",
       "      <td>Criminal Procedure</td>\n",
       "      <td>Criminal Procedure</td>\n",
       "    </tr>\n",
       "    <tr>\n",
       "      <th>3156</th>\n",
       "      <td>&lt;p&gt;Tarahrick Terry pleaded guilty to one count...</td>\n",
       "      <td>False</td>\n",
       "      <td>Criminal Procedure</td>\n",
       "      <td>Criminal Procedure</td>\n",
       "    </tr>\n",
       "    <tr>\n",
       "      <th>3157</th>\n",
       "      <td>&lt;p&gt;Joshua James Cooley was parked in his picku...</td>\n",
       "      <td>True</td>\n",
       "      <td>Civil Rights</td>\n",
       "      <td>Civil Rights</td>\n",
       "    </tr>\n",
       "    <tr>\n",
       "      <th>3158</th>\n",
       "      <td>&lt;p&gt;The Natural Gas Act (NGA), 15 U.S.C. §§ 717...</td>\n",
       "      <td>True</td>\n",
       "      <td>Due Process</td>\n",
       "      <td>Others</td>\n",
       "    </tr>\n",
       "  </tbody>\n",
       "</table>\n",
       "<p>3159 rows × 4 columns</p>\n",
       "</div>"
      ],
      "text/plain": [
       "                                                  facts first_party_winner  \\\n",
       "0     <p>Joan Stanley had three children with Peter ...               True   \n",
       "1     <p>John Giglio was convicted of passing forged...               True   \n",
       "2     <p>The Idaho Probate Code specified that \"male...               True   \n",
       "3     <p>Miller, after conducting a mass mailing cam...               True   \n",
       "4     <p>Ernest E. Mandel was a Belgian professional...               True   \n",
       "...                                                 ...                ...   \n",
       "3154  <p>For over a century after the Alaska Purchas...               True   \n",
       "3155  <p>Refugio Palomar-Santiago, a Mexican nationa...               True   \n",
       "3156  <p>Tarahrick Terry pleaded guilty to one count...              False   \n",
       "3157  <p>Joshua James Cooley was parked in his picku...               True   \n",
       "3158  <p>The Natural Gas Act (NGA), 15 U.S.C. §§ 717...               True   \n",
       "\n",
       "              issue_area      new_issue_area  \n",
       "0           Civil Rights        Civil Rights  \n",
       "1            Due Process              Others  \n",
       "2           Civil Rights        Civil Rights  \n",
       "3        First Amendment     First Amendment  \n",
       "4        First Amendment     First Amendment  \n",
       "...                  ...                 ...  \n",
       "3154        Civil Rights        Civil Rights  \n",
       "3155  Criminal Procedure  Criminal Procedure  \n",
       "3156  Criminal Procedure  Criminal Procedure  \n",
       "3157        Civil Rights        Civil Rights  \n",
       "3158         Due Process              Others  \n",
       "\n",
       "[3159 rows x 4 columns]"
      ]
     },
     "execution_count": 221,
     "metadata": {},
     "output_type": "execute_result"
    }
   ],
   "source": [
    "mainDf"
   ]
  },
  {
   "attachments": {},
   "cell_type": "markdown",
   "metadata": {},
   "source": [
    "# Analysis of the data"
   ]
  },
  {
   "attachments": {},
   "cell_type": "markdown",
   "metadata": {},
   "source": [
    "Before starting changing anything on the dataset, we check the number of data for each prediction outcome."
   ]
  },
  {
   "cell_type": "code",
   "execution_count": 222,
   "metadata": {},
   "outputs": [
    {
     "data": {
      "image/png": "[encoded data removed]",
      "text/plain": [
       "<Figure size 640x480 with 1 Axes>"
      ]
     },
     "metadata": {},
     "output_type": "display_data"
    }
   ],
   "source": [
    "freqTarget = mainDf.groupby([\"first_party_winner\"], as_index=False, sort=True)[\"facts\"].count()\n",
    "plt.bar(freqTarget[\"first_party_winner\"], freqTarget[\"facts\"])\n",
    "plt.xticks(freqTarget[\"first_party_winner\"])\n",
    "plt.title(\"Analyse the target data\")\n",
    "plt.ylabel('Frequency of each target')\n",
    "plt.show()"
   ]
  },
  {
   "attachments": {},
   "cell_type": "markdown",
   "metadata": {},
   "source": [
    "Also the issue area is important to analyse to see if we can combine some categories. We noticed a very large difference in number between each issue_area category, hence we decided to combine the small categories into \"Others\"."
   ]
  },
  {
   "cell_type": "code",
   "execution_count": 223,
   "metadata": {},
   "outputs": [
    {
     "data": {
      "image/png": "[encoded data removed]",
      "text/plain": [
       "<Figure size 640x480 with 1 Axes>"
      ]
     },
     "metadata": {},
     "output_type": "display_data"
    }
   ],
   "source": [
    "freqTarget = mainDf.groupby([\"new_issue_area\"], as_index=False, sort=True)[\"facts\"].count()\n",
    "\n",
    "plt.bar(freqTarget[\"new_issue_area\"], freqTarget[\"facts\"])\n",
    "plt.xticks(freqTarget[\"new_issue_area\"])\n",
    "plt.title(\"Analyse the issue areas\")\n",
    "plt.xticks(rotation=90)\n",
    "plt.ylabel('Amount')\n",
    "plt.show()"
   ]
  },
  {
   "cell_type": "code",
   "execution_count": null,
   "metadata": {},
   "outputs": [],
   "source": []
  },
  {
   "cell_type": "code",
   "execution_count": 224,
   "metadata": {},
   "outputs": [],
   "source": [
    "documents = []\n",
    "X = mainDf[\"facts\"]\n",
    "pattern = r'[' + string.punctuation + ']'\n",
    "\n",
    "for i in range(0, len(X)):\n",
    "  document = sample_str = re.sub(pattern, \" \", str(X[i]))\n",
    "  document = re.sub(r\"\\W\", \" \", document)\n",
    "  document = re.sub(r\"\\d+\", \" \", document)\n",
    "  document = re.sub(r'\\b\\w{1,1}\\b', \" \", document)\n",
    "  document = re.sub(\" \\d+\", \" \", document)\n",
    "  document = re.sub(r\"\\s+\", \" \", document, flags=re.I)\n",
    "  document = document.lower()\n",
    "  documents.append(document)"
   ]
  },
  {
   "cell_type": "code",
   "execution_count": 225,
   "metadata": {},
   "outputs": [],
   "source": [
    "tokenDocuments = []\n",
    "for i in range(0, len(X)):\n",
    "    tokenDocuments.append(word_tokenize(documents[i]))"
   ]
  },
  {
   "cell_type": "code",
   "execution_count": 226,
   "metadata": {},
   "outputs": [],
   "source": [
    "stop_words = stopwords.words(\"english\")"
   ]
  },
  {
   "cell_type": "code",
   "execution_count": 227,
   "metadata": {},
   "outputs": [],
   "source": [
    "cleanTokenDocuments = []\n",
    "\n",
    "for i in range(0, len(X)):\n",
    "    cleanTokenDocument = []\n",
    "    for word in tokenDocuments[i]:\n",
    "        if word not in stop_words:\n",
    "            cleanTokenDocument.append(word)\n",
    "    cleanTokenDocuments.append(cleanTokenDocument)\n",
    "mainDf[\"facts\"] = cleanTokenDocuments"
   ]
  },
  {
   "cell_type": "code",
   "execution_count": 228,
   "metadata": {},
   "outputs": [],
   "source": [
    "lemma = WordNetLemmatizer()\n",
    "\n",
    "mainDf[\"lemma\"] = mainDf[\"facts\"].apply(lambda x: [lemma.lemmatize(y) for y in x])"
   ]
  },
  {
   "cell_type": "code",
   "execution_count": 229,
   "metadata": {},
   "outputs": [],
   "source": [
    "postagDocuments = []\n",
    "for sen in mainDf[\"lemma\"]:\n",
    "    postagDocuments.append(pos_tag(sen))\n",
    "\n",
    "mainDf[\"lemmaPos\"] = postagDocuments"
   ]
  },
  {
   "cell_type": "code",
   "execution_count": 230,
   "metadata": {},
   "outputs": [
    {
     "name": "stdout",
     "output_type": "stream",
     "text": [
      "Number of words in the corpus: 18561\n"
     ]
    }
   ],
   "source": [
    "words_set = set()\n",
    " \n",
    "for doc in mainDf[\"facts\"]:\n",
    "    for word in doc:\n",
    "        if word not in words_set:\n",
    "            words_set.add(word)\n",
    "     \n",
    "print('Number of words in the corpus:',len(words_set))"
   ]
  },
  {
   "cell_type": "code",
   "execution_count": 231,
   "metadata": {},
   "outputs": [],
   "source": [
    "lemmaWithSomePostagDocuments = []\n",
    "for sen in mainDf[\"lemmaPos\"]:\n",
    "    lemmaWithSomePostagDocument = []\n",
    "    for w in sen:\n",
    "        if w[1] != \"UH\" and w[1] != \"WP\" and w[1] != \"WP$\" and w[1] != \"WRB\" and w[1] != \"PRP\" and w[1] != \"PRP$\" and w[1] != \"MD\" and w[1] != \"WDT\":\n",
    "            lemmaWithSomePostagDocument.append(w[0])\n",
    "    lemmaWithSomePostagDocuments.append(lemmaWithSomePostagDocument)\n",
    "            \n",
    "mainDf[\"lemma\"] = lemmaWithSomePostagDocuments"
   ]
  },
  {
   "cell_type": "code",
   "execution_count": 232,
   "metadata": {},
   "outputs": [
    {
     "name": "stdout",
     "output_type": "stream",
     "text": [
      "Number of words in the corpus: 16648\n"
     ]
    }
   ],
   "source": [
    "words_set = set()\n",
    " \n",
    "for doc in mainDf[\"lemma\"]:\n",
    "    for word in doc:\n",
    "        if word not in words_set:\n",
    "            words_set.add(word)\n",
    "     \n",
    "print('Number of words in the corpus:',len(words_set))"
   ]
  },
  {
   "cell_type": "code",
   "execution_count": 233,
   "metadata": {},
   "outputs": [],
   "source": [
    "words = []\n",
    "freqOfWords = []\n",
    "\n",
    "for doc in mainDf[\"lemma\"]:\n",
    "    for word in doc:\n",
    "        if word not in words:\n",
    "            words.append(word)\n",
    "            freqOfWords.append(1)\n",
    "        else:\n",
    "            idx = words.index(word)\n",
    "            freqOfWords[idx] = freqOfWords[idx] + 1"
   ]
  },
  {
   "cell_type": "code",
   "execution_count": 234,
   "metadata": {},
   "outputs": [],
   "source": [
    "d = {'words': words, 'frequency': freqOfWords}\n",
    "freqWordDf = pd.DataFrame(data=d)\n",
    "freqWordDf = freqWordDf.sort_values(by=['frequency'])"
   ]
  },
  {
   "cell_type": "code",
   "execution_count": 235,
   "metadata": {},
   "outputs": [
    {
     "data": {
      "image/png": "[encoded data removed]",
      "text/plain": [
       "<Figure size 640x480 with 1 Axes>"
      ]
     },
     "metadata": {},
     "output_type": "display_data"
    }
   ],
   "source": [
    "plt.bar(freqWordDf.tail(15)[\"words\"], freqWordDf.tail(15)[\"frequency\"])\n",
    "plt.xticks(freqWordDf.tail(15)[\"words\"])\n",
    "plt.title(\"Most 15 frequent words\")\n",
    "plt.ylabel('Frequency of a word')\n",
    "plt.xticks(rotation = 90) \n",
    "plt.show()"
   ]
  },
  {
   "cell_type": "code",
   "execution_count": 236,
   "metadata": {},
   "outputs": [],
   "source": [
    "words = []\n",
    "targetVar = []\n",
    "onesList = []\n",
    "for row in range(0, len(mainDf[\"lemma\"])):\n",
    "    for word in mainDf[\"lemma\"][row]:\n",
    "        words.append(word)\n",
    "        targetVar.append(mainDf[\"first_party_winner\"][row]) \n",
    "        onesList.append(1)"
   ]
  },
  {
   "cell_type": "code",
   "execution_count": 237,
   "metadata": {},
   "outputs": [],
   "source": [
    "d = {'words': words, 'first_party_winner': targetVar, \"listOfOnes\": onesList}\n",
    "freqDf = pd.DataFrame(data=d)"
   ]
  },
  {
   "cell_type": "code",
   "execution_count": 238,
   "metadata": {},
   "outputs": [],
   "source": [
    "countFreqDf = freqDf.groupby([\"first_party_winner\", \"words\"], as_index=False, sort=True)[\"listOfOnes\"].count()"
   ]
  },
  {
   "cell_type": "code",
   "execution_count": 239,
   "metadata": {},
   "outputs": [
    {
     "data": {
      "text/plain": [
       "first_party_winner    3324\n",
       "words                 3324\n",
       "listOfOnes            3324\n",
       "dtype: int64"
      ]
     },
     "execution_count": 239,
     "metadata": {},
     "output_type": "execute_result"
    }
   ],
   "source": [
    "countFreqDfZeros = countFreqDf[countFreqDf['first_party_winner'].isin([0])].sort_values(by=['listOfOnes'])\n",
    "countFreqDfZeros[countFreqDfZeros[\"listOfOnes\"].isin([1])].count()"
   ]
  },
  {
   "cell_type": "code",
   "execution_count": 240,
   "metadata": {},
   "outputs": [
    {
     "data": {
      "image/png": "[encoded data removed]",
      "text/plain": [
       "<Figure size 640x480 with 1 Axes>"
      ]
     },
     "metadata": {},
     "output_type": "display_data"
    }
   ],
   "source": [
    "plt.bar(countFreqDfZeros.tail(15)[\"words\"], countFreqDfZeros.tail(15)[\"listOfOnes\"])\n",
    "plt.xticks(countFreqDfZeros.tail(15)[\"words\"])\n",
    "plt.title(\"Most 15 frequent words in the lost cases\")\n",
    "plt.ylabel('Frequency of a word')\n",
    "plt.xticks(rotation = 90) \n",
    "plt.show()"
   ]
  },
  {
   "cell_type": "code",
   "execution_count": 241,
   "metadata": {},
   "outputs": [
    {
     "data": {
      "text/plain": [
       "first_party_winner    4302\n",
       "words                 4302\n",
       "listOfOnes            4302\n",
       "dtype: int64"
      ]
     },
     "execution_count": 241,
     "metadata": {},
     "output_type": "execute_result"
    }
   ],
   "source": [
    "countFreqDfOnes = countFreqDf[countFreqDf['first_party_winner'].isin([1])].sort_values(by=['listOfOnes'])\n",
    "countFreqDfOnes[countFreqDfOnes[\"listOfOnes\"].isin([1])].count()"
   ]
  },
  {
   "cell_type": "code",
   "execution_count": 242,
   "metadata": {},
   "outputs": [
    {
     "data": {
      "image/png": "[encoded data removed]",
      "text/plain": [
       "<Figure size 640x480 with 1 Axes>"
      ]
     },
     "metadata": {},
     "output_type": "display_data"
    }
   ],
   "source": [
    "plt.bar(countFreqDfOnes.tail(15)[\"words\"], countFreqDfOnes.tail(15)[\"listOfOnes\"])\n",
    "plt.xticks(countFreqDfOnes.tail(15)[\"words\"])\n",
    "plt.title(\"Most 15 frequent words in the cases won\")\n",
    "plt.ylabel('Frequency of a word')\n",
    "plt.xticks(rotation = 90) \n",
    "plt.show()"
   ]
  },
  {
   "cell_type": "code",
   "execution_count": 243,
   "metadata": {},
   "outputs": [],
   "source": [
    "from gensim.models import Word2Vec"
   ]
  },
  {
   "cell_type": "code",
   "execution_count": 244,
   "metadata": {},
   "outputs": [],
   "source": [
    "model = Word2Vec(sentences=mainDf[\"lemma\"], vector_size=100, window=5, min_count=1, workers=4)\n",
    "model.save(\"word2vec.model\")"
   ]
  },
  {
   "cell_type": "code",
   "execution_count": 245,
   "metadata": {},
   "outputs": [],
   "source": [
    "model = Word2Vec.load(\"word2vec.model\")"
   ]
  },
  {
   "cell_type": "code",
   "execution_count": 246,
   "metadata": {},
   "outputs": [],
   "source": [
    "vecDim = []\n",
    "\n",
    "for i in range(0, len(mainDf)):\n",
    "    wordToNumber = []\n",
    "    for wordToVec in mainDf[\"lemma\"][i]:\n",
    "        wordToNumber.append(model.wv['court'])\n",
    "    vecDim.append(wordToNumber)\n",
    "vecDimDf = pd.DataFrame({\"vec\": vecDim})"
   ]
  },
  {
   "cell_type": "code",
   "execution_count": 247,
   "metadata": {},
   "outputs": [],
   "source": [
    "maxLengthOfVec = 0\n",
    "for i in range(0, len(vecDim)):\n",
    "    if len(vecDim[i]) > maxLengthOfVec:\n",
    "        maxLengthOfVec = len(vecDim[i])"
   ]
  },
  {
   "cell_type": "code",
   "execution_count": 248,
   "metadata": {},
   "outputs": [
    {
     "data": {
      "text/plain": [
       "531"
      ]
     },
     "execution_count": 248,
     "metadata": {},
     "output_type": "execute_result"
    }
   ],
   "source": [
    "maxLengthOfVec"
   ]
  },
  {
   "cell_type": "code",
   "execution_count": 249,
   "metadata": {},
   "outputs": [],
   "source": [
    "mainDf = pd.merge(mainDf, vecDimDf, left_index=True, right_index=True)"
   ]
  },
  {
   "cell_type": "code",
   "execution_count": 256,
   "metadata": {},
   "outputs": [],
   "source": [
    "mainDf[\"label_issue_area\"] = mainDf['new_issue_area'].replace({'Civil Rights': 1, 'Others': 2, \n",
    "                                                                'First Amendment': 3, 'Criminal Procedure': 4,\n",
    "                                                               'Economic Activity': 5, 'Judicial Power': 6})"
   ]
  },
  {
   "cell_type": "code",
   "execution_count": 257,
   "metadata": {},
   "outputs": [
    {
     "data": {
      "text/html": [
       "<div>\n",
       "<style scoped>\n",
       "    .dataframe tbody tr th:only-of-type {\n",
       "        vertical-align: middle;\n",
       "    }\n",
       "\n",
       "    .dataframe tbody tr th {\n",
       "        vertical-align: top;\n",
       "    }\n",
       "\n",
       "    .dataframe thead th {\n",
       "        text-align: right;\n",
       "    }\n",
       "</style>\n",
       "<table border=\"1\" class=\"dataframe\">\n",
       "  <thead>\n",
       "    <tr style=\"text-align: right;\">\n",
       "      <th></th>\n",
       "      <th>facts</th>\n",
       "      <th>first_party_winner</th>\n",
       "      <th>issue_area</th>\n",
       "      <th>new_issue_area</th>\n",
       "      <th>lemma</th>\n",
       "      <th>lemmaPos</th>\n",
       "      <th>vec</th>\n",
       "      <th>vec_mean</th>\n",
       "      <th>label_issue_area</th>\n",
       "    </tr>\n",
       "  </thead>\n",
       "  <tbody>\n",
       "    <tr>\n",
       "      <th>0</th>\n",
       "      <td>[joan, stanley, three, children, peter, stanle...</td>\n",
       "      <td>True</td>\n",
       "      <td>Civil Rights</td>\n",
       "      <td>Civil Rights</td>\n",
       "      <td>[joan, stanley, three, child, peter, stanley, ...</td>\n",
       "      <td>[(joan, NN), (stanley, VBD), (three, CD), (chi...</td>\n",
       "      <td>[[-0.5843567, 2.279764, 0.53048813, 0.05563838...</td>\n",
       "      <td>[2.97191162109375, 1.938203125, 1.421348876953...</td>\n",
       "      <td>1</td>\n",
       "    </tr>\n",
       "    <tr>\n",
       "      <th>1</th>\n",
       "      <td>[john, giglio, convicted, passing, forged, mon...</td>\n",
       "      <td>True</td>\n",
       "      <td>Due Process</td>\n",
       "      <td>Others</td>\n",
       "      <td>[john, giglio, convicted, passing, forged, mon...</td>\n",
       "      <td>[(john, NN), (giglio, NN), (convicted, VBD), (...</td>\n",
       "      <td>[[-0.5843567, 2.279764, 0.53048813, 0.05563838...</td>\n",
       "      <td>[2.97191162109375, 1.938203125, 1.421348876953...</td>\n",
       "      <td>2</td>\n",
       "    </tr>\n",
       "    <tr>\n",
       "      <th>2</th>\n",
       "      <td>[idaho, probate, code, specified, males, must,...</td>\n",
       "      <td>True</td>\n",
       "      <td>Civil Rights</td>\n",
       "      <td>Civil Rights</td>\n",
       "      <td>[idaho, probate, code, specified, male, prefer...</td>\n",
       "      <td>[(idaho, JJ), (probate, NN), (code, NN), (spec...</td>\n",
       "      <td>[[-0.5843567, 2.279764, 0.53048813, 0.05563838...</td>\n",
       "      <td>[2.97191162109375, 1.938203125, 1.421348876953...</td>\n",
       "      <td>1</td>\n",
       "    </tr>\n",
       "    <tr>\n",
       "      <th>3</th>\n",
       "      <td>[miller, conducting, mass, mailing, campaign, ...</td>\n",
       "      <td>True</td>\n",
       "      <td>First Amendment</td>\n",
       "      <td>First Amendment</td>\n",
       "      <td>[miller, conducting, mass, mailing, campaign, ...</td>\n",
       "      <td>[(miller, NN), (conducting, VBG), (mass, NN), ...</td>\n",
       "      <td>[[-0.5843567, 2.279764, 0.53048813, 0.05563838...</td>\n",
       "      <td>[2.97191162109375, 1.938203125, 1.421348876953...</td>\n",
       "      <td>3</td>\n",
       "    </tr>\n",
       "    <tr>\n",
       "      <th>4</th>\n",
       "      <td>[ernest, mandel, belgian, professional, journa...</td>\n",
       "      <td>True</td>\n",
       "      <td>First Amendment</td>\n",
       "      <td>First Amendment</td>\n",
       "      <td>[ernest, mandel, belgian, professional, journa...</td>\n",
       "      <td>[(ernest, JJS), (mandel, NN), (belgian, JJ), (...</td>\n",
       "      <td>[[-0.5843567, 2.279764, 0.53048813, 0.05563838...</td>\n",
       "      <td>[2.97191162109375, 1.938203125, 1.421348876953...</td>\n",
       "      <td>3</td>\n",
       "    </tr>\n",
       "    <tr>\n",
       "      <th>...</th>\n",
       "      <td>...</td>\n",
       "      <td>...</td>\n",
       "      <td>...</td>\n",
       "      <td>...</td>\n",
       "      <td>...</td>\n",
       "      <td>...</td>\n",
       "      <td>...</td>\n",
       "      <td>...</td>\n",
       "      <td>...</td>\n",
       "    </tr>\n",
       "    <tr>\n",
       "      <th>3154</th>\n",
       "      <td>[century, alaska, purchase, federal, governmen...</td>\n",
       "      <td>True</td>\n",
       "      <td>Civil Rights</td>\n",
       "      <td>Civil Rights</td>\n",
       "      <td>[century, alaska, purchase, federal, governmen...</td>\n",
       "      <td>[(century, NN), (alaska, JJ), (purchase, NN), ...</td>\n",
       "      <td>[[-0.5843567, 2.279764, 0.53048813, 0.05563838...</td>\n",
       "      <td>[2.97191162109375, 1.938203125, 1.421348876953...</td>\n",
       "      <td>1</td>\n",
       "    </tr>\n",
       "    <tr>\n",
       "      <th>3155</th>\n",
       "      <td>[refugio, palomar, santiago, mexican, national...</td>\n",
       "      <td>True</td>\n",
       "      <td>Criminal Procedure</td>\n",
       "      <td>Criminal Procedure</td>\n",
       "      <td>[refugio, palomar, santiago, mexican, national...</td>\n",
       "      <td>[(refugio, NN), (palomar, NN), (santiago, JJ),...</td>\n",
       "      <td>[[-0.5843567, 2.279764, 0.53048813, 0.05563838...</td>\n",
       "      <td>[2.97191162109375, 1.938203125, 1.421348876953...</td>\n",
       "      <td>4</td>\n",
       "    </tr>\n",
       "    <tr>\n",
       "      <th>3156</th>\n",
       "      <td>[tarahrick, terry, pleaded, guilty, one, count...</td>\n",
       "      <td>False</td>\n",
       "      <td>Criminal Procedure</td>\n",
       "      <td>Criminal Procedure</td>\n",
       "      <td>[tarahrick, terry, pleaded, guilty, one, count...</td>\n",
       "      <td>[(tarahrick, NN), (terry, NN), (pleaded, VBD),...</td>\n",
       "      <td>[[-0.5843567, 2.279764, 0.53048813, 0.05563838...</td>\n",
       "      <td>[2.97191162109375, 1.938203125, 1.421348876953...</td>\n",
       "      <td>4</td>\n",
       "    </tr>\n",
       "    <tr>\n",
       "      <th>3157</th>\n",
       "      <td>[joshua, james, cooley, parked, pickup, truck,...</td>\n",
       "      <td>True</td>\n",
       "      <td>Civil Rights</td>\n",
       "      <td>Civil Rights</td>\n",
       "      <td>[joshua, james, cooley, parked, pickup, truck,...</td>\n",
       "      <td>[(joshua, NN), (james, NNS), (cooley, VBP), (p...</td>\n",
       "      <td>[[-0.5843567, 2.279764, 0.53048813, 0.05563838...</td>\n",
       "      <td>[2.97191162109375, 1.938203125, 1.421348876953...</td>\n",
       "      <td>1</td>\n",
       "    </tr>\n",
       "    <tr>\n",
       "      <th>3158</th>\n",
       "      <td>[natural, gas, act, nga, permits, private, com...</td>\n",
       "      <td>True</td>\n",
       "      <td>Due Process</td>\n",
       "      <td>Others</td>\n",
       "      <td>[natural, gas, act, nga, permit, private, comp...</td>\n",
       "      <td>[(natural, JJ), (gas, NN), (act, NN), (nga, JJ...</td>\n",
       "      <td>[[-0.5843567, 2.279764, 0.53048813, 0.05563838...</td>\n",
       "      <td>[2.97191162109375, 1.938203125, 1.421348876953...</td>\n",
       "      <td>2</td>\n",
       "    </tr>\n",
       "  </tbody>\n",
       "</table>\n",
       "<p>3159 rows × 9 columns</p>\n",
       "</div>"
      ],
      "text/plain": [
       "                                                  facts first_party_winner  \\\n",
       "0     [joan, stanley, three, children, peter, stanle...               True   \n",
       "1     [john, giglio, convicted, passing, forged, mon...               True   \n",
       "2     [idaho, probate, code, specified, males, must,...               True   \n",
       "3     [miller, conducting, mass, mailing, campaign, ...               True   \n",
       "4     [ernest, mandel, belgian, professional, journa...               True   \n",
       "...                                                 ...                ...   \n",
       "3154  [century, alaska, purchase, federal, governmen...               True   \n",
       "3155  [refugio, palomar, santiago, mexican, national...               True   \n",
       "3156  [tarahrick, terry, pleaded, guilty, one, count...              False   \n",
       "3157  [joshua, james, cooley, parked, pickup, truck,...               True   \n",
       "3158  [natural, gas, act, nga, permits, private, com...               True   \n",
       "\n",
       "              issue_area      new_issue_area  \\\n",
       "0           Civil Rights        Civil Rights   \n",
       "1            Due Process              Others   \n",
       "2           Civil Rights        Civil Rights   \n",
       "3        First Amendment     First Amendment   \n",
       "4        First Amendment     First Amendment   \n",
       "...                  ...                 ...   \n",
       "3154        Civil Rights        Civil Rights   \n",
       "3155  Criminal Procedure  Criminal Procedure   \n",
       "3156  Criminal Procedure  Criminal Procedure   \n",
       "3157        Civil Rights        Civil Rights   \n",
       "3158         Due Process              Others   \n",
       "\n",
       "                                                  lemma  \\\n",
       "0     [joan, stanley, three, child, peter, stanley, ...   \n",
       "1     [john, giglio, convicted, passing, forged, mon...   \n",
       "2     [idaho, probate, code, specified, male, prefer...   \n",
       "3     [miller, conducting, mass, mailing, campaign, ...   \n",
       "4     [ernest, mandel, belgian, professional, journa...   \n",
       "...                                                 ...   \n",
       "3154  [century, alaska, purchase, federal, governmen...   \n",
       "3155  [refugio, palomar, santiago, mexican, national...   \n",
       "3156  [tarahrick, terry, pleaded, guilty, one, count...   \n",
       "3157  [joshua, james, cooley, parked, pickup, truck,...   \n",
       "3158  [natural, gas, act, nga, permit, private, comp...   \n",
       "\n",
       "                                               lemmaPos  \\\n",
       "0     [(joan, NN), (stanley, VBD), (three, CD), (chi...   \n",
       "1     [(john, NN), (giglio, NN), (convicted, VBD), (...   \n",
       "2     [(idaho, JJ), (probate, NN), (code, NN), (spec...   \n",
       "3     [(miller, NN), (conducting, VBG), (mass, NN), ...   \n",
       "4     [(ernest, JJS), (mandel, NN), (belgian, JJ), (...   \n",
       "...                                                 ...   \n",
       "3154  [(century, NN), (alaska, JJ), (purchase, NN), ...   \n",
       "3155  [(refugio, NN), (palomar, NN), (santiago, JJ),...   \n",
       "3156  [(tarahrick, NN), (terry, NN), (pleaded, VBD),...   \n",
       "3157  [(joshua, NN), (james, NNS), (cooley, VBP), (p...   \n",
       "3158  [(natural, JJ), (gas, NN), (act, NN), (nga, JJ...   \n",
       "\n",
       "                                                    vec  \\\n",
       "0     [[-0.5843567, 2.279764, 0.53048813, 0.05563838...   \n",
       "1     [[-0.5843567, 2.279764, 0.53048813, 0.05563838...   \n",
       "2     [[-0.5843567, 2.279764, 0.53048813, 0.05563838...   \n",
       "3     [[-0.5843567, 2.279764, 0.53048813, 0.05563838...   \n",
       "4     [[-0.5843567, 2.279764, 0.53048813, 0.05563838...   \n",
       "...                                                 ...   \n",
       "3154  [[-0.5843567, 2.279764, 0.53048813, 0.05563838...   \n",
       "3155  [[-0.5843567, 2.279764, 0.53048813, 0.05563838...   \n",
       "3156  [[-0.5843567, 2.279764, 0.53048813, 0.05563838...   \n",
       "3157  [[-0.5843567, 2.279764, 0.53048813, 0.05563838...   \n",
       "3158  [[-0.5843567, 2.279764, 0.53048813, 0.05563838...   \n",
       "\n",
       "                                               vec_mean  label_issue_area  \n",
       "0     [2.97191162109375, 1.938203125, 1.421348876953...                 1  \n",
       "1     [2.97191162109375, 1.938203125, 1.421348876953...                 2  \n",
       "2     [2.97191162109375, 1.938203125, 1.421348876953...                 1  \n",
       "3     [2.97191162109375, 1.938203125, 1.421348876953...                 3  \n",
       "4     [2.97191162109375, 1.938203125, 1.421348876953...                 3  \n",
       "...                                                 ...               ...  \n",
       "3154  [2.97191162109375, 1.938203125, 1.421348876953...                 1  \n",
       "3155  [2.97191162109375, 1.938203125, 1.421348876953...                 4  \n",
       "3156  [2.97191162109375, 1.938203125, 1.421348876953...                 4  \n",
       "3157  [2.97191162109375, 1.938203125, 1.421348876953...                 1  \n",
       "3158  [2.97191162109375, 1.938203125, 1.421348876953...                 2  \n",
       "\n",
       "[3159 rows x 9 columns]"
      ]
     },
     "execution_count": 257,
     "metadata": {},
     "output_type": "execute_result"
    }
   ],
   "source": [
    "mainDf"
   ]
  },
  {
   "attachments": {},
   "cell_type": "markdown",
   "metadata": {},
   "source": [
    "------------------------------------------------------\n",
    "------------------------------------------------------"
   ]
  },
  {
   "attachments": {},
   "cell_type": "markdown",
   "metadata": {},
   "source": [
    "DO NOT RUN IT!!"
   ]
  },
  {
   "cell_type": "code",
   "execution_count": 196,
   "metadata": {},
   "outputs": [],
   "source": [
    "padVec = np.zeros(100)"
   ]
  },
  {
   "cell_type": "code",
   "execution_count": 198,
   "metadata": {},
   "outputs": [],
   "source": [
    "for i in range(0, len(mainDf)):\n",
    "    while len(mainDf[\"vec\"][i]) < maxLengthOfVec:\n",
    "        mainDf[\"vec\"][i].append(padVec)"
   ]
  },
  {
   "attachments": {},
   "cell_type": "markdown",
   "metadata": {},
   "source": [
    "------------------------------------------------\n",
    "------------------------------------------------"
   ]
  },
  {
   "cell_type": "code",
   "execution_count": 251,
   "metadata": {},
   "outputs": [
    {
     "data": {
      "text/html": [
       "<div>\n",
       "<style scoped>\n",
       "    .dataframe tbody tr th:only-of-type {\n",
       "        vertical-align: middle;\n",
       "    }\n",
       "\n",
       "    .dataframe tbody tr th {\n",
       "        vertical-align: top;\n",
       "    }\n",
       "\n",
       "    .dataframe thead th {\n",
       "        text-align: right;\n",
       "    }\n",
       "</style>\n",
       "<table border=\"1\" class=\"dataframe\">\n",
       "  <thead>\n",
       "    <tr style=\"text-align: right;\">\n",
       "      <th></th>\n",
       "      <th>facts</th>\n",
       "      <th>first_party_winner</th>\n",
       "      <th>issue_area</th>\n",
       "      <th>new_issue_area</th>\n",
       "      <th>lemma</th>\n",
       "      <th>lemmaPos</th>\n",
       "      <th>vec</th>\n",
       "    </tr>\n",
       "  </thead>\n",
       "  <tbody>\n",
       "    <tr>\n",
       "      <th>0</th>\n",
       "      <td>[joan, stanley, three, children, peter, stanle...</td>\n",
       "      <td>True</td>\n",
       "      <td>Civil Rights</td>\n",
       "      <td>Civil Rights</td>\n",
       "      <td>[joan, stanley, three, child, peter, stanley, ...</td>\n",
       "      <td>[(joan, NN), (stanley, VBD), (three, CD), (chi...</td>\n",
       "      <td>[[-0.5843567, 2.279764, 0.53048813, 0.05563838...</td>\n",
       "    </tr>\n",
       "    <tr>\n",
       "      <th>1</th>\n",
       "      <td>[john, giglio, convicted, passing, forged, mon...</td>\n",
       "      <td>True</td>\n",
       "      <td>Due Process</td>\n",
       "      <td>Others</td>\n",
       "      <td>[john, giglio, convicted, passing, forged, mon...</td>\n",
       "      <td>[(john, NN), (giglio, NN), (convicted, VBD), (...</td>\n",
       "      <td>[[-0.5843567, 2.279764, 0.53048813, 0.05563838...</td>\n",
       "    </tr>\n",
       "    <tr>\n",
       "      <th>2</th>\n",
       "      <td>[idaho, probate, code, specified, males, must,...</td>\n",
       "      <td>True</td>\n",
       "      <td>Civil Rights</td>\n",
       "      <td>Civil Rights</td>\n",
       "      <td>[idaho, probate, code, specified, male, prefer...</td>\n",
       "      <td>[(idaho, JJ), (probate, NN), (code, NN), (spec...</td>\n",
       "      <td>[[-0.5843567, 2.279764, 0.53048813, 0.05563838...</td>\n",
       "    </tr>\n",
       "    <tr>\n",
       "      <th>3</th>\n",
       "      <td>[miller, conducting, mass, mailing, campaign, ...</td>\n",
       "      <td>True</td>\n",
       "      <td>First Amendment</td>\n",
       "      <td>First Amendment</td>\n",
       "      <td>[miller, conducting, mass, mailing, campaign, ...</td>\n",
       "      <td>[(miller, NN), (conducting, VBG), (mass, NN), ...</td>\n",
       "      <td>[[-0.5843567, 2.279764, 0.53048813, 0.05563838...</td>\n",
       "    </tr>\n",
       "    <tr>\n",
       "      <th>4</th>\n",
       "      <td>[ernest, mandel, belgian, professional, journa...</td>\n",
       "      <td>True</td>\n",
       "      <td>First Amendment</td>\n",
       "      <td>First Amendment</td>\n",
       "      <td>[ernest, mandel, belgian, professional, journa...</td>\n",
       "      <td>[(ernest, JJS), (mandel, NN), (belgian, JJ), (...</td>\n",
       "      <td>[[-0.5843567, 2.279764, 0.53048813, 0.05563838...</td>\n",
       "    </tr>\n",
       "    <tr>\n",
       "      <th>...</th>\n",
       "      <td>...</td>\n",
       "      <td>...</td>\n",
       "      <td>...</td>\n",
       "      <td>...</td>\n",
       "      <td>...</td>\n",
       "      <td>...</td>\n",
       "      <td>...</td>\n",
       "    </tr>\n",
       "    <tr>\n",
       "      <th>3154</th>\n",
       "      <td>[century, alaska, purchase, federal, governmen...</td>\n",
       "      <td>True</td>\n",
       "      <td>Civil Rights</td>\n",
       "      <td>Civil Rights</td>\n",
       "      <td>[century, alaska, purchase, federal, governmen...</td>\n",
       "      <td>[(century, NN), (alaska, JJ), (purchase, NN), ...</td>\n",
       "      <td>[[-0.5843567, 2.279764, 0.53048813, 0.05563838...</td>\n",
       "    </tr>\n",
       "    <tr>\n",
       "      <th>3155</th>\n",
       "      <td>[refugio, palomar, santiago, mexican, national...</td>\n",
       "      <td>True</td>\n",
       "      <td>Criminal Procedure</td>\n",
       "      <td>Criminal Procedure</td>\n",
       "      <td>[refugio, palomar, santiago, mexican, national...</td>\n",
       "      <td>[(refugio, NN), (palomar, NN), (santiago, JJ),...</td>\n",
       "      <td>[[-0.5843567, 2.279764, 0.53048813, 0.05563838...</td>\n",
       "    </tr>\n",
       "    <tr>\n",
       "      <th>3156</th>\n",
       "      <td>[tarahrick, terry, pleaded, guilty, one, count...</td>\n",
       "      <td>False</td>\n",
       "      <td>Criminal Procedure</td>\n",
       "      <td>Criminal Procedure</td>\n",
       "      <td>[tarahrick, terry, pleaded, guilty, one, count...</td>\n",
       "      <td>[(tarahrick, NN), (terry, NN), (pleaded, VBD),...</td>\n",
       "      <td>[[-0.5843567, 2.279764, 0.53048813, 0.05563838...</td>\n",
       "    </tr>\n",
       "    <tr>\n",
       "      <th>3157</th>\n",
       "      <td>[joshua, james, cooley, parked, pickup, truck,...</td>\n",
       "      <td>True</td>\n",
       "      <td>Civil Rights</td>\n",
       "      <td>Civil Rights</td>\n",
       "      <td>[joshua, james, cooley, parked, pickup, truck,...</td>\n",
       "      <td>[(joshua, NN), (james, NNS), (cooley, VBP), (p...</td>\n",
       "      <td>[[-0.5843567, 2.279764, 0.53048813, 0.05563838...</td>\n",
       "    </tr>\n",
       "    <tr>\n",
       "      <th>3158</th>\n",
       "      <td>[natural, gas, act, nga, permits, private, com...</td>\n",
       "      <td>True</td>\n",
       "      <td>Due Process</td>\n",
       "      <td>Others</td>\n",
       "      <td>[natural, gas, act, nga, permit, private, comp...</td>\n",
       "      <td>[(natural, JJ), (gas, NN), (act, NN), (nga, JJ...</td>\n",
       "      <td>[[-0.5843567, 2.279764, 0.53048813, 0.05563838...</td>\n",
       "    </tr>\n",
       "  </tbody>\n",
       "</table>\n",
       "<p>3159 rows × 7 columns</p>\n",
       "</div>"
      ],
      "text/plain": [
       "                                                  facts first_party_winner  \\\n",
       "0     [joan, stanley, three, children, peter, stanle...               True   \n",
       "1     [john, giglio, convicted, passing, forged, mon...               True   \n",
       "2     [idaho, probate, code, specified, males, must,...               True   \n",
       "3     [miller, conducting, mass, mailing, campaign, ...               True   \n",
       "4     [ernest, mandel, belgian, professional, journa...               True   \n",
       "...                                                 ...                ...   \n",
       "3154  [century, alaska, purchase, federal, governmen...               True   \n",
       "3155  [refugio, palomar, santiago, mexican, national...               True   \n",
       "3156  [tarahrick, terry, pleaded, guilty, one, count...              False   \n",
       "3157  [joshua, james, cooley, parked, pickup, truck,...               True   \n",
       "3158  [natural, gas, act, nga, permits, private, com...               True   \n",
       "\n",
       "              issue_area      new_issue_area  \\\n",
       "0           Civil Rights        Civil Rights   \n",
       "1            Due Process              Others   \n",
       "2           Civil Rights        Civil Rights   \n",
       "3        First Amendment     First Amendment   \n",
       "4        First Amendment     First Amendment   \n",
       "...                  ...                 ...   \n",
       "3154        Civil Rights        Civil Rights   \n",
       "3155  Criminal Procedure  Criminal Procedure   \n",
       "3156  Criminal Procedure  Criminal Procedure   \n",
       "3157        Civil Rights        Civil Rights   \n",
       "3158         Due Process              Others   \n",
       "\n",
       "                                                  lemma  \\\n",
       "0     [joan, stanley, three, child, peter, stanley, ...   \n",
       "1     [john, giglio, convicted, passing, forged, mon...   \n",
       "2     [idaho, probate, code, specified, male, prefer...   \n",
       "3     [miller, conducting, mass, mailing, campaign, ...   \n",
       "4     [ernest, mandel, belgian, professional, journa...   \n",
       "...                                                 ...   \n",
       "3154  [century, alaska, purchase, federal, governmen...   \n",
       "3155  [refugio, palomar, santiago, mexican, national...   \n",
       "3156  [tarahrick, terry, pleaded, guilty, one, count...   \n",
       "3157  [joshua, james, cooley, parked, pickup, truck,...   \n",
       "3158  [natural, gas, act, nga, permit, private, comp...   \n",
       "\n",
       "                                               lemmaPos  \\\n",
       "0     [(joan, NN), (stanley, VBD), (three, CD), (chi...   \n",
       "1     [(john, NN), (giglio, NN), (convicted, VBD), (...   \n",
       "2     [(idaho, JJ), (probate, NN), (code, NN), (spec...   \n",
       "3     [(miller, NN), (conducting, VBG), (mass, NN), ...   \n",
       "4     [(ernest, JJS), (mandel, NN), (belgian, JJ), (...   \n",
       "...                                                 ...   \n",
       "3154  [(century, NN), (alaska, JJ), (purchase, NN), ...   \n",
       "3155  [(refugio, NN), (palomar, NN), (santiago, JJ),...   \n",
       "3156  [(tarahrick, NN), (terry, NN), (pleaded, VBD),...   \n",
       "3157  [(joshua, NN), (james, NNS), (cooley, VBP), (p...   \n",
       "3158  [(natural, JJ), (gas, NN), (act, NN), (nga, JJ...   \n",
       "\n",
       "                                                    vec  \n",
       "0     [[-0.5843567, 2.279764, 0.53048813, 0.05563838...  \n",
       "1     [[-0.5843567, 2.279764, 0.53048813, 0.05563838...  \n",
       "2     [[-0.5843567, 2.279764, 0.53048813, 0.05563838...  \n",
       "3     [[-0.5843567, 2.279764, 0.53048813, 0.05563838...  \n",
       "4     [[-0.5843567, 2.279764, 0.53048813, 0.05563838...  \n",
       "...                                                 ...  \n",
       "3154  [[-0.5843567, 2.279764, 0.53048813, 0.05563838...  \n",
       "3155  [[-0.5843567, 2.279764, 0.53048813, 0.05563838...  \n",
       "3156  [[-0.5843567, 2.279764, 0.53048813, 0.05563838...  \n",
       "3157  [[-0.5843567, 2.279764, 0.53048813, 0.05563838...  \n",
       "3158  [[-0.5843567, 2.279764, 0.53048813, 0.05563838...  \n",
       "\n",
       "[3159 rows x 7 columns]"
      ]
     },
     "execution_count": 251,
     "metadata": {},
     "output_type": "execute_result"
    }
   ],
   "source": [
    "mainDf"
   ]
  },
  {
   "cell_type": "code",
   "execution_count": 252,
   "metadata": {},
   "outputs": [],
   "source": [
    "vec_mean_vec = []\n",
    "for i in range(0, len(mainDf)):\n",
    "    vec_mean = []\n",
    "    for j in range(0, len(mainDf[\"vec\"])):\n",
    "        feature_vec = np.sum(mainDf[\"vec\"][j])\n",
    "        vec_mean.append(feature_vec/100)\n",
    "    vec_mean_vec.append(vec_mean)\n",
    "vecDimDf = pd.DataFrame({\"vec_mean\": vec_mean_vec})"
   ]
  },
  {
   "cell_type": "code",
   "execution_count": 253,
   "metadata": {},
   "outputs": [],
   "source": [
    "mainDf = pd.merge(mainDf, vecDimDf, left_index=True, right_index=True)"
   ]
  },
  {
   "cell_type": "code",
   "execution_count": 258,
   "metadata": {},
   "outputs": [],
   "source": [
    "X = mainDf[\"vec_mean\"]\n",
    "y = mainDf[\"label_issue_area\"]"
   ]
  },
  {
   "cell_type": "code",
   "execution_count": 259,
   "metadata": {},
   "outputs": [],
   "source": [
    "X_array = np.array(X)\n",
    "y_array = np.array(y)"
   ]
  },
  {
   "cell_type": "code",
   "execution_count": 260,
   "metadata": {},
   "outputs": [],
   "source": [
    "from sklearn.model_selection import train_test_split\n",
    "X_train, X_test, y_train, y_test = train_test_split(X, y, test_size = 0.20, random_state = 42)"
   ]
  },
  {
   "cell_type": "code",
   "execution_count": 266,
   "metadata": {},
   "outputs": [],
   "source": [
    "X_train = np.vstack(X_train)"
   ]
  },
  {
   "cell_type": "code",
   "execution_count": 267,
   "metadata": {},
   "outputs": [
    {
     "data": {
      "text/plain": [
       "((2527, 3159), (2527,))"
      ]
     },
     "execution_count": 267,
     "metadata": {},
     "output_type": "execute_result"
    }
   ],
   "source": [
    "X_train.shape, y_train.shape"
   ]
  },
  {
   "cell_type": "code",
   "execution_count": null,
   "metadata": {},
   "outputs": [],
   "source": [
    "y_train[]"
   ]
  },
  {
   "cell_type": "code",
   "execution_count": 268,
   "metadata": {},
   "outputs": [],
   "source": [
    "from sklearn.ensemble import RandomForestClassifier\n",
    "rf = RandomForestClassifier(n_estimators = 1000, random_state = 42)\n",
    "rf.fit(X_train, y_train);"
   ]
  },
  {
   "cell_type": "code",
   "execution_count": 269,
   "metadata": {},
   "outputs": [],
   "source": [
    "result = rf.predict(X_train)"
   ]
  },
  {
   "cell_type": "code",
   "execution_count": 273,
   "metadata": {},
   "outputs": [
    {
     "data": {
      "text/plain": [
       "((2527,), (632,))"
      ]
     },
     "execution_count": 273,
     "metadata": {},
     "output_type": "execute_result"
    }
   ],
   "source": [
    "result.shape, y_test.shape"
   ]
  },
  {
   "cell_type": "code",
   "execution_count": 274,
   "metadata": {},
   "outputs": [
    {
     "name": "stdout",
     "output_type": "stream",
     "text": [
      "              precision    recall  f1-score   support\n",
      "\n",
      "           1       0.00      0.00      0.00       460\n",
      "           2       0.00      0.00      0.00       396\n",
      "           3       0.00      0.00      0.00       282\n",
      "           4       0.27      1.00      0.43       686\n",
      "           5       0.00      0.00      0.00       443\n",
      "           6       0.00      0.00      0.00       260\n",
      "\n",
      "    accuracy                           0.27      2527\n",
      "   macro avg       0.05      0.17      0.07      2527\n",
      "weighted avg       0.07      0.27      0.12      2527\n",
      "\n"
     ]
    },
    {
     "name": "stderr",
     "output_type": "stream",
     "text": [
      "/Users/carolina/Documents/Semester_9/Natural_Language_Processing/SupremeCourtJudgementPrediction/my_envnlp/lib/python3.8/site-packages/sklearn/metrics/_classification.py:1344: UndefinedMetricWarning: Precision and F-score are ill-defined and being set to 0.0 in labels with no predicted samples. Use `zero_division` parameter to control this behavior.\n",
      "  _warn_prf(average, modifier, msg_start, len(result))\n",
      "/Users/carolina/Documents/Semester_9/Natural_Language_Processing/SupremeCourtJudgementPrediction/my_envnlp/lib/python3.8/site-packages/sklearn/metrics/_classification.py:1344: UndefinedMetricWarning: Precision and F-score are ill-defined and being set to 0.0 in labels with no predicted samples. Use `zero_division` parameter to control this behavior.\n",
      "  _warn_prf(average, modifier, msg_start, len(result))\n",
      "/Users/carolina/Documents/Semester_9/Natural_Language_Processing/SupremeCourtJudgementPrediction/my_envnlp/lib/python3.8/site-packages/sklearn/metrics/_classification.py:1344: UndefinedMetricWarning: Precision and F-score are ill-defined and being set to 0.0 in labels with no predicted samples. Use `zero_division` parameter to control this behavior.\n",
      "  _warn_prf(average, modifier, msg_start, len(result))\n"
     ]
    }
   ],
   "source": [
    "print(classification_report(y_train, result))"
   ]
  }
 ],
 "metadata": {
  "kernelspec": {
   "display_name": "my_envnlp",
   "language": "python",
   "name": "python3"
  },
  "language_info": {
   "codemirror_mode": {
    "name": "ipython",
    "version": 3
   },
   "file_extension": ".py",
   "mimetype": "text/x-python",
   "name": "python",
   "nbconvert_exporter": "python",
   "pygments_lexer": "ipython3",
   "version": "3.8.12"
  },
  "orig_nbformat": 4,
  "vscode": {
   "interpreter": {
    "hash": "11d97930e51d58d05871591002b1237772f6e93630f191e70d84d145b9b3cd95"
   }
  }
 },
 "nbformat": 4,
 "nbformat_minor": 2
}
