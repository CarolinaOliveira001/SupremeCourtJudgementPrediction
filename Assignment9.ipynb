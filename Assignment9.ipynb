{
  "nbformat": 4,
  "nbformat_minor": 0,
  "metadata": {
    "colab": {
      "provenance": [],
      "authorship_tag": "ABX9TyNcc0j5gV2Ipumjf+Q8dMFk",
      "include_colab_link": true
    },
    "kernelspec": {
      "name": "python3",
      "display_name": "Python 3"
    },
    "language_info": {
      "name": "python"
    }
  },
  "cells": [
    {
      "cell_type": "markdown",
      "metadata": {
        "id": "view-in-github",
        "colab_type": "text"
      },
      "source": [
        "<a href=\"https://colab.research.google.com/github/CarolinaOliveira001/SupremeCourtJudgementPrediction/blob/main/Assignment9.ipynb\" target=\"_parent\"><img src=\"https://colab.research.google.com/assets/colab-badge.svg\" alt=\"Open In Colab\"/></a>"
      ]
    },
    {
      "cell_type": "code",
      "execution_count": 1,
      "metadata": {
        "colab": {
          "base_uri": "https://localhost:8080/",
          "height": 74
        },
        "id": "nw4CQqcO4Jqo",
        "outputId": "66451b3a-e4d1-410e-eb7c-74a55821cc6b"
      },
      "outputs": [
        {
          "output_type": "display_data",
          "data": {
            "text/plain": [
              "<IPython.core.display.HTML object>"
            ],
            "text/html": [
              "\n",
              "     <input type=\"file\" id=\"files-e55c742b-2e00-40d3-a9a6-174038490bef\" name=\"files[]\" multiple disabled\n",
              "        style=\"border:none\" />\n",
              "     <output id=\"result-e55c742b-2e00-40d3-a9a6-174038490bef\">\n",
              "      Upload widget is only available when the cell has been executed in the\n",
              "      current browser session. Please rerun this cell to enable.\n",
              "      </output>\n",
              "      <script>// Copyright 2017 Google LLC\n",
              "//\n",
              "// Licensed under the Apache License, Version 2.0 (the \"License\");\n",
              "// you may not use this file except in compliance with the License.\n",
              "// You may obtain a copy of the License at\n",
              "//\n",
              "//      http://www.apache.org/licenses/LICENSE-2.0\n",
              "//\n",
              "// Unless required by applicable law or agreed to in writing, software\n",
              "// distributed under the License is distributed on an \"AS IS\" BASIS,\n",
              "// WITHOUT WARRANTIES OR CONDITIONS OF ANY KIND, either express or implied.\n",
              "// See the License for the specific language governing permissions and\n",
              "// limitations under the License.\n",
              "\n",
              "/**\n",
              " * @fileoverview Helpers for google.colab Python module.\n",
              " */\n",
              "(function(scope) {\n",
              "function span(text, styleAttributes = {}) {\n",
              "  const element = document.createElement('span');\n",
              "  element.textContent = text;\n",
              "  for (const key of Object.keys(styleAttributes)) {\n",
              "    element.style[key] = styleAttributes[key];\n",
              "  }\n",
              "  return element;\n",
              "}\n",
              "\n",
              "// Max number of bytes which will be uploaded at a time.\n",
              "const MAX_PAYLOAD_SIZE = 100 * 1024;\n",
              "\n",
              "function _uploadFiles(inputId, outputId) {\n",
              "  const steps = uploadFilesStep(inputId, outputId);\n",
              "  const outputElement = document.getElementById(outputId);\n",
              "  // Cache steps on the outputElement to make it available for the next call\n",
              "  // to uploadFilesContinue from Python.\n",
              "  outputElement.steps = steps;\n",
              "\n",
              "  return _uploadFilesContinue(outputId);\n",
              "}\n",
              "\n",
              "// This is roughly an async generator (not supported in the browser yet),\n",
              "// where there are multiple asynchronous steps and the Python side is going\n",
              "// to poll for completion of each step.\n",
              "// This uses a Promise to block the python side on completion of each step,\n",
              "// then passes the result of the previous step as the input to the next step.\n",
              "function _uploadFilesContinue(outputId) {\n",
              "  const outputElement = document.getElementById(outputId);\n",
              "  const steps = outputElement.steps;\n",
              "\n",
              "  const next = steps.next(outputElement.lastPromiseValue);\n",
              "  return Promise.resolve(next.value.promise).then((value) => {\n",
              "    // Cache the last promise value to make it available to the next\n",
              "    // step of the generator.\n",
              "    outputElement.lastPromiseValue = value;\n",
              "    return next.value.response;\n",
              "  });\n",
              "}\n",
              "\n",
              "/**\n",
              " * Generator function which is called between each async step of the upload\n",
              " * process.\n",
              " * @param {string} inputId Element ID of the input file picker element.\n",
              " * @param {string} outputId Element ID of the output display.\n",
              " * @return {!Iterable<!Object>} Iterable of next steps.\n",
              " */\n",
              "function* uploadFilesStep(inputId, outputId) {\n",
              "  const inputElement = document.getElementById(inputId);\n",
              "  inputElement.disabled = false;\n",
              "\n",
              "  const outputElement = document.getElementById(outputId);\n",
              "  outputElement.innerHTML = '';\n",
              "\n",
              "  const pickedPromise = new Promise((resolve) => {\n",
              "    inputElement.addEventListener('change', (e) => {\n",
              "      resolve(e.target.files);\n",
              "    });\n",
              "  });\n",
              "\n",
              "  const cancel = document.createElement('button');\n",
              "  inputElement.parentElement.appendChild(cancel);\n",
              "  cancel.textContent = 'Cancel upload';\n",
              "  const cancelPromise = new Promise((resolve) => {\n",
              "    cancel.onclick = () => {\n",
              "      resolve(null);\n",
              "    };\n",
              "  });\n",
              "\n",
              "  // Wait for the user to pick the files.\n",
              "  const files = yield {\n",
              "    promise: Promise.race([pickedPromise, cancelPromise]),\n",
              "    response: {\n",
              "      action: 'starting',\n",
              "    }\n",
              "  };\n",
              "\n",
              "  cancel.remove();\n",
              "\n",
              "  // Disable the input element since further picks are not allowed.\n",
              "  inputElement.disabled = true;\n",
              "\n",
              "  if (!files) {\n",
              "    return {\n",
              "      response: {\n",
              "        action: 'complete',\n",
              "      }\n",
              "    };\n",
              "  }\n",
              "\n",
              "  for (const file of files) {\n",
              "    const li = document.createElement('li');\n",
              "    li.append(span(file.name, {fontWeight: 'bold'}));\n",
              "    li.append(span(\n",
              "        `(${file.type || 'n/a'}) - ${file.size} bytes, ` +\n",
              "        `last modified: ${\n",
              "            file.lastModifiedDate ? file.lastModifiedDate.toLocaleDateString() :\n",
              "                                    'n/a'} - `));\n",
              "    const percent = span('0% done');\n",
              "    li.appendChild(percent);\n",
              "\n",
              "    outputElement.appendChild(li);\n",
              "\n",
              "    const fileDataPromise = new Promise((resolve) => {\n",
              "      const reader = new FileReader();\n",
              "      reader.onload = (e) => {\n",
              "        resolve(e.target.result);\n",
              "      };\n",
              "      reader.readAsArrayBuffer(file);\n",
              "    });\n",
              "    // Wait for the data to be ready.\n",
              "    let fileData = yield {\n",
              "      promise: fileDataPromise,\n",
              "      response: {\n",
              "        action: 'continue',\n",
              "      }\n",
              "    };\n",
              "\n",
              "    // Use a chunked sending to avoid message size limits. See b/62115660.\n",
              "    let position = 0;\n",
              "    do {\n",
              "      const length = Math.min(fileData.byteLength - position, MAX_PAYLOAD_SIZE);\n",
              "      const chunk = new Uint8Array(fileData, position, length);\n",
              "      position += length;\n",
              "\n",
              "      const base64 = btoa(String.fromCharCode.apply(null, chunk));\n",
              "      yield {\n",
              "        response: {\n",
              "          action: 'append',\n",
              "          file: file.name,\n",
              "          data: base64,\n",
              "        },\n",
              "      };\n",
              "\n",
              "      let percentDone = fileData.byteLength === 0 ?\n",
              "          100 :\n",
              "          Math.round((position / fileData.byteLength) * 100);\n",
              "      percent.textContent = `${percentDone}% done`;\n",
              "\n",
              "    } while (position < fileData.byteLength);\n",
              "  }\n",
              "\n",
              "  // All done.\n",
              "  yield {\n",
              "    response: {\n",
              "      action: 'complete',\n",
              "    }\n",
              "  };\n",
              "}\n",
              "\n",
              "scope.google = scope.google || {};\n",
              "scope.google.colab = scope.google.colab || {};\n",
              "scope.google.colab._files = {\n",
              "  _uploadFiles,\n",
              "  _uploadFilesContinue,\n",
              "};\n",
              "})(self);\n",
              "</script> "
            ]
          },
          "metadata": {}
        },
        {
          "output_type": "stream",
          "name": "stdout",
          "text": [
            "Saving 414.edges to 414.edges\n"
          ]
        }
      ],
      "source": [
        "from google.colab import files\n",
        "uploaded = files.upload()"
      ]
    },
    {
      "cell_type": "code",
      "source": [
        "import networkx as nx\n",
        "from random import sample\n",
        "import numpy as np\n",
        "from sklearn.metrics import roc_curve, roc_auc_score, precision_score, accuracy_score\n",
        "import matplotlib.pyplot as plt"
      ],
      "metadata": {
        "id": "Mf-XTXiL4fky"
      },
      "execution_count": 97,
      "outputs": []
    },
    {
      "cell_type": "code",
      "source": [
        "filenameFacebook = \"414.edges\"\n",
        "\n",
        "graphFacebook = nx.Graph()\n",
        "trueGraphFacebook = nx.Graph()\n",
        "\n",
        "with open(filenameFacebook) as f:\n",
        "    for line in f:\n",
        "        x = line.split()\n",
        "        a = int(x[0])\n",
        "        b = int(x[1])\n",
        "        \n",
        "        if a not in list(graphFacebook.nodes):\n",
        "            graphFacebook.add_node(a)\n",
        "            trueGraphFacebook.add_node(a)\n",
        "        if b not in list(graphFacebook.nodes):\n",
        "            graphFacebook.add_node(b)\n",
        "            trueGraphFacebook.add_node(b)\n",
        "\n",
        "        graphFacebook.add_edge(a, b)\n",
        "        trueGraphFacebook.add_edge(a, b)"
      ],
      "metadata": {
        "id": "E8Vy4Yj24vod"
      },
      "execution_count": 3,
      "outputs": []
    },
    {
      "cell_type": "code",
      "source": [
        "random_edges = set(sample(list(graphFacebook.edges()), int(round(graphFacebook.number_of_edges()*10/100, 0))))"
      ],
      "metadata": {
        "id": "IJ_DM4fD5dWk"
      },
      "execution_count": 4,
      "outputs": []
    },
    {
      "cell_type": "code",
      "source": [
        "for edge in random_edges:\n",
        "  graphFacebook.remove_edge(edge[0], edge[1])"
      ],
      "metadata": {
        "id": "WB9S6FjP9E7r"
      },
      "execution_count": 5,
      "outputs": []
    },
    {
      "cell_type": "code",
      "source": [
        "graphFacebookWithoutRemovedEdges = list(graphFacebook.edges())"
      ],
      "metadata": {
        "id": "d6NOSVjRAHrZ"
      },
      "execution_count": 6,
      "outputs": []
    },
    {
      "cell_type": "markdown",
      "source": [
        "#Model"
      ],
      "metadata": {
        "id": "tbhMSTE9FEOJ"
      }
    },
    {
      "cell_type": "code",
      "source": [
        "predictedModel = nx.adamic_adar_index(graphFacebook)"
      ],
      "metadata": {
        "id": "_oD7I9A69E2p"
      },
      "execution_count": 62,
      "outputs": []
    },
    {
      "cell_type": "code",
      "source": [
        "listOfPredictedEdges = []\n",
        "\n",
        "for u, v, p in predictedModel:\n",
        "    listOfPredictedEdges.append((u, v, p))"
      ],
      "metadata": {
        "id": "LKKS4RfT9Et2"
      },
      "execution_count": 63,
      "outputs": []
    },
    {
      "cell_type": "code",
      "source": [
        "listOfPredictedEdges = sorted(listOfPredictedEdges, key=lambda tup: tup[2], reverse=True)"
      ],
      "metadata": {
        "id": "CRccsYi7V68b"
      },
      "execution_count": 64,
      "outputs": []
    },
    {
      "cell_type": "code",
      "source": [
        "highestAdamicAdarModel = listOfPredictedEdges[0][2]"
      ],
      "metadata": {
        "id": "uhsGE5OKOLAs"
      },
      "execution_count": 65,
      "outputs": []
    },
    {
      "cell_type": "code",
      "source": [
        "#listOfPredictedEdges = listOfPredictedEdges[:len(random_edges)]"
      ],
      "metadata": {
        "id": "8IvtrOppUgJJ"
      },
      "execution_count": 57,
      "outputs": []
    },
    {
      "cell_type": "code",
      "source": [
        "listOfProbabilityEdges = []\n",
        "\n",
        "for (a, b, p) in listOfPredictedEdges:\n",
        "  listOfProbabilityEdges.append([(a, b), p/highestAdamicAdarModel])"
      ],
      "metadata": {
        "id": "ZZy4V8cL-vq5"
      },
      "execution_count": 67,
      "outputs": []
    },
    {
      "cell_type": "code",
      "source": [
        "#for edge in listOfPredictedEdges:\n",
        "#  graphFacebook.add_edge(edge[0], edge[1])"
      ],
      "metadata": {
        "id": "XA-2AHCKh2hf"
      },
      "execution_count": 61,
      "outputs": []
    },
    {
      "cell_type": "code",
      "source": [
        "#listOfPredictedEdges = [(a, b) for (a, b, p) in listOfPredictedEdges if p > 0.5]"
      ],
      "metadata": {
        "id": "4WrzF8K3s7zB"
      },
      "execution_count": 50,
      "outputs": []
    },
    {
      "cell_type": "code",
      "source": [
        "#truePositive = 0\n",
        "#falsePositive = 0\n",
        "\n",
        "#for edge in listOfPredictedEdges:\n",
        "#  if trueGraphFacebook.has_edge(edge[0], edge[1]):\n",
        "#    truePositive = truePositive + 1\n",
        "#  else:\n",
        "#    falsePositive = falsePositive + 1"
      ],
      "metadata": {
        "id": "IiQFaEdmvr0s"
      },
      "execution_count": 207,
      "outputs": []
    },
    {
      "cell_type": "code",
      "source": [
        "#complementOfTrueGraphFacebook = nx.complement(trueGraphFacebook)\n",
        "#complementOfGraphFacebook = nx.complement(graphFacebook)"
      ],
      "metadata": {
        "id": "PfCbsEnxx7_x"
      },
      "execution_count": 252,
      "outputs": []
    },
    {
      "cell_type": "code",
      "source": [
        "#falseNegative = 0\n",
        "#trueNegative = 0\n",
        "#\n",
        "#for edge in list(complementOfGraphFacebook.edges()):\n",
        "#  if complementOfTrueGraphFacebook.has_edge(edge[0], edge[1]):\n",
        "#    trueNegative = trueNegative + 1\n",
        "#  else:\n",
        "#    falseNegative = falseNegative + 1"
      ],
      "metadata": {
        "id": "Hpfkhrwbs7ln"
      },
      "execution_count": 209,
      "outputs": []
    },
    {
      "cell_type": "markdown",
      "source": [
        "Accuracy"
      ],
      "metadata": {
        "id": "JaRuTwRTtbW2"
      }
    },
    {
      "cell_type": "code",
      "source": [
        "#accuracy = (truePositive + trueNegative) / (truePositive + falsePositive + trueNegative + falseNegative)"
      ],
      "metadata": {
        "id": "4ntyWghvtgjm"
      },
      "execution_count": 210,
      "outputs": []
    },
    {
      "cell_type": "code",
      "source": [
        "#accuracy"
      ],
      "metadata": {
        "id": "4A_srgYltghI"
      },
      "execution_count": null,
      "outputs": []
    },
    {
      "cell_type": "markdown",
      "source": [
        "Precision"
      ],
      "metadata": {
        "id": "WsEpWpw4uZLp"
      }
    },
    {
      "cell_type": "code",
      "source": [
        "#precision = truePositive / (truePositive + falsePositive)"
      ],
      "metadata": {
        "id": "zvLnJL-Gtga3"
      },
      "execution_count": 212,
      "outputs": []
    },
    {
      "cell_type": "code",
      "source": [
        "#precision"
      ],
      "metadata": {
        "id": "3kd0Mw1ptgX-"
      },
      "execution_count": null,
      "outputs": []
    },
    {
      "cell_type": "markdown",
      "source": [
        "ROC"
      ],
      "metadata": {
        "id": "db034zqJ2cPS"
      }
    },
    {
      "cell_type": "code",
      "source": [
        "completetrueGraphFacebook = nx.complete_graph(trueGraphFacebook.nodes())"
      ],
      "metadata": {
        "id": "rQ6-9-RW5Zz5"
      },
      "execution_count": 39,
      "outputs": []
    },
    {
      "cell_type": "code",
      "source": [
        "listOfAllPossibleEdges = list(completetrueGraphFacebook.edges())"
      ],
      "metadata": {
        "id": "89V-ydL36pCq"
      },
      "execution_count": 40,
      "outputs": []
    },
    {
      "cell_type": "code",
      "source": [
        "for edge in graphFacebookWithoutRemovedEdges:\n",
        "  listOfAllPossibleEdges.remove(edge)"
      ],
      "metadata": {
        "id": "FgW55bGeDAJX"
      },
      "execution_count": 41,
      "outputs": []
    },
    {
      "cell_type": "code",
      "source": [
        "listOfTrueGraphFacebooksEdges = []\n",
        "\n",
        "for edge in listOfAllPossibleEdges:\n",
        "  if edge in list(trueGraphFacebook.edges()):\n",
        "    listOfTrueGraphFacebooksEdges.append(1)\n",
        "  else:\n",
        "    listOfTrueGraphFacebooksEdges.append(0)"
      ],
      "metadata": {
        "id": "S7hZ4l5473XE"
      },
      "execution_count": 42,
      "outputs": []
    },
    {
      "cell_type": "code",
      "source": [
        "listOfProbabilityGraphFacebooksEdges = []\n",
        "\n",
        "for edgeA in listOfAllPossibleEdges:\n",
        "  valueHelper = []\n",
        "  for idx in range(0, len(listOfProbabilityEdges)):\n",
        "    edgeB = listOfProbabilityEdges[idx][0]\n",
        "    if edgeA == edgeB:\n",
        "      valueHelper.append(listOfProbabilityEdges[idx][1])\n",
        "    \n",
        "  if len(valueHelper) == 0:\n",
        "    listOfProbabilityGraphFacebooksEdges.append(0)\n",
        "  else:\n",
        "    listOfProbabilityGraphFacebooksEdges.append(valueHelper[0])"
      ],
      "metadata": {
        "id": "y-MmhFLK9RT6"
      },
      "execution_count": 77,
      "outputs": []
    },
    {
      "cell_type": "code",
      "source": [
        "listOfGraphFacebooksEdges = []\n",
        "\n",
        "for edgeA in listOfAllPossibleEdges:\n",
        "  valueHelper = []\n",
        "  for idx in range(0, len(listOfProbabilityEdges)):\n",
        "    edgeB = listOfProbabilityEdges[idx][0]\n",
        "    if edgeA == edgeB:\n",
        "      if listOfProbabilityEdges[idx][1] > 0.5:\n",
        "        valueHelper.append(1)\n",
        "      else:\n",
        "        valueHelper.append(0)\n",
        "  \n",
        "  if(len(valueHelper) == 0):\n",
        "    listOfGraphFacebooksEdges.append(0)\n",
        "  else:\n",
        "    listOfGraphFacebooksEdges.append(valueHelper[0])"
      ],
      "metadata": {
        "id": "5-Rfa_qmTWUI"
      },
      "execution_count": 93,
      "outputs": []
    },
    {
      "cell_type": "markdown",
      "source": [
        "ROC"
      ],
      "metadata": {
        "id": "UB4asin2NSAZ"
      }
    },
    {
      "cell_type": "code",
      "source": [
        "complementOfSpecificity, sensitivity, __ = roc_curve(listOfTrueGraphFacebooksEdges, listOfProbabilityGraphFacebooksEdges)"
      ],
      "metadata": {
        "id": "m2Q3uzckKtvH"
      },
      "execution_count": 78,
      "outputs": []
    },
    {
      "cell_type": "code",
      "source": [
        "def plot_roc_curve(fpr, tpr):\n",
        "    #fpr, tpr, thresholds = roc_curve(true_y, y_prob)\n",
        "    plt.plot(fpr, tpr)\n",
        "    plt.xlabel('False Positive Rate')\n",
        "    plt.ylabel('True Positive Rate')"
      ],
      "metadata": {
        "id": "PFO6LZJLtgVY"
      },
      "execution_count": 79,
      "outputs": []
    },
    {
      "cell_type": "code",
      "source": [
        "plot_roc_curve(complementOfSpecificity, sensitivity)"
      ],
      "metadata": {
        "colab": {
          "base_uri": "https://localhost:8080/",
          "height": 279
        },
        "id": "MmCcwvMI9g5W",
        "outputId": "4f6de241-0588-4e16-b436-0a1afbee5b2c"
      },
      "execution_count": 80,
      "outputs": [
        {
          "output_type": "display_data",
          "data": {
            "text/plain": [
              "<Figure size 432x288 with 1 Axes>"
            ],
            "image/png": "[encoded data removed]"
          },
          "metadata": {
            "needs_background": "light"
          }
        }
      ]
    },
    {
      "cell_type": "markdown",
      "source": [
        "AUROC"
      ],
      "metadata": {
        "id": "PpoxA2gqNUSa"
      }
    },
    {
      "cell_type": "code",
      "source": [
        "print(f'model 1 AUC score: {roc_auc_score(listOfTrueGraphFacebooksEdges, listOfProbabilityGraphFacebooksEdges)}')"
      ],
      "metadata": {
        "colab": {
          "base_uri": "https://localhost:8080/"
        },
        "id": "rukUCgcItgSi",
        "outputId": "cba52857-6829-41bd-b4ec-6b0990da8bc8"
      },
      "execution_count": 81,
      "outputs": [
        {
          "output_type": "stream",
          "name": "stdout",
          "text": [
            "model 1 AUC score: 0.5628147508390235\n"
          ]
        }
      ]
    },
    {
      "cell_type": "markdown",
      "source": [
        "Precision"
      ],
      "metadata": {
        "id": "2ds2ftQGNfXw"
      }
    },
    {
      "cell_type": "code",
      "source": [
        "precision = precision_score(listOfTrueGraphFacebooksEdges, listOfGraphFacebooksEdges)"
      ],
      "metadata": {
        "id": "goAPfuKv6D9i"
      },
      "execution_count": 95,
      "outputs": []
    },
    {
      "cell_type": "code",
      "source": [
        "precision"
      ],
      "metadata": {
        "colab": {
          "base_uri": "https://localhost:8080/"
        },
        "id": "cjr-7ICw6D69",
        "outputId": "4ed28493-75fe-4c78-c050-c1239c28787a"
      },
      "execution_count": 96,
      "outputs": [
        {
          "output_type": "execute_result",
          "data": {
            "text/plain": [
              "0.13333333333333333"
            ]
          },
          "metadata": {},
          "execution_count": 96
        }
      ]
    },
    {
      "cell_type": "markdown",
      "source": [
        "Accuracy"
      ],
      "metadata": {
        "id": "w7aoderQW99j"
      }
    },
    {
      "cell_type": "code",
      "source": [
        "accuracy = accuracy_score(listOfTrueGraphFacebooksEdges, listOfGraphFacebooksEdges)"
      ],
      "metadata": {
        "id": "8yx61nNm6D3n"
      },
      "execution_count": 98,
      "outputs": []
    },
    {
      "cell_type": "code",
      "source": [
        "accuracy"
      ],
      "metadata": {
        "colab": {
          "base_uri": "https://localhost:8080/"
        },
        "id": "ao3iryP96D0u",
        "outputId": "5c23e652-b7a0-45cf-9ccd-5e599c196cfb"
      },
      "execution_count": 99,
      "outputs": [
        {
          "output_type": "execute_result",
          "data": {
            "text/plain": [
              "0.9745104134286603"
            ]
          },
          "metadata": {},
          "execution_count": 99
        }
      ]
    },
    {
      "cell_type": "code",
      "source": [],
      "metadata": {
        "id": "27Dy_l5K6DxK"
      },
      "execution_count": null,
      "outputs": []
    },
    {
      "cell_type": "code",
      "source": [],
      "metadata": {
        "id": "q2ff9dS0tgBd"
      },
      "execution_count": null,
      "outputs": []
    },
    {
      "cell_type": "code",
      "source": [],
      "metadata": {
        "id": "si0xLy8Ttf-j"
      },
      "execution_count": null,
      "outputs": []
    },
    {
      "cell_type": "code",
      "source": [],
      "metadata": {
        "id": "nwU8UXzStf7o"
      },
      "execution_count": null,
      "outputs": []
    },
    {
      "cell_type": "code",
      "source": [],
      "metadata": {
        "id": "oYq7YjIQtf4w"
      },
      "execution_count": null,
      "outputs": []
    },
    {
      "cell_type": "code",
      "source": [],
      "metadata": {
        "id": "7z0Rb-K-tfyw"
      },
      "execution_count": null,
      "outputs": []
    },
    {
      "cell_type": "code",
      "source": [],
      "metadata": {
        "id": "FQldIMabtfv_"
      },
      "execution_count": null,
      "outputs": []
    },
    {
      "cell_type": "code",
      "source": [],
      "metadata": {
        "id": "JhSttRuetftT"
      },
      "execution_count": null,
      "outputs": []
    },
    {
      "cell_type": "code",
      "source": [],
      "metadata": {
        "id": "9_xXa9Zatfqj"
      },
      "execution_count": null,
      "outputs": []
    },
    {
      "cell_type": "code",
      "source": [],
      "metadata": {
        "id": "04bT1NsItflY"
      },
      "execution_count": null,
      "outputs": []
    },
    {
      "cell_type": "code",
      "source": [],
      "metadata": {
        "id": "L3eZJxMXtfi4"
      },
      "execution_count": null,
      "outputs": []
    },
    {
      "cell_type": "code",
      "source": [],
      "metadata": {
        "id": "MSHsjMk5tfSv"
      },
      "execution_count": null,
      "outputs": []
    }
  ]
}